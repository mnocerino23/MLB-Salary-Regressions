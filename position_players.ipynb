{
  "nbformat": 4,
  "nbformat_minor": 0,
  "metadata": {
    "colab": {
      "name": "position_players.ipynb",
      "provenance": [],
      "collapsed_sections": []
    },
    "kernelspec": {
      "name": "python3",
      "display_name": "Python 3"
    },
    "language_info": {
      "name": "python"
    }
  },
  "cells": [
    {
      "cell_type": "code",
      "execution_count": 259,
      "metadata": {
        "colab": {
          "base_uri": "https://localhost:8080/"
        },
        "id": "diqtoiTdI5B0",
        "outputId": "fb997f8e-b52d-414e-f483-712290384927"
      },
      "outputs": [
        {
          "output_type": "stream",
          "name": "stdout",
          "text": [
            "Drive already mounted at /content/drive; to attempt to forcibly remount, call drive.mount(\"/content/drive\", force_remount=True).\n"
          ]
        }
      ],
      "source": [
        "#In this file, I will finish preprocessing by normalizing the columns in the dataframe\n",
        "#and then go on to visualize the data then build regression models to predict the salary of an MLB player\n",
        "import pandas as pd\n",
        "from google.colab import drive\n",
        "drive.mount('/content/drive')\n",
        "stats = pd.read_csv('/content/drive/MyDrive/Data_Science_Projects/2019_stats_clean.csv')"
      ]
    },
    {
      "cell_type": "code",
      "source": [
        "#Drop the only two categorical features in the dataframe: player name and team id\n",
        "stats.drop(['name','teamID'], axis = 1, inplace = True)"
      ],
      "metadata": {
        "id": "RhGtLMFaJkpX"
      },
      "execution_count": 260,
      "outputs": []
    },
    {
      "cell_type": "code",
      "source": [
        "stats.head()"
      ],
      "metadata": {
        "colab": {
          "base_uri": "https://localhost:8080/",
          "height": 235
        },
        "id": "Mh-V1oPCvlq3",
        "outputId": "a4b1309b-383c-44de-95ba-10a6a62ffd49"
      },
      "execution_count": 261,
      "outputs": [
        {
          "output_type": "execute_result",
          "data": {
            "text/plain": [
              "   age      G    tap     AB     R      H    db   tr    HR    RBI  ...  \\\n",
              "0   32  159.0  693.0  634.0  85.0  180.0  38.0  1.0  33.0  123.0  ...   \n",
              "1   23  152.0  584.0  531.0  69.0  135.0  25.0  1.0  20.0   52.0  ...   \n",
              "2   30  111.0  333.0  310.0  42.0   70.0  14.0  0.0  20.0   56.0  ...   \n",
              "3   29   83.0  234.0  202.0  34.0   55.0   8.0  3.0   5.0   22.0  ...   \n",
              "4   29  158.0  625.0  556.0  79.0  141.0  33.0  6.0  19.0   82.0  ...   \n",
              "\n",
              "   position_3B  position_C  position_DH  position_OF  position_SS  throws_L  \\\n",
              "0            0           0            0            0            0         0   \n",
              "1            0           0            0            0            1         0   \n",
              "2            0           0            0            0            0         0   \n",
              "3            1           0            0            0            0         0   \n",
              "4            0           0            0            0            1         0   \n",
              "\n",
              "   throws_R  bats_B  bats_L  bats_R  \n",
              "0         1       0       0       1  \n",
              "1         1       0       0       1  \n",
              "2         1       0       1       0  \n",
              "3         1       1       0       0  \n",
              "4         1       0       0       1  \n",
              "\n",
              "[5 rows x 42 columns]"
            ],
            "text/html": [
              "\n",
              "  <div id=\"df-5eb0b305-98b7-4770-b6ff-330fadb50bb4\">\n",
              "    <div class=\"colab-df-container\">\n",
              "      <div>\n",
              "<style scoped>\n",
              "    .dataframe tbody tr th:only-of-type {\n",
              "        vertical-align: middle;\n",
              "    }\n",
              "\n",
              "    .dataframe tbody tr th {\n",
              "        vertical-align: top;\n",
              "    }\n",
              "\n",
              "    .dataframe thead th {\n",
              "        text-align: right;\n",
              "    }\n",
              "</style>\n",
              "<table border=\"1\" class=\"dataframe\">\n",
              "  <thead>\n",
              "    <tr style=\"text-align: right;\">\n",
              "      <th></th>\n",
              "      <th>age</th>\n",
              "      <th>G</th>\n",
              "      <th>tap</th>\n",
              "      <th>AB</th>\n",
              "      <th>R</th>\n",
              "      <th>H</th>\n",
              "      <th>db</th>\n",
              "      <th>tr</th>\n",
              "      <th>HR</th>\n",
              "      <th>RBI</th>\n",
              "      <th>...</th>\n",
              "      <th>position_3B</th>\n",
              "      <th>position_C</th>\n",
              "      <th>position_DH</th>\n",
              "      <th>position_OF</th>\n",
              "      <th>position_SS</th>\n",
              "      <th>throws_L</th>\n",
              "      <th>throws_R</th>\n",
              "      <th>bats_B</th>\n",
              "      <th>bats_L</th>\n",
              "      <th>bats_R</th>\n",
              "    </tr>\n",
              "  </thead>\n",
              "  <tbody>\n",
              "    <tr>\n",
              "      <th>0</th>\n",
              "      <td>32</td>\n",
              "      <td>159.0</td>\n",
              "      <td>693.0</td>\n",
              "      <td>634.0</td>\n",
              "      <td>85.0</td>\n",
              "      <td>180.0</td>\n",
              "      <td>38.0</td>\n",
              "      <td>1.0</td>\n",
              "      <td>33.0</td>\n",
              "      <td>123.0</td>\n",
              "      <td>...</td>\n",
              "      <td>0</td>\n",
              "      <td>0</td>\n",
              "      <td>0</td>\n",
              "      <td>0</td>\n",
              "      <td>0</td>\n",
              "      <td>0</td>\n",
              "      <td>1</td>\n",
              "      <td>0</td>\n",
              "      <td>0</td>\n",
              "      <td>1</td>\n",
              "    </tr>\n",
              "    <tr>\n",
              "      <th>1</th>\n",
              "      <td>23</td>\n",
              "      <td>152.0</td>\n",
              "      <td>584.0</td>\n",
              "      <td>531.0</td>\n",
              "      <td>69.0</td>\n",
              "      <td>135.0</td>\n",
              "      <td>25.0</td>\n",
              "      <td>1.0</td>\n",
              "      <td>20.0</td>\n",
              "      <td>52.0</td>\n",
              "      <td>...</td>\n",
              "      <td>0</td>\n",
              "      <td>0</td>\n",
              "      <td>0</td>\n",
              "      <td>0</td>\n",
              "      <td>1</td>\n",
              "      <td>0</td>\n",
              "      <td>1</td>\n",
              "      <td>0</td>\n",
              "      <td>0</td>\n",
              "      <td>1</td>\n",
              "    </tr>\n",
              "    <tr>\n",
              "      <th>2</th>\n",
              "      <td>30</td>\n",
              "      <td>111.0</td>\n",
              "      <td>333.0</td>\n",
              "      <td>310.0</td>\n",
              "      <td>42.0</td>\n",
              "      <td>70.0</td>\n",
              "      <td>14.0</td>\n",
              "      <td>0.0</td>\n",
              "      <td>20.0</td>\n",
              "      <td>56.0</td>\n",
              "      <td>...</td>\n",
              "      <td>0</td>\n",
              "      <td>0</td>\n",
              "      <td>0</td>\n",
              "      <td>0</td>\n",
              "      <td>0</td>\n",
              "      <td>0</td>\n",
              "      <td>1</td>\n",
              "      <td>0</td>\n",
              "      <td>1</td>\n",
              "      <td>0</td>\n",
              "    </tr>\n",
              "    <tr>\n",
              "      <th>3</th>\n",
              "      <td>29</td>\n",
              "      <td>83.0</td>\n",
              "      <td>234.0</td>\n",
              "      <td>202.0</td>\n",
              "      <td>34.0</td>\n",
              "      <td>55.0</td>\n",
              "      <td>8.0</td>\n",
              "      <td>3.0</td>\n",
              "      <td>5.0</td>\n",
              "      <td>22.0</td>\n",
              "      <td>...</td>\n",
              "      <td>1</td>\n",
              "      <td>0</td>\n",
              "      <td>0</td>\n",
              "      <td>0</td>\n",
              "      <td>0</td>\n",
              "      <td>0</td>\n",
              "      <td>1</td>\n",
              "      <td>1</td>\n",
              "      <td>0</td>\n",
              "      <td>0</td>\n",
              "    </tr>\n",
              "    <tr>\n",
              "      <th>4</th>\n",
              "      <td>29</td>\n",
              "      <td>158.0</td>\n",
              "      <td>625.0</td>\n",
              "      <td>556.0</td>\n",
              "      <td>79.0</td>\n",
              "      <td>141.0</td>\n",
              "      <td>33.0</td>\n",
              "      <td>6.0</td>\n",
              "      <td>19.0</td>\n",
              "      <td>82.0</td>\n",
              "      <td>...</td>\n",
              "      <td>0</td>\n",
              "      <td>0</td>\n",
              "      <td>0</td>\n",
              "      <td>0</td>\n",
              "      <td>1</td>\n",
              "      <td>0</td>\n",
              "      <td>1</td>\n",
              "      <td>0</td>\n",
              "      <td>0</td>\n",
              "      <td>1</td>\n",
              "    </tr>\n",
              "  </tbody>\n",
              "</table>\n",
              "<p>5 rows × 42 columns</p>\n",
              "</div>\n",
              "      <button class=\"colab-df-convert\" onclick=\"convertToInteractive('df-5eb0b305-98b7-4770-b6ff-330fadb50bb4')\"\n",
              "              title=\"Convert this dataframe to an interactive table.\"\n",
              "              style=\"display:none;\">\n",
              "        \n",
              "  <svg xmlns=\"http://www.w3.org/2000/svg\" height=\"24px\"viewBox=\"0 0 24 24\"\n",
              "       width=\"24px\">\n",
              "    <path d=\"M0 0h24v24H0V0z\" fill=\"none\"/>\n",
              "    <path d=\"M18.56 5.44l.94 2.06.94-2.06 2.06-.94-2.06-.94-.94-2.06-.94 2.06-2.06.94zm-11 1L8.5 8.5l.94-2.06 2.06-.94-2.06-.94L8.5 2.5l-.94 2.06-2.06.94zm10 10l.94 2.06.94-2.06 2.06-.94-2.06-.94-.94-2.06-.94 2.06-2.06.94z\"/><path d=\"M17.41 7.96l-1.37-1.37c-.4-.4-.92-.59-1.43-.59-.52 0-1.04.2-1.43.59L10.3 9.45l-7.72 7.72c-.78.78-.78 2.05 0 2.83L4 21.41c.39.39.9.59 1.41.59.51 0 1.02-.2 1.41-.59l7.78-7.78 2.81-2.81c.8-.78.8-2.07 0-2.86zM5.41 20L4 18.59l7.72-7.72 1.47 1.35L5.41 20z\"/>\n",
              "  </svg>\n",
              "      </button>\n",
              "      \n",
              "  <style>\n",
              "    .colab-df-container {\n",
              "      display:flex;\n",
              "      flex-wrap:wrap;\n",
              "      gap: 12px;\n",
              "    }\n",
              "\n",
              "    .colab-df-convert {\n",
              "      background-color: #E8F0FE;\n",
              "      border: none;\n",
              "      border-radius: 50%;\n",
              "      cursor: pointer;\n",
              "      display: none;\n",
              "      fill: #1967D2;\n",
              "      height: 32px;\n",
              "      padding: 0 0 0 0;\n",
              "      width: 32px;\n",
              "    }\n",
              "\n",
              "    .colab-df-convert:hover {\n",
              "      background-color: #E2EBFA;\n",
              "      box-shadow: 0px 1px 2px rgba(60, 64, 67, 0.3), 0px 1px 3px 1px rgba(60, 64, 67, 0.15);\n",
              "      fill: #174EA6;\n",
              "    }\n",
              "\n",
              "    [theme=dark] .colab-df-convert {\n",
              "      background-color: #3B4455;\n",
              "      fill: #D2E3FC;\n",
              "    }\n",
              "\n",
              "    [theme=dark] .colab-df-convert:hover {\n",
              "      background-color: #434B5C;\n",
              "      box-shadow: 0px 1px 3px 1px rgba(0, 0, 0, 0.15);\n",
              "      filter: drop-shadow(0px 1px 2px rgba(0, 0, 0, 0.3));\n",
              "      fill: #FFFFFF;\n",
              "    }\n",
              "  </style>\n",
              "\n",
              "      <script>\n",
              "        const buttonEl =\n",
              "          document.querySelector('#df-5eb0b305-98b7-4770-b6ff-330fadb50bb4 button.colab-df-convert');\n",
              "        buttonEl.style.display =\n",
              "          google.colab.kernel.accessAllowed ? 'block' : 'none';\n",
              "\n",
              "        async function convertToInteractive(key) {\n",
              "          const element = document.querySelector('#df-5eb0b305-98b7-4770-b6ff-330fadb50bb4');\n",
              "          const dataTable =\n",
              "            await google.colab.kernel.invokeFunction('convertToInteractive',\n",
              "                                                     [key], {});\n",
              "          if (!dataTable) return;\n",
              "\n",
              "          const docLinkHtml = 'Like what you see? Visit the ' +\n",
              "            '<a target=\"_blank\" href=https://colab.research.google.com/notebooks/data_table.ipynb>data table notebook</a>'\n",
              "            + ' to learn more about interactive tables.';\n",
              "          element.innerHTML = '';\n",
              "          dataTable['output_type'] = 'display_data';\n",
              "          await google.colab.output.renderOutput(dataTable, element);\n",
              "          const docLink = document.createElement('div');\n",
              "          docLink.innerHTML = docLinkHtml;\n",
              "          element.appendChild(docLink);\n",
              "        }\n",
              "      </script>\n",
              "    </div>\n",
              "  </div>\n",
              "  "
            ]
          },
          "metadata": {},
          "execution_count": 261
        }
      ]
    },
    {
      "cell_type": "code",
      "source": [
        "#Need to normalize all features besides those that are already one hot encoded (those before the last 12).\n",
        "#We will implement a min-max normalization technique below \n",
        "import numpy as np\n",
        "from sklearn.preprocessing import MinMaxScaler\n",
        "scale = MinMaxScaler()\n",
        "normalized = scale.fit_transform(stats)\n",
        "print(normalized)"
      ],
      "metadata": {
        "id": "rm0a4o5aMaOI",
        "colab": {
          "base_uri": "https://localhost:8080/"
        },
        "outputId": "7dc263fa-89a8-4088-8da8-79653f92cd43"
      },
      "execution_count": 262,
      "outputs": [
        {
          "output_type": "stream",
          "name": "stdout",
          "text": [
            "[[0.6        0.98064516 0.92692828 ... 0.         0.         1.        ]\n",
            " [0.15       0.93548387 0.77943166 ... 0.         0.         1.        ]\n",
            " [0.5        0.67096774 0.43978349 ... 0.         1.         0.        ]\n",
            " ...\n",
            " [0.7        0.29032258 0.24627876 ... 0.         0.         1.        ]\n",
            " [0.9        0.25806452 0.22733424 ... 1.         0.         0.        ]\n",
            " [0.4        0.53548387 0.38024357 ... 0.         0.         1.        ]]\n"
          ]
        }
      ]
    },
    {
      "cell_type": "code",
      "source": [
        "#Convert from numpy array with min-max normalized values to a Pandas Dataframe\n",
        "stats_normalized = pd.DataFrame(normalized, columns = stats.columns)\n",
        "stats_normalized.head()"
      ],
      "metadata": {
        "colab": {
          "base_uri": "https://localhost:8080/",
          "height": 299
        },
        "id": "JdXaJ_AkydD5",
        "outputId": "829254b1-fb92-4284-9feb-ff12996d170e"
      },
      "execution_count": 263,
      "outputs": [
        {
          "output_type": "execute_result",
          "data": {
            "text/plain": [
              "    age         G       tap        AB         R         H        db   tr  \\\n",
              "0  0.60  0.980645  0.926928  0.930267  0.629630  0.873786  0.655172  0.1   \n",
              "1  0.15  0.935484  0.779432  0.777448  0.511111  0.655340  0.431034  0.1   \n",
              "2  0.50  0.670968  0.439783  0.449555  0.311111  0.339806  0.241379  0.0   \n",
              "3  0.45  0.490323  0.305819  0.289318  0.251852  0.266990  0.137931  0.3   \n",
              "4  0.45  0.974194  0.834912  0.814540  0.585185  0.684466  0.568966  0.6   \n",
              "\n",
              "         HR       RBI  ...  position_3B  position_C  position_DH  position_OF  \\\n",
              "0  0.622642  0.976190  ...          0.0         0.0          0.0          0.0   \n",
              "1  0.377358  0.412698  ...          0.0         0.0          0.0          0.0   \n",
              "2  0.377358  0.444444  ...          0.0         0.0          0.0          0.0   \n",
              "3  0.094340  0.174603  ...          1.0         0.0          0.0          0.0   \n",
              "4  0.358491  0.650794  ...          0.0         0.0          0.0          0.0   \n",
              "\n",
              "   position_SS  throws_L  throws_R  bats_B  bats_L  bats_R  \n",
              "0          0.0       0.0       1.0     0.0     0.0     1.0  \n",
              "1          1.0       0.0       1.0     0.0     0.0     1.0  \n",
              "2          0.0       0.0       1.0     0.0     1.0     0.0  \n",
              "3          0.0       0.0       1.0     1.0     0.0     0.0  \n",
              "4          1.0       0.0       1.0     0.0     0.0     1.0  \n",
              "\n",
              "[5 rows x 42 columns]"
            ],
            "text/html": [
              "\n",
              "  <div id=\"df-345d5b10-6492-4259-a9fb-c0557e0551a0\">\n",
              "    <div class=\"colab-df-container\">\n",
              "      <div>\n",
              "<style scoped>\n",
              "    .dataframe tbody tr th:only-of-type {\n",
              "        vertical-align: middle;\n",
              "    }\n",
              "\n",
              "    .dataframe tbody tr th {\n",
              "        vertical-align: top;\n",
              "    }\n",
              "\n",
              "    .dataframe thead th {\n",
              "        text-align: right;\n",
              "    }\n",
              "</style>\n",
              "<table border=\"1\" class=\"dataframe\">\n",
              "  <thead>\n",
              "    <tr style=\"text-align: right;\">\n",
              "      <th></th>\n",
              "      <th>age</th>\n",
              "      <th>G</th>\n",
              "      <th>tap</th>\n",
              "      <th>AB</th>\n",
              "      <th>R</th>\n",
              "      <th>H</th>\n",
              "      <th>db</th>\n",
              "      <th>tr</th>\n",
              "      <th>HR</th>\n",
              "      <th>RBI</th>\n",
              "      <th>...</th>\n",
              "      <th>position_3B</th>\n",
              "      <th>position_C</th>\n",
              "      <th>position_DH</th>\n",
              "      <th>position_OF</th>\n",
              "      <th>position_SS</th>\n",
              "      <th>throws_L</th>\n",
              "      <th>throws_R</th>\n",
              "      <th>bats_B</th>\n",
              "      <th>bats_L</th>\n",
              "      <th>bats_R</th>\n",
              "    </tr>\n",
              "  </thead>\n",
              "  <tbody>\n",
              "    <tr>\n",
              "      <th>0</th>\n",
              "      <td>0.60</td>\n",
              "      <td>0.980645</td>\n",
              "      <td>0.926928</td>\n",
              "      <td>0.930267</td>\n",
              "      <td>0.629630</td>\n",
              "      <td>0.873786</td>\n",
              "      <td>0.655172</td>\n",
              "      <td>0.1</td>\n",
              "      <td>0.622642</td>\n",
              "      <td>0.976190</td>\n",
              "      <td>...</td>\n",
              "      <td>0.0</td>\n",
              "      <td>0.0</td>\n",
              "      <td>0.0</td>\n",
              "      <td>0.0</td>\n",
              "      <td>0.0</td>\n",
              "      <td>0.0</td>\n",
              "      <td>1.0</td>\n",
              "      <td>0.0</td>\n",
              "      <td>0.0</td>\n",
              "      <td>1.0</td>\n",
              "    </tr>\n",
              "    <tr>\n",
              "      <th>1</th>\n",
              "      <td>0.15</td>\n",
              "      <td>0.935484</td>\n",
              "      <td>0.779432</td>\n",
              "      <td>0.777448</td>\n",
              "      <td>0.511111</td>\n",
              "      <td>0.655340</td>\n",
              "      <td>0.431034</td>\n",
              "      <td>0.1</td>\n",
              "      <td>0.377358</td>\n",
              "      <td>0.412698</td>\n",
              "      <td>...</td>\n",
              "      <td>0.0</td>\n",
              "      <td>0.0</td>\n",
              "      <td>0.0</td>\n",
              "      <td>0.0</td>\n",
              "      <td>1.0</td>\n",
              "      <td>0.0</td>\n",
              "      <td>1.0</td>\n",
              "      <td>0.0</td>\n",
              "      <td>0.0</td>\n",
              "      <td>1.0</td>\n",
              "    </tr>\n",
              "    <tr>\n",
              "      <th>2</th>\n",
              "      <td>0.50</td>\n",
              "      <td>0.670968</td>\n",
              "      <td>0.439783</td>\n",
              "      <td>0.449555</td>\n",
              "      <td>0.311111</td>\n",
              "      <td>0.339806</td>\n",
              "      <td>0.241379</td>\n",
              "      <td>0.0</td>\n",
              "      <td>0.377358</td>\n",
              "      <td>0.444444</td>\n",
              "      <td>...</td>\n",
              "      <td>0.0</td>\n",
              "      <td>0.0</td>\n",
              "      <td>0.0</td>\n",
              "      <td>0.0</td>\n",
              "      <td>0.0</td>\n",
              "      <td>0.0</td>\n",
              "      <td>1.0</td>\n",
              "      <td>0.0</td>\n",
              "      <td>1.0</td>\n",
              "      <td>0.0</td>\n",
              "    </tr>\n",
              "    <tr>\n",
              "      <th>3</th>\n",
              "      <td>0.45</td>\n",
              "      <td>0.490323</td>\n",
              "      <td>0.305819</td>\n",
              "      <td>0.289318</td>\n",
              "      <td>0.251852</td>\n",
              "      <td>0.266990</td>\n",
              "      <td>0.137931</td>\n",
              "      <td>0.3</td>\n",
              "      <td>0.094340</td>\n",
              "      <td>0.174603</td>\n",
              "      <td>...</td>\n",
              "      <td>1.0</td>\n",
              "      <td>0.0</td>\n",
              "      <td>0.0</td>\n",
              "      <td>0.0</td>\n",
              "      <td>0.0</td>\n",
              "      <td>0.0</td>\n",
              "      <td>1.0</td>\n",
              "      <td>1.0</td>\n",
              "      <td>0.0</td>\n",
              "      <td>0.0</td>\n",
              "    </tr>\n",
              "    <tr>\n",
              "      <th>4</th>\n",
              "      <td>0.45</td>\n",
              "      <td>0.974194</td>\n",
              "      <td>0.834912</td>\n",
              "      <td>0.814540</td>\n",
              "      <td>0.585185</td>\n",
              "      <td>0.684466</td>\n",
              "      <td>0.568966</td>\n",
              "      <td>0.6</td>\n",
              "      <td>0.358491</td>\n",
              "      <td>0.650794</td>\n",
              "      <td>...</td>\n",
              "      <td>0.0</td>\n",
              "      <td>0.0</td>\n",
              "      <td>0.0</td>\n",
              "      <td>0.0</td>\n",
              "      <td>1.0</td>\n",
              "      <td>0.0</td>\n",
              "      <td>1.0</td>\n",
              "      <td>0.0</td>\n",
              "      <td>0.0</td>\n",
              "      <td>1.0</td>\n",
              "    </tr>\n",
              "  </tbody>\n",
              "</table>\n",
              "<p>5 rows × 42 columns</p>\n",
              "</div>\n",
              "      <button class=\"colab-df-convert\" onclick=\"convertToInteractive('df-345d5b10-6492-4259-a9fb-c0557e0551a0')\"\n",
              "              title=\"Convert this dataframe to an interactive table.\"\n",
              "              style=\"display:none;\">\n",
              "        \n",
              "  <svg xmlns=\"http://www.w3.org/2000/svg\" height=\"24px\"viewBox=\"0 0 24 24\"\n",
              "       width=\"24px\">\n",
              "    <path d=\"M0 0h24v24H0V0z\" fill=\"none\"/>\n",
              "    <path d=\"M18.56 5.44l.94 2.06.94-2.06 2.06-.94-2.06-.94-.94-2.06-.94 2.06-2.06.94zm-11 1L8.5 8.5l.94-2.06 2.06-.94-2.06-.94L8.5 2.5l-.94 2.06-2.06.94zm10 10l.94 2.06.94-2.06 2.06-.94-2.06-.94-.94-2.06-.94 2.06-2.06.94z\"/><path d=\"M17.41 7.96l-1.37-1.37c-.4-.4-.92-.59-1.43-.59-.52 0-1.04.2-1.43.59L10.3 9.45l-7.72 7.72c-.78.78-.78 2.05 0 2.83L4 21.41c.39.39.9.59 1.41.59.51 0 1.02-.2 1.41-.59l7.78-7.78 2.81-2.81c.8-.78.8-2.07 0-2.86zM5.41 20L4 18.59l7.72-7.72 1.47 1.35L5.41 20z\"/>\n",
              "  </svg>\n",
              "      </button>\n",
              "      \n",
              "  <style>\n",
              "    .colab-df-container {\n",
              "      display:flex;\n",
              "      flex-wrap:wrap;\n",
              "      gap: 12px;\n",
              "    }\n",
              "\n",
              "    .colab-df-convert {\n",
              "      background-color: #E8F0FE;\n",
              "      border: none;\n",
              "      border-radius: 50%;\n",
              "      cursor: pointer;\n",
              "      display: none;\n",
              "      fill: #1967D2;\n",
              "      height: 32px;\n",
              "      padding: 0 0 0 0;\n",
              "      width: 32px;\n",
              "    }\n",
              "\n",
              "    .colab-df-convert:hover {\n",
              "      background-color: #E2EBFA;\n",
              "      box-shadow: 0px 1px 2px rgba(60, 64, 67, 0.3), 0px 1px 3px 1px rgba(60, 64, 67, 0.15);\n",
              "      fill: #174EA6;\n",
              "    }\n",
              "\n",
              "    [theme=dark] .colab-df-convert {\n",
              "      background-color: #3B4455;\n",
              "      fill: #D2E3FC;\n",
              "    }\n",
              "\n",
              "    [theme=dark] .colab-df-convert:hover {\n",
              "      background-color: #434B5C;\n",
              "      box-shadow: 0px 1px 3px 1px rgba(0, 0, 0, 0.15);\n",
              "      filter: drop-shadow(0px 1px 2px rgba(0, 0, 0, 0.3));\n",
              "      fill: #FFFFFF;\n",
              "    }\n",
              "  </style>\n",
              "\n",
              "      <script>\n",
              "        const buttonEl =\n",
              "          document.querySelector('#df-345d5b10-6492-4259-a9fb-c0557e0551a0 button.colab-df-convert');\n",
              "        buttonEl.style.display =\n",
              "          google.colab.kernel.accessAllowed ? 'block' : 'none';\n",
              "\n",
              "        async function convertToInteractive(key) {\n",
              "          const element = document.querySelector('#df-345d5b10-6492-4259-a9fb-c0557e0551a0');\n",
              "          const dataTable =\n",
              "            await google.colab.kernel.invokeFunction('convertToInteractive',\n",
              "                                                     [key], {});\n",
              "          if (!dataTable) return;\n",
              "\n",
              "          const docLinkHtml = 'Like what you see? Visit the ' +\n",
              "            '<a target=\"_blank\" href=https://colab.research.google.com/notebooks/data_table.ipynb>data table notebook</a>'\n",
              "            + ' to learn more about interactive tables.';\n",
              "          element.innerHTML = '';\n",
              "          dataTable['output_type'] = 'display_data';\n",
              "          await google.colab.output.renderOutput(dataTable, element);\n",
              "          const docLink = document.createElement('div');\n",
              "          docLink.innerHTML = docLinkHtml;\n",
              "          element.appendChild(docLink);\n",
              "        }\n",
              "      </script>\n",
              "    </div>\n",
              "  </div>\n",
              "  "
            ]
          },
          "metadata": {},
          "execution_count": 263
        }
      ]
    },
    {
      "cell_type": "code",
      "source": [
        "#Before creating visualizations to decide which features play \n",
        "#a significant role here, we restrict our dataset to players who aren't on rookie contracts.\n",
        "#We do this because most young players on rookie contracts make around the same amount (regardless of their value based on their stats)\n",
        "stats_ = stats_normalized.loc[(stats_normalized['Rookie contract'] == 0)]"
      ],
      "metadata": {
        "id": "jQ4gL-XhBDKB"
      },
      "execution_count": 264,
      "outputs": []
    },
    {
      "cell_type": "code",
      "source": [
        "#Visualize what features contribute to salary for position players in the MLB.\n",
        "import matplotlib.pyplot as plt\n",
        "x = stats_['WAR']\n",
        "y = stats_['salary']\n",
        "plt.scatter(x,y,s=6.5, color = 'green')\n",
        "plt.xlabel('WAR')\n",
        "plt.ylabel('Salary (in millions)')\n",
        "plt.title('Salary vs. WAR')"
      ],
      "metadata": {
        "colab": {
          "base_uri": "https://localhost:8080/",
          "height": 312
        },
        "id": "9c1iuij77do5",
        "outputId": "0bec60f4-80f8-4eab-cb11-8309e13dabd5"
      },
      "execution_count": 265,
      "outputs": [
        {
          "output_type": "execute_result",
          "data": {
            "text/plain": [
              "Text(0.5, 1.0, 'Salary vs. WAR')"
            ]
          },
          "metadata": {},
          "execution_count": 265
        },
        {
          "output_type": "display_data",
          "data": {
            "text/plain": [
              "<Figure size 432x288 with 1 Axes>"
            ],
            "image/png": "[encoded data removed]"
          },
          "metadata": {
            "needs_background": "light"
          }
        }
      ]
    },
    {
      "cell_type": "code",
      "source": [
        "x = stats_['ops']\n",
        "y = stats_['salary']\n",
        "plt.scatter(x,y,s=6.5, color = 'green')\n",
        "plt.xlabel('OPS')\n",
        "plt.ylabel('Salary (in millions)')\n",
        "plt.title('Salary vs. OPS')"
      ],
      "metadata": {
        "colab": {
          "base_uri": "https://localhost:8080/",
          "height": 312
        },
        "id": "mKyAESjp7fWw",
        "outputId": "c05fc2be-38f3-4cf6-cd43-8b2ea73eb784"
      },
      "execution_count": 266,
      "outputs": [
        {
          "output_type": "execute_result",
          "data": {
            "text/plain": [
              "Text(0.5, 1.0, 'Salary vs. OPS')"
            ]
          },
          "metadata": {},
          "execution_count": 266
        },
        {
          "output_type": "display_data",
          "data": {
            "text/plain": [
              "<Figure size 432x288 with 1 Axes>"
            ],
            "image/png": "[encoded data removed]"
          },
          "metadata": {
            "needs_background": "light"
          }
        }
      ]
    },
    {
      "cell_type": "code",
      "source": [
        "x = stats_['HR']\n",
        "y = stats_['salary']\n",
        "plt.scatter(x,y,s=6.5, color = 'green')\n",
        "plt.xlabel('HR')\n",
        "plt.ylabel('Salary (in millions)')\n",
        "plt.title('Salary vs. Home Runs')"
      ],
      "metadata": {
        "colab": {
          "base_uri": "https://localhost:8080/",
          "height": 312
        },
        "id": "bwL68YuR7fe2",
        "outputId": "cd23b2b3-f999-4d31-887f-3a328d56c363"
      },
      "execution_count": 267,
      "outputs": [
        {
          "output_type": "execute_result",
          "data": {
            "text/plain": [
              "Text(0.5, 1.0, 'Salary vs. Home Runs')"
            ]
          },
          "metadata": {},
          "execution_count": 267
        },
        {
          "output_type": "display_data",
          "data": {
            "text/plain": [
              "<Figure size 432x288 with 1 Axes>"
            ],
            "image/png": "[encoded data removed]"
          },
          "metadata": {
            "needs_background": "light"
          }
        }
      ]
    },
    {
      "cell_type": "code",
      "source": [
        "x = stats_['RBI']\n",
        "y = stats_['salary']\n",
        "plt.scatter(x,y,s=6.5, color = 'green')\n",
        "plt.xlabel('RBI')\n",
        "plt.ylabel('Salary (in millions)')\n",
        "plt.title('Salary vs. RBI')"
      ],
      "metadata": {
        "colab": {
          "base_uri": "https://localhost:8080/",
          "height": 312
        },
        "id": "S96terut7fkK",
        "outputId": "c30e2ce8-99c7-4611-ef62-787b282f0ddc"
      },
      "execution_count": 268,
      "outputs": [
        {
          "output_type": "execute_result",
          "data": {
            "text/plain": [
              "Text(0.5, 1.0, 'Salary vs. RBI')"
            ]
          },
          "metadata": {},
          "execution_count": 268
        },
        {
          "output_type": "display_data",
          "data": {
            "text/plain": [
              "<Figure size 432x288 with 1 Axes>"
            ],
            "image/png": "[encoded data removed]"
          },
          "metadata": {
            "needs_background": "light"
          }
        }
      ]
    },
    {
      "cell_type": "code",
      "source": [
        "x = stats_['avg']\n",
        "y = stats_['salary']\n",
        "plt.scatter(x,y,s=6.5, color = 'green')\n",
        "plt.xlabel('avg')\n",
        "plt.ylabel('Salary (in millions)')\n",
        "plt.title('Salary vs. avg')"
      ],
      "metadata": {
        "colab": {
          "base_uri": "https://localhost:8080/",
          "height": 312
        },
        "id": "jjyjj7y97foV",
        "outputId": "a20b915e-19c8-4e32-f80f-50bc3f299cd9"
      },
      "execution_count": 269,
      "outputs": [
        {
          "output_type": "execute_result",
          "data": {
            "text/plain": [
              "Text(0.5, 1.0, 'Salary vs. avg')"
            ]
          },
          "metadata": {},
          "execution_count": 269
        },
        {
          "output_type": "display_data",
          "data": {
            "text/plain": [
              "<Figure size 432x288 with 1 Axes>"
            ],
            "image/png": "[encoded data removed]"
          },
          "metadata": {
            "needs_background": "light"
          }
        }
      ]
    },
    {
      "cell_type": "code",
      "source": [
        "x = stats_['H']\n",
        "y = stats_['salary']\n",
        "plt.scatter(x,y,s=6.5, color = 'green')\n",
        "plt.xlabel('hits')\n",
        "plt.ylabel('Salary (in millions)')\n",
        "plt.title('Salary vs. hits')"
      ],
      "metadata": {
        "colab": {
          "base_uri": "https://localhost:8080/",
          "height": 312
        },
        "id": "GV9R_NQA973z",
        "outputId": "6a7e7c68-7e6a-402f-db5c-0fecd4d39e6d"
      },
      "execution_count": 270,
      "outputs": [
        {
          "output_type": "execute_result",
          "data": {
            "text/plain": [
              "Text(0.5, 1.0, 'Salary vs. hits')"
            ]
          },
          "metadata": {},
          "execution_count": 270
        },
        {
          "output_type": "display_data",
          "data": {
            "text/plain": [
              "<Figure size 432x288 with 1 Axes>"
            ],
            "image/png": "[encoded data removed]"
          },
          "metadata": {
            "needs_background": "light"
          }
        }
      ]
    },
    {
      "cell_type": "code",
      "source": [
        "x = stats_['G']\n",
        "y = stats_['salary']\n",
        "plt.scatter(x,y,s=6.5, color = 'green')\n",
        "plt.xlabel('games')\n",
        "plt.ylabel('Salary (in millions)')\n",
        "plt.title('Salary vs. games')"
      ],
      "metadata": {
        "colab": {
          "base_uri": "https://localhost:8080/",
          "height": 312
        },
        "id": "NTQ9Huin-HIH",
        "outputId": "42667643-b839-49e6-857d-7a37d7899413"
      },
      "execution_count": 271,
      "outputs": [
        {
          "output_type": "execute_result",
          "data": {
            "text/plain": [
              "Text(0.5, 1.0, 'Salary vs. games')"
            ]
          },
          "metadata": {},
          "execution_count": 271
        },
        {
          "output_type": "display_data",
          "data": {
            "text/plain": [
              "<Figure size 432x288 with 1 Axes>"
            ],
            "image/png": "[encoded data removed]"
          },
          "metadata": {
            "needs_background": "light"
          }
        }
      ]
    },
    {
      "cell_type": "code",
      "source": [
        "x = stats_['GURU']\n",
        "y = stats_['salary']\n",
        "plt.scatter(x,y,s=6.5, color = 'green')\n",
        "plt.xlabel('GURU')\n",
        "plt.ylabel('Salary (in millions)')\n",
        "plt.title('Salary vs. GURU')"
      ],
      "metadata": {
        "colab": {
          "base_uri": "https://localhost:8080/",
          "height": 312
        },
        "id": "RS3XHYD--4T3",
        "outputId": "e51e7d84-6022-40ec-c118-afe589086ce2"
      },
      "execution_count": 272,
      "outputs": [
        {
          "output_type": "execute_result",
          "data": {
            "text/plain": [
              "Text(0.5, 1.0, 'Salary vs. GURU')"
            ]
          },
          "metadata": {},
          "execution_count": 272
        },
        {
          "output_type": "display_data",
          "data": {
            "text/plain": [
              "<Figure size 432x288 with 1 Axes>"
            ],
            "image/png": "[encoded data removed]"
          },
          "metadata": {
            "needs_background": "light"
          }
        }
      ]
    },
    {
      "cell_type": "code",
      "source": [
        "x = stats_['PRO']\n",
        "y = stats_['salary']\n",
        "plt.scatter(x,y,s=6.5, color = 'green')\n",
        "plt.xlabel('PRO')\n",
        "plt.ylabel('Salary (in millions)')\n",
        "plt.title('Salary vs. PRO')"
      ],
      "metadata": {
        "colab": {
          "base_uri": "https://localhost:8080/",
          "height": 312
        },
        "id": "2Cs_dJeu7a0v",
        "outputId": "acbc09d8-9e7c-45cc-c651-72d1bf987e72"
      },
      "execution_count": 273,
      "outputs": [
        {
          "output_type": "execute_result",
          "data": {
            "text/plain": [
              "Text(0.5, 1.0, 'Salary vs. PRO')"
            ]
          },
          "metadata": {},
          "execution_count": 273
        },
        {
          "output_type": "display_data",
          "data": {
            "text/plain": [
              "<Figure size 432x288 with 1 Axes>"
            ],
            "image/png": "[encoded data removed]"
          },
          "metadata": {
            "needs_background": "light"
          }
        }
      ]
    },
    {
      "cell_type": "code",
      "source": [
        "x = stats_['obp']\n",
        "y = stats_['salary']\n",
        "plt.scatter(x,y,s=6.5, color = 'green')\n",
        "plt.xlabel('OBP')\n",
        "plt.ylabel('Salary (in millions)')\n",
        "plt.title('Salary vs. OBP')"
      ],
      "metadata": {
        "id": "TSKT77_R_FVH",
        "colab": {
          "base_uri": "https://localhost:8080/",
          "height": 312
        },
        "outputId": "fcc00d15-fe29-43b0-bcef-7dfd890a341d"
      },
      "execution_count": 274,
      "outputs": [
        {
          "output_type": "execute_result",
          "data": {
            "text/plain": [
              "Text(0.5, 1.0, 'Salary vs. OBP')"
            ]
          },
          "metadata": {},
          "execution_count": 274
        },
        {
          "output_type": "display_data",
          "data": {
            "text/plain": [
              "<Figure size 432x288 with 1 Axes>"
            ],
            "image/png": "[encoded data removed]"
          },
          "metadata": {
            "needs_background": "light"
          }
        }
      ]
    },
    {
      "cell_type": "code",
      "source": [
        "x = stats_['slg']\n",
        "y = stats_['salary']\n",
        "plt.scatter(x,y,s=6.5, color = 'green')\n",
        "plt.xlabel('slugging')\n",
        "plt.ylabel('Salary (in millions)')\n",
        "plt.title('Salary vs. SLG%')"
      ],
      "metadata": {
        "id": "9C4N2Sf5-66n",
        "colab": {
          "base_uri": "https://localhost:8080/",
          "height": 312
        },
        "outputId": "0e689853-5568-4281-d53d-3efd6ed9b9ce"
      },
      "execution_count": 275,
      "outputs": [
        {
          "output_type": "execute_result",
          "data": {
            "text/plain": [
              "Text(0.5, 1.0, 'Salary vs. SLG%')"
            ]
          },
          "metadata": {},
          "execution_count": 275
        },
        {
          "output_type": "display_data",
          "data": {
            "text/plain": [
              "<Figure size 432x288 with 1 Axes>"
            ],
            "image/png": "[encoded data removed]"
          },
          "metadata": {
            "needs_background": "light"
          }
        }
      ]
    },
    {
      "cell_type": "code",
      "source": [
        "x = stats_['SB']\n",
        "y = stats_['salary']\n",
        "plt.scatter(x,y,s=6.5, color = 'green')\n",
        "plt.xlabel('SB')\n",
        "plt.ylabel('Salary (in millions)')\n",
        "plt.title('Salary vs. Stolen Bases')"
      ],
      "metadata": {
        "colab": {
          "base_uri": "https://localhost:8080/",
          "height": 312
        },
        "id": "uVQqN-itAr0l",
        "outputId": "44f9f1d6-63ce-47fc-a362-50bab973ca42"
      },
      "execution_count": 276,
      "outputs": [
        {
          "output_type": "execute_result",
          "data": {
            "text/plain": [
              "Text(0.5, 1.0, 'Salary vs. Stolen Bases')"
            ]
          },
          "metadata": {},
          "execution_count": 276
        },
        {
          "output_type": "display_data",
          "data": {
            "text/plain": [
              "<Figure size 432x288 with 1 Axes>"
            ],
            "image/png": "[encoded data removed]"
          },
          "metadata": {
            "needs_background": "light"
          }
        }
      ]
    },
    {
      "cell_type": "code",
      "source": [
        "#We will start by doing position wide visualizations to see what features contribute to salary.\n",
        "#We continue to use the .loc function to filter our results\n",
        "import matplotlib.pyplot as plt\n",
        "first_base = stats_normalized.loc[(stats_normalized['position_1B'] == 1) & (stats_normalized['Rookie contract'] == 0)]\n",
        "\n",
        "x = first_base['ops']\n",
        "y = first_base['salary']\n",
        "plt.scatter(x,y,s=8, color = 'purple')\n",
        "plt.xlabel('OPS')\n",
        "plt.ylabel('Salary (in millions)')\n",
        "plt.title('Salary vs. OPS (1B)')"
      ],
      "metadata": {
        "colab": {
          "base_uri": "https://localhost:8080/",
          "height": 312
        },
        "id": "diXspz_TzrgZ",
        "outputId": "c44f497d-70c7-4d63-9e08-f63d4c5ab75d"
      },
      "execution_count": 277,
      "outputs": [
        {
          "output_type": "execute_result",
          "data": {
            "text/plain": [
              "Text(0.5, 1.0, 'Salary vs. OPS (1B)')"
            ]
          },
          "metadata": {},
          "execution_count": 277
        },
        {
          "output_type": "display_data",
          "data": {
            "text/plain": [
              "<Figure size 432x288 with 1 Axes>"
            ],
            "image/png": "[encoded data removed]"
          },
          "metadata": {
            "needs_background": "light"
          }
        }
      ]
    },
    {
      "cell_type": "code",
      "source": [
        "x = first_base['obp']\n",
        "y = first_base['salary']\n",
        "plt.scatter(x,y,s=8, color = 'purple')\n",
        "plt.xlabel('OBP')\n",
        "plt.ylabel('Salary (in millions)')\n",
        "plt.title('Salary vs. OBP (1B)')"
      ],
      "metadata": {
        "colab": {
          "base_uri": "https://localhost:8080/",
          "height": 312
        },
        "id": "0fwaUX-G3W9V",
        "outputId": "bd874675-2fd4-4840-e281-de0523c97ad0"
      },
      "execution_count": 278,
      "outputs": [
        {
          "output_type": "execute_result",
          "data": {
            "text/plain": [
              "Text(0.5, 1.0, 'Salary vs. OBP (1B)')"
            ]
          },
          "metadata": {},
          "execution_count": 278
        },
        {
          "output_type": "display_data",
          "data": {
            "text/plain": [
              "<Figure size 432x288 with 1 Axes>"
            ],
            "image/png": "[encoded data removed]"
          },
          "metadata": {
            "needs_background": "light"
          }
        }
      ]
    },
    {
      "cell_type": "code",
      "source": [
        "x = first_base['HR']\n",
        "y = first_base['salary']\n",
        "plt.scatter(x,y,s=8, color = 'purple')\n",
        "plt.xlabel('Homeruns')\n",
        "plt.ylabel('Salary (in millions)')\n",
        "plt.title('Salary vs. Homeruns (1B)')"
      ],
      "metadata": {
        "id": "_yvlj9KhtAxm",
        "outputId": "00790dd3-a0cd-474c-ed5f-df588f18b9be",
        "colab": {
          "base_uri": "https://localhost:8080/",
          "height": 312
        }
      },
      "execution_count": 279,
      "outputs": [
        {
          "output_type": "execute_result",
          "data": {
            "text/plain": [
              "Text(0.5, 1.0, 'Salary vs. Homeruns (1B)')"
            ]
          },
          "metadata": {},
          "execution_count": 279
        },
        {
          "output_type": "display_data",
          "data": {
            "text/plain": [
              "<Figure size 432x288 with 1 Axes>"
            ],
            "image/png": "[encoded data removed]"
          },
          "metadata": {
            "needs_background": "light"
          }
        }
      ]
    },
    {
      "cell_type": "code",
      "source": [
        "x = first_base['slg']\n",
        "y = first_base['salary']\n",
        "plt.scatter(x,y,s=8, color = 'purple')\n",
        "plt.xlabel('slugging')\n",
        "plt.ylabel('Salary (in millions)')\n",
        "plt.title('Salary vs. SLG% (1B)')"
      ],
      "metadata": {
        "id": "st08quMlouc6",
        "outputId": "f1f5a8f7-982e-48a6-c5f9-de981da3e8c7",
        "colab": {
          "base_uri": "https://localhost:8080/",
          "height": 312
        }
      },
      "execution_count": 280,
      "outputs": [
        {
          "output_type": "execute_result",
          "data": {
            "text/plain": [
              "Text(0.5, 1.0, 'Salary vs. SLG% (1B)')"
            ]
          },
          "metadata": {},
          "execution_count": 280
        },
        {
          "output_type": "display_data",
          "data": {
            "text/plain": [
              "<Figure size 432x288 with 1 Axes>"
            ],
            "image/png": "[encoded data removed]"
          },
          "metadata": {
            "needs_background": "light"
          }
        }
      ]
    },
    {
      "cell_type": "code",
      "source": [
        "x = first_base['age']\n",
        "y = first_base['salary']\n",
        "plt.scatter(x,y,s=8, color = 'purple')\n",
        "plt.xlabel('Age')\n",
        "plt.ylabel('Salary (in millions)')\n",
        "plt.title('Salary vs. Age (1B)')"
      ],
      "metadata": {
        "colab": {
          "base_uri": "https://localhost:8080/",
          "height": 312
        },
        "id": "Iw66aIc62Pyk",
        "outputId": "69a00938-4865-4b48-9a82-c76e380f015d"
      },
      "execution_count": 281,
      "outputs": [
        {
          "output_type": "execute_result",
          "data": {
            "text/plain": [
              "Text(0.5, 1.0, 'Salary vs. Age (1B)')"
            ]
          },
          "metadata": {},
          "execution_count": 281
        },
        {
          "output_type": "display_data",
          "data": {
            "text/plain": [
              "<Figure size 432x288 with 1 Axes>"
            ],
            "image/png": "[encoded data removed]"
          },
          "metadata": {
            "needs_background": "light"
          }
        }
      ]
    },
    {
      "cell_type": "code",
      "source": [
        "x = first_base['WAR']\n",
        "y = first_base['salary']\n",
        "plt.scatter(x,y,s=8, color = 'purple')\n",
        "plt.xlabel('Wins Above Replacement')\n",
        "plt.ylabel('Salary (in millions)')\n",
        "plt.title('Salary vs. Wins Above Replacement (1B)')"
      ],
      "metadata": {
        "colab": {
          "base_uri": "https://localhost:8080/",
          "height": 312
        },
        "id": "SQQQqEoI3WXB",
        "outputId": "f4257829-2ee3-4d25-c87b-7334dae2ca60"
      },
      "execution_count": 282,
      "outputs": [
        {
          "output_type": "execute_result",
          "data": {
            "text/plain": [
              "Text(0.5, 1.0, 'Salary vs. Wins Above Replacement (1B)')"
            ]
          },
          "metadata": {},
          "execution_count": 282
        },
        {
          "output_type": "display_data",
          "data": {
            "text/plain": [
              "<Figure size 432x288 with 1 Axes>"
            ],
            "image/png": "[encoded data removed]"
          },
          "metadata": {
            "needs_background": "light"
          }
        }
      ]
    },
    {
      "cell_type": "code",
      "source": [
        "x = first_base['RBI']\n",
        "y = first_base['salary']\n",
        "plt.scatter(x,y,s=8, color = 'purple')\n",
        "plt.xlabel('RBIs')\n",
        "plt.ylabel('Salary (in millions)')\n",
        "plt.title('Salary vs. RBIs (1B)')"
      ],
      "metadata": {
        "id": "9-vCJF3OoZgW",
        "outputId": "221818de-75bb-4e8a-a956-a1b853f1e755",
        "colab": {
          "base_uri": "https://localhost:8080/",
          "height": 312
        }
      },
      "execution_count": 283,
      "outputs": [
        {
          "output_type": "execute_result",
          "data": {
            "text/plain": [
              "Text(0.5, 1.0, 'Salary vs. RBIs (1B)')"
            ]
          },
          "metadata": {},
          "execution_count": 283
        },
        {
          "output_type": "display_data",
          "data": {
            "text/plain": [
              "<Figure size 432x288 with 1 Axes>"
            ],
            "image/png": "[encoded data removed]"
          },
          "metadata": {
            "needs_background": "light"
          }
        }
      ]
    },
    {
      "cell_type": "code",
      "source": [
        "x = first_base['H']\n",
        "y = first_base['salary']\n",
        "plt.scatter(x,y,s=8, color = 'purple')\n",
        "plt.xlabel('Hits')\n",
        "plt.ylabel('Salary (in millions)')\n",
        "plt.title('Salary vs. hits (1B)')"
      ],
      "metadata": {
        "id": "KeQkiH3hpS_f",
        "outputId": "bb0e928a-65a8-4bce-e1bf-48224e09e782",
        "colab": {
          "base_uri": "https://localhost:8080/",
          "height": 312
        }
      },
      "execution_count": 284,
      "outputs": [
        {
          "output_type": "execute_result",
          "data": {
            "text/plain": [
              "Text(0.5, 1.0, 'Salary vs. hits (1B)')"
            ]
          },
          "metadata": {},
          "execution_count": 284
        },
        {
          "output_type": "display_data",
          "data": {
            "text/plain": [
              "<Figure size 432x288 with 1 Axes>"
            ],
            "image/png": "[encoded data removed]"
          },
          "metadata": {
            "needs_background": "light"
          }
        }
      ]
    },
    {
      "cell_type": "code",
      "source": [
        "x = first_base['SO']\n",
        "y = first_base['salary']\n",
        "plt.scatter(x,y,s=8, color = 'purple')\n",
        "plt.xlabel('Strikeouts')\n",
        "plt.ylabel('Salary (in millions)')\n",
        "plt.title('Salary vs. Strikeouts (1B)')"
      ],
      "metadata": {
        "id": "LNR_ysv3qg8M",
        "outputId": "5e38d832-389f-4cf6-a9e2-1f4c4e72172a",
        "colab": {
          "base_uri": "https://localhost:8080/",
          "height": 312
        }
      },
      "execution_count": 285,
      "outputs": [
        {
          "output_type": "execute_result",
          "data": {
            "text/plain": [
              "Text(0.5, 1.0, 'Salary vs. Strikeouts (1B)')"
            ]
          },
          "metadata": {},
          "execution_count": 285
        },
        {
          "output_type": "display_data",
          "data": {
            "text/plain": [
              "<Figure size 432x288 with 1 Axes>"
            ],
            "image/png": "[encoded data removed]"
          },
          "metadata": {
            "needs_background": "light"
          }
        }
      ]
    },
    {
      "cell_type": "code",
      "source": [
        "#Write a function to plot so we don't have to repeat our matplotlib code over and over\n",
        "def scatter_plotxy(dataframe, x, target, color, position):\n",
        "  ind = dataframe[x]\n",
        "  dep = dataframe[target]\n",
        "  plt.scatter(ind,y,s=10, color = color)\n",
        "  plt.xlabel(x)\n",
        "  plt.ylabel(target)\n",
        "  plt.title(target + ' vs. ' + x + ' (' + position + ')')"
      ],
      "metadata": {
        "id": "j67e37_4uuli"
      },
      "execution_count": 290,
      "outputs": []
    },
    {
      "cell_type": "code",
      "source": [
        "#Now visualize how different features affect player salary for second baseman\n",
        "second_b = stats_normalized.loc[(stats_normalized['position_2B'] == 1) & (stats_normalized['Rookie contract'] == 0)]"
      ],
      "metadata": {
        "id": "pC9IsWlGqx0S"
      },
      "execution_count": 291,
      "outputs": []
    },
    {
      "cell_type": "code",
      "source": [
        "scatter_plotxy(second_b,'ops', 'salary', 'blue','2B')"
      ],
      "metadata": {
        "id": "BKkss4ucsHzL",
        "outputId": "41d4f07d-6e4a-4ffd-c3f5-45b5ade8d030",
        "colab": {
          "base_uri": "https://localhost:8080/",
          "height": 580
        }
      },
      "execution_count": 292,
      "outputs": [
        {
          "output_type": "error",
          "ename": "ValueError",
          "evalue": "ignored",
          "traceback": [
            "\u001b[0;31m---------------------------------------------------------------------------\u001b[0m",
            "\u001b[0;31mValueError\u001b[0m                                Traceback (most recent call last)",
            "\u001b[0;32m<ipython-input-292-1911a239d93e>\u001b[0m in \u001b[0;36m<module>\u001b[0;34m()\u001b[0m\n\u001b[0;32m----> 1\u001b[0;31m \u001b[0mscatter_plotxy\u001b[0m\u001b[0;34m(\u001b[0m\u001b[0msecond_b\u001b[0m\u001b[0;34m,\u001b[0m\u001b[0;34m'ops'\u001b[0m\u001b[0;34m,\u001b[0m \u001b[0;34m'salary'\u001b[0m\u001b[0;34m,\u001b[0m \u001b[0;34m'blue'\u001b[0m\u001b[0;34m,\u001b[0m\u001b[0;34m'2B'\u001b[0m\u001b[0;34m)\u001b[0m\u001b[0;34m\u001b[0m\u001b[0;34m\u001b[0m\u001b[0m\n\u001b[0m",
            "\u001b[0;32m<ipython-input-290-45fbb543dda9>\u001b[0m in \u001b[0;36mscatter_plotxy\u001b[0;34m(dataframe, x, target, color, position)\u001b[0m\n\u001b[1;32m      3\u001b[0m   \u001b[0mind\u001b[0m \u001b[0;34m=\u001b[0m \u001b[0mdataframe\u001b[0m\u001b[0;34m[\u001b[0m\u001b[0mx\u001b[0m\u001b[0;34m]\u001b[0m\u001b[0;34m\u001b[0m\u001b[0;34m\u001b[0m\u001b[0m\n\u001b[1;32m      4\u001b[0m   \u001b[0mdep\u001b[0m \u001b[0;34m=\u001b[0m \u001b[0mdataframe\u001b[0m\u001b[0;34m[\u001b[0m\u001b[0mtarget\u001b[0m\u001b[0;34m]\u001b[0m\u001b[0;34m\u001b[0m\u001b[0;34m\u001b[0m\u001b[0m\n\u001b[0;32m----> 5\u001b[0;31m   \u001b[0mplt\u001b[0m\u001b[0;34m.\u001b[0m\u001b[0mscatter\u001b[0m\u001b[0;34m(\u001b[0m\u001b[0mind\u001b[0m\u001b[0;34m,\u001b[0m\u001b[0my\u001b[0m\u001b[0;34m,\u001b[0m\u001b[0ms\u001b[0m\u001b[0;34m=\u001b[0m\u001b[0;36m10\u001b[0m\u001b[0;34m,\u001b[0m \u001b[0mcolor\u001b[0m \u001b[0;34m=\u001b[0m \u001b[0mcolor\u001b[0m\u001b[0;34m)\u001b[0m\u001b[0;34m\u001b[0m\u001b[0;34m\u001b[0m\u001b[0m\n\u001b[0m\u001b[1;32m      6\u001b[0m   \u001b[0mplt\u001b[0m\u001b[0;34m.\u001b[0m\u001b[0mxlabel\u001b[0m\u001b[0;34m(\u001b[0m\u001b[0mx\u001b[0m\u001b[0;34m)\u001b[0m\u001b[0;34m\u001b[0m\u001b[0;34m\u001b[0m\u001b[0m\n\u001b[1;32m      7\u001b[0m   \u001b[0mplt\u001b[0m\u001b[0;34m.\u001b[0m\u001b[0mylabel\u001b[0m\u001b[0;34m(\u001b[0m\u001b[0mtarget\u001b[0m\u001b[0;34m)\u001b[0m\u001b[0;34m\u001b[0m\u001b[0;34m\u001b[0m\u001b[0m\n",
            "\u001b[0;32m/usr/local/lib/python3.7/dist-packages/matplotlib/pyplot.py\u001b[0m in \u001b[0;36mscatter\u001b[0;34m(x, y, s, c, marker, cmap, norm, vmin, vmax, alpha, linewidths, verts, edgecolors, plotnonfinite, data, **kwargs)\u001b[0m\n\u001b[1;32m   2814\u001b[0m         \u001b[0mverts\u001b[0m\u001b[0;34m=\u001b[0m\u001b[0mverts\u001b[0m\u001b[0;34m,\u001b[0m \u001b[0medgecolors\u001b[0m\u001b[0;34m=\u001b[0m\u001b[0medgecolors\u001b[0m\u001b[0;34m,\u001b[0m\u001b[0;34m\u001b[0m\u001b[0;34m\u001b[0m\u001b[0m\n\u001b[1;32m   2815\u001b[0m         plotnonfinite=plotnonfinite, **({\"data\": data} if data is not\n\u001b[0;32m-> 2816\u001b[0;31m         None else {}), **kwargs)\n\u001b[0m\u001b[1;32m   2817\u001b[0m     \u001b[0msci\u001b[0m\u001b[0;34m(\u001b[0m\u001b[0m__ret\u001b[0m\u001b[0;34m)\u001b[0m\u001b[0;34m\u001b[0m\u001b[0;34m\u001b[0m\u001b[0m\n\u001b[1;32m   2818\u001b[0m     \u001b[0;32mreturn\u001b[0m \u001b[0m__ret\u001b[0m\u001b[0;34m\u001b[0m\u001b[0;34m\u001b[0m\u001b[0m\n",
            "\u001b[0;32m/usr/local/lib/python3.7/dist-packages/matplotlib/__init__.py\u001b[0m in \u001b[0;36minner\u001b[0;34m(ax, data, *args, **kwargs)\u001b[0m\n\u001b[1;32m   1563\u001b[0m     \u001b[0;32mdef\u001b[0m \u001b[0minner\u001b[0m\u001b[0;34m(\u001b[0m\u001b[0max\u001b[0m\u001b[0;34m,\u001b[0m \u001b[0;34m*\u001b[0m\u001b[0margs\u001b[0m\u001b[0;34m,\u001b[0m \u001b[0mdata\u001b[0m\u001b[0;34m=\u001b[0m\u001b[0;32mNone\u001b[0m\u001b[0;34m,\u001b[0m \u001b[0;34m**\u001b[0m\u001b[0mkwargs\u001b[0m\u001b[0;34m)\u001b[0m\u001b[0;34m:\u001b[0m\u001b[0;34m\u001b[0m\u001b[0;34m\u001b[0m\u001b[0m\n\u001b[1;32m   1564\u001b[0m         \u001b[0;32mif\u001b[0m \u001b[0mdata\u001b[0m \u001b[0;32mis\u001b[0m \u001b[0;32mNone\u001b[0m\u001b[0;34m:\u001b[0m\u001b[0;34m\u001b[0m\u001b[0;34m\u001b[0m\u001b[0m\n\u001b[0;32m-> 1565\u001b[0;31m             \u001b[0;32mreturn\u001b[0m \u001b[0mfunc\u001b[0m\u001b[0;34m(\u001b[0m\u001b[0max\u001b[0m\u001b[0;34m,\u001b[0m \u001b[0;34m*\u001b[0m\u001b[0mmap\u001b[0m\u001b[0;34m(\u001b[0m\u001b[0msanitize_sequence\u001b[0m\u001b[0;34m,\u001b[0m \u001b[0margs\u001b[0m\u001b[0;34m)\u001b[0m\u001b[0;34m,\u001b[0m \u001b[0;34m**\u001b[0m\u001b[0mkwargs\u001b[0m\u001b[0;34m)\u001b[0m\u001b[0;34m\u001b[0m\u001b[0;34m\u001b[0m\u001b[0m\n\u001b[0m\u001b[1;32m   1566\u001b[0m \u001b[0;34m\u001b[0m\u001b[0m\n\u001b[1;32m   1567\u001b[0m         \u001b[0mbound\u001b[0m \u001b[0;34m=\u001b[0m \u001b[0mnew_sig\u001b[0m\u001b[0;34m.\u001b[0m\u001b[0mbind\u001b[0m\u001b[0;34m(\u001b[0m\u001b[0max\u001b[0m\u001b[0;34m,\u001b[0m \u001b[0;34m*\u001b[0m\u001b[0margs\u001b[0m\u001b[0;34m,\u001b[0m \u001b[0;34m**\u001b[0m\u001b[0mkwargs\u001b[0m\u001b[0;34m)\u001b[0m\u001b[0;34m\u001b[0m\u001b[0;34m\u001b[0m\u001b[0m\n",
            "\u001b[0;32m/usr/local/lib/python3.7/dist-packages/matplotlib/cbook/deprecation.py\u001b[0m in \u001b[0;36mwrapper\u001b[0;34m(*args, **kwargs)\u001b[0m\n\u001b[1;32m    356\u001b[0m                 \u001b[0;34mf\"%(removal)s.  If any parameter follows {name!r}, they \"\u001b[0m\u001b[0;34m\u001b[0m\u001b[0;34m\u001b[0m\u001b[0m\n\u001b[1;32m    357\u001b[0m                 f\"should be pass as keyword, not positionally.\")\n\u001b[0;32m--> 358\u001b[0;31m         \u001b[0;32mreturn\u001b[0m \u001b[0mfunc\u001b[0m\u001b[0;34m(\u001b[0m\u001b[0;34m*\u001b[0m\u001b[0margs\u001b[0m\u001b[0;34m,\u001b[0m \u001b[0;34m**\u001b[0m\u001b[0mkwargs\u001b[0m\u001b[0;34m)\u001b[0m\u001b[0;34m\u001b[0m\u001b[0;34m\u001b[0m\u001b[0m\n\u001b[0m\u001b[1;32m    359\u001b[0m \u001b[0;34m\u001b[0m\u001b[0m\n\u001b[1;32m    360\u001b[0m     \u001b[0;32mreturn\u001b[0m \u001b[0mwrapper\u001b[0m\u001b[0;34m\u001b[0m\u001b[0;34m\u001b[0m\u001b[0m\n",
            "\u001b[0;32m/usr/local/lib/python3.7/dist-packages/matplotlib/axes/_axes.py\u001b[0m in \u001b[0;36mscatter\u001b[0;34m(self, x, y, s, c, marker, cmap, norm, vmin, vmax, alpha, linewidths, verts, edgecolors, plotnonfinite, **kwargs)\u001b[0m\n\u001b[1;32m   4389\u001b[0m         \u001b[0my\u001b[0m \u001b[0;34m=\u001b[0m \u001b[0mnp\u001b[0m\u001b[0;34m.\u001b[0m\u001b[0mma\u001b[0m\u001b[0;34m.\u001b[0m\u001b[0mravel\u001b[0m\u001b[0;34m(\u001b[0m\u001b[0my\u001b[0m\u001b[0;34m)\u001b[0m\u001b[0;34m\u001b[0m\u001b[0;34m\u001b[0m\u001b[0m\n\u001b[1;32m   4390\u001b[0m         \u001b[0;32mif\u001b[0m \u001b[0mx\u001b[0m\u001b[0;34m.\u001b[0m\u001b[0msize\u001b[0m \u001b[0;34m!=\u001b[0m \u001b[0my\u001b[0m\u001b[0;34m.\u001b[0m\u001b[0msize\u001b[0m\u001b[0;34m:\u001b[0m\u001b[0;34m\u001b[0m\u001b[0;34m\u001b[0m\u001b[0m\n\u001b[0;32m-> 4391\u001b[0;31m             \u001b[0;32mraise\u001b[0m \u001b[0mValueError\u001b[0m\u001b[0;34m(\u001b[0m\u001b[0;34m\"x and y must be the same size\"\u001b[0m\u001b[0;34m)\u001b[0m\u001b[0;34m\u001b[0m\u001b[0;34m\u001b[0m\u001b[0m\n\u001b[0m\u001b[1;32m   4392\u001b[0m \u001b[0;34m\u001b[0m\u001b[0m\n\u001b[1;32m   4393\u001b[0m         \u001b[0;32mif\u001b[0m \u001b[0ms\u001b[0m \u001b[0;32mis\u001b[0m \u001b[0;32mNone\u001b[0m\u001b[0;34m:\u001b[0m\u001b[0;34m\u001b[0m\u001b[0;34m\u001b[0m\u001b[0m\n",
            "\u001b[0;31mValueError\u001b[0m: x and y must be the same size"
          ]
        },
        {
          "output_type": "display_data",
          "data": {
            "text/plain": [
              "<Figure size 432x288 with 1 Axes>"
            ],
            "image/png": "[encoded data removed]"
          },
          "metadata": {
            "needs_background": "light"
          }
        }
      ]
    },
    {
      "cell_type": "code",
      "source": [
        "scatter_plotxy(second_b, 'obp', 'salary', 'blue', '2B')"
      ],
      "metadata": {
        "id": "1qgpTzrMvnwZ"
      },
      "execution_count": null,
      "outputs": []
    },
    {
      "cell_type": "code",
      "source": [
        ""
      ],
      "metadata": {
        "id": "9HG_BpR-v7NQ"
      },
      "execution_count": null,
      "outputs": []
    },
    {
      "cell_type": "code",
      "source": [
        "x = second_b['slg']\n",
        "y = second_b['salary']\n",
        "plt.scatter(x,y,s=10, color = 'blue')\n",
        "plt.xlabel('slugging')\n",
        "plt.ylabel('Salary (in millions)')\n",
        "plt.title('Salary vs. SLG% (2B)')"
      ],
      "metadata": {
        "id": "XwLxecEetQOE"
      },
      "execution_count": null,
      "outputs": []
    },
    {
      "cell_type": "code",
      "source": [
        "x = second_b['HR']\n",
        "y = second_b['salary']\n",
        "plt.scatter(x,y,s=10, color = 'blue')\n",
        "plt.xlabel('Homeruns')\n",
        "plt.ylabel('Salary (in millions)')\n",
        "plt.title('Salary vs. Homeruns (2B)')"
      ],
      "metadata": {
        "id": "vlnikuKstR2a"
      },
      "execution_count": null,
      "outputs": []
    },
    {
      "cell_type": "code",
      "source": [
        "x = second_b['age']\n",
        "y = second_b['salary']\n",
        "plt.scatter(x,y,s=10, color = 'blue')\n",
        "plt.xlabel('age')\n",
        "plt.ylabel('Salary (in millions)')\n",
        "plt.title('Salary vs. age (2B)')"
      ],
      "metadata": {
        "id": "0l99dT8StTmB"
      },
      "execution_count": null,
      "outputs": []
    },
    {
      "cell_type": "code",
      "source": [
        "x = second_b['WAR']\n",
        "y = second_b['salary']\n",
        "plt.scatter(x,y,s=10, color = 'blue')\n",
        "plt.xlabel('Wins Above Replacement')\n",
        "plt.ylabel('Salary (in millions)')\n",
        "plt.title('Salary vs. Wins Above Replacement (2B)')"
      ],
      "metadata": {
        "id": "Hp1lzmjotVVX"
      },
      "execution_count": null,
      "outputs": []
    },
    {
      "cell_type": "code",
      "source": [
        "x = second_b['RBI']\n",
        "y = second_b['salary']\n",
        "plt.scatter(x,y,s=10, color = 'blue')\n",
        "plt.xlabel('RBIs')\n",
        "plt.ylabel('Salary (in millions)')\n",
        "plt.title('Salary vs. RBIs (2B)')"
      ],
      "metadata": {
        "id": "rqXT150EtXMR"
      },
      "execution_count": null,
      "outputs": []
    },
    {
      "cell_type": "code",
      "source": [
        "x = second_b['H']\n",
        "y = second_b['salary']\n",
        "plt.scatter(x,y,s=10, color = 'blue')\n",
        "plt.xlabel('Hits')\n",
        "plt.ylabel('Salary (in millions)')\n",
        "plt.title('Salary vs. hits (2B)')"
      ],
      "metadata": {
        "id": "wOKblw8HtaAQ"
      },
      "execution_count": null,
      "outputs": []
    },
    {
      "cell_type": "code",
      "source": [
        "x = second_b['SO']\n",
        "y = second_b['salary']\n",
        "plt.scatter(x,y,s=10, color = 'blue')\n",
        "plt.xlabel('Strikeouts')\n",
        "plt.ylabel('Salary (in millions)')\n",
        "plt.title('Salary vs. Strikeouts (2B)')"
      ],
      "metadata": {
        "id": "hnSOadSntdEt"
      },
      "execution_count": null,
      "outputs": []
    },
    {
      "cell_type": "code",
      "source": [
        "#Now visualize how different features affect player salary for third baseman\n",
        "third = stats_normalized.loc[(stats_normalized['position_3B'] == 1) & (stats_normalized['Rookie contract'] == 0)]"
      ],
      "metadata": {
        "id": "xZPs0qAtrKxX"
      },
      "execution_count": null,
      "outputs": []
    },
    {
      "cell_type": "code",
      "source": [
        "#Now visualize how different features affect player salary for catchers\n",
        "catcher = stats_normalized.loc[(stats_normalized['position_C'] == 1) & (stats_normalized['Rookie contract'] == 0)]"
      ],
      "metadata": {
        "id": "9_ro93unrLCB"
      },
      "execution_count": null,
      "outputs": []
    },
    {
      "cell_type": "code",
      "source": [
        "#Now visualize how different stats affect player salary for shortstops\n",
        "short = stats_normalized.loc[(stats_normalized['position_SS'] == 1) & (stats_normalized['Rookie contract'] == 0)]"
      ],
      "metadata": {
        "id": "3p8m6zgvrLFq"
      },
      "execution_count": null,
      "outputs": []
    },
    {
      "cell_type": "code",
      "source": [
        "#Now visualize how different stats affect player salary for designated hitters\n",
        "dh = stats_normalized.loc[(stats_normalized['position_DH'] == 1) & (stats_normalized['Rookie contract'] == 0)]"
      ],
      "metadata": {
        "id": "2r3XlPfBrLKq"
      },
      "execution_count": null,
      "outputs": []
    }
  ]
}