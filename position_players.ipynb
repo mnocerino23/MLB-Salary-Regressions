{
  "nbformat": 4,
  "nbformat_minor": 0,
  "metadata": {
    "colab": {
      "name": "position_players.ipynb",
      "provenance": [],
      "collapsed_sections": []
    },
    "kernelspec": {
      "name": "python3",
      "display_name": "Python 3"
    },
    "language_info": {
      "name": "python"
    }
  },
  "cells": [
    {
      "cell_type": "code",
      "execution_count": 173,
      "metadata": {
        "colab": {
          "base_uri": "https://localhost:8080/"
        },
        "id": "diqtoiTdI5B0",
        "outputId": "1266084f-8edd-480a-d67f-f4339791f6b9"
      },
      "outputs": [
        {
          "output_type": "stream",
          "name": "stdout",
          "text": [
            "Drive already mounted at /content/drive; to attempt to forcibly remount, call drive.mount(\"/content/drive\", force_remount=True).\n"
          ]
        }
      ],
      "source": [
        "#In this file, I will finish preprocessing by normalizing the columns in the dataframe\n",
        "#and then go on to visualize the data then build regression models to predict the salary of an MLB player\n",
        "import pandas as pd\n",
        "from google.colab import drive\n",
        "drive.mount('/content/drive')\n",
        "stats = pd.read_csv('/content/drive/MyDrive/Data_Science_Projects/2019_stats_clean.csv')"
      ]
    },
    {
      "cell_type": "code",
      "source": [
        "#Drop the only two categorical features in the dataframe: player name and team id\n",
        "stats.drop(['name','teamID'], axis = 1, inplace = True)"
      ],
      "metadata": {
        "id": "RhGtLMFaJkpX"
      },
      "execution_count": 174,
      "outputs": []
    },
    {
      "cell_type": "code",
      "source": [
        "stats.head()"
      ],
      "metadata": {
        "colab": {
          "base_uri": "https://localhost:8080/",
          "height": 235
        },
        "id": "Mh-V1oPCvlq3",
        "outputId": "15050961-38b2-48c0-9810-4dbad647a219"
      },
      "execution_count": 175,
      "outputs": [
        {
          "output_type": "execute_result",
          "data": {
            "text/plain": [
              "   age      G    tap     AB     R      H    db   tr    HR    RBI  ...  \\\n",
              "0   32  159.0  693.0  634.0  85.0  180.0  38.0  1.0  33.0  123.0  ...   \n",
              "1   23  152.0  584.0  531.0  69.0  135.0  25.0  1.0  20.0   52.0  ...   \n",
              "2   30  111.0  333.0  310.0  42.0   70.0  14.0  0.0  20.0   56.0  ...   \n",
              "3   29   83.0  234.0  202.0  34.0   55.0   8.0  3.0   5.0   22.0  ...   \n",
              "4   29  158.0  625.0  556.0  79.0  141.0  33.0  6.0  19.0   82.0  ...   \n",
              "\n",
              "   position_3B  position_C  position_DH  position_OF  position_SS  throws_L  \\\n",
              "0            0           0            0            0            0         0   \n",
              "1            0           0            0            0            1         0   \n",
              "2            0           0            0            0            0         0   \n",
              "3            1           0            0            0            0         0   \n",
              "4            0           0            0            0            1         0   \n",
              "\n",
              "   throws_R  bats_B  bats_L  bats_R  \n",
              "0         1       0       0       1  \n",
              "1         1       0       0       1  \n",
              "2         1       0       1       0  \n",
              "3         1       1       0       0  \n",
              "4         1       0       0       1  \n",
              "\n",
              "[5 rows x 42 columns]"
            ],
            "text/html": [
              "\n",
              "  <div id=\"df-8c70dbf4-7412-4f69-85d0-9c29d5aa3101\">\n",
              "    <div class=\"colab-df-container\">\n",
              "      <div>\n",
              "<style scoped>\n",
              "    .dataframe tbody tr th:only-of-type {\n",
              "        vertical-align: middle;\n",
              "    }\n",
              "\n",
              "    .dataframe tbody tr th {\n",
              "        vertical-align: top;\n",
              "    }\n",
              "\n",
              "    .dataframe thead th {\n",
              "        text-align: right;\n",
              "    }\n",
              "</style>\n",
              "<table border=\"1\" class=\"dataframe\">\n",
              "  <thead>\n",
              "    <tr style=\"text-align: right;\">\n",
              "      <th></th>\n",
              "      <th>age</th>\n",
              "      <th>G</th>\n",
              "      <th>tap</th>\n",
              "      <th>AB</th>\n",
              "      <th>R</th>\n",
              "      <th>H</th>\n",
              "      <th>db</th>\n",
              "      <th>tr</th>\n",
              "      <th>HR</th>\n",
              "      <th>RBI</th>\n",
              "      <th>...</th>\n",
              "      <th>position_3B</th>\n",
              "      <th>position_C</th>\n",
              "      <th>position_DH</th>\n",
              "      <th>position_OF</th>\n",
              "      <th>position_SS</th>\n",
              "      <th>throws_L</th>\n",
              "      <th>throws_R</th>\n",
              "      <th>bats_B</th>\n",
              "      <th>bats_L</th>\n",
              "      <th>bats_R</th>\n",
              "    </tr>\n",
              "  </thead>\n",
              "  <tbody>\n",
              "    <tr>\n",
              "      <th>0</th>\n",
              "      <td>32</td>\n",
              "      <td>159.0</td>\n",
              "      <td>693.0</td>\n",
              "      <td>634.0</td>\n",
              "      <td>85.0</td>\n",
              "      <td>180.0</td>\n",
              "      <td>38.0</td>\n",
              "      <td>1.0</td>\n",
              "      <td>33.0</td>\n",
              "      <td>123.0</td>\n",
              "      <td>...</td>\n",
              "      <td>0</td>\n",
              "      <td>0</td>\n",
              "      <td>0</td>\n",
              "      <td>0</td>\n",
              "      <td>0</td>\n",
              "      <td>0</td>\n",
              "      <td>1</td>\n",
              "      <td>0</td>\n",
              "      <td>0</td>\n",
              "      <td>1</td>\n",
              "    </tr>\n",
              "    <tr>\n",
              "      <th>1</th>\n",
              "      <td>23</td>\n",
              "      <td>152.0</td>\n",
              "      <td>584.0</td>\n",
              "      <td>531.0</td>\n",
              "      <td>69.0</td>\n",
              "      <td>135.0</td>\n",
              "      <td>25.0</td>\n",
              "      <td>1.0</td>\n",
              "      <td>20.0</td>\n",
              "      <td>52.0</td>\n",
              "      <td>...</td>\n",
              "      <td>0</td>\n",
              "      <td>0</td>\n",
              "      <td>0</td>\n",
              "      <td>0</td>\n",
              "      <td>1</td>\n",
              "      <td>0</td>\n",
              "      <td>1</td>\n",
              "      <td>0</td>\n",
              "      <td>0</td>\n",
              "      <td>1</td>\n",
              "    </tr>\n",
              "    <tr>\n",
              "      <th>2</th>\n",
              "      <td>30</td>\n",
              "      <td>111.0</td>\n",
              "      <td>333.0</td>\n",
              "      <td>310.0</td>\n",
              "      <td>42.0</td>\n",
              "      <td>70.0</td>\n",
              "      <td>14.0</td>\n",
              "      <td>0.0</td>\n",
              "      <td>20.0</td>\n",
              "      <td>56.0</td>\n",
              "      <td>...</td>\n",
              "      <td>0</td>\n",
              "      <td>0</td>\n",
              "      <td>0</td>\n",
              "      <td>0</td>\n",
              "      <td>0</td>\n",
              "      <td>0</td>\n",
              "      <td>1</td>\n",
              "      <td>0</td>\n",
              "      <td>1</td>\n",
              "      <td>0</td>\n",
              "    </tr>\n",
              "    <tr>\n",
              "      <th>3</th>\n",
              "      <td>29</td>\n",
              "      <td>83.0</td>\n",
              "      <td>234.0</td>\n",
              "      <td>202.0</td>\n",
              "      <td>34.0</td>\n",
              "      <td>55.0</td>\n",
              "      <td>8.0</td>\n",
              "      <td>3.0</td>\n",
              "      <td>5.0</td>\n",
              "      <td>22.0</td>\n",
              "      <td>...</td>\n",
              "      <td>1</td>\n",
              "      <td>0</td>\n",
              "      <td>0</td>\n",
              "      <td>0</td>\n",
              "      <td>0</td>\n",
              "      <td>0</td>\n",
              "      <td>1</td>\n",
              "      <td>1</td>\n",
              "      <td>0</td>\n",
              "      <td>0</td>\n",
              "    </tr>\n",
              "    <tr>\n",
              "      <th>4</th>\n",
              "      <td>29</td>\n",
              "      <td>158.0</td>\n",
              "      <td>625.0</td>\n",
              "      <td>556.0</td>\n",
              "      <td>79.0</td>\n",
              "      <td>141.0</td>\n",
              "      <td>33.0</td>\n",
              "      <td>6.0</td>\n",
              "      <td>19.0</td>\n",
              "      <td>82.0</td>\n",
              "      <td>...</td>\n",
              "      <td>0</td>\n",
              "      <td>0</td>\n",
              "      <td>0</td>\n",
              "      <td>0</td>\n",
              "      <td>1</td>\n",
              "      <td>0</td>\n",
              "      <td>1</td>\n",
              "      <td>0</td>\n",
              "      <td>0</td>\n",
              "      <td>1</td>\n",
              "    </tr>\n",
              "  </tbody>\n",
              "</table>\n",
              "<p>5 rows × 42 columns</p>\n",
              "</div>\n",
              "      <button class=\"colab-df-convert\" onclick=\"convertToInteractive('df-8c70dbf4-7412-4f69-85d0-9c29d5aa3101')\"\n",
              "              title=\"Convert this dataframe to an interactive table.\"\n",
              "              style=\"display:none;\">\n",
              "        \n",
              "  <svg xmlns=\"http://www.w3.org/2000/svg\" height=\"24px\"viewBox=\"0 0 24 24\"\n",
              "       width=\"24px\">\n",
              "    <path d=\"M0 0h24v24H0V0z\" fill=\"none\"/>\n",
              "    <path d=\"M18.56 5.44l.94 2.06.94-2.06 2.06-.94-2.06-.94-.94-2.06-.94 2.06-2.06.94zm-11 1L8.5 8.5l.94-2.06 2.06-.94-2.06-.94L8.5 2.5l-.94 2.06-2.06.94zm10 10l.94 2.06.94-2.06 2.06-.94-2.06-.94-.94-2.06-.94 2.06-2.06.94z\"/><path d=\"M17.41 7.96l-1.37-1.37c-.4-.4-.92-.59-1.43-.59-.52 0-1.04.2-1.43.59L10.3 9.45l-7.72 7.72c-.78.78-.78 2.05 0 2.83L4 21.41c.39.39.9.59 1.41.59.51 0 1.02-.2 1.41-.59l7.78-7.78 2.81-2.81c.8-.78.8-2.07 0-2.86zM5.41 20L4 18.59l7.72-7.72 1.47 1.35L5.41 20z\"/>\n",
              "  </svg>\n",
              "      </button>\n",
              "      \n",
              "  <style>\n",
              "    .colab-df-container {\n",
              "      display:flex;\n",
              "      flex-wrap:wrap;\n",
              "      gap: 12px;\n",
              "    }\n",
              "\n",
              "    .colab-df-convert {\n",
              "      background-color: #E8F0FE;\n",
              "      border: none;\n",
              "      border-radius: 50%;\n",
              "      cursor: pointer;\n",
              "      display: none;\n",
              "      fill: #1967D2;\n",
              "      height: 32px;\n",
              "      padding: 0 0 0 0;\n",
              "      width: 32px;\n",
              "    }\n",
              "\n",
              "    .colab-df-convert:hover {\n",
              "      background-color: #E2EBFA;\n",
              "      box-shadow: 0px 1px 2px rgba(60, 64, 67, 0.3), 0px 1px 3px 1px rgba(60, 64, 67, 0.15);\n",
              "      fill: #174EA6;\n",
              "    }\n",
              "\n",
              "    [theme=dark] .colab-df-convert {\n",
              "      background-color: #3B4455;\n",
              "      fill: #D2E3FC;\n",
              "    }\n",
              "\n",
              "    [theme=dark] .colab-df-convert:hover {\n",
              "      background-color: #434B5C;\n",
              "      box-shadow: 0px 1px 3px 1px rgba(0, 0, 0, 0.15);\n",
              "      filter: drop-shadow(0px 1px 2px rgba(0, 0, 0, 0.3));\n",
              "      fill: #FFFFFF;\n",
              "    }\n",
              "  </style>\n",
              "\n",
              "      <script>\n",
              "        const buttonEl =\n",
              "          document.querySelector('#df-8c70dbf4-7412-4f69-85d0-9c29d5aa3101 button.colab-df-convert');\n",
              "        buttonEl.style.display =\n",
              "          google.colab.kernel.accessAllowed ? 'block' : 'none';\n",
              "\n",
              "        async function convertToInteractive(key) {\n",
              "          const element = document.querySelector('#df-8c70dbf4-7412-4f69-85d0-9c29d5aa3101');\n",
              "          const dataTable =\n",
              "            await google.colab.kernel.invokeFunction('convertToInteractive',\n",
              "                                                     [key], {});\n",
              "          if (!dataTable) return;\n",
              "\n",
              "          const docLinkHtml = 'Like what you see? Visit the ' +\n",
              "            '<a target=\"_blank\" href=https://colab.research.google.com/notebooks/data_table.ipynb>data table notebook</a>'\n",
              "            + ' to learn more about interactive tables.';\n",
              "          element.innerHTML = '';\n",
              "          dataTable['output_type'] = 'display_data';\n",
              "          await google.colab.output.renderOutput(dataTable, element);\n",
              "          const docLink = document.createElement('div');\n",
              "          docLink.innerHTML = docLinkHtml;\n",
              "          element.appendChild(docLink);\n",
              "        }\n",
              "      </script>\n",
              "    </div>\n",
              "  </div>\n",
              "  "
            ]
          },
          "metadata": {},
          "execution_count": 175
        }
      ]
    },
    {
      "cell_type": "code",
      "source": [
        "#Need to normalize all features besides those that are already one hot encoded (those before the last 12).\n",
        "#We will implement a min-max normalization technique below \n",
        "import numpy as np\n",
        "from sklearn.preprocessing import MinMaxScaler\n",
        "scale = MinMaxScaler()\n",
        "normalized = scale.fit_transform(stats)\n",
        "print(normalized)"
      ],
      "metadata": {
        "id": "rm0a4o5aMaOI",
        "colab": {
          "base_uri": "https://localhost:8080/"
        },
        "outputId": "9f496c8d-6948-4dc1-f242-9f69e0f66f80"
      },
      "execution_count": 176,
      "outputs": [
        {
          "output_type": "stream",
          "name": "stdout",
          "text": [
            "[[0.6        0.98064516 0.92692828 ... 0.         0.         1.        ]\n",
            " [0.15       0.93548387 0.77943166 ... 0.         0.         1.        ]\n",
            " [0.5        0.67096774 0.43978349 ... 0.         1.         0.        ]\n",
            " ...\n",
            " [0.7        0.29032258 0.24627876 ... 0.         0.         1.        ]\n",
            " [0.9        0.25806452 0.22733424 ... 1.         0.         0.        ]\n",
            " [0.4        0.53548387 0.38024357 ... 0.         0.         1.        ]]\n"
          ]
        }
      ]
    },
    {
      "cell_type": "code",
      "source": [
        "#Convert from numpy array with min-max normalized values to a Pandas Dataframe\n",
        "stats_normalized = pd.DataFrame(normalized, columns = stats.columns)\n",
        "stats_normalized.head()"
      ],
      "metadata": {
        "colab": {
          "base_uri": "https://localhost:8080/",
          "height": 299
        },
        "id": "JdXaJ_AkydD5",
        "outputId": "57abf957-0c29-4959-996c-3c09f2c3e2bb"
      },
      "execution_count": 177,
      "outputs": [
        {
          "output_type": "execute_result",
          "data": {
            "text/plain": [
              "    age         G       tap        AB         R         H        db   tr  \\\n",
              "0  0.60  0.980645  0.926928  0.930267  0.629630  0.873786  0.655172  0.1   \n",
              "1  0.15  0.935484  0.779432  0.777448  0.511111  0.655340  0.431034  0.1   \n",
              "2  0.50  0.670968  0.439783  0.449555  0.311111  0.339806  0.241379  0.0   \n",
              "3  0.45  0.490323  0.305819  0.289318  0.251852  0.266990  0.137931  0.3   \n",
              "4  0.45  0.974194  0.834912  0.814540  0.585185  0.684466  0.568966  0.6   \n",
              "\n",
              "         HR       RBI  ...  position_3B  position_C  position_DH  position_OF  \\\n",
              "0  0.622642  0.976190  ...          0.0         0.0          0.0          0.0   \n",
              "1  0.377358  0.412698  ...          0.0         0.0          0.0          0.0   \n",
              "2  0.377358  0.444444  ...          0.0         0.0          0.0          0.0   \n",
              "3  0.094340  0.174603  ...          1.0         0.0          0.0          0.0   \n",
              "4  0.358491  0.650794  ...          0.0         0.0          0.0          0.0   \n",
              "\n",
              "   position_SS  throws_L  throws_R  bats_B  bats_L  bats_R  \n",
              "0          0.0       0.0       1.0     0.0     0.0     1.0  \n",
              "1          1.0       0.0       1.0     0.0     0.0     1.0  \n",
              "2          0.0       0.0       1.0     0.0     1.0     0.0  \n",
              "3          0.0       0.0       1.0     1.0     0.0     0.0  \n",
              "4          1.0       0.0       1.0     0.0     0.0     1.0  \n",
              "\n",
              "[5 rows x 42 columns]"
            ],
            "text/html": [
              "\n",
              "  <div id=\"df-3ca1b33d-5718-4d77-83ab-1e7148690edf\">\n",
              "    <div class=\"colab-df-container\">\n",
              "      <div>\n",
              "<style scoped>\n",
              "    .dataframe tbody tr th:only-of-type {\n",
              "        vertical-align: middle;\n",
              "    }\n",
              "\n",
              "    .dataframe tbody tr th {\n",
              "        vertical-align: top;\n",
              "    }\n",
              "\n",
              "    .dataframe thead th {\n",
              "        text-align: right;\n",
              "    }\n",
              "</style>\n",
              "<table border=\"1\" class=\"dataframe\">\n",
              "  <thead>\n",
              "    <tr style=\"text-align: right;\">\n",
              "      <th></th>\n",
              "      <th>age</th>\n",
              "      <th>G</th>\n",
              "      <th>tap</th>\n",
              "      <th>AB</th>\n",
              "      <th>R</th>\n",
              "      <th>H</th>\n",
              "      <th>db</th>\n",
              "      <th>tr</th>\n",
              "      <th>HR</th>\n",
              "      <th>RBI</th>\n",
              "      <th>...</th>\n",
              "      <th>position_3B</th>\n",
              "      <th>position_C</th>\n",
              "      <th>position_DH</th>\n",
              "      <th>position_OF</th>\n",
              "      <th>position_SS</th>\n",
              "      <th>throws_L</th>\n",
              "      <th>throws_R</th>\n",
              "      <th>bats_B</th>\n",
              "      <th>bats_L</th>\n",
              "      <th>bats_R</th>\n",
              "    </tr>\n",
              "  </thead>\n",
              "  <tbody>\n",
              "    <tr>\n",
              "      <th>0</th>\n",
              "      <td>0.60</td>\n",
              "      <td>0.980645</td>\n",
              "      <td>0.926928</td>\n",
              "      <td>0.930267</td>\n",
              "      <td>0.629630</td>\n",
              "      <td>0.873786</td>\n",
              "      <td>0.655172</td>\n",
              "      <td>0.1</td>\n",
              "      <td>0.622642</td>\n",
              "      <td>0.976190</td>\n",
              "      <td>...</td>\n",
              "      <td>0.0</td>\n",
              "      <td>0.0</td>\n",
              "      <td>0.0</td>\n",
              "      <td>0.0</td>\n",
              "      <td>0.0</td>\n",
              "      <td>0.0</td>\n",
              "      <td>1.0</td>\n",
              "      <td>0.0</td>\n",
              "      <td>0.0</td>\n",
              "      <td>1.0</td>\n",
              "    </tr>\n",
              "    <tr>\n",
              "      <th>1</th>\n",
              "      <td>0.15</td>\n",
              "      <td>0.935484</td>\n",
              "      <td>0.779432</td>\n",
              "      <td>0.777448</td>\n",
              "      <td>0.511111</td>\n",
              "      <td>0.655340</td>\n",
              "      <td>0.431034</td>\n",
              "      <td>0.1</td>\n",
              "      <td>0.377358</td>\n",
              "      <td>0.412698</td>\n",
              "      <td>...</td>\n",
              "      <td>0.0</td>\n",
              "      <td>0.0</td>\n",
              "      <td>0.0</td>\n",
              "      <td>0.0</td>\n",
              "      <td>1.0</td>\n",
              "      <td>0.0</td>\n",
              "      <td>1.0</td>\n",
              "      <td>0.0</td>\n",
              "      <td>0.0</td>\n",
              "      <td>1.0</td>\n",
              "    </tr>\n",
              "    <tr>\n",
              "      <th>2</th>\n",
              "      <td>0.50</td>\n",
              "      <td>0.670968</td>\n",
              "      <td>0.439783</td>\n",
              "      <td>0.449555</td>\n",
              "      <td>0.311111</td>\n",
              "      <td>0.339806</td>\n",
              "      <td>0.241379</td>\n",
              "      <td>0.0</td>\n",
              "      <td>0.377358</td>\n",
              "      <td>0.444444</td>\n",
              "      <td>...</td>\n",
              "      <td>0.0</td>\n",
              "      <td>0.0</td>\n",
              "      <td>0.0</td>\n",
              "      <td>0.0</td>\n",
              "      <td>0.0</td>\n",
              "      <td>0.0</td>\n",
              "      <td>1.0</td>\n",
              "      <td>0.0</td>\n",
              "      <td>1.0</td>\n",
              "      <td>0.0</td>\n",
              "    </tr>\n",
              "    <tr>\n",
              "      <th>3</th>\n",
              "      <td>0.45</td>\n",
              "      <td>0.490323</td>\n",
              "      <td>0.305819</td>\n",
              "      <td>0.289318</td>\n",
              "      <td>0.251852</td>\n",
              "      <td>0.266990</td>\n",
              "      <td>0.137931</td>\n",
              "      <td>0.3</td>\n",
              "      <td>0.094340</td>\n",
              "      <td>0.174603</td>\n",
              "      <td>...</td>\n",
              "      <td>1.0</td>\n",
              "      <td>0.0</td>\n",
              "      <td>0.0</td>\n",
              "      <td>0.0</td>\n",
              "      <td>0.0</td>\n",
              "      <td>0.0</td>\n",
              "      <td>1.0</td>\n",
              "      <td>1.0</td>\n",
              "      <td>0.0</td>\n",
              "      <td>0.0</td>\n",
              "    </tr>\n",
              "    <tr>\n",
              "      <th>4</th>\n",
              "      <td>0.45</td>\n",
              "      <td>0.974194</td>\n",
              "      <td>0.834912</td>\n",
              "      <td>0.814540</td>\n",
              "      <td>0.585185</td>\n",
              "      <td>0.684466</td>\n",
              "      <td>0.568966</td>\n",
              "      <td>0.6</td>\n",
              "      <td>0.358491</td>\n",
              "      <td>0.650794</td>\n",
              "      <td>...</td>\n",
              "      <td>0.0</td>\n",
              "      <td>0.0</td>\n",
              "      <td>0.0</td>\n",
              "      <td>0.0</td>\n",
              "      <td>1.0</td>\n",
              "      <td>0.0</td>\n",
              "      <td>1.0</td>\n",
              "      <td>0.0</td>\n",
              "      <td>0.0</td>\n",
              "      <td>1.0</td>\n",
              "    </tr>\n",
              "  </tbody>\n",
              "</table>\n",
              "<p>5 rows × 42 columns</p>\n",
              "</div>\n",
              "      <button class=\"colab-df-convert\" onclick=\"convertToInteractive('df-3ca1b33d-5718-4d77-83ab-1e7148690edf')\"\n",
              "              title=\"Convert this dataframe to an interactive table.\"\n",
              "              style=\"display:none;\">\n",
              "        \n",
              "  <svg xmlns=\"http://www.w3.org/2000/svg\" height=\"24px\"viewBox=\"0 0 24 24\"\n",
              "       width=\"24px\">\n",
              "    <path d=\"M0 0h24v24H0V0z\" fill=\"none\"/>\n",
              "    <path d=\"M18.56 5.44l.94 2.06.94-2.06 2.06-.94-2.06-.94-.94-2.06-.94 2.06-2.06.94zm-11 1L8.5 8.5l.94-2.06 2.06-.94-2.06-.94L8.5 2.5l-.94 2.06-2.06.94zm10 10l.94 2.06.94-2.06 2.06-.94-2.06-.94-.94-2.06-.94 2.06-2.06.94z\"/><path d=\"M17.41 7.96l-1.37-1.37c-.4-.4-.92-.59-1.43-.59-.52 0-1.04.2-1.43.59L10.3 9.45l-7.72 7.72c-.78.78-.78 2.05 0 2.83L4 21.41c.39.39.9.59 1.41.59.51 0 1.02-.2 1.41-.59l7.78-7.78 2.81-2.81c.8-.78.8-2.07 0-2.86zM5.41 20L4 18.59l7.72-7.72 1.47 1.35L5.41 20z\"/>\n",
              "  </svg>\n",
              "      </button>\n",
              "      \n",
              "  <style>\n",
              "    .colab-df-container {\n",
              "      display:flex;\n",
              "      flex-wrap:wrap;\n",
              "      gap: 12px;\n",
              "    }\n",
              "\n",
              "    .colab-df-convert {\n",
              "      background-color: #E8F0FE;\n",
              "      border: none;\n",
              "      border-radius: 50%;\n",
              "      cursor: pointer;\n",
              "      display: none;\n",
              "      fill: #1967D2;\n",
              "      height: 32px;\n",
              "      padding: 0 0 0 0;\n",
              "      width: 32px;\n",
              "    }\n",
              "\n",
              "    .colab-df-convert:hover {\n",
              "      background-color: #E2EBFA;\n",
              "      box-shadow: 0px 1px 2px rgba(60, 64, 67, 0.3), 0px 1px 3px 1px rgba(60, 64, 67, 0.15);\n",
              "      fill: #174EA6;\n",
              "    }\n",
              "\n",
              "    [theme=dark] .colab-df-convert {\n",
              "      background-color: #3B4455;\n",
              "      fill: #D2E3FC;\n",
              "    }\n",
              "\n",
              "    [theme=dark] .colab-df-convert:hover {\n",
              "      background-color: #434B5C;\n",
              "      box-shadow: 0px 1px 3px 1px rgba(0, 0, 0, 0.15);\n",
              "      filter: drop-shadow(0px 1px 2px rgba(0, 0, 0, 0.3));\n",
              "      fill: #FFFFFF;\n",
              "    }\n",
              "  </style>\n",
              "\n",
              "      <script>\n",
              "        const buttonEl =\n",
              "          document.querySelector('#df-3ca1b33d-5718-4d77-83ab-1e7148690edf button.colab-df-convert');\n",
              "        buttonEl.style.display =\n",
              "          google.colab.kernel.accessAllowed ? 'block' : 'none';\n",
              "\n",
              "        async function convertToInteractive(key) {\n",
              "          const element = document.querySelector('#df-3ca1b33d-5718-4d77-83ab-1e7148690edf');\n",
              "          const dataTable =\n",
              "            await google.colab.kernel.invokeFunction('convertToInteractive',\n",
              "                                                     [key], {});\n",
              "          if (!dataTable) return;\n",
              "\n",
              "          const docLinkHtml = 'Like what you see? Visit the ' +\n",
              "            '<a target=\"_blank\" href=https://colab.research.google.com/notebooks/data_table.ipynb>data table notebook</a>'\n",
              "            + ' to learn more about interactive tables.';\n",
              "          element.innerHTML = '';\n",
              "          dataTable['output_type'] = 'display_data';\n",
              "          await google.colab.output.renderOutput(dataTable, element);\n",
              "          const docLink = document.createElement('div');\n",
              "          docLink.innerHTML = docLinkHtml;\n",
              "          element.appendChild(docLink);\n",
              "        }\n",
              "      </script>\n",
              "    </div>\n",
              "  </div>\n",
              "  "
            ]
          },
          "metadata": {},
          "execution_count": 177
        }
      ]
    },
    {
      "cell_type": "code",
      "source": [
        "stats_ = stats_normalized.loc[(stats_normalized['Rookie contract'] == 0)]"
      ],
      "metadata": {
        "id": "jQ4gL-XhBDKB"
      },
      "execution_count": 178,
      "outputs": []
    },
    {
      "cell_type": "code",
      "source": [
        "#Visualize what features contribute to salary for position players in the MLB.\n",
        "import matplotlib.pyplot as plt\n",
        "x = stats_['WAR']\n",
        "y = stats_['salary']\n",
        "plt.scatter(x,y,s=6.5, color = 'green')\n",
        "plt.xlabel('WAR')\n",
        "plt.ylabel('Salary (in millions)')\n",
        "plt.title('Salary vs. WAR')"
      ],
      "metadata": {
        "colab": {
          "base_uri": "https://localhost:8080/",
          "height": 312
        },
        "id": "9c1iuij77do5",
        "outputId": "3534a0a5-83fe-438d-fd73-0a4968050eb0"
      },
      "execution_count": 179,
      "outputs": [
        {
          "output_type": "execute_result",
          "data": {
            "text/plain": [
              "Text(0.5, 1.0, 'Salary vs. WAR')"
            ]
          },
          "metadata": {},
          "execution_count": 179
        },
        {
          "output_type": "display_data",
          "data": {
            "text/plain": [
              "<Figure size 432x288 with 1 Axes>"
            ],
            "image/png": "[encoded data removed]"
          },
          "metadata": {
            "needs_background": "light"
          }
        }
      ]
    },
    {
      "cell_type": "code",
      "source": [
        "x = stats_['ops']\n",
        "y = stats_['salary']\n",
        "plt.scatter(x,y,s=6.5, color = 'green')\n",
        "plt.xlabel('OPS')\n",
        "plt.ylabel('Salary (in millions)')\n",
        "plt.title('Salary vs. OPS')"
      ],
      "metadata": {
        "colab": {
          "base_uri": "https://localhost:8080/",
          "height": 312
        },
        "id": "mKyAESjp7fWw",
        "outputId": "25763a42-eaa6-49eb-8026-dbad11419ecb"
      },
      "execution_count": 180,
      "outputs": [
        {
          "output_type": "execute_result",
          "data": {
            "text/plain": [
              "Text(0.5, 1.0, 'Salary vs. OPS')"
            ]
          },
          "metadata": {},
          "execution_count": 180
        },
        {
          "output_type": "display_data",
          "data": {
            "text/plain": [
              "<Figure size 432x288 with 1 Axes>"
            ],
            "image/png": "[encoded data removed]"
          },
          "metadata": {
            "needs_background": "light"
          }
        }
      ]
    },
    {
      "cell_type": "code",
      "source": [
        "x = stats_['HR']\n",
        "y = stats_['salary']\n",
        "plt.scatter(x,y,s=6.5, color = 'green')\n",
        "plt.xlabel('HR')\n",
        "plt.ylabel('Salary (in millions)')\n",
        "plt.title('Salary vs. Home Runs')"
      ],
      "metadata": {
        "colab": {
          "base_uri": "https://localhost:8080/",
          "height": 312
        },
        "id": "bwL68YuR7fe2",
        "outputId": "63efe22d-ce91-4794-8aa1-ee3a2d09b97c"
      },
      "execution_count": 181,
      "outputs": [
        {
          "output_type": "execute_result",
          "data": {
            "text/plain": [
              "Text(0.5, 1.0, 'Salary vs. Home Runs')"
            ]
          },
          "metadata": {},
          "execution_count": 181
        },
        {
          "output_type": "display_data",
          "data": {
            "text/plain": [
              "<Figure size 432x288 with 1 Axes>"
            ],
            "image/png": "[encoded data removed]"
          },
          "metadata": {
            "needs_background": "light"
          }
        }
      ]
    },
    {
      "cell_type": "code",
      "source": [
        "x = stats_['RBI']\n",
        "y = stats_['salary']\n",
        "plt.scatter(x,y,s=6.5, color = 'green')\n",
        "plt.xlabel('RBI')\n",
        "plt.ylabel('Salary (in millions)')\n",
        "plt.title('Salary vs. RBI')"
      ],
      "metadata": {
        "colab": {
          "base_uri": "https://localhost:8080/",
          "height": 312
        },
        "id": "S96terut7fkK",
        "outputId": "3c4fbb49-1aca-4a53-9bf7-0dca9362ce96"
      },
      "execution_count": 182,
      "outputs": [
        {
          "output_type": "execute_result",
          "data": {
            "text/plain": [
              "Text(0.5, 1.0, 'Salary vs. RBI')"
            ]
          },
          "metadata": {},
          "execution_count": 182
        },
        {
          "output_type": "display_data",
          "data": {
            "text/plain": [
              "<Figure size 432x288 with 1 Axes>"
            ],
            "image/png": "[encoded data removed]"
          },
          "metadata": {
            "needs_background": "light"
          }
        }
      ]
    },
    {
      "cell_type": "code",
      "source": [
        "x = stats_['avg']\n",
        "y = stats_['salary']\n",
        "plt.scatter(x,y,s=6.5, color = 'green')\n",
        "plt.xlabel('avg')\n",
        "plt.ylabel('Salary (in millions)')\n",
        "plt.title('Salary vs. avg')"
      ],
      "metadata": {
        "colab": {
          "base_uri": "https://localhost:8080/",
          "height": 312
        },
        "id": "jjyjj7y97foV",
        "outputId": "21c094d6-8f5f-4b53-da76-e6d90846301f"
      },
      "execution_count": 183,
      "outputs": [
        {
          "output_type": "execute_result",
          "data": {
            "text/plain": [
              "Text(0.5, 1.0, 'Salary vs. avg')"
            ]
          },
          "metadata": {},
          "execution_count": 183
        },
        {
          "output_type": "display_data",
          "data": {
            "text/plain": [
              "<Figure size 432x288 with 1 Axes>"
            ],
            "image/png": "[encoded data removed]"
          },
          "metadata": {
            "needs_background": "light"
          }
        }
      ]
    },
    {
      "cell_type": "code",
      "source": [
        "x = stats_['H']\n",
        "y = stats_['salary']\n",
        "plt.scatter(x,y,s=6.5, color = 'green')\n",
        "plt.xlabel('hits')\n",
        "plt.ylabel('Salary (in millions)')\n",
        "plt.title('Salary vs. hits')"
      ],
      "metadata": {
        "colab": {
          "base_uri": "https://localhost:8080/",
          "height": 312
        },
        "id": "GV9R_NQA973z",
        "outputId": "0c7825f5-ce77-4dbc-adfa-17b28a27bd7f"
      },
      "execution_count": 184,
      "outputs": [
        {
          "output_type": "execute_result",
          "data": {
            "text/plain": [
              "Text(0.5, 1.0, 'Salary vs. hits')"
            ]
          },
          "metadata": {},
          "execution_count": 184
        },
        {
          "output_type": "display_data",
          "data": {
            "text/plain": [
              "<Figure size 432x288 with 1 Axes>"
            ],
            "image/png": "[encoded data removed]"
          },
          "metadata": {
            "needs_background": "light"
          }
        }
      ]
    },
    {
      "cell_type": "code",
      "source": [
        "x = stats_['G']\n",
        "y = stats_['salary']\n",
        "plt.scatter(x,y,s=6.5, color = 'green')\n",
        "plt.xlabel('games')\n",
        "plt.ylabel('Salary (in millions)')\n",
        "plt.title('Salary vs. games')"
      ],
      "metadata": {
        "colab": {
          "base_uri": "https://localhost:8080/",
          "height": 312
        },
        "id": "NTQ9Huin-HIH",
        "outputId": "7fb073be-9fd0-436c-d4ef-ed661a836d79"
      },
      "execution_count": 185,
      "outputs": [
        {
          "output_type": "execute_result",
          "data": {
            "text/plain": [
              "Text(0.5, 1.0, 'Salary vs. games')"
            ]
          },
          "metadata": {},
          "execution_count": 185
        },
        {
          "output_type": "display_data",
          "data": {
            "text/plain": [
              "<Figure size 432x288 with 1 Axes>"
            ],
            "image/png": "[encoded data removed]"
          },
          "metadata": {
            "needs_background": "light"
          }
        }
      ]
    },
    {
      "cell_type": "code",
      "source": [
        "x = stats_['GURU']\n",
        "y = stats_['salary']\n",
        "plt.scatter(x,y,s=6.5, color = 'green')\n",
        "plt.xlabel('GURU')\n",
        "plt.ylabel('Salary (in millions)')\n",
        "plt.title('Salary vs. GURU')"
      ],
      "metadata": {
        "colab": {
          "base_uri": "https://localhost:8080/",
          "height": 312
        },
        "id": "RS3XHYD--4T3",
        "outputId": "7f0bfc4b-1f10-4adb-a53b-144f270aab02"
      },
      "execution_count": 186,
      "outputs": [
        {
          "output_type": "execute_result",
          "data": {
            "text/plain": [
              "Text(0.5, 1.0, 'Salary vs. GURU')"
            ]
          },
          "metadata": {},
          "execution_count": 186
        },
        {
          "output_type": "display_data",
          "data": {
            "text/plain": [
              "<Figure size 432x288 with 1 Axes>"
            ],
            "image/png": "[encoded data removed]"
          },
          "metadata": {
            "needs_background": "light"
          }
        }
      ]
    },
    {
      "cell_type": "code",
      "source": [
        "x = stats_['PRO']\n",
        "y = stats_['salary']\n",
        "plt.scatter(x,y,s=6.5, color = 'green')\n",
        "plt.xlabel('PRO')\n",
        "plt.ylabel('Salary (in millions)')\n",
        "plt.title('Salary vs. PRO')"
      ],
      "metadata": {
        "colab": {
          "base_uri": "https://localhost:8080/",
          "height": 312
        },
        "id": "2Cs_dJeu7a0v",
        "outputId": "4d5e3cde-daad-418f-b722-707e05486cb0"
      },
      "execution_count": 187,
      "outputs": [
        {
          "output_type": "execute_result",
          "data": {
            "text/plain": [
              "Text(0.5, 1.0, 'Salary vs. PRO')"
            ]
          },
          "metadata": {},
          "execution_count": 187
        },
        {
          "output_type": "display_data",
          "data": {
            "text/plain": [
              "<Figure size 432x288 with 1 Axes>"
            ],
            "image/png": "[encoded data removed]"
          },
          "metadata": {
            "needs_background": "light"
          }
        }
      ]
    },
    {
      "cell_type": "code",
      "source": [
        "x = stats_['obp']\n",
        "y = stats_['salary']\n",
        "plt.scatter(x,y,s=6.5, color = 'green')\n",
        "plt.xlabel('OBP')\n",
        "plt.ylabel('Salary (in millions)')\n",
        "plt.title('Salary vs. OBP')"
      ],
      "metadata": {
        "id": "TSKT77_R_FVH",
        "colab": {
          "base_uri": "https://localhost:8080/",
          "height": 312
        },
        "outputId": "cec5d048-7ccf-4f40-9d78-9381a2c3848f"
      },
      "execution_count": 188,
      "outputs": [
        {
          "output_type": "execute_result",
          "data": {
            "text/plain": [
              "Text(0.5, 1.0, 'Salary vs. OBP')"
            ]
          },
          "metadata": {},
          "execution_count": 188
        },
        {
          "output_type": "display_data",
          "data": {
            "text/plain": [
              "<Figure size 432x288 with 1 Axes>"
            ],
            "image/png": "[encoded data removed]"
          },
          "metadata": {
            "needs_background": "light"
          }
        }
      ]
    },
    {
      "cell_type": "code",
      "source": [
        "x = stats_['slg']\n",
        "y = stats_['salary']\n",
        "plt.scatter(x,y,s=6.5, color = 'green')\n",
        "plt.xlabel('slugging')\n",
        "plt.ylabel('Salary (in millions)')\n",
        "plt.title('Salary vs. SLG%')"
      ],
      "metadata": {
        "id": "9C4N2Sf5-66n",
        "colab": {
          "base_uri": "https://localhost:8080/",
          "height": 312
        },
        "outputId": "d0b95fc5-dd12-4b50-8436-50d8db84385a"
      },
      "execution_count": 189,
      "outputs": [
        {
          "output_type": "execute_result",
          "data": {
            "text/plain": [
              "Text(0.5, 1.0, 'Salary vs. SLG%')"
            ]
          },
          "metadata": {},
          "execution_count": 189
        },
        {
          "output_type": "display_data",
          "data": {
            "text/plain": [
              "<Figure size 432x288 with 1 Axes>"
            ],
            "image/png": "[encoded data removed]"
          },
          "metadata": {
            "needs_background": "light"
          }
        }
      ]
    },
    {
      "cell_type": "code",
      "source": [
        "x = stats_['SB']\n",
        "y = stats_['salary']\n",
        "plt.scatter(x,y,s=6.5, color = 'green')\n",
        "plt.xlabel('SB')\n",
        "plt.ylabel('Salary (in millions)')\n",
        "plt.title('Salary vs. Stolen Bases')"
      ],
      "metadata": {
        "colab": {
          "base_uri": "https://localhost:8080/",
          "height": 312
        },
        "id": "uVQqN-itAr0l",
        "outputId": "6fb8aa9a-102a-4d5c-f83c-3af6717a26e7"
      },
      "execution_count": 190,
      "outputs": [
        {
          "output_type": "execute_result",
          "data": {
            "text/plain": [
              "Text(0.5, 1.0, 'Salary vs. Stolen Bases')"
            ]
          },
          "metadata": {},
          "execution_count": 190
        },
        {
          "output_type": "display_data",
          "data": {
            "text/plain": [
              "<Figure size 432x288 with 1 Axes>"
            ],
            "image/png": "[encoded data removed]"
          },
          "metadata": {
            "needs_background": "light"
          }
        }
      ]
    },
    {
      "cell_type": "code",
      "source": [
        ""
      ],
      "metadata": {
        "id": "vEJLnt4hA51u"
      },
      "execution_count": 190,
      "outputs": []
    },
    {
      "cell_type": "code",
      "source": [
        "#We will start by doing position wide visualizations to see what features contribute to salary\n",
        "import matplotlib.pyplot as plt\n",
        "first_base = stats_normalized.loc[(stats_normalized['position_1B'] == 1) & (stats_normalized['Rookie contract'] == 0)]\n",
        "\n",
        "x = first_base['ops']\n",
        "y = first_base['salary']\n",
        "plt.scatter(x,y,s=10)\n",
        "plt.xlabel('OPS')\n",
        "plt.ylabel('Salary (in millions)')\n",
        "plt.title('Salary vs. OPS')"
      ],
      "metadata": {
        "colab": {
          "base_uri": "https://localhost:8080/",
          "height": 312
        },
        "id": "diXspz_TzrgZ",
        "outputId": "e7304acf-787e-4cb1-fec9-931eb19cdc73"
      },
      "execution_count": 191,
      "outputs": [
        {
          "output_type": "execute_result",
          "data": {
            "text/plain": [
              "Text(0.5, 1.0, 'Salary vs. OPS')"
            ]
          },
          "metadata": {},
          "execution_count": 191
        },
        {
          "output_type": "display_data",
          "data": {
            "text/plain": [
              "<Figure size 432x288 with 1 Axes>"
            ],
            "image/png": "[encoded data removed]"
          },
          "metadata": {
            "needs_background": "light"
          }
        }
      ]
    },
    {
      "cell_type": "code",
      "source": [
        "print(stats.columns)"
      ],
      "metadata": {
        "colab": {
          "base_uri": "https://localhost:8080/"
        },
        "id": "SrjD4bY55PfI",
        "outputId": "d1e63fad-23dd-4d65-9360-b09a54073130"
      },
      "execution_count": 192,
      "outputs": [
        {
          "output_type": "stream",
          "name": "stdout",
          "text": [
            "Index(['age', 'G', 'tap', 'AB', 'R', 'H', 'db', 'tr', 'HR', 'RBI', 'SB', 'CS',\n",
            "       'BB', 'SO', 'IBB', 'hbp', 'SH', 'SF', 'GIDP', 'avg', 'obp', 'slg',\n",
            "       'woba', 'PRO', 'GURU', 'salary', 'ops', 'WAR', 'count',\n",
            "       'Rookie contract', 'position_1B', 'position_2B', 'position_3B',\n",
            "       'position_C', 'position_DH', 'position_OF', 'position_SS', 'throws_L',\n",
            "       'throws_R', 'bats_B', 'bats_L', 'bats_R'],\n",
            "      dtype='object')\n"
          ]
        }
      ]
    },
    {
      "cell_type": "code",
      "source": [
        "x = first_base['HR']\n",
        "y = first_base['salary']\n",
        "plt.scatter(x,y,s=10)\n",
        "plt.xlabel('HR')\n",
        "plt.ylabel('Salary (in millions)')\n",
        "plt.title('Salary vs. Home Runs')"
      ],
      "metadata": {
        "colab": {
          "base_uri": "https://localhost:8080/",
          "height": 312
        },
        "id": "Iw66aIc62Pyk",
        "outputId": "424db5b7-aaa6-4022-d972-5aade37aa711"
      },
      "execution_count": 193,
      "outputs": [
        {
          "output_type": "execute_result",
          "data": {
            "text/plain": [
              "Text(0.5, 1.0, 'Salary vs. Home Runs')"
            ]
          },
          "metadata": {},
          "execution_count": 193
        },
        {
          "output_type": "display_data",
          "data": {
            "text/plain": [
              "<Figure size 432x288 with 1 Axes>"
            ],
            "image/png": "[encoded data removed]"
          },
          "metadata": {
            "needs_background": "light"
          }
        }
      ]
    },
    {
      "cell_type": "code",
      "source": [
        "\n",
        "x = first_base['WAR']\n",
        "y = first_base['salary']\n",
        "plt.scatter(x,y,s=10)\n",
        "plt.xlabel('Wins Above Replacement')\n",
        "plt.ylabel('Salary (in millions)')\n",
        "plt.title('Salary vs. Wins Above Replacement')"
      ],
      "metadata": {
        "colab": {
          "base_uri": "https://localhost:8080/",
          "height": 312
        },
        "id": "SQQQqEoI3WXB",
        "outputId": "e46633fb-3b0e-4df6-872e-64e55889eaf7"
      },
      "execution_count": 194,
      "outputs": [
        {
          "output_type": "execute_result",
          "data": {
            "text/plain": [
              "Text(0.5, 1.0, 'Salary vs. Wins Above Replacement')"
            ]
          },
          "metadata": {},
          "execution_count": 194
        },
        {
          "output_type": "display_data",
          "data": {
            "text/plain": [
              "<Figure size 432x288 with 1 Axes>"
            ],
            "image/png": "[encoded data removed]"
          },
          "metadata": {
            "needs_background": "light"
          }
        }
      ]
    },
    {
      "cell_type": "code",
      "source": [
        "x = first_base['obp']\n",
        "y = first_base['salary']\n",
        "plt.scatter(x,y,s=10)\n",
        "plt.xlabel('OBP')\n",
        "plt.ylabel('Salary (in millions)')\n",
        "plt.title('Salary vs. OBP')"
      ],
      "metadata": {
        "colab": {
          "base_uri": "https://localhost:8080/",
          "height": 312
        },
        "id": "0fwaUX-G3W9V",
        "outputId": "e9e6509c-5be1-435c-b0cd-a34ed9364ee4"
      },
      "execution_count": 195,
      "outputs": [
        {
          "output_type": "execute_result",
          "data": {
            "text/plain": [
              "Text(0.5, 1.0, 'Salary vs. OBP')"
            ]
          },
          "metadata": {},
          "execution_count": 195
        },
        {
          "output_type": "display_data",
          "data": {
            "text/plain": [
              "<Figure size 432x288 with 1 Axes>"
            ],
            "image/png": "[encoded data removed]"
          },
          "metadata": {
            "needs_background": "light"
          }
        }
      ]
    }
  ]
}