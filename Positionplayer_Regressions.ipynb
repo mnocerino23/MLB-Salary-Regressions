{
  "nbformat": 4,
  "nbformat_minor": 0,
  "metadata": {
    "colab": {
      "name": "Positionplayer_Regressions.ipynb",
      "provenance": [],
      "collapsed_sections": [],
      "authorship_tag": "ABX9TyM8lZZeuQEFnK9EUarL8WhG",
      "include_colab_link": true
    },
    "kernelspec": {
      "name": "python3",
      "display_name": "Python 3"
    },
    "language_info": {
      "name": "python"
    }
  },
  "cells": [
    {
      "cell_type": "markdown",
      "metadata": {
        "id": "view-in-github",
        "colab_type": "text"
      },
      "source": [
        "<a href=\"https://colab.research.google.com/github/mnocerino23/MLB-Salary-Regressions/blob/main/Positionplayer_Regressions.ipynb\" target=\"_parent\"><img src=\"https://colab.research.google.com/assets/colab-badge.svg\" alt=\"Open In Colab\"/></a>"
      ]
    },
    {
      "cell_type": "markdown",
      "source": [
        "# In this Jupyter Notebook, I will build regression models to predict salary (in millions) for MLB position players. I will experiment with different modeling techniques such as multivariate linear, lasso, ridge, and neural network regressions"
      ],
      "metadata": {
        "id": "f4ApupsHWsk0"
      }
    },
    {
      "cell_type": "code",
      "execution_count": 42,
      "metadata": {
        "id": "-m4_gX_7WniX",
        "colab": {
          "base_uri": "https://localhost:8080/"
        },
        "outputId": "430d3039-2ec2-4b07-a8e6-0c3e255b6c8e"
      },
      "outputs": [
        {
          "output_type": "stream",
          "name": "stdout",
          "text": [
            "Drive already mounted at /content/drive; to attempt to forcibly remount, call drive.mount(\"/content/drive\", force_remount=True).\n"
          ]
        }
      ],
      "source": [
        "import numpy as np\n",
        "import pandas as pd\n",
        "\n",
        "from google.colab import drive\n",
        "drive.mount('/content/drive')"
      ]
    },
    {
      "cell_type": "code",
      "source": [
        "import sklearn\n",
        "from sklearn import preprocessing\n",
        "from sklearn.model_selection import train_test_split, cross_val_score\n",
        "from sklearn.feature_selection import SelectKBest, f_regression\n",
        "from sklearn.preprocessing import MinMaxScaler"
      ],
      "metadata": {
        "id": "2paP65w2XzxT"
      },
      "execution_count": 43,
      "outputs": []
    },
    {
      "cell_type": "code",
      "source": [
        "from sklearn import linear_model\n",
        "from sklearn.linear_model import Ridge, Lasso"
      ],
      "metadata": {
        "id": "lUOnJgJjYBjQ"
      },
      "execution_count": 44,
      "outputs": []
    },
    {
      "cell_type": "code",
      "source": [
        "from sklearn.metrics import mean_absolute_error, mean_squared_error, mean_squared_log_error"
      ],
      "metadata": {
        "id": "vcpSRxhvX5mJ"
      },
      "execution_count": 45,
      "outputs": []
    },
    {
      "cell_type": "code",
      "source": [
        "#read in position player stats\n",
        "pp_train = pd.read_csv('/content/drive/MyDrive/Data_Science_Projects/MLB/pp_traindata1.csv')\n",
        "pp_test = pd.read_csv('/content/drive/MyDrive/Data_Science_Projects/MLB/pp_testdata.csv')"
      ],
      "metadata": {
        "id": "_2BdS_khYKqq"
      },
      "execution_count": 46,
      "outputs": []
    },
    {
      "cell_type": "markdown",
      "source": [
        "# Final check for null values:"
      ],
      "metadata": {
        "id": "2Te5bc3PfD_k"
      }
    },
    {
      "cell_type": "code",
      "source": [
        "#Looks like pp_train has a few null values so we drop them\n",
        "pp_train.info()"
      ],
      "metadata": {
        "colab": {
          "base_uri": "https://localhost:8080/"
        },
        "id": "lbN5vD43e-ZF",
        "outputId": "71f2e636-851c-4096-deed-8fad68a8be2b"
      },
      "execution_count": 47,
      "outputs": [
        {
          "output_type": "stream",
          "name": "stdout",
          "text": [
            "<class 'pandas.core.frame.DataFrame'>\n",
            "RangeIndex: 280 entries, 0 to 279\n",
            "Data columns (total 45 columns):\n",
            " #   Column              Non-Null Count  Dtype  \n",
            "---  ------              --------------  -----  \n",
            " 0   Unnamed: 0          280 non-null    int64  \n",
            " 1   age                 280 non-null    int64  \n",
            " 2   stints              280 non-null    int64  \n",
            " 3   G                   279 non-null    float64\n",
            " 4   tap                 279 non-null    float64\n",
            " 5   AB                  279 non-null    float64\n",
            " 6   R                   279 non-null    float64\n",
            " 7   H                   279 non-null    float64\n",
            " 8   db                  279 non-null    float64\n",
            " 9   tr                  279 non-null    float64\n",
            " 10  HR                  279 non-null    float64\n",
            " 11  RBI                 279 non-null    float64\n",
            " 12  SB                  279 non-null    float64\n",
            " 13  CS                  279 non-null    float64\n",
            " 14  BB                  279 non-null    float64\n",
            " 15  SO                  279 non-null    float64\n",
            " 16  IBB                 279 non-null    float64\n",
            " 17  hbp                 279 non-null    float64\n",
            " 18  SH                  279 non-null    float64\n",
            " 19  SF                  279 non-null    float64\n",
            " 20  GIDP                279 non-null    float64\n",
            " 21  avg                 279 non-null    float64\n",
            " 22  obp                 279 non-null    float64\n",
            " 23  slg                 279 non-null    float64\n",
            " 24  woba                279 non-null    float64\n",
            " 25  PRO                 279 non-null    float64\n",
            " 26  GURU                279 non-null    float64\n",
            " 27  salary              280 non-null    float64\n",
            " 28  multiple_positions  280 non-null    int64  \n",
            " 29  ops                 279 non-null    float64\n",
            " 30  WAR                 280 non-null    float64\n",
            " 31  Rookie contract     280 non-null    int64  \n",
            " 32  1B                  280 non-null    int64  \n",
            " 33  2B                  280 non-null    int64  \n",
            " 34  3B                  280 non-null    int64  \n",
            " 35  C                   280 non-null    int64  \n",
            " 36  DH                  280 non-null    int64  \n",
            " 37  OF                  280 non-null    int64  \n",
            " 38  P                   280 non-null    int64  \n",
            " 39  SS                  280 non-null    int64  \n",
            " 40  bats_B              280 non-null    int64  \n",
            " 41  bats_L              280 non-null    int64  \n",
            " 42  bats_R              280 non-null    int64  \n",
            " 43  throws_L            280 non-null    int64  \n",
            " 44  throws_R            280 non-null    int64  \n",
            "dtypes: float64(27), int64(18)\n",
            "memory usage: 98.6 KB\n"
          ]
        }
      ]
    },
    {
      "cell_type": "code",
      "source": [
        "pp_train = pp_train.dropna()"
      ],
      "metadata": {
        "id": "WGz8pzRdfJUk"
      },
      "execution_count": 48,
      "outputs": []
    },
    {
      "cell_type": "code",
      "source": [
        "pp_train.info()"
      ],
      "metadata": {
        "colab": {
          "base_uri": "https://localhost:8080/"
        },
        "id": "r7xpS7ZofLPC",
        "outputId": "aadde5c0-e6b6-4436-934a-b93f3968e2aa"
      },
      "execution_count": 49,
      "outputs": [
        {
          "output_type": "stream",
          "name": "stdout",
          "text": [
            "<class 'pandas.core.frame.DataFrame'>\n",
            "Int64Index: 279 entries, 0 to 279\n",
            "Data columns (total 45 columns):\n",
            " #   Column              Non-Null Count  Dtype  \n",
            "---  ------              --------------  -----  \n",
            " 0   Unnamed: 0          279 non-null    int64  \n",
            " 1   age                 279 non-null    int64  \n",
            " 2   stints              279 non-null    int64  \n",
            " 3   G                   279 non-null    float64\n",
            " 4   tap                 279 non-null    float64\n",
            " 5   AB                  279 non-null    float64\n",
            " 6   R                   279 non-null    float64\n",
            " 7   H                   279 non-null    float64\n",
            " 8   db                  279 non-null    float64\n",
            " 9   tr                  279 non-null    float64\n",
            " 10  HR                  279 non-null    float64\n",
            " 11  RBI                 279 non-null    float64\n",
            " 12  SB                  279 non-null    float64\n",
            " 13  CS                  279 non-null    float64\n",
            " 14  BB                  279 non-null    float64\n",
            " 15  SO                  279 non-null    float64\n",
            " 16  IBB                 279 non-null    float64\n",
            " 17  hbp                 279 non-null    float64\n",
            " 18  SH                  279 non-null    float64\n",
            " 19  SF                  279 non-null    float64\n",
            " 20  GIDP                279 non-null    float64\n",
            " 21  avg                 279 non-null    float64\n",
            " 22  obp                 279 non-null    float64\n",
            " 23  slg                 279 non-null    float64\n",
            " 24  woba                279 non-null    float64\n",
            " 25  PRO                 279 non-null    float64\n",
            " 26  GURU                279 non-null    float64\n",
            " 27  salary              279 non-null    float64\n",
            " 28  multiple_positions  279 non-null    int64  \n",
            " 29  ops                 279 non-null    float64\n",
            " 30  WAR                 279 non-null    float64\n",
            " 31  Rookie contract     279 non-null    int64  \n",
            " 32  1B                  279 non-null    int64  \n",
            " 33  2B                  279 non-null    int64  \n",
            " 34  3B                  279 non-null    int64  \n",
            " 35  C                   279 non-null    int64  \n",
            " 36  DH                  279 non-null    int64  \n",
            " 37  OF                  279 non-null    int64  \n",
            " 38  P                   279 non-null    int64  \n",
            " 39  SS                  279 non-null    int64  \n",
            " 40  bats_B              279 non-null    int64  \n",
            " 41  bats_L              279 non-null    int64  \n",
            " 42  bats_R              279 non-null    int64  \n",
            " 43  throws_L            279 non-null    int64  \n",
            " 44  throws_R            279 non-null    int64  \n",
            "dtypes: float64(27), int64(18)\n",
            "memory usage: 100.3 KB\n"
          ]
        }
      ]
    },
    {
      "cell_type": "code",
      "source": [
        "#pp_test has no null values so we are good\n",
        "pp_test.info()"
      ],
      "metadata": {
        "colab": {
          "base_uri": "https://localhost:8080/"
        },
        "id": "3tBG6TJ5fA80",
        "outputId": "39caed31-7090-4018-851b-6e78b6c224ad"
      },
      "execution_count": 50,
      "outputs": [
        {
          "output_type": "stream",
          "name": "stdout",
          "text": [
            "<class 'pandas.core.frame.DataFrame'>\n",
            "RangeIndex: 70 entries, 0 to 69\n",
            "Data columns (total 45 columns):\n",
            " #   Column              Non-Null Count  Dtype  \n",
            "---  ------              --------------  -----  \n",
            " 0   Unnamed: 0          70 non-null     int64  \n",
            " 1   age                 70 non-null     int64  \n",
            " 2   stints              70 non-null     int64  \n",
            " 3   G                   70 non-null     float64\n",
            " 4   tap                 70 non-null     float64\n",
            " 5   AB                  70 non-null     float64\n",
            " 6   R                   70 non-null     float64\n",
            " 7   H                   70 non-null     float64\n",
            " 8   db                  70 non-null     float64\n",
            " 9   tr                  70 non-null     float64\n",
            " 10  HR                  70 non-null     float64\n",
            " 11  RBI                 70 non-null     float64\n",
            " 12  SB                  70 non-null     float64\n",
            " 13  CS                  70 non-null     float64\n",
            " 14  BB                  70 non-null     float64\n",
            " 15  SO                  70 non-null     float64\n",
            " 16  IBB                 70 non-null     float64\n",
            " 17  hbp                 70 non-null     float64\n",
            " 18  SH                  70 non-null     float64\n",
            " 19  SF                  70 non-null     float64\n",
            " 20  GIDP                70 non-null     float64\n",
            " 21  avg                 70 non-null     float64\n",
            " 22  obp                 70 non-null     float64\n",
            " 23  slg                 70 non-null     float64\n",
            " 24  woba                70 non-null     float64\n",
            " 25  PRO                 70 non-null     float64\n",
            " 26  GURU                70 non-null     float64\n",
            " 27  salary              70 non-null     float64\n",
            " 28  multiple_positions  70 non-null     int64  \n",
            " 29  ops                 70 non-null     float64\n",
            " 30  WAR                 70 non-null     float64\n",
            " 31  Rookie contract     70 non-null     int64  \n",
            " 32  1B                  70 non-null     int64  \n",
            " 33  2B                  70 non-null     int64  \n",
            " 34  3B                  70 non-null     int64  \n",
            " 35  C                   70 non-null     int64  \n",
            " 36  DH                  70 non-null     int64  \n",
            " 37  OF                  70 non-null     int64  \n",
            " 38  P                   70 non-null     int64  \n",
            " 39  SS                  70 non-null     int64  \n",
            " 40  bats_B              70 non-null     int64  \n",
            " 41  bats_L              70 non-null     int64  \n",
            " 42  bats_R              70 non-null     int64  \n",
            " 43  throws_L            70 non-null     int64  \n",
            " 44  throws_R            70 non-null     int64  \n",
            "dtypes: float64(27), int64(18)\n",
            "memory usage: 24.7 KB\n"
          ]
        }
      ]
    },
    {
      "cell_type": "code",
      "source": [
        "#drop unnamed index column from both datasets\n",
        "#also drop the at bats feature since I am now realizing the redunancy here when tap (total plate appearances) contains very similar info\n",
        "pp_train.drop(columns = ['Unnamed: 0', 'AB'], inplace = True)\n",
        "pp_test.drop(columns = ['Unnamed: 0', 'AB'], inplace = True)\n",
        "pp_test.head()"
      ],
      "metadata": {
        "colab": {
          "base_uri": "https://localhost:8080/",
          "height": 322
        },
        "id": "dsqdOljHZXvq",
        "outputId": "0cc5a6d4-27e4-4507-b76c-fa15081824c4"
      },
      "execution_count": 51,
      "outputs": [
        {
          "output_type": "stream",
          "name": "stderr",
          "text": [
            "/usr/local/lib/python3.7/dist-packages/pandas/core/frame.py:4913: SettingWithCopyWarning: \n",
            "A value is trying to be set on a copy of a slice from a DataFrame\n",
            "\n",
            "See the caveats in the documentation: https://pandas.pydata.org/pandas-docs/stable/user_guide/indexing.html#returning-a-view-versus-a-copy\n",
            "  errors=errors,\n"
          ]
        },
        {
          "output_type": "execute_result",
          "data": {
            "text/plain": [
              "   age  stints      G    tap     R      H    db   tr    HR   RBI  ...  C  DH  \\\n",
              "0   32       1   72.0  251.0  19.0   48.0  12.0  0.0  12.0  41.0  ...  1   0   \n",
              "1   31       1  161.0  680.0  97.0  155.0  25.0  1.0  34.0  97.0  ...  0   0   \n",
              "2   25       1   75.0  248.0  15.0   39.0   9.0  1.0   0.0  15.0  ...  0   0   \n",
              "3   24       1   77.0  288.0  28.0   67.0  11.0  4.0   6.0  26.0  ...  0   0   \n",
              "4   23       1   30.0   80.0   4.0   18.0   6.0  0.0   0.0   4.0  ...  0   0   \n",
              "\n",
              "   OF  P  SS  bats_B  bats_L  bats_R  throws_L  throws_R  \n",
              "0   0  0   0       0       0       1         0         1  \n",
              "1   0  0   0       0       0       1         0         1  \n",
              "2   1  0   0       0       0       1         0         1  \n",
              "3   0  0   0       0       0       1         0         1  \n",
              "4   0  0   1       1       0       0         0         1  \n",
              "\n",
              "[5 rows x 43 columns]"
            ],
            "text/html": [
              "\n",
              "  <div id=\"df-24220c95-c446-49ca-8ca0-5c74d29ea9ea\">\n",
              "    <div class=\"colab-df-container\">\n",
              "      <div>\n",
              "<style scoped>\n",
              "    .dataframe tbody tr th:only-of-type {\n",
              "        vertical-align: middle;\n",
              "    }\n",
              "\n",
              "    .dataframe tbody tr th {\n",
              "        vertical-align: top;\n",
              "    }\n",
              "\n",
              "    .dataframe thead th {\n",
              "        text-align: right;\n",
              "    }\n",
              "</style>\n",
              "<table border=\"1\" class=\"dataframe\">\n",
              "  <thead>\n",
              "    <tr style=\"text-align: right;\">\n",
              "      <th></th>\n",
              "      <th>age</th>\n",
              "      <th>stints</th>\n",
              "      <th>G</th>\n",
              "      <th>tap</th>\n",
              "      <th>R</th>\n",
              "      <th>H</th>\n",
              "      <th>db</th>\n",
              "      <th>tr</th>\n",
              "      <th>HR</th>\n",
              "      <th>RBI</th>\n",
              "      <th>...</th>\n",
              "      <th>C</th>\n",
              "      <th>DH</th>\n",
              "      <th>OF</th>\n",
              "      <th>P</th>\n",
              "      <th>SS</th>\n",
              "      <th>bats_B</th>\n",
              "      <th>bats_L</th>\n",
              "      <th>bats_R</th>\n",
              "      <th>throws_L</th>\n",
              "      <th>throws_R</th>\n",
              "    </tr>\n",
              "  </thead>\n",
              "  <tbody>\n",
              "    <tr>\n",
              "      <th>0</th>\n",
              "      <td>32</td>\n",
              "      <td>1</td>\n",
              "      <td>72.0</td>\n",
              "      <td>251.0</td>\n",
              "      <td>19.0</td>\n",
              "      <td>48.0</td>\n",
              "      <td>12.0</td>\n",
              "      <td>0.0</td>\n",
              "      <td>12.0</td>\n",
              "      <td>41.0</td>\n",
              "      <td>...</td>\n",
              "      <td>1</td>\n",
              "      <td>0</td>\n",
              "      <td>0</td>\n",
              "      <td>0</td>\n",
              "      <td>0</td>\n",
              "      <td>0</td>\n",
              "      <td>0</td>\n",
              "      <td>1</td>\n",
              "      <td>0</td>\n",
              "      <td>1</td>\n",
              "    </tr>\n",
              "    <tr>\n",
              "      <th>1</th>\n",
              "      <td>31</td>\n",
              "      <td>1</td>\n",
              "      <td>161.0</td>\n",
              "      <td>680.0</td>\n",
              "      <td>97.0</td>\n",
              "      <td>155.0</td>\n",
              "      <td>25.0</td>\n",
              "      <td>1.0</td>\n",
              "      <td>34.0</td>\n",
              "      <td>97.0</td>\n",
              "      <td>...</td>\n",
              "      <td>0</td>\n",
              "      <td>0</td>\n",
              "      <td>0</td>\n",
              "      <td>0</td>\n",
              "      <td>0</td>\n",
              "      <td>0</td>\n",
              "      <td>0</td>\n",
              "      <td>1</td>\n",
              "      <td>0</td>\n",
              "      <td>1</td>\n",
              "    </tr>\n",
              "    <tr>\n",
              "      <th>2</th>\n",
              "      <td>25</td>\n",
              "      <td>1</td>\n",
              "      <td>75.0</td>\n",
              "      <td>248.0</td>\n",
              "      <td>15.0</td>\n",
              "      <td>39.0</td>\n",
              "      <td>9.0</td>\n",
              "      <td>1.0</td>\n",
              "      <td>0.0</td>\n",
              "      <td>15.0</td>\n",
              "      <td>...</td>\n",
              "      <td>0</td>\n",
              "      <td>0</td>\n",
              "      <td>1</td>\n",
              "      <td>0</td>\n",
              "      <td>0</td>\n",
              "      <td>0</td>\n",
              "      <td>0</td>\n",
              "      <td>1</td>\n",
              "      <td>0</td>\n",
              "      <td>1</td>\n",
              "    </tr>\n",
              "    <tr>\n",
              "      <th>3</th>\n",
              "      <td>24</td>\n",
              "      <td>1</td>\n",
              "      <td>77.0</td>\n",
              "      <td>288.0</td>\n",
              "      <td>28.0</td>\n",
              "      <td>67.0</td>\n",
              "      <td>11.0</td>\n",
              "      <td>4.0</td>\n",
              "      <td>6.0</td>\n",
              "      <td>26.0</td>\n",
              "      <td>...</td>\n",
              "      <td>0</td>\n",
              "      <td>0</td>\n",
              "      <td>0</td>\n",
              "      <td>0</td>\n",
              "      <td>0</td>\n",
              "      <td>0</td>\n",
              "      <td>0</td>\n",
              "      <td>1</td>\n",
              "      <td>0</td>\n",
              "      <td>1</td>\n",
              "    </tr>\n",
              "    <tr>\n",
              "      <th>4</th>\n",
              "      <td>23</td>\n",
              "      <td>1</td>\n",
              "      <td>30.0</td>\n",
              "      <td>80.0</td>\n",
              "      <td>4.0</td>\n",
              "      <td>18.0</td>\n",
              "      <td>6.0</td>\n",
              "      <td>0.0</td>\n",
              "      <td>0.0</td>\n",
              "      <td>4.0</td>\n",
              "      <td>...</td>\n",
              "      <td>0</td>\n",
              "      <td>0</td>\n",
              "      <td>0</td>\n",
              "      <td>0</td>\n",
              "      <td>1</td>\n",
              "      <td>1</td>\n",
              "      <td>0</td>\n",
              "      <td>0</td>\n",
              "      <td>0</td>\n",
              "      <td>1</td>\n",
              "    </tr>\n",
              "  </tbody>\n",
              "</table>\n",
              "<p>5 rows × 43 columns</p>\n",
              "</div>\n",
              "      <button class=\"colab-df-convert\" onclick=\"convertToInteractive('df-24220c95-c446-49ca-8ca0-5c74d29ea9ea')\"\n",
              "              title=\"Convert this dataframe to an interactive table.\"\n",
              "              style=\"display:none;\">\n",
              "        \n",
              "  <svg xmlns=\"http://www.w3.org/2000/svg\" height=\"24px\"viewBox=\"0 0 24 24\"\n",
              "       width=\"24px\">\n",
              "    <path d=\"M0 0h24v24H0V0z\" fill=\"none\"/>\n",
              "    <path d=\"M18.56 5.44l.94 2.06.94-2.06 2.06-.94-2.06-.94-.94-2.06-.94 2.06-2.06.94zm-11 1L8.5 8.5l.94-2.06 2.06-.94-2.06-.94L8.5 2.5l-.94 2.06-2.06.94zm10 10l.94 2.06.94-2.06 2.06-.94-2.06-.94-.94-2.06-.94 2.06-2.06.94z\"/><path d=\"M17.41 7.96l-1.37-1.37c-.4-.4-.92-.59-1.43-.59-.52 0-1.04.2-1.43.59L10.3 9.45l-7.72 7.72c-.78.78-.78 2.05 0 2.83L4 21.41c.39.39.9.59 1.41.59.51 0 1.02-.2 1.41-.59l7.78-7.78 2.81-2.81c.8-.78.8-2.07 0-2.86zM5.41 20L4 18.59l7.72-7.72 1.47 1.35L5.41 20z\"/>\n",
              "  </svg>\n",
              "      </button>\n",
              "      \n",
              "  <style>\n",
              "    .colab-df-container {\n",
              "      display:flex;\n",
              "      flex-wrap:wrap;\n",
              "      gap: 12px;\n",
              "    }\n",
              "\n",
              "    .colab-df-convert {\n",
              "      background-color: #E8F0FE;\n",
              "      border: none;\n",
              "      border-radius: 50%;\n",
              "      cursor: pointer;\n",
              "      display: none;\n",
              "      fill: #1967D2;\n",
              "      height: 32px;\n",
              "      padding: 0 0 0 0;\n",
              "      width: 32px;\n",
              "    }\n",
              "\n",
              "    .colab-df-convert:hover {\n",
              "      background-color: #E2EBFA;\n",
              "      box-shadow: 0px 1px 2px rgba(60, 64, 67, 0.3), 0px 1px 3px 1px rgba(60, 64, 67, 0.15);\n",
              "      fill: #174EA6;\n",
              "    }\n",
              "\n",
              "    [theme=dark] .colab-df-convert {\n",
              "      background-color: #3B4455;\n",
              "      fill: #D2E3FC;\n",
              "    }\n",
              "\n",
              "    [theme=dark] .colab-df-convert:hover {\n",
              "      background-color: #434B5C;\n",
              "      box-shadow: 0px 1px 3px 1px rgba(0, 0, 0, 0.15);\n",
              "      filter: drop-shadow(0px 1px 2px rgba(0, 0, 0, 0.3));\n",
              "      fill: #FFFFFF;\n",
              "    }\n",
              "  </style>\n",
              "\n",
              "      <script>\n",
              "        const buttonEl =\n",
              "          document.querySelector('#df-24220c95-c446-49ca-8ca0-5c74d29ea9ea button.colab-df-convert');\n",
              "        buttonEl.style.display =\n",
              "          google.colab.kernel.accessAllowed ? 'block' : 'none';\n",
              "\n",
              "        async function convertToInteractive(key) {\n",
              "          const element = document.querySelector('#df-24220c95-c446-49ca-8ca0-5c74d29ea9ea');\n",
              "          const dataTable =\n",
              "            await google.colab.kernel.invokeFunction('convertToInteractive',\n",
              "                                                     [key], {});\n",
              "          if (!dataTable) return;\n",
              "\n",
              "          const docLinkHtml = 'Like what you see? Visit the ' +\n",
              "            '<a target=\"_blank\" href=https://colab.research.google.com/notebooks/data_table.ipynb>data table notebook</a>'\n",
              "            + ' to learn more about interactive tables.';\n",
              "          element.innerHTML = '';\n",
              "          dataTable['output_type'] = 'display_data';\n",
              "          await google.colab.output.renderOutput(dataTable, element);\n",
              "          const docLink = document.createElement('div');\n",
              "          docLink.innerHTML = docLinkHtml;\n",
              "          element.appendChild(docLink);\n",
              "        }\n",
              "      </script>\n",
              "    </div>\n",
              "  </div>\n",
              "  "
            ]
          },
          "metadata": {},
          "execution_count": 51
        }
      ]
    },
    {
      "cell_type": "markdown",
      "source": [
        "# Reminding ourselves of the train and test data shapes (we performed an 80-20 split previously then normalized both independently)"
      ],
      "metadata": {
        "id": "XiZ7zpNQdl-j"
      }
    },
    {
      "cell_type": "code",
      "source": [
        "print('Position Players Train:')\n",
        "print('Train dataset dimensions: ', pp_train.shape, '\\n')\n",
        "\n",
        "print('Position Players Test:')\n",
        "print('Test dataset dimensions: ', pp_test.shape, '\\n')"
      ],
      "metadata": {
        "colab": {
          "base_uri": "https://localhost:8080/"
        },
        "id": "CYOaYX2cdubH",
        "outputId": "b4c01d9a-68f1-42bd-94ef-2b81ffd1add1"
      },
      "execution_count": 52,
      "outputs": [
        {
          "output_type": "stream",
          "name": "stdout",
          "text": [
            "Position Players Train:\n",
            "Train dataset dimensions:  (279, 43) \n",
            "\n",
            "Position Players Test:\n",
            "Test dataset dimensions:  (70, 43) \n",
            "\n"
          ]
        }
      ]
    },
    {
      "cell_type": "markdown",
      "source": [
        "# Normalize input features using min-max normalization"
      ],
      "metadata": {
        "id": "ry5e9Tm6h1BK"
      }
    },
    {
      "cell_type": "code",
      "source": [
        "from sklearn.preprocessing import MinMaxScaler\n",
        "scaler = MinMaxScaler()"
      ],
      "metadata": {
        "id": "zHz3mSI3ienL"
      },
      "execution_count": 53,
      "outputs": []
    },
    {
      "cell_type": "code",
      "source": [
        "train_target = pp_train['salary']\n",
        "\n",
        "train_features = pp_train.drop(columns = ['salary'])\n",
        "col = train_features.columns\n",
        "train_features = scaler.fit_transform(train_features)\n",
        "train_features = pd.DataFrame(data=train_features, columns=col)"
      ],
      "metadata": {
        "id": "PXUoewX1eLXP"
      },
      "execution_count": 54,
      "outputs": []
    },
    {
      "cell_type": "code",
      "source": [
        "test_target = pp_test['salary']\n",
        "\n",
        "test_features = pp_test.drop(columns = ['salary'])\n",
        "test_features = scaler.fit_transform(test_features)\n",
        "test_features = pd.DataFrame(data=test_features, columns=col)"
      ],
      "metadata": {
        "id": "_mC9w8dPefBO"
      },
      "execution_count": 55,
      "outputs": []
    },
    {
      "cell_type": "markdown",
      "source": [
        "# Feature Selection"
      ],
      "metadata": {
        "id": "y7f5U9w6djlP"
      }
    },
    {
      "cell_type": "markdown",
      "source": [
        "Vary the number of features we select to find optimal amount. I found that k = 12 features produces the best model with MAE of 3.49 million"
      ],
      "metadata": {
        "id": "Hek1bsWEer9s"
      }
    },
    {
      "cell_type": "code",
      "source": [
        "#top_features_ordered = []"
      ],
      "metadata": {
        "id": "9ppcJZ35d5or"
      },
      "execution_count": 56,
      "outputs": []
    },
    {
      "cell_type": "code",
      "source": [
        "#best_features = SelectKBest(f_regression, k=12)\n",
        "#k_best_data = best_features.fit_transform(train_features, train_target)\n",
        "#mask = best_features.get_support()\n",
        "#new_features = train_features.columns[mask]\n",
        "#for item in new_features:\n",
        "  #if item not in top_features_ordered:\n",
        "   # top_features_ordered.append(item)"
      ],
      "metadata": {
        "id": "TAXTX1chel4n"
      },
      "execution_count": 57,
      "outputs": []
    },
    {
      "cell_type": "code",
      "source": [
        "#count = 1\n",
        "#for item in top_features_ordered:\n",
        "  #print(count, '. ', item)\n",
        "  #count += 1"
      ],
      "metadata": {
        "id": "7A3BEqTnewYv"
      },
      "execution_count": 58,
      "outputs": []
    },
    {
      "cell_type": "code",
      "source": [
        "train_selected_X = train_features[['age', 'G', 'RBI', 'H', 'GIDP', 'PRO', 'Rookie contract', 'ops']]\n",
        "train_y = train_target\n",
        "\n",
        "test_selected_X = test_features[['age', 'G', 'RBI', 'H', 'GIDP', 'PRO', 'Rookie contract', 'ops']]\n",
        "test_y = test_target"
      ],
      "metadata": {
        "id": "DhOI6VjOffNS"
      },
      "execution_count": 59,
      "outputs": []
    },
    {
      "cell_type": "code",
      "source": [
        "print('Train Features:')\n",
        "print('train_selected_X dimensions: ', train_selected_X.shape)\n",
        "print('train_y dimensions:', train_y.shape, '\\n')\n",
        "\n",
        "print('Test Features:')\n",
        "print('test_data_X dimensions: ', test_selected_X.shape)\n",
        "print('test_data_y dimensions:', test_y.shape, '\\n')"
      ],
      "metadata": {
        "colab": {
          "base_uri": "https://localhost:8080/"
        },
        "id": "ZHMTbm25foJW",
        "outputId": "ec5e52ed-1ef9-4d87-dbc6-f2defd054955"
      },
      "execution_count": 60,
      "outputs": [
        {
          "output_type": "stream",
          "name": "stdout",
          "text": [
            "Train Features:\n",
            "train_selected_X dimensions:  (279, 8)\n",
            "train_y dimensions: (279,) \n",
            "\n",
            "Test Features:\n",
            "test_data_X dimensions:  (70, 8)\n",
            "test_data_y dimensions: (70,) \n",
            "\n"
          ]
        }
      ]
    },
    {
      "cell_type": "markdown",
      "source": [
        "# Multivariate Linear Regression"
      ],
      "metadata": {
        "id": "2oLgxL4jnAom"
      }
    },
    {
      "cell_type": "code",
      "source": [
        "multivariate_regression = linear_model.LinearRegression()\n",
        "multivariate_regression.fit(train_selected_X, train_y)"
      ],
      "metadata": {
        "colab": {
          "base_uri": "https://localhost:8080/"
        },
        "id": "UDhwuThmf8QA",
        "outputId": "6950dd10-4734-4dbb-d53b-cd1d40ba20c9"
      },
      "execution_count": 61,
      "outputs": [
        {
          "output_type": "execute_result",
          "data": {
            "text/plain": [
              "LinearRegression()"
            ]
          },
          "metadata": {},
          "execution_count": 61
        }
      ]
    },
    {
      "cell_type": "markdown",
      "source": [
        "# Beta values (coefficients) and intercept for our multivariate linear regression:"
      ],
      "metadata": {
        "id": "lI9G49XlgGr-"
      }
    },
    {
      "cell_type": "code",
      "source": [
        "multivariate_regression.coef_"
      ],
      "metadata": {
        "colab": {
          "base_uri": "https://localhost:8080/"
        },
        "id": "W-vg-stwgBRe",
        "outputId": "da962d88-0728-495d-a038-21d65ab3fcb2"
      },
      "execution_count": 62,
      "outputs": [
        {
          "output_type": "execute_result",
          "data": {
            "text/plain": [
              "array([18.52392221, -9.3448351 , -2.64652833, -3.67020106,  6.47866356,\n",
              "       22.15176025,  0.96789912, -5.06003056])"
            ]
          },
          "metadata": {},
          "execution_count": 62
        }
      ]
    },
    {
      "cell_type": "code",
      "source": [
        "multivariate_regression.intercept_"
      ],
      "metadata": {
        "colab": {
          "base_uri": "https://localhost:8080/"
        },
        "id": "Z8w-yiq4gCVc",
        "outputId": "cfc69c27-43f2-413f-cc0c-ba9a961d554d"
      },
      "execution_count": 63,
      "outputs": [
        {
          "output_type": "execute_result",
          "data": {
            "text/plain": [
              "-3.433813074304056"
            ]
          },
          "metadata": {},
          "execution_count": 63
        }
      ]
    },
    {
      "cell_type": "code",
      "source": [
        "y_pred = multivariate_regression.predict(test_selected_X)"
      ],
      "metadata": {
        "id": "l3N3sYfAgO59"
      },
      "execution_count": 64,
      "outputs": []
    },
    {
      "cell_type": "code",
      "source": [
        "print('Mean Squared Error: ', mean_squared_error(test_y, y_pred), '\\n')\n",
        "print('Mean Absolute Error: ', mean_absolute_error(test_y, y_pred), '\\n')\n",
        "print('Root Mean Squared Error: ', np.sqrt(mean_squared_error(test_y, y_pred)))"
      ],
      "metadata": {
        "colab": {
          "base_uri": "https://localhost:8080/"
        },
        "id": "0DSV6Qj6gTSV",
        "outputId": "d1dfde3a-d81e-46c5-b3dd-ec40f1a2bbfc"
      },
      "execution_count": 65,
      "outputs": [
        {
          "output_type": "stream",
          "name": "stdout",
          "text": [
            "Mean Squared Error:  20.957202516377947 \n",
            "\n",
            "Mean Absolute Error:  3.3962689166115063 \n",
            "\n",
            "Root Mean Squared Error:  4.577903725110211\n"
          ]
        }
      ]
    },
    {
      "cell_type": "markdown",
      "source": [
        "# Ridge Regression"
      ],
      "metadata": {
        "id": "pBGIDOsnncYP"
      }
    },
    {
      "cell_type": "code",
      "source": [
        "ridge_regression = Ridge(alpha = 3.6)\n",
        "ridge_regression.fit(train_selected_X, train_y)"
      ],
      "metadata": {
        "colab": {
          "base_uri": "https://localhost:8080/"
        },
        "id": "8crAGHcnm--o",
        "outputId": "e41ff93e-308d-4e4f-e371-0e80b3643bf7"
      },
      "execution_count": 66,
      "outputs": [
        {
          "output_type": "execute_result",
          "data": {
            "text/plain": [
              "Ridge(alpha=3.6)"
            ]
          },
          "metadata": {},
          "execution_count": 66
        }
      ]
    },
    {
      "cell_type": "code",
      "source": [
        "ridge_regression.coef_"
      ],
      "metadata": {
        "colab": {
          "base_uri": "https://localhost:8080/"
        },
        "id": "Vyc9cbX4nqQN",
        "outputId": "824aae79-cbd7-4802-c5e5-6ae8b635ea8f"
      },
      "execution_count": 67,
      "outputs": [
        {
          "output_type": "execute_result",
          "data": {
            "text/plain": [
              "array([11.07806031, -1.65674287,  1.83675343,  1.95171635,  4.75308528,\n",
              "        3.71003721, -1.14919075, -0.14232078])"
            ]
          },
          "metadata": {},
          "execution_count": 67
        }
      ]
    },
    {
      "cell_type": "code",
      "source": [
        "ridge_regression.intercept_"
      ],
      "metadata": {
        "colab": {
          "base_uri": "https://localhost:8080/"
        },
        "id": "9ghLQtFmnsNB",
        "outputId": "e5ea08c3-c0c8-40c8-cde0-8fc978e8b002"
      },
      "execution_count": 68,
      "outputs": [
        {
          "output_type": "execute_result",
          "data": {
            "text/plain": [
              "-3.467443225653951"
            ]
          },
          "metadata": {},
          "execution_count": 68
        }
      ]
    },
    {
      "cell_type": "code",
      "source": [
        "y_predicted = ridge_regression.predict(test_selected_X)"
      ],
      "metadata": {
        "id": "vRw4BOB5nwg2"
      },
      "execution_count": 69,
      "outputs": []
    },
    {
      "cell_type": "code",
      "source": [
        "print('Mean Squared Error: ', mean_squared_error(test_y, y_predicted), '\\n')\n",
        "print('Mean Absolute Error: ', mean_absolute_error(test_y, y_predicted), '\\n')\n",
        "print('Root Mean Squared Error: ', np.sqrt(mean_squared_error(test_y, y_predicted)))"
      ],
      "metadata": {
        "colab": {
          "base_uri": "https://localhost:8080/"
        },
        "id": "rvSf_oX9n0Ti",
        "outputId": "5e62cd26-3c09-4900-dbba-24749bf36c9b"
      },
      "execution_count": 70,
      "outputs": [
        {
          "output_type": "stream",
          "name": "stdout",
          "text": [
            "Mean Squared Error:  21.64512449510722 \n",
            "\n",
            "Mean Absolute Error:  3.3521156194724258 \n",
            "\n",
            "Root Mean Squared Error:  4.65243210537319\n"
          ]
        }
      ]
    },
    {
      "cell_type": "markdown",
      "source": [
        "# Lasso Regression"
      ],
      "metadata": {
        "id": "hduphkv3oNq_"
      }
    },
    {
      "cell_type": "code",
      "source": [
        "lasso_regression = Lasso(alpha = 2.0)\n",
        "lasso_regression.fit(train_selected_X, train_y)"
      ],
      "metadata": {
        "colab": {
          "base_uri": "https://localhost:8080/"
        },
        "id": "g_Upyn2uoQmq",
        "outputId": "d2a20cf1-c03b-416d-fffe-ac34b358fa33"
      },
      "execution_count": 71,
      "outputs": [
        {
          "output_type": "execute_result",
          "data": {
            "text/plain": [
              "Lasso(alpha=2.0)"
            ]
          },
          "metadata": {},
          "execution_count": 71
        }
      ]
    },
    {
      "cell_type": "code",
      "source": [
        "lasso_regression.coef_"
      ],
      "metadata": {
        "colab": {
          "base_uri": "https://localhost:8080/"
        },
        "id": "kGOtjPh3oVMP",
        "outputId": "ff3e07d9-4faa-46ed-cc8d-e94d30452186"
      },
      "execution_count": 72,
      "outputs": [
        {
          "output_type": "execute_result",
          "data": {
            "text/plain": [
              "array([ 0.,  0.,  0.,  0.,  0.,  0., -0.,  0.])"
            ]
          },
          "metadata": {},
          "execution_count": 72
        }
      ]
    },
    {
      "cell_type": "code",
      "source": [
        "lasso_regression.intercept_"
      ],
      "metadata": {
        "colab": {
          "base_uri": "https://localhost:8080/"
        },
        "id": "gMkPk3VuoW2q",
        "outputId": "9d510b89-488c-46af-9187-3b54056fafd8"
      },
      "execution_count": 73,
      "outputs": [
        {
          "output_type": "execute_result",
          "data": {
            "text/plain": [
              "4.435841802867383"
            ]
          },
          "metadata": {},
          "execution_count": 73
        }
      ]
    },
    {
      "cell_type": "code",
      "source": [
        "y_predicted_lasso = lasso_regression.predict(test_selected_X)"
      ],
      "metadata": {
        "id": "HU7t05EuoYwJ"
      },
      "execution_count": 74,
      "outputs": []
    },
    {
      "cell_type": "code",
      "source": [
        "print('Mean Squared Error: ', mean_squared_error(test_y, y_predicted_lasso), '\\n')\n",
        "print('Mean Absolute Error: ', mean_absolute_error(test_y, y_predicted_lasso), '\\n')\n",
        "print('Root Mean Squared Error: ', np.sqrt(mean_squared_error(test_y, y_predicted_lasso)))"
      ],
      "metadata": {
        "colab": {
          "base_uri": "https://localhost:8080/"
        },
        "id": "vsjQ8g5kodVD",
        "outputId": "cf06151b-3213-4778-b543-1851bf2fbdd9"
      },
      "execution_count": 75,
      "outputs": [
        {
          "output_type": "stream",
          "name": "stdout",
          "text": [
            "Mean Squared Error:  41.093660018288 \n",
            "\n",
            "Mean Absolute Error:  4.860481701228878 \n",
            "\n",
            "Root Mean Squared Error:  6.41043368410344\n"
          ]
        }
      ]
    },
    {
      "cell_type": "markdown",
      "source": [
        "# Regression with Deep Learning"
      ],
      "metadata": {
        "id": "8qx9HbG5YLtY"
      }
    },
    {
      "cell_type": "code",
      "source": [
        "import tensorflow as tf\n",
        "from tensorflow import keras\n",
        "from sklearn.model_selection import train_test_split\n",
        "\n",
        "from tensorflow.keras.models import Sequential\n",
        "from tensorflow.keras.layers import Activation, Dense, BatchNormalization, Dropout\n",
        "from tensorflow.keras import optimizers\n",
        "import matplotlib.pyplot as plt\n",
        "import numpy as np \n",
        "import pandas as pd\n",
        "import seaborn as sns"
      ],
      "metadata": {
        "id": "1QLMO3w3YfuE"
      },
      "execution_count": 76,
      "outputs": []
    },
    {
      "cell_type": "code",
      "source": [
        "tf.random.set_seed(5)\n",
        "\n",
        "network1 = tf.keras.models.Sequential()\n",
        "network1.add(tf.keras.Input(shape=(42,)))\n",
        "network1.add(tf.keras.layers.Dense(15, activation='relu'))\n",
        "network1.add(tf.keras.layers.Dense(15, activation='tanh'))\n",
        "network1.add(tf.keras.layers.Dense(15, activation='relu'))\n",
        "network1.add(tf.keras.layers.Dense(1))\n",
        "\n",
        "network1.compile(\n",
        "   loss=tf.keras.losses.MeanAbsoluteError(),\n",
        "   optimizer=tf.keras.optimizers.Adam(),\n",
        "   metrics='mean_absolute_error')\n",
        "\n",
        "history1 = network1.fit(train_features, train_target, epochs=75,validation_data=(test_features,test_target))"
      ],
      "metadata": {
        "colab": {
          "base_uri": "https://localhost:8080/"
        },
        "id": "cbNBt3BSo391",
        "outputId": "9d203af0-d9fa-4a25-a53f-0c15a69f349c"
      },
      "execution_count": 77,
      "outputs": [
        {
          "output_type": "stream",
          "name": "stdout",
          "text": [
            "Epoch 1/75\n",
            "9/9 [==============================] - 1s 31ms/step - loss: 4.2449 - mean_absolute_error: 4.2449 - val_loss: 4.2371 - val_mean_absolute_error: 4.2371\n",
            "Epoch 2/75\n",
            "9/9 [==============================] - 0s 6ms/step - loss: 3.9635 - mean_absolute_error: 3.9635 - val_loss: 4.1108 - val_mean_absolute_error: 4.1108\n",
            "Epoch 3/75\n",
            "9/9 [==============================] - 0s 6ms/step - loss: 3.8790 - mean_absolute_error: 3.8790 - val_loss: 4.0657 - val_mean_absolute_error: 4.0657\n",
            "Epoch 4/75\n",
            "9/9 [==============================] - 0s 5ms/step - loss: 3.8497 - mean_absolute_error: 3.8497 - val_loss: 4.0385 - val_mean_absolute_error: 4.0385\n",
            "Epoch 5/75\n",
            "9/9 [==============================] - 0s 7ms/step - loss: 3.8255 - mean_absolute_error: 3.8255 - val_loss: 4.0124 - val_mean_absolute_error: 4.0124\n",
            "Epoch 6/75\n",
            "9/9 [==============================] - 0s 8ms/step - loss: 3.7976 - mean_absolute_error: 3.7976 - val_loss: 3.9838 - val_mean_absolute_error: 3.9838\n",
            "Epoch 7/75\n",
            "9/9 [==============================] - 0s 5ms/step - loss: 3.7672 - mean_absolute_error: 3.7672 - val_loss: 3.9517 - val_mean_absolute_error: 3.9517\n",
            "Epoch 8/75\n",
            "9/9 [==============================] - 0s 5ms/step - loss: 3.7358 - mean_absolute_error: 3.7358 - val_loss: 3.9151 - val_mean_absolute_error: 3.9151\n",
            "Epoch 9/75\n",
            "9/9 [==============================] - 0s 8ms/step - loss: 3.7016 - mean_absolute_error: 3.7016 - val_loss: 3.8736 - val_mean_absolute_error: 3.8736\n",
            "Epoch 10/75\n",
            "9/9 [==============================] - 0s 6ms/step - loss: 3.6629 - mean_absolute_error: 3.6629 - val_loss: 3.8243 - val_mean_absolute_error: 3.8243\n",
            "Epoch 11/75\n",
            "9/9 [==============================] - 0s 5ms/step - loss: 3.6241 - mean_absolute_error: 3.6241 - val_loss: 3.7810 - val_mean_absolute_error: 3.7810\n",
            "Epoch 12/75\n",
            "9/9 [==============================] - 0s 7ms/step - loss: 3.5890 - mean_absolute_error: 3.5890 - val_loss: 3.7410 - val_mean_absolute_error: 3.7410\n",
            "Epoch 13/75\n",
            "9/9 [==============================] - 0s 7ms/step - loss: 3.5542 - mean_absolute_error: 3.5542 - val_loss: 3.7077 - val_mean_absolute_error: 3.7077\n",
            "Epoch 14/75\n",
            "9/9 [==============================] - 0s 8ms/step - loss: 3.5184 - mean_absolute_error: 3.5184 - val_loss: 3.6834 - val_mean_absolute_error: 3.6834\n",
            "Epoch 15/75\n",
            "9/9 [==============================] - 0s 6ms/step - loss: 3.4919 - mean_absolute_error: 3.4919 - val_loss: 3.6584 - val_mean_absolute_error: 3.6584\n",
            "Epoch 16/75\n",
            "9/9 [==============================] - 0s 5ms/step - loss: 3.4635 - mean_absolute_error: 3.4635 - val_loss: 3.6268 - val_mean_absolute_error: 3.6268\n",
            "Epoch 17/75\n",
            "9/9 [==============================] - 0s 7ms/step - loss: 3.4328 - mean_absolute_error: 3.4328 - val_loss: 3.5990 - val_mean_absolute_error: 3.5990\n",
            "Epoch 18/75\n",
            "9/9 [==============================] - 0s 7ms/step - loss: 3.4034 - mean_absolute_error: 3.4034 - val_loss: 3.5695 - val_mean_absolute_error: 3.5695\n",
            "Epoch 19/75\n",
            "9/9 [==============================] - 0s 5ms/step - loss: 3.3767 - mean_absolute_error: 3.3767 - val_loss: 3.5439 - val_mean_absolute_error: 3.5439\n",
            "Epoch 20/75\n",
            "9/9 [==============================] - 0s 6ms/step - loss: 3.3521 - mean_absolute_error: 3.3521 - val_loss: 3.5203 - val_mean_absolute_error: 3.5203\n",
            "Epoch 21/75\n",
            "9/9 [==============================] - 0s 5ms/step - loss: 3.3350 - mean_absolute_error: 3.3350 - val_loss: 3.4927 - val_mean_absolute_error: 3.4927\n",
            "Epoch 22/75\n",
            "9/9 [==============================] - 0s 5ms/step - loss: 3.2983 - mean_absolute_error: 3.2983 - val_loss: 3.4729 - val_mean_absolute_error: 3.4729\n",
            "Epoch 23/75\n",
            "9/9 [==============================] - 0s 6ms/step - loss: 3.2763 - mean_absolute_error: 3.2763 - val_loss: 3.4509 - val_mean_absolute_error: 3.4509\n",
            "Epoch 24/75\n",
            "9/9 [==============================] - 0s 5ms/step - loss: 3.2533 - mean_absolute_error: 3.2533 - val_loss: 3.4323 - val_mean_absolute_error: 3.4323\n",
            "Epoch 25/75\n",
            "9/9 [==============================] - 0s 7ms/step - loss: 3.2244 - mean_absolute_error: 3.2244 - val_loss: 3.4067 - val_mean_absolute_error: 3.4067\n",
            "Epoch 26/75\n",
            "9/9 [==============================] - 0s 8ms/step - loss: 3.1958 - mean_absolute_error: 3.1958 - val_loss: 3.3902 - val_mean_absolute_error: 3.3902\n",
            "Epoch 27/75\n",
            "9/9 [==============================] - 0s 8ms/step - loss: 3.1787 - mean_absolute_error: 3.1787 - val_loss: 3.3735 - val_mean_absolute_error: 3.3735\n",
            "Epoch 28/75\n",
            "9/9 [==============================] - 0s 7ms/step - loss: 3.1558 - mean_absolute_error: 3.1558 - val_loss: 3.3384 - val_mean_absolute_error: 3.3384\n",
            "Epoch 29/75\n",
            "9/9 [==============================] - 0s 5ms/step - loss: 3.1212 - mean_absolute_error: 3.1212 - val_loss: 3.3561 - val_mean_absolute_error: 3.3561\n",
            "Epoch 30/75\n",
            "9/9 [==============================] - 0s 8ms/step - loss: 3.1044 - mean_absolute_error: 3.1044 - val_loss: 3.3244 - val_mean_absolute_error: 3.3244\n",
            "Epoch 31/75\n",
            "9/9 [==============================] - 0s 5ms/step - loss: 3.0923 - mean_absolute_error: 3.0923 - val_loss: 3.2777 - val_mean_absolute_error: 3.2777\n",
            "Epoch 32/75\n",
            "9/9 [==============================] - 0s 7ms/step - loss: 3.0441 - mean_absolute_error: 3.0441 - val_loss: 3.3289 - val_mean_absolute_error: 3.3289\n",
            "Epoch 33/75\n",
            "9/9 [==============================] - 0s 8ms/step - loss: 3.0237 - mean_absolute_error: 3.0237 - val_loss: 3.2574 - val_mean_absolute_error: 3.2574\n",
            "Epoch 34/75\n",
            "9/9 [==============================] - 0s 7ms/step - loss: 3.0135 - mean_absolute_error: 3.0135 - val_loss: 3.2122 - val_mean_absolute_error: 3.2122\n",
            "Epoch 35/75\n",
            "9/9 [==============================] - 0s 5ms/step - loss: 3.0010 - mean_absolute_error: 3.0010 - val_loss: 3.2730 - val_mean_absolute_error: 3.2730\n",
            "Epoch 36/75\n",
            "9/9 [==============================] - 0s 7ms/step - loss: 2.9712 - mean_absolute_error: 2.9712 - val_loss: 3.1426 - val_mean_absolute_error: 3.1426\n",
            "Epoch 37/75\n",
            "9/9 [==============================] - 0s 7ms/step - loss: 2.9292 - mean_absolute_error: 2.9292 - val_loss: 3.2073 - val_mean_absolute_error: 3.2073\n",
            "Epoch 38/75\n",
            "9/9 [==============================] - 0s 7ms/step - loss: 2.9085 - mean_absolute_error: 2.9085 - val_loss: 3.1705 - val_mean_absolute_error: 3.1705\n",
            "Epoch 39/75\n",
            "9/9 [==============================] - 0s 5ms/step - loss: 2.8776 - mean_absolute_error: 2.8776 - val_loss: 3.1176 - val_mean_absolute_error: 3.1176\n",
            "Epoch 40/75\n",
            "9/9 [==============================] - 0s 7ms/step - loss: 2.8555 - mean_absolute_error: 2.8555 - val_loss: 3.1158 - val_mean_absolute_error: 3.1158\n",
            "Epoch 41/75\n",
            "9/9 [==============================] - 0s 8ms/step - loss: 2.8348 - mean_absolute_error: 2.8348 - val_loss: 3.0838 - val_mean_absolute_error: 3.0838\n",
            "Epoch 42/75\n",
            "9/9 [==============================] - 0s 6ms/step - loss: 2.8086 - mean_absolute_error: 2.8086 - val_loss: 3.0347 - val_mean_absolute_error: 3.0347\n",
            "Epoch 43/75\n",
            "9/9 [==============================] - 0s 5ms/step - loss: 2.8277 - mean_absolute_error: 2.8277 - val_loss: 3.0354 - val_mean_absolute_error: 3.0354\n",
            "Epoch 44/75\n",
            "9/9 [==============================] - 0s 5ms/step - loss: 2.8024 - mean_absolute_error: 2.8024 - val_loss: 2.9817 - val_mean_absolute_error: 2.9817\n",
            "Epoch 45/75\n",
            "9/9 [==============================] - 0s 5ms/step - loss: 2.7646 - mean_absolute_error: 2.7646 - val_loss: 3.0071 - val_mean_absolute_error: 3.0071\n",
            "Epoch 46/75\n",
            "9/9 [==============================] - 0s 6ms/step - loss: 2.7358 - mean_absolute_error: 2.7358 - val_loss: 2.9551 - val_mean_absolute_error: 2.9551\n",
            "Epoch 47/75\n",
            "9/9 [==============================] - 0s 5ms/step - loss: 2.7149 - mean_absolute_error: 2.7149 - val_loss: 2.9816 - val_mean_absolute_error: 2.9816\n",
            "Epoch 48/75\n",
            "9/9 [==============================] - 0s 5ms/step - loss: 2.7026 - mean_absolute_error: 2.7026 - val_loss: 2.9191 - val_mean_absolute_error: 2.9191\n",
            "Epoch 49/75\n",
            "9/9 [==============================] - 0s 5ms/step - loss: 2.6818 - mean_absolute_error: 2.6818 - val_loss: 2.9097 - val_mean_absolute_error: 2.9097\n",
            "Epoch 50/75\n",
            "9/9 [==============================] - 0s 5ms/step - loss: 2.6670 - mean_absolute_error: 2.6670 - val_loss: 2.9090 - val_mean_absolute_error: 2.9090\n",
            "Epoch 51/75\n",
            "9/9 [==============================] - 0s 7ms/step - loss: 2.6433 - mean_absolute_error: 2.6433 - val_loss: 2.9252 - val_mean_absolute_error: 2.9252\n",
            "Epoch 52/75\n",
            "9/9 [==============================] - 0s 6ms/step - loss: 2.6351 - mean_absolute_error: 2.6351 - val_loss: 2.8219 - val_mean_absolute_error: 2.8219\n",
            "Epoch 53/75\n",
            "9/9 [==============================] - 0s 5ms/step - loss: 2.6204 - mean_absolute_error: 2.6204 - val_loss: 2.8577 - val_mean_absolute_error: 2.8577\n",
            "Epoch 54/75\n",
            "9/9 [==============================] - 0s 5ms/step - loss: 2.6160 - mean_absolute_error: 2.6160 - val_loss: 2.8928 - val_mean_absolute_error: 2.8928\n",
            "Epoch 55/75\n",
            "9/9 [==============================] - 0s 8ms/step - loss: 2.5963 - mean_absolute_error: 2.5963 - val_loss: 2.8088 - val_mean_absolute_error: 2.8088\n",
            "Epoch 56/75\n",
            "9/9 [==============================] - 0s 5ms/step - loss: 2.5637 - mean_absolute_error: 2.5637 - val_loss: 2.8347 - val_mean_absolute_error: 2.8347\n",
            "Epoch 57/75\n",
            "9/9 [==============================] - 0s 8ms/step - loss: 2.5437 - mean_absolute_error: 2.5437 - val_loss: 2.7830 - val_mean_absolute_error: 2.7830\n",
            "Epoch 58/75\n",
            "9/9 [==============================] - 0s 6ms/step - loss: 2.5201 - mean_absolute_error: 2.5201 - val_loss: 2.8008 - val_mean_absolute_error: 2.8008\n",
            "Epoch 59/75\n",
            "9/9 [==============================] - 0s 6ms/step - loss: 2.5027 - mean_absolute_error: 2.5027 - val_loss: 2.7643 - val_mean_absolute_error: 2.7643\n",
            "Epoch 60/75\n",
            "9/9 [==============================] - 0s 6ms/step - loss: 2.4998 - mean_absolute_error: 2.4998 - val_loss: 2.7362 - val_mean_absolute_error: 2.7362\n",
            "Epoch 61/75\n",
            "9/9 [==============================] - 0s 8ms/step - loss: 2.4630 - mean_absolute_error: 2.4630 - val_loss: 2.8120 - val_mean_absolute_error: 2.8120\n",
            "Epoch 62/75\n",
            "9/9 [==============================] - 0s 8ms/step - loss: 2.4786 - mean_absolute_error: 2.4786 - val_loss: 2.7348 - val_mean_absolute_error: 2.7348\n",
            "Epoch 63/75\n",
            "9/9 [==============================] - 0s 5ms/step - loss: 2.4532 - mean_absolute_error: 2.4532 - val_loss: 2.7710 - val_mean_absolute_error: 2.7710\n",
            "Epoch 64/75\n",
            "9/9 [==============================] - 0s 8ms/step - loss: 2.4325 - mean_absolute_error: 2.4325 - val_loss: 2.7324 - val_mean_absolute_error: 2.7324\n",
            "Epoch 65/75\n",
            "9/9 [==============================] - 0s 9ms/step - loss: 2.4128 - mean_absolute_error: 2.4128 - val_loss: 2.7380 - val_mean_absolute_error: 2.7380\n",
            "Epoch 66/75\n",
            "9/9 [==============================] - 0s 6ms/step - loss: 2.3893 - mean_absolute_error: 2.3893 - val_loss: 2.6704 - val_mean_absolute_error: 2.6704\n",
            "Epoch 67/75\n",
            "9/9 [==============================] - 0s 8ms/step - loss: 2.3736 - mean_absolute_error: 2.3736 - val_loss: 2.6916 - val_mean_absolute_error: 2.6916\n",
            "Epoch 68/75\n",
            "9/9 [==============================] - 0s 7ms/step - loss: 2.3672 - mean_absolute_error: 2.3672 - val_loss: 2.6848 - val_mean_absolute_error: 2.6848\n",
            "Epoch 69/75\n",
            "9/9 [==============================] - 0s 7ms/step - loss: 2.3544 - mean_absolute_error: 2.3544 - val_loss: 2.6694 - val_mean_absolute_error: 2.6694\n",
            "Epoch 70/75\n",
            "9/9 [==============================] - 0s 6ms/step - loss: 2.3345 - mean_absolute_error: 2.3345 - val_loss: 2.6476 - val_mean_absolute_error: 2.6476\n",
            "Epoch 71/75\n",
            "9/9 [==============================] - 0s 6ms/step - loss: 2.3224 - mean_absolute_error: 2.3224 - val_loss: 2.6571 - val_mean_absolute_error: 2.6571\n",
            "Epoch 72/75\n",
            "9/9 [==============================] - 0s 5ms/step - loss: 2.3035 - mean_absolute_error: 2.3035 - val_loss: 2.6103 - val_mean_absolute_error: 2.6103\n",
            "Epoch 73/75\n",
            "9/9 [==============================] - 0s 5ms/step - loss: 2.3016 - mean_absolute_error: 2.3016 - val_loss: 2.6098 - val_mean_absolute_error: 2.6098\n",
            "Epoch 74/75\n",
            "9/9 [==============================] - 0s 9ms/step - loss: 2.2914 - mean_absolute_error: 2.2914 - val_loss: 2.5111 - val_mean_absolute_error: 2.5111\n",
            "Epoch 75/75\n",
            "9/9 [==============================] - 0s 5ms/step - loss: 2.2802 - mean_absolute_error: 2.2802 - val_loss: 2.6057 - val_mean_absolute_error: 2.6057\n"
          ]
        }
      ]
    },
    {
      "cell_type": "code",
      "source": [
        "from matplotlib import pyplot as plt\n",
        "plt.plot(history1.history['mean_absolute_error'])\n",
        "plt.plot(history1.history['val_mean_absolute_error'])\n",
        "plt.title('Model Mean Absolute Error (MAE)')\n",
        "plt.ylabel('MAE')\n",
        "plt.xlabel('Epoch')\n",
        "plt.legend(['Train', 'Cross-Validation'], loc='upper right')\n",
        "plt.show()"
      ],
      "metadata": {
        "colab": {
          "base_uri": "https://localhost:8080/",
          "height": 295
        },
        "id": "lxzvh8YWpZAH",
        "outputId": "c476dded-90fa-4eef-bc45-616796db5973"
      },
      "execution_count": 78,
      "outputs": [
        {
          "output_type": "display_data",
          "data": {
            "text/plain": [
              "<Figure size 432x288 with 1 Axes>"
            ],
            "image/png": "[encoded data removed]"
          },
          "metadata": {
            "needs_background": "light"
          }
        }
      ]
    },
    {
      "cell_type": "code",
      "source": [
        "tf.random.set_seed(5)\n",
        "\n",
        "network2 = tf.keras.models.Sequential()\n",
        "network2.add(tf.keras.Input(shape=(42,)))\n",
        "network2.add(tf.keras.layers.Dense(15, activation='relu'))\n",
        "network2.add(tf.keras.layers.Dense(15, activation='relu'))\n",
        "network2.add(tf.keras.layers.Dense(15, activation='relu'))\n",
        "network2.add(tf.keras.layers.Dense(1))\n",
        "\n",
        "network2.compile(\n",
        "   loss=tf.keras.losses.MeanAbsoluteError(),\n",
        "   optimizer=tf.keras.optimizers.Adam(),\n",
        "   metrics='mean_absolute_error')\n",
        "\n",
        "history2 = network2.fit(train_features, train_target, epochs=80,validation_data=(test_features,test_target))"
      ],
      "metadata": {
        "colab": {
          "base_uri": "https://localhost:8080/"
        },
        "id": "aaYVvJHvqVGG",
        "outputId": "cc894c41-ecd6-4b9a-80ec-7d782f743898"
      },
      "execution_count": 83,
      "outputs": [
        {
          "output_type": "stream",
          "name": "stdout",
          "text": [
            "Epoch 1/80\n",
            "9/9 [==============================] - 1s 25ms/step - loss: 4.3053 - mean_absolute_error: 4.3053 - val_loss: 4.3583 - val_mean_absolute_error: 4.3583\n",
            "Epoch 2/80\n",
            "9/9 [==============================] - 0s 5ms/step - loss: 4.0744 - mean_absolute_error: 4.0744 - val_loss: 4.1847 - val_mean_absolute_error: 4.1847\n",
            "Epoch 3/80\n",
            "9/9 [==============================] - 0s 7ms/step - loss: 3.9430 - mean_absolute_error: 3.9430 - val_loss: 4.1016 - val_mean_absolute_error: 4.1016\n",
            "Epoch 4/80\n",
            "9/9 [==============================] - 0s 7ms/step - loss: 3.8760 - mean_absolute_error: 3.8760 - val_loss: 4.0479 - val_mean_absolute_error: 4.0479\n",
            "Epoch 5/80\n",
            "9/9 [==============================] - 0s 8ms/step - loss: 3.8488 - mean_absolute_error: 3.8488 - val_loss: 4.0063 - val_mean_absolute_error: 4.0063\n",
            "Epoch 6/80\n",
            "9/9 [==============================] - 0s 7ms/step - loss: 3.8227 - mean_absolute_error: 3.8227 - val_loss: 3.9776 - val_mean_absolute_error: 3.9776\n",
            "Epoch 7/80\n",
            "9/9 [==============================] - 0s 5ms/step - loss: 3.8028 - mean_absolute_error: 3.8028 - val_loss: 3.9549 - val_mean_absolute_error: 3.9549\n",
            "Epoch 8/80\n",
            "9/9 [==============================] - 0s 7ms/step - loss: 3.7847 - mean_absolute_error: 3.7847 - val_loss: 3.9355 - val_mean_absolute_error: 3.9355\n",
            "Epoch 9/80\n",
            "9/9 [==============================] - 0s 6ms/step - loss: 3.7636 - mean_absolute_error: 3.7636 - val_loss: 3.9140 - val_mean_absolute_error: 3.9140\n",
            "Epoch 10/80\n",
            "9/9 [==============================] - 0s 5ms/step - loss: 3.7424 - mean_absolute_error: 3.7424 - val_loss: 3.8913 - val_mean_absolute_error: 3.8913\n",
            "Epoch 11/80\n",
            "9/9 [==============================] - 0s 5ms/step - loss: 3.7197 - mean_absolute_error: 3.7197 - val_loss: 3.8685 - val_mean_absolute_error: 3.8685\n",
            "Epoch 12/80\n",
            "9/9 [==============================] - 0s 7ms/step - loss: 3.6981 - mean_absolute_error: 3.6981 - val_loss: 3.8393 - val_mean_absolute_error: 3.8393\n",
            "Epoch 13/80\n",
            "9/9 [==============================] - 0s 8ms/step - loss: 3.6714 - mean_absolute_error: 3.6714 - val_loss: 3.8084 - val_mean_absolute_error: 3.8084\n",
            "Epoch 14/80\n",
            "9/9 [==============================] - 0s 5ms/step - loss: 3.6456 - mean_absolute_error: 3.6456 - val_loss: 3.7751 - val_mean_absolute_error: 3.7751\n",
            "Epoch 15/80\n",
            "9/9 [==============================] - 0s 5ms/step - loss: 3.6213 - mean_absolute_error: 3.6213 - val_loss: 3.7282 - val_mean_absolute_error: 3.7282\n",
            "Epoch 16/80\n",
            "9/9 [==============================] - 0s 5ms/step - loss: 3.5855 - mean_absolute_error: 3.5855 - val_loss: 3.6862 - val_mean_absolute_error: 3.6862\n",
            "Epoch 17/80\n",
            "9/9 [==============================] - 0s 7ms/step - loss: 3.5452 - mean_absolute_error: 3.5452 - val_loss: 3.6272 - val_mean_absolute_error: 3.6272\n",
            "Epoch 18/80\n",
            "9/9 [==============================] - 0s 8ms/step - loss: 3.5047 - mean_absolute_error: 3.5047 - val_loss: 3.5649 - val_mean_absolute_error: 3.5649\n",
            "Epoch 19/80\n",
            "9/9 [==============================] - 0s 7ms/step - loss: 3.4635 - mean_absolute_error: 3.4635 - val_loss: 3.5183 - val_mean_absolute_error: 3.5183\n",
            "Epoch 20/80\n",
            "9/9 [==============================] - 0s 5ms/step - loss: 3.4272 - mean_absolute_error: 3.4272 - val_loss: 3.4709 - val_mean_absolute_error: 3.4709\n",
            "Epoch 21/80\n",
            "9/9 [==============================] - 0s 7ms/step - loss: 3.4096 - mean_absolute_error: 3.4096 - val_loss: 3.4188 - val_mean_absolute_error: 3.4188\n",
            "Epoch 22/80\n",
            "9/9 [==============================] - 0s 8ms/step - loss: 3.3519 - mean_absolute_error: 3.3519 - val_loss: 3.3894 - val_mean_absolute_error: 3.3894\n",
            "Epoch 23/80\n",
            "9/9 [==============================] - 0s 6ms/step - loss: 3.3201 - mean_absolute_error: 3.3201 - val_loss: 3.3510 - val_mean_absolute_error: 3.3510\n",
            "Epoch 24/80\n",
            "9/9 [==============================] - 0s 5ms/step - loss: 3.2912 - mean_absolute_error: 3.2912 - val_loss: 3.2933 - val_mean_absolute_error: 3.2933\n",
            "Epoch 25/80\n",
            "9/9 [==============================] - 0s 5ms/step - loss: 3.2569 - mean_absolute_error: 3.2569 - val_loss: 3.2644 - val_mean_absolute_error: 3.2644\n",
            "Epoch 26/80\n",
            "9/9 [==============================] - 0s 7ms/step - loss: 3.2176 - mean_absolute_error: 3.2176 - val_loss: 3.2186 - val_mean_absolute_error: 3.2186\n",
            "Epoch 27/80\n",
            "9/9 [==============================] - 0s 7ms/step - loss: 3.1901 - mean_absolute_error: 3.1901 - val_loss: 3.1795 - val_mean_absolute_error: 3.1795\n",
            "Epoch 28/80\n",
            "9/9 [==============================] - 0s 5ms/step - loss: 3.1586 - mean_absolute_error: 3.1586 - val_loss: 3.1580 - val_mean_absolute_error: 3.1580\n",
            "Epoch 29/80\n",
            "9/9 [==============================] - 0s 6ms/step - loss: 3.1178 - mean_absolute_error: 3.1178 - val_loss: 3.1122 - val_mean_absolute_error: 3.1122\n",
            "Epoch 30/80\n",
            "9/9 [==============================] - 0s 5ms/step - loss: 3.1042 - mean_absolute_error: 3.1042 - val_loss: 3.0707 - val_mean_absolute_error: 3.0707\n",
            "Epoch 31/80\n",
            "9/9 [==============================] - 0s 6ms/step - loss: 3.0852 - mean_absolute_error: 3.0852 - val_loss: 3.0739 - val_mean_absolute_error: 3.0739\n",
            "Epoch 32/80\n",
            "9/9 [==============================] - 0s 7ms/step - loss: 3.0290 - mean_absolute_error: 3.0290 - val_loss: 3.0088 - val_mean_absolute_error: 3.0088\n",
            "Epoch 33/80\n",
            "9/9 [==============================] - 0s 7ms/step - loss: 3.0243 - mean_absolute_error: 3.0243 - val_loss: 2.9719 - val_mean_absolute_error: 2.9719\n",
            "Epoch 34/80\n",
            "9/9 [==============================] - 0s 7ms/step - loss: 2.9792 - mean_absolute_error: 2.9792 - val_loss: 2.9534 - val_mean_absolute_error: 2.9534\n",
            "Epoch 35/80\n",
            "9/9 [==============================] - 0s 5ms/step - loss: 2.9505 - mean_absolute_error: 2.9505 - val_loss: 2.8970 - val_mean_absolute_error: 2.8970\n",
            "Epoch 36/80\n",
            "9/9 [==============================] - 0s 7ms/step - loss: 2.9165 - mean_absolute_error: 2.9165 - val_loss: 2.8781 - val_mean_absolute_error: 2.8781\n",
            "Epoch 37/80\n",
            "9/9 [==============================] - 0s 5ms/step - loss: 2.8758 - mean_absolute_error: 2.8758 - val_loss: 2.8352 - val_mean_absolute_error: 2.8352\n",
            "Epoch 38/80\n",
            "9/9 [==============================] - 0s 7ms/step - loss: 2.8538 - mean_absolute_error: 2.8538 - val_loss: 2.8049 - val_mean_absolute_error: 2.8049\n",
            "Epoch 39/80\n",
            "9/9 [==============================] - 0s 5ms/step - loss: 2.8267 - mean_absolute_error: 2.8267 - val_loss: 2.7748 - val_mean_absolute_error: 2.7748\n",
            "Epoch 40/80\n",
            "9/9 [==============================] - 0s 6ms/step - loss: 2.8053 - mean_absolute_error: 2.8053 - val_loss: 2.7563 - val_mean_absolute_error: 2.7563\n",
            "Epoch 41/80\n",
            "9/9 [==============================] - 0s 5ms/step - loss: 2.7866 - mean_absolute_error: 2.7866 - val_loss: 2.7343 - val_mean_absolute_error: 2.7343\n",
            "Epoch 42/80\n",
            "9/9 [==============================] - 0s 5ms/step - loss: 2.7662 - mean_absolute_error: 2.7662 - val_loss: 2.7215 - val_mean_absolute_error: 2.7215\n",
            "Epoch 43/80\n",
            "9/9 [==============================] - 0s 7ms/step - loss: 2.7953 - mean_absolute_error: 2.7953 - val_loss: 2.7068 - val_mean_absolute_error: 2.7068\n",
            "Epoch 44/80\n",
            "9/9 [==============================] - 0s 7ms/step - loss: 2.7696 - mean_absolute_error: 2.7696 - val_loss: 2.7138 - val_mean_absolute_error: 2.7138\n",
            "Epoch 45/80\n",
            "9/9 [==============================] - 0s 6ms/step - loss: 2.7407 - mean_absolute_error: 2.7407 - val_loss: 2.6974 - val_mean_absolute_error: 2.6974\n",
            "Epoch 46/80\n",
            "9/9 [==============================] - 0s 7ms/step - loss: 2.7087 - mean_absolute_error: 2.7087 - val_loss: 2.6866 - val_mean_absolute_error: 2.6866\n",
            "Epoch 47/80\n",
            "9/9 [==============================] - 0s 5ms/step - loss: 2.7072 - mean_absolute_error: 2.7072 - val_loss: 2.6768 - val_mean_absolute_error: 2.6768\n",
            "Epoch 48/80\n",
            "9/9 [==============================] - 0s 5ms/step - loss: 2.6854 - mean_absolute_error: 2.6854 - val_loss: 2.6531 - val_mean_absolute_error: 2.6531\n",
            "Epoch 49/80\n",
            "9/9 [==============================] - 0s 5ms/step - loss: 2.6899 - mean_absolute_error: 2.6899 - val_loss: 2.6440 - val_mean_absolute_error: 2.6440\n",
            "Epoch 50/80\n",
            "9/9 [==============================] - 0s 7ms/step - loss: 2.6716 - mean_absolute_error: 2.6716 - val_loss: 2.6402 - val_mean_absolute_error: 2.6402\n",
            "Epoch 51/80\n",
            "9/9 [==============================] - 0s 5ms/step - loss: 2.6345 - mean_absolute_error: 2.6345 - val_loss: 2.6226 - val_mean_absolute_error: 2.6226\n",
            "Epoch 52/80\n",
            "9/9 [==============================] - 0s 5ms/step - loss: 2.6398 - mean_absolute_error: 2.6398 - val_loss: 2.6219 - val_mean_absolute_error: 2.6219\n",
            "Epoch 53/80\n",
            "9/9 [==============================] - 0s 5ms/step - loss: 2.6288 - mean_absolute_error: 2.6288 - val_loss: 2.6127 - val_mean_absolute_error: 2.6127\n",
            "Epoch 54/80\n",
            "9/9 [==============================] - 0s 5ms/step - loss: 2.6083 - mean_absolute_error: 2.6083 - val_loss: 2.5871 - val_mean_absolute_error: 2.5871\n",
            "Epoch 55/80\n",
            "9/9 [==============================] - 0s 7ms/step - loss: 2.5882 - mean_absolute_error: 2.5882 - val_loss: 2.5891 - val_mean_absolute_error: 2.5891\n",
            "Epoch 56/80\n",
            "9/9 [==============================] - 0s 7ms/step - loss: 2.5692 - mean_absolute_error: 2.5692 - val_loss: 2.5837 - val_mean_absolute_error: 2.5837\n",
            "Epoch 57/80\n",
            "9/9 [==============================] - 0s 7ms/step - loss: 2.5664 - mean_absolute_error: 2.5664 - val_loss: 2.5784 - val_mean_absolute_error: 2.5784\n",
            "Epoch 58/80\n",
            "9/9 [==============================] - 0s 7ms/step - loss: 2.5418 - mean_absolute_error: 2.5418 - val_loss: 2.5564 - val_mean_absolute_error: 2.5564\n",
            "Epoch 59/80\n",
            "9/9 [==============================] - 0s 7ms/step - loss: 2.5252 - mean_absolute_error: 2.5252 - val_loss: 2.5449 - val_mean_absolute_error: 2.5449\n",
            "Epoch 60/80\n",
            "9/9 [==============================] - 0s 5ms/step - loss: 2.5238 - mean_absolute_error: 2.5238 - val_loss: 2.5454 - val_mean_absolute_error: 2.5454\n",
            "Epoch 61/80\n",
            "9/9 [==============================] - 0s 5ms/step - loss: 2.5022 - mean_absolute_error: 2.5022 - val_loss: 2.5283 - val_mean_absolute_error: 2.5283\n",
            "Epoch 62/80\n",
            "9/9 [==============================] - 0s 5ms/step - loss: 2.4985 - mean_absolute_error: 2.4985 - val_loss: 2.5372 - val_mean_absolute_error: 2.5372\n",
            "Epoch 63/80\n",
            "9/9 [==============================] - 0s 7ms/step - loss: 2.4991 - mean_absolute_error: 2.4991 - val_loss: 2.5092 - val_mean_absolute_error: 2.5092\n",
            "Epoch 64/80\n",
            "9/9 [==============================] - 0s 7ms/step - loss: 2.4675 - mean_absolute_error: 2.4675 - val_loss: 2.5115 - val_mean_absolute_error: 2.5115\n",
            "Epoch 65/80\n",
            "9/9 [==============================] - 0s 6ms/step - loss: 2.4460 - mean_absolute_error: 2.4460 - val_loss: 2.4888 - val_mean_absolute_error: 2.4888\n",
            "Epoch 66/80\n",
            "9/9 [==============================] - 0s 7ms/step - loss: 2.4378 - mean_absolute_error: 2.4378 - val_loss: 2.4803 - val_mean_absolute_error: 2.4803\n",
            "Epoch 67/80\n",
            "9/9 [==============================] - 0s 7ms/step - loss: 2.4157 - mean_absolute_error: 2.4157 - val_loss: 2.4672 - val_mean_absolute_error: 2.4672\n",
            "Epoch 68/80\n",
            "9/9 [==============================] - 0s 8ms/step - loss: 2.3966 - mean_absolute_error: 2.3966 - val_loss: 2.4487 - val_mean_absolute_error: 2.4487\n",
            "Epoch 69/80\n",
            "9/9 [==============================] - 0s 5ms/step - loss: 2.3940 - mean_absolute_error: 2.3940 - val_loss: 2.4397 - val_mean_absolute_error: 2.4397\n",
            "Epoch 70/80\n",
            "9/9 [==============================] - 0s 5ms/step - loss: 2.3805 - mean_absolute_error: 2.3805 - val_loss: 2.4344 - val_mean_absolute_error: 2.4344\n",
            "Epoch 71/80\n",
            "9/9 [==============================] - 0s 7ms/step - loss: 2.3757 - mean_absolute_error: 2.3757 - val_loss: 2.4650 - val_mean_absolute_error: 2.4650\n",
            "Epoch 72/80\n",
            "9/9 [==============================] - 0s 8ms/step - loss: 2.3803 - mean_absolute_error: 2.3803 - val_loss: 2.4197 - val_mean_absolute_error: 2.4197\n",
            "Epoch 73/80\n",
            "9/9 [==============================] - 0s 5ms/step - loss: 2.3406 - mean_absolute_error: 2.3406 - val_loss: 2.4959 - val_mean_absolute_error: 2.4959\n",
            "Epoch 74/80\n",
            "9/9 [==============================] - 0s 6ms/step - loss: 2.3845 - mean_absolute_error: 2.3845 - val_loss: 2.4252 - val_mean_absolute_error: 2.4252\n",
            "Epoch 75/80\n",
            "9/9 [==============================] - 0s 7ms/step - loss: 2.3972 - mean_absolute_error: 2.3972 - val_loss: 2.4474 - val_mean_absolute_error: 2.4474\n",
            "Epoch 76/80\n",
            "9/9 [==============================] - 0s 8ms/step - loss: 2.3496 - mean_absolute_error: 2.3496 - val_loss: 2.4304 - val_mean_absolute_error: 2.4304\n",
            "Epoch 77/80\n",
            "9/9 [==============================] - 0s 7ms/step - loss: 2.3557 - mean_absolute_error: 2.3557 - val_loss: 2.4179 - val_mean_absolute_error: 2.4179\n",
            "Epoch 78/80\n",
            "9/9 [==============================] - 0s 7ms/step - loss: 2.3156 - mean_absolute_error: 2.3156 - val_loss: 2.4639 - val_mean_absolute_error: 2.4639\n",
            "Epoch 79/80\n",
            "9/9 [==============================] - 0s 6ms/step - loss: 2.2882 - mean_absolute_error: 2.2882 - val_loss: 2.3999 - val_mean_absolute_error: 2.3999\n",
            "Epoch 80/80\n",
            "9/9 [==============================] - 0s 5ms/step - loss: 2.2747 - mean_absolute_error: 2.2747 - val_loss: 2.4464 - val_mean_absolute_error: 2.4464\n"
          ]
        }
      ]
    },
    {
      "cell_type": "code",
      "source": [
        "from matplotlib import pyplot as plt\n",
        "plt.plot(history2.history['mean_absolute_error'])\n",
        "plt.plot(history2.history['val_mean_absolute_error'])\n",
        "plt.title('Model Mean Absolute Error (MAE)')\n",
        "plt.ylabel('MAE')\n",
        "plt.xlabel('Epoch')\n",
        "plt.legend(['Train', 'Cross-Validation'], loc='upper right')\n",
        "plt.show()"
      ],
      "metadata": {
        "colab": {
          "base_uri": "https://localhost:8080/",
          "height": 295
        },
        "id": "ovwb5HpDqgpE",
        "outputId": "892615e7-dc26-411b-9c97-57cde874884f"
      },
      "execution_count": 84,
      "outputs": [
        {
          "output_type": "display_data",
          "data": {
            "text/plain": [
              "<Figure size 432x288 with 1 Axes>"
            ],
            "image/png": "[encoded data removed]"
          },
          "metadata": {
            "needs_background": "light"
          }
        }
      ]
    },
    {
      "cell_type": "code",
      "source": [
        "tf.random.set_seed(5)\n",
        "\n",
        "network3 = tf.keras.models.Sequential()\n",
        "network3.add(tf.keras.Input(shape=(8,)))\n",
        "network3.add(tf.keras.layers.Dense(20, activation='relu'))\n",
        "network3.add(tf.keras.layers.Dense(20, activation='relu'))\n",
        "network3.add(tf.keras.layers.Dense(20, activation='relu'))\n",
        "network3.add(tf.keras.layers.Dense(20, activation='relu'))\n",
        "network3.add(tf.keras.layers.Dense(1))\n",
        "\n",
        "network3.compile(\n",
        "   loss=tf.keras.losses.MeanAbsoluteError(),\n",
        "   optimizer=tf.keras.optimizers.Adam(),\n",
        "   metrics='mean_absolute_error')\n",
        "\n",
        "history3 = network3.fit(train_selected_X, train_target, epochs=82,validation_data=(test_selected_X,test_target))"
      ],
      "metadata": {
        "colab": {
          "base_uri": "https://localhost:8080/"
        },
        "id": "lDEz4qoSr3IC",
        "outputId": "b9f772e1-9296-4e4f-9c38-1f083b8742c7"
      },
      "execution_count": 86,
      "outputs": [
        {
          "output_type": "stream",
          "name": "stdout",
          "text": [
            "Epoch 1/82\n",
            "9/9 [==============================] - 1s 38ms/step - loss: 4.4178 - mean_absolute_error: 4.4178 - val_loss: 4.5165 - val_mean_absolute_error: 4.5165\n",
            "Epoch 2/82\n",
            "9/9 [==============================] - 0s 9ms/step - loss: 4.2579 - mean_absolute_error: 4.2579 - val_loss: 4.3495 - val_mean_absolute_error: 4.3495\n",
            "Epoch 3/82\n",
            "9/9 [==============================] - 0s 9ms/step - loss: 4.0575 - mean_absolute_error: 4.0575 - val_loss: 4.1795 - val_mean_absolute_error: 4.1795\n",
            "Epoch 4/82\n",
            "9/9 [==============================] - 0s 8ms/step - loss: 3.9321 - mean_absolute_error: 3.9321 - val_loss: 4.0900 - val_mean_absolute_error: 4.0900\n",
            "Epoch 5/82\n",
            "9/9 [==============================] - 0s 11ms/step - loss: 3.8756 - mean_absolute_error: 3.8756 - val_loss: 4.0239 - val_mean_absolute_error: 4.0239\n",
            "Epoch 6/82\n",
            "9/9 [==============================] - 0s 9ms/step - loss: 3.8159 - mean_absolute_error: 3.8159 - val_loss: 3.9664 - val_mean_absolute_error: 3.9664\n",
            "Epoch 7/82\n",
            "9/9 [==============================] - 0s 10ms/step - loss: 3.7647 - mean_absolute_error: 3.7647 - val_loss: 3.9085 - val_mean_absolute_error: 3.9085\n",
            "Epoch 8/82\n",
            "9/9 [==============================] - 0s 11ms/step - loss: 3.7078 - mean_absolute_error: 3.7078 - val_loss: 3.8444 - val_mean_absolute_error: 3.8444\n",
            "Epoch 9/82\n",
            "9/9 [==============================] - 0s 10ms/step - loss: 3.6416 - mean_absolute_error: 3.6416 - val_loss: 3.7698 - val_mean_absolute_error: 3.7698\n",
            "Epoch 10/82\n",
            "9/9 [==============================] - 0s 9ms/step - loss: 3.5632 - mean_absolute_error: 3.5632 - val_loss: 3.7019 - val_mean_absolute_error: 3.7019\n",
            "Epoch 11/82\n",
            "9/9 [==============================] - 0s 9ms/step - loss: 3.4883 - mean_absolute_error: 3.4883 - val_loss: 3.6324 - val_mean_absolute_error: 3.6324\n",
            "Epoch 12/82\n",
            "9/9 [==============================] - 0s 7ms/step - loss: 3.4341 - mean_absolute_error: 3.4341 - val_loss: 3.5692 - val_mean_absolute_error: 3.5692\n",
            "Epoch 13/82\n",
            "9/9 [==============================] - 0s 9ms/step - loss: 3.3784 - mean_absolute_error: 3.3784 - val_loss: 3.5174 - val_mean_absolute_error: 3.5174\n",
            "Epoch 14/82\n",
            "9/9 [==============================] - 0s 9ms/step - loss: 3.3336 - mean_absolute_error: 3.3336 - val_loss: 3.4644 - val_mean_absolute_error: 3.4644\n",
            "Epoch 15/82\n",
            "9/9 [==============================] - 0s 14ms/step - loss: 3.3004 - mean_absolute_error: 3.3004 - val_loss: 3.4098 - val_mean_absolute_error: 3.4098\n",
            "Epoch 16/82\n",
            "9/9 [==============================] - 0s 8ms/step - loss: 3.2610 - mean_absolute_error: 3.2610 - val_loss: 3.3674 - val_mean_absolute_error: 3.3674\n",
            "Epoch 17/82\n",
            "9/9 [==============================] - 0s 10ms/step - loss: 3.2193 - mean_absolute_error: 3.2193 - val_loss: 3.3160 - val_mean_absolute_error: 3.3160\n",
            "Epoch 18/82\n",
            "9/9 [==============================] - 0s 9ms/step - loss: 3.1815 - mean_absolute_error: 3.1815 - val_loss: 3.2551 - val_mean_absolute_error: 3.2551\n",
            "Epoch 19/82\n",
            "9/9 [==============================] - 0s 9ms/step - loss: 3.1467 - mean_absolute_error: 3.1467 - val_loss: 3.2154 - val_mean_absolute_error: 3.2154\n",
            "Epoch 20/82\n",
            "9/9 [==============================] - 0s 10ms/step - loss: 3.1206 - mean_absolute_error: 3.1206 - val_loss: 3.1748 - val_mean_absolute_error: 3.1748\n",
            "Epoch 21/82\n",
            "9/9 [==============================] - 0s 11ms/step - loss: 3.0925 - mean_absolute_error: 3.0925 - val_loss: 3.1420 - val_mean_absolute_error: 3.1420\n",
            "Epoch 22/82\n",
            "9/9 [==============================] - 0s 9ms/step - loss: 3.0572 - mean_absolute_error: 3.0572 - val_loss: 3.1008 - val_mean_absolute_error: 3.1008\n",
            "Epoch 23/82\n",
            "9/9 [==============================] - 0s 9ms/step - loss: 3.0320 - mean_absolute_error: 3.0320 - val_loss: 3.0664 - val_mean_absolute_error: 3.0664\n",
            "Epoch 24/82\n",
            "9/9 [==============================] - 0s 9ms/step - loss: 3.0149 - mean_absolute_error: 3.0149 - val_loss: 3.0457 - val_mean_absolute_error: 3.0457\n",
            "Epoch 25/82\n",
            "9/9 [==============================] - 0s 9ms/step - loss: 2.9822 - mean_absolute_error: 2.9822 - val_loss: 2.9971 - val_mean_absolute_error: 2.9971\n",
            "Epoch 26/82\n",
            "9/9 [==============================] - 0s 9ms/step - loss: 2.9243 - mean_absolute_error: 2.9243 - val_loss: 2.9595 - val_mean_absolute_error: 2.9595\n",
            "Epoch 27/82\n",
            "9/9 [==============================] - 0s 9ms/step - loss: 2.9351 - mean_absolute_error: 2.9351 - val_loss: 2.9311 - val_mean_absolute_error: 2.9311\n",
            "Epoch 28/82\n",
            "9/9 [==============================] - 0s 10ms/step - loss: 2.9011 - mean_absolute_error: 2.9011 - val_loss: 2.9187 - val_mean_absolute_error: 2.9187\n",
            "Epoch 29/82\n",
            "9/9 [==============================] - 0s 9ms/step - loss: 2.8483 - mean_absolute_error: 2.8483 - val_loss: 2.8441 - val_mean_absolute_error: 2.8441\n",
            "Epoch 30/82\n",
            "9/9 [==============================] - 0s 9ms/step - loss: 2.8731 - mean_absolute_error: 2.8731 - val_loss: 2.8158 - val_mean_absolute_error: 2.8158\n",
            "Epoch 31/82\n",
            "9/9 [==============================] - 0s 11ms/step - loss: 2.9439 - mean_absolute_error: 2.9439 - val_loss: 2.8756 - val_mean_absolute_error: 2.8756\n",
            "Epoch 32/82\n",
            "9/9 [==============================] - 0s 9ms/step - loss: 2.8253 - mean_absolute_error: 2.8253 - val_loss: 2.7809 - val_mean_absolute_error: 2.7809\n",
            "Epoch 33/82\n",
            "9/9 [==============================] - 0s 9ms/step - loss: 2.8019 - mean_absolute_error: 2.8019 - val_loss: 2.7583 - val_mean_absolute_error: 2.7583\n",
            "Epoch 34/82\n",
            "9/9 [==============================] - 0s 10ms/step - loss: 2.7575 - mean_absolute_error: 2.7575 - val_loss: 2.7437 - val_mean_absolute_error: 2.7437\n",
            "Epoch 35/82\n",
            "9/9 [==============================] - 0s 10ms/step - loss: 2.7406 - mean_absolute_error: 2.7406 - val_loss: 2.7060 - val_mean_absolute_error: 2.7060\n",
            "Epoch 36/82\n",
            "9/9 [==============================] - 0s 11ms/step - loss: 2.7461 - mean_absolute_error: 2.7461 - val_loss: 2.6822 - val_mean_absolute_error: 2.6822\n",
            "Epoch 37/82\n",
            "9/9 [==============================] - 0s 9ms/step - loss: 2.7047 - mean_absolute_error: 2.7047 - val_loss: 2.6912 - val_mean_absolute_error: 2.6912\n",
            "Epoch 38/82\n",
            "9/9 [==============================] - 0s 9ms/step - loss: 2.6987 - mean_absolute_error: 2.6987 - val_loss: 2.6486 - val_mean_absolute_error: 2.6486\n",
            "Epoch 39/82\n",
            "9/9 [==============================] - 0s 11ms/step - loss: 2.6946 - mean_absolute_error: 2.6946 - val_loss: 2.6580 - val_mean_absolute_error: 2.6580\n",
            "Epoch 40/82\n",
            "9/9 [==============================] - 0s 9ms/step - loss: 2.6657 - mean_absolute_error: 2.6657 - val_loss: 2.6213 - val_mean_absolute_error: 2.6213\n",
            "Epoch 41/82\n",
            "9/9 [==============================] - 0s 12ms/step - loss: 2.6655 - mean_absolute_error: 2.6655 - val_loss: 2.6098 - val_mean_absolute_error: 2.6098\n",
            "Epoch 42/82\n",
            "9/9 [==============================] - 0s 9ms/step - loss: 2.6442 - mean_absolute_error: 2.6442 - val_loss: 2.6177 - val_mean_absolute_error: 2.6177\n",
            "Epoch 43/82\n",
            "9/9 [==============================] - 0s 10ms/step - loss: 2.6133 - mean_absolute_error: 2.6133 - val_loss: 2.5884 - val_mean_absolute_error: 2.5884\n",
            "Epoch 44/82\n",
            "9/9 [==============================] - 0s 10ms/step - loss: 2.6932 - mean_absolute_error: 2.6932 - val_loss: 2.5953 - val_mean_absolute_error: 2.5953\n",
            "Epoch 45/82\n",
            "9/9 [==============================] - 0s 9ms/step - loss: 2.6257 - mean_absolute_error: 2.6257 - val_loss: 2.6176 - val_mean_absolute_error: 2.6176\n",
            "Epoch 46/82\n",
            "9/9 [==============================] - 0s 9ms/step - loss: 2.5979 - mean_absolute_error: 2.5979 - val_loss: 2.5658 - val_mean_absolute_error: 2.5658\n",
            "Epoch 47/82\n",
            "9/9 [==============================] - 0s 9ms/step - loss: 2.5896 - mean_absolute_error: 2.5896 - val_loss: 2.5552 - val_mean_absolute_error: 2.5552\n",
            "Epoch 48/82\n",
            "9/9 [==============================] - 0s 12ms/step - loss: 2.5857 - mean_absolute_error: 2.5857 - val_loss: 2.5577 - val_mean_absolute_error: 2.5577\n",
            "Epoch 49/82\n",
            "9/9 [==============================] - 0s 9ms/step - loss: 2.5940 - mean_absolute_error: 2.5940 - val_loss: 2.5566 - val_mean_absolute_error: 2.5566\n",
            "Epoch 50/82\n",
            "9/9 [==============================] - 0s 9ms/step - loss: 2.5720 - mean_absolute_error: 2.5720 - val_loss: 2.5328 - val_mean_absolute_error: 2.5328\n",
            "Epoch 51/82\n",
            "9/9 [==============================] - 0s 9ms/step - loss: 2.5676 - mean_absolute_error: 2.5676 - val_loss: 2.5333 - val_mean_absolute_error: 2.5333\n",
            "Epoch 52/82\n",
            "9/9 [==============================] - 0s 9ms/step - loss: 2.5591 - mean_absolute_error: 2.5591 - val_loss: 2.5270 - val_mean_absolute_error: 2.5270\n",
            "Epoch 53/82\n",
            "9/9 [==============================] - 0s 9ms/step - loss: 2.6132 - mean_absolute_error: 2.6132 - val_loss: 2.5146 - val_mean_absolute_error: 2.5146\n",
            "Epoch 54/82\n",
            "9/9 [==============================] - 0s 8ms/step - loss: 2.5660 - mean_absolute_error: 2.5660 - val_loss: 2.5372 - val_mean_absolute_error: 2.5372\n",
            "Epoch 55/82\n",
            "9/9 [==============================] - 0s 8ms/step - loss: 2.5412 - mean_absolute_error: 2.5412 - val_loss: 2.5318 - val_mean_absolute_error: 2.5318\n",
            "Epoch 56/82\n",
            "9/9 [==============================] - 0s 12ms/step - loss: 2.5549 - mean_absolute_error: 2.5549 - val_loss: 2.5085 - val_mean_absolute_error: 2.5085\n",
            "Epoch 57/82\n",
            "9/9 [==============================] - 0s 7ms/step - loss: 2.5259 - mean_absolute_error: 2.5259 - val_loss: 2.5274 - val_mean_absolute_error: 2.5274\n",
            "Epoch 58/82\n",
            "9/9 [==============================] - 0s 9ms/step - loss: 2.5249 - mean_absolute_error: 2.5249 - val_loss: 2.4926 - val_mean_absolute_error: 2.4926\n",
            "Epoch 59/82\n",
            "9/9 [==============================] - 0s 10ms/step - loss: 2.5216 - mean_absolute_error: 2.5216 - val_loss: 2.4855 - val_mean_absolute_error: 2.4855\n",
            "Epoch 60/82\n",
            "9/9 [==============================] - 0s 11ms/step - loss: 2.5556 - mean_absolute_error: 2.5556 - val_loss: 2.4915 - val_mean_absolute_error: 2.4915\n",
            "Epoch 61/82\n",
            "9/9 [==============================] - 0s 11ms/step - loss: 2.5131 - mean_absolute_error: 2.5131 - val_loss: 2.4898 - val_mean_absolute_error: 2.4898\n",
            "Epoch 62/82\n",
            "9/9 [==============================] - 0s 18ms/step - loss: 2.5200 - mean_absolute_error: 2.5200 - val_loss: 2.4911 - val_mean_absolute_error: 2.4911\n",
            "Epoch 63/82\n",
            "9/9 [==============================] - 0s 21ms/step - loss: 2.5092 - mean_absolute_error: 2.5092 - val_loss: 2.4895 - val_mean_absolute_error: 2.4895\n",
            "Epoch 64/82\n",
            "9/9 [==============================] - 0s 25ms/step - loss: 2.5318 - mean_absolute_error: 2.5318 - val_loss: 2.4892 - val_mean_absolute_error: 2.4892\n",
            "Epoch 65/82\n",
            "9/9 [==============================] - 0s 25ms/step - loss: 2.4986 - mean_absolute_error: 2.4986 - val_loss: 2.4765 - val_mean_absolute_error: 2.4765\n",
            "Epoch 66/82\n",
            "9/9 [==============================] - 0s 17ms/step - loss: 2.4938 - mean_absolute_error: 2.4938 - val_loss: 2.4799 - val_mean_absolute_error: 2.4799\n",
            "Epoch 67/82\n",
            "9/9 [==============================] - 0s 9ms/step - loss: 2.4878 - mean_absolute_error: 2.4878 - val_loss: 2.4750 - val_mean_absolute_error: 2.4750\n",
            "Epoch 68/82\n",
            "9/9 [==============================] - 0s 4ms/step - loss: 2.4854 - mean_absolute_error: 2.4854 - val_loss: 2.4797 - val_mean_absolute_error: 2.4797\n",
            "Epoch 69/82\n",
            "9/9 [==============================] - 0s 5ms/step - loss: 2.5010 - mean_absolute_error: 2.5010 - val_loss: 2.5014 - val_mean_absolute_error: 2.5014\n",
            "Epoch 70/82\n",
            "9/9 [==============================] - 0s 7ms/step - loss: 2.4780 - mean_absolute_error: 2.4780 - val_loss: 2.5139 - val_mean_absolute_error: 2.5139\n",
            "Epoch 71/82\n",
            "9/9 [==============================] - 0s 7ms/step - loss: 2.4849 - mean_absolute_error: 2.4849 - val_loss: 2.5186 - val_mean_absolute_error: 2.5186\n",
            "Epoch 72/82\n",
            "9/9 [==============================] - 0s 7ms/step - loss: 2.4710 - mean_absolute_error: 2.4710 - val_loss: 2.5028 - val_mean_absolute_error: 2.5028\n",
            "Epoch 73/82\n",
            "9/9 [==============================] - 0s 7ms/step - loss: 2.5066 - mean_absolute_error: 2.5066 - val_loss: 2.4950 - val_mean_absolute_error: 2.4950\n",
            "Epoch 74/82\n",
            "9/9 [==============================] - 0s 5ms/step - loss: 2.4895 - mean_absolute_error: 2.4895 - val_loss: 2.5254 - val_mean_absolute_error: 2.5254\n",
            "Epoch 75/82\n",
            "9/9 [==============================] - 0s 5ms/step - loss: 2.4657 - mean_absolute_error: 2.4657 - val_loss: 2.5144 - val_mean_absolute_error: 2.5144\n",
            "Epoch 76/82\n",
            "9/9 [==============================] - 0s 7ms/step - loss: 2.4825 - mean_absolute_error: 2.4825 - val_loss: 2.5220 - val_mean_absolute_error: 2.5220\n",
            "Epoch 77/82\n",
            "9/9 [==============================] - 0s 5ms/step - loss: 2.4934 - mean_absolute_error: 2.4934 - val_loss: 2.5051 - val_mean_absolute_error: 2.5051\n",
            "Epoch 78/82\n",
            "9/9 [==============================] - 0s 5ms/step - loss: 2.4563 - mean_absolute_error: 2.4563 - val_loss: 2.5338 - val_mean_absolute_error: 2.5338\n",
            "Epoch 79/82\n",
            "9/9 [==============================] - 0s 5ms/step - loss: 2.5054 - mean_absolute_error: 2.5054 - val_loss: 2.5452 - val_mean_absolute_error: 2.5452\n",
            "Epoch 80/82\n",
            "9/9 [==============================] - 0s 5ms/step - loss: 2.5184 - mean_absolute_error: 2.5184 - val_loss: 2.5123 - val_mean_absolute_error: 2.5123\n",
            "Epoch 81/82\n",
            "9/9 [==============================] - 0s 8ms/step - loss: 2.5219 - mean_absolute_error: 2.5219 - val_loss: 2.6242 - val_mean_absolute_error: 2.6242\n",
            "Epoch 82/82\n",
            "9/9 [==============================] - 0s 5ms/step - loss: 2.4700 - mean_absolute_error: 2.4700 - val_loss: 2.4960 - val_mean_absolute_error: 2.4960\n"
          ]
        }
      ]
    },
    {
      "cell_type": "code",
      "source": [
        "from matplotlib import pyplot as plt\n",
        "plt.plot(history3.history['mean_absolute_error'])\n",
        "plt.plot(history3.history['val_mean_absolute_error'])\n",
        "plt.title('Model Mean Absolute Error (MAE)')\n",
        "plt.ylabel('MAE')\n",
        "plt.xlabel('Epoch')\n",
        "plt.legend(['Train', 'Cross-Validation'], loc='upper right')\n",
        "plt.show()"
      ],
      "metadata": {
        "colab": {
          "base_uri": "https://localhost:8080/",
          "height": 295
        },
        "id": "128nqSmSr2M8",
        "outputId": "2bb1297a-69a9-4fe7-818d-79913a306ffe"
      },
      "execution_count": 87,
      "outputs": [
        {
          "output_type": "display_data",
          "data": {
            "text/plain": [
              "<Figure size 432x288 with 1 Axes>"
            ],
            "image/png": "[encoded data removed]"
          },
          "metadata": {
            "needs_background": "light"
          }
        }
      ]
    }
  ]
}