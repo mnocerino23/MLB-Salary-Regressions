{
  "nbformat": 4,
  "nbformat_minor": 0,
  "metadata": {
    "colab": {
      "name": "Pitcher_Regressions.ipynb",
      "provenance": [],
      "collapsed_sections": [],
      "authorship_tag": "ABX9TyOVZP59+Apsaw0VM417v0aw",
      "include_colab_link": true
    },
    "kernelspec": {
      "name": "python3",
      "display_name": "Python 3"
    },
    "language_info": {
      "name": "python"
    }
  },
  "cells": [
    {
      "cell_type": "markdown",
      "metadata": {
        "id": "view-in-github",
        "colab_type": "text"
      },
      "source": [
        "<a href=\"https://colab.research.google.com/github/mnocerino23/MLB-Salary-Regressions/blob/main/Pitcher_Regressions.ipynb\" target=\"_parent\"><img src=\"https://colab.research.google.com/assets/colab-badge.svg\" alt=\"Open In Colab\"/></a>"
      ]
    },
    {
      "cell_type": "markdown",
      "source": [
        "# In this Jupyter Notebook, I will build regression models to predict salary (in millions) for MLB position pitchers. I will experiment with different modeling techniques such as multivariate linear, lasso, ridge, and neural network regressions"
      ],
      "metadata": {
        "id": "f4ApupsHWsk0"
      }
    },
    {
      "cell_type": "code",
      "execution_count": 564,
      "metadata": {
        "id": "-m4_gX_7WniX",
        "colab": {
          "base_uri": "https://localhost:8080/"
        },
        "outputId": "2d127873-bf47-426c-a029-2ac61dea1824"
      },
      "outputs": [
        {
          "output_type": "stream",
          "name": "stdout",
          "text": [
            "Drive already mounted at /content/drive; to attempt to forcibly remount, call drive.mount(\"/content/drive\", force_remount=True).\n"
          ]
        }
      ],
      "source": [
        "import numpy as np\n",
        "import pandas as pd\n",
        "\n",
        "from google.colab import drive\n",
        "drive.mount('/content/drive')"
      ]
    },
    {
      "cell_type": "code",
      "source": [
        "import sklearn\n",
        "from sklearn import preprocessing\n",
        "from sklearn.model_selection import train_test_split, cross_val_score\n",
        "from sklearn.feature_selection import SelectKBest, f_regression\n",
        "from sklearn.preprocessing import MinMaxScaler"
      ],
      "metadata": {
        "id": "2paP65w2XzxT"
      },
      "execution_count": 565,
      "outputs": []
    },
    {
      "cell_type": "code",
      "source": [
        "from sklearn import linear_model\n",
        "from sklearn.linear_model import Ridge, Lasso"
      ],
      "metadata": {
        "id": "lUOnJgJjYBjQ"
      },
      "execution_count": 566,
      "outputs": []
    },
    {
      "cell_type": "code",
      "source": [
        "from sklearn.metrics import mean_absolute_error, mean_squared_error, mean_squared_log_error"
      ],
      "metadata": {
        "id": "vcpSRxhvX5mJ"
      },
      "execution_count": 567,
      "outputs": []
    },
    {
      "cell_type": "code",
      "source": [
        "#read in position player stats\n",
        "pitchers_train = pd.read_csv('/content/drive/MyDrive/Data_Science_Projects/MLB/pitcher_train.csv')\n",
        "pitchers_test = pd.read_csv('/content/drive/MyDrive/Data_Science_Projects/MLB/pitcher_test.csv')"
      ],
      "metadata": {
        "id": "_2BdS_khYKqq"
      },
      "execution_count": 568,
      "outputs": []
    },
    {
      "cell_type": "markdown",
      "source": [
        "# Final check for null values:"
      ],
      "metadata": {
        "id": "2Te5bc3PfD_k"
      }
    },
    {
      "cell_type": "code",
      "source": [
        "#no null values\n",
        "pitchers_train.info()"
      ],
      "metadata": {
        "colab": {
          "base_uri": "https://localhost:8080/"
        },
        "id": "lbN5vD43e-ZF",
        "outputId": "094f4f93-14d8-486f-a65f-e05164c521a7"
      },
      "execution_count": 569,
      "outputs": [
        {
          "output_type": "stream",
          "name": "stdout",
          "text": [
            "<class 'pandas.core.frame.DataFrame'>\n",
            "RangeIndex: 300 entries, 0 to 299\n",
            "Data columns (total 43 columns):\n",
            " #   Column   Non-Null Count  Dtype  \n",
            "---  ------   --------------  -----  \n",
            " 0   name     300 non-null    object \n",
            " 1   throws   300 non-null    object \n",
            " 2   age      300 non-null    int64  \n",
            " 3   stints   300 non-null    int64  \n",
            " 4   teamID   300 non-null    object \n",
            " 5   LG       300 non-null    object \n",
            " 6   POS1     300 non-null    object \n",
            " 7   W        300 non-null    int64  \n",
            " 8   L        300 non-null    int64  \n",
            " 9   CG       300 non-null    int64  \n",
            " 10  ShO      300 non-null    int64  \n",
            " 11  GP       300 non-null    int64  \n",
            " 12  GS       300 non-null    int64  \n",
            " 13  SV       300 non-null    int64  \n",
            " 14  GF       300 non-null    int64  \n",
            " 15  IPOuts   300 non-null    int64  \n",
            " 16   IP      300 non-null    float64\n",
            " 17   ERA     300 non-null    float64\n",
            " 18  HA       300 non-null    int64  \n",
            " 19  ER       300 non-null    int64  \n",
            " 20  HRA      300 non-null    int64  \n",
            " 21  BBA      300 non-null    int64  \n",
            " 22  SOA      300 non-null    int64  \n",
            " 23  IBBA     300 non-null    int64  \n",
            " 24  WP       300 non-null    int64  \n",
            " 25  HPBA     300 non-null    int64  \n",
            " 26  BK       300 non-null    int64  \n",
            " 27  BFP      300 non-null    int64  \n",
            " 28  RA       300 non-null    int64  \n",
            " 29   CMD     300 non-null    float64\n",
            " 30   DOM     300 non-null    float64\n",
            " 31   CTL     300 non-null    float64\n",
            " 32   HR9     300 non-null    object \n",
            " 33   WHIP    300 non-null    float64\n",
            " 34   WRIP    300 non-null    float64\n",
            " 35  HRBIB    300 non-null    object \n",
            " 36   RAVG    300 non-null    float64\n",
            " 37   FIP     300 non-null    float64\n",
            " 38   DERA    300 non-null    float64\n",
            " 39   STUFF   300 non-null    int64  \n",
            " 40   GURU    300 non-null    object \n",
            " 41  salary   300 non-null    float64\n",
            " 42  WAR      300 non-null    float64\n",
            "dtypes: float64(12), int64(23), object(8)\n",
            "memory usage: 100.9+ KB\n"
          ]
        }
      ]
    },
    {
      "cell_type": "code",
      "source": [
        "#test data also has no nulls so we are good\n",
        "pitchers_test.info()"
      ],
      "metadata": {
        "colab": {
          "base_uri": "https://localhost:8080/"
        },
        "id": "r7xpS7ZofLPC",
        "outputId": "95e7dace-6903-4fbf-e974-3e991f73eeb0"
      },
      "execution_count": 570,
      "outputs": [
        {
          "output_type": "stream",
          "name": "stdout",
          "text": [
            "<class 'pandas.core.frame.DataFrame'>\n",
            "RangeIndex: 75 entries, 0 to 74\n",
            "Data columns (total 43 columns):\n",
            " #   Column   Non-Null Count  Dtype  \n",
            "---  ------   --------------  -----  \n",
            " 0   name     75 non-null     object \n",
            " 1   throws   75 non-null     object \n",
            " 2   age      75 non-null     int64  \n",
            " 3   stints   75 non-null     int64  \n",
            " 4   teamID   75 non-null     object \n",
            " 5   LG       75 non-null     object \n",
            " 6   POS1     75 non-null     object \n",
            " 7   W        75 non-null     int64  \n",
            " 8   L        75 non-null     int64  \n",
            " 9   CG       75 non-null     int64  \n",
            " 10  ShO      75 non-null     int64  \n",
            " 11  GP       75 non-null     int64  \n",
            " 12  GS       75 non-null     int64  \n",
            " 13  SV       75 non-null     int64  \n",
            " 14  GF       75 non-null     int64  \n",
            " 15  IPOuts   75 non-null     int64  \n",
            " 16   IP      75 non-null     float64\n",
            " 17   ERA     75 non-null     float64\n",
            " 18  HA       75 non-null     int64  \n",
            " 19  ER       75 non-null     int64  \n",
            " 20  HRA      75 non-null     int64  \n",
            " 21  BBA      75 non-null     int64  \n",
            " 22  SOA      75 non-null     int64  \n",
            " 23  IBBA     75 non-null     int64  \n",
            " 24  WP       75 non-null     int64  \n",
            " 25  HPBA     75 non-null     int64  \n",
            " 26  BK       75 non-null     int64  \n",
            " 27  BFP      75 non-null     int64  \n",
            " 28  RA       75 non-null     int64  \n",
            " 29   CMD     75 non-null     float64\n",
            " 30   DOM     75 non-null     float64\n",
            " 31   CTL     75 non-null     float64\n",
            " 32   HR9     75 non-null     float64\n",
            " 33   WHIP    75 non-null     float64\n",
            " 34   WRIP    75 non-null     float64\n",
            " 35  HRBIB    75 non-null     float64\n",
            " 36   RAVG    75 non-null     float64\n",
            " 37   FIP     75 non-null     float64\n",
            " 38   DERA    75 non-null     float64\n",
            " 39   STUFF   75 non-null     int64  \n",
            " 40   GURU    75 non-null     int64  \n",
            " 41  salary   75 non-null     float64\n",
            " 42  WAR      75 non-null     float64\n",
            "dtypes: float64(14), int64(24), object(5)\n",
            "memory usage: 25.3+ KB\n"
          ]
        }
      ]
    },
    {
      "cell_type": "code",
      "source": [
        "pitchers_train.head(3)"
      ],
      "metadata": {
        "colab": {
          "base_uri": "https://localhost:8080/",
          "height": 173
        },
        "id": "bQxP-yixKK_D",
        "outputId": "023fc1ec-8e63-4347-dcdb-98a9a93ee8d9"
      },
      "execution_count": 571,
      "outputs": [
        {
          "output_type": "execute_result",
          "data": {
            "text/plain": [
              "          name throws  age  stints teamID  LG      POS1   W  L  CG  ...  \\\n",
              "0    Da Hudson      R   24       1    STL  NL   Starter  16  7   0  ...   \n",
              "1  Ad Ottavino      R   33       1    NYA  AL  Reliever   6  5   0  ...   \n",
              "2    Mi Soroka      R   21       1    ATL  NL   Starter  13  4   0  ...   \n",
              "\n",
              "    WHIP    WRIP    HRBIB   RAVG    FIP    DERA    STUFF    GURU     salary  \\\n",
              "0    1.41    1.75   0.06     4.12   4.91    4.73       11     38   0.491965   \n",
              "1    1.31    1.36   0.05     2.31   3.43    3.29      187     63   9.000000   \n",
              "2    1.11    1.04   0.04     2.89   3.44    3.43       62     91   0.411792   \n",
              "\n",
              "   WAR  \n",
              "0  0.6  \n",
              "1  1.3  \n",
              "2  3.8  \n",
              "\n",
              "[3 rows x 43 columns]"
            ],
            "text/html": [
              "\n",
              "  <div id=\"df-5861e61e-c090-4b09-9ca0-2ec676774c03\">\n",
              "    <div class=\"colab-df-container\">\n",
              "      <div>\n",
              "<style scoped>\n",
              "    .dataframe tbody tr th:only-of-type {\n",
              "        vertical-align: middle;\n",
              "    }\n",
              "\n",
              "    .dataframe tbody tr th {\n",
              "        vertical-align: top;\n",
              "    }\n",
              "\n",
              "    .dataframe thead th {\n",
              "        text-align: right;\n",
              "    }\n",
              "</style>\n",
              "<table border=\"1\" class=\"dataframe\">\n",
              "  <thead>\n",
              "    <tr style=\"text-align: right;\">\n",
              "      <th></th>\n",
              "      <th>name</th>\n",
              "      <th>throws</th>\n",
              "      <th>age</th>\n",
              "      <th>stints</th>\n",
              "      <th>teamID</th>\n",
              "      <th>LG</th>\n",
              "      <th>POS1</th>\n",
              "      <th>W</th>\n",
              "      <th>L</th>\n",
              "      <th>CG</th>\n",
              "      <th>...</th>\n",
              "      <th>WHIP</th>\n",
              "      <th>WRIP</th>\n",
              "      <th>HRBIB</th>\n",
              "      <th>RAVG</th>\n",
              "      <th>FIP</th>\n",
              "      <th>DERA</th>\n",
              "      <th>STUFF</th>\n",
              "      <th>GURU</th>\n",
              "      <th>salary</th>\n",
              "      <th>WAR</th>\n",
              "    </tr>\n",
              "  </thead>\n",
              "  <tbody>\n",
              "    <tr>\n",
              "      <th>0</th>\n",
              "      <td>Da Hudson</td>\n",
              "      <td>R</td>\n",
              "      <td>24</td>\n",
              "      <td>1</td>\n",
              "      <td>STL</td>\n",
              "      <td>NL</td>\n",
              "      <td>Starter</td>\n",
              "      <td>16</td>\n",
              "      <td>7</td>\n",
              "      <td>0</td>\n",
              "      <td>...</td>\n",
              "      <td>1.41</td>\n",
              "      <td>1.75</td>\n",
              "      <td>0.06</td>\n",
              "      <td>4.12</td>\n",
              "      <td>4.91</td>\n",
              "      <td>4.73</td>\n",
              "      <td>11</td>\n",
              "      <td>38</td>\n",
              "      <td>0.491965</td>\n",
              "      <td>0.6</td>\n",
              "    </tr>\n",
              "    <tr>\n",
              "      <th>1</th>\n",
              "      <td>Ad Ottavino</td>\n",
              "      <td>R</td>\n",
              "      <td>33</td>\n",
              "      <td>1</td>\n",
              "      <td>NYA</td>\n",
              "      <td>AL</td>\n",
              "      <td>Reliever</td>\n",
              "      <td>6</td>\n",
              "      <td>5</td>\n",
              "      <td>0</td>\n",
              "      <td>...</td>\n",
              "      <td>1.31</td>\n",
              "      <td>1.36</td>\n",
              "      <td>0.05</td>\n",
              "      <td>2.31</td>\n",
              "      <td>3.43</td>\n",
              "      <td>3.29</td>\n",
              "      <td>187</td>\n",
              "      <td>63</td>\n",
              "      <td>9.000000</td>\n",
              "      <td>1.3</td>\n",
              "    </tr>\n",
              "    <tr>\n",
              "      <th>2</th>\n",
              "      <td>Mi Soroka</td>\n",
              "      <td>R</td>\n",
              "      <td>21</td>\n",
              "      <td>1</td>\n",
              "      <td>ATL</td>\n",
              "      <td>NL</td>\n",
              "      <td>Starter</td>\n",
              "      <td>13</td>\n",
              "      <td>4</td>\n",
              "      <td>0</td>\n",
              "      <td>...</td>\n",
              "      <td>1.11</td>\n",
              "      <td>1.04</td>\n",
              "      <td>0.04</td>\n",
              "      <td>2.89</td>\n",
              "      <td>3.44</td>\n",
              "      <td>3.43</td>\n",
              "      <td>62</td>\n",
              "      <td>91</td>\n",
              "      <td>0.411792</td>\n",
              "      <td>3.8</td>\n",
              "    </tr>\n",
              "  </tbody>\n",
              "</table>\n",
              "<p>3 rows × 43 columns</p>\n",
              "</div>\n",
              "      <button class=\"colab-df-convert\" onclick=\"convertToInteractive('df-5861e61e-c090-4b09-9ca0-2ec676774c03')\"\n",
              "              title=\"Convert this dataframe to an interactive table.\"\n",
              "              style=\"display:none;\">\n",
              "        \n",
              "  <svg xmlns=\"http://www.w3.org/2000/svg\" height=\"24px\"viewBox=\"0 0 24 24\"\n",
              "       width=\"24px\">\n",
              "    <path d=\"M0 0h24v24H0V0z\" fill=\"none\"/>\n",
              "    <path d=\"M18.56 5.44l.94 2.06.94-2.06 2.06-.94-2.06-.94-.94-2.06-.94 2.06-2.06.94zm-11 1L8.5 8.5l.94-2.06 2.06-.94-2.06-.94L8.5 2.5l-.94 2.06-2.06.94zm10 10l.94 2.06.94-2.06 2.06-.94-2.06-.94-.94-2.06-.94 2.06-2.06.94z\"/><path d=\"M17.41 7.96l-1.37-1.37c-.4-.4-.92-.59-1.43-.59-.52 0-1.04.2-1.43.59L10.3 9.45l-7.72 7.72c-.78.78-.78 2.05 0 2.83L4 21.41c.39.39.9.59 1.41.59.51 0 1.02-.2 1.41-.59l7.78-7.78 2.81-2.81c.8-.78.8-2.07 0-2.86zM5.41 20L4 18.59l7.72-7.72 1.47 1.35L5.41 20z\"/>\n",
              "  </svg>\n",
              "      </button>\n",
              "      \n",
              "  <style>\n",
              "    .colab-df-container {\n",
              "      display:flex;\n",
              "      flex-wrap:wrap;\n",
              "      gap: 12px;\n",
              "    }\n",
              "\n",
              "    .colab-df-convert {\n",
              "      background-color: #E8F0FE;\n",
              "      border: none;\n",
              "      border-radius: 50%;\n",
              "      cursor: pointer;\n",
              "      display: none;\n",
              "      fill: #1967D2;\n",
              "      height: 32px;\n",
              "      padding: 0 0 0 0;\n",
              "      width: 32px;\n",
              "    }\n",
              "\n",
              "    .colab-df-convert:hover {\n",
              "      background-color: #E2EBFA;\n",
              "      box-shadow: 0px 1px 2px rgba(60, 64, 67, 0.3), 0px 1px 3px 1px rgba(60, 64, 67, 0.15);\n",
              "      fill: #174EA6;\n",
              "    }\n",
              "\n",
              "    [theme=dark] .colab-df-convert {\n",
              "      background-color: #3B4455;\n",
              "      fill: #D2E3FC;\n",
              "    }\n",
              "\n",
              "    [theme=dark] .colab-df-convert:hover {\n",
              "      background-color: #434B5C;\n",
              "      box-shadow: 0px 1px 3px 1px rgba(0, 0, 0, 0.15);\n",
              "      filter: drop-shadow(0px 1px 2px rgba(0, 0, 0, 0.3));\n",
              "      fill: #FFFFFF;\n",
              "    }\n",
              "  </style>\n",
              "\n",
              "      <script>\n",
              "        const buttonEl =\n",
              "          document.querySelector('#df-5861e61e-c090-4b09-9ca0-2ec676774c03 button.colab-df-convert');\n",
              "        buttonEl.style.display =\n",
              "          google.colab.kernel.accessAllowed ? 'block' : 'none';\n",
              "\n",
              "        async function convertToInteractive(key) {\n",
              "          const element = document.querySelector('#df-5861e61e-c090-4b09-9ca0-2ec676774c03');\n",
              "          const dataTable =\n",
              "            await google.colab.kernel.invokeFunction('convertToInteractive',\n",
              "                                                     [key], {});\n",
              "          if (!dataTable) return;\n",
              "\n",
              "          const docLinkHtml = 'Like what you see? Visit the ' +\n",
              "            '<a target=\"_blank\" href=https://colab.research.google.com/notebooks/data_table.ipynb>data table notebook</a>'\n",
              "            + ' to learn more about interactive tables.';\n",
              "          element.innerHTML = '';\n",
              "          dataTable['output_type'] = 'display_data';\n",
              "          await google.colab.output.renderOutput(dataTable, element);\n",
              "          const docLink = document.createElement('div');\n",
              "          docLink.innerHTML = docLinkHtml;\n",
              "          element.appendChild(docLink);\n",
              "        }\n",
              "      </script>\n",
              "    </div>\n",
              "  </div>\n",
              "  "
            ]
          },
          "metadata": {},
          "execution_count": 571
        }
      ]
    },
    {
      "cell_type": "code",
      "source": [
        "pitchers_test.head(3)"
      ],
      "metadata": {
        "colab": {
          "base_uri": "https://localhost:8080/",
          "height": 173
        },
        "id": "RBWQ216ZKL5j",
        "outputId": "6f6f9f4a-092f-4508-fd88-36701b57b8c7"
      },
      "execution_count": 572,
      "outputs": [
        {
          "output_type": "execute_result",
          "data": {
            "text/plain": [
              "         name throws  age  stints teamID  LG      POS1   W  L  CG  ...  \\\n",
              "0     Ja Diaz      R   28       1    COL  NL  Reliever   6  4   0  ...   \n",
              "1  Wa Buehler      R   24       1    LAN  NL   Starter  14  4   2  ...   \n",
              "2   Jo Suarez      L   21       1    LAA  AL  Reliever   2  6   0  ...   \n",
              "\n",
              "    WHIP    WRIP   HRBIB   RAVG    FIP    DERA    STUFF    GURU     salary  \\\n",
              "0    1.30    1.54   0.07    5.31   3.69    3.60      123      44  0.390904   \n",
              "1    1.04    1.30   0.06    3.80   2.99    2.93      206     147  0.570000   \n",
              "2    1.64    3.25   0.16    7.44   6.71    6.27        6       9  0.265576   \n",
              "\n",
              "   WAR  \n",
              "0  0.9  \n",
              "1  5.0  \n",
              "2 -0.6  \n",
              "\n",
              "[3 rows x 43 columns]"
            ],
            "text/html": [
              "\n",
              "  <div id=\"df-d288ee0e-6f2e-4c65-bc35-0fcef1d46dff\">\n",
              "    <div class=\"colab-df-container\">\n",
              "      <div>\n",
              "<style scoped>\n",
              "    .dataframe tbody tr th:only-of-type {\n",
              "        vertical-align: middle;\n",
              "    }\n",
              "\n",
              "    .dataframe tbody tr th {\n",
              "        vertical-align: top;\n",
              "    }\n",
              "\n",
              "    .dataframe thead th {\n",
              "        text-align: right;\n",
              "    }\n",
              "</style>\n",
              "<table border=\"1\" class=\"dataframe\">\n",
              "  <thead>\n",
              "    <tr style=\"text-align: right;\">\n",
              "      <th></th>\n",
              "      <th>name</th>\n",
              "      <th>throws</th>\n",
              "      <th>age</th>\n",
              "      <th>stints</th>\n",
              "      <th>teamID</th>\n",
              "      <th>LG</th>\n",
              "      <th>POS1</th>\n",
              "      <th>W</th>\n",
              "      <th>L</th>\n",
              "      <th>CG</th>\n",
              "      <th>...</th>\n",
              "      <th>WHIP</th>\n",
              "      <th>WRIP</th>\n",
              "      <th>HRBIB</th>\n",
              "      <th>RAVG</th>\n",
              "      <th>FIP</th>\n",
              "      <th>DERA</th>\n",
              "      <th>STUFF</th>\n",
              "      <th>GURU</th>\n",
              "      <th>salary</th>\n",
              "      <th>WAR</th>\n",
              "    </tr>\n",
              "  </thead>\n",
              "  <tbody>\n",
              "    <tr>\n",
              "      <th>0</th>\n",
              "      <td>Ja Diaz</td>\n",
              "      <td>R</td>\n",
              "      <td>28</td>\n",
              "      <td>1</td>\n",
              "      <td>COL</td>\n",
              "      <td>NL</td>\n",
              "      <td>Reliever</td>\n",
              "      <td>6</td>\n",
              "      <td>4</td>\n",
              "      <td>0</td>\n",
              "      <td>...</td>\n",
              "      <td>1.30</td>\n",
              "      <td>1.54</td>\n",
              "      <td>0.07</td>\n",
              "      <td>5.31</td>\n",
              "      <td>3.69</td>\n",
              "      <td>3.60</td>\n",
              "      <td>123</td>\n",
              "      <td>44</td>\n",
              "      <td>0.390904</td>\n",
              "      <td>0.9</td>\n",
              "    </tr>\n",
              "    <tr>\n",
              "      <th>1</th>\n",
              "      <td>Wa Buehler</td>\n",
              "      <td>R</td>\n",
              "      <td>24</td>\n",
              "      <td>1</td>\n",
              "      <td>LAN</td>\n",
              "      <td>NL</td>\n",
              "      <td>Starter</td>\n",
              "      <td>14</td>\n",
              "      <td>4</td>\n",
              "      <td>2</td>\n",
              "      <td>...</td>\n",
              "      <td>1.04</td>\n",
              "      <td>1.30</td>\n",
              "      <td>0.06</td>\n",
              "      <td>3.80</td>\n",
              "      <td>2.99</td>\n",
              "      <td>2.93</td>\n",
              "      <td>206</td>\n",
              "      <td>147</td>\n",
              "      <td>0.570000</td>\n",
              "      <td>5.0</td>\n",
              "    </tr>\n",
              "    <tr>\n",
              "      <th>2</th>\n",
              "      <td>Jo Suarez</td>\n",
              "      <td>L</td>\n",
              "      <td>21</td>\n",
              "      <td>1</td>\n",
              "      <td>LAA</td>\n",
              "      <td>AL</td>\n",
              "      <td>Reliever</td>\n",
              "      <td>2</td>\n",
              "      <td>6</td>\n",
              "      <td>0</td>\n",
              "      <td>...</td>\n",
              "      <td>1.64</td>\n",
              "      <td>3.25</td>\n",
              "      <td>0.16</td>\n",
              "      <td>7.44</td>\n",
              "      <td>6.71</td>\n",
              "      <td>6.27</td>\n",
              "      <td>6</td>\n",
              "      <td>9</td>\n",
              "      <td>0.265576</td>\n",
              "      <td>-0.6</td>\n",
              "    </tr>\n",
              "  </tbody>\n",
              "</table>\n",
              "<p>3 rows × 43 columns</p>\n",
              "</div>\n",
              "      <button class=\"colab-df-convert\" onclick=\"convertToInteractive('df-d288ee0e-6f2e-4c65-bc35-0fcef1d46dff')\"\n",
              "              title=\"Convert this dataframe to an interactive table.\"\n",
              "              style=\"display:none;\">\n",
              "        \n",
              "  <svg xmlns=\"http://www.w3.org/2000/svg\" height=\"24px\"viewBox=\"0 0 24 24\"\n",
              "       width=\"24px\">\n",
              "    <path d=\"M0 0h24v24H0V0z\" fill=\"none\"/>\n",
              "    <path d=\"M18.56 5.44l.94 2.06.94-2.06 2.06-.94-2.06-.94-.94-2.06-.94 2.06-2.06.94zm-11 1L8.5 8.5l.94-2.06 2.06-.94-2.06-.94L8.5 2.5l-.94 2.06-2.06.94zm10 10l.94 2.06.94-2.06 2.06-.94-2.06-.94-.94-2.06-.94 2.06-2.06.94z\"/><path d=\"M17.41 7.96l-1.37-1.37c-.4-.4-.92-.59-1.43-.59-.52 0-1.04.2-1.43.59L10.3 9.45l-7.72 7.72c-.78.78-.78 2.05 0 2.83L4 21.41c.39.39.9.59 1.41.59.51 0 1.02-.2 1.41-.59l7.78-7.78 2.81-2.81c.8-.78.8-2.07 0-2.86zM5.41 20L4 18.59l7.72-7.72 1.47 1.35L5.41 20z\"/>\n",
              "  </svg>\n",
              "      </button>\n",
              "      \n",
              "  <style>\n",
              "    .colab-df-container {\n",
              "      display:flex;\n",
              "      flex-wrap:wrap;\n",
              "      gap: 12px;\n",
              "    }\n",
              "\n",
              "    .colab-df-convert {\n",
              "      background-color: #E8F0FE;\n",
              "      border: none;\n",
              "      border-radius: 50%;\n",
              "      cursor: pointer;\n",
              "      display: none;\n",
              "      fill: #1967D2;\n",
              "      height: 32px;\n",
              "      padding: 0 0 0 0;\n",
              "      width: 32px;\n",
              "    }\n",
              "\n",
              "    .colab-df-convert:hover {\n",
              "      background-color: #E2EBFA;\n",
              "      box-shadow: 0px 1px 2px rgba(60, 64, 67, 0.3), 0px 1px 3px 1px rgba(60, 64, 67, 0.15);\n",
              "      fill: #174EA6;\n",
              "    }\n",
              "\n",
              "    [theme=dark] .colab-df-convert {\n",
              "      background-color: #3B4455;\n",
              "      fill: #D2E3FC;\n",
              "    }\n",
              "\n",
              "    [theme=dark] .colab-df-convert:hover {\n",
              "      background-color: #434B5C;\n",
              "      box-shadow: 0px 1px 3px 1px rgba(0, 0, 0, 0.15);\n",
              "      filter: drop-shadow(0px 1px 2px rgba(0, 0, 0, 0.3));\n",
              "      fill: #FFFFFF;\n",
              "    }\n",
              "  </style>\n",
              "\n",
              "      <script>\n",
              "        const buttonEl =\n",
              "          document.querySelector('#df-d288ee0e-6f2e-4c65-bc35-0fcef1d46dff button.colab-df-convert');\n",
              "        buttonEl.style.display =\n",
              "          google.colab.kernel.accessAllowed ? 'block' : 'none';\n",
              "\n",
              "        async function convertToInteractive(key) {\n",
              "          const element = document.querySelector('#df-d288ee0e-6f2e-4c65-bc35-0fcef1d46dff');\n",
              "          const dataTable =\n",
              "            await google.colab.kernel.invokeFunction('convertToInteractive',\n",
              "                                                     [key], {});\n",
              "          if (!dataTable) return;\n",
              "\n",
              "          const docLinkHtml = 'Like what you see? Visit the ' +\n",
              "            '<a target=\"_blank\" href=https://colab.research.google.com/notebooks/data_table.ipynb>data table notebook</a>'\n",
              "            + ' to learn more about interactive tables.';\n",
              "          element.innerHTML = '';\n",
              "          dataTable['output_type'] = 'display_data';\n",
              "          await google.colab.output.renderOutput(dataTable, element);\n",
              "          const docLink = document.createElement('div');\n",
              "          docLink.innerHTML = docLinkHtml;\n",
              "          element.appendChild(docLink);\n",
              "        }\n",
              "      </script>\n",
              "    </div>\n",
              "  </div>\n",
              "  "
            ]
          },
          "metadata": {},
          "execution_count": 572
        }
      ]
    },
    {
      "cell_type": "code",
      "source": [
        "#drop unncesary columns from both datasets\n",
        "\n",
        "pitchers_train.drop(columns = ['name','stints', 'LG', 'teamID'], inplace = True)\n",
        "pitchers_test.drop(columns = ['name','stints', 'LG', 'teamID'], inplace = True)\n",
        "pitchers_test.head()"
      ],
      "metadata": {
        "colab": {
          "base_uri": "https://localhost:8080/",
          "height": 235
        },
        "id": "dsqdOljHZXvq",
        "outputId": "526f2c23-6d24-4271-a495-9d0b617cf302"
      },
      "execution_count": 573,
      "outputs": [
        {
          "output_type": "execute_result",
          "data": {
            "text/plain": [
              "  throws  age      POS1   W  L  CG  ShO  GP  GS  SV  ...   WHIP    WRIP   \\\n",
              "0      R   28  Reliever   6  4   0    0  56   0   5  ...    1.30    1.54   \n",
              "1      R   24   Starter  14  4   2    0  30  30   0  ...    1.04    1.30   \n",
              "2      L   21  Reliever   2  6   0    0  19  15   0  ...    1.64    3.25   \n",
              "3      R   23   Starter  11  8   0    0  33  33   0  ...    0.97    1.55   \n",
              "4      R   26  Reliever   4  4   0    0  27   9   0  ...    1.67    1.61   \n",
              "\n",
              "   HRBIB   RAVG    FIP    DERA    STUFF    GURU     salary  WAR  \n",
              "0   0.07    5.31   3.69    3.60      123      44  0.390904  0.9  \n",
              "1   0.06    3.80   2.99    2.93      206     147  0.570000  5.0  \n",
              "2   0.16    7.44   6.71    6.27        6       9  0.265576 -0.6  \n",
              "3   0.08    2.84   3.45    3.32      171     107  0.562100  4.9  \n",
              "4   0.05    5.77   4.58    4.42       31      23  0.704256  0.6  \n",
              "\n",
              "[5 rows x 39 columns]"
            ],
            "text/html": [
              "\n",
              "  <div id=\"df-d491587d-cb06-45eb-82fa-50daa064058f\">\n",
              "    <div class=\"colab-df-container\">\n",
              "      <div>\n",
              "<style scoped>\n",
              "    .dataframe tbody tr th:only-of-type {\n",
              "        vertical-align: middle;\n",
              "    }\n",
              "\n",
              "    .dataframe tbody tr th {\n",
              "        vertical-align: top;\n",
              "    }\n",
              "\n",
              "    .dataframe thead th {\n",
              "        text-align: right;\n",
              "    }\n",
              "</style>\n",
              "<table border=\"1\" class=\"dataframe\">\n",
              "  <thead>\n",
              "    <tr style=\"text-align: right;\">\n",
              "      <th></th>\n",
              "      <th>throws</th>\n",
              "      <th>age</th>\n",
              "      <th>POS1</th>\n",
              "      <th>W</th>\n",
              "      <th>L</th>\n",
              "      <th>CG</th>\n",
              "      <th>ShO</th>\n",
              "      <th>GP</th>\n",
              "      <th>GS</th>\n",
              "      <th>SV</th>\n",
              "      <th>...</th>\n",
              "      <th>WHIP</th>\n",
              "      <th>WRIP</th>\n",
              "      <th>HRBIB</th>\n",
              "      <th>RAVG</th>\n",
              "      <th>FIP</th>\n",
              "      <th>DERA</th>\n",
              "      <th>STUFF</th>\n",
              "      <th>GURU</th>\n",
              "      <th>salary</th>\n",
              "      <th>WAR</th>\n",
              "    </tr>\n",
              "  </thead>\n",
              "  <tbody>\n",
              "    <tr>\n",
              "      <th>0</th>\n",
              "      <td>R</td>\n",
              "      <td>28</td>\n",
              "      <td>Reliever</td>\n",
              "      <td>6</td>\n",
              "      <td>4</td>\n",
              "      <td>0</td>\n",
              "      <td>0</td>\n",
              "      <td>56</td>\n",
              "      <td>0</td>\n",
              "      <td>5</td>\n",
              "      <td>...</td>\n",
              "      <td>1.30</td>\n",
              "      <td>1.54</td>\n",
              "      <td>0.07</td>\n",
              "      <td>5.31</td>\n",
              "      <td>3.69</td>\n",
              "      <td>3.60</td>\n",
              "      <td>123</td>\n",
              "      <td>44</td>\n",
              "      <td>0.390904</td>\n",
              "      <td>0.9</td>\n",
              "    </tr>\n",
              "    <tr>\n",
              "      <th>1</th>\n",
              "      <td>R</td>\n",
              "      <td>24</td>\n",
              "      <td>Starter</td>\n",
              "      <td>14</td>\n",
              "      <td>4</td>\n",
              "      <td>2</td>\n",
              "      <td>0</td>\n",
              "      <td>30</td>\n",
              "      <td>30</td>\n",
              "      <td>0</td>\n",
              "      <td>...</td>\n",
              "      <td>1.04</td>\n",
              "      <td>1.30</td>\n",
              "      <td>0.06</td>\n",
              "      <td>3.80</td>\n",
              "      <td>2.99</td>\n",
              "      <td>2.93</td>\n",
              "      <td>206</td>\n",
              "      <td>147</td>\n",
              "      <td>0.570000</td>\n",
              "      <td>5.0</td>\n",
              "    </tr>\n",
              "    <tr>\n",
              "      <th>2</th>\n",
              "      <td>L</td>\n",
              "      <td>21</td>\n",
              "      <td>Reliever</td>\n",
              "      <td>2</td>\n",
              "      <td>6</td>\n",
              "      <td>0</td>\n",
              "      <td>0</td>\n",
              "      <td>19</td>\n",
              "      <td>15</td>\n",
              "      <td>0</td>\n",
              "      <td>...</td>\n",
              "      <td>1.64</td>\n",
              "      <td>3.25</td>\n",
              "      <td>0.16</td>\n",
              "      <td>7.44</td>\n",
              "      <td>6.71</td>\n",
              "      <td>6.27</td>\n",
              "      <td>6</td>\n",
              "      <td>9</td>\n",
              "      <td>0.265576</td>\n",
              "      <td>-0.6</td>\n",
              "    </tr>\n",
              "    <tr>\n",
              "      <th>3</th>\n",
              "      <td>R</td>\n",
              "      <td>23</td>\n",
              "      <td>Starter</td>\n",
              "      <td>11</td>\n",
              "      <td>8</td>\n",
              "      <td>0</td>\n",
              "      <td>0</td>\n",
              "      <td>33</td>\n",
              "      <td>33</td>\n",
              "      <td>0</td>\n",
              "      <td>...</td>\n",
              "      <td>0.97</td>\n",
              "      <td>1.55</td>\n",
              "      <td>0.08</td>\n",
              "      <td>2.84</td>\n",
              "      <td>3.45</td>\n",
              "      <td>3.32</td>\n",
              "      <td>171</td>\n",
              "      <td>107</td>\n",
              "      <td>0.562100</td>\n",
              "      <td>4.9</td>\n",
              "    </tr>\n",
              "    <tr>\n",
              "      <th>4</th>\n",
              "      <td>R</td>\n",
              "      <td>26</td>\n",
              "      <td>Reliever</td>\n",
              "      <td>4</td>\n",
              "      <td>4</td>\n",
              "      <td>0</td>\n",
              "      <td>0</td>\n",
              "      <td>27</td>\n",
              "      <td>9</td>\n",
              "      <td>0</td>\n",
              "      <td>...</td>\n",
              "      <td>1.67</td>\n",
              "      <td>1.61</td>\n",
              "      <td>0.05</td>\n",
              "      <td>5.77</td>\n",
              "      <td>4.58</td>\n",
              "      <td>4.42</td>\n",
              "      <td>31</td>\n",
              "      <td>23</td>\n",
              "      <td>0.704256</td>\n",
              "      <td>0.6</td>\n",
              "    </tr>\n",
              "  </tbody>\n",
              "</table>\n",
              "<p>5 rows × 39 columns</p>\n",
              "</div>\n",
              "      <button class=\"colab-df-convert\" onclick=\"convertToInteractive('df-d491587d-cb06-45eb-82fa-50daa064058f')\"\n",
              "              title=\"Convert this dataframe to an interactive table.\"\n",
              "              style=\"display:none;\">\n",
              "        \n",
              "  <svg xmlns=\"http://www.w3.org/2000/svg\" height=\"24px\"viewBox=\"0 0 24 24\"\n",
              "       width=\"24px\">\n",
              "    <path d=\"M0 0h24v24H0V0z\" fill=\"none\"/>\n",
              "    <path d=\"M18.56 5.44l.94 2.06.94-2.06 2.06-.94-2.06-.94-.94-2.06-.94 2.06-2.06.94zm-11 1L8.5 8.5l.94-2.06 2.06-.94-2.06-.94L8.5 2.5l-.94 2.06-2.06.94zm10 10l.94 2.06.94-2.06 2.06-.94-2.06-.94-.94-2.06-.94 2.06-2.06.94z\"/><path d=\"M17.41 7.96l-1.37-1.37c-.4-.4-.92-.59-1.43-.59-.52 0-1.04.2-1.43.59L10.3 9.45l-7.72 7.72c-.78.78-.78 2.05 0 2.83L4 21.41c.39.39.9.59 1.41.59.51 0 1.02-.2 1.41-.59l7.78-7.78 2.81-2.81c.8-.78.8-2.07 0-2.86zM5.41 20L4 18.59l7.72-7.72 1.47 1.35L5.41 20z\"/>\n",
              "  </svg>\n",
              "      </button>\n",
              "      \n",
              "  <style>\n",
              "    .colab-df-container {\n",
              "      display:flex;\n",
              "      flex-wrap:wrap;\n",
              "      gap: 12px;\n",
              "    }\n",
              "\n",
              "    .colab-df-convert {\n",
              "      background-color: #E8F0FE;\n",
              "      border: none;\n",
              "      border-radius: 50%;\n",
              "      cursor: pointer;\n",
              "      display: none;\n",
              "      fill: #1967D2;\n",
              "      height: 32px;\n",
              "      padding: 0 0 0 0;\n",
              "      width: 32px;\n",
              "    }\n",
              "\n",
              "    .colab-df-convert:hover {\n",
              "      background-color: #E2EBFA;\n",
              "      box-shadow: 0px 1px 2px rgba(60, 64, 67, 0.3), 0px 1px 3px 1px rgba(60, 64, 67, 0.15);\n",
              "      fill: #174EA6;\n",
              "    }\n",
              "\n",
              "    [theme=dark] .colab-df-convert {\n",
              "      background-color: #3B4455;\n",
              "      fill: #D2E3FC;\n",
              "    }\n",
              "\n",
              "    [theme=dark] .colab-df-convert:hover {\n",
              "      background-color: #434B5C;\n",
              "      box-shadow: 0px 1px 3px 1px rgba(0, 0, 0, 0.15);\n",
              "      filter: drop-shadow(0px 1px 2px rgba(0, 0, 0, 0.3));\n",
              "      fill: #FFFFFF;\n",
              "    }\n",
              "  </style>\n",
              "\n",
              "      <script>\n",
              "        const buttonEl =\n",
              "          document.querySelector('#df-d491587d-cb06-45eb-82fa-50daa064058f button.colab-df-convert');\n",
              "        buttonEl.style.display =\n",
              "          google.colab.kernel.accessAllowed ? 'block' : 'none';\n",
              "\n",
              "        async function convertToInteractive(key) {\n",
              "          const element = document.querySelector('#df-d491587d-cb06-45eb-82fa-50daa064058f');\n",
              "          const dataTable =\n",
              "            await google.colab.kernel.invokeFunction('convertToInteractive',\n",
              "                                                     [key], {});\n",
              "          if (!dataTable) return;\n",
              "\n",
              "          const docLinkHtml = 'Like what you see? Visit the ' +\n",
              "            '<a target=\"_blank\" href=https://colab.research.google.com/notebooks/data_table.ipynb>data table notebook</a>'\n",
              "            + ' to learn more about interactive tables.';\n",
              "          element.innerHTML = '';\n",
              "          dataTable['output_type'] = 'display_data';\n",
              "          await google.colab.output.renderOutput(dataTable, element);\n",
              "          const docLink = document.createElement('div');\n",
              "          docLink.innerHTML = docLinkHtml;\n",
              "          element.appendChild(docLink);\n",
              "        }\n",
              "      </script>\n",
              "    </div>\n",
              "  </div>\n",
              "  "
            ]
          },
          "metadata": {},
          "execution_count": 573
        }
      ]
    },
    {
      "cell_type": "markdown",
      "source": [
        "# Reminding ourselves of the train and test data shapes (we performed an 80-20 split previously then normalized both independently)"
      ],
      "metadata": {
        "id": "XiZ7zpNQdl-j"
      }
    },
    {
      "cell_type": "code",
      "source": [
        "print('Position Players Train:')\n",
        "print('Train dataset dimensions: ', pitchers_train.shape, '\\n')\n",
        "\n",
        "print('Position Players Test:')\n",
        "print('Test dataset dimensions: ', pitchers_test.shape, '\\n')"
      ],
      "metadata": {
        "colab": {
          "base_uri": "https://localhost:8080/"
        },
        "id": "CYOaYX2cdubH",
        "outputId": "6012e125-4f7d-45c7-f654-e4e1bd72784c"
      },
      "execution_count": 574,
      "outputs": [
        {
          "output_type": "stream",
          "name": "stdout",
          "text": [
            "Position Players Train:\n",
            "Train dataset dimensions:  (300, 39) \n",
            "\n",
            "Position Players Test:\n",
            "Test dataset dimensions:  (75, 39) \n",
            "\n"
          ]
        }
      ]
    },
    {
      "cell_type": "markdown",
      "source": [
        "# Add on feature for under rookie contract. If a player is 25 or under they are on their rookie contract else they are typically not"
      ],
      "metadata": {
        "id": "aOWJ1ppTLvEa"
      }
    },
    {
      "cell_type": "code",
      "source": [
        "pitchers_train['Rookie contract'] = ''\n",
        "pitchers_test['Rookie contract'] = ''\n",
        "\n",
        "for index, row in pitchers_train.iterrows():\n",
        "  if pitchers_train.at[index,'age'] <= 25:\n",
        "    pitchers_train.at[index,'Rookie contract'] = 1\n",
        "  else:\n",
        "    pitchers_train.at[index,'Rookie contract'] = 0\n",
        "\n",
        "for index, row in pitchers_test.iterrows():\n",
        "  if pitchers_test.at[index,'age'] <= 25:\n",
        "    pitchers_test.at[index,'Rookie contract'] = 1\n",
        "  else:\n",
        "    pitchers_test.at[index,'Rookie contract'] = 0"
      ],
      "metadata": {
        "id": "GhNKHo3eL1Qx"
      },
      "execution_count": 575,
      "outputs": []
    },
    {
      "cell_type": "markdown",
      "source": [
        "# One-hot encode position:"
      ],
      "metadata": {
        "id": "o5lSMgEvKvLV"
      }
    },
    {
      "cell_type": "code",
      "source": [
        "dummy_position = pd.get_dummies(pitchers_train['POS1'])\n",
        "dummy_throws = pd.get_dummies(pitchers_train['throws'], prefix = 'throws')\n",
        "items = [dummy_position, dummy_throws]\n",
        "for item in items:\n",
        "  pitchers_train = pd.merge(left = pitchers_train, right = item, left_index = True, right_index = True)\n",
        "\n",
        "pitchers_train.drop(columns = ['POS1', 'throws'], axis = 1, inplace = True)"
      ],
      "metadata": {
        "id": "1ozMyZ1LKwdM"
      },
      "execution_count": 576,
      "outputs": []
    },
    {
      "cell_type": "code",
      "source": [
        "dummy_pos = pd.get_dummies(pitchers_test['POS1'])\n",
        "dummy_throw = pd.get_dummies(pitchers_test['throws'], prefix = 'throws')\n",
        "items = [dummy_pos, dummy_throw]\n",
        "\n",
        "for item in items:\n",
        "  pitchers_test = pd.merge(left = pitchers_test, right = item, left_index = True, right_index = True)\n",
        "\n",
        "pitchers_test.drop(columns = ['POS1', 'throws'], axis = 1, inplace = True)"
      ],
      "metadata": {
        "id": "vGKArPa-LDKe"
      },
      "execution_count": 577,
      "outputs": []
    },
    {
      "cell_type": "code",
      "source": [
        "#display both  dataframes to ensure we have done this correctly\n",
        "pitchers_train.head(3)"
      ],
      "metadata": {
        "colab": {
          "base_uri": "https://localhost:8080/",
          "height": 173
        },
        "id": "BM68Glr_LDS0",
        "outputId": "0c5487a7-5854-4dec-c627-fa235bdb5f2c"
      },
      "execution_count": 578,
      "outputs": [
        {
          "output_type": "execute_result",
          "data": {
            "text/plain": [
              "   age   W  L  CG  ShO  GP  GS  SV  GF  IPOuts  ...   DERA    STUFF    GURU   \\\n",
              "0   24  16  7   0    0  33  32   1   1     524  ...    4.73       11     38    \n",
              "1   33   6  5   0    0  73   0   2   7     199  ...    3.29      187     63    \n",
              "2   21  13  4   0    0  29  29   0   0     524  ...    3.43       62     91    \n",
              "\n",
              "     salary  WAR  Rookie contract  Reliever  Starter  throws_L  throws_R  \n",
              "0  0.491965  0.6                1         0        1         0         1  \n",
              "1  9.000000  1.3                0         1        0         0         1  \n",
              "2  0.411792  3.8                1         0        1         0         1  \n",
              "\n",
              "[3 rows x 42 columns]"
            ],
            "text/html": [
              "\n",
              "  <div id=\"df-bb15ddd9-b7be-4a71-9fde-bf3b3faae33f\">\n",
              "    <div class=\"colab-df-container\">\n",
              "      <div>\n",
              "<style scoped>\n",
              "    .dataframe tbody tr th:only-of-type {\n",
              "        vertical-align: middle;\n",
              "    }\n",
              "\n",
              "    .dataframe tbody tr th {\n",
              "        vertical-align: top;\n",
              "    }\n",
              "\n",
              "    .dataframe thead th {\n",
              "        text-align: right;\n",
              "    }\n",
              "</style>\n",
              "<table border=\"1\" class=\"dataframe\">\n",
              "  <thead>\n",
              "    <tr style=\"text-align: right;\">\n",
              "      <th></th>\n",
              "      <th>age</th>\n",
              "      <th>W</th>\n",
              "      <th>L</th>\n",
              "      <th>CG</th>\n",
              "      <th>ShO</th>\n",
              "      <th>GP</th>\n",
              "      <th>GS</th>\n",
              "      <th>SV</th>\n",
              "      <th>GF</th>\n",
              "      <th>IPOuts</th>\n",
              "      <th>...</th>\n",
              "      <th>DERA</th>\n",
              "      <th>STUFF</th>\n",
              "      <th>GURU</th>\n",
              "      <th>salary</th>\n",
              "      <th>WAR</th>\n",
              "      <th>Rookie contract</th>\n",
              "      <th>Reliever</th>\n",
              "      <th>Starter</th>\n",
              "      <th>throws_L</th>\n",
              "      <th>throws_R</th>\n",
              "    </tr>\n",
              "  </thead>\n",
              "  <tbody>\n",
              "    <tr>\n",
              "      <th>0</th>\n",
              "      <td>24</td>\n",
              "      <td>16</td>\n",
              "      <td>7</td>\n",
              "      <td>0</td>\n",
              "      <td>0</td>\n",
              "      <td>33</td>\n",
              "      <td>32</td>\n",
              "      <td>1</td>\n",
              "      <td>1</td>\n",
              "      <td>524</td>\n",
              "      <td>...</td>\n",
              "      <td>4.73</td>\n",
              "      <td>11</td>\n",
              "      <td>38</td>\n",
              "      <td>0.491965</td>\n",
              "      <td>0.6</td>\n",
              "      <td>1</td>\n",
              "      <td>0</td>\n",
              "      <td>1</td>\n",
              "      <td>0</td>\n",
              "      <td>1</td>\n",
              "    </tr>\n",
              "    <tr>\n",
              "      <th>1</th>\n",
              "      <td>33</td>\n",
              "      <td>6</td>\n",
              "      <td>5</td>\n",
              "      <td>0</td>\n",
              "      <td>0</td>\n",
              "      <td>73</td>\n",
              "      <td>0</td>\n",
              "      <td>2</td>\n",
              "      <td>7</td>\n",
              "      <td>199</td>\n",
              "      <td>...</td>\n",
              "      <td>3.29</td>\n",
              "      <td>187</td>\n",
              "      <td>63</td>\n",
              "      <td>9.000000</td>\n",
              "      <td>1.3</td>\n",
              "      <td>0</td>\n",
              "      <td>1</td>\n",
              "      <td>0</td>\n",
              "      <td>0</td>\n",
              "      <td>1</td>\n",
              "    </tr>\n",
              "    <tr>\n",
              "      <th>2</th>\n",
              "      <td>21</td>\n",
              "      <td>13</td>\n",
              "      <td>4</td>\n",
              "      <td>0</td>\n",
              "      <td>0</td>\n",
              "      <td>29</td>\n",
              "      <td>29</td>\n",
              "      <td>0</td>\n",
              "      <td>0</td>\n",
              "      <td>524</td>\n",
              "      <td>...</td>\n",
              "      <td>3.43</td>\n",
              "      <td>62</td>\n",
              "      <td>91</td>\n",
              "      <td>0.411792</td>\n",
              "      <td>3.8</td>\n",
              "      <td>1</td>\n",
              "      <td>0</td>\n",
              "      <td>1</td>\n",
              "      <td>0</td>\n",
              "      <td>1</td>\n",
              "    </tr>\n",
              "  </tbody>\n",
              "</table>\n",
              "<p>3 rows × 42 columns</p>\n",
              "</div>\n",
              "      <button class=\"colab-df-convert\" onclick=\"convertToInteractive('df-bb15ddd9-b7be-4a71-9fde-bf3b3faae33f')\"\n",
              "              title=\"Convert this dataframe to an interactive table.\"\n",
              "              style=\"display:none;\">\n",
              "        \n",
              "  <svg xmlns=\"http://www.w3.org/2000/svg\" height=\"24px\"viewBox=\"0 0 24 24\"\n",
              "       width=\"24px\">\n",
              "    <path d=\"M0 0h24v24H0V0z\" fill=\"none\"/>\n",
              "    <path d=\"M18.56 5.44l.94 2.06.94-2.06 2.06-.94-2.06-.94-.94-2.06-.94 2.06-2.06.94zm-11 1L8.5 8.5l.94-2.06 2.06-.94-2.06-.94L8.5 2.5l-.94 2.06-2.06.94zm10 10l.94 2.06.94-2.06 2.06-.94-2.06-.94-.94-2.06-.94 2.06-2.06.94z\"/><path d=\"M17.41 7.96l-1.37-1.37c-.4-.4-.92-.59-1.43-.59-.52 0-1.04.2-1.43.59L10.3 9.45l-7.72 7.72c-.78.78-.78 2.05 0 2.83L4 21.41c.39.39.9.59 1.41.59.51 0 1.02-.2 1.41-.59l7.78-7.78 2.81-2.81c.8-.78.8-2.07 0-2.86zM5.41 20L4 18.59l7.72-7.72 1.47 1.35L5.41 20z\"/>\n",
              "  </svg>\n",
              "      </button>\n",
              "      \n",
              "  <style>\n",
              "    .colab-df-container {\n",
              "      display:flex;\n",
              "      flex-wrap:wrap;\n",
              "      gap: 12px;\n",
              "    }\n",
              "\n",
              "    .colab-df-convert {\n",
              "      background-color: #E8F0FE;\n",
              "      border: none;\n",
              "      border-radius: 50%;\n",
              "      cursor: pointer;\n",
              "      display: none;\n",
              "      fill: #1967D2;\n",
              "      height: 32px;\n",
              "      padding: 0 0 0 0;\n",
              "      width: 32px;\n",
              "    }\n",
              "\n",
              "    .colab-df-convert:hover {\n",
              "      background-color: #E2EBFA;\n",
              "      box-shadow: 0px 1px 2px rgba(60, 64, 67, 0.3), 0px 1px 3px 1px rgba(60, 64, 67, 0.15);\n",
              "      fill: #174EA6;\n",
              "    }\n",
              "\n",
              "    [theme=dark] .colab-df-convert {\n",
              "      background-color: #3B4455;\n",
              "      fill: #D2E3FC;\n",
              "    }\n",
              "\n",
              "    [theme=dark] .colab-df-convert:hover {\n",
              "      background-color: #434B5C;\n",
              "      box-shadow: 0px 1px 3px 1px rgba(0, 0, 0, 0.15);\n",
              "      filter: drop-shadow(0px 1px 2px rgba(0, 0, 0, 0.3));\n",
              "      fill: #FFFFFF;\n",
              "    }\n",
              "  </style>\n",
              "\n",
              "      <script>\n",
              "        const buttonEl =\n",
              "          document.querySelector('#df-bb15ddd9-b7be-4a71-9fde-bf3b3faae33f button.colab-df-convert');\n",
              "        buttonEl.style.display =\n",
              "          google.colab.kernel.accessAllowed ? 'block' : 'none';\n",
              "\n",
              "        async function convertToInteractive(key) {\n",
              "          const element = document.querySelector('#df-bb15ddd9-b7be-4a71-9fde-bf3b3faae33f');\n",
              "          const dataTable =\n",
              "            await google.colab.kernel.invokeFunction('convertToInteractive',\n",
              "                                                     [key], {});\n",
              "          if (!dataTable) return;\n",
              "\n",
              "          const docLinkHtml = 'Like what you see? Visit the ' +\n",
              "            '<a target=\"_blank\" href=https://colab.research.google.com/notebooks/data_table.ipynb>data table notebook</a>'\n",
              "            + ' to learn more about interactive tables.';\n",
              "          element.innerHTML = '';\n",
              "          dataTable['output_type'] = 'display_data';\n",
              "          await google.colab.output.renderOutput(dataTable, element);\n",
              "          const docLink = document.createElement('div');\n",
              "          docLink.innerHTML = docLinkHtml;\n",
              "          element.appendChild(docLink);\n",
              "        }\n",
              "      </script>\n",
              "    </div>\n",
              "  </div>\n",
              "  "
            ]
          },
          "metadata": {},
          "execution_count": 578
        }
      ]
    },
    {
      "cell_type": "code",
      "source": [
        "pitchers_test.head(3)"
      ],
      "metadata": {
        "colab": {
          "base_uri": "https://localhost:8080/",
          "height": 173
        },
        "id": "5q0yOt0EMUXg",
        "outputId": "5f3b9109-077e-4e0f-9d8a-ba9f8bb9886c"
      },
      "execution_count": 579,
      "outputs": [
        {
          "output_type": "execute_result",
          "data": {
            "text/plain": [
              "   age   W  L  CG  ShO  GP  GS  SV  GF  IPOuts  ...   DERA    STUFF    GURU   \\\n",
              "0   28   6  4   0    0  56   0   5  20     173  ...    3.60      123      44   \n",
              "1   24  14  4   2    0  30  30   0   0     547  ...    2.93      206     147   \n",
              "2   21   2  6   0    0  19  15   0   0     243  ...    6.27        6       9   \n",
              "\n",
              "     salary  WAR  Rookie contract  Reliever  Starter  throws_L  throws_R  \n",
              "0  0.390904  0.9                0         1        0         0         1  \n",
              "1  0.570000  5.0                1         0        1         0         1  \n",
              "2  0.265576 -0.6                1         1        0         1         0  \n",
              "\n",
              "[3 rows x 42 columns]"
            ],
            "text/html": [
              "\n",
              "  <div id=\"df-a3329759-aecb-459a-95f4-42853894bb1d\">\n",
              "    <div class=\"colab-df-container\">\n",
              "      <div>\n",
              "<style scoped>\n",
              "    .dataframe tbody tr th:only-of-type {\n",
              "        vertical-align: middle;\n",
              "    }\n",
              "\n",
              "    .dataframe tbody tr th {\n",
              "        vertical-align: top;\n",
              "    }\n",
              "\n",
              "    .dataframe thead th {\n",
              "        text-align: right;\n",
              "    }\n",
              "</style>\n",
              "<table border=\"1\" class=\"dataframe\">\n",
              "  <thead>\n",
              "    <tr style=\"text-align: right;\">\n",
              "      <th></th>\n",
              "      <th>age</th>\n",
              "      <th>W</th>\n",
              "      <th>L</th>\n",
              "      <th>CG</th>\n",
              "      <th>ShO</th>\n",
              "      <th>GP</th>\n",
              "      <th>GS</th>\n",
              "      <th>SV</th>\n",
              "      <th>GF</th>\n",
              "      <th>IPOuts</th>\n",
              "      <th>...</th>\n",
              "      <th>DERA</th>\n",
              "      <th>STUFF</th>\n",
              "      <th>GURU</th>\n",
              "      <th>salary</th>\n",
              "      <th>WAR</th>\n",
              "      <th>Rookie contract</th>\n",
              "      <th>Reliever</th>\n",
              "      <th>Starter</th>\n",
              "      <th>throws_L</th>\n",
              "      <th>throws_R</th>\n",
              "    </tr>\n",
              "  </thead>\n",
              "  <tbody>\n",
              "    <tr>\n",
              "      <th>0</th>\n",
              "      <td>28</td>\n",
              "      <td>6</td>\n",
              "      <td>4</td>\n",
              "      <td>0</td>\n",
              "      <td>0</td>\n",
              "      <td>56</td>\n",
              "      <td>0</td>\n",
              "      <td>5</td>\n",
              "      <td>20</td>\n",
              "      <td>173</td>\n",
              "      <td>...</td>\n",
              "      <td>3.60</td>\n",
              "      <td>123</td>\n",
              "      <td>44</td>\n",
              "      <td>0.390904</td>\n",
              "      <td>0.9</td>\n",
              "      <td>0</td>\n",
              "      <td>1</td>\n",
              "      <td>0</td>\n",
              "      <td>0</td>\n",
              "      <td>1</td>\n",
              "    </tr>\n",
              "    <tr>\n",
              "      <th>1</th>\n",
              "      <td>24</td>\n",
              "      <td>14</td>\n",
              "      <td>4</td>\n",
              "      <td>2</td>\n",
              "      <td>0</td>\n",
              "      <td>30</td>\n",
              "      <td>30</td>\n",
              "      <td>0</td>\n",
              "      <td>0</td>\n",
              "      <td>547</td>\n",
              "      <td>...</td>\n",
              "      <td>2.93</td>\n",
              "      <td>206</td>\n",
              "      <td>147</td>\n",
              "      <td>0.570000</td>\n",
              "      <td>5.0</td>\n",
              "      <td>1</td>\n",
              "      <td>0</td>\n",
              "      <td>1</td>\n",
              "      <td>0</td>\n",
              "      <td>1</td>\n",
              "    </tr>\n",
              "    <tr>\n",
              "      <th>2</th>\n",
              "      <td>21</td>\n",
              "      <td>2</td>\n",
              "      <td>6</td>\n",
              "      <td>0</td>\n",
              "      <td>0</td>\n",
              "      <td>19</td>\n",
              "      <td>15</td>\n",
              "      <td>0</td>\n",
              "      <td>0</td>\n",
              "      <td>243</td>\n",
              "      <td>...</td>\n",
              "      <td>6.27</td>\n",
              "      <td>6</td>\n",
              "      <td>9</td>\n",
              "      <td>0.265576</td>\n",
              "      <td>-0.6</td>\n",
              "      <td>1</td>\n",
              "      <td>1</td>\n",
              "      <td>0</td>\n",
              "      <td>1</td>\n",
              "      <td>0</td>\n",
              "    </tr>\n",
              "  </tbody>\n",
              "</table>\n",
              "<p>3 rows × 42 columns</p>\n",
              "</div>\n",
              "      <button class=\"colab-df-convert\" onclick=\"convertToInteractive('df-a3329759-aecb-459a-95f4-42853894bb1d')\"\n",
              "              title=\"Convert this dataframe to an interactive table.\"\n",
              "              style=\"display:none;\">\n",
              "        \n",
              "  <svg xmlns=\"http://www.w3.org/2000/svg\" height=\"24px\"viewBox=\"0 0 24 24\"\n",
              "       width=\"24px\">\n",
              "    <path d=\"M0 0h24v24H0V0z\" fill=\"none\"/>\n",
              "    <path d=\"M18.56 5.44l.94 2.06.94-2.06 2.06-.94-2.06-.94-.94-2.06-.94 2.06-2.06.94zm-11 1L8.5 8.5l.94-2.06 2.06-.94-2.06-.94L8.5 2.5l-.94 2.06-2.06.94zm10 10l.94 2.06.94-2.06 2.06-.94-2.06-.94-.94-2.06-.94 2.06-2.06.94z\"/><path d=\"M17.41 7.96l-1.37-1.37c-.4-.4-.92-.59-1.43-.59-.52 0-1.04.2-1.43.59L10.3 9.45l-7.72 7.72c-.78.78-.78 2.05 0 2.83L4 21.41c.39.39.9.59 1.41.59.51 0 1.02-.2 1.41-.59l7.78-7.78 2.81-2.81c.8-.78.8-2.07 0-2.86zM5.41 20L4 18.59l7.72-7.72 1.47 1.35L5.41 20z\"/>\n",
              "  </svg>\n",
              "      </button>\n",
              "      \n",
              "  <style>\n",
              "    .colab-df-container {\n",
              "      display:flex;\n",
              "      flex-wrap:wrap;\n",
              "      gap: 12px;\n",
              "    }\n",
              "\n",
              "    .colab-df-convert {\n",
              "      background-color: #E8F0FE;\n",
              "      border: none;\n",
              "      border-radius: 50%;\n",
              "      cursor: pointer;\n",
              "      display: none;\n",
              "      fill: #1967D2;\n",
              "      height: 32px;\n",
              "      padding: 0 0 0 0;\n",
              "      width: 32px;\n",
              "    }\n",
              "\n",
              "    .colab-df-convert:hover {\n",
              "      background-color: #E2EBFA;\n",
              "      box-shadow: 0px 1px 2px rgba(60, 64, 67, 0.3), 0px 1px 3px 1px rgba(60, 64, 67, 0.15);\n",
              "      fill: #174EA6;\n",
              "    }\n",
              "\n",
              "    [theme=dark] .colab-df-convert {\n",
              "      background-color: #3B4455;\n",
              "      fill: #D2E3FC;\n",
              "    }\n",
              "\n",
              "    [theme=dark] .colab-df-convert:hover {\n",
              "      background-color: #434B5C;\n",
              "      box-shadow: 0px 1px 3px 1px rgba(0, 0, 0, 0.15);\n",
              "      filter: drop-shadow(0px 1px 2px rgba(0, 0, 0, 0.3));\n",
              "      fill: #FFFFFF;\n",
              "    }\n",
              "  </style>\n",
              "\n",
              "      <script>\n",
              "        const buttonEl =\n",
              "          document.querySelector('#df-a3329759-aecb-459a-95f4-42853894bb1d button.colab-df-convert');\n",
              "        buttonEl.style.display =\n",
              "          google.colab.kernel.accessAllowed ? 'block' : 'none';\n",
              "\n",
              "        async function convertToInteractive(key) {\n",
              "          const element = document.querySelector('#df-a3329759-aecb-459a-95f4-42853894bb1d');\n",
              "          const dataTable =\n",
              "            await google.colab.kernel.invokeFunction('convertToInteractive',\n",
              "                                                     [key], {});\n",
              "          if (!dataTable) return;\n",
              "\n",
              "          const docLinkHtml = 'Like what you see? Visit the ' +\n",
              "            '<a target=\"_blank\" href=https://colab.research.google.com/notebooks/data_table.ipynb>data table notebook</a>'\n",
              "            + ' to learn more about interactive tables.';\n",
              "          element.innerHTML = '';\n",
              "          dataTable['output_type'] = 'display_data';\n",
              "          await google.colab.output.renderOutput(dataTable, element);\n",
              "          const docLink = document.createElement('div');\n",
              "          docLink.innerHTML = docLinkHtml;\n",
              "          element.appendChild(docLink);\n",
              "        }\n",
              "      </script>\n",
              "    </div>\n",
              "  </div>\n",
              "  "
            ]
          },
          "metadata": {},
          "execution_count": 579
        }
      ]
    },
    {
      "cell_type": "code",
      "source": [
        "#pitchers train has two invalid entries which are causing issues. We will drop both rows\n",
        "pitchers_train.head(10)\n",
        "print(pitchers_train.at[8, ' HR9 '])\n",
        "\n",
        "pitchers_train = pitchers_train.drop(8)\n",
        "pitchers_train = pitchers_train.reset_index(drop = True)\n",
        "\n",
        "print(pitchers_train.at[31, ' GURU '])\n",
        "pitchers_train = pitchers_train.drop(31)\n",
        "pitchers_train = pitchers_train.reset_index(drop = True)"
      ],
      "metadata": {
        "colab": {
          "base_uri": "https://localhost:8080/"
        },
        "id": "Lrau_wC4NeEe",
        "outputId": "a55a2209-4fa9-4aa0-cedd-e194b1860616"
      },
      "execution_count": 580,
      "outputs": [
        {
          "output_type": "stream",
          "name": "stdout",
          "text": [
            " -   \n",
            " 1,325 \n"
          ]
        }
      ]
    },
    {
      "cell_type": "code",
      "source": [
        "pitchers_train.head(10)"
      ],
      "metadata": {
        "colab": {
          "base_uri": "https://localhost:8080/",
          "height": 392
        },
        "id": "EsYoWTC-Pxwo",
        "outputId": "8781d4f9-668e-48a2-f985-bc1fad6c2de1"
      },
      "execution_count": 581,
      "outputs": [
        {
          "output_type": "execute_result",
          "data": {
            "text/plain": [
              "   age   W   L  CG  ShO  GP  GS  SV  GF  IPOuts  ...   DERA    STUFF    GURU   \\\n",
              "0   24  16   7   0    0  33  32   1   1     524  ...    4.73       11     38    \n",
              "1   33   6   5   0    0  73   0   2   7     199  ...    3.29      187     63    \n",
              "2   21  13   4   0    0  29  29   0   0     524  ...    3.43       62     91    \n",
              "3   34  15   4   1    1  33  33   0   0     554  ...    4.90        8     36    \n",
              "4   27   6  11   0    0  46  16   0   4     344  ...    4.10       95     42    \n",
              "5   29   2  11   0    0  60   0   2  18     182  ...    4.70       21     18    \n",
              "6   26   1   0   0    0  23   2   0   3      69  ...    3.15      161     52    \n",
              "7   35   2   4   0    0  71   1   1  21     207  ...    3.46      151     54    \n",
              "8   28   3   3   0    0  32   3   0   5     147  ...    4.64       30     17    \n",
              "9   31   2   4   0    0  44   0   5  14     144  ...    3.74       58     35    \n",
              "\n",
              "     salary  WAR  Rookie contract  Reliever  Starter  throws_L  throws_R  \n",
              "0  0.491965  0.6                1         0        1         0         1  \n",
              "1  9.000000  1.3                0         1        0         0         1  \n",
              "2  0.411792  3.8                1         0        1         0         1  \n",
              "3  6.000000  1.7                0         0        1         0         1  \n",
              "4  0.581700  1.5                0         1        0         1         0  \n",
              "5  1.125000 -0.4                0         1        0         1         0  \n",
              "6  0.568600  0.5                0         1        0         0         1  \n",
              "7  6.500000  1.0                0         1        0         0         1  \n",
              "8  0.299827  0.2                0         1        0         0         1  \n",
              "9  0.393888  0.6                0         1        0         0         1  \n",
              "\n",
              "[10 rows x 42 columns]"
            ],
            "text/html": [
              "\n",
              "  <div id=\"df-bf2a0cc4-b364-44db-8696-535ba51e53b9\">\n",
              "    <div class=\"colab-df-container\">\n",
              "      <div>\n",
              "<style scoped>\n",
              "    .dataframe tbody tr th:only-of-type {\n",
              "        vertical-align: middle;\n",
              "    }\n",
              "\n",
              "    .dataframe tbody tr th {\n",
              "        vertical-align: top;\n",
              "    }\n",
              "\n",
              "    .dataframe thead th {\n",
              "        text-align: right;\n",
              "    }\n",
              "</style>\n",
              "<table border=\"1\" class=\"dataframe\">\n",
              "  <thead>\n",
              "    <tr style=\"text-align: right;\">\n",
              "      <th></th>\n",
              "      <th>age</th>\n",
              "      <th>W</th>\n",
              "      <th>L</th>\n",
              "      <th>CG</th>\n",
              "      <th>ShO</th>\n",
              "      <th>GP</th>\n",
              "      <th>GS</th>\n",
              "      <th>SV</th>\n",
              "      <th>GF</th>\n",
              "      <th>IPOuts</th>\n",
              "      <th>...</th>\n",
              "      <th>DERA</th>\n",
              "      <th>STUFF</th>\n",
              "      <th>GURU</th>\n",
              "      <th>salary</th>\n",
              "      <th>WAR</th>\n",
              "      <th>Rookie contract</th>\n",
              "      <th>Reliever</th>\n",
              "      <th>Starter</th>\n",
              "      <th>throws_L</th>\n",
              "      <th>throws_R</th>\n",
              "    </tr>\n",
              "  </thead>\n",
              "  <tbody>\n",
              "    <tr>\n",
              "      <th>0</th>\n",
              "      <td>24</td>\n",
              "      <td>16</td>\n",
              "      <td>7</td>\n",
              "      <td>0</td>\n",
              "      <td>0</td>\n",
              "      <td>33</td>\n",
              "      <td>32</td>\n",
              "      <td>1</td>\n",
              "      <td>1</td>\n",
              "      <td>524</td>\n",
              "      <td>...</td>\n",
              "      <td>4.73</td>\n",
              "      <td>11</td>\n",
              "      <td>38</td>\n",
              "      <td>0.491965</td>\n",
              "      <td>0.6</td>\n",
              "      <td>1</td>\n",
              "      <td>0</td>\n",
              "      <td>1</td>\n",
              "      <td>0</td>\n",
              "      <td>1</td>\n",
              "    </tr>\n",
              "    <tr>\n",
              "      <th>1</th>\n",
              "      <td>33</td>\n",
              "      <td>6</td>\n",
              "      <td>5</td>\n",
              "      <td>0</td>\n",
              "      <td>0</td>\n",
              "      <td>73</td>\n",
              "      <td>0</td>\n",
              "      <td>2</td>\n",
              "      <td>7</td>\n",
              "      <td>199</td>\n",
              "      <td>...</td>\n",
              "      <td>3.29</td>\n",
              "      <td>187</td>\n",
              "      <td>63</td>\n",
              "      <td>9.000000</td>\n",
              "      <td>1.3</td>\n",
              "      <td>0</td>\n",
              "      <td>1</td>\n",
              "      <td>0</td>\n",
              "      <td>0</td>\n",
              "      <td>1</td>\n",
              "    </tr>\n",
              "    <tr>\n",
              "      <th>2</th>\n",
              "      <td>21</td>\n",
              "      <td>13</td>\n",
              "      <td>4</td>\n",
              "      <td>0</td>\n",
              "      <td>0</td>\n",
              "      <td>29</td>\n",
              "      <td>29</td>\n",
              "      <td>0</td>\n",
              "      <td>0</td>\n",
              "      <td>524</td>\n",
              "      <td>...</td>\n",
              "      <td>3.43</td>\n",
              "      <td>62</td>\n",
              "      <td>91</td>\n",
              "      <td>0.411792</td>\n",
              "      <td>3.8</td>\n",
              "      <td>1</td>\n",
              "      <td>0</td>\n",
              "      <td>1</td>\n",
              "      <td>0</td>\n",
              "      <td>1</td>\n",
              "    </tr>\n",
              "    <tr>\n",
              "      <th>3</th>\n",
              "      <td>34</td>\n",
              "      <td>15</td>\n",
              "      <td>4</td>\n",
              "      <td>1</td>\n",
              "      <td>1</td>\n",
              "      <td>33</td>\n",
              "      <td>33</td>\n",
              "      <td>0</td>\n",
              "      <td>0</td>\n",
              "      <td>554</td>\n",
              "      <td>...</td>\n",
              "      <td>4.90</td>\n",
              "      <td>8</td>\n",
              "      <td>36</td>\n",
              "      <td>6.000000</td>\n",
              "      <td>1.7</td>\n",
              "      <td>0</td>\n",
              "      <td>0</td>\n",
              "      <td>1</td>\n",
              "      <td>0</td>\n",
              "      <td>1</td>\n",
              "    </tr>\n",
              "    <tr>\n",
              "      <th>4</th>\n",
              "      <td>27</td>\n",
              "      <td>6</td>\n",
              "      <td>11</td>\n",
              "      <td>0</td>\n",
              "      <td>0</td>\n",
              "      <td>46</td>\n",
              "      <td>16</td>\n",
              "      <td>0</td>\n",
              "      <td>4</td>\n",
              "      <td>344</td>\n",
              "      <td>...</td>\n",
              "      <td>4.10</td>\n",
              "      <td>95</td>\n",
              "      <td>42</td>\n",
              "      <td>0.581700</td>\n",
              "      <td>1.5</td>\n",
              "      <td>0</td>\n",
              "      <td>1</td>\n",
              "      <td>0</td>\n",
              "      <td>1</td>\n",
              "      <td>0</td>\n",
              "    </tr>\n",
              "    <tr>\n",
              "      <th>5</th>\n",
              "      <td>29</td>\n",
              "      <td>2</td>\n",
              "      <td>11</td>\n",
              "      <td>0</td>\n",
              "      <td>0</td>\n",
              "      <td>60</td>\n",
              "      <td>0</td>\n",
              "      <td>2</td>\n",
              "      <td>18</td>\n",
              "      <td>182</td>\n",
              "      <td>...</td>\n",
              "      <td>4.70</td>\n",
              "      <td>21</td>\n",
              "      <td>18</td>\n",
              "      <td>1.125000</td>\n",
              "      <td>-0.4</td>\n",
              "      <td>0</td>\n",
              "      <td>1</td>\n",
              "      <td>0</td>\n",
              "      <td>1</td>\n",
              "      <td>0</td>\n",
              "    </tr>\n",
              "    <tr>\n",
              "      <th>6</th>\n",
              "      <td>26</td>\n",
              "      <td>1</td>\n",
              "      <td>0</td>\n",
              "      <td>0</td>\n",
              "      <td>0</td>\n",
              "      <td>23</td>\n",
              "      <td>2</td>\n",
              "      <td>0</td>\n",
              "      <td>3</td>\n",
              "      <td>69</td>\n",
              "      <td>...</td>\n",
              "      <td>3.15</td>\n",
              "      <td>161</td>\n",
              "      <td>52</td>\n",
              "      <td>0.568600</td>\n",
              "      <td>0.5</td>\n",
              "      <td>0</td>\n",
              "      <td>1</td>\n",
              "      <td>0</td>\n",
              "      <td>0</td>\n",
              "      <td>1</td>\n",
              "    </tr>\n",
              "    <tr>\n",
              "      <th>7</th>\n",
              "      <td>35</td>\n",
              "      <td>2</td>\n",
              "      <td>4</td>\n",
              "      <td>0</td>\n",
              "      <td>0</td>\n",
              "      <td>71</td>\n",
              "      <td>1</td>\n",
              "      <td>1</td>\n",
              "      <td>21</td>\n",
              "      <td>207</td>\n",
              "      <td>...</td>\n",
              "      <td>3.46</td>\n",
              "      <td>151</td>\n",
              "      <td>54</td>\n",
              "      <td>6.500000</td>\n",
              "      <td>1.0</td>\n",
              "      <td>0</td>\n",
              "      <td>1</td>\n",
              "      <td>0</td>\n",
              "      <td>0</td>\n",
              "      <td>1</td>\n",
              "    </tr>\n",
              "    <tr>\n",
              "      <th>8</th>\n",
              "      <td>28</td>\n",
              "      <td>3</td>\n",
              "      <td>3</td>\n",
              "      <td>0</td>\n",
              "      <td>0</td>\n",
              "      <td>32</td>\n",
              "      <td>3</td>\n",
              "      <td>0</td>\n",
              "      <td>5</td>\n",
              "      <td>147</td>\n",
              "      <td>...</td>\n",
              "      <td>4.64</td>\n",
              "      <td>30</td>\n",
              "      <td>17</td>\n",
              "      <td>0.299827</td>\n",
              "      <td>0.2</td>\n",
              "      <td>0</td>\n",
              "      <td>1</td>\n",
              "      <td>0</td>\n",
              "      <td>0</td>\n",
              "      <td>1</td>\n",
              "    </tr>\n",
              "    <tr>\n",
              "      <th>9</th>\n",
              "      <td>31</td>\n",
              "      <td>2</td>\n",
              "      <td>4</td>\n",
              "      <td>0</td>\n",
              "      <td>0</td>\n",
              "      <td>44</td>\n",
              "      <td>0</td>\n",
              "      <td>5</td>\n",
              "      <td>14</td>\n",
              "      <td>144</td>\n",
              "      <td>...</td>\n",
              "      <td>3.74</td>\n",
              "      <td>58</td>\n",
              "      <td>35</td>\n",
              "      <td>0.393888</td>\n",
              "      <td>0.6</td>\n",
              "      <td>0</td>\n",
              "      <td>1</td>\n",
              "      <td>0</td>\n",
              "      <td>0</td>\n",
              "      <td>1</td>\n",
              "    </tr>\n",
              "  </tbody>\n",
              "</table>\n",
              "<p>10 rows × 42 columns</p>\n",
              "</div>\n",
              "      <button class=\"colab-df-convert\" onclick=\"convertToInteractive('df-bf2a0cc4-b364-44db-8696-535ba51e53b9')\"\n",
              "              title=\"Convert this dataframe to an interactive table.\"\n",
              "              style=\"display:none;\">\n",
              "        \n",
              "  <svg xmlns=\"http://www.w3.org/2000/svg\" height=\"24px\"viewBox=\"0 0 24 24\"\n",
              "       width=\"24px\">\n",
              "    <path d=\"M0 0h24v24H0V0z\" fill=\"none\"/>\n",
              "    <path d=\"M18.56 5.44l.94 2.06.94-2.06 2.06-.94-2.06-.94-.94-2.06-.94 2.06-2.06.94zm-11 1L8.5 8.5l.94-2.06 2.06-.94-2.06-.94L8.5 2.5l-.94 2.06-2.06.94zm10 10l.94 2.06.94-2.06 2.06-.94-2.06-.94-.94-2.06-.94 2.06-2.06.94z\"/><path d=\"M17.41 7.96l-1.37-1.37c-.4-.4-.92-.59-1.43-.59-.52 0-1.04.2-1.43.59L10.3 9.45l-7.72 7.72c-.78.78-.78 2.05 0 2.83L4 21.41c.39.39.9.59 1.41.59.51 0 1.02-.2 1.41-.59l7.78-7.78 2.81-2.81c.8-.78.8-2.07 0-2.86zM5.41 20L4 18.59l7.72-7.72 1.47 1.35L5.41 20z\"/>\n",
              "  </svg>\n",
              "      </button>\n",
              "      \n",
              "  <style>\n",
              "    .colab-df-container {\n",
              "      display:flex;\n",
              "      flex-wrap:wrap;\n",
              "      gap: 12px;\n",
              "    }\n",
              "\n",
              "    .colab-df-convert {\n",
              "      background-color: #E8F0FE;\n",
              "      border: none;\n",
              "      border-radius: 50%;\n",
              "      cursor: pointer;\n",
              "      display: none;\n",
              "      fill: #1967D2;\n",
              "      height: 32px;\n",
              "      padding: 0 0 0 0;\n",
              "      width: 32px;\n",
              "    }\n",
              "\n",
              "    .colab-df-convert:hover {\n",
              "      background-color: #E2EBFA;\n",
              "      box-shadow: 0px 1px 2px rgba(60, 64, 67, 0.3), 0px 1px 3px 1px rgba(60, 64, 67, 0.15);\n",
              "      fill: #174EA6;\n",
              "    }\n",
              "\n",
              "    [theme=dark] .colab-df-convert {\n",
              "      background-color: #3B4455;\n",
              "      fill: #D2E3FC;\n",
              "    }\n",
              "\n",
              "    [theme=dark] .colab-df-convert:hover {\n",
              "      background-color: #434B5C;\n",
              "      box-shadow: 0px 1px 3px 1px rgba(0, 0, 0, 0.15);\n",
              "      filter: drop-shadow(0px 1px 2px rgba(0, 0, 0, 0.3));\n",
              "      fill: #FFFFFF;\n",
              "    }\n",
              "  </style>\n",
              "\n",
              "      <script>\n",
              "        const buttonEl =\n",
              "          document.querySelector('#df-bf2a0cc4-b364-44db-8696-535ba51e53b9 button.colab-df-convert');\n",
              "        buttonEl.style.display =\n",
              "          google.colab.kernel.accessAllowed ? 'block' : 'none';\n",
              "\n",
              "        async function convertToInteractive(key) {\n",
              "          const element = document.querySelector('#df-bf2a0cc4-b364-44db-8696-535ba51e53b9');\n",
              "          const dataTable =\n",
              "            await google.colab.kernel.invokeFunction('convertToInteractive',\n",
              "                                                     [key], {});\n",
              "          if (!dataTable) return;\n",
              "\n",
              "          const docLinkHtml = 'Like what you see? Visit the ' +\n",
              "            '<a target=\"_blank\" href=https://colab.research.google.com/notebooks/data_table.ipynb>data table notebook</a>'\n",
              "            + ' to learn more about interactive tables.';\n",
              "          element.innerHTML = '';\n",
              "          dataTable['output_type'] = 'display_data';\n",
              "          await google.colab.output.renderOutput(dataTable, element);\n",
              "          const docLink = document.createElement('div');\n",
              "          docLink.innerHTML = docLinkHtml;\n",
              "          element.appendChild(docLink);\n",
              "        }\n",
              "      </script>\n",
              "    </div>\n",
              "  </div>\n",
              "  "
            ]
          },
          "metadata": {},
          "execution_count": 581
        }
      ]
    },
    {
      "cell_type": "markdown",
      "source": [
        "# Normalize input features using min-max normalization"
      ],
      "metadata": {
        "id": "ry5e9Tm6h1BK"
      }
    },
    {
      "cell_type": "code",
      "source": [
        "from sklearn.preprocessing import MinMaxScaler\n",
        "scaler = MinMaxScaler()"
      ],
      "metadata": {
        "id": "zHz3mSI3ienL"
      },
      "execution_count": 582,
      "outputs": []
    },
    {
      "cell_type": "code",
      "source": [
        "train_target = pitchers_train['salary']\n",
        "\n",
        "train_features = pitchers_train.drop(columns = ['salary'])\n",
        "col = train_features.columns\n",
        "train_features = scaler.fit_transform(train_features)\n",
        "train_features = pd.DataFrame(data=train_features, columns=col)"
      ],
      "metadata": {
        "id": "PXUoewX1eLXP"
      },
      "execution_count": 583,
      "outputs": []
    },
    {
      "cell_type": "code",
      "source": [
        "test_target = pitchers_test['salary']\n",
        "\n",
        "test_features = pitchers_test.drop(columns = ['salary'])\n",
        "test_features = scaler.fit_transform(test_features)\n",
        "test_features = pd.DataFrame(data=test_features, columns=col)"
      ],
      "metadata": {
        "id": "_mC9w8dPefBO"
      },
      "execution_count": 584,
      "outputs": []
    },
    {
      "cell_type": "markdown",
      "source": [
        "# Feature Selection"
      ],
      "metadata": {
        "id": "y7f5U9w6djlP"
      }
    },
    {
      "cell_type": "markdown",
      "source": [
        "Vary the number of features we select to find optimal amount. I found that k = 12 features produces the best model with MAE of 3.49 million"
      ],
      "metadata": {
        "id": "Hek1bsWEer9s"
      }
    },
    {
      "cell_type": "code",
      "source": [
        "#top_features_ordered = []"
      ],
      "metadata": {
        "id": "9ppcJZ35d5or"
      },
      "execution_count": 585,
      "outputs": []
    },
    {
      "cell_type": "code",
      "source": [
        "#best_features = SelectKBest(f_regression, k=12)\n",
        "#k_best_data = best_features.fit_transform(train_features, train_target)\n",
        "#mask = best_features.get_support()\n",
        "#new_features = train_features.columns[mask]\n",
        "#for item in new_features:\n",
        "  #if item not in top_features_ordered:\n",
        "   # top_features_ordered.append(item)"
      ],
      "metadata": {
        "id": "TAXTX1chel4n"
      },
      "execution_count": 586,
      "outputs": []
    },
    {
      "cell_type": "code",
      "source": [
        "#count = 1\n",
        "#for item in top_features_ordered:\n",
        "  #print(count, '. ', item)\n",
        "  #count += 1"
      ],
      "metadata": {
        "id": "7A3BEqTnewYv"
      },
      "execution_count": 587,
      "outputs": []
    },
    {
      "cell_type": "code",
      "source": [
        "train_selected_X = train_features[['age', ' ERA ', 'L', ' GURU ', 'WAR', 'Rookie contract', ' WHIP ', 'Starter']]\n",
        "train_y = train_target\n",
        "\n",
        "test_selected_X = test_features[['age', ' ERA ', 'L', ' GURU ', 'WAR', 'Rookie contract', ' WHIP ', 'Starter']]\n",
        "test_y = test_target"
      ],
      "metadata": {
        "id": "DhOI6VjOffNS"
      },
      "execution_count": 588,
      "outputs": []
    },
    {
      "cell_type": "code",
      "source": [
        "print('Train Features:')\n",
        "print('train_selected_X dimensions: ', train_selected_X.shape)\n",
        "print('train_y dimensions:', train_y.shape, '\\n')\n",
        "\n",
        "print('Test Features:')\n",
        "print('test_data_X dimensions: ', test_selected_X.shape)\n",
        "print('test_data_y dimensions:', test_y.shape, '\\n')"
      ],
      "metadata": {
        "colab": {
          "base_uri": "https://localhost:8080/"
        },
        "id": "ZHMTbm25foJW",
        "outputId": "344265f8-1201-4d7a-db5a-1a23fc36f4e2"
      },
      "execution_count": 589,
      "outputs": [
        {
          "output_type": "stream",
          "name": "stdout",
          "text": [
            "Train Features:\n",
            "train_selected_X dimensions:  (298, 8)\n",
            "train_y dimensions: (298,) \n",
            "\n",
            "Test Features:\n",
            "test_data_X dimensions:  (75, 8)\n",
            "test_data_y dimensions: (75,) \n",
            "\n"
          ]
        }
      ]
    },
    {
      "cell_type": "markdown",
      "source": [
        "# Multivariate Linear Regression"
      ],
      "metadata": {
        "id": "2oLgxL4jnAom"
      }
    },
    {
      "cell_type": "code",
      "source": [
        "multivariate_regression = linear_model.LinearRegression()\n",
        "multivariate_regression.fit(train_selected_X, train_y)"
      ],
      "metadata": {
        "colab": {
          "base_uri": "https://localhost:8080/"
        },
        "id": "UDhwuThmf8QA",
        "outputId": "42ad23da-368c-4bce-e689-8ed269861fa6"
      },
      "execution_count": 590,
      "outputs": [
        {
          "output_type": "execute_result",
          "data": {
            "text/plain": [
              "LinearRegression()"
            ]
          },
          "metadata": {},
          "execution_count": 590
        }
      ]
    },
    {
      "cell_type": "markdown",
      "source": [
        "# Beta values (coefficients) and intercept for our multivariate linear regression:"
      ],
      "metadata": {
        "id": "lI9G49XlgGr-"
      }
    },
    {
      "cell_type": "code",
      "source": [
        "multivariate_regression.coef_"
      ],
      "metadata": {
        "colab": {
          "base_uri": "https://localhost:8080/"
        },
        "id": "W-vg-stwgBRe",
        "outputId": "a35b3776-f5c7-485c-8617-8d24ce7e219c"
      },
      "execution_count": 591,
      "outputs": [
        {
          "output_type": "execute_result",
          "data": {
            "text/plain": [
              "array([13.71858001,  4.59547493,  0.13674579,  2.07428557,  8.72698159,\n",
              "        0.95772386,  1.24109881,  2.12781634])"
            ]
          },
          "metadata": {},
          "execution_count": 591
        }
      ]
    },
    {
      "cell_type": "code",
      "source": [
        "multivariate_regression.intercept_"
      ],
      "metadata": {
        "colab": {
          "base_uri": "https://localhost:8080/"
        },
        "id": "Z8w-yiq4gCVc",
        "outputId": "4e3f05a6-2017-4fda-d0a3-a0b8f011ab44"
      },
      "execution_count": 592,
      "outputs": [
        {
          "output_type": "execute_result",
          "data": {
            "text/plain": [
              "-9.630627662994607"
            ]
          },
          "metadata": {},
          "execution_count": 592
        }
      ]
    },
    {
      "cell_type": "code",
      "source": [
        "y_pred = multivariate_regression.predict(test_selected_X)"
      ],
      "metadata": {
        "id": "l3N3sYfAgO59"
      },
      "execution_count": 593,
      "outputs": []
    },
    {
      "cell_type": "code",
      "source": [
        "print('Mean Squared Error: ', mean_squared_error(test_y, y_pred), '\\n')\n",
        "print('Mean Absolute Error: ', mean_absolute_error(test_y, y_pred), '\\n')\n",
        "print('Root Mean Squared Error: ', np.sqrt(mean_squared_error(test_y, y_pred)))"
      ],
      "metadata": {
        "colab": {
          "base_uri": "https://localhost:8080/"
        },
        "id": "0DSV6Qj6gTSV",
        "outputId": "887a4aae-7b05-4274-9881-0a4b4c0d07e0"
      },
      "execution_count": 594,
      "outputs": [
        {
          "output_type": "stream",
          "name": "stdout",
          "text": [
            "Mean Squared Error:  27.84094646690154 \n",
            "\n",
            "Mean Absolute Error:  3.3952575126696627 \n",
            "\n",
            "Root Mean Squared Error:  5.276452071885192\n"
          ]
        }
      ]
    },
    {
      "cell_type": "markdown",
      "source": [
        "# Ridge Regression"
      ],
      "metadata": {
        "id": "pBGIDOsnncYP"
      }
    },
    {
      "cell_type": "code",
      "source": [
        "ridge_regression = Ridge(alpha = 3.5)\n",
        "ridge_regression.fit(train_selected_X, train_y)"
      ],
      "metadata": {
        "colab": {
          "base_uri": "https://localhost:8080/"
        },
        "id": "8crAGHcnm--o",
        "outputId": "26353d6c-8ac7-433b-9d06-0b8985df5cc0"
      },
      "execution_count": 595,
      "outputs": [
        {
          "output_type": "execute_result",
          "data": {
            "text/plain": [
              "Ridge(alpha=3.5)"
            ]
          },
          "metadata": {},
          "execution_count": 595
        }
      ]
    },
    {
      "cell_type": "code",
      "source": [
        "ridge_regression.coef_"
      ],
      "metadata": {
        "colab": {
          "base_uri": "https://localhost:8080/"
        },
        "id": "Vyc9cbX4nqQN",
        "outputId": "8bd789a1-3f43-46ea-e804-bebcd0367b0c"
      },
      "execution_count": 596,
      "outputs": [
        {
          "output_type": "execute_result",
          "data": {
            "text/plain": [
              "array([ 8.87982159,  1.76785427,  0.654568  ,  1.53910363,  4.25748461,\n",
              "       -0.34925564,  0.69632578,  3.00880434])"
            ]
          },
          "metadata": {},
          "execution_count": 596
        }
      ]
    },
    {
      "cell_type": "code",
      "source": [
        "ridge_regression.intercept_"
      ],
      "metadata": {
        "colab": {
          "base_uri": "https://localhost:8080/"
        },
        "id": "9ghLQtFmnsNB",
        "outputId": "7a5a5e21-68aa-4516-c0c1-cb64661c7ae4"
      },
      "execution_count": 597,
      "outputs": [
        {
          "output_type": "execute_result",
          "data": {
            "text/plain": [
              "-4.511978412837353"
            ]
          },
          "metadata": {},
          "execution_count": 597
        }
      ]
    },
    {
      "cell_type": "code",
      "source": [
        "y_predicted = ridge_regression.predict(test_selected_X)"
      ],
      "metadata": {
        "id": "vRw4BOB5nwg2"
      },
      "execution_count": 598,
      "outputs": []
    },
    {
      "cell_type": "code",
      "source": [
        "print('Mean Squared Error: ', mean_squared_error(test_y, y_predicted), '\\n')\n",
        "print('Mean Absolute Error: ', mean_absolute_error(test_y, y_predicted), '\\n')\n",
        "print('Root Mean Squared Error: ', np.sqrt(mean_squared_error(test_y, y_predicted)))"
      ],
      "metadata": {
        "colab": {
          "base_uri": "https://localhost:8080/"
        },
        "id": "rvSf_oX9n0Ti",
        "outputId": "b4067f8b-93d3-41a5-c32f-def7f20a11d8"
      },
      "execution_count": 599,
      "outputs": [
        {
          "output_type": "stream",
          "name": "stdout",
          "text": [
            "Mean Squared Error:  26.926501742758933 \n",
            "\n",
            "Mean Absolute Error:  3.0385539641531794 \n",
            "\n",
            "Root Mean Squared Error:  5.189075230015358\n"
          ]
        }
      ]
    },
    {
      "cell_type": "markdown",
      "source": [
        "# Lasso Regression"
      ],
      "metadata": {
        "id": "hduphkv3oNq_"
      }
    },
    {
      "cell_type": "code",
      "source": [
        "lasso_regression = Lasso(alpha = 3.5)\n",
        "lasso_regression.fit(train_selected_X, train_y)"
      ],
      "metadata": {
        "colab": {
          "base_uri": "https://localhost:8080/"
        },
        "id": "g_Upyn2uoQmq",
        "outputId": "bcf40263-9320-4762-c269-55bab40f95f4"
      },
      "execution_count": 600,
      "outputs": [
        {
          "output_type": "execute_result",
          "data": {
            "text/plain": [
              "Lasso(alpha=3.5)"
            ]
          },
          "metadata": {},
          "execution_count": 600
        }
      ]
    },
    {
      "cell_type": "code",
      "source": [
        "lasso_regression.coef_"
      ],
      "metadata": {
        "colab": {
          "base_uri": "https://localhost:8080/"
        },
        "id": "kGOtjPh3oVMP",
        "outputId": "bbfe332c-80c9-4db7-cb69-3ec29a142b0b"
      },
      "execution_count": 601,
      "outputs": [
        {
          "output_type": "execute_result",
          "data": {
            "text/plain": [
              "array([ 0., -0.,  0.,  0.,  0., -0., -0.,  0.])"
            ]
          },
          "metadata": {},
          "execution_count": 601
        }
      ]
    },
    {
      "cell_type": "code",
      "source": [
        "lasso_regression.intercept_"
      ],
      "metadata": {
        "colab": {
          "base_uri": "https://localhost:8080/"
        },
        "id": "gMkPk3VuoW2q",
        "outputId": "17ff6842-ae26-453c-92da-dcdec2c28eed"
      },
      "execution_count": 602,
      "outputs": [
        {
          "output_type": "execute_result",
          "data": {
            "text/plain": [
              "3.0052020771812082"
            ]
          },
          "metadata": {},
          "execution_count": 602
        }
      ]
    },
    {
      "cell_type": "code",
      "source": [
        "y_predicted_lasso = lasso_regression.predict(test_selected_X)"
      ],
      "metadata": {
        "id": "HU7t05EuoYwJ"
      },
      "execution_count": 603,
      "outputs": []
    },
    {
      "cell_type": "code",
      "source": [
        "print('Mean Squared Error: ', mean_squared_error(test_y, y_predicted_lasso), '\\n')\n",
        "print('Mean Absolute Error: ', mean_absolute_error(test_y, y_predicted_lasso), '\\n')\n",
        "print('Root Mean Squared Error: ', np.sqrt(mean_squared_error(test_y, y_predicted_lasso)))"
      ],
      "metadata": {
        "colab": {
          "base_uri": "https://localhost:8080/"
        },
        "id": "vsjQ8g5kodVD",
        "outputId": "5e2c811b-0fc0-41ce-a18b-2848be27c6b9"
      },
      "execution_count": 604,
      "outputs": [
        {
          "output_type": "stream",
          "name": "stdout",
          "text": [
            "Mean Squared Error:  38.38927665084346 \n",
            "\n",
            "Mean Absolute Error:  4.23024424621924 \n",
            "\n",
            "Root Mean Squared Error:  6.195908057003708\n"
          ]
        }
      ]
    },
    {
      "cell_type": "markdown",
      "source": [
        "# Regression with Deep Learning"
      ],
      "metadata": {
        "id": "8qx9HbG5YLtY"
      }
    },
    {
      "cell_type": "code",
      "source": [
        "import tensorflow as tf\n",
        "from tensorflow import keras\n",
        "from sklearn.model_selection import train_test_split\n",
        "\n",
        "from tensorflow.keras.models import Sequential\n",
        "from tensorflow.keras.layers import Activation, Dense, BatchNormalization, Dropout\n",
        "from tensorflow.keras import optimizers\n",
        "import matplotlib.pyplot as plt\n",
        "import numpy as np \n",
        "import pandas as pd\n",
        "import seaborn as sns"
      ],
      "metadata": {
        "id": "1QLMO3w3YfuE"
      },
      "execution_count": 605,
      "outputs": []
    },
    {
      "cell_type": "code",
      "source": [
        "tf.random.set_seed(5)\n",
        "\n",
        "network1 = tf.keras.models.Sequential()\n",
        "network1.add(tf.keras.Input(shape=(41,)))\n",
        "network1.add(tf.keras.layers.Dense(15, activation='relu'))\n",
        "network1.add(tf.keras.layers.Dense(15, activation='tanh'))\n",
        "network1.add(tf.keras.layers.Dense(15, activation='relu'))\n",
        "network1.add(tf.keras.layers.Dense(1))\n",
        "\n",
        "network1.compile(\n",
        "   loss=tf.keras.losses.MeanAbsoluteError(),\n",
        "   optimizer=tf.keras.optimizers.Adam(),\n",
        "   metrics='mean_absolute_error')\n",
        "\n",
        "history1 = network1.fit(train_features, train_target, epochs=75,validation_data=(test_features,test_target))"
      ],
      "metadata": {
        "colab": {
          "base_uri": "https://localhost:8080/"
        },
        "id": "cbNBt3BSo391",
        "outputId": "152ed9e0-dd83-44f2-c120-dd3f8b0884ac"
      },
      "execution_count": 606,
      "outputs": [
        {
          "output_type": "stream",
          "name": "stdout",
          "text": [
            "Epoch 1/75\n",
            "10/10 [==============================] - 1s 20ms/step - loss: 2.9631 - mean_absolute_error: 2.9631 - val_loss: 4.0488 - val_mean_absolute_error: 4.0488\n",
            "Epoch 2/75\n",
            "10/10 [==============================] - 0s 7ms/step - loss: 2.6837 - mean_absolute_error: 2.6837 - val_loss: 3.8653 - val_mean_absolute_error: 3.8653\n",
            "Epoch 3/75\n",
            "10/10 [==============================] - 0s 4ms/step - loss: 2.5763 - mean_absolute_error: 2.5763 - val_loss: 3.8498 - val_mean_absolute_error: 3.8498\n",
            "Epoch 4/75\n",
            "10/10 [==============================] - 0s 5ms/step - loss: 2.5694 - mean_absolute_error: 2.5694 - val_loss: 3.8353 - val_mean_absolute_error: 3.8353\n",
            "Epoch 5/75\n",
            "10/10 [==============================] - 0s 5ms/step - loss: 2.5415 - mean_absolute_error: 2.5415 - val_loss: 3.8059 - val_mean_absolute_error: 3.8059\n",
            "Epoch 6/75\n",
            "10/10 [==============================] - 0s 4ms/step - loss: 2.5203 - mean_absolute_error: 2.5203 - val_loss: 3.7861 - val_mean_absolute_error: 3.7861\n",
            "Epoch 7/75\n",
            "10/10 [==============================] - 0s 6ms/step - loss: 2.5004 - mean_absolute_error: 2.5004 - val_loss: 3.7690 - val_mean_absolute_error: 3.7690\n",
            "Epoch 8/75\n",
            "10/10 [==============================] - 0s 5ms/step - loss: 2.4844 - mean_absolute_error: 2.4844 - val_loss: 3.7432 - val_mean_absolute_error: 3.7432\n",
            "Epoch 9/75\n",
            "10/10 [==============================] - 0s 5ms/step - loss: 2.4636 - mean_absolute_error: 2.4636 - val_loss: 3.7049 - val_mean_absolute_error: 3.7049\n",
            "Epoch 10/75\n",
            "10/10 [==============================] - 0s 4ms/step - loss: 2.4470 - mean_absolute_error: 2.4470 - val_loss: 3.6695 - val_mean_absolute_error: 3.6695\n",
            "Epoch 11/75\n",
            "10/10 [==============================] - 0s 5ms/step - loss: 2.4246 - mean_absolute_error: 2.4246 - val_loss: 3.6419 - val_mean_absolute_error: 3.6419\n",
            "Epoch 12/75\n",
            "10/10 [==============================] - 0s 4ms/step - loss: 2.4145 - mean_absolute_error: 2.4145 - val_loss: 3.6185 - val_mean_absolute_error: 3.6185\n",
            "Epoch 13/75\n",
            "10/10 [==============================] - 0s 6ms/step - loss: 2.3941 - mean_absolute_error: 2.3941 - val_loss: 3.5937 - val_mean_absolute_error: 3.5937\n",
            "Epoch 14/75\n",
            "10/10 [==============================] - 0s 4ms/step - loss: 2.3868 - mean_absolute_error: 2.3868 - val_loss: 3.5764 - val_mean_absolute_error: 3.5764\n",
            "Epoch 15/75\n",
            "10/10 [==============================] - 0s 5ms/step - loss: 2.3781 - mean_absolute_error: 2.3781 - val_loss: 3.5682 - val_mean_absolute_error: 3.5682\n",
            "Epoch 16/75\n",
            "10/10 [==============================] - 0s 4ms/step - loss: 2.3689 - mean_absolute_error: 2.3689 - val_loss: 3.5463 - val_mean_absolute_error: 3.5463\n",
            "Epoch 17/75\n",
            "10/10 [==============================] - 0s 7ms/step - loss: 2.3606 - mean_absolute_error: 2.3606 - val_loss: 3.5311 - val_mean_absolute_error: 3.5311\n",
            "Epoch 18/75\n",
            "10/10 [==============================] - 0s 6ms/step - loss: 2.3446 - mean_absolute_error: 2.3446 - val_loss: 3.5226 - val_mean_absolute_error: 3.5226\n",
            "Epoch 19/75\n",
            "10/10 [==============================] - 0s 6ms/step - loss: 2.3326 - mean_absolute_error: 2.3326 - val_loss: 3.5023 - val_mean_absolute_error: 3.5023\n",
            "Epoch 20/75\n",
            "10/10 [==============================] - 0s 6ms/step - loss: 2.3208 - mean_absolute_error: 2.3208 - val_loss: 3.4774 - val_mean_absolute_error: 3.4774\n",
            "Epoch 21/75\n",
            "10/10 [==============================] - 0s 4ms/step - loss: 2.3122 - mean_absolute_error: 2.3122 - val_loss: 3.4702 - val_mean_absolute_error: 3.4702\n",
            "Epoch 22/75\n",
            "10/10 [==============================] - 0s 4ms/step - loss: 2.2970 - mean_absolute_error: 2.2970 - val_loss: 3.4416 - val_mean_absolute_error: 3.4416\n",
            "Epoch 23/75\n",
            "10/10 [==============================] - 0s 4ms/step - loss: 2.3011 - mean_absolute_error: 2.3011 - val_loss: 3.4163 - val_mean_absolute_error: 3.4163\n",
            "Epoch 24/75\n",
            "10/10 [==============================] - 0s 6ms/step - loss: 2.2773 - mean_absolute_error: 2.2773 - val_loss: 3.3972 - val_mean_absolute_error: 3.3972\n",
            "Epoch 25/75\n",
            "10/10 [==============================] - 0s 4ms/step - loss: 2.2711 - mean_absolute_error: 2.2711 - val_loss: 3.3896 - val_mean_absolute_error: 3.3896\n",
            "Epoch 26/75\n",
            "10/10 [==============================] - 0s 7ms/step - loss: 2.2646 - mean_absolute_error: 2.2646 - val_loss: 3.3712 - val_mean_absolute_error: 3.3712\n",
            "Epoch 27/75\n",
            "10/10 [==============================] - 0s 4ms/step - loss: 2.2629 - mean_absolute_error: 2.2629 - val_loss: 3.3550 - val_mean_absolute_error: 3.3550\n",
            "Epoch 28/75\n",
            "10/10 [==============================] - 0s 6ms/step - loss: 2.2480 - mean_absolute_error: 2.2480 - val_loss: 3.3384 - val_mean_absolute_error: 3.3384\n",
            "Epoch 29/75\n",
            "10/10 [==============================] - 0s 6ms/step - loss: 2.2382 - mean_absolute_error: 2.2382 - val_loss: 3.3187 - val_mean_absolute_error: 3.3187\n",
            "Epoch 30/75\n",
            "10/10 [==============================] - 0s 4ms/step - loss: 2.2277 - mean_absolute_error: 2.2277 - val_loss: 3.2821 - val_mean_absolute_error: 3.2821\n",
            "Epoch 31/75\n",
            "10/10 [==============================] - 0s 4ms/step - loss: 2.2254 - mean_absolute_error: 2.2254 - val_loss: 3.2843 - val_mean_absolute_error: 3.2843\n",
            "Epoch 32/75\n",
            "10/10 [==============================] - 0s 6ms/step - loss: 2.2166 - mean_absolute_error: 2.2166 - val_loss: 3.2692 - val_mean_absolute_error: 3.2692\n",
            "Epoch 33/75\n",
            "10/10 [==============================] - 0s 4ms/step - loss: 2.2077 - mean_absolute_error: 2.2077 - val_loss: 3.2260 - val_mean_absolute_error: 3.2260\n",
            "Epoch 34/75\n",
            "10/10 [==============================] - 0s 6ms/step - loss: 2.2099 - mean_absolute_error: 2.2099 - val_loss: 3.2258 - val_mean_absolute_error: 3.2258\n",
            "Epoch 35/75\n",
            "10/10 [==============================] - 0s 4ms/step - loss: 2.1855 - mean_absolute_error: 2.1855 - val_loss: 3.2016 - val_mean_absolute_error: 3.2016\n",
            "Epoch 36/75\n",
            "10/10 [==============================] - 0s 5ms/step - loss: 2.1960 - mean_absolute_error: 2.1960 - val_loss: 3.1857 - val_mean_absolute_error: 3.1857\n",
            "Epoch 37/75\n",
            "10/10 [==============================] - 0s 6ms/step - loss: 2.1821 - mean_absolute_error: 2.1821 - val_loss: 3.1985 - val_mean_absolute_error: 3.1985\n",
            "Epoch 38/75\n",
            "10/10 [==============================] - 0s 6ms/step - loss: 2.1648 - mean_absolute_error: 2.1648 - val_loss: 3.1856 - val_mean_absolute_error: 3.1856\n",
            "Epoch 39/75\n",
            "10/10 [==============================] - 0s 5ms/step - loss: 2.1553 - mean_absolute_error: 2.1553 - val_loss: 3.1719 - val_mean_absolute_error: 3.1719\n",
            "Epoch 40/75\n",
            "10/10 [==============================] - 0s 4ms/step - loss: 2.1448 - mean_absolute_error: 2.1448 - val_loss: 3.1400 - val_mean_absolute_error: 3.1400\n",
            "Epoch 41/75\n",
            "10/10 [==============================] - 0s 4ms/step - loss: 2.1396 - mean_absolute_error: 2.1396 - val_loss: 3.1350 - val_mean_absolute_error: 3.1350\n",
            "Epoch 42/75\n",
            "10/10 [==============================] - 0s 5ms/step - loss: 2.1330 - mean_absolute_error: 2.1330 - val_loss: 3.1184 - val_mean_absolute_error: 3.1184\n",
            "Epoch 43/75\n",
            "10/10 [==============================] - 0s 4ms/step - loss: 2.1211 - mean_absolute_error: 2.1211 - val_loss: 3.1254 - val_mean_absolute_error: 3.1254\n",
            "Epoch 44/75\n",
            "10/10 [==============================] - 0s 4ms/step - loss: 2.1100 - mean_absolute_error: 2.1100 - val_loss: 3.1133 - val_mean_absolute_error: 3.1133\n",
            "Epoch 45/75\n",
            "10/10 [==============================] - 0s 5ms/step - loss: 2.1054 - mean_absolute_error: 2.1054 - val_loss: 3.1168 - val_mean_absolute_error: 3.1168\n",
            "Epoch 46/75\n",
            "10/10 [==============================] - 0s 4ms/step - loss: 2.0942 - mean_absolute_error: 2.0942 - val_loss: 3.0910 - val_mean_absolute_error: 3.0910\n",
            "Epoch 47/75\n",
            "10/10 [==============================] - 0s 4ms/step - loss: 2.0908 - mean_absolute_error: 2.0908 - val_loss: 3.1076 - val_mean_absolute_error: 3.1076\n",
            "Epoch 48/75\n",
            "10/10 [==============================] - 0s 6ms/step - loss: 2.0743 - mean_absolute_error: 2.0743 - val_loss: 3.0879 - val_mean_absolute_error: 3.0879\n",
            "Epoch 49/75\n",
            "10/10 [==============================] - 0s 4ms/step - loss: 2.0712 - mean_absolute_error: 2.0712 - val_loss: 3.1001 - val_mean_absolute_error: 3.1001\n",
            "Epoch 50/75\n",
            "10/10 [==============================] - 0s 6ms/step - loss: 2.0518 - mean_absolute_error: 2.0518 - val_loss: 3.0789 - val_mean_absolute_error: 3.0789\n",
            "Epoch 51/75\n",
            "10/10 [==============================] - 0s 5ms/step - loss: 2.0591 - mean_absolute_error: 2.0591 - val_loss: 3.0675 - val_mean_absolute_error: 3.0675\n",
            "Epoch 52/75\n",
            "10/10 [==============================] - 0s 4ms/step - loss: 2.0765 - mean_absolute_error: 2.0765 - val_loss: 3.1105 - val_mean_absolute_error: 3.1105\n",
            "Epoch 53/75\n",
            "10/10 [==============================] - 0s 4ms/step - loss: 2.0575 - mean_absolute_error: 2.0575 - val_loss: 3.0583 - val_mean_absolute_error: 3.0583\n",
            "Epoch 54/75\n",
            "10/10 [==============================] - 0s 6ms/step - loss: 2.0342 - mean_absolute_error: 2.0342 - val_loss: 3.0971 - val_mean_absolute_error: 3.0971\n",
            "Epoch 55/75\n",
            "10/10 [==============================] - 0s 5ms/step - loss: 2.0273 - mean_absolute_error: 2.0273 - val_loss: 3.0243 - val_mean_absolute_error: 3.0243\n",
            "Epoch 56/75\n",
            "10/10 [==============================] - 0s 4ms/step - loss: 2.0282 - mean_absolute_error: 2.0282 - val_loss: 3.0720 - val_mean_absolute_error: 3.0720\n",
            "Epoch 57/75\n",
            "10/10 [==============================] - 0s 4ms/step - loss: 1.9996 - mean_absolute_error: 1.9996 - val_loss: 3.0531 - val_mean_absolute_error: 3.0531\n",
            "Epoch 58/75\n",
            "10/10 [==============================] - 0s 4ms/step - loss: 1.9940 - mean_absolute_error: 1.9940 - val_loss: 3.0669 - val_mean_absolute_error: 3.0669\n",
            "Epoch 59/75\n",
            "10/10 [==============================] - 0s 4ms/step - loss: 1.9833 - mean_absolute_error: 1.9833 - val_loss: 3.0038 - val_mean_absolute_error: 3.0038\n",
            "Epoch 60/75\n",
            "10/10 [==============================] - 0s 4ms/step - loss: 2.0016 - mean_absolute_error: 2.0016 - val_loss: 3.0781 - val_mean_absolute_error: 3.0781\n",
            "Epoch 61/75\n",
            "10/10 [==============================] - 0s 5ms/step - loss: 1.9795 - mean_absolute_error: 1.9795 - val_loss: 3.0365 - val_mean_absolute_error: 3.0365\n",
            "Epoch 62/75\n",
            "10/10 [==============================] - 0s 4ms/step - loss: 1.9563 - mean_absolute_error: 1.9563 - val_loss: 3.0506 - val_mean_absolute_error: 3.0506\n",
            "Epoch 63/75\n",
            "10/10 [==============================] - 0s 4ms/step - loss: 1.9531 - mean_absolute_error: 1.9531 - val_loss: 3.0300 - val_mean_absolute_error: 3.0300\n",
            "Epoch 64/75\n",
            "10/10 [==============================] - 0s 4ms/step - loss: 1.9464 - mean_absolute_error: 1.9464 - val_loss: 3.0304 - val_mean_absolute_error: 3.0304\n",
            "Epoch 65/75\n",
            "10/10 [==============================] - 0s 6ms/step - loss: 1.9267 - mean_absolute_error: 1.9267 - val_loss: 3.0146 - val_mean_absolute_error: 3.0146\n",
            "Epoch 66/75\n",
            "10/10 [==============================] - 0s 4ms/step - loss: 1.9363 - mean_absolute_error: 1.9363 - val_loss: 3.0048 - val_mean_absolute_error: 3.0048\n",
            "Epoch 67/75\n",
            "10/10 [==============================] - 0s 5ms/step - loss: 1.9366 - mean_absolute_error: 1.9366 - val_loss: 3.0370 - val_mean_absolute_error: 3.0370\n",
            "Epoch 68/75\n",
            "10/10 [==============================] - 0s 5ms/step - loss: 1.9168 - mean_absolute_error: 1.9168 - val_loss: 3.0207 - val_mean_absolute_error: 3.0207\n",
            "Epoch 69/75\n",
            "10/10 [==============================] - 0s 6ms/step - loss: 1.8997 - mean_absolute_error: 1.8997 - val_loss: 3.0283 - val_mean_absolute_error: 3.0283\n",
            "Epoch 70/75\n",
            "10/10 [==============================] - 0s 5ms/step - loss: 1.8972 - mean_absolute_error: 1.8972 - val_loss: 3.0232 - val_mean_absolute_error: 3.0232\n",
            "Epoch 71/75\n",
            "10/10 [==============================] - 0s 5ms/step - loss: 1.8811 - mean_absolute_error: 1.8811 - val_loss: 3.0446 - val_mean_absolute_error: 3.0446\n",
            "Epoch 72/75\n",
            "10/10 [==============================] - 0s 5ms/step - loss: 1.8706 - mean_absolute_error: 1.8706 - val_loss: 3.0307 - val_mean_absolute_error: 3.0307\n",
            "Epoch 73/75\n",
            "10/10 [==============================] - 0s 4ms/step - loss: 1.8973 - mean_absolute_error: 1.8973 - val_loss: 3.0791 - val_mean_absolute_error: 3.0791\n",
            "Epoch 74/75\n",
            "10/10 [==============================] - 0s 4ms/step - loss: 1.8613 - mean_absolute_error: 1.8613 - val_loss: 3.0748 - val_mean_absolute_error: 3.0748\n",
            "Epoch 75/75\n",
            "10/10 [==============================] - 0s 4ms/step - loss: 1.8802 - mean_absolute_error: 1.8802 - val_loss: 3.1280 - val_mean_absolute_error: 3.1280\n"
          ]
        }
      ]
    },
    {
      "cell_type": "code",
      "source": [
        "from matplotlib import pyplot as plt\n",
        "plt.plot(history1.history['mean_absolute_error'])\n",
        "plt.plot(history1.history['val_mean_absolute_error'])\n",
        "plt.title('Model Mean Absolute Error (MAE)')\n",
        "plt.ylabel('MAE')\n",
        "plt.xlabel('Epoch')\n",
        "plt.legend(['Train', 'Cross-Validation'], loc='upper right')\n",
        "plt.show()"
      ],
      "metadata": {
        "colab": {
          "base_uri": "https://localhost:8080/",
          "height": 295
        },
        "id": "lxzvh8YWpZAH",
        "outputId": "f9372dfa-8a56-4314-c56f-228fe6c11e03"
      },
      "execution_count": 607,
      "outputs": [
        {
          "output_type": "display_data",
          "data": {
            "text/plain": [
              "<Figure size 432x288 with 1 Axes>"
            ],
            "image/png": "[encoded data removed]"
          },
          "metadata": {
            "needs_background": "light"
          }
        }
      ]
    },
    {
      "cell_type": "code",
      "source": [
        "tf.random.set_seed(5)\n",
        "\n",
        "network2 = tf.keras.models.Sequential()\n",
        "network2.add(tf.keras.Input(shape=(41,)))\n",
        "network2.add(tf.keras.layers.Dense(15, activation='relu'))\n",
        "network2.add(tf.keras.layers.Dense(15, activation='relu'))\n",
        "network2.add(tf.keras.layers.Dense(15, activation='relu'))\n",
        "network2.add(tf.keras.layers.Dense(1))\n",
        "\n",
        "network2.compile(\n",
        "   loss=tf.keras.losses.MeanAbsoluteError(),\n",
        "   optimizer=tf.keras.optimizers.Adam(),\n",
        "   metrics='mean_absolute_error')\n",
        "\n",
        "history2 = network2.fit(train_features, train_target, epochs=80,validation_data=(test_features,test_target))"
      ],
      "metadata": {
        "colab": {
          "base_uri": "https://localhost:8080/"
        },
        "id": "aaYVvJHvqVGG",
        "outputId": "9cc650cb-72a7-488b-91f3-71c6f6e3877a"
      },
      "execution_count": 608,
      "outputs": [
        {
          "output_type": "stream",
          "name": "stdout",
          "text": [
            "Epoch 1/80\n",
            "10/10 [==============================] - 1s 59ms/step - loss: 2.9608 - mean_absolute_error: 2.9608 - val_loss: 4.2386 - val_mean_absolute_error: 4.2386\n",
            "Epoch 2/80\n",
            "10/10 [==============================] - 0s 4ms/step - loss: 2.8183 - mean_absolute_error: 2.8183 - val_loss: 4.0349 - val_mean_absolute_error: 4.0349\n",
            "Epoch 3/80\n",
            "10/10 [==============================] - 0s 6ms/step - loss: 2.6375 - mean_absolute_error: 2.6375 - val_loss: 3.8855 - val_mean_absolute_error: 3.8855\n",
            "Epoch 4/80\n",
            "10/10 [==============================] - 0s 6ms/step - loss: 2.5999 - mean_absolute_error: 2.5999 - val_loss: 3.8581 - val_mean_absolute_error: 3.8581\n",
            "Epoch 5/80\n",
            "10/10 [==============================] - 0s 4ms/step - loss: 2.5888 - mean_absolute_error: 2.5888 - val_loss: 3.8324 - val_mean_absolute_error: 3.8324\n",
            "Epoch 6/80\n",
            "10/10 [==============================] - 0s 7ms/step - loss: 2.5669 - mean_absolute_error: 2.5669 - val_loss: 3.8090 - val_mean_absolute_error: 3.8090\n",
            "Epoch 7/80\n",
            "10/10 [==============================] - 0s 4ms/step - loss: 2.5433 - mean_absolute_error: 2.5433 - val_loss: 3.7858 - val_mean_absolute_error: 3.7858\n",
            "Epoch 8/80\n",
            "10/10 [==============================] - 0s 4ms/step - loss: 2.5215 - mean_absolute_error: 2.5215 - val_loss: 3.7625 - val_mean_absolute_error: 3.7625\n",
            "Epoch 9/80\n",
            "10/10 [==============================] - 0s 5ms/step - loss: 2.5009 - mean_absolute_error: 2.5009 - val_loss: 3.7342 - val_mean_absolute_error: 3.7342\n",
            "Epoch 10/80\n",
            "10/10 [==============================] - 0s 5ms/step - loss: 2.4831 - mean_absolute_error: 2.4831 - val_loss: 3.6961 - val_mean_absolute_error: 3.6961\n",
            "Epoch 11/80\n",
            "10/10 [==============================] - 0s 5ms/step - loss: 2.4586 - mean_absolute_error: 2.4586 - val_loss: 3.6704 - val_mean_absolute_error: 3.6704\n",
            "Epoch 12/80\n",
            "10/10 [==============================] - 0s 5ms/step - loss: 2.4476 - mean_absolute_error: 2.4476 - val_loss: 3.6418 - val_mean_absolute_error: 3.6418\n",
            "Epoch 13/80\n",
            "10/10 [==============================] - 0s 4ms/step - loss: 2.4226 - mean_absolute_error: 2.4226 - val_loss: 3.6181 - val_mean_absolute_error: 3.6181\n",
            "Epoch 14/80\n",
            "10/10 [==============================] - 0s 7ms/step - loss: 2.4159 - mean_absolute_error: 2.4159 - val_loss: 3.5935 - val_mean_absolute_error: 3.5935\n",
            "Epoch 15/80\n",
            "10/10 [==============================] - 0s 4ms/step - loss: 2.3985 - mean_absolute_error: 2.3985 - val_loss: 3.5793 - val_mean_absolute_error: 3.5793\n",
            "Epoch 16/80\n",
            "10/10 [==============================] - 0s 6ms/step - loss: 2.3865 - mean_absolute_error: 2.3865 - val_loss: 3.5599 - val_mean_absolute_error: 3.5599\n",
            "Epoch 17/80\n",
            "10/10 [==============================] - 0s 5ms/step - loss: 2.3738 - mean_absolute_error: 2.3738 - val_loss: 3.5427 - val_mean_absolute_error: 3.5427\n",
            "Epoch 18/80\n",
            "10/10 [==============================] - 0s 5ms/step - loss: 2.3610 - mean_absolute_error: 2.3610 - val_loss: 3.5188 - val_mean_absolute_error: 3.5188\n",
            "Epoch 19/80\n",
            "10/10 [==============================] - 0s 6ms/step - loss: 2.3471 - mean_absolute_error: 2.3471 - val_loss: 3.5002 - val_mean_absolute_error: 3.5002\n",
            "Epoch 20/80\n",
            "10/10 [==============================] - 0s 6ms/step - loss: 2.3358 - mean_absolute_error: 2.3358 - val_loss: 3.4813 - val_mean_absolute_error: 3.4813\n",
            "Epoch 21/80\n",
            "10/10 [==============================] - 0s 4ms/step - loss: 2.3243 - mean_absolute_error: 2.3243 - val_loss: 3.4701 - val_mean_absolute_error: 3.4701\n",
            "Epoch 22/80\n",
            "10/10 [==============================] - 0s 5ms/step - loss: 2.3080 - mean_absolute_error: 2.3080 - val_loss: 3.4460 - val_mean_absolute_error: 3.4460\n",
            "Epoch 23/80\n",
            "10/10 [==============================] - 0s 6ms/step - loss: 2.3074 - mean_absolute_error: 2.3074 - val_loss: 3.4233 - val_mean_absolute_error: 3.4233\n",
            "Epoch 24/80\n",
            "10/10 [==============================] - 0s 4ms/step - loss: 2.2872 - mean_absolute_error: 2.2872 - val_loss: 3.4127 - val_mean_absolute_error: 3.4127\n",
            "Epoch 25/80\n",
            "10/10 [==============================] - 0s 5ms/step - loss: 2.2735 - mean_absolute_error: 2.2735 - val_loss: 3.4043 - val_mean_absolute_error: 3.4043\n",
            "Epoch 26/80\n",
            "10/10 [==============================] - 0s 4ms/step - loss: 2.2628 - mean_absolute_error: 2.2628 - val_loss: 3.3805 - val_mean_absolute_error: 3.3805\n",
            "Epoch 27/80\n",
            "10/10 [==============================] - 0s 4ms/step - loss: 2.2530 - mean_absolute_error: 2.2530 - val_loss: 3.3784 - val_mean_absolute_error: 3.3784\n",
            "Epoch 28/80\n",
            "10/10 [==============================] - 0s 6ms/step - loss: 2.2388 - mean_absolute_error: 2.2388 - val_loss: 3.3517 - val_mean_absolute_error: 3.3517\n",
            "Epoch 29/80\n",
            "10/10 [==============================] - 0s 4ms/step - loss: 2.2261 - mean_absolute_error: 2.2261 - val_loss: 3.3342 - val_mean_absolute_error: 3.3342\n",
            "Epoch 30/80\n",
            "10/10 [==============================] - 0s 6ms/step - loss: 2.2136 - mean_absolute_error: 2.2136 - val_loss: 3.3242 - val_mean_absolute_error: 3.3242\n",
            "Epoch 31/80\n",
            "10/10 [==============================] - 0s 4ms/step - loss: 2.2138 - mean_absolute_error: 2.2138 - val_loss: 3.3095 - val_mean_absolute_error: 3.3095\n",
            "Epoch 32/80\n",
            "10/10 [==============================] - 0s 4ms/step - loss: 2.2061 - mean_absolute_error: 2.2061 - val_loss: 3.3008 - val_mean_absolute_error: 3.3008\n",
            "Epoch 33/80\n",
            "10/10 [==============================] - 0s 5ms/step - loss: 2.1932 - mean_absolute_error: 2.1932 - val_loss: 3.2885 - val_mean_absolute_error: 3.2885\n",
            "Epoch 34/80\n",
            "10/10 [==============================] - 0s 5ms/step - loss: 2.1822 - mean_absolute_error: 2.1822 - val_loss: 3.2674 - val_mean_absolute_error: 3.2674\n",
            "Epoch 35/80\n",
            "10/10 [==============================] - 0s 6ms/step - loss: 2.1687 - mean_absolute_error: 2.1687 - val_loss: 3.2481 - val_mean_absolute_error: 3.2481\n",
            "Epoch 36/80\n",
            "10/10 [==============================] - 0s 5ms/step - loss: 2.1687 - mean_absolute_error: 2.1687 - val_loss: 3.2298 - val_mean_absolute_error: 3.2298\n",
            "Epoch 37/80\n",
            "10/10 [==============================] - 0s 4ms/step - loss: 2.1527 - mean_absolute_error: 2.1527 - val_loss: 3.2334 - val_mean_absolute_error: 3.2334\n",
            "Epoch 38/80\n",
            "10/10 [==============================] - 0s 5ms/step - loss: 2.1443 - mean_absolute_error: 2.1443 - val_loss: 3.2353 - val_mean_absolute_error: 3.2353\n",
            "Epoch 39/80\n",
            "10/10 [==============================] - 0s 4ms/step - loss: 2.1357 - mean_absolute_error: 2.1357 - val_loss: 3.2182 - val_mean_absolute_error: 3.2182\n",
            "Epoch 40/80\n",
            "10/10 [==============================] - 0s 5ms/step - loss: 2.1234 - mean_absolute_error: 2.1234 - val_loss: 3.1745 - val_mean_absolute_error: 3.1745\n",
            "Epoch 41/80\n",
            "10/10 [==============================] - 0s 5ms/step - loss: 2.1234 - mean_absolute_error: 2.1234 - val_loss: 3.1601 - val_mean_absolute_error: 3.1601\n",
            "Epoch 42/80\n",
            "10/10 [==============================] - 0s 4ms/step - loss: 2.1138 - mean_absolute_error: 2.1138 - val_loss: 3.1430 - val_mean_absolute_error: 3.1430\n",
            "Epoch 43/80\n",
            "10/10 [==============================] - 0s 4ms/step - loss: 2.1049 - mean_absolute_error: 2.1049 - val_loss: 3.1539 - val_mean_absolute_error: 3.1539\n",
            "Epoch 44/80\n",
            "10/10 [==============================] - 0s 4ms/step - loss: 2.0903 - mean_absolute_error: 2.0903 - val_loss: 3.1480 - val_mean_absolute_error: 3.1480\n",
            "Epoch 45/80\n",
            "10/10 [==============================] - 0s 4ms/step - loss: 2.0828 - mean_absolute_error: 2.0828 - val_loss: 3.1203 - val_mean_absolute_error: 3.1203\n",
            "Epoch 46/80\n",
            "10/10 [==============================] - 0s 4ms/step - loss: 2.0767 - mean_absolute_error: 2.0767 - val_loss: 3.1078 - val_mean_absolute_error: 3.1078\n",
            "Epoch 47/80\n",
            "10/10 [==============================] - 0s 7ms/step - loss: 2.0728 - mean_absolute_error: 2.0728 - val_loss: 3.0959 - val_mean_absolute_error: 3.0959\n",
            "Epoch 48/80\n",
            "10/10 [==============================] - 0s 4ms/step - loss: 2.0547 - mean_absolute_error: 2.0547 - val_loss: 3.0622 - val_mean_absolute_error: 3.0622\n",
            "Epoch 49/80\n",
            "10/10 [==============================] - 0s 6ms/step - loss: 2.0541 - mean_absolute_error: 2.0541 - val_loss: 3.1072 - val_mean_absolute_error: 3.1072\n",
            "Epoch 50/80\n",
            "10/10 [==============================] - 0s 4ms/step - loss: 2.0488 - mean_absolute_error: 2.0488 - val_loss: 3.0905 - val_mean_absolute_error: 3.0905\n",
            "Epoch 51/80\n",
            "10/10 [==============================] - 0s 8ms/step - loss: 2.0807 - mean_absolute_error: 2.0807 - val_loss: 3.0475 - val_mean_absolute_error: 3.0475\n",
            "Epoch 52/80\n",
            "10/10 [==============================] - 0s 4ms/step - loss: 2.0745 - mean_absolute_error: 2.0745 - val_loss: 3.1478 - val_mean_absolute_error: 3.1478\n",
            "Epoch 53/80\n",
            "10/10 [==============================] - 0s 4ms/step - loss: 2.0343 - mean_absolute_error: 2.0343 - val_loss: 3.0881 - val_mean_absolute_error: 3.0881\n",
            "Epoch 54/80\n",
            "10/10 [==============================] - 0s 4ms/step - loss: 2.0154 - mean_absolute_error: 2.0154 - val_loss: 3.1102 - val_mean_absolute_error: 3.1102\n",
            "Epoch 55/80\n",
            "10/10 [==============================] - 0s 7ms/step - loss: 2.0144 - mean_absolute_error: 2.0144 - val_loss: 3.0674 - val_mean_absolute_error: 3.0674\n",
            "Epoch 56/80\n",
            "10/10 [==============================] - 0s 5ms/step - loss: 2.0045 - mean_absolute_error: 2.0045 - val_loss: 3.1136 - val_mean_absolute_error: 3.1136\n",
            "Epoch 57/80\n",
            "10/10 [==============================] - 0s 4ms/step - loss: 1.9865 - mean_absolute_error: 1.9865 - val_loss: 3.0950 - val_mean_absolute_error: 3.0950\n",
            "Epoch 58/80\n",
            "10/10 [==============================] - 0s 6ms/step - loss: 1.9821 - mean_absolute_error: 1.9821 - val_loss: 3.0790 - val_mean_absolute_error: 3.0790\n",
            "Epoch 59/80\n",
            "10/10 [==============================] - 0s 7ms/step - loss: 1.9751 - mean_absolute_error: 1.9751 - val_loss: 3.0675 - val_mean_absolute_error: 3.0675\n",
            "Epoch 60/80\n",
            "10/10 [==============================] - 0s 4ms/step - loss: 1.9717 - mean_absolute_error: 1.9717 - val_loss: 3.1220 - val_mean_absolute_error: 3.1220\n",
            "Epoch 61/80\n",
            "10/10 [==============================] - 0s 5ms/step - loss: 1.9664 - mean_absolute_error: 1.9664 - val_loss: 3.1129 - val_mean_absolute_error: 3.1129\n",
            "Epoch 62/80\n",
            "10/10 [==============================] - 0s 5ms/step - loss: 1.9540 - mean_absolute_error: 1.9540 - val_loss: 3.0804 - val_mean_absolute_error: 3.0804\n",
            "Epoch 63/80\n",
            "10/10 [==============================] - 0s 5ms/step - loss: 1.9464 - mean_absolute_error: 1.9464 - val_loss: 3.0600 - val_mean_absolute_error: 3.0600\n",
            "Epoch 64/80\n",
            "10/10 [==============================] - 0s 5ms/step - loss: 1.9442 - mean_absolute_error: 1.9442 - val_loss: 3.0667 - val_mean_absolute_error: 3.0667\n",
            "Epoch 65/80\n",
            "10/10 [==============================] - 0s 5ms/step - loss: 1.9338 - mean_absolute_error: 1.9338 - val_loss: 3.0663 - val_mean_absolute_error: 3.0663\n",
            "Epoch 66/80\n",
            "10/10 [==============================] - 0s 4ms/step - loss: 1.9323 - mean_absolute_error: 1.9323 - val_loss: 3.0470 - val_mean_absolute_error: 3.0470\n",
            "Epoch 67/80\n",
            "10/10 [==============================] - 0s 6ms/step - loss: 1.9250 - mean_absolute_error: 1.9250 - val_loss: 3.0919 - val_mean_absolute_error: 3.0919\n",
            "Epoch 68/80\n",
            "10/10 [==============================] - 0s 7ms/step - loss: 1.9270 - mean_absolute_error: 1.9270 - val_loss: 3.0439 - val_mean_absolute_error: 3.0439\n",
            "Epoch 69/80\n",
            "10/10 [==============================] - 0s 4ms/step - loss: 1.9171 - mean_absolute_error: 1.9171 - val_loss: 3.0753 - val_mean_absolute_error: 3.0753\n",
            "Epoch 70/80\n",
            "10/10 [==============================] - 0s 5ms/step - loss: 1.8991 - mean_absolute_error: 1.8991 - val_loss: 3.0628 - val_mean_absolute_error: 3.0628\n",
            "Epoch 71/80\n",
            "10/10 [==============================] - 0s 4ms/step - loss: 1.8973 - mean_absolute_error: 1.8973 - val_loss: 3.0645 - val_mean_absolute_error: 3.0645\n",
            "Epoch 72/80\n",
            "10/10 [==============================] - 0s 5ms/step - loss: 1.8845 - mean_absolute_error: 1.8845 - val_loss: 3.0542 - val_mean_absolute_error: 3.0542\n",
            "Epoch 73/80\n",
            "10/10 [==============================] - 0s 4ms/step - loss: 1.8919 - mean_absolute_error: 1.8919 - val_loss: 3.0781 - val_mean_absolute_error: 3.0781\n",
            "Epoch 74/80\n",
            "10/10 [==============================] - 0s 5ms/step - loss: 1.8711 - mean_absolute_error: 1.8711 - val_loss: 3.0841 - val_mean_absolute_error: 3.0841\n",
            "Epoch 75/80\n",
            "10/10 [==============================] - 0s 6ms/step - loss: 1.8860 - mean_absolute_error: 1.8860 - val_loss: 3.0922 - val_mean_absolute_error: 3.0922\n",
            "Epoch 76/80\n",
            "10/10 [==============================] - 0s 7ms/step - loss: 1.8615 - mean_absolute_error: 1.8615 - val_loss: 3.0641 - val_mean_absolute_error: 3.0641\n",
            "Epoch 77/80\n",
            "10/10 [==============================] - 0s 4ms/step - loss: 1.8849 - mean_absolute_error: 1.8849 - val_loss: 3.0757 - val_mean_absolute_error: 3.0757\n",
            "Epoch 78/80\n",
            "10/10 [==============================] - 0s 4ms/step - loss: 1.8566 - mean_absolute_error: 1.8566 - val_loss: 3.0953 - val_mean_absolute_error: 3.0953\n",
            "Epoch 79/80\n",
            "10/10 [==============================] - 0s 5ms/step - loss: 1.8507 - mean_absolute_error: 1.8507 - val_loss: 3.0990 - val_mean_absolute_error: 3.0990\n",
            "Epoch 80/80\n",
            "10/10 [==============================] - 0s 6ms/step - loss: 1.8506 - mean_absolute_error: 1.8506 - val_loss: 3.0997 - val_mean_absolute_error: 3.0997\n"
          ]
        }
      ]
    },
    {
      "cell_type": "code",
      "source": [
        "from matplotlib import pyplot as plt\n",
        "plt.plot(history2.history['mean_absolute_error'])\n",
        "plt.plot(history2.history['val_mean_absolute_error'])\n",
        "plt.title('Model Mean Absolute Error (MAE)')\n",
        "plt.ylabel('MAE')\n",
        "plt.xlabel('Epoch')\n",
        "plt.legend(['Train', 'Cross-Validation'], loc='upper right')\n",
        "plt.show()"
      ],
      "metadata": {
        "colab": {
          "base_uri": "https://localhost:8080/",
          "height": 295
        },
        "id": "ovwb5HpDqgpE",
        "outputId": "ff5bcd5d-f41a-44d2-d8c0-2e16813af9dc"
      },
      "execution_count": 609,
      "outputs": [
        {
          "output_type": "display_data",
          "data": {
            "text/plain": [
              "<Figure size 432x288 with 1 Axes>"
            ],
            "image/png": "[encoded data removed]"
          },
          "metadata": {
            "needs_background": "light"
          }
        }
      ]
    },
    {
      "cell_type": "code",
      "source": [
        "tf.random.set_seed(5)\n",
        "\n",
        "network3 = tf.keras.models.Sequential()\n",
        "network3.add(tf.keras.Input(shape=(8,)))\n",
        "network3.add(tf.keras.layers.Dense(20, activation='relu'))\n",
        "network3.add(tf.keras.layers.Dense(20, activation='relu'))\n",
        "network3.add(tf.keras.layers.Dense(20, activation='relu'))\n",
        "network3.add(tf.keras.layers.Dense(20, activation='relu'))\n",
        "network3.add(tf.keras.layers.Dense(1))\n",
        "\n",
        "network3.compile(\n",
        "   loss=tf.keras.losses.MeanAbsoluteError(),\n",
        "   optimizer=tf.keras.optimizers.Adam(),\n",
        "   metrics='mean_absolute_error')\n",
        "\n",
        "history3 = network3.fit(train_selected_X, train_target, epochs=50,validation_data=(test_selected_X,test_target))"
      ],
      "metadata": {
        "colab": {
          "base_uri": "https://localhost:8080/"
        },
        "id": "lDEz4qoSr3IC",
        "outputId": "cbb80f81-14c8-4b5a-89bd-f61a20850bf5"
      },
      "execution_count": 611,
      "outputs": [
        {
          "output_type": "stream",
          "name": "stdout",
          "text": [
            "Epoch 1/50\n",
            "10/10 [==============================] - 1s 35ms/step - loss: 2.9718 - mean_absolute_error: 2.9718 - val_loss: 4.2656 - val_mean_absolute_error: 4.2656\n",
            "Epoch 2/50\n",
            "10/10 [==============================] - 0s 8ms/step - loss: 2.8373 - mean_absolute_error: 2.8373 - val_loss: 4.0792 - val_mean_absolute_error: 4.0792\n",
            "Epoch 3/50\n",
            "10/10 [==============================] - 0s 7ms/step - loss: 2.6503 - mean_absolute_error: 2.6503 - val_loss: 3.9028 - val_mean_absolute_error: 3.9028\n",
            "Epoch 4/50\n",
            "10/10 [==============================] - 0s 8ms/step - loss: 2.5854 - mean_absolute_error: 2.5854 - val_loss: 3.8464 - val_mean_absolute_error: 3.8464\n",
            "Epoch 5/50\n",
            "10/10 [==============================] - 0s 8ms/step - loss: 2.5688 - mean_absolute_error: 2.5688 - val_loss: 3.8177 - val_mean_absolute_error: 3.8177\n",
            "Epoch 6/50\n",
            "10/10 [==============================] - 0s 8ms/step - loss: 2.5502 - mean_absolute_error: 2.5502 - val_loss: 3.8020 - val_mean_absolute_error: 3.8020\n",
            "Epoch 7/50\n",
            "10/10 [==============================] - 0s 8ms/step - loss: 2.5334 - mean_absolute_error: 2.5334 - val_loss: 3.7777 - val_mean_absolute_error: 3.7777\n",
            "Epoch 8/50\n",
            "10/10 [==============================] - 0s 8ms/step - loss: 2.5179 - mean_absolute_error: 2.5179 - val_loss: 3.7490 - val_mean_absolute_error: 3.7490\n",
            "Epoch 9/50\n",
            "10/10 [==============================] - 0s 8ms/step - loss: 2.5000 - mean_absolute_error: 2.5000 - val_loss: 3.7247 - val_mean_absolute_error: 3.7247\n",
            "Epoch 10/50\n",
            "10/10 [==============================] - 0s 9ms/step - loss: 2.4828 - mean_absolute_error: 2.4828 - val_loss: 3.6878 - val_mean_absolute_error: 3.6878\n",
            "Epoch 11/50\n",
            "10/10 [==============================] - 0s 9ms/step - loss: 2.4581 - mean_absolute_error: 2.4581 - val_loss: 3.6569 - val_mean_absolute_error: 3.6569\n",
            "Epoch 12/50\n",
            "10/10 [==============================] - 0s 8ms/step - loss: 2.4372 - mean_absolute_error: 2.4372 - val_loss: 3.6160 - val_mean_absolute_error: 3.6160\n",
            "Epoch 13/50\n",
            "10/10 [==============================] - 0s 10ms/step - loss: 2.4115 - mean_absolute_error: 2.4115 - val_loss: 3.5765 - val_mean_absolute_error: 3.5765\n",
            "Epoch 14/50\n",
            "10/10 [==============================] - 0s 8ms/step - loss: 2.3890 - mean_absolute_error: 2.3890 - val_loss: 3.5297 - val_mean_absolute_error: 3.5297\n",
            "Epoch 15/50\n",
            "10/10 [==============================] - 0s 8ms/step - loss: 2.3634 - mean_absolute_error: 2.3634 - val_loss: 3.4543 - val_mean_absolute_error: 3.4543\n",
            "Epoch 16/50\n",
            "10/10 [==============================] - 0s 8ms/step - loss: 2.3360 - mean_absolute_error: 2.3360 - val_loss: 3.4312 - val_mean_absolute_error: 3.4312\n",
            "Epoch 17/50\n",
            "10/10 [==============================] - 0s 8ms/step - loss: 2.3131 - mean_absolute_error: 2.3131 - val_loss: 3.3750 - val_mean_absolute_error: 3.3750\n",
            "Epoch 18/50\n",
            "10/10 [==============================] - 0s 8ms/step - loss: 2.2868 - mean_absolute_error: 2.2868 - val_loss: 3.3324 - val_mean_absolute_error: 3.3324\n",
            "Epoch 19/50\n",
            "10/10 [==============================] - 0s 7ms/step - loss: 2.2584 - mean_absolute_error: 2.2584 - val_loss: 3.2742 - val_mean_absolute_error: 3.2742\n",
            "Epoch 20/50\n",
            "10/10 [==============================] - 0s 8ms/step - loss: 2.2381 - mean_absolute_error: 2.2381 - val_loss: 3.2373 - val_mean_absolute_error: 3.2373\n",
            "Epoch 21/50\n",
            "10/10 [==============================] - 0s 6ms/step - loss: 2.2189 - mean_absolute_error: 2.2189 - val_loss: 3.1670 - val_mean_absolute_error: 3.1670\n",
            "Epoch 22/50\n",
            "10/10 [==============================] - 0s 9ms/step - loss: 2.2097 - mean_absolute_error: 2.2097 - val_loss: 3.1562 - val_mean_absolute_error: 3.1562\n",
            "Epoch 23/50\n",
            "10/10 [==============================] - 0s 8ms/step - loss: 2.2057 - mean_absolute_error: 2.2057 - val_loss: 3.1626 - val_mean_absolute_error: 3.1626\n",
            "Epoch 24/50\n",
            "10/10 [==============================] - 0s 8ms/step - loss: 2.1946 - mean_absolute_error: 2.1946 - val_loss: 3.2021 - val_mean_absolute_error: 3.2021\n",
            "Epoch 25/50\n",
            "10/10 [==============================] - 0s 9ms/step - loss: 2.1901 - mean_absolute_error: 2.1901 - val_loss: 3.1665 - val_mean_absolute_error: 3.1665\n",
            "Epoch 26/50\n",
            "10/10 [==============================] - 0s 8ms/step - loss: 2.1827 - mean_absolute_error: 2.1827 - val_loss: 3.1584 - val_mean_absolute_error: 3.1584\n",
            "Epoch 27/50\n",
            "10/10 [==============================] - 0s 8ms/step - loss: 2.1860 - mean_absolute_error: 2.1860 - val_loss: 3.1796 - val_mean_absolute_error: 3.1796\n",
            "Epoch 28/50\n",
            "10/10 [==============================] - 0s 8ms/step - loss: 2.1807 - mean_absolute_error: 2.1807 - val_loss: 3.1440 - val_mean_absolute_error: 3.1440\n",
            "Epoch 29/50\n",
            "10/10 [==============================] - 0s 8ms/step - loss: 2.1680 - mean_absolute_error: 2.1680 - val_loss: 3.1533 - val_mean_absolute_error: 3.1533\n",
            "Epoch 30/50\n",
            "10/10 [==============================] - 0s 8ms/step - loss: 2.1647 - mean_absolute_error: 2.1647 - val_loss: 3.1632 - val_mean_absolute_error: 3.1632\n",
            "Epoch 31/50\n",
            "10/10 [==============================] - 0s 9ms/step - loss: 2.1604 - mean_absolute_error: 2.1604 - val_loss: 3.1356 - val_mean_absolute_error: 3.1356\n",
            "Epoch 32/50\n",
            "10/10 [==============================] - 0s 8ms/step - loss: 2.1611 - mean_absolute_error: 2.1611 - val_loss: 3.1433 - val_mean_absolute_error: 3.1433\n",
            "Epoch 33/50\n",
            "10/10 [==============================] - 0s 6ms/step - loss: 2.1529 - mean_absolute_error: 2.1529 - val_loss: 3.1432 - val_mean_absolute_error: 3.1432\n",
            "Epoch 34/50\n",
            "10/10 [==============================] - 0s 6ms/step - loss: 2.1519 - mean_absolute_error: 2.1519 - val_loss: 3.1286 - val_mean_absolute_error: 3.1286\n",
            "Epoch 35/50\n",
            "10/10 [==============================] - 0s 6ms/step - loss: 2.1473 - mean_absolute_error: 2.1473 - val_loss: 3.1304 - val_mean_absolute_error: 3.1304\n",
            "Epoch 36/50\n",
            "10/10 [==============================] - 0s 4ms/step - loss: 2.1479 - mean_absolute_error: 2.1479 - val_loss: 3.1253 - val_mean_absolute_error: 3.1253\n",
            "Epoch 37/50\n",
            "10/10 [==============================] - 0s 6ms/step - loss: 2.1395 - mean_absolute_error: 2.1395 - val_loss: 3.1433 - val_mean_absolute_error: 3.1433\n",
            "Epoch 38/50\n",
            "10/10 [==============================] - 0s 4ms/step - loss: 2.1373 - mean_absolute_error: 2.1373 - val_loss: 3.1245 - val_mean_absolute_error: 3.1245\n",
            "Epoch 39/50\n",
            "10/10 [==============================] - 0s 5ms/step - loss: 2.1362 - mean_absolute_error: 2.1362 - val_loss: 3.1520 - val_mean_absolute_error: 3.1520\n",
            "Epoch 40/50\n",
            "10/10 [==============================] - 0s 5ms/step - loss: 2.1235 - mean_absolute_error: 2.1235 - val_loss: 3.0756 - val_mean_absolute_error: 3.0756\n",
            "Epoch 41/50\n",
            "10/10 [==============================] - 0s 4ms/step - loss: 2.1298 - mean_absolute_error: 2.1298 - val_loss: 3.1070 - val_mean_absolute_error: 3.1070\n",
            "Epoch 42/50\n",
            "10/10 [==============================] - 0s 4ms/step - loss: 2.1230 - mean_absolute_error: 2.1230 - val_loss: 3.0910 - val_mean_absolute_error: 3.0910\n",
            "Epoch 43/50\n",
            "10/10 [==============================] - 0s 5ms/step - loss: 2.1235 - mean_absolute_error: 2.1235 - val_loss: 3.1306 - val_mean_absolute_error: 3.1306\n",
            "Epoch 44/50\n",
            "10/10 [==============================] - 0s 4ms/step - loss: 2.1149 - mean_absolute_error: 2.1149 - val_loss: 3.0875 - val_mean_absolute_error: 3.0875\n",
            "Epoch 45/50\n",
            "10/10 [==============================] - 0s 4ms/step - loss: 2.1134 - mean_absolute_error: 2.1134 - val_loss: 3.1215 - val_mean_absolute_error: 3.1215\n",
            "Epoch 46/50\n",
            "10/10 [==============================] - 0s 4ms/step - loss: 2.1126 - mean_absolute_error: 2.1126 - val_loss: 3.1163 - val_mean_absolute_error: 3.1163\n",
            "Epoch 47/50\n",
            "10/10 [==============================] - 0s 4ms/step - loss: 2.1197 - mean_absolute_error: 2.1197 - val_loss: 3.0480 - val_mean_absolute_error: 3.0480\n",
            "Epoch 48/50\n",
            "10/10 [==============================] - 0s 6ms/step - loss: 2.1036 - mean_absolute_error: 2.1036 - val_loss: 3.0748 - val_mean_absolute_error: 3.0748\n",
            "Epoch 49/50\n",
            "10/10 [==============================] - 0s 7ms/step - loss: 2.1003 - mean_absolute_error: 2.1003 - val_loss: 3.0913 - val_mean_absolute_error: 3.0913\n",
            "Epoch 50/50\n",
            "10/10 [==============================] - 0s 7ms/step - loss: 2.1017 - mean_absolute_error: 2.1017 - val_loss: 3.1342 - val_mean_absolute_error: 3.1342\n"
          ]
        }
      ]
    },
    {
      "cell_type": "code",
      "source": [
        "from matplotlib import pyplot as plt\n",
        "plt.plot(history3.history['mean_absolute_error'])\n",
        "plt.plot(history3.history['val_mean_absolute_error'])\n",
        "plt.title('Model Mean Absolute Error (MAE)')\n",
        "plt.ylabel('MAE')\n",
        "plt.xlabel('Epoch')\n",
        "plt.legend(['Train', 'Cross-Validation'], loc='upper right')\n",
        "plt.show()"
      ],
      "metadata": {
        "colab": {
          "base_uri": "https://localhost:8080/",
          "height": 295
        },
        "id": "128nqSmSr2M8",
        "outputId": "48db8a6f-bb07-4c44-b261-f8f2feea0451"
      },
      "execution_count": 612,
      "outputs": [
        {
          "output_type": "display_data",
          "data": {
            "text/plain": [
              "<Figure size 432x288 with 1 Axes>"
            ],
            "image/png": "[encoded data removed]"
          },
          "metadata": {
            "needs_background": "light"
          }
        }
      ]
    }
  ]
}