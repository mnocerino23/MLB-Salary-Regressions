{
  "nbformat": 4,
  "nbformat_minor": 0,
  "metadata": {
    "colab": {
      "name": "ReliefPitcher_Regressions.ipynb",
      "provenance": [],
      "collapsed_sections": [],
      "authorship_tag": "ABX9TyNkGzJHWplvFEi2OrU/VmS1",
      "include_colab_link": true
    },
    "kernelspec": {
      "name": "python3",
      "display_name": "Python 3"
    },
    "language_info": {
      "name": "python"
    }
  },
  "cells": [
    {
      "cell_type": "markdown",
      "metadata": {
        "id": "view-in-github",
        "colab_type": "text"
      },
      "source": [
        "<a href=\"https://colab.research.google.com/github/mnocerino23/MLB-Salary-Regressions/blob/main/ReliefPitcher_Regressions.ipynb\" target=\"_parent\"><img src=\"https://colab.research.google.com/assets/colab-badge.svg\" alt=\"Open In Colab\"/></a>"
      ]
    },
    {
      "cell_type": "markdown",
      "source": [
        "# In this Jupyter Notebook, I will build regression models to predict salary (in millions) for MLB relief pitchers. I will experiment with different modeling techniques such as multivariate linear, lasso, ridge, and neural network regressions"
      ],
      "metadata": {
        "id": "f4ApupsHWsk0"
      }
    },
    {
      "cell_type": "code",
      "execution_count": 855,
      "metadata": {
        "id": "-m4_gX_7WniX",
        "colab": {
          "base_uri": "https://localhost:8080/"
        },
        "outputId": "5d850f70-3f9d-4066-c375-4f9ae5444e51"
      },
      "outputs": [
        {
          "output_type": "stream",
          "name": "stdout",
          "text": [
            "Drive already mounted at /content/drive; to attempt to forcibly remount, call drive.mount(\"/content/drive\", force_remount=True).\n"
          ]
        }
      ],
      "source": [
        "import numpy as np\n",
        "import pandas as pd\n",
        "\n",
        "from google.colab import drive\n",
        "drive.mount('/content/drive')"
      ]
    },
    {
      "cell_type": "code",
      "source": [
        "import sklearn\n",
        "from sklearn import preprocessing\n",
        "from sklearn.model_selection import train_test_split, cross_val_score\n",
        "from sklearn.feature_selection import SelectKBest, f_regression\n",
        "from sklearn.preprocessing import MinMaxScaler"
      ],
      "metadata": {
        "id": "2paP65w2XzxT"
      },
      "execution_count": 856,
      "outputs": []
    },
    {
      "cell_type": "code",
      "source": [
        "from sklearn import linear_model\n",
        "from sklearn.linear_model import Ridge, Lasso"
      ],
      "metadata": {
        "id": "lUOnJgJjYBjQ"
      },
      "execution_count": 857,
      "outputs": []
    },
    {
      "cell_type": "code",
      "source": [
        "from sklearn.metrics import mean_absolute_error, mean_squared_error, mean_squared_log_error"
      ],
      "metadata": {
        "id": "vcpSRxhvX5mJ"
      },
      "execution_count": 858,
      "outputs": []
    },
    {
      "cell_type": "code",
      "source": [
        "#read in position player stats\n",
        "relievers_train = pd.read_csv('/content/drive/MyDrive/Data_Science_Projects/MLB/relievers_train.csv')\n",
        "relievers_test = pd.read_csv('/content/drive/MyDrive/Data_Science_Projects/MLB/relievers_test.csv')"
      ],
      "metadata": {
        "id": "_2BdS_khYKqq"
      },
      "execution_count": 859,
      "outputs": []
    },
    {
      "cell_type": "markdown",
      "source": [
        "# Final check for null values:"
      ],
      "metadata": {
        "id": "2Te5bc3PfD_k"
      }
    },
    {
      "cell_type": "code",
      "source": [
        "#no null values\n",
        "relievers_train.info()"
      ],
      "metadata": {
        "colab": {
          "base_uri": "https://localhost:8080/"
        },
        "id": "lbN5vD43e-ZF",
        "outputId": "f1f9a00a-731f-4ffb-b1a9-6e8e3633478e"
      },
      "execution_count": 860,
      "outputs": [
        {
          "output_type": "stream",
          "name": "stdout",
          "text": [
            "<class 'pandas.core.frame.DataFrame'>\n",
            "RangeIndex: 242 entries, 0 to 241\n",
            "Data columns (total 43 columns):\n",
            " #   Column   Non-Null Count  Dtype  \n",
            "---  ------   --------------  -----  \n",
            " 0   name     242 non-null    object \n",
            " 1   throws   242 non-null    object \n",
            " 2   age      242 non-null    int64  \n",
            " 3   stints   242 non-null    int64  \n",
            " 4   teamID   242 non-null    object \n",
            " 5   LG       242 non-null    object \n",
            " 6   POS1     242 non-null    object \n",
            " 7   W        242 non-null    int64  \n",
            " 8   L        242 non-null    int64  \n",
            " 9   CG       242 non-null    int64  \n",
            " 10  ShO      242 non-null    int64  \n",
            " 11  GP       242 non-null    int64  \n",
            " 12  GS       242 non-null    int64  \n",
            " 13  SV       242 non-null    int64  \n",
            " 14  GF       242 non-null    int64  \n",
            " 15  IPOuts   242 non-null    int64  \n",
            " 16   IP      242 non-null    float64\n",
            " 17   ERA     242 non-null    float64\n",
            " 18  HA       242 non-null    int64  \n",
            " 19  ER       242 non-null    int64  \n",
            " 20  HRA      242 non-null    int64  \n",
            " 21  BBA      242 non-null    int64  \n",
            " 22  SOA      242 non-null    int64  \n",
            " 23  IBBA     242 non-null    int64  \n",
            " 24  WP       242 non-null    int64  \n",
            " 25  HPBA     242 non-null    int64  \n",
            " 26  BK       242 non-null    int64  \n",
            " 27  BFP      242 non-null    int64  \n",
            " 28  RA       242 non-null    int64  \n",
            " 29   CMD     242 non-null    float64\n",
            " 30   DOM     242 non-null    float64\n",
            " 31   CTL     242 non-null    float64\n",
            " 32   HR9     242 non-null    object \n",
            " 33   WHIP    242 non-null    float64\n",
            " 34   WRIP    242 non-null    float64\n",
            " 35  HRBIB    242 non-null    object \n",
            " 36   RAVG    242 non-null    float64\n",
            " 37   FIP     242 non-null    float64\n",
            " 38   DERA    242 non-null    float64\n",
            " 39   STUFF   242 non-null    int64  \n",
            " 40   GURU    242 non-null    object \n",
            " 41  salary   242 non-null    float64\n",
            " 42  WAR      242 non-null    float64\n",
            "dtypes: float64(12), int64(23), object(8)\n",
            "memory usage: 81.4+ KB\n"
          ]
        }
      ]
    },
    {
      "cell_type": "code",
      "source": [
        "#test data also has no nulls so we are good\n",
        "relievers_test.info()"
      ],
      "metadata": {
        "colab": {
          "base_uri": "https://localhost:8080/"
        },
        "id": "r7xpS7ZofLPC",
        "outputId": "47ec7412-d789-4c9c-800f-255d9ae38ebb"
      },
      "execution_count": 861,
      "outputs": [
        {
          "output_type": "stream",
          "name": "stdout",
          "text": [
            "<class 'pandas.core.frame.DataFrame'>\n",
            "RangeIndex: 61 entries, 0 to 60\n",
            "Data columns (total 43 columns):\n",
            " #   Column   Non-Null Count  Dtype  \n",
            "---  ------   --------------  -----  \n",
            " 0   name     61 non-null     object \n",
            " 1   throws   61 non-null     object \n",
            " 2   age      61 non-null     int64  \n",
            " 3   stints   61 non-null     int64  \n",
            " 4   teamID   61 non-null     object \n",
            " 5   LG       61 non-null     object \n",
            " 6   POS1     61 non-null     object \n",
            " 7   W        61 non-null     int64  \n",
            " 8   L        61 non-null     int64  \n",
            " 9   CG       61 non-null     int64  \n",
            " 10  ShO      61 non-null     int64  \n",
            " 11  GP       61 non-null     int64  \n",
            " 12  GS       61 non-null     int64  \n",
            " 13  SV       61 non-null     int64  \n",
            " 14  GF       61 non-null     int64  \n",
            " 15  IPOuts   61 non-null     int64  \n",
            " 16   IP      61 non-null     float64\n",
            " 17   ERA     61 non-null     float64\n",
            " 18  HA       61 non-null     int64  \n",
            " 19  ER       61 non-null     int64  \n",
            " 20  HRA      61 non-null     int64  \n",
            " 21  BBA      61 non-null     int64  \n",
            " 22  SOA      61 non-null     int64  \n",
            " 23  IBBA     61 non-null     int64  \n",
            " 24  WP       61 non-null     int64  \n",
            " 25  HPBA     61 non-null     int64  \n",
            " 26  BK       61 non-null     int64  \n",
            " 27  BFP      61 non-null     int64  \n",
            " 28  RA       61 non-null     int64  \n",
            " 29   CMD     61 non-null     float64\n",
            " 30   DOM     61 non-null     float64\n",
            " 31   CTL     61 non-null     float64\n",
            " 32   HR9     61 non-null     float64\n",
            " 33   WHIP    61 non-null     float64\n",
            " 34   WRIP    61 non-null     float64\n",
            " 35  HRBIB    61 non-null     float64\n",
            " 36   RAVG    61 non-null     float64\n",
            " 37   FIP     61 non-null     float64\n",
            " 38   DERA    61 non-null     float64\n",
            " 39   STUFF   61 non-null     int64  \n",
            " 40   GURU    61 non-null     int64  \n",
            " 41  salary   61 non-null     float64\n",
            " 42  WAR      61 non-null     float64\n",
            "dtypes: float64(14), int64(24), object(5)\n",
            "memory usage: 20.6+ KB\n"
          ]
        }
      ]
    },
    {
      "cell_type": "code",
      "source": [
        "relievers_train.head(3)"
      ],
      "metadata": {
        "colab": {
          "base_uri": "https://localhost:8080/",
          "height": 173
        },
        "id": "bQxP-yixKK_D",
        "outputId": "0b91f822-e5b8-499d-b556-12ab9fed855a"
      },
      "execution_count": 862,
      "outputs": [
        {
          "output_type": "execute_result",
          "data": {
            "text/plain": [
              "          name throws  age  stints teamID  LG      POS1  W  L  CG  ...  \\\n",
              "0    Jo Suarez      L   21       1    LAA  AL  Reliever  2  6   0  ...   \n",
              "1   Ni Pivetta      R   26       1    PHI  NL  Reliever  4  6   1  ...   \n",
              "2  Gi Gallegos      R   27       1    STL  NL  Reliever  3  2   0  ...   \n",
              "\n",
              "    WHIP    WRIP    HRBIB   RAVG    FIP    DERA    STUFF    GURU     salary  \\\n",
              "0    1.64    3.25   0.16     7.44   6.71    6.27        6      9   0.265576   \n",
              "1    1.52    2.55   0.12     6.15   5.45    5.09       28     19   0.440455   \n",
              "2    0.81    1.43   0.08     2.31   3.04    2.85      240    108   0.522200   \n",
              "\n",
              "   WAR  \n",
              "0 -0.6  \n",
              "1 -0.1  \n",
              "2  1.5  \n",
              "\n",
              "[3 rows x 43 columns]"
            ],
            "text/html": [
              "\n",
              "  <div id=\"df-d5dcf879-fd58-4688-8c35-c1aeac867946\">\n",
              "    <div class=\"colab-df-container\">\n",
              "      <div>\n",
              "<style scoped>\n",
              "    .dataframe tbody tr th:only-of-type {\n",
              "        vertical-align: middle;\n",
              "    }\n",
              "\n",
              "    .dataframe tbody tr th {\n",
              "        vertical-align: top;\n",
              "    }\n",
              "\n",
              "    .dataframe thead th {\n",
              "        text-align: right;\n",
              "    }\n",
              "</style>\n",
              "<table border=\"1\" class=\"dataframe\">\n",
              "  <thead>\n",
              "    <tr style=\"text-align: right;\">\n",
              "      <th></th>\n",
              "      <th>name</th>\n",
              "      <th>throws</th>\n",
              "      <th>age</th>\n",
              "      <th>stints</th>\n",
              "      <th>teamID</th>\n",
              "      <th>LG</th>\n",
              "      <th>POS1</th>\n",
              "      <th>W</th>\n",
              "      <th>L</th>\n",
              "      <th>CG</th>\n",
              "      <th>...</th>\n",
              "      <th>WHIP</th>\n",
              "      <th>WRIP</th>\n",
              "      <th>HRBIB</th>\n",
              "      <th>RAVG</th>\n",
              "      <th>FIP</th>\n",
              "      <th>DERA</th>\n",
              "      <th>STUFF</th>\n",
              "      <th>GURU</th>\n",
              "      <th>salary</th>\n",
              "      <th>WAR</th>\n",
              "    </tr>\n",
              "  </thead>\n",
              "  <tbody>\n",
              "    <tr>\n",
              "      <th>0</th>\n",
              "      <td>Jo Suarez</td>\n",
              "      <td>L</td>\n",
              "      <td>21</td>\n",
              "      <td>1</td>\n",
              "      <td>LAA</td>\n",
              "      <td>AL</td>\n",
              "      <td>Reliever</td>\n",
              "      <td>2</td>\n",
              "      <td>6</td>\n",
              "      <td>0</td>\n",
              "      <td>...</td>\n",
              "      <td>1.64</td>\n",
              "      <td>3.25</td>\n",
              "      <td>0.16</td>\n",
              "      <td>7.44</td>\n",
              "      <td>6.71</td>\n",
              "      <td>6.27</td>\n",
              "      <td>6</td>\n",
              "      <td>9</td>\n",
              "      <td>0.265576</td>\n",
              "      <td>-0.6</td>\n",
              "    </tr>\n",
              "    <tr>\n",
              "      <th>1</th>\n",
              "      <td>Ni Pivetta</td>\n",
              "      <td>R</td>\n",
              "      <td>26</td>\n",
              "      <td>1</td>\n",
              "      <td>PHI</td>\n",
              "      <td>NL</td>\n",
              "      <td>Reliever</td>\n",
              "      <td>4</td>\n",
              "      <td>6</td>\n",
              "      <td>1</td>\n",
              "      <td>...</td>\n",
              "      <td>1.52</td>\n",
              "      <td>2.55</td>\n",
              "      <td>0.12</td>\n",
              "      <td>6.15</td>\n",
              "      <td>5.45</td>\n",
              "      <td>5.09</td>\n",
              "      <td>28</td>\n",
              "      <td>19</td>\n",
              "      <td>0.440455</td>\n",
              "      <td>-0.1</td>\n",
              "    </tr>\n",
              "    <tr>\n",
              "      <th>2</th>\n",
              "      <td>Gi Gallegos</td>\n",
              "      <td>R</td>\n",
              "      <td>27</td>\n",
              "      <td>1</td>\n",
              "      <td>STL</td>\n",
              "      <td>NL</td>\n",
              "      <td>Reliever</td>\n",
              "      <td>3</td>\n",
              "      <td>2</td>\n",
              "      <td>0</td>\n",
              "      <td>...</td>\n",
              "      <td>0.81</td>\n",
              "      <td>1.43</td>\n",
              "      <td>0.08</td>\n",
              "      <td>2.31</td>\n",
              "      <td>3.04</td>\n",
              "      <td>2.85</td>\n",
              "      <td>240</td>\n",
              "      <td>108</td>\n",
              "      <td>0.522200</td>\n",
              "      <td>1.5</td>\n",
              "    </tr>\n",
              "  </tbody>\n",
              "</table>\n",
              "<p>3 rows × 43 columns</p>\n",
              "</div>\n",
              "      <button class=\"colab-df-convert\" onclick=\"convertToInteractive('df-d5dcf879-fd58-4688-8c35-c1aeac867946')\"\n",
              "              title=\"Convert this dataframe to an interactive table.\"\n",
              "              style=\"display:none;\">\n",
              "        \n",
              "  <svg xmlns=\"http://www.w3.org/2000/svg\" height=\"24px\"viewBox=\"0 0 24 24\"\n",
              "       width=\"24px\">\n",
              "    <path d=\"M0 0h24v24H0V0z\" fill=\"none\"/>\n",
              "    <path d=\"M18.56 5.44l.94 2.06.94-2.06 2.06-.94-2.06-.94-.94-2.06-.94 2.06-2.06.94zm-11 1L8.5 8.5l.94-2.06 2.06-.94-2.06-.94L8.5 2.5l-.94 2.06-2.06.94zm10 10l.94 2.06.94-2.06 2.06-.94-2.06-.94-.94-2.06-.94 2.06-2.06.94z\"/><path d=\"M17.41 7.96l-1.37-1.37c-.4-.4-.92-.59-1.43-.59-.52 0-1.04.2-1.43.59L10.3 9.45l-7.72 7.72c-.78.78-.78 2.05 0 2.83L4 21.41c.39.39.9.59 1.41.59.51 0 1.02-.2 1.41-.59l7.78-7.78 2.81-2.81c.8-.78.8-2.07 0-2.86zM5.41 20L4 18.59l7.72-7.72 1.47 1.35L5.41 20z\"/>\n",
              "  </svg>\n",
              "      </button>\n",
              "      \n",
              "  <style>\n",
              "    .colab-df-container {\n",
              "      display:flex;\n",
              "      flex-wrap:wrap;\n",
              "      gap: 12px;\n",
              "    }\n",
              "\n",
              "    .colab-df-convert {\n",
              "      background-color: #E8F0FE;\n",
              "      border: none;\n",
              "      border-radius: 50%;\n",
              "      cursor: pointer;\n",
              "      display: none;\n",
              "      fill: #1967D2;\n",
              "      height: 32px;\n",
              "      padding: 0 0 0 0;\n",
              "      width: 32px;\n",
              "    }\n",
              "\n",
              "    .colab-df-convert:hover {\n",
              "      background-color: #E2EBFA;\n",
              "      box-shadow: 0px 1px 2px rgba(60, 64, 67, 0.3), 0px 1px 3px 1px rgba(60, 64, 67, 0.15);\n",
              "      fill: #174EA6;\n",
              "    }\n",
              "\n",
              "    [theme=dark] .colab-df-convert {\n",
              "      background-color: #3B4455;\n",
              "      fill: #D2E3FC;\n",
              "    }\n",
              "\n",
              "    [theme=dark] .colab-df-convert:hover {\n",
              "      background-color: #434B5C;\n",
              "      box-shadow: 0px 1px 3px 1px rgba(0, 0, 0, 0.15);\n",
              "      filter: drop-shadow(0px 1px 2px rgba(0, 0, 0, 0.3));\n",
              "      fill: #FFFFFF;\n",
              "    }\n",
              "  </style>\n",
              "\n",
              "      <script>\n",
              "        const buttonEl =\n",
              "          document.querySelector('#df-d5dcf879-fd58-4688-8c35-c1aeac867946 button.colab-df-convert');\n",
              "        buttonEl.style.display =\n",
              "          google.colab.kernel.accessAllowed ? 'block' : 'none';\n",
              "\n",
              "        async function convertToInteractive(key) {\n",
              "          const element = document.querySelector('#df-d5dcf879-fd58-4688-8c35-c1aeac867946');\n",
              "          const dataTable =\n",
              "            await google.colab.kernel.invokeFunction('convertToInteractive',\n",
              "                                                     [key], {});\n",
              "          if (!dataTable) return;\n",
              "\n",
              "          const docLinkHtml = 'Like what you see? Visit the ' +\n",
              "            '<a target=\"_blank\" href=https://colab.research.google.com/notebooks/data_table.ipynb>data table notebook</a>'\n",
              "            + ' to learn more about interactive tables.';\n",
              "          element.innerHTML = '';\n",
              "          dataTable['output_type'] = 'display_data';\n",
              "          await google.colab.output.renderOutput(dataTable, element);\n",
              "          const docLink = document.createElement('div');\n",
              "          docLink.innerHTML = docLinkHtml;\n",
              "          element.appendChild(docLink);\n",
              "        }\n",
              "      </script>\n",
              "    </div>\n",
              "  </div>\n",
              "  "
            ]
          },
          "metadata": {},
          "execution_count": 862
        }
      ]
    },
    {
      "cell_type": "code",
      "source": [
        "relievers_test.head(3)"
      ],
      "metadata": {
        "colab": {
          "base_uri": "https://localhost:8080/",
          "height": 173
        },
        "id": "RBWQ216ZKL5j",
        "outputId": "df085652-d71b-497c-fcc2-5b38d280b999"
      },
      "execution_count": 863,
      "outputs": [
        {
          "output_type": "execute_result",
          "data": {
            "text/plain": [
              "            name throws  age  stints teamID  LG      POS1  W   L  CG  ...  \\\n",
              "0  Jo Zimmermann      R   33       1    DET  AL  Reliever  1  13   0  ...   \n",
              "1        Br Shaw      R   31       1    COL  NL  Reliever  3   2   0  ...   \n",
              "2       Wa Suero      R   27       1    WAS  NL  Reliever  6   9   0  ...   \n",
              "\n",
              "    WHIP    WRIP   HRBIB   RAVG    FIP    DERA    STUFF    GURU    salary  WAR  \n",
              "0    1.52    1.92   0.08    7.15   4.77    4.50       19      31  25.0000  1.2  \n",
              "1    1.36    2.07   0.08    5.50   5.17    5.00       14      16   8.5000 -0.2  \n",
              "2    1.26    1.07   0.04    4.54   3.06    2.94      164      96   0.5625  1.4  \n",
              "\n",
              "[3 rows x 43 columns]"
            ],
            "text/html": [
              "\n",
              "  <div id=\"df-d198ecdf-ee29-4aa2-b057-357aefce5704\">\n",
              "    <div class=\"colab-df-container\">\n",
              "      <div>\n",
              "<style scoped>\n",
              "    .dataframe tbody tr th:only-of-type {\n",
              "        vertical-align: middle;\n",
              "    }\n",
              "\n",
              "    .dataframe tbody tr th {\n",
              "        vertical-align: top;\n",
              "    }\n",
              "\n",
              "    .dataframe thead th {\n",
              "        text-align: right;\n",
              "    }\n",
              "</style>\n",
              "<table border=\"1\" class=\"dataframe\">\n",
              "  <thead>\n",
              "    <tr style=\"text-align: right;\">\n",
              "      <th></th>\n",
              "      <th>name</th>\n",
              "      <th>throws</th>\n",
              "      <th>age</th>\n",
              "      <th>stints</th>\n",
              "      <th>teamID</th>\n",
              "      <th>LG</th>\n",
              "      <th>POS1</th>\n",
              "      <th>W</th>\n",
              "      <th>L</th>\n",
              "      <th>CG</th>\n",
              "      <th>...</th>\n",
              "      <th>WHIP</th>\n",
              "      <th>WRIP</th>\n",
              "      <th>HRBIB</th>\n",
              "      <th>RAVG</th>\n",
              "      <th>FIP</th>\n",
              "      <th>DERA</th>\n",
              "      <th>STUFF</th>\n",
              "      <th>GURU</th>\n",
              "      <th>salary</th>\n",
              "      <th>WAR</th>\n",
              "    </tr>\n",
              "  </thead>\n",
              "  <tbody>\n",
              "    <tr>\n",
              "      <th>0</th>\n",
              "      <td>Jo Zimmermann</td>\n",
              "      <td>R</td>\n",
              "      <td>33</td>\n",
              "      <td>1</td>\n",
              "      <td>DET</td>\n",
              "      <td>AL</td>\n",
              "      <td>Reliever</td>\n",
              "      <td>1</td>\n",
              "      <td>13</td>\n",
              "      <td>0</td>\n",
              "      <td>...</td>\n",
              "      <td>1.52</td>\n",
              "      <td>1.92</td>\n",
              "      <td>0.08</td>\n",
              "      <td>7.15</td>\n",
              "      <td>4.77</td>\n",
              "      <td>4.50</td>\n",
              "      <td>19</td>\n",
              "      <td>31</td>\n",
              "      <td>25.0000</td>\n",
              "      <td>1.2</td>\n",
              "    </tr>\n",
              "    <tr>\n",
              "      <th>1</th>\n",
              "      <td>Br Shaw</td>\n",
              "      <td>R</td>\n",
              "      <td>31</td>\n",
              "      <td>1</td>\n",
              "      <td>COL</td>\n",
              "      <td>NL</td>\n",
              "      <td>Reliever</td>\n",
              "      <td>3</td>\n",
              "      <td>2</td>\n",
              "      <td>0</td>\n",
              "      <td>...</td>\n",
              "      <td>1.36</td>\n",
              "      <td>2.07</td>\n",
              "      <td>0.08</td>\n",
              "      <td>5.50</td>\n",
              "      <td>5.17</td>\n",
              "      <td>5.00</td>\n",
              "      <td>14</td>\n",
              "      <td>16</td>\n",
              "      <td>8.5000</td>\n",
              "      <td>-0.2</td>\n",
              "    </tr>\n",
              "    <tr>\n",
              "      <th>2</th>\n",
              "      <td>Wa Suero</td>\n",
              "      <td>R</td>\n",
              "      <td>27</td>\n",
              "      <td>1</td>\n",
              "      <td>WAS</td>\n",
              "      <td>NL</td>\n",
              "      <td>Reliever</td>\n",
              "      <td>6</td>\n",
              "      <td>9</td>\n",
              "      <td>0</td>\n",
              "      <td>...</td>\n",
              "      <td>1.26</td>\n",
              "      <td>1.07</td>\n",
              "      <td>0.04</td>\n",
              "      <td>4.54</td>\n",
              "      <td>3.06</td>\n",
              "      <td>2.94</td>\n",
              "      <td>164</td>\n",
              "      <td>96</td>\n",
              "      <td>0.5625</td>\n",
              "      <td>1.4</td>\n",
              "    </tr>\n",
              "  </tbody>\n",
              "</table>\n",
              "<p>3 rows × 43 columns</p>\n",
              "</div>\n",
              "      <button class=\"colab-df-convert\" onclick=\"convertToInteractive('df-d198ecdf-ee29-4aa2-b057-357aefce5704')\"\n",
              "              title=\"Convert this dataframe to an interactive table.\"\n",
              "              style=\"display:none;\">\n",
              "        \n",
              "  <svg xmlns=\"http://www.w3.org/2000/svg\" height=\"24px\"viewBox=\"0 0 24 24\"\n",
              "       width=\"24px\">\n",
              "    <path d=\"M0 0h24v24H0V0z\" fill=\"none\"/>\n",
              "    <path d=\"M18.56 5.44l.94 2.06.94-2.06 2.06-.94-2.06-.94-.94-2.06-.94 2.06-2.06.94zm-11 1L8.5 8.5l.94-2.06 2.06-.94-2.06-.94L8.5 2.5l-.94 2.06-2.06.94zm10 10l.94 2.06.94-2.06 2.06-.94-2.06-.94-.94-2.06-.94 2.06-2.06.94z\"/><path d=\"M17.41 7.96l-1.37-1.37c-.4-.4-.92-.59-1.43-.59-.52 0-1.04.2-1.43.59L10.3 9.45l-7.72 7.72c-.78.78-.78 2.05 0 2.83L4 21.41c.39.39.9.59 1.41.59.51 0 1.02-.2 1.41-.59l7.78-7.78 2.81-2.81c.8-.78.8-2.07 0-2.86zM5.41 20L4 18.59l7.72-7.72 1.47 1.35L5.41 20z\"/>\n",
              "  </svg>\n",
              "      </button>\n",
              "      \n",
              "  <style>\n",
              "    .colab-df-container {\n",
              "      display:flex;\n",
              "      flex-wrap:wrap;\n",
              "      gap: 12px;\n",
              "    }\n",
              "\n",
              "    .colab-df-convert {\n",
              "      background-color: #E8F0FE;\n",
              "      border: none;\n",
              "      border-radius: 50%;\n",
              "      cursor: pointer;\n",
              "      display: none;\n",
              "      fill: #1967D2;\n",
              "      height: 32px;\n",
              "      padding: 0 0 0 0;\n",
              "      width: 32px;\n",
              "    }\n",
              "\n",
              "    .colab-df-convert:hover {\n",
              "      background-color: #E2EBFA;\n",
              "      box-shadow: 0px 1px 2px rgba(60, 64, 67, 0.3), 0px 1px 3px 1px rgba(60, 64, 67, 0.15);\n",
              "      fill: #174EA6;\n",
              "    }\n",
              "\n",
              "    [theme=dark] .colab-df-convert {\n",
              "      background-color: #3B4455;\n",
              "      fill: #D2E3FC;\n",
              "    }\n",
              "\n",
              "    [theme=dark] .colab-df-convert:hover {\n",
              "      background-color: #434B5C;\n",
              "      box-shadow: 0px 1px 3px 1px rgba(0, 0, 0, 0.15);\n",
              "      filter: drop-shadow(0px 1px 2px rgba(0, 0, 0, 0.3));\n",
              "      fill: #FFFFFF;\n",
              "    }\n",
              "  </style>\n",
              "\n",
              "      <script>\n",
              "        const buttonEl =\n",
              "          document.querySelector('#df-d198ecdf-ee29-4aa2-b057-357aefce5704 button.colab-df-convert');\n",
              "        buttonEl.style.display =\n",
              "          google.colab.kernel.accessAllowed ? 'block' : 'none';\n",
              "\n",
              "        async function convertToInteractive(key) {\n",
              "          const element = document.querySelector('#df-d198ecdf-ee29-4aa2-b057-357aefce5704');\n",
              "          const dataTable =\n",
              "            await google.colab.kernel.invokeFunction('convertToInteractive',\n",
              "                                                     [key], {});\n",
              "          if (!dataTable) return;\n",
              "\n",
              "          const docLinkHtml = 'Like what you see? Visit the ' +\n",
              "            '<a target=\"_blank\" href=https://colab.research.google.com/notebooks/data_table.ipynb>data table notebook</a>'\n",
              "            + ' to learn more about interactive tables.';\n",
              "          element.innerHTML = '';\n",
              "          dataTable['output_type'] = 'display_data';\n",
              "          await google.colab.output.renderOutput(dataTable, element);\n",
              "          const docLink = document.createElement('div');\n",
              "          docLink.innerHTML = docLinkHtml;\n",
              "          element.appendChild(docLink);\n",
              "        }\n",
              "      </script>\n",
              "    </div>\n",
              "  </div>\n",
              "  "
            ]
          },
          "metadata": {},
          "execution_count": 863
        }
      ]
    },
    {
      "cell_type": "code",
      "source": [
        "#drop unncesary columns from both datasets\n",
        "\n",
        "relievers_train.drop(columns = ['name','stints', 'LG', 'teamID'], inplace = True)\n",
        "relievers_test.drop(columns = ['name','stints', 'LG', 'teamID'], inplace = True)\n",
        "relievers_test.head()"
      ],
      "metadata": {
        "colab": {
          "base_uri": "https://localhost:8080/",
          "height": 235
        },
        "id": "dsqdOljHZXvq",
        "outputId": "67af5f36-df7f-49a2-ac60-4209d0a4269f"
      },
      "execution_count": 864,
      "outputs": [
        {
          "output_type": "execute_result",
          "data": {
            "text/plain": [
              "  throws  age      POS1  W   L  CG  ShO  GP  GS  SV  ...   WHIP    WRIP   \\\n",
              "0      R   33  Reliever  1  13   0    0  23  23   0  ...    1.52    1.92   \n",
              "1      R   31  Reliever  3   2   0    0  70   0   1  ...    1.36    2.07   \n",
              "2      R   27  Reliever  6   9   0    0  78   0   1  ...    1.26    1.07   \n",
              "3      R   34  Reliever  5   3   0    0  80   0   0  ...    0.81    1.45   \n",
              "4      R   26  Reliever  5  10   0    0  24  22   0  ...    1.48    2.27   \n",
              "\n",
              "   HRBIB   RAVG    FIP    DERA    STUFF    GURU     salary  WAR  \n",
              "0   0.08    7.15   4.77    4.50       19      31  25.00000  1.2  \n",
              "1   0.08    5.50   5.17    5.00       14      16   8.50000 -0.2  \n",
              "2   0.04    4.54   3.06    2.94      164      96   0.56250  1.4  \n",
              "3   0.07    2.71   3.57    3.50       76      57   5.50000  1.4  \n",
              "4   0.10    5.38   5.02    4.75       42      27   0.35808  0.2  \n",
              "\n",
              "[5 rows x 39 columns]"
            ],
            "text/html": [
              "\n",
              "  <div id=\"df-4f1854d7-ea50-4e1b-bf75-ae366fe2c1ce\">\n",
              "    <div class=\"colab-df-container\">\n",
              "      <div>\n",
              "<style scoped>\n",
              "    .dataframe tbody tr th:only-of-type {\n",
              "        vertical-align: middle;\n",
              "    }\n",
              "\n",
              "    .dataframe tbody tr th {\n",
              "        vertical-align: top;\n",
              "    }\n",
              "\n",
              "    .dataframe thead th {\n",
              "        text-align: right;\n",
              "    }\n",
              "</style>\n",
              "<table border=\"1\" class=\"dataframe\">\n",
              "  <thead>\n",
              "    <tr style=\"text-align: right;\">\n",
              "      <th></th>\n",
              "      <th>throws</th>\n",
              "      <th>age</th>\n",
              "      <th>POS1</th>\n",
              "      <th>W</th>\n",
              "      <th>L</th>\n",
              "      <th>CG</th>\n",
              "      <th>ShO</th>\n",
              "      <th>GP</th>\n",
              "      <th>GS</th>\n",
              "      <th>SV</th>\n",
              "      <th>...</th>\n",
              "      <th>WHIP</th>\n",
              "      <th>WRIP</th>\n",
              "      <th>HRBIB</th>\n",
              "      <th>RAVG</th>\n",
              "      <th>FIP</th>\n",
              "      <th>DERA</th>\n",
              "      <th>STUFF</th>\n",
              "      <th>GURU</th>\n",
              "      <th>salary</th>\n",
              "      <th>WAR</th>\n",
              "    </tr>\n",
              "  </thead>\n",
              "  <tbody>\n",
              "    <tr>\n",
              "      <th>0</th>\n",
              "      <td>R</td>\n",
              "      <td>33</td>\n",
              "      <td>Reliever</td>\n",
              "      <td>1</td>\n",
              "      <td>13</td>\n",
              "      <td>0</td>\n",
              "      <td>0</td>\n",
              "      <td>23</td>\n",
              "      <td>23</td>\n",
              "      <td>0</td>\n",
              "      <td>...</td>\n",
              "      <td>1.52</td>\n",
              "      <td>1.92</td>\n",
              "      <td>0.08</td>\n",
              "      <td>7.15</td>\n",
              "      <td>4.77</td>\n",
              "      <td>4.50</td>\n",
              "      <td>19</td>\n",
              "      <td>31</td>\n",
              "      <td>25.00000</td>\n",
              "      <td>1.2</td>\n",
              "    </tr>\n",
              "    <tr>\n",
              "      <th>1</th>\n",
              "      <td>R</td>\n",
              "      <td>31</td>\n",
              "      <td>Reliever</td>\n",
              "      <td>3</td>\n",
              "      <td>2</td>\n",
              "      <td>0</td>\n",
              "      <td>0</td>\n",
              "      <td>70</td>\n",
              "      <td>0</td>\n",
              "      <td>1</td>\n",
              "      <td>...</td>\n",
              "      <td>1.36</td>\n",
              "      <td>2.07</td>\n",
              "      <td>0.08</td>\n",
              "      <td>5.50</td>\n",
              "      <td>5.17</td>\n",
              "      <td>5.00</td>\n",
              "      <td>14</td>\n",
              "      <td>16</td>\n",
              "      <td>8.50000</td>\n",
              "      <td>-0.2</td>\n",
              "    </tr>\n",
              "    <tr>\n",
              "      <th>2</th>\n",
              "      <td>R</td>\n",
              "      <td>27</td>\n",
              "      <td>Reliever</td>\n",
              "      <td>6</td>\n",
              "      <td>9</td>\n",
              "      <td>0</td>\n",
              "      <td>0</td>\n",
              "      <td>78</td>\n",
              "      <td>0</td>\n",
              "      <td>1</td>\n",
              "      <td>...</td>\n",
              "      <td>1.26</td>\n",
              "      <td>1.07</td>\n",
              "      <td>0.04</td>\n",
              "      <td>4.54</td>\n",
              "      <td>3.06</td>\n",
              "      <td>2.94</td>\n",
              "      <td>164</td>\n",
              "      <td>96</td>\n",
              "      <td>0.56250</td>\n",
              "      <td>1.4</td>\n",
              "    </tr>\n",
              "    <tr>\n",
              "      <th>3</th>\n",
              "      <td>R</td>\n",
              "      <td>34</td>\n",
              "      <td>Reliever</td>\n",
              "      <td>5</td>\n",
              "      <td>3</td>\n",
              "      <td>0</td>\n",
              "      <td>0</td>\n",
              "      <td>80</td>\n",
              "      <td>0</td>\n",
              "      <td>0</td>\n",
              "      <td>...</td>\n",
              "      <td>0.81</td>\n",
              "      <td>1.45</td>\n",
              "      <td>0.07</td>\n",
              "      <td>2.71</td>\n",
              "      <td>3.57</td>\n",
              "      <td>3.50</td>\n",
              "      <td>76</td>\n",
              "      <td>57</td>\n",
              "      <td>5.50000</td>\n",
              "      <td>1.4</td>\n",
              "    </tr>\n",
              "    <tr>\n",
              "      <th>4</th>\n",
              "      <td>R</td>\n",
              "      <td>26</td>\n",
              "      <td>Reliever</td>\n",
              "      <td>5</td>\n",
              "      <td>10</td>\n",
              "      <td>0</td>\n",
              "      <td>0</td>\n",
              "      <td>24</td>\n",
              "      <td>22</td>\n",
              "      <td>0</td>\n",
              "      <td>...</td>\n",
              "      <td>1.48</td>\n",
              "      <td>2.27</td>\n",
              "      <td>0.10</td>\n",
              "      <td>5.38</td>\n",
              "      <td>5.02</td>\n",
              "      <td>4.75</td>\n",
              "      <td>42</td>\n",
              "      <td>27</td>\n",
              "      <td>0.35808</td>\n",
              "      <td>0.2</td>\n",
              "    </tr>\n",
              "  </tbody>\n",
              "</table>\n",
              "<p>5 rows × 39 columns</p>\n",
              "</div>\n",
              "      <button class=\"colab-df-convert\" onclick=\"convertToInteractive('df-4f1854d7-ea50-4e1b-bf75-ae366fe2c1ce')\"\n",
              "              title=\"Convert this dataframe to an interactive table.\"\n",
              "              style=\"display:none;\">\n",
              "        \n",
              "  <svg xmlns=\"http://www.w3.org/2000/svg\" height=\"24px\"viewBox=\"0 0 24 24\"\n",
              "       width=\"24px\">\n",
              "    <path d=\"M0 0h24v24H0V0z\" fill=\"none\"/>\n",
              "    <path d=\"M18.56 5.44l.94 2.06.94-2.06 2.06-.94-2.06-.94-.94-2.06-.94 2.06-2.06.94zm-11 1L8.5 8.5l.94-2.06 2.06-.94-2.06-.94L8.5 2.5l-.94 2.06-2.06.94zm10 10l.94 2.06.94-2.06 2.06-.94-2.06-.94-.94-2.06-.94 2.06-2.06.94z\"/><path d=\"M17.41 7.96l-1.37-1.37c-.4-.4-.92-.59-1.43-.59-.52 0-1.04.2-1.43.59L10.3 9.45l-7.72 7.72c-.78.78-.78 2.05 0 2.83L4 21.41c.39.39.9.59 1.41.59.51 0 1.02-.2 1.41-.59l7.78-7.78 2.81-2.81c.8-.78.8-2.07 0-2.86zM5.41 20L4 18.59l7.72-7.72 1.47 1.35L5.41 20z\"/>\n",
              "  </svg>\n",
              "      </button>\n",
              "      \n",
              "  <style>\n",
              "    .colab-df-container {\n",
              "      display:flex;\n",
              "      flex-wrap:wrap;\n",
              "      gap: 12px;\n",
              "    }\n",
              "\n",
              "    .colab-df-convert {\n",
              "      background-color: #E8F0FE;\n",
              "      border: none;\n",
              "      border-radius: 50%;\n",
              "      cursor: pointer;\n",
              "      display: none;\n",
              "      fill: #1967D2;\n",
              "      height: 32px;\n",
              "      padding: 0 0 0 0;\n",
              "      width: 32px;\n",
              "    }\n",
              "\n",
              "    .colab-df-convert:hover {\n",
              "      background-color: #E2EBFA;\n",
              "      box-shadow: 0px 1px 2px rgba(60, 64, 67, 0.3), 0px 1px 3px 1px rgba(60, 64, 67, 0.15);\n",
              "      fill: #174EA6;\n",
              "    }\n",
              "\n",
              "    [theme=dark] .colab-df-convert {\n",
              "      background-color: #3B4455;\n",
              "      fill: #D2E3FC;\n",
              "    }\n",
              "\n",
              "    [theme=dark] .colab-df-convert:hover {\n",
              "      background-color: #434B5C;\n",
              "      box-shadow: 0px 1px 3px 1px rgba(0, 0, 0, 0.15);\n",
              "      filter: drop-shadow(0px 1px 2px rgba(0, 0, 0, 0.3));\n",
              "      fill: #FFFFFF;\n",
              "    }\n",
              "  </style>\n",
              "\n",
              "      <script>\n",
              "        const buttonEl =\n",
              "          document.querySelector('#df-4f1854d7-ea50-4e1b-bf75-ae366fe2c1ce button.colab-df-convert');\n",
              "        buttonEl.style.display =\n",
              "          google.colab.kernel.accessAllowed ? 'block' : 'none';\n",
              "\n",
              "        async function convertToInteractive(key) {\n",
              "          const element = document.querySelector('#df-4f1854d7-ea50-4e1b-bf75-ae366fe2c1ce');\n",
              "          const dataTable =\n",
              "            await google.colab.kernel.invokeFunction('convertToInteractive',\n",
              "                                                     [key], {});\n",
              "          if (!dataTable) return;\n",
              "\n",
              "          const docLinkHtml = 'Like what you see? Visit the ' +\n",
              "            '<a target=\"_blank\" href=https://colab.research.google.com/notebooks/data_table.ipynb>data table notebook</a>'\n",
              "            + ' to learn more about interactive tables.';\n",
              "          element.innerHTML = '';\n",
              "          dataTable['output_type'] = 'display_data';\n",
              "          await google.colab.output.renderOutput(dataTable, element);\n",
              "          const docLink = document.createElement('div');\n",
              "          docLink.innerHTML = docLinkHtml;\n",
              "          element.appendChild(docLink);\n",
              "        }\n",
              "      </script>\n",
              "    </div>\n",
              "  </div>\n",
              "  "
            ]
          },
          "metadata": {},
          "execution_count": 864
        }
      ]
    },
    {
      "cell_type": "markdown",
      "source": [
        "# Reminding ourselves of the train and test data shapes (we performed an 80-20 split previously then normalized both independently)"
      ],
      "metadata": {
        "id": "XiZ7zpNQdl-j"
      }
    },
    {
      "cell_type": "code",
      "source": [
        "print('Position Players Train:')\n",
        "print('Train dataset dimensions: ', relievers_train.shape, '\\n')\n",
        "\n",
        "print('Position Players Test:')\n",
        "print('Test dataset dimensions: ', relievers_test.shape, '\\n')"
      ],
      "metadata": {
        "colab": {
          "base_uri": "https://localhost:8080/"
        },
        "id": "CYOaYX2cdubH",
        "outputId": "18d5f6f4-dceb-481f-c7b1-242a7f13a173"
      },
      "execution_count": 865,
      "outputs": [
        {
          "output_type": "stream",
          "name": "stdout",
          "text": [
            "Position Players Train:\n",
            "Train dataset dimensions:  (242, 39) \n",
            "\n",
            "Position Players Test:\n",
            "Test dataset dimensions:  (61, 39) \n",
            "\n"
          ]
        }
      ]
    },
    {
      "cell_type": "markdown",
      "source": [
        "# Add on feature for under rookie contract. If a player is 25 or under they are on their rookie contract else they are typically not"
      ],
      "metadata": {
        "id": "aOWJ1ppTLvEa"
      }
    },
    {
      "cell_type": "code",
      "source": [
        "relievers_train['Rookie contract'] = ''\n",
        "relievers_test['Rookie contract'] = ''\n",
        "\n",
        "for index, row in relievers_train.iterrows():\n",
        "  if relievers_train.at[index,'age'] <= 25:\n",
        "    relievers_train.at[index,'Rookie contract'] = 1\n",
        "  else:\n",
        "    relievers_train.at[index,'Rookie contract'] = 0\n",
        "\n",
        "for index, row in relievers_test.iterrows():\n",
        "  if relievers_test.at[index,'age'] <= 25:\n",
        "    relievers_test.at[index,'Rookie contract'] = 1\n",
        "  else:\n",
        "    relievers_test.at[index,'Rookie contract'] = 0"
      ],
      "metadata": {
        "id": "GhNKHo3eL1Qx"
      },
      "execution_count": 866,
      "outputs": []
    },
    {
      "cell_type": "markdown",
      "source": [
        "# One-hot encode position:"
      ],
      "metadata": {
        "id": "o5lSMgEvKvLV"
      }
    },
    {
      "cell_type": "code",
      "source": [
        "dummy_position = pd.get_dummies(relievers_train['POS1'])\n",
        "dummy_throws = pd.get_dummies(relievers_train['throws'], prefix = 'throws')\n",
        "items = [dummy_position, dummy_throws]\n",
        "for item in items:\n",
        "  relievers_train = pd.merge(left = relievers_train, right = item, left_index = True, right_index = True)\n",
        "\n",
        "relievers_train.drop(columns = ['POS1', 'throws'], axis = 1, inplace = True)"
      ],
      "metadata": {
        "id": "1ozMyZ1LKwdM"
      },
      "execution_count": 867,
      "outputs": []
    },
    {
      "cell_type": "code",
      "source": [
        "dummy_pos = pd.get_dummies(relievers_test['POS1'])\n",
        "dummy_throw = pd.get_dummies(relievers_test['throws'], prefix = 'throws')\n",
        "items = [dummy_pos, dummy_throw]\n",
        "\n",
        "for item in items:\n",
        "  relievers_test = pd.merge(left = relievers_test, right = item, left_index = True, right_index = True)\n",
        "\n",
        "relievers_test.drop(columns = ['POS1', 'throws'], axis = 1, inplace = True)"
      ],
      "metadata": {
        "id": "vGKArPa-LDKe"
      },
      "execution_count": 868,
      "outputs": []
    },
    {
      "cell_type": "code",
      "source": [
        "#display both  dataframes to ensure we have done this correctly\n",
        "relievers_train.head(3)"
      ],
      "metadata": {
        "colab": {
          "base_uri": "https://localhost:8080/",
          "height": 173
        },
        "id": "BM68Glr_LDS0",
        "outputId": "714e766d-fe41-4bd6-81f8-10de3bccc869"
      },
      "execution_count": 869,
      "outputs": [
        {
          "output_type": "execute_result",
          "data": {
            "text/plain": [
              "   age  W  L  CG  ShO  GP  GS  SV  GF  IPOuts  ...   FIP    DERA    STUFF   \\\n",
              "0   21  2  6   0    0  19  15   0   0     243  ...   6.71    6.27        6   \n",
              "1   26  4  6   1    0  30  13   1   8     281  ...   5.45    5.09       28   \n",
              "2   27  3  2   0    0  66   0   1  10     222  ...   3.04    2.85      240   \n",
              "\n",
              "    GURU     salary  WAR  Rookie contract  Reliever  throws_L  throws_R  \n",
              "0      9   0.265576 -0.6                1         1         1         0  \n",
              "1     19   0.440455 -0.1                0         1         0         1  \n",
              "2    108   0.522200  1.5                0         1         0         1  \n",
              "\n",
              "[3 rows x 41 columns]"
            ],
            "text/html": [
              "\n",
              "  <div id=\"df-45b51740-1132-4351-ade9-e08ad43eea0b\">\n",
              "    <div class=\"colab-df-container\">\n",
              "      <div>\n",
              "<style scoped>\n",
              "    .dataframe tbody tr th:only-of-type {\n",
              "        vertical-align: middle;\n",
              "    }\n",
              "\n",
              "    .dataframe tbody tr th {\n",
              "        vertical-align: top;\n",
              "    }\n",
              "\n",
              "    .dataframe thead th {\n",
              "        text-align: right;\n",
              "    }\n",
              "</style>\n",
              "<table border=\"1\" class=\"dataframe\">\n",
              "  <thead>\n",
              "    <tr style=\"text-align: right;\">\n",
              "      <th></th>\n",
              "      <th>age</th>\n",
              "      <th>W</th>\n",
              "      <th>L</th>\n",
              "      <th>CG</th>\n",
              "      <th>ShO</th>\n",
              "      <th>GP</th>\n",
              "      <th>GS</th>\n",
              "      <th>SV</th>\n",
              "      <th>GF</th>\n",
              "      <th>IPOuts</th>\n",
              "      <th>...</th>\n",
              "      <th>FIP</th>\n",
              "      <th>DERA</th>\n",
              "      <th>STUFF</th>\n",
              "      <th>GURU</th>\n",
              "      <th>salary</th>\n",
              "      <th>WAR</th>\n",
              "      <th>Rookie contract</th>\n",
              "      <th>Reliever</th>\n",
              "      <th>throws_L</th>\n",
              "      <th>throws_R</th>\n",
              "    </tr>\n",
              "  </thead>\n",
              "  <tbody>\n",
              "    <tr>\n",
              "      <th>0</th>\n",
              "      <td>21</td>\n",
              "      <td>2</td>\n",
              "      <td>6</td>\n",
              "      <td>0</td>\n",
              "      <td>0</td>\n",
              "      <td>19</td>\n",
              "      <td>15</td>\n",
              "      <td>0</td>\n",
              "      <td>0</td>\n",
              "      <td>243</td>\n",
              "      <td>...</td>\n",
              "      <td>6.71</td>\n",
              "      <td>6.27</td>\n",
              "      <td>6</td>\n",
              "      <td>9</td>\n",
              "      <td>0.265576</td>\n",
              "      <td>-0.6</td>\n",
              "      <td>1</td>\n",
              "      <td>1</td>\n",
              "      <td>1</td>\n",
              "      <td>0</td>\n",
              "    </tr>\n",
              "    <tr>\n",
              "      <th>1</th>\n",
              "      <td>26</td>\n",
              "      <td>4</td>\n",
              "      <td>6</td>\n",
              "      <td>1</td>\n",
              "      <td>0</td>\n",
              "      <td>30</td>\n",
              "      <td>13</td>\n",
              "      <td>1</td>\n",
              "      <td>8</td>\n",
              "      <td>281</td>\n",
              "      <td>...</td>\n",
              "      <td>5.45</td>\n",
              "      <td>5.09</td>\n",
              "      <td>28</td>\n",
              "      <td>19</td>\n",
              "      <td>0.440455</td>\n",
              "      <td>-0.1</td>\n",
              "      <td>0</td>\n",
              "      <td>1</td>\n",
              "      <td>0</td>\n",
              "      <td>1</td>\n",
              "    </tr>\n",
              "    <tr>\n",
              "      <th>2</th>\n",
              "      <td>27</td>\n",
              "      <td>3</td>\n",
              "      <td>2</td>\n",
              "      <td>0</td>\n",
              "      <td>0</td>\n",
              "      <td>66</td>\n",
              "      <td>0</td>\n",
              "      <td>1</td>\n",
              "      <td>10</td>\n",
              "      <td>222</td>\n",
              "      <td>...</td>\n",
              "      <td>3.04</td>\n",
              "      <td>2.85</td>\n",
              "      <td>240</td>\n",
              "      <td>108</td>\n",
              "      <td>0.522200</td>\n",
              "      <td>1.5</td>\n",
              "      <td>0</td>\n",
              "      <td>1</td>\n",
              "      <td>0</td>\n",
              "      <td>1</td>\n",
              "    </tr>\n",
              "  </tbody>\n",
              "</table>\n",
              "<p>3 rows × 41 columns</p>\n",
              "</div>\n",
              "      <button class=\"colab-df-convert\" onclick=\"convertToInteractive('df-45b51740-1132-4351-ade9-e08ad43eea0b')\"\n",
              "              title=\"Convert this dataframe to an interactive table.\"\n",
              "              style=\"display:none;\">\n",
              "        \n",
              "  <svg xmlns=\"http://www.w3.org/2000/svg\" height=\"24px\"viewBox=\"0 0 24 24\"\n",
              "       width=\"24px\">\n",
              "    <path d=\"M0 0h24v24H0V0z\" fill=\"none\"/>\n",
              "    <path d=\"M18.56 5.44l.94 2.06.94-2.06 2.06-.94-2.06-.94-.94-2.06-.94 2.06-2.06.94zm-11 1L8.5 8.5l.94-2.06 2.06-.94-2.06-.94L8.5 2.5l-.94 2.06-2.06.94zm10 10l.94 2.06.94-2.06 2.06-.94-2.06-.94-.94-2.06-.94 2.06-2.06.94z\"/><path d=\"M17.41 7.96l-1.37-1.37c-.4-.4-.92-.59-1.43-.59-.52 0-1.04.2-1.43.59L10.3 9.45l-7.72 7.72c-.78.78-.78 2.05 0 2.83L4 21.41c.39.39.9.59 1.41.59.51 0 1.02-.2 1.41-.59l7.78-7.78 2.81-2.81c.8-.78.8-2.07 0-2.86zM5.41 20L4 18.59l7.72-7.72 1.47 1.35L5.41 20z\"/>\n",
              "  </svg>\n",
              "      </button>\n",
              "      \n",
              "  <style>\n",
              "    .colab-df-container {\n",
              "      display:flex;\n",
              "      flex-wrap:wrap;\n",
              "      gap: 12px;\n",
              "    }\n",
              "\n",
              "    .colab-df-convert {\n",
              "      background-color: #E8F0FE;\n",
              "      border: none;\n",
              "      border-radius: 50%;\n",
              "      cursor: pointer;\n",
              "      display: none;\n",
              "      fill: #1967D2;\n",
              "      height: 32px;\n",
              "      padding: 0 0 0 0;\n",
              "      width: 32px;\n",
              "    }\n",
              "\n",
              "    .colab-df-convert:hover {\n",
              "      background-color: #E2EBFA;\n",
              "      box-shadow: 0px 1px 2px rgba(60, 64, 67, 0.3), 0px 1px 3px 1px rgba(60, 64, 67, 0.15);\n",
              "      fill: #174EA6;\n",
              "    }\n",
              "\n",
              "    [theme=dark] .colab-df-convert {\n",
              "      background-color: #3B4455;\n",
              "      fill: #D2E3FC;\n",
              "    }\n",
              "\n",
              "    [theme=dark] .colab-df-convert:hover {\n",
              "      background-color: #434B5C;\n",
              "      box-shadow: 0px 1px 3px 1px rgba(0, 0, 0, 0.15);\n",
              "      filter: drop-shadow(0px 1px 2px rgba(0, 0, 0, 0.3));\n",
              "      fill: #FFFFFF;\n",
              "    }\n",
              "  </style>\n",
              "\n",
              "      <script>\n",
              "        const buttonEl =\n",
              "          document.querySelector('#df-45b51740-1132-4351-ade9-e08ad43eea0b button.colab-df-convert');\n",
              "        buttonEl.style.display =\n",
              "          google.colab.kernel.accessAllowed ? 'block' : 'none';\n",
              "\n",
              "        async function convertToInteractive(key) {\n",
              "          const element = document.querySelector('#df-45b51740-1132-4351-ade9-e08ad43eea0b');\n",
              "          const dataTable =\n",
              "            await google.colab.kernel.invokeFunction('convertToInteractive',\n",
              "                                                     [key], {});\n",
              "          if (!dataTable) return;\n",
              "\n",
              "          const docLinkHtml = 'Like what you see? Visit the ' +\n",
              "            '<a target=\"_blank\" href=https://colab.research.google.com/notebooks/data_table.ipynb>data table notebook</a>'\n",
              "            + ' to learn more about interactive tables.';\n",
              "          element.innerHTML = '';\n",
              "          dataTable['output_type'] = 'display_data';\n",
              "          await google.colab.output.renderOutput(dataTable, element);\n",
              "          const docLink = document.createElement('div');\n",
              "          docLink.innerHTML = docLinkHtml;\n",
              "          element.appendChild(docLink);\n",
              "        }\n",
              "      </script>\n",
              "    </div>\n",
              "  </div>\n",
              "  "
            ]
          },
          "metadata": {},
          "execution_count": 869
        }
      ]
    },
    {
      "cell_type": "code",
      "source": [
        "relievers_test.head(3)"
      ],
      "metadata": {
        "colab": {
          "base_uri": "https://localhost:8080/",
          "height": 173
        },
        "id": "5q0yOt0EMUXg",
        "outputId": "4e3d7b34-5719-4a4d-c80d-c03659845a3a"
      },
      "execution_count": 870,
      "outputs": [
        {
          "output_type": "execute_result",
          "data": {
            "text/plain": [
              "   age  W   L  CG  ShO  GP  GS  SV  GF  IPOuts  ...   FIP    DERA    STUFF   \\\n",
              "0   33  1  13   0    0  23  23   0   0     336  ...   4.77    4.50       19   \n",
              "1   31  3   2   0    0  70   0   1  18     216  ...   5.17    5.00       14   \n",
              "2   27  6   9   0    0  78   0   1  10     214  ...   3.06    2.94      164   \n",
              "\n",
              "    GURU    salary  WAR  Rookie contract  Reliever  throws_L  throws_R  \n",
              "0      31  25.0000  1.2                0         1         0         1  \n",
              "1      16   8.5000 -0.2                0         1         0         1  \n",
              "2      96   0.5625  1.4                0         1         0         1  \n",
              "\n",
              "[3 rows x 41 columns]"
            ],
            "text/html": [
              "\n",
              "  <div id=\"df-de257ace-307f-449e-96c5-ed4846d96019\">\n",
              "    <div class=\"colab-df-container\">\n",
              "      <div>\n",
              "<style scoped>\n",
              "    .dataframe tbody tr th:only-of-type {\n",
              "        vertical-align: middle;\n",
              "    }\n",
              "\n",
              "    .dataframe tbody tr th {\n",
              "        vertical-align: top;\n",
              "    }\n",
              "\n",
              "    .dataframe thead th {\n",
              "        text-align: right;\n",
              "    }\n",
              "</style>\n",
              "<table border=\"1\" class=\"dataframe\">\n",
              "  <thead>\n",
              "    <tr style=\"text-align: right;\">\n",
              "      <th></th>\n",
              "      <th>age</th>\n",
              "      <th>W</th>\n",
              "      <th>L</th>\n",
              "      <th>CG</th>\n",
              "      <th>ShO</th>\n",
              "      <th>GP</th>\n",
              "      <th>GS</th>\n",
              "      <th>SV</th>\n",
              "      <th>GF</th>\n",
              "      <th>IPOuts</th>\n",
              "      <th>...</th>\n",
              "      <th>FIP</th>\n",
              "      <th>DERA</th>\n",
              "      <th>STUFF</th>\n",
              "      <th>GURU</th>\n",
              "      <th>salary</th>\n",
              "      <th>WAR</th>\n",
              "      <th>Rookie contract</th>\n",
              "      <th>Reliever</th>\n",
              "      <th>throws_L</th>\n",
              "      <th>throws_R</th>\n",
              "    </tr>\n",
              "  </thead>\n",
              "  <tbody>\n",
              "    <tr>\n",
              "      <th>0</th>\n",
              "      <td>33</td>\n",
              "      <td>1</td>\n",
              "      <td>13</td>\n",
              "      <td>0</td>\n",
              "      <td>0</td>\n",
              "      <td>23</td>\n",
              "      <td>23</td>\n",
              "      <td>0</td>\n",
              "      <td>0</td>\n",
              "      <td>336</td>\n",
              "      <td>...</td>\n",
              "      <td>4.77</td>\n",
              "      <td>4.50</td>\n",
              "      <td>19</td>\n",
              "      <td>31</td>\n",
              "      <td>25.0000</td>\n",
              "      <td>1.2</td>\n",
              "      <td>0</td>\n",
              "      <td>1</td>\n",
              "      <td>0</td>\n",
              "      <td>1</td>\n",
              "    </tr>\n",
              "    <tr>\n",
              "      <th>1</th>\n",
              "      <td>31</td>\n",
              "      <td>3</td>\n",
              "      <td>2</td>\n",
              "      <td>0</td>\n",
              "      <td>0</td>\n",
              "      <td>70</td>\n",
              "      <td>0</td>\n",
              "      <td>1</td>\n",
              "      <td>18</td>\n",
              "      <td>216</td>\n",
              "      <td>...</td>\n",
              "      <td>5.17</td>\n",
              "      <td>5.00</td>\n",
              "      <td>14</td>\n",
              "      <td>16</td>\n",
              "      <td>8.5000</td>\n",
              "      <td>-0.2</td>\n",
              "      <td>0</td>\n",
              "      <td>1</td>\n",
              "      <td>0</td>\n",
              "      <td>1</td>\n",
              "    </tr>\n",
              "    <tr>\n",
              "      <th>2</th>\n",
              "      <td>27</td>\n",
              "      <td>6</td>\n",
              "      <td>9</td>\n",
              "      <td>0</td>\n",
              "      <td>0</td>\n",
              "      <td>78</td>\n",
              "      <td>0</td>\n",
              "      <td>1</td>\n",
              "      <td>10</td>\n",
              "      <td>214</td>\n",
              "      <td>...</td>\n",
              "      <td>3.06</td>\n",
              "      <td>2.94</td>\n",
              "      <td>164</td>\n",
              "      <td>96</td>\n",
              "      <td>0.5625</td>\n",
              "      <td>1.4</td>\n",
              "      <td>0</td>\n",
              "      <td>1</td>\n",
              "      <td>0</td>\n",
              "      <td>1</td>\n",
              "    </tr>\n",
              "  </tbody>\n",
              "</table>\n",
              "<p>3 rows × 41 columns</p>\n",
              "</div>\n",
              "      <button class=\"colab-df-convert\" onclick=\"convertToInteractive('df-de257ace-307f-449e-96c5-ed4846d96019')\"\n",
              "              title=\"Convert this dataframe to an interactive table.\"\n",
              "              style=\"display:none;\">\n",
              "        \n",
              "  <svg xmlns=\"http://www.w3.org/2000/svg\" height=\"24px\"viewBox=\"0 0 24 24\"\n",
              "       width=\"24px\">\n",
              "    <path d=\"M0 0h24v24H0V0z\" fill=\"none\"/>\n",
              "    <path d=\"M18.56 5.44l.94 2.06.94-2.06 2.06-.94-2.06-.94-.94-2.06-.94 2.06-2.06.94zm-11 1L8.5 8.5l.94-2.06 2.06-.94-2.06-.94L8.5 2.5l-.94 2.06-2.06.94zm10 10l.94 2.06.94-2.06 2.06-.94-2.06-.94-.94-2.06-.94 2.06-2.06.94z\"/><path d=\"M17.41 7.96l-1.37-1.37c-.4-.4-.92-.59-1.43-.59-.52 0-1.04.2-1.43.59L10.3 9.45l-7.72 7.72c-.78.78-.78 2.05 0 2.83L4 21.41c.39.39.9.59 1.41.59.51 0 1.02-.2 1.41-.59l7.78-7.78 2.81-2.81c.8-.78.8-2.07 0-2.86zM5.41 20L4 18.59l7.72-7.72 1.47 1.35L5.41 20z\"/>\n",
              "  </svg>\n",
              "      </button>\n",
              "      \n",
              "  <style>\n",
              "    .colab-df-container {\n",
              "      display:flex;\n",
              "      flex-wrap:wrap;\n",
              "      gap: 12px;\n",
              "    }\n",
              "\n",
              "    .colab-df-convert {\n",
              "      background-color: #E8F0FE;\n",
              "      border: none;\n",
              "      border-radius: 50%;\n",
              "      cursor: pointer;\n",
              "      display: none;\n",
              "      fill: #1967D2;\n",
              "      height: 32px;\n",
              "      padding: 0 0 0 0;\n",
              "      width: 32px;\n",
              "    }\n",
              "\n",
              "    .colab-df-convert:hover {\n",
              "      background-color: #E2EBFA;\n",
              "      box-shadow: 0px 1px 2px rgba(60, 64, 67, 0.3), 0px 1px 3px 1px rgba(60, 64, 67, 0.15);\n",
              "      fill: #174EA6;\n",
              "    }\n",
              "\n",
              "    [theme=dark] .colab-df-convert {\n",
              "      background-color: #3B4455;\n",
              "      fill: #D2E3FC;\n",
              "    }\n",
              "\n",
              "    [theme=dark] .colab-df-convert:hover {\n",
              "      background-color: #434B5C;\n",
              "      box-shadow: 0px 1px 3px 1px rgba(0, 0, 0, 0.15);\n",
              "      filter: drop-shadow(0px 1px 2px rgba(0, 0, 0, 0.3));\n",
              "      fill: #FFFFFF;\n",
              "    }\n",
              "  </style>\n",
              "\n",
              "      <script>\n",
              "        const buttonEl =\n",
              "          document.querySelector('#df-de257ace-307f-449e-96c5-ed4846d96019 button.colab-df-convert');\n",
              "        buttonEl.style.display =\n",
              "          google.colab.kernel.accessAllowed ? 'block' : 'none';\n",
              "\n",
              "        async function convertToInteractive(key) {\n",
              "          const element = document.querySelector('#df-de257ace-307f-449e-96c5-ed4846d96019');\n",
              "          const dataTable =\n",
              "            await google.colab.kernel.invokeFunction('convertToInteractive',\n",
              "                                                     [key], {});\n",
              "          if (!dataTable) return;\n",
              "\n",
              "          const docLinkHtml = 'Like what you see? Visit the ' +\n",
              "            '<a target=\"_blank\" href=https://colab.research.google.com/notebooks/data_table.ipynb>data table notebook</a>'\n",
              "            + ' to learn more about interactive tables.';\n",
              "          element.innerHTML = '';\n",
              "          dataTable['output_type'] = 'display_data';\n",
              "          await google.colab.output.renderOutput(dataTable, element);\n",
              "          const docLink = document.createElement('div');\n",
              "          docLink.innerHTML = docLinkHtml;\n",
              "          element.appendChild(docLink);\n",
              "        }\n",
              "      </script>\n",
              "    </div>\n",
              "  </div>\n",
              "  "
            ]
          },
          "metadata": {},
          "execution_count": 870
        }
      ]
    },
    {
      "cell_type": "code",
      "source": [
        "#pitchers train has two invalid entries which are causing issues. We will drop these rows\n",
        "\n",
        "#one value occurs in row 87\n",
        "print(relievers_train.at[87, ' HR9 '])\n",
        "relievers_train = relievers_train.drop(87)\n",
        "\n",
        "#the other occurs in row 177\n",
        "print(relievers_train.at[177, ' GURU '])\n",
        "relievers_train = relievers_train.drop(177)\n",
        "relievers_train = relievers_train.reset_index(drop = True)"
      ],
      "metadata": {
        "colab": {
          "base_uri": "https://localhost:8080/"
        },
        "id": "Lrau_wC4NeEe",
        "outputId": "5fd9caec-2d26-46aa-ce8d-39bed1c1e764"
      },
      "execution_count": 871,
      "outputs": [
        {
          "output_type": "stream",
          "name": "stdout",
          "text": [
            " -   \n",
            " 1,325 \n"
          ]
        }
      ]
    },
    {
      "cell_type": "code",
      "source": [
        "relievers_test.head(10)"
      ],
      "metadata": {
        "colab": {
          "base_uri": "https://localhost:8080/",
          "height": 392
        },
        "id": "EsYoWTC-Pxwo",
        "outputId": "418dd4f8-2d5f-450c-a05f-2fa349b4b760"
      },
      "execution_count": 872,
      "outputs": [
        {
          "output_type": "execute_result",
          "data": {
            "text/plain": [
              "   age  W   L  CG  ShO  GP  GS  SV  GF  IPOuts  ...   FIP    DERA    STUFF   \\\n",
              "0   33  1  13   0    0  23  23   0   0     336  ...   4.77    4.50       19   \n",
              "1   31  3   2   0    0  70   0   1  18     216  ...   5.17    5.00       14   \n",
              "2   27  6   9   0    0  78   0   1  10     214  ...   3.06    2.94      164   \n",
              "3   34  5   3   0    0  80   0   0   6     249  ...   3.57    3.50       76   \n",
              "4   26  5  10   0    0  24  22   0   0     351  ...   5.02    4.75       42   \n",
              "5   35  0   1   0    0  11   4   0   1      48  ...   6.64    6.54        0   \n",
              "6   28  3   1   0    0  52   0   1  13     148  ...   4.90    4.77       18   \n",
              "7   28  1   3   0    0   7   7   0   0     107  ...   6.37    6.04        7   \n",
              "8   27  2   1   0    0  43   0   1  14     243  ...   4.85    4.67       38   \n",
              "9   26  3   5   0    0  14  14   0   0     219  ...   3.90    3.72      243   \n",
              "\n",
              "    GURU      salary  WAR  Rookie contract  Reliever  throws_L  throws_R  \n",
              "0      31  25.000000  1.2                0         1         0         1  \n",
              "1      16   8.500000 -0.2                0         1         0         1  \n",
              "2      96   0.562500  1.4                0         1         0         1  \n",
              "3      57   5.500000  1.4                0         1         0         1  \n",
              "4      27   0.358080  0.2                0         1         0         1  \n",
              "5       2   2.000000 -0.2                0         1         0         1  \n",
              "6      15   0.367032 -0.2                0         1         0         1  \n",
              "7       5   9.650000 -0.1                0         1         1         0  \n",
              "8      22   0.578975  0.0                0         1         0         1  \n",
              "9      44   0.566700  1.2                0         1         0         1  \n",
              "\n",
              "[10 rows x 41 columns]"
            ],
            "text/html": [
              "\n",
              "  <div id=\"df-1fac17cb-47ea-4989-bb27-35c0866a8ce9\">\n",
              "    <div class=\"colab-df-container\">\n",
              "      <div>\n",
              "<style scoped>\n",
              "    .dataframe tbody tr th:only-of-type {\n",
              "        vertical-align: middle;\n",
              "    }\n",
              "\n",
              "    .dataframe tbody tr th {\n",
              "        vertical-align: top;\n",
              "    }\n",
              "\n",
              "    .dataframe thead th {\n",
              "        text-align: right;\n",
              "    }\n",
              "</style>\n",
              "<table border=\"1\" class=\"dataframe\">\n",
              "  <thead>\n",
              "    <tr style=\"text-align: right;\">\n",
              "      <th></th>\n",
              "      <th>age</th>\n",
              "      <th>W</th>\n",
              "      <th>L</th>\n",
              "      <th>CG</th>\n",
              "      <th>ShO</th>\n",
              "      <th>GP</th>\n",
              "      <th>GS</th>\n",
              "      <th>SV</th>\n",
              "      <th>GF</th>\n",
              "      <th>IPOuts</th>\n",
              "      <th>...</th>\n",
              "      <th>FIP</th>\n",
              "      <th>DERA</th>\n",
              "      <th>STUFF</th>\n",
              "      <th>GURU</th>\n",
              "      <th>salary</th>\n",
              "      <th>WAR</th>\n",
              "      <th>Rookie contract</th>\n",
              "      <th>Reliever</th>\n",
              "      <th>throws_L</th>\n",
              "      <th>throws_R</th>\n",
              "    </tr>\n",
              "  </thead>\n",
              "  <tbody>\n",
              "    <tr>\n",
              "      <th>0</th>\n",
              "      <td>33</td>\n",
              "      <td>1</td>\n",
              "      <td>13</td>\n",
              "      <td>0</td>\n",
              "      <td>0</td>\n",
              "      <td>23</td>\n",
              "      <td>23</td>\n",
              "      <td>0</td>\n",
              "      <td>0</td>\n",
              "      <td>336</td>\n",
              "      <td>...</td>\n",
              "      <td>4.77</td>\n",
              "      <td>4.50</td>\n",
              "      <td>19</td>\n",
              "      <td>31</td>\n",
              "      <td>25.000000</td>\n",
              "      <td>1.2</td>\n",
              "      <td>0</td>\n",
              "      <td>1</td>\n",
              "      <td>0</td>\n",
              "      <td>1</td>\n",
              "    </tr>\n",
              "    <tr>\n",
              "      <th>1</th>\n",
              "      <td>31</td>\n",
              "      <td>3</td>\n",
              "      <td>2</td>\n",
              "      <td>0</td>\n",
              "      <td>0</td>\n",
              "      <td>70</td>\n",
              "      <td>0</td>\n",
              "      <td>1</td>\n",
              "      <td>18</td>\n",
              "      <td>216</td>\n",
              "      <td>...</td>\n",
              "      <td>5.17</td>\n",
              "      <td>5.00</td>\n",
              "      <td>14</td>\n",
              "      <td>16</td>\n",
              "      <td>8.500000</td>\n",
              "      <td>-0.2</td>\n",
              "      <td>0</td>\n",
              "      <td>1</td>\n",
              "      <td>0</td>\n",
              "      <td>1</td>\n",
              "    </tr>\n",
              "    <tr>\n",
              "      <th>2</th>\n",
              "      <td>27</td>\n",
              "      <td>6</td>\n",
              "      <td>9</td>\n",
              "      <td>0</td>\n",
              "      <td>0</td>\n",
              "      <td>78</td>\n",
              "      <td>0</td>\n",
              "      <td>1</td>\n",
              "      <td>10</td>\n",
              "      <td>214</td>\n",
              "      <td>...</td>\n",
              "      <td>3.06</td>\n",
              "      <td>2.94</td>\n",
              "      <td>164</td>\n",
              "      <td>96</td>\n",
              "      <td>0.562500</td>\n",
              "      <td>1.4</td>\n",
              "      <td>0</td>\n",
              "      <td>1</td>\n",
              "      <td>0</td>\n",
              "      <td>1</td>\n",
              "    </tr>\n",
              "    <tr>\n",
              "      <th>3</th>\n",
              "      <td>34</td>\n",
              "      <td>5</td>\n",
              "      <td>3</td>\n",
              "      <td>0</td>\n",
              "      <td>0</td>\n",
              "      <td>80</td>\n",
              "      <td>0</td>\n",
              "      <td>0</td>\n",
              "      <td>6</td>\n",
              "      <td>249</td>\n",
              "      <td>...</td>\n",
              "      <td>3.57</td>\n",
              "      <td>3.50</td>\n",
              "      <td>76</td>\n",
              "      <td>57</td>\n",
              "      <td>5.500000</td>\n",
              "      <td>1.4</td>\n",
              "      <td>0</td>\n",
              "      <td>1</td>\n",
              "      <td>0</td>\n",
              "      <td>1</td>\n",
              "    </tr>\n",
              "    <tr>\n",
              "      <th>4</th>\n",
              "      <td>26</td>\n",
              "      <td>5</td>\n",
              "      <td>10</td>\n",
              "      <td>0</td>\n",
              "      <td>0</td>\n",
              "      <td>24</td>\n",
              "      <td>22</td>\n",
              "      <td>0</td>\n",
              "      <td>0</td>\n",
              "      <td>351</td>\n",
              "      <td>...</td>\n",
              "      <td>5.02</td>\n",
              "      <td>4.75</td>\n",
              "      <td>42</td>\n",
              "      <td>27</td>\n",
              "      <td>0.358080</td>\n",
              "      <td>0.2</td>\n",
              "      <td>0</td>\n",
              "      <td>1</td>\n",
              "      <td>0</td>\n",
              "      <td>1</td>\n",
              "    </tr>\n",
              "    <tr>\n",
              "      <th>5</th>\n",
              "      <td>35</td>\n",
              "      <td>0</td>\n",
              "      <td>1</td>\n",
              "      <td>0</td>\n",
              "      <td>0</td>\n",
              "      <td>11</td>\n",
              "      <td>4</td>\n",
              "      <td>0</td>\n",
              "      <td>1</td>\n",
              "      <td>48</td>\n",
              "      <td>...</td>\n",
              "      <td>6.64</td>\n",
              "      <td>6.54</td>\n",
              "      <td>0</td>\n",
              "      <td>2</td>\n",
              "      <td>2.000000</td>\n",
              "      <td>-0.2</td>\n",
              "      <td>0</td>\n",
              "      <td>1</td>\n",
              "      <td>0</td>\n",
              "      <td>1</td>\n",
              "    </tr>\n",
              "    <tr>\n",
              "      <th>6</th>\n",
              "      <td>28</td>\n",
              "      <td>3</td>\n",
              "      <td>1</td>\n",
              "      <td>0</td>\n",
              "      <td>0</td>\n",
              "      <td>52</td>\n",
              "      <td>0</td>\n",
              "      <td>1</td>\n",
              "      <td>13</td>\n",
              "      <td>148</td>\n",
              "      <td>...</td>\n",
              "      <td>4.90</td>\n",
              "      <td>4.77</td>\n",
              "      <td>18</td>\n",
              "      <td>15</td>\n",
              "      <td>0.367032</td>\n",
              "      <td>-0.2</td>\n",
              "      <td>0</td>\n",
              "      <td>1</td>\n",
              "      <td>0</td>\n",
              "      <td>1</td>\n",
              "    </tr>\n",
              "    <tr>\n",
              "      <th>7</th>\n",
              "      <td>28</td>\n",
              "      <td>1</td>\n",
              "      <td>3</td>\n",
              "      <td>0</td>\n",
              "      <td>0</td>\n",
              "      <td>7</td>\n",
              "      <td>7</td>\n",
              "      <td>0</td>\n",
              "      <td>0</td>\n",
              "      <td>107</td>\n",
              "      <td>...</td>\n",
              "      <td>6.37</td>\n",
              "      <td>6.04</td>\n",
              "      <td>7</td>\n",
              "      <td>5</td>\n",
              "      <td>9.650000</td>\n",
              "      <td>-0.1</td>\n",
              "      <td>0</td>\n",
              "      <td>1</td>\n",
              "      <td>1</td>\n",
              "      <td>0</td>\n",
              "    </tr>\n",
              "    <tr>\n",
              "      <th>8</th>\n",
              "      <td>27</td>\n",
              "      <td>2</td>\n",
              "      <td>1</td>\n",
              "      <td>0</td>\n",
              "      <td>0</td>\n",
              "      <td>43</td>\n",
              "      <td>0</td>\n",
              "      <td>1</td>\n",
              "      <td>14</td>\n",
              "      <td>243</td>\n",
              "      <td>...</td>\n",
              "      <td>4.85</td>\n",
              "      <td>4.67</td>\n",
              "      <td>38</td>\n",
              "      <td>22</td>\n",
              "      <td>0.578975</td>\n",
              "      <td>0.0</td>\n",
              "      <td>0</td>\n",
              "      <td>1</td>\n",
              "      <td>0</td>\n",
              "      <td>1</td>\n",
              "    </tr>\n",
              "    <tr>\n",
              "      <th>9</th>\n",
              "      <td>26</td>\n",
              "      <td>3</td>\n",
              "      <td>5</td>\n",
              "      <td>0</td>\n",
              "      <td>0</td>\n",
              "      <td>14</td>\n",
              "      <td>14</td>\n",
              "      <td>0</td>\n",
              "      <td>0</td>\n",
              "      <td>219</td>\n",
              "      <td>...</td>\n",
              "      <td>3.90</td>\n",
              "      <td>3.72</td>\n",
              "      <td>243</td>\n",
              "      <td>44</td>\n",
              "      <td>0.566700</td>\n",
              "      <td>1.2</td>\n",
              "      <td>0</td>\n",
              "      <td>1</td>\n",
              "      <td>0</td>\n",
              "      <td>1</td>\n",
              "    </tr>\n",
              "  </tbody>\n",
              "</table>\n",
              "<p>10 rows × 41 columns</p>\n",
              "</div>\n",
              "      <button class=\"colab-df-convert\" onclick=\"convertToInteractive('df-1fac17cb-47ea-4989-bb27-35c0866a8ce9')\"\n",
              "              title=\"Convert this dataframe to an interactive table.\"\n",
              "              style=\"display:none;\">\n",
              "        \n",
              "  <svg xmlns=\"http://www.w3.org/2000/svg\" height=\"24px\"viewBox=\"0 0 24 24\"\n",
              "       width=\"24px\">\n",
              "    <path d=\"M0 0h24v24H0V0z\" fill=\"none\"/>\n",
              "    <path d=\"M18.56 5.44l.94 2.06.94-2.06 2.06-.94-2.06-.94-.94-2.06-.94 2.06-2.06.94zm-11 1L8.5 8.5l.94-2.06 2.06-.94-2.06-.94L8.5 2.5l-.94 2.06-2.06.94zm10 10l.94 2.06.94-2.06 2.06-.94-2.06-.94-.94-2.06-.94 2.06-2.06.94z\"/><path d=\"M17.41 7.96l-1.37-1.37c-.4-.4-.92-.59-1.43-.59-.52 0-1.04.2-1.43.59L10.3 9.45l-7.72 7.72c-.78.78-.78 2.05 0 2.83L4 21.41c.39.39.9.59 1.41.59.51 0 1.02-.2 1.41-.59l7.78-7.78 2.81-2.81c.8-.78.8-2.07 0-2.86zM5.41 20L4 18.59l7.72-7.72 1.47 1.35L5.41 20z\"/>\n",
              "  </svg>\n",
              "      </button>\n",
              "      \n",
              "  <style>\n",
              "    .colab-df-container {\n",
              "      display:flex;\n",
              "      flex-wrap:wrap;\n",
              "      gap: 12px;\n",
              "    }\n",
              "\n",
              "    .colab-df-convert {\n",
              "      background-color: #E8F0FE;\n",
              "      border: none;\n",
              "      border-radius: 50%;\n",
              "      cursor: pointer;\n",
              "      display: none;\n",
              "      fill: #1967D2;\n",
              "      height: 32px;\n",
              "      padding: 0 0 0 0;\n",
              "      width: 32px;\n",
              "    }\n",
              "\n",
              "    .colab-df-convert:hover {\n",
              "      background-color: #E2EBFA;\n",
              "      box-shadow: 0px 1px 2px rgba(60, 64, 67, 0.3), 0px 1px 3px 1px rgba(60, 64, 67, 0.15);\n",
              "      fill: #174EA6;\n",
              "    }\n",
              "\n",
              "    [theme=dark] .colab-df-convert {\n",
              "      background-color: #3B4455;\n",
              "      fill: #D2E3FC;\n",
              "    }\n",
              "\n",
              "    [theme=dark] .colab-df-convert:hover {\n",
              "      background-color: #434B5C;\n",
              "      box-shadow: 0px 1px 3px 1px rgba(0, 0, 0, 0.15);\n",
              "      filter: drop-shadow(0px 1px 2px rgba(0, 0, 0, 0.3));\n",
              "      fill: #FFFFFF;\n",
              "    }\n",
              "  </style>\n",
              "\n",
              "      <script>\n",
              "        const buttonEl =\n",
              "          document.querySelector('#df-1fac17cb-47ea-4989-bb27-35c0866a8ce9 button.colab-df-convert');\n",
              "        buttonEl.style.display =\n",
              "          google.colab.kernel.accessAllowed ? 'block' : 'none';\n",
              "\n",
              "        async function convertToInteractive(key) {\n",
              "          const element = document.querySelector('#df-1fac17cb-47ea-4989-bb27-35c0866a8ce9');\n",
              "          const dataTable =\n",
              "            await google.colab.kernel.invokeFunction('convertToInteractive',\n",
              "                                                     [key], {});\n",
              "          if (!dataTable) return;\n",
              "\n",
              "          const docLinkHtml = 'Like what you see? Visit the ' +\n",
              "            '<a target=\"_blank\" href=https://colab.research.google.com/notebooks/data_table.ipynb>data table notebook</a>'\n",
              "            + ' to learn more about interactive tables.';\n",
              "          element.innerHTML = '';\n",
              "          dataTable['output_type'] = 'display_data';\n",
              "          await google.colab.output.renderOutput(dataTable, element);\n",
              "          const docLink = document.createElement('div');\n",
              "          docLink.innerHTML = docLinkHtml;\n",
              "          element.appendChild(docLink);\n",
              "        }\n",
              "      </script>\n",
              "    </div>\n",
              "  </div>\n",
              "  "
            ]
          },
          "metadata": {},
          "execution_count": 872
        }
      ]
    },
    {
      "cell_type": "markdown",
      "source": [
        "# Normalize input features using min-max normalization"
      ],
      "metadata": {
        "id": "ry5e9Tm6h1BK"
      }
    },
    {
      "cell_type": "code",
      "source": [
        "from sklearn.preprocessing import MinMaxScaler\n",
        "scaler = MinMaxScaler()"
      ],
      "metadata": {
        "id": "zHz3mSI3ienL"
      },
      "execution_count": 873,
      "outputs": []
    },
    {
      "cell_type": "code",
      "source": [
        "train_target = relievers_train['salary']\n",
        "\n",
        "train_features = relievers_train.drop(columns = ['salary'])\n",
        "col = train_features.columns\n",
        "train_features = scaler.fit_transform(train_features)\n",
        "train_features = pd.DataFrame(data=train_features, columns=col)"
      ],
      "metadata": {
        "id": "PXUoewX1eLXP"
      },
      "execution_count": 874,
      "outputs": []
    },
    {
      "cell_type": "code",
      "source": [
        "test_target = relievers_test['salary']\n",
        "\n",
        "test_features = relievers_test.drop(columns = ['salary'])\n",
        "test_features = scaler.fit_transform(test_features)\n",
        "test_features = pd.DataFrame(data=test_features, columns=col)"
      ],
      "metadata": {
        "id": "_mC9w8dPefBO"
      },
      "execution_count": 875,
      "outputs": []
    },
    {
      "cell_type": "markdown",
      "source": [
        "# Feature Selection"
      ],
      "metadata": {
        "id": "y7f5U9w6djlP"
      }
    },
    {
      "cell_type": "markdown",
      "source": [
        "Vary the number of features we select to find optimal amount. I found that k = 12 features produces the best model with MAE of 3.49 million"
      ],
      "metadata": {
        "id": "Hek1bsWEer9s"
      }
    },
    {
      "cell_type": "code",
      "source": [
        "top_features_ordered = []"
      ],
      "metadata": {
        "id": "9ppcJZ35d5or"
      },
      "execution_count": 876,
      "outputs": []
    },
    {
      "cell_type": "code",
      "source": [
        "best_features = SelectKBest(f_regression, k=12)\n",
        "k_best_data = best_features.fit_transform(train_features, train_target)\n",
        "mask = best_features.get_support()\n",
        "new_features = train_features.columns[mask]\n",
        "for item in new_features:\n",
        "  if item not in top_features_ordered:\n",
        "    top_features_ordered.append(item)"
      ],
      "metadata": {
        "id": "TAXTX1chel4n",
        "colab": {
          "base_uri": "https://localhost:8080/"
        },
        "outputId": "dfe2bca3-82a8-482a-fdbd-75fe30ee9053"
      },
      "execution_count": 877,
      "outputs": [
        {
          "output_type": "stream",
          "name": "stderr",
          "text": [
            "/usr/local/lib/python3.7/dist-packages/sklearn/feature_selection/_univariate_selection.py:289: RuntimeWarning: invalid value encountered in true_divide\n",
            "  correlation_coefficient /= X_norms\n"
          ]
        }
      ]
    },
    {
      "cell_type": "code",
      "source": [
        "count = 1\n",
        "for item in top_features_ordered:\n",
        "  print(count, '. ', item)\n",
        "  count += 1"
      ],
      "metadata": {
        "id": "7A3BEqTnewYv",
        "colab": {
          "base_uri": "https://localhost:8080/"
        },
        "outputId": "43bc60a3-bdf6-4912-95f1-776d054b23a4"
      },
      "execution_count": 878,
      "outputs": [
        {
          "output_type": "stream",
          "name": "stdout",
          "text": [
            "1 .  age\n",
            "2 .  SV\n",
            "3 .  GF\n",
            "4 .   ERA \n",
            "5 .  ER\n",
            "6 .  HRA\n",
            "7 .  RA\n",
            "8 .   DOM \n",
            "9 .   RAVG \n",
            "10 .   STUFF \n",
            "11 .   GURU \n",
            "12 .  Rookie contract\n"
          ]
        }
      ]
    },
    {
      "cell_type": "code",
      "source": [
        "train_selected_X = train_features[['age', ' ERA ', 'W', ' GURU ', 'WAR', 'Rookie contract', ' WHIP ']]\n",
        "#train_selected_X = train_features[['age', ' ERA ',  ' GURU ', 'WAR', 'Rookie contract', ' WHIP ', 'SV']]\n",
        "#train_selected_X = train_features[top_features_ordered]\n",
        "train_y = train_target\n",
        "\n",
        "test_selected_X = test_features[['age', ' ERA ', 'W', ' GURU ', 'WAR', 'Rookie contract', ' WHIP ']]\n",
        "#test_selected_X = test_features[['age', ' ERA ',  ' GURU ', 'WAR', 'Rookie contract', ' WHIP ', 'SV']]\n",
        "#test_selected_X = test_features[top_features_ordered]\n",
        "test_y = test_target"
      ],
      "metadata": {
        "id": "DhOI6VjOffNS"
      },
      "execution_count": 879,
      "outputs": []
    },
    {
      "cell_type": "code",
      "source": [
        "print('Train Features:')\n",
        "print('train_selected_X dimensions: ', train_selected_X.shape)\n",
        "print('train_y dimensions:', train_y.shape, '\\n')\n",
        "\n",
        "print('Test Features:')\n",
        "print('test_data_X dimensions: ', test_selected_X.shape)\n",
        "print('test_data_y dimensions:', test_y.shape, '\\n')"
      ],
      "metadata": {
        "colab": {
          "base_uri": "https://localhost:8080/"
        },
        "id": "ZHMTbm25foJW",
        "outputId": "2f063d20-9e65-45d5-d3b1-1c116af365e4"
      },
      "execution_count": 880,
      "outputs": [
        {
          "output_type": "stream",
          "name": "stdout",
          "text": [
            "Train Features:\n",
            "train_selected_X dimensions:  (240, 7)\n",
            "train_y dimensions: (240,) \n",
            "\n",
            "Test Features:\n",
            "test_data_X dimensions:  (61, 7)\n",
            "test_data_y dimensions: (61,) \n",
            "\n"
          ]
        }
      ]
    },
    {
      "cell_type": "markdown",
      "source": [
        "# Multivariate Linear Regression"
      ],
      "metadata": {
        "id": "2oLgxL4jnAom"
      }
    },
    {
      "cell_type": "code",
      "source": [
        "multivariate_regression = linear_model.LinearRegression()\n",
        "multivariate_regression.fit(train_selected_X, train_y)"
      ],
      "metadata": {
        "colab": {
          "base_uri": "https://localhost:8080/"
        },
        "id": "UDhwuThmf8QA",
        "outputId": "61951f9a-6e3d-435a-e676-205ed2906c4b"
      },
      "execution_count": 881,
      "outputs": [
        {
          "output_type": "execute_result",
          "data": {
            "text/plain": [
              "LinearRegression()"
            ]
          },
          "metadata": {},
          "execution_count": 881
        }
      ]
    },
    {
      "cell_type": "markdown",
      "source": [
        "# Beta values (coefficients) and intercept for our multivariate linear regression:"
      ],
      "metadata": {
        "id": "lI9G49XlgGr-"
      }
    },
    {
      "cell_type": "code",
      "source": [
        "multivariate_regression.coef_"
      ],
      "metadata": {
        "colab": {
          "base_uri": "https://localhost:8080/"
        },
        "id": "W-vg-stwgBRe",
        "outputId": "3620483e-74fa-4482-b22e-2c650018e09e"
      },
      "execution_count": 882,
      "outputs": [
        {
          "output_type": "execute_result",
          "data": {
            "text/plain": [
              "array([11.41012296, -1.4949151 ,  0.03257792,  1.77539157,  1.80843274,\n",
              "        1.08467951,  3.67000483])"
            ]
          },
          "metadata": {},
          "execution_count": 882
        }
      ]
    },
    {
      "cell_type": "code",
      "source": [
        "multivariate_regression.intercept_"
      ],
      "metadata": {
        "colab": {
          "base_uri": "https://localhost:8080/"
        },
        "id": "Z8w-yiq4gCVc",
        "outputId": "f34aecbb-afdc-4ff6-d88c-6eb025b5ce4b"
      },
      "execution_count": 883,
      "outputs": [
        {
          "output_type": "execute_result",
          "data": {
            "text/plain": [
              "-5.098371887783367"
            ]
          },
          "metadata": {},
          "execution_count": 883
        }
      ]
    },
    {
      "cell_type": "code",
      "source": [
        "y_pred = multivariate_regression.predict(test_selected_X)"
      ],
      "metadata": {
        "id": "l3N3sYfAgO59"
      },
      "execution_count": 884,
      "outputs": []
    },
    {
      "cell_type": "code",
      "source": [
        "print('Mean Squared Error: ', mean_squared_error(test_y, y_pred), '\\n')\n",
        "print('Mean Absolute Error: ', mean_absolute_error(test_y, y_pred), '\\n')\n",
        "print('Root Mean Squared Error: ', np.sqrt(mean_squared_error(test_y, y_pred)))"
      ],
      "metadata": {
        "colab": {
          "base_uri": "https://localhost:8080/"
        },
        "id": "0DSV6Qj6gTSV",
        "outputId": "79da1c8e-3610-4fbc-da8b-9ab1110f9427"
      },
      "execution_count": 885,
      "outputs": [
        {
          "output_type": "stream",
          "name": "stdout",
          "text": [
            "Mean Squared Error:  31.56747278669601 \n",
            "\n",
            "Mean Absolute Error:  2.873222746395875 \n",
            "\n",
            "Root Mean Squared Error:  5.618493818337439\n"
          ]
        }
      ]
    },
    {
      "cell_type": "markdown",
      "source": [
        "# Ridge Regression"
      ],
      "metadata": {
        "id": "pBGIDOsnncYP"
      }
    },
    {
      "cell_type": "code",
      "source": [
        "ridge_regression = Ridge(alpha = 0.75)\n",
        "ridge_regression.fit(train_selected_X, train_y)"
      ],
      "metadata": {
        "colab": {
          "base_uri": "https://localhost:8080/"
        },
        "id": "8crAGHcnm--o",
        "outputId": "5fc18ffe-0a07-4a2e-b404-97aaf0a7d879"
      },
      "execution_count": 886,
      "outputs": [
        {
          "output_type": "execute_result",
          "data": {
            "text/plain": [
              "Ridge(alpha=0.75)"
            ]
          },
          "metadata": {},
          "execution_count": 886
        }
      ]
    },
    {
      "cell_type": "code",
      "source": [
        "ridge_regression.coef_"
      ],
      "metadata": {
        "colab": {
          "base_uri": "https://localhost:8080/"
        },
        "id": "Vyc9cbX4nqQN",
        "outputId": "7e2fe991-03b0-4e54-ca12-256fc9c97059"
      },
      "execution_count": 887,
      "outputs": [
        {
          "output_type": "execute_result",
          "data": {
            "text/plain": [
              "array([ 9.47537289, -0.92236863,  0.06027101,  1.28256058,  1.42608106,\n",
              "        0.55780502,  2.40481869])"
            ]
          },
          "metadata": {},
          "execution_count": 887
        }
      ]
    },
    {
      "cell_type": "code",
      "source": [
        "ridge_regression.intercept_"
      ],
      "metadata": {
        "colab": {
          "base_uri": "https://localhost:8080/"
        },
        "id": "9ghLQtFmnsNB",
        "outputId": "b14ad2b2-b2c7-43f7-8f93-eb730abdaf4a"
      },
      "execution_count": 888,
      "outputs": [
        {
          "output_type": "execute_result",
          "data": {
            "text/plain": [
              "-3.6174087001220747"
            ]
          },
          "metadata": {},
          "execution_count": 888
        }
      ]
    },
    {
      "cell_type": "code",
      "source": [
        "y_predicted = ridge_regression.predict(test_selected_X)"
      ],
      "metadata": {
        "id": "vRw4BOB5nwg2"
      },
      "execution_count": 889,
      "outputs": []
    },
    {
      "cell_type": "code",
      "source": [
        "print('Mean Squared Error: ', mean_squared_error(test_y, y_predicted), '\\n')\n",
        "print('Mean Absolute Error: ', mean_absolute_error(test_y, y_predicted), '\\n')\n",
        "print('Root Mean Squared Error: ', np.sqrt(mean_squared_error(test_y, y_predicted)))"
      ],
      "metadata": {
        "colab": {
          "base_uri": "https://localhost:8080/"
        },
        "id": "rvSf_oX9n0Ti",
        "outputId": "0a4c3767-b42a-4fca-c825-accec6f72f44"
      },
      "execution_count": 890,
      "outputs": [
        {
          "output_type": "stream",
          "name": "stdout",
          "text": [
            "Mean Squared Error:  32.52230455286639 \n",
            "\n",
            "Mean Absolute Error:  2.847679309700265 \n",
            "\n",
            "Root Mean Squared Error:  5.702833028667978\n"
          ]
        }
      ]
    },
    {
      "cell_type": "markdown",
      "source": [
        "# Lasso Regression"
      ],
      "metadata": {
        "id": "hduphkv3oNq_"
      }
    },
    {
      "cell_type": "code",
      "source": [
        "lasso_regression = Lasso(alpha = 1.0)\n",
        "lasso_regression.fit(train_selected_X, train_y)"
      ],
      "metadata": {
        "colab": {
          "base_uri": "https://localhost:8080/"
        },
        "id": "g_Upyn2uoQmq",
        "outputId": "30728907-ad63-445b-8d54-e13b28cefa20"
      },
      "execution_count": 891,
      "outputs": [
        {
          "output_type": "execute_result",
          "data": {
            "text/plain": [
              "Lasso()"
            ]
          },
          "metadata": {},
          "execution_count": 891
        }
      ]
    },
    {
      "cell_type": "code",
      "source": [
        "lasso_regression.coef_"
      ],
      "metadata": {
        "colab": {
          "base_uri": "https://localhost:8080/"
        },
        "id": "kGOtjPh3oVMP",
        "outputId": "0e9dc1a8-cb72-4cfc-9f7c-ae2df219286c"
      },
      "execution_count": 892,
      "outputs": [
        {
          "output_type": "execute_result",
          "data": {
            "text/plain": [
              "array([ 0., -0.,  0.,  0.,  0., -0., -0.])"
            ]
          },
          "metadata": {},
          "execution_count": 892
        }
      ]
    },
    {
      "cell_type": "code",
      "source": [
        "lasso_regression.intercept_"
      ],
      "metadata": {
        "colab": {
          "base_uri": "https://localhost:8080/"
        },
        "id": "gMkPk3VuoW2q",
        "outputId": "bb165ce1-6785-4451-fc0d-13462c425c2a"
      },
      "execution_count": 893,
      "outputs": [
        {
          "output_type": "execute_result",
          "data": {
            "text/plain": [
              "2.141008925"
            ]
          },
          "metadata": {},
          "execution_count": 893
        }
      ]
    },
    {
      "cell_type": "code",
      "source": [
        "y_predicted_lasso = lasso_regression.predict(test_selected_X)"
      ],
      "metadata": {
        "id": "HU7t05EuoYwJ"
      },
      "execution_count": 894,
      "outputs": []
    },
    {
      "cell_type": "code",
      "source": [
        "print('Mean Squared Error: ', mean_squared_error(test_y, y_predicted_lasso), '\\n')\n",
        "print('Mean Absolute Error: ', mean_absolute_error(test_y, y_predicted_lasso), '\\n')\n",
        "print('Root Mean Squared Error: ', np.sqrt(mean_squared_error(test_y, y_predicted_lasso)))"
      ],
      "metadata": {
        "colab": {
          "base_uri": "https://localhost:8080/"
        },
        "id": "vsjQ8g5kodVD",
        "outputId": "0e042081-fb49-49d1-94d9-4981fcfc6bc8"
      },
      "execution_count": 895,
      "outputs": [
        {
          "output_type": "stream",
          "name": "stdout",
          "text": [
            "Mean Squared Error:  43.37464035802574 \n",
            "\n",
            "Mean Absolute Error:  3.353790669262295 \n",
            "\n",
            "Root Mean Squared Error:  6.585942632457843\n"
          ]
        }
      ]
    },
    {
      "cell_type": "markdown",
      "source": [
        "# Regression with Deep Learning"
      ],
      "metadata": {
        "id": "8qx9HbG5YLtY"
      }
    },
    {
      "cell_type": "code",
      "source": [
        "import tensorflow as tf\n",
        "from tensorflow import keras\n",
        "from sklearn.model_selection import train_test_split\n",
        "\n",
        "from tensorflow.keras.models import Sequential\n",
        "from tensorflow.keras.layers import Activation, Dense, BatchNormalization, Dropout\n",
        "from tensorflow.keras import optimizers\n",
        "import matplotlib.pyplot as plt\n",
        "import numpy as np \n",
        "import pandas as pd\n",
        "import seaborn as sns"
      ],
      "metadata": {
        "id": "1QLMO3w3YfuE"
      },
      "execution_count": 896,
      "outputs": []
    },
    {
      "cell_type": "code",
      "source": [
        "tf.random.set_seed(5)\n",
        "\n",
        "network1 = tf.keras.models.Sequential()\n",
        "network1.add(tf.keras.Input(shape=(40,)))\n",
        "network1.add(tf.keras.layers.Dense(15, activation='relu'))\n",
        "network1.add(tf.keras.layers.Dense(15, activation='relu'))\n",
        "network1.add(tf.keras.layers.Dense(1))\n",
        "\n",
        "network1.compile(\n",
        "   loss=tf.keras.losses.MeanAbsoluteError(),\n",
        "   optimizer=tf.keras.optimizers.Adam(),\n",
        "   metrics='mean_absolute_error')\n",
        "\n",
        "history1 = network1.fit(train_features, train_target, epochs=60,validation_data=(test_features,test_target))"
      ],
      "metadata": {
        "colab": {
          "base_uri": "https://localhost:8080/"
        },
        "id": "cbNBt3BSo391",
        "outputId": "ed53eb1a-755e-4980-d5ea-ecfc315d315f"
      },
      "execution_count": 897,
      "outputs": [
        {
          "output_type": "stream",
          "name": "stdout",
          "text": [
            "Epoch 1/60\n",
            "8/8 [==============================] - 1s 31ms/step - loss: 1.9337 - mean_absolute_error: 1.9337 - val_loss: 2.9444 - val_mean_absolute_error: 2.9444\n",
            "Epoch 2/60\n",
            "8/8 [==============================] - 0s 7ms/step - loss: 1.7936 - mean_absolute_error: 1.7936 - val_loss: 2.8563 - val_mean_absolute_error: 2.8563\n",
            "Epoch 3/60\n",
            "8/8 [==============================] - 0s 9ms/step - loss: 1.7874 - mean_absolute_error: 1.7874 - val_loss: 2.8495 - val_mean_absolute_error: 2.8495\n",
            "Epoch 4/60\n",
            "8/8 [==============================] - 0s 6ms/step - loss: 1.7839 - mean_absolute_error: 1.7839 - val_loss: 2.8373 - val_mean_absolute_error: 2.8373\n",
            "Epoch 5/60\n",
            "8/8 [==============================] - 0s 7ms/step - loss: 1.7693 - mean_absolute_error: 1.7693 - val_loss: 2.8371 - val_mean_absolute_error: 2.8371\n",
            "Epoch 6/60\n",
            "8/8 [==============================] - 0s 7ms/step - loss: 1.7590 - mean_absolute_error: 1.7590 - val_loss: 2.8329 - val_mean_absolute_error: 2.8329\n",
            "Epoch 7/60\n",
            "8/8 [==============================] - 0s 7ms/step - loss: 1.7525 - mean_absolute_error: 1.7525 - val_loss: 2.8211 - val_mean_absolute_error: 2.8211\n",
            "Epoch 8/60\n",
            "8/8 [==============================] - 0s 9ms/step - loss: 1.7456 - mean_absolute_error: 1.7456 - val_loss: 2.8134 - val_mean_absolute_error: 2.8134\n",
            "Epoch 9/60\n",
            "8/8 [==============================] - 0s 6ms/step - loss: 1.7385 - mean_absolute_error: 1.7385 - val_loss: 2.8099 - val_mean_absolute_error: 2.8099\n",
            "Epoch 10/60\n",
            "8/8 [==============================] - 0s 6ms/step - loss: 1.7329 - mean_absolute_error: 1.7329 - val_loss: 2.8046 - val_mean_absolute_error: 2.8046\n",
            "Epoch 11/60\n",
            "8/8 [==============================] - 0s 6ms/step - loss: 1.7266 - mean_absolute_error: 1.7266 - val_loss: 2.7983 - val_mean_absolute_error: 2.7983\n",
            "Epoch 12/60\n",
            "8/8 [==============================] - 0s 7ms/step - loss: 1.7216 - mean_absolute_error: 1.7216 - val_loss: 2.7912 - val_mean_absolute_error: 2.7912\n",
            "Epoch 13/60\n",
            "8/8 [==============================] - 0s 6ms/step - loss: 1.7151 - mean_absolute_error: 1.7151 - val_loss: 2.7853 - val_mean_absolute_error: 2.7853\n",
            "Epoch 14/60\n",
            "8/8 [==============================] - 0s 6ms/step - loss: 1.7106 - mean_absolute_error: 1.7106 - val_loss: 2.7805 - val_mean_absolute_error: 2.7805\n",
            "Epoch 15/60\n",
            "8/8 [==============================] - 0s 7ms/step - loss: 1.7069 - mean_absolute_error: 1.7069 - val_loss: 2.7754 - val_mean_absolute_error: 2.7754\n",
            "Epoch 16/60\n",
            "8/8 [==============================] - 0s 6ms/step - loss: 1.7038 - mean_absolute_error: 1.7038 - val_loss: 2.7712 - val_mean_absolute_error: 2.7712\n",
            "Epoch 17/60\n",
            "8/8 [==============================] - 0s 6ms/step - loss: 1.6996 - mean_absolute_error: 1.6996 - val_loss: 2.7657 - val_mean_absolute_error: 2.7657\n",
            "Epoch 18/60\n",
            "8/8 [==============================] - 0s 6ms/step - loss: 1.6983 - mean_absolute_error: 1.6983 - val_loss: 2.7606 - val_mean_absolute_error: 2.7606\n",
            "Epoch 19/60\n",
            "8/8 [==============================] - 0s 6ms/step - loss: 1.6964 - mean_absolute_error: 1.6964 - val_loss: 2.7536 - val_mean_absolute_error: 2.7536\n",
            "Epoch 20/60\n",
            "8/8 [==============================] - 0s 8ms/step - loss: 1.6925 - mean_absolute_error: 1.6925 - val_loss: 2.7486 - val_mean_absolute_error: 2.7486\n",
            "Epoch 21/60\n",
            "8/8 [==============================] - 0s 7ms/step - loss: 1.6885 - mean_absolute_error: 1.6885 - val_loss: 2.7444 - val_mean_absolute_error: 2.7444\n",
            "Epoch 22/60\n",
            "8/8 [==============================] - 0s 7ms/step - loss: 1.6845 - mean_absolute_error: 1.6845 - val_loss: 2.7394 - val_mean_absolute_error: 2.7394\n",
            "Epoch 23/60\n",
            "8/8 [==============================] - 0s 7ms/step - loss: 1.6813 - mean_absolute_error: 1.6813 - val_loss: 2.7338 - val_mean_absolute_error: 2.7338\n",
            "Epoch 24/60\n",
            "8/8 [==============================] - 0s 6ms/step - loss: 1.6768 - mean_absolute_error: 1.6768 - val_loss: 2.7307 - val_mean_absolute_error: 2.7307\n",
            "Epoch 25/60\n",
            "8/8 [==============================] - 0s 7ms/step - loss: 1.6804 - mean_absolute_error: 1.6804 - val_loss: 2.7262 - val_mean_absolute_error: 2.7262\n",
            "Epoch 26/60\n",
            "8/8 [==============================] - 0s 6ms/step - loss: 1.6803 - mean_absolute_error: 1.6803 - val_loss: 2.7251 - val_mean_absolute_error: 2.7251\n",
            "Epoch 27/60\n",
            "8/8 [==============================] - 0s 6ms/step - loss: 1.6716 - mean_absolute_error: 1.6716 - val_loss: 2.7200 - val_mean_absolute_error: 2.7200\n",
            "Epoch 28/60\n",
            "8/8 [==============================] - 0s 6ms/step - loss: 1.6683 - mean_absolute_error: 1.6683 - val_loss: 2.7169 - val_mean_absolute_error: 2.7169\n",
            "Epoch 29/60\n",
            "8/8 [==============================] - 0s 7ms/step - loss: 1.6657 - mean_absolute_error: 1.6657 - val_loss: 2.7164 - val_mean_absolute_error: 2.7164\n",
            "Epoch 30/60\n",
            "8/8 [==============================] - 0s 9ms/step - loss: 1.6611 - mean_absolute_error: 1.6611 - val_loss: 2.7119 - val_mean_absolute_error: 2.7119\n",
            "Epoch 31/60\n",
            "8/8 [==============================] - 0s 6ms/step - loss: 1.6599 - mean_absolute_error: 1.6599 - val_loss: 2.7138 - val_mean_absolute_error: 2.7138\n",
            "Epoch 32/60\n",
            "8/8 [==============================] - 0s 5ms/step - loss: 1.6569 - mean_absolute_error: 1.6569 - val_loss: 2.7101 - val_mean_absolute_error: 2.7101\n",
            "Epoch 33/60\n",
            "8/8 [==============================] - 0s 6ms/step - loss: 1.6528 - mean_absolute_error: 1.6528 - val_loss: 2.7128 - val_mean_absolute_error: 2.7128\n",
            "Epoch 34/60\n",
            "8/8 [==============================] - 0s 6ms/step - loss: 1.6486 - mean_absolute_error: 1.6486 - val_loss: 2.7122 - val_mean_absolute_error: 2.7122\n",
            "Epoch 35/60\n",
            "8/8 [==============================] - 0s 6ms/step - loss: 1.6455 - mean_absolute_error: 1.6455 - val_loss: 2.7084 - val_mean_absolute_error: 2.7084\n",
            "Epoch 36/60\n",
            "8/8 [==============================] - 0s 6ms/step - loss: 1.6407 - mean_absolute_error: 1.6407 - val_loss: 2.7055 - val_mean_absolute_error: 2.7055\n",
            "Epoch 37/60\n",
            "8/8 [==============================] - 0s 6ms/step - loss: 1.6362 - mean_absolute_error: 1.6362 - val_loss: 2.7051 - val_mean_absolute_error: 2.7051\n",
            "Epoch 38/60\n",
            "8/8 [==============================] - 0s 7ms/step - loss: 1.6344 - mean_absolute_error: 1.6344 - val_loss: 2.7048 - val_mean_absolute_error: 2.7048\n",
            "Epoch 39/60\n",
            "8/8 [==============================] - 0s 6ms/step - loss: 1.6289 - mean_absolute_error: 1.6289 - val_loss: 2.7003 - val_mean_absolute_error: 2.7003\n",
            "Epoch 40/60\n",
            "8/8 [==============================] - 0s 6ms/step - loss: 1.6255 - mean_absolute_error: 1.6255 - val_loss: 2.6993 - val_mean_absolute_error: 2.6993\n",
            "Epoch 41/60\n",
            "8/8 [==============================] - 0s 7ms/step - loss: 1.6215 - mean_absolute_error: 1.6215 - val_loss: 2.6996 - val_mean_absolute_error: 2.6996\n",
            "Epoch 42/60\n",
            "8/8 [==============================] - 0s 6ms/step - loss: 1.6192 - mean_absolute_error: 1.6192 - val_loss: 2.6997 - val_mean_absolute_error: 2.6997\n",
            "Epoch 43/60\n",
            "8/8 [==============================] - 0s 6ms/step - loss: 1.6162 - mean_absolute_error: 1.6162 - val_loss: 2.6956 - val_mean_absolute_error: 2.6956\n",
            "Epoch 44/60\n",
            "8/8 [==============================] - 0s 7ms/step - loss: 1.6129 - mean_absolute_error: 1.6129 - val_loss: 2.6973 - val_mean_absolute_error: 2.6973\n",
            "Epoch 45/60\n",
            "8/8 [==============================] - 0s 7ms/step - loss: 1.6051 - mean_absolute_error: 1.6051 - val_loss: 2.6936 - val_mean_absolute_error: 2.6936\n",
            "Epoch 46/60\n",
            "8/8 [==============================] - 0s 7ms/step - loss: 1.6027 - mean_absolute_error: 1.6027 - val_loss: 2.6924 - val_mean_absolute_error: 2.6924\n",
            "Epoch 47/60\n",
            "8/8 [==============================] - 0s 7ms/step - loss: 1.5969 - mean_absolute_error: 1.5969 - val_loss: 2.6926 - val_mean_absolute_error: 2.6926\n",
            "Epoch 48/60\n",
            "8/8 [==============================] - 0s 6ms/step - loss: 1.5920 - mean_absolute_error: 1.5920 - val_loss: 2.6905 - val_mean_absolute_error: 2.6905\n",
            "Epoch 49/60\n",
            "8/8 [==============================] - 0s 5ms/step - loss: 1.5918 - mean_absolute_error: 1.5918 - val_loss: 2.6895 - val_mean_absolute_error: 2.6895\n",
            "Epoch 50/60\n",
            "8/8 [==============================] - 0s 6ms/step - loss: 1.5869 - mean_absolute_error: 1.5869 - val_loss: 2.6862 - val_mean_absolute_error: 2.6862\n",
            "Epoch 51/60\n",
            "8/8 [==============================] - 0s 6ms/step - loss: 1.5781 - mean_absolute_error: 1.5781 - val_loss: 2.6876 - val_mean_absolute_error: 2.6876\n",
            "Epoch 52/60\n",
            "8/8 [==============================] - 0s 6ms/step - loss: 1.5741 - mean_absolute_error: 1.5741 - val_loss: 2.6865 - val_mean_absolute_error: 2.6865\n",
            "Epoch 53/60\n",
            "8/8 [==============================] - 0s 6ms/step - loss: 1.5690 - mean_absolute_error: 1.5690 - val_loss: 2.6863 - val_mean_absolute_error: 2.6863\n",
            "Epoch 54/60\n",
            "8/8 [==============================] - 0s 6ms/step - loss: 1.5632 - mean_absolute_error: 1.5632 - val_loss: 2.6846 - val_mean_absolute_error: 2.6846\n",
            "Epoch 55/60\n",
            "8/8 [==============================] - 0s 5ms/step - loss: 1.5564 - mean_absolute_error: 1.5564 - val_loss: 2.6822 - val_mean_absolute_error: 2.6822\n",
            "Epoch 56/60\n",
            "8/8 [==============================] - 0s 6ms/step - loss: 1.5548 - mean_absolute_error: 1.5548 - val_loss: 2.6816 - val_mean_absolute_error: 2.6816\n",
            "Epoch 57/60\n",
            "8/8 [==============================] - 0s 7ms/step - loss: 1.5506 - mean_absolute_error: 1.5506 - val_loss: 2.6832 - val_mean_absolute_error: 2.6832\n",
            "Epoch 58/60\n",
            "8/8 [==============================] - 0s 6ms/step - loss: 1.5437 - mean_absolute_error: 1.5437 - val_loss: 2.6849 - val_mean_absolute_error: 2.6849\n",
            "Epoch 59/60\n",
            "8/8 [==============================] - 0s 6ms/step - loss: 1.5485 - mean_absolute_error: 1.5485 - val_loss: 2.6843 - val_mean_absolute_error: 2.6843\n",
            "Epoch 60/60\n",
            "8/8 [==============================] - 0s 6ms/step - loss: 1.5448 - mean_absolute_error: 1.5448 - val_loss: 2.6857 - val_mean_absolute_error: 2.6857\n"
          ]
        }
      ]
    },
    {
      "cell_type": "code",
      "source": [
        "from matplotlib import pyplot as plt\n",
        "plt.plot(history1.history['mean_absolute_error'])\n",
        "plt.plot(history1.history['val_mean_absolute_error'])\n",
        "plt.title('Model Mean Absolute Error (MAE)')\n",
        "plt.ylabel('MAE')\n",
        "plt.xlabel('Epoch')\n",
        "plt.legend(['Train', 'Cross-Validation'], loc='upper right')\n",
        "plt.show()"
      ],
      "metadata": {
        "colab": {
          "base_uri": "https://localhost:8080/",
          "height": 295
        },
        "id": "lxzvh8YWpZAH",
        "outputId": "b133ed9e-7461-42d7-8353-9edf09bf82e7"
      },
      "execution_count": 898,
      "outputs": [
        {
          "output_type": "display_data",
          "data": {
            "text/plain": [
              "<Figure size 432x288 with 1 Axes>"
            ],
            "image/png": "[encoded data removed]"
          },
          "metadata": {
            "needs_background": "light"
          }
        }
      ]
    },
    {
      "cell_type": "code",
      "source": [
        "tf.random.set_seed(5)\n",
        "\n",
        "network2 = tf.keras.models.Sequential()\n",
        "network2.add(tf.keras.Input(shape=(40,)))\n",
        "network2.add(tf.keras.layers.Dense(15, activation='relu'))\n",
        "network2.add(tf.keras.layers.Dense(15, activation='relu'))\n",
        "network2.add(tf.keras.layers.Dense(15, activation='relu'))\n",
        "network2.add(tf.keras.layers.Dense(1))\n",
        "\n",
        "network2.compile(\n",
        "   loss=tf.keras.losses.MeanAbsoluteError(),\n",
        "   optimizer=tf.keras.optimizers.Adam(),\n",
        "   metrics='mean_absolute_error')\n",
        "\n",
        "history2 = network2.fit(train_features, train_target, epochs=60,validation_data=(test_features,test_target))"
      ],
      "metadata": {
        "colab": {
          "base_uri": "https://localhost:8080/"
        },
        "id": "aaYVvJHvqVGG",
        "outputId": "6a969c0d-f663-49fd-e951-872badc5e8d1"
      },
      "execution_count": null,
      "outputs": [
        {
          "output_type": "stream",
          "name": "stdout",
          "text": [
            "Epoch 1/60\n",
            "8/8 [==============================] - 1s 27ms/step - loss: 2.0977 - mean_absolute_error: 2.0977 - val_loss: 3.0814 - val_mean_absolute_error: 3.0814\n",
            "Epoch 2/60\n",
            "8/8 [==============================] - 0s 6ms/step - loss: 1.9418 - mean_absolute_error: 1.9418 - val_loss: 2.9177 - val_mean_absolute_error: 2.9177\n",
            "Epoch 3/60\n",
            "8/8 [==============================] - 0s 6ms/step - loss: 1.7959 - mean_absolute_error: 1.7959 - val_loss: 2.8638 - val_mean_absolute_error: 2.8638\n"
          ]
        }
      ]
    },
    {
      "cell_type": "code",
      "source": [
        "from matplotlib import pyplot as plt\n",
        "plt.plot(history2.history['mean_absolute_error'])\n",
        "plt.plot(history2.history['val_mean_absolute_error'])\n",
        "plt.title('Model Mean Absolute Error (MAE)')\n",
        "plt.ylabel('MAE')\n",
        "plt.xlabel('Epoch')\n",
        "plt.legend(['Train', 'Cross-Validation'], loc='upper right')\n",
        "plt.show()"
      ],
      "metadata": {
        "id": "ovwb5HpDqgpE"
      },
      "execution_count": null,
      "outputs": []
    },
    {
      "cell_type": "code",
      "source": [
        "tf.random.set_seed(5)\n",
        "\n",
        "network3 = tf.keras.models.Sequential()\n",
        "network3.add(tf.keras.Input(shape=(8,)))\n",
        "network3.add(tf.keras.layers.Dense(20, activation='relu'))\n",
        "network3.add(tf.keras.layers.Dense(20, activation='relu'))\n",
        "network3.add(tf.keras.layers.Dense(20, activation='relu'))\n",
        "network3.add(tf.keras.layers.Dense(20, activation='relu'))\n",
        "network3.add(tf.keras.layers.Dense(1))\n",
        "\n",
        "network3.compile(\n",
        "   loss=tf.keras.losses.MeanAbsoluteError(),\n",
        "   optimizer=tf.keras.optimizers.Adam(),\n",
        "   metrics='mean_absolute_error')\n",
        "\n",
        "history3 = network3.fit(train_selected_X, train_target, epochs=60,validation_data=(test_selected_X,test_target))"
      ],
      "metadata": {
        "id": "lDEz4qoSr3IC"
      },
      "execution_count": null,
      "outputs": []
    },
    {
      "cell_type": "code",
      "source": [
        "from matplotlib import pyplot as plt\n",
        "plt.plot(history3.history['mean_absolute_error'])\n",
        "plt.plot(history3.history['val_mean_absolute_error'])\n",
        "plt.title('Model Mean Absolute Error (MAE)')\n",
        "plt.ylabel('MAE')\n",
        "plt.xlabel('Epoch')\n",
        "plt.legend(['Train', 'Cross-Validation'], loc='upper right')\n",
        "plt.show()"
      ],
      "metadata": {
        "id": "128nqSmSr2M8"
      },
      "execution_count": null,
      "outputs": []
    }
  ]
}