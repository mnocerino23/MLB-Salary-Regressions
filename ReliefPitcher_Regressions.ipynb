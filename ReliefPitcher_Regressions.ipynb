{
  "nbformat": 4,
  "nbformat_minor": 0,
  "metadata": {
    "colab": {
      "name": "ReliefPitcher_Regressions.ipynb",
      "provenance": [],
      "collapsed_sections": [],
      "authorship_tag": "ABX9TyOy2bB1ccd8daqYImoCZtg7",
      "include_colab_link": true
    },
    "kernelspec": {
      "name": "python3",
      "display_name": "Python 3"
    },
    "language_info": {
      "name": "python"
    }
  },
  "cells": [
    {
      "cell_type": "markdown",
      "metadata": {
        "id": "view-in-github",
        "colab_type": "text"
      },
      "source": [
        "<a href=\"https://colab.research.google.com/github/mnocerino23/MLB-Salary-Regressions/blob/main/ReliefPitcher_Regressions.ipynb\" target=\"_parent\"><img src=\"https://colab.research.google.com/assets/colab-badge.svg\" alt=\"Open In Colab\"/></a>"
      ]
    },
    {
      "cell_type": "markdown",
      "source": [
        "# In this Jupyter Notebook, I will build regression models to predict salary (in millions) for MLB relief pitchers. I will experiment with different modeling techniques such as multivariate linear, lasso, ridge, and neural network regressions"
      ],
      "metadata": {
        "id": "f4ApupsHWsk0"
      }
    },
    {
      "cell_type": "code",
      "execution_count": 1,
      "metadata": {
        "id": "-m4_gX_7WniX",
        "colab": {
          "base_uri": "https://localhost:8080/"
        },
        "outputId": "308d21f3-77b4-4232-97a5-9e5f1f725b6f"
      },
      "outputs": [
        {
          "output_type": "stream",
          "name": "stdout",
          "text": [
            "Mounted at /content/drive\n"
          ]
        }
      ],
      "source": [
        "import numpy as np\n",
        "import pandas as pd\n",
        "\n",
        "from google.colab import drive\n",
        "drive.mount('/content/drive')"
      ]
    },
    {
      "cell_type": "code",
      "source": [
        "import sklearn\n",
        "from sklearn import preprocessing\n",
        "from sklearn.model_selection import train_test_split, cross_val_score\n",
        "from sklearn.feature_selection import SelectKBest, f_regression\n",
        "from sklearn.preprocessing import MinMaxScaler"
      ],
      "metadata": {
        "id": "2paP65w2XzxT"
      },
      "execution_count": 2,
      "outputs": []
    },
    {
      "cell_type": "code",
      "source": [
        "from sklearn import linear_model\n",
        "from sklearn.linear_model import Ridge, Lasso"
      ],
      "metadata": {
        "id": "lUOnJgJjYBjQ"
      },
      "execution_count": 3,
      "outputs": []
    },
    {
      "cell_type": "code",
      "source": [
        "from sklearn.metrics import mean_absolute_error, mean_squared_error, mean_squared_log_error"
      ],
      "metadata": {
        "id": "vcpSRxhvX5mJ"
      },
      "execution_count": 4,
      "outputs": []
    },
    {
      "cell_type": "code",
      "source": [
        "#read in position player stats\n",
        "relievers_train = pd.read_csv('/content/drive/MyDrive/Data_Science_Projects/MLB/relievers_train.csv')\n",
        "relievers_test = pd.read_csv('/content/drive/MyDrive/Data_Science_Projects/MLB/relievers_test.csv')"
      ],
      "metadata": {
        "id": "_2BdS_khYKqq"
      },
      "execution_count": 5,
      "outputs": []
    },
    {
      "cell_type": "markdown",
      "source": [
        "# Final check for null values:"
      ],
      "metadata": {
        "id": "2Te5bc3PfD_k"
      }
    },
    {
      "cell_type": "code",
      "source": [
        "#no null values\n",
        "relievers_train.info()"
      ],
      "metadata": {
        "colab": {
          "base_uri": "https://localhost:8080/"
        },
        "id": "lbN5vD43e-ZF",
        "outputId": "6cef3b9a-e174-4f4e-f07b-b5167eac1793"
      },
      "execution_count": 6,
      "outputs": [
        {
          "output_type": "stream",
          "name": "stdout",
          "text": [
            "<class 'pandas.core.frame.DataFrame'>\n",
            "RangeIndex: 242 entries, 0 to 241\n",
            "Data columns (total 43 columns):\n",
            " #   Column   Non-Null Count  Dtype  \n",
            "---  ------   --------------  -----  \n",
            " 0   name     242 non-null    object \n",
            " 1   throws   242 non-null    object \n",
            " 2   age      242 non-null    int64  \n",
            " 3   stints   242 non-null    int64  \n",
            " 4   teamID   242 non-null    object \n",
            " 5   LG       242 non-null    object \n",
            " 6   POS1     242 non-null    object \n",
            " 7   W        242 non-null    int64  \n",
            " 8   L        242 non-null    int64  \n",
            " 9   CG       242 non-null    int64  \n",
            " 10  ShO      242 non-null    int64  \n",
            " 11  GP       242 non-null    int64  \n",
            " 12  GS       242 non-null    int64  \n",
            " 13  SV       242 non-null    int64  \n",
            " 14  GF       242 non-null    int64  \n",
            " 15  IPOuts   242 non-null    int64  \n",
            " 16   IP      242 non-null    float64\n",
            " 17   ERA     242 non-null    float64\n",
            " 18  HA       242 non-null    int64  \n",
            " 19  ER       242 non-null    int64  \n",
            " 20  HRA      242 non-null    int64  \n",
            " 21  BBA      242 non-null    int64  \n",
            " 22  SOA      242 non-null    int64  \n",
            " 23  IBBA     242 non-null    int64  \n",
            " 24  WP       242 non-null    int64  \n",
            " 25  HPBA     242 non-null    int64  \n",
            " 26  BK       242 non-null    int64  \n",
            " 27  BFP      242 non-null    int64  \n",
            " 28  RA       242 non-null    int64  \n",
            " 29   CMD     242 non-null    float64\n",
            " 30   DOM     242 non-null    float64\n",
            " 31   CTL     242 non-null    float64\n",
            " 32   HR9     242 non-null    object \n",
            " 33   WHIP    242 non-null    float64\n",
            " 34   WRIP    242 non-null    float64\n",
            " 35  HRBIB    242 non-null    object \n",
            " 36   RAVG    242 non-null    float64\n",
            " 37   FIP     242 non-null    float64\n",
            " 38   DERA    242 non-null    float64\n",
            " 39   STUFF   242 non-null    int64  \n",
            " 40   GURU    242 non-null    object \n",
            " 41  salary   242 non-null    float64\n",
            " 42  WAR      242 non-null    float64\n",
            "dtypes: float64(12), int64(23), object(8)\n",
            "memory usage: 81.4+ KB\n"
          ]
        }
      ]
    },
    {
      "cell_type": "code",
      "source": [
        "#test data also has no nulls so we are good\n",
        "relievers_test.info()"
      ],
      "metadata": {
        "colab": {
          "base_uri": "https://localhost:8080/"
        },
        "id": "r7xpS7ZofLPC",
        "outputId": "bb653110-83e5-4ef9-d3ae-893e76c3a1aa"
      },
      "execution_count": 7,
      "outputs": [
        {
          "output_type": "stream",
          "name": "stdout",
          "text": [
            "<class 'pandas.core.frame.DataFrame'>\n",
            "RangeIndex: 61 entries, 0 to 60\n",
            "Data columns (total 43 columns):\n",
            " #   Column   Non-Null Count  Dtype  \n",
            "---  ------   --------------  -----  \n",
            " 0   name     61 non-null     object \n",
            " 1   throws   61 non-null     object \n",
            " 2   age      61 non-null     int64  \n",
            " 3   stints   61 non-null     int64  \n",
            " 4   teamID   61 non-null     object \n",
            " 5   LG       61 non-null     object \n",
            " 6   POS1     61 non-null     object \n",
            " 7   W        61 non-null     int64  \n",
            " 8   L        61 non-null     int64  \n",
            " 9   CG       61 non-null     int64  \n",
            " 10  ShO      61 non-null     int64  \n",
            " 11  GP       61 non-null     int64  \n",
            " 12  GS       61 non-null     int64  \n",
            " 13  SV       61 non-null     int64  \n",
            " 14  GF       61 non-null     int64  \n",
            " 15  IPOuts   61 non-null     int64  \n",
            " 16   IP      61 non-null     float64\n",
            " 17   ERA     61 non-null     float64\n",
            " 18  HA       61 non-null     int64  \n",
            " 19  ER       61 non-null     int64  \n",
            " 20  HRA      61 non-null     int64  \n",
            " 21  BBA      61 non-null     int64  \n",
            " 22  SOA      61 non-null     int64  \n",
            " 23  IBBA     61 non-null     int64  \n",
            " 24  WP       61 non-null     int64  \n",
            " 25  HPBA     61 non-null     int64  \n",
            " 26  BK       61 non-null     int64  \n",
            " 27  BFP      61 non-null     int64  \n",
            " 28  RA       61 non-null     int64  \n",
            " 29   CMD     61 non-null     float64\n",
            " 30   DOM     61 non-null     float64\n",
            " 31   CTL     61 non-null     float64\n",
            " 32   HR9     61 non-null     float64\n",
            " 33   WHIP    61 non-null     float64\n",
            " 34   WRIP    61 non-null     float64\n",
            " 35  HRBIB    61 non-null     float64\n",
            " 36   RAVG    61 non-null     float64\n",
            " 37   FIP     61 non-null     float64\n",
            " 38   DERA    61 non-null     float64\n",
            " 39   STUFF   61 non-null     int64  \n",
            " 40   GURU    61 non-null     int64  \n",
            " 41  salary   61 non-null     float64\n",
            " 42  WAR      61 non-null     float64\n",
            "dtypes: float64(14), int64(24), object(5)\n",
            "memory usage: 20.6+ KB\n"
          ]
        }
      ]
    },
    {
      "cell_type": "code",
      "source": [
        "relievers_train.head(3)"
      ],
      "metadata": {
        "colab": {
          "base_uri": "https://localhost:8080/",
          "height": 173
        },
        "id": "bQxP-yixKK_D",
        "outputId": "211d3803-fa40-4585-fbca-a7cdf487916b"
      },
      "execution_count": 8,
      "outputs": [
        {
          "output_type": "execute_result",
          "data": {
            "text/plain": [
              "          name throws  age  stints teamID  LG      POS1  W  L  CG  ...  \\\n",
              "0    Jo Suarez      L   21       1    LAA  AL  Reliever  2  6   0  ...   \n",
              "1   Ni Pivetta      R   26       1    PHI  NL  Reliever  4  6   1  ...   \n",
              "2  Gi Gallegos      R   27       1    STL  NL  Reliever  3  2   0  ...   \n",
              "\n",
              "    WHIP    WRIP    HRBIB   RAVG    FIP    DERA    STUFF    GURU     salary  \\\n",
              "0    1.64    3.25   0.16     7.44   6.71    6.27        6      9   0.265576   \n",
              "1    1.52    2.55   0.12     6.15   5.45    5.09       28     19   0.440455   \n",
              "2    0.81    1.43   0.08     2.31   3.04    2.85      240    108   0.522200   \n",
              "\n",
              "   WAR  \n",
              "0 -0.6  \n",
              "1 -0.1  \n",
              "2  1.5  \n",
              "\n",
              "[3 rows x 43 columns]"
            ],
            "text/html": [
              "\n",
              "  <div id=\"df-9a7444ed-3f52-484d-bd50-3270d3378d71\">\n",
              "    <div class=\"colab-df-container\">\n",
              "      <div>\n",
              "<style scoped>\n",
              "    .dataframe tbody tr th:only-of-type {\n",
              "        vertical-align: middle;\n",
              "    }\n",
              "\n",
              "    .dataframe tbody tr th {\n",
              "        vertical-align: top;\n",
              "    }\n",
              "\n",
              "    .dataframe thead th {\n",
              "        text-align: right;\n",
              "    }\n",
              "</style>\n",
              "<table border=\"1\" class=\"dataframe\">\n",
              "  <thead>\n",
              "    <tr style=\"text-align: right;\">\n",
              "      <th></th>\n",
              "      <th>name</th>\n",
              "      <th>throws</th>\n",
              "      <th>age</th>\n",
              "      <th>stints</th>\n",
              "      <th>teamID</th>\n",
              "      <th>LG</th>\n",
              "      <th>POS1</th>\n",
              "      <th>W</th>\n",
              "      <th>L</th>\n",
              "      <th>CG</th>\n",
              "      <th>...</th>\n",
              "      <th>WHIP</th>\n",
              "      <th>WRIP</th>\n",
              "      <th>HRBIB</th>\n",
              "      <th>RAVG</th>\n",
              "      <th>FIP</th>\n",
              "      <th>DERA</th>\n",
              "      <th>STUFF</th>\n",
              "      <th>GURU</th>\n",
              "      <th>salary</th>\n",
              "      <th>WAR</th>\n",
              "    </tr>\n",
              "  </thead>\n",
              "  <tbody>\n",
              "    <tr>\n",
              "      <th>0</th>\n",
              "      <td>Jo Suarez</td>\n",
              "      <td>L</td>\n",
              "      <td>21</td>\n",
              "      <td>1</td>\n",
              "      <td>LAA</td>\n",
              "      <td>AL</td>\n",
              "      <td>Reliever</td>\n",
              "      <td>2</td>\n",
              "      <td>6</td>\n",
              "      <td>0</td>\n",
              "      <td>...</td>\n",
              "      <td>1.64</td>\n",
              "      <td>3.25</td>\n",
              "      <td>0.16</td>\n",
              "      <td>7.44</td>\n",
              "      <td>6.71</td>\n",
              "      <td>6.27</td>\n",
              "      <td>6</td>\n",
              "      <td>9</td>\n",
              "      <td>0.265576</td>\n",
              "      <td>-0.6</td>\n",
              "    </tr>\n",
              "    <tr>\n",
              "      <th>1</th>\n",
              "      <td>Ni Pivetta</td>\n",
              "      <td>R</td>\n",
              "      <td>26</td>\n",
              "      <td>1</td>\n",
              "      <td>PHI</td>\n",
              "      <td>NL</td>\n",
              "      <td>Reliever</td>\n",
              "      <td>4</td>\n",
              "      <td>6</td>\n",
              "      <td>1</td>\n",
              "      <td>...</td>\n",
              "      <td>1.52</td>\n",
              "      <td>2.55</td>\n",
              "      <td>0.12</td>\n",
              "      <td>6.15</td>\n",
              "      <td>5.45</td>\n",
              "      <td>5.09</td>\n",
              "      <td>28</td>\n",
              "      <td>19</td>\n",
              "      <td>0.440455</td>\n",
              "      <td>-0.1</td>\n",
              "    </tr>\n",
              "    <tr>\n",
              "      <th>2</th>\n",
              "      <td>Gi Gallegos</td>\n",
              "      <td>R</td>\n",
              "      <td>27</td>\n",
              "      <td>1</td>\n",
              "      <td>STL</td>\n",
              "      <td>NL</td>\n",
              "      <td>Reliever</td>\n",
              "      <td>3</td>\n",
              "      <td>2</td>\n",
              "      <td>0</td>\n",
              "      <td>...</td>\n",
              "      <td>0.81</td>\n",
              "      <td>1.43</td>\n",
              "      <td>0.08</td>\n",
              "      <td>2.31</td>\n",
              "      <td>3.04</td>\n",
              "      <td>2.85</td>\n",
              "      <td>240</td>\n",
              "      <td>108</td>\n",
              "      <td>0.522200</td>\n",
              "      <td>1.5</td>\n",
              "    </tr>\n",
              "  </tbody>\n",
              "</table>\n",
              "<p>3 rows × 43 columns</p>\n",
              "</div>\n",
              "      <button class=\"colab-df-convert\" onclick=\"convertToInteractive('df-9a7444ed-3f52-484d-bd50-3270d3378d71')\"\n",
              "              title=\"Convert this dataframe to an interactive table.\"\n",
              "              style=\"display:none;\">\n",
              "        \n",
              "  <svg xmlns=\"http://www.w3.org/2000/svg\" height=\"24px\"viewBox=\"0 0 24 24\"\n",
              "       width=\"24px\">\n",
              "    <path d=\"M0 0h24v24H0V0z\" fill=\"none\"/>\n",
              "    <path d=\"M18.56 5.44l.94 2.06.94-2.06 2.06-.94-2.06-.94-.94-2.06-.94 2.06-2.06.94zm-11 1L8.5 8.5l.94-2.06 2.06-.94-2.06-.94L8.5 2.5l-.94 2.06-2.06.94zm10 10l.94 2.06.94-2.06 2.06-.94-2.06-.94-.94-2.06-.94 2.06-2.06.94z\"/><path d=\"M17.41 7.96l-1.37-1.37c-.4-.4-.92-.59-1.43-.59-.52 0-1.04.2-1.43.59L10.3 9.45l-7.72 7.72c-.78.78-.78 2.05 0 2.83L4 21.41c.39.39.9.59 1.41.59.51 0 1.02-.2 1.41-.59l7.78-7.78 2.81-2.81c.8-.78.8-2.07 0-2.86zM5.41 20L4 18.59l7.72-7.72 1.47 1.35L5.41 20z\"/>\n",
              "  </svg>\n",
              "      </button>\n",
              "      \n",
              "  <style>\n",
              "    .colab-df-container {\n",
              "      display:flex;\n",
              "      flex-wrap:wrap;\n",
              "      gap: 12px;\n",
              "    }\n",
              "\n",
              "    .colab-df-convert {\n",
              "      background-color: #E8F0FE;\n",
              "      border: none;\n",
              "      border-radius: 50%;\n",
              "      cursor: pointer;\n",
              "      display: none;\n",
              "      fill: #1967D2;\n",
              "      height: 32px;\n",
              "      padding: 0 0 0 0;\n",
              "      width: 32px;\n",
              "    }\n",
              "\n",
              "    .colab-df-convert:hover {\n",
              "      background-color: #E2EBFA;\n",
              "      box-shadow: 0px 1px 2px rgba(60, 64, 67, 0.3), 0px 1px 3px 1px rgba(60, 64, 67, 0.15);\n",
              "      fill: #174EA6;\n",
              "    }\n",
              "\n",
              "    [theme=dark] .colab-df-convert {\n",
              "      background-color: #3B4455;\n",
              "      fill: #D2E3FC;\n",
              "    }\n",
              "\n",
              "    [theme=dark] .colab-df-convert:hover {\n",
              "      background-color: #434B5C;\n",
              "      box-shadow: 0px 1px 3px 1px rgba(0, 0, 0, 0.15);\n",
              "      filter: drop-shadow(0px 1px 2px rgba(0, 0, 0, 0.3));\n",
              "      fill: #FFFFFF;\n",
              "    }\n",
              "  </style>\n",
              "\n",
              "      <script>\n",
              "        const buttonEl =\n",
              "          document.querySelector('#df-9a7444ed-3f52-484d-bd50-3270d3378d71 button.colab-df-convert');\n",
              "        buttonEl.style.display =\n",
              "          google.colab.kernel.accessAllowed ? 'block' : 'none';\n",
              "\n",
              "        async function convertToInteractive(key) {\n",
              "          const element = document.querySelector('#df-9a7444ed-3f52-484d-bd50-3270d3378d71');\n",
              "          const dataTable =\n",
              "            await google.colab.kernel.invokeFunction('convertToInteractive',\n",
              "                                                     [key], {});\n",
              "          if (!dataTable) return;\n",
              "\n",
              "          const docLinkHtml = 'Like what you see? Visit the ' +\n",
              "            '<a target=\"_blank\" href=https://colab.research.google.com/notebooks/data_table.ipynb>data table notebook</a>'\n",
              "            + ' to learn more about interactive tables.';\n",
              "          element.innerHTML = '';\n",
              "          dataTable['output_type'] = 'display_data';\n",
              "          await google.colab.output.renderOutput(dataTable, element);\n",
              "          const docLink = document.createElement('div');\n",
              "          docLink.innerHTML = docLinkHtml;\n",
              "          element.appendChild(docLink);\n",
              "        }\n",
              "      </script>\n",
              "    </div>\n",
              "  </div>\n",
              "  "
            ]
          },
          "metadata": {},
          "execution_count": 8
        }
      ]
    },
    {
      "cell_type": "code",
      "source": [
        "relievers_test.head(3)"
      ],
      "metadata": {
        "colab": {
          "base_uri": "https://localhost:8080/",
          "height": 173
        },
        "id": "RBWQ216ZKL5j",
        "outputId": "84376438-cde1-4ad0-8251-20207f392b31"
      },
      "execution_count": 9,
      "outputs": [
        {
          "output_type": "execute_result",
          "data": {
            "text/plain": [
              "            name throws  age  stints teamID  LG      POS1  W   L  CG  ...  \\\n",
              "0  Jo Zimmermann      R   33       1    DET  AL  Reliever  1  13   0  ...   \n",
              "1        Br Shaw      R   31       1    COL  NL  Reliever  3   2   0  ...   \n",
              "2       Wa Suero      R   27       1    WAS  NL  Reliever  6   9   0  ...   \n",
              "\n",
              "    WHIP    WRIP   HRBIB   RAVG    FIP    DERA    STUFF    GURU    salary  WAR  \n",
              "0    1.52    1.92   0.08    7.15   4.77    4.50       19      31  25.0000  1.2  \n",
              "1    1.36    2.07   0.08    5.50   5.17    5.00       14      16   8.5000 -0.2  \n",
              "2    1.26    1.07   0.04    4.54   3.06    2.94      164      96   0.5625  1.4  \n",
              "\n",
              "[3 rows x 43 columns]"
            ],
            "text/html": [
              "\n",
              "  <div id=\"df-3ddc7442-a6d6-496e-96c6-2b1d2a54d0c0\">\n",
              "    <div class=\"colab-df-container\">\n",
              "      <div>\n",
              "<style scoped>\n",
              "    .dataframe tbody tr th:only-of-type {\n",
              "        vertical-align: middle;\n",
              "    }\n",
              "\n",
              "    .dataframe tbody tr th {\n",
              "        vertical-align: top;\n",
              "    }\n",
              "\n",
              "    .dataframe thead th {\n",
              "        text-align: right;\n",
              "    }\n",
              "</style>\n",
              "<table border=\"1\" class=\"dataframe\">\n",
              "  <thead>\n",
              "    <tr style=\"text-align: right;\">\n",
              "      <th></th>\n",
              "      <th>name</th>\n",
              "      <th>throws</th>\n",
              "      <th>age</th>\n",
              "      <th>stints</th>\n",
              "      <th>teamID</th>\n",
              "      <th>LG</th>\n",
              "      <th>POS1</th>\n",
              "      <th>W</th>\n",
              "      <th>L</th>\n",
              "      <th>CG</th>\n",
              "      <th>...</th>\n",
              "      <th>WHIP</th>\n",
              "      <th>WRIP</th>\n",
              "      <th>HRBIB</th>\n",
              "      <th>RAVG</th>\n",
              "      <th>FIP</th>\n",
              "      <th>DERA</th>\n",
              "      <th>STUFF</th>\n",
              "      <th>GURU</th>\n",
              "      <th>salary</th>\n",
              "      <th>WAR</th>\n",
              "    </tr>\n",
              "  </thead>\n",
              "  <tbody>\n",
              "    <tr>\n",
              "      <th>0</th>\n",
              "      <td>Jo Zimmermann</td>\n",
              "      <td>R</td>\n",
              "      <td>33</td>\n",
              "      <td>1</td>\n",
              "      <td>DET</td>\n",
              "      <td>AL</td>\n",
              "      <td>Reliever</td>\n",
              "      <td>1</td>\n",
              "      <td>13</td>\n",
              "      <td>0</td>\n",
              "      <td>...</td>\n",
              "      <td>1.52</td>\n",
              "      <td>1.92</td>\n",
              "      <td>0.08</td>\n",
              "      <td>7.15</td>\n",
              "      <td>4.77</td>\n",
              "      <td>4.50</td>\n",
              "      <td>19</td>\n",
              "      <td>31</td>\n",
              "      <td>25.0000</td>\n",
              "      <td>1.2</td>\n",
              "    </tr>\n",
              "    <tr>\n",
              "      <th>1</th>\n",
              "      <td>Br Shaw</td>\n",
              "      <td>R</td>\n",
              "      <td>31</td>\n",
              "      <td>1</td>\n",
              "      <td>COL</td>\n",
              "      <td>NL</td>\n",
              "      <td>Reliever</td>\n",
              "      <td>3</td>\n",
              "      <td>2</td>\n",
              "      <td>0</td>\n",
              "      <td>...</td>\n",
              "      <td>1.36</td>\n",
              "      <td>2.07</td>\n",
              "      <td>0.08</td>\n",
              "      <td>5.50</td>\n",
              "      <td>5.17</td>\n",
              "      <td>5.00</td>\n",
              "      <td>14</td>\n",
              "      <td>16</td>\n",
              "      <td>8.5000</td>\n",
              "      <td>-0.2</td>\n",
              "    </tr>\n",
              "    <tr>\n",
              "      <th>2</th>\n",
              "      <td>Wa Suero</td>\n",
              "      <td>R</td>\n",
              "      <td>27</td>\n",
              "      <td>1</td>\n",
              "      <td>WAS</td>\n",
              "      <td>NL</td>\n",
              "      <td>Reliever</td>\n",
              "      <td>6</td>\n",
              "      <td>9</td>\n",
              "      <td>0</td>\n",
              "      <td>...</td>\n",
              "      <td>1.26</td>\n",
              "      <td>1.07</td>\n",
              "      <td>0.04</td>\n",
              "      <td>4.54</td>\n",
              "      <td>3.06</td>\n",
              "      <td>2.94</td>\n",
              "      <td>164</td>\n",
              "      <td>96</td>\n",
              "      <td>0.5625</td>\n",
              "      <td>1.4</td>\n",
              "    </tr>\n",
              "  </tbody>\n",
              "</table>\n",
              "<p>3 rows × 43 columns</p>\n",
              "</div>\n",
              "      <button class=\"colab-df-convert\" onclick=\"convertToInteractive('df-3ddc7442-a6d6-496e-96c6-2b1d2a54d0c0')\"\n",
              "              title=\"Convert this dataframe to an interactive table.\"\n",
              "              style=\"display:none;\">\n",
              "        \n",
              "  <svg xmlns=\"http://www.w3.org/2000/svg\" height=\"24px\"viewBox=\"0 0 24 24\"\n",
              "       width=\"24px\">\n",
              "    <path d=\"M0 0h24v24H0V0z\" fill=\"none\"/>\n",
              "    <path d=\"M18.56 5.44l.94 2.06.94-2.06 2.06-.94-2.06-.94-.94-2.06-.94 2.06-2.06.94zm-11 1L8.5 8.5l.94-2.06 2.06-.94-2.06-.94L8.5 2.5l-.94 2.06-2.06.94zm10 10l.94 2.06.94-2.06 2.06-.94-2.06-.94-.94-2.06-.94 2.06-2.06.94z\"/><path d=\"M17.41 7.96l-1.37-1.37c-.4-.4-.92-.59-1.43-.59-.52 0-1.04.2-1.43.59L10.3 9.45l-7.72 7.72c-.78.78-.78 2.05 0 2.83L4 21.41c.39.39.9.59 1.41.59.51 0 1.02-.2 1.41-.59l7.78-7.78 2.81-2.81c.8-.78.8-2.07 0-2.86zM5.41 20L4 18.59l7.72-7.72 1.47 1.35L5.41 20z\"/>\n",
              "  </svg>\n",
              "      </button>\n",
              "      \n",
              "  <style>\n",
              "    .colab-df-container {\n",
              "      display:flex;\n",
              "      flex-wrap:wrap;\n",
              "      gap: 12px;\n",
              "    }\n",
              "\n",
              "    .colab-df-convert {\n",
              "      background-color: #E8F0FE;\n",
              "      border: none;\n",
              "      border-radius: 50%;\n",
              "      cursor: pointer;\n",
              "      display: none;\n",
              "      fill: #1967D2;\n",
              "      height: 32px;\n",
              "      padding: 0 0 0 0;\n",
              "      width: 32px;\n",
              "    }\n",
              "\n",
              "    .colab-df-convert:hover {\n",
              "      background-color: #E2EBFA;\n",
              "      box-shadow: 0px 1px 2px rgba(60, 64, 67, 0.3), 0px 1px 3px 1px rgba(60, 64, 67, 0.15);\n",
              "      fill: #174EA6;\n",
              "    }\n",
              "\n",
              "    [theme=dark] .colab-df-convert {\n",
              "      background-color: #3B4455;\n",
              "      fill: #D2E3FC;\n",
              "    }\n",
              "\n",
              "    [theme=dark] .colab-df-convert:hover {\n",
              "      background-color: #434B5C;\n",
              "      box-shadow: 0px 1px 3px 1px rgba(0, 0, 0, 0.15);\n",
              "      filter: drop-shadow(0px 1px 2px rgba(0, 0, 0, 0.3));\n",
              "      fill: #FFFFFF;\n",
              "    }\n",
              "  </style>\n",
              "\n",
              "      <script>\n",
              "        const buttonEl =\n",
              "          document.querySelector('#df-3ddc7442-a6d6-496e-96c6-2b1d2a54d0c0 button.colab-df-convert');\n",
              "        buttonEl.style.display =\n",
              "          google.colab.kernel.accessAllowed ? 'block' : 'none';\n",
              "\n",
              "        async function convertToInteractive(key) {\n",
              "          const element = document.querySelector('#df-3ddc7442-a6d6-496e-96c6-2b1d2a54d0c0');\n",
              "          const dataTable =\n",
              "            await google.colab.kernel.invokeFunction('convertToInteractive',\n",
              "                                                     [key], {});\n",
              "          if (!dataTable) return;\n",
              "\n",
              "          const docLinkHtml = 'Like what you see? Visit the ' +\n",
              "            '<a target=\"_blank\" href=https://colab.research.google.com/notebooks/data_table.ipynb>data table notebook</a>'\n",
              "            + ' to learn more about interactive tables.';\n",
              "          element.innerHTML = '';\n",
              "          dataTable['output_type'] = 'display_data';\n",
              "          await google.colab.output.renderOutput(dataTable, element);\n",
              "          const docLink = document.createElement('div');\n",
              "          docLink.innerHTML = docLinkHtml;\n",
              "          element.appendChild(docLink);\n",
              "        }\n",
              "      </script>\n",
              "    </div>\n",
              "  </div>\n",
              "  "
            ]
          },
          "metadata": {},
          "execution_count": 9
        }
      ]
    },
    {
      "cell_type": "code",
      "source": [
        "#drop unncesary columns from both datasets\n",
        "\n",
        "relievers_train.drop(columns = ['name','stints', 'LG', 'teamID'], inplace = True)\n",
        "relievers_test.drop(columns = ['name','stints', 'LG', 'teamID'], inplace = True)\n",
        "relievers_test.head()"
      ],
      "metadata": {
        "colab": {
          "base_uri": "https://localhost:8080/",
          "height": 235
        },
        "id": "dsqdOljHZXvq",
        "outputId": "0172cd95-7b8c-49e0-c342-6c6faf8242ff"
      },
      "execution_count": 10,
      "outputs": [
        {
          "output_type": "execute_result",
          "data": {
            "text/plain": [
              "  throws  age      POS1  W   L  CG  ShO  GP  GS  SV  ...   WHIP    WRIP   \\\n",
              "0      R   33  Reliever  1  13   0    0  23  23   0  ...    1.52    1.92   \n",
              "1      R   31  Reliever  3   2   0    0  70   0   1  ...    1.36    2.07   \n",
              "2      R   27  Reliever  6   9   0    0  78   0   1  ...    1.26    1.07   \n",
              "3      R   34  Reliever  5   3   0    0  80   0   0  ...    0.81    1.45   \n",
              "4      R   26  Reliever  5  10   0    0  24  22   0  ...    1.48    2.27   \n",
              "\n",
              "   HRBIB   RAVG    FIP    DERA    STUFF    GURU     salary  WAR  \n",
              "0   0.08    7.15   4.77    4.50       19      31  25.00000  1.2  \n",
              "1   0.08    5.50   5.17    5.00       14      16   8.50000 -0.2  \n",
              "2   0.04    4.54   3.06    2.94      164      96   0.56250  1.4  \n",
              "3   0.07    2.71   3.57    3.50       76      57   5.50000  1.4  \n",
              "4   0.10    5.38   5.02    4.75       42      27   0.35808  0.2  \n",
              "\n",
              "[5 rows x 39 columns]"
            ],
            "text/html": [
              "\n",
              "  <div id=\"df-a5e98008-3cdb-4248-8758-bf6d1d251009\">\n",
              "    <div class=\"colab-df-container\">\n",
              "      <div>\n",
              "<style scoped>\n",
              "    .dataframe tbody tr th:only-of-type {\n",
              "        vertical-align: middle;\n",
              "    }\n",
              "\n",
              "    .dataframe tbody tr th {\n",
              "        vertical-align: top;\n",
              "    }\n",
              "\n",
              "    .dataframe thead th {\n",
              "        text-align: right;\n",
              "    }\n",
              "</style>\n",
              "<table border=\"1\" class=\"dataframe\">\n",
              "  <thead>\n",
              "    <tr style=\"text-align: right;\">\n",
              "      <th></th>\n",
              "      <th>throws</th>\n",
              "      <th>age</th>\n",
              "      <th>POS1</th>\n",
              "      <th>W</th>\n",
              "      <th>L</th>\n",
              "      <th>CG</th>\n",
              "      <th>ShO</th>\n",
              "      <th>GP</th>\n",
              "      <th>GS</th>\n",
              "      <th>SV</th>\n",
              "      <th>...</th>\n",
              "      <th>WHIP</th>\n",
              "      <th>WRIP</th>\n",
              "      <th>HRBIB</th>\n",
              "      <th>RAVG</th>\n",
              "      <th>FIP</th>\n",
              "      <th>DERA</th>\n",
              "      <th>STUFF</th>\n",
              "      <th>GURU</th>\n",
              "      <th>salary</th>\n",
              "      <th>WAR</th>\n",
              "    </tr>\n",
              "  </thead>\n",
              "  <tbody>\n",
              "    <tr>\n",
              "      <th>0</th>\n",
              "      <td>R</td>\n",
              "      <td>33</td>\n",
              "      <td>Reliever</td>\n",
              "      <td>1</td>\n",
              "      <td>13</td>\n",
              "      <td>0</td>\n",
              "      <td>0</td>\n",
              "      <td>23</td>\n",
              "      <td>23</td>\n",
              "      <td>0</td>\n",
              "      <td>...</td>\n",
              "      <td>1.52</td>\n",
              "      <td>1.92</td>\n",
              "      <td>0.08</td>\n",
              "      <td>7.15</td>\n",
              "      <td>4.77</td>\n",
              "      <td>4.50</td>\n",
              "      <td>19</td>\n",
              "      <td>31</td>\n",
              "      <td>25.00000</td>\n",
              "      <td>1.2</td>\n",
              "    </tr>\n",
              "    <tr>\n",
              "      <th>1</th>\n",
              "      <td>R</td>\n",
              "      <td>31</td>\n",
              "      <td>Reliever</td>\n",
              "      <td>3</td>\n",
              "      <td>2</td>\n",
              "      <td>0</td>\n",
              "      <td>0</td>\n",
              "      <td>70</td>\n",
              "      <td>0</td>\n",
              "      <td>1</td>\n",
              "      <td>...</td>\n",
              "      <td>1.36</td>\n",
              "      <td>2.07</td>\n",
              "      <td>0.08</td>\n",
              "      <td>5.50</td>\n",
              "      <td>5.17</td>\n",
              "      <td>5.00</td>\n",
              "      <td>14</td>\n",
              "      <td>16</td>\n",
              "      <td>8.50000</td>\n",
              "      <td>-0.2</td>\n",
              "    </tr>\n",
              "    <tr>\n",
              "      <th>2</th>\n",
              "      <td>R</td>\n",
              "      <td>27</td>\n",
              "      <td>Reliever</td>\n",
              "      <td>6</td>\n",
              "      <td>9</td>\n",
              "      <td>0</td>\n",
              "      <td>0</td>\n",
              "      <td>78</td>\n",
              "      <td>0</td>\n",
              "      <td>1</td>\n",
              "      <td>...</td>\n",
              "      <td>1.26</td>\n",
              "      <td>1.07</td>\n",
              "      <td>0.04</td>\n",
              "      <td>4.54</td>\n",
              "      <td>3.06</td>\n",
              "      <td>2.94</td>\n",
              "      <td>164</td>\n",
              "      <td>96</td>\n",
              "      <td>0.56250</td>\n",
              "      <td>1.4</td>\n",
              "    </tr>\n",
              "    <tr>\n",
              "      <th>3</th>\n",
              "      <td>R</td>\n",
              "      <td>34</td>\n",
              "      <td>Reliever</td>\n",
              "      <td>5</td>\n",
              "      <td>3</td>\n",
              "      <td>0</td>\n",
              "      <td>0</td>\n",
              "      <td>80</td>\n",
              "      <td>0</td>\n",
              "      <td>0</td>\n",
              "      <td>...</td>\n",
              "      <td>0.81</td>\n",
              "      <td>1.45</td>\n",
              "      <td>0.07</td>\n",
              "      <td>2.71</td>\n",
              "      <td>3.57</td>\n",
              "      <td>3.50</td>\n",
              "      <td>76</td>\n",
              "      <td>57</td>\n",
              "      <td>5.50000</td>\n",
              "      <td>1.4</td>\n",
              "    </tr>\n",
              "    <tr>\n",
              "      <th>4</th>\n",
              "      <td>R</td>\n",
              "      <td>26</td>\n",
              "      <td>Reliever</td>\n",
              "      <td>5</td>\n",
              "      <td>10</td>\n",
              "      <td>0</td>\n",
              "      <td>0</td>\n",
              "      <td>24</td>\n",
              "      <td>22</td>\n",
              "      <td>0</td>\n",
              "      <td>...</td>\n",
              "      <td>1.48</td>\n",
              "      <td>2.27</td>\n",
              "      <td>0.10</td>\n",
              "      <td>5.38</td>\n",
              "      <td>5.02</td>\n",
              "      <td>4.75</td>\n",
              "      <td>42</td>\n",
              "      <td>27</td>\n",
              "      <td>0.35808</td>\n",
              "      <td>0.2</td>\n",
              "    </tr>\n",
              "  </tbody>\n",
              "</table>\n",
              "<p>5 rows × 39 columns</p>\n",
              "</div>\n",
              "      <button class=\"colab-df-convert\" onclick=\"convertToInteractive('df-a5e98008-3cdb-4248-8758-bf6d1d251009')\"\n",
              "              title=\"Convert this dataframe to an interactive table.\"\n",
              "              style=\"display:none;\">\n",
              "        \n",
              "  <svg xmlns=\"http://www.w3.org/2000/svg\" height=\"24px\"viewBox=\"0 0 24 24\"\n",
              "       width=\"24px\">\n",
              "    <path d=\"M0 0h24v24H0V0z\" fill=\"none\"/>\n",
              "    <path d=\"M18.56 5.44l.94 2.06.94-2.06 2.06-.94-2.06-.94-.94-2.06-.94 2.06-2.06.94zm-11 1L8.5 8.5l.94-2.06 2.06-.94-2.06-.94L8.5 2.5l-.94 2.06-2.06.94zm10 10l.94 2.06.94-2.06 2.06-.94-2.06-.94-.94-2.06-.94 2.06-2.06.94z\"/><path d=\"M17.41 7.96l-1.37-1.37c-.4-.4-.92-.59-1.43-.59-.52 0-1.04.2-1.43.59L10.3 9.45l-7.72 7.72c-.78.78-.78 2.05 0 2.83L4 21.41c.39.39.9.59 1.41.59.51 0 1.02-.2 1.41-.59l7.78-7.78 2.81-2.81c.8-.78.8-2.07 0-2.86zM5.41 20L4 18.59l7.72-7.72 1.47 1.35L5.41 20z\"/>\n",
              "  </svg>\n",
              "      </button>\n",
              "      \n",
              "  <style>\n",
              "    .colab-df-container {\n",
              "      display:flex;\n",
              "      flex-wrap:wrap;\n",
              "      gap: 12px;\n",
              "    }\n",
              "\n",
              "    .colab-df-convert {\n",
              "      background-color: #E8F0FE;\n",
              "      border: none;\n",
              "      border-radius: 50%;\n",
              "      cursor: pointer;\n",
              "      display: none;\n",
              "      fill: #1967D2;\n",
              "      height: 32px;\n",
              "      padding: 0 0 0 0;\n",
              "      width: 32px;\n",
              "    }\n",
              "\n",
              "    .colab-df-convert:hover {\n",
              "      background-color: #E2EBFA;\n",
              "      box-shadow: 0px 1px 2px rgba(60, 64, 67, 0.3), 0px 1px 3px 1px rgba(60, 64, 67, 0.15);\n",
              "      fill: #174EA6;\n",
              "    }\n",
              "\n",
              "    [theme=dark] .colab-df-convert {\n",
              "      background-color: #3B4455;\n",
              "      fill: #D2E3FC;\n",
              "    }\n",
              "\n",
              "    [theme=dark] .colab-df-convert:hover {\n",
              "      background-color: #434B5C;\n",
              "      box-shadow: 0px 1px 3px 1px rgba(0, 0, 0, 0.15);\n",
              "      filter: drop-shadow(0px 1px 2px rgba(0, 0, 0, 0.3));\n",
              "      fill: #FFFFFF;\n",
              "    }\n",
              "  </style>\n",
              "\n",
              "      <script>\n",
              "        const buttonEl =\n",
              "          document.querySelector('#df-a5e98008-3cdb-4248-8758-bf6d1d251009 button.colab-df-convert');\n",
              "        buttonEl.style.display =\n",
              "          google.colab.kernel.accessAllowed ? 'block' : 'none';\n",
              "\n",
              "        async function convertToInteractive(key) {\n",
              "          const element = document.querySelector('#df-a5e98008-3cdb-4248-8758-bf6d1d251009');\n",
              "          const dataTable =\n",
              "            await google.colab.kernel.invokeFunction('convertToInteractive',\n",
              "                                                     [key], {});\n",
              "          if (!dataTable) return;\n",
              "\n",
              "          const docLinkHtml = 'Like what you see? Visit the ' +\n",
              "            '<a target=\"_blank\" href=https://colab.research.google.com/notebooks/data_table.ipynb>data table notebook</a>'\n",
              "            + ' to learn more about interactive tables.';\n",
              "          element.innerHTML = '';\n",
              "          dataTable['output_type'] = 'display_data';\n",
              "          await google.colab.output.renderOutput(dataTable, element);\n",
              "          const docLink = document.createElement('div');\n",
              "          docLink.innerHTML = docLinkHtml;\n",
              "          element.appendChild(docLink);\n",
              "        }\n",
              "      </script>\n",
              "    </div>\n",
              "  </div>\n",
              "  "
            ]
          },
          "metadata": {},
          "execution_count": 10
        }
      ]
    },
    {
      "cell_type": "markdown",
      "source": [
        "# Reminding ourselves of the train and test data shapes (we performed an 80-20 split previously then normalized both independently)"
      ],
      "metadata": {
        "id": "XiZ7zpNQdl-j"
      }
    },
    {
      "cell_type": "code",
      "source": [
        "print('Position Players Train:')\n",
        "print('Train dataset dimensions: ', relievers_train.shape, '\\n')\n",
        "\n",
        "print('Position Players Test:')\n",
        "print('Test dataset dimensions: ', relievers_test.shape, '\\n')"
      ],
      "metadata": {
        "colab": {
          "base_uri": "https://localhost:8080/"
        },
        "id": "CYOaYX2cdubH",
        "outputId": "e67dc53a-90e6-4ddc-8cef-d5de3f031533"
      },
      "execution_count": 11,
      "outputs": [
        {
          "output_type": "stream",
          "name": "stdout",
          "text": [
            "Position Players Train:\n",
            "Train dataset dimensions:  (242, 39) \n",
            "\n",
            "Position Players Test:\n",
            "Test dataset dimensions:  (61, 39) \n",
            "\n"
          ]
        }
      ]
    },
    {
      "cell_type": "markdown",
      "source": [
        "# Add on feature for under rookie contract. If a player is 25 or under they are on their rookie contract else they are typically not"
      ],
      "metadata": {
        "id": "aOWJ1ppTLvEa"
      }
    },
    {
      "cell_type": "code",
      "source": [
        "relievers_train['Rookie contract'] = ''\n",
        "relievers_test['Rookie contract'] = ''\n",
        "\n",
        "for index, row in relievers_train.iterrows():\n",
        "  if relievers_train.at[index,'age'] <= 25:\n",
        "    relievers_train.at[index,'Rookie contract'] = 1\n",
        "  else:\n",
        "    relievers_train.at[index,'Rookie contract'] = 0\n",
        "\n",
        "for index, row in relievers_test.iterrows():\n",
        "  if relievers_test.at[index,'age'] <= 25:\n",
        "    relievers_test.at[index,'Rookie contract'] = 1\n",
        "  else:\n",
        "    relievers_test.at[index,'Rookie contract'] = 0"
      ],
      "metadata": {
        "id": "GhNKHo3eL1Qx"
      },
      "execution_count": 12,
      "outputs": []
    },
    {
      "cell_type": "markdown",
      "source": [
        "# One-hot encode position:"
      ],
      "metadata": {
        "id": "o5lSMgEvKvLV"
      }
    },
    {
      "cell_type": "code",
      "source": [
        "dummy_position = pd.get_dummies(relievers_train['POS1'])\n",
        "dummy_throws = pd.get_dummies(relievers_train['throws'], prefix = 'throws')\n",
        "items = [dummy_position, dummy_throws]\n",
        "for item in items:\n",
        "  relievers_train = pd.merge(left = relievers_train, right = item, left_index = True, right_index = True)\n",
        "\n",
        "relievers_train.drop(columns = ['POS1', 'throws'], axis = 1, inplace = True)"
      ],
      "metadata": {
        "id": "1ozMyZ1LKwdM"
      },
      "execution_count": 13,
      "outputs": []
    },
    {
      "cell_type": "code",
      "source": [
        "dummy_pos = pd.get_dummies(relievers_test['POS1'])\n",
        "dummy_throw = pd.get_dummies(relievers_test['throws'], prefix = 'throws')\n",
        "items = [dummy_pos, dummy_throw]\n",
        "\n",
        "for item in items:\n",
        "  relievers_test = pd.merge(left = relievers_test, right = item, left_index = True, right_index = True)\n",
        "\n",
        "relievers_test.drop(columns = ['POS1', 'throws'], axis = 1, inplace = True)"
      ],
      "metadata": {
        "id": "vGKArPa-LDKe"
      },
      "execution_count": 14,
      "outputs": []
    },
    {
      "cell_type": "code",
      "source": [
        "#display both  dataframes to ensure we have done this correctly\n",
        "relievers_train.head(3)"
      ],
      "metadata": {
        "colab": {
          "base_uri": "https://localhost:8080/",
          "height": 173
        },
        "id": "BM68Glr_LDS0",
        "outputId": "04e094a6-f554-4f9b-9477-5253b0c94c40"
      },
      "execution_count": 15,
      "outputs": [
        {
          "output_type": "execute_result",
          "data": {
            "text/plain": [
              "   age  W  L  CG  ShO  GP  GS  SV  GF  IPOuts  ...   FIP    DERA    STUFF   \\\n",
              "0   21  2  6   0    0  19  15   0   0     243  ...   6.71    6.27        6   \n",
              "1   26  4  6   1    0  30  13   1   8     281  ...   5.45    5.09       28   \n",
              "2   27  3  2   0    0  66   0   1  10     222  ...   3.04    2.85      240   \n",
              "\n",
              "    GURU     salary  WAR  Rookie contract  Reliever  throws_L  throws_R  \n",
              "0      9   0.265576 -0.6                1         1         1         0  \n",
              "1     19   0.440455 -0.1                0         1         0         1  \n",
              "2    108   0.522200  1.5                0         1         0         1  \n",
              "\n",
              "[3 rows x 41 columns]"
            ],
            "text/html": [
              "\n",
              "  <div id=\"df-fc9a44fc-f022-475f-8956-a9873759c332\">\n",
              "    <div class=\"colab-df-container\">\n",
              "      <div>\n",
              "<style scoped>\n",
              "    .dataframe tbody tr th:only-of-type {\n",
              "        vertical-align: middle;\n",
              "    }\n",
              "\n",
              "    .dataframe tbody tr th {\n",
              "        vertical-align: top;\n",
              "    }\n",
              "\n",
              "    .dataframe thead th {\n",
              "        text-align: right;\n",
              "    }\n",
              "</style>\n",
              "<table border=\"1\" class=\"dataframe\">\n",
              "  <thead>\n",
              "    <tr style=\"text-align: right;\">\n",
              "      <th></th>\n",
              "      <th>age</th>\n",
              "      <th>W</th>\n",
              "      <th>L</th>\n",
              "      <th>CG</th>\n",
              "      <th>ShO</th>\n",
              "      <th>GP</th>\n",
              "      <th>GS</th>\n",
              "      <th>SV</th>\n",
              "      <th>GF</th>\n",
              "      <th>IPOuts</th>\n",
              "      <th>...</th>\n",
              "      <th>FIP</th>\n",
              "      <th>DERA</th>\n",
              "      <th>STUFF</th>\n",
              "      <th>GURU</th>\n",
              "      <th>salary</th>\n",
              "      <th>WAR</th>\n",
              "      <th>Rookie contract</th>\n",
              "      <th>Reliever</th>\n",
              "      <th>throws_L</th>\n",
              "      <th>throws_R</th>\n",
              "    </tr>\n",
              "  </thead>\n",
              "  <tbody>\n",
              "    <tr>\n",
              "      <th>0</th>\n",
              "      <td>21</td>\n",
              "      <td>2</td>\n",
              "      <td>6</td>\n",
              "      <td>0</td>\n",
              "      <td>0</td>\n",
              "      <td>19</td>\n",
              "      <td>15</td>\n",
              "      <td>0</td>\n",
              "      <td>0</td>\n",
              "      <td>243</td>\n",
              "      <td>...</td>\n",
              "      <td>6.71</td>\n",
              "      <td>6.27</td>\n",
              "      <td>6</td>\n",
              "      <td>9</td>\n",
              "      <td>0.265576</td>\n",
              "      <td>-0.6</td>\n",
              "      <td>1</td>\n",
              "      <td>1</td>\n",
              "      <td>1</td>\n",
              "      <td>0</td>\n",
              "    </tr>\n",
              "    <tr>\n",
              "      <th>1</th>\n",
              "      <td>26</td>\n",
              "      <td>4</td>\n",
              "      <td>6</td>\n",
              "      <td>1</td>\n",
              "      <td>0</td>\n",
              "      <td>30</td>\n",
              "      <td>13</td>\n",
              "      <td>1</td>\n",
              "      <td>8</td>\n",
              "      <td>281</td>\n",
              "      <td>...</td>\n",
              "      <td>5.45</td>\n",
              "      <td>5.09</td>\n",
              "      <td>28</td>\n",
              "      <td>19</td>\n",
              "      <td>0.440455</td>\n",
              "      <td>-0.1</td>\n",
              "      <td>0</td>\n",
              "      <td>1</td>\n",
              "      <td>0</td>\n",
              "      <td>1</td>\n",
              "    </tr>\n",
              "    <tr>\n",
              "      <th>2</th>\n",
              "      <td>27</td>\n",
              "      <td>3</td>\n",
              "      <td>2</td>\n",
              "      <td>0</td>\n",
              "      <td>0</td>\n",
              "      <td>66</td>\n",
              "      <td>0</td>\n",
              "      <td>1</td>\n",
              "      <td>10</td>\n",
              "      <td>222</td>\n",
              "      <td>...</td>\n",
              "      <td>3.04</td>\n",
              "      <td>2.85</td>\n",
              "      <td>240</td>\n",
              "      <td>108</td>\n",
              "      <td>0.522200</td>\n",
              "      <td>1.5</td>\n",
              "      <td>0</td>\n",
              "      <td>1</td>\n",
              "      <td>0</td>\n",
              "      <td>1</td>\n",
              "    </tr>\n",
              "  </tbody>\n",
              "</table>\n",
              "<p>3 rows × 41 columns</p>\n",
              "</div>\n",
              "      <button class=\"colab-df-convert\" onclick=\"convertToInteractive('df-fc9a44fc-f022-475f-8956-a9873759c332')\"\n",
              "              title=\"Convert this dataframe to an interactive table.\"\n",
              "              style=\"display:none;\">\n",
              "        \n",
              "  <svg xmlns=\"http://www.w3.org/2000/svg\" height=\"24px\"viewBox=\"0 0 24 24\"\n",
              "       width=\"24px\">\n",
              "    <path d=\"M0 0h24v24H0V0z\" fill=\"none\"/>\n",
              "    <path d=\"M18.56 5.44l.94 2.06.94-2.06 2.06-.94-2.06-.94-.94-2.06-.94 2.06-2.06.94zm-11 1L8.5 8.5l.94-2.06 2.06-.94-2.06-.94L8.5 2.5l-.94 2.06-2.06.94zm10 10l.94 2.06.94-2.06 2.06-.94-2.06-.94-.94-2.06-.94 2.06-2.06.94z\"/><path d=\"M17.41 7.96l-1.37-1.37c-.4-.4-.92-.59-1.43-.59-.52 0-1.04.2-1.43.59L10.3 9.45l-7.72 7.72c-.78.78-.78 2.05 0 2.83L4 21.41c.39.39.9.59 1.41.59.51 0 1.02-.2 1.41-.59l7.78-7.78 2.81-2.81c.8-.78.8-2.07 0-2.86zM5.41 20L4 18.59l7.72-7.72 1.47 1.35L5.41 20z\"/>\n",
              "  </svg>\n",
              "      </button>\n",
              "      \n",
              "  <style>\n",
              "    .colab-df-container {\n",
              "      display:flex;\n",
              "      flex-wrap:wrap;\n",
              "      gap: 12px;\n",
              "    }\n",
              "\n",
              "    .colab-df-convert {\n",
              "      background-color: #E8F0FE;\n",
              "      border: none;\n",
              "      border-radius: 50%;\n",
              "      cursor: pointer;\n",
              "      display: none;\n",
              "      fill: #1967D2;\n",
              "      height: 32px;\n",
              "      padding: 0 0 0 0;\n",
              "      width: 32px;\n",
              "    }\n",
              "\n",
              "    .colab-df-convert:hover {\n",
              "      background-color: #E2EBFA;\n",
              "      box-shadow: 0px 1px 2px rgba(60, 64, 67, 0.3), 0px 1px 3px 1px rgba(60, 64, 67, 0.15);\n",
              "      fill: #174EA6;\n",
              "    }\n",
              "\n",
              "    [theme=dark] .colab-df-convert {\n",
              "      background-color: #3B4455;\n",
              "      fill: #D2E3FC;\n",
              "    }\n",
              "\n",
              "    [theme=dark] .colab-df-convert:hover {\n",
              "      background-color: #434B5C;\n",
              "      box-shadow: 0px 1px 3px 1px rgba(0, 0, 0, 0.15);\n",
              "      filter: drop-shadow(0px 1px 2px rgba(0, 0, 0, 0.3));\n",
              "      fill: #FFFFFF;\n",
              "    }\n",
              "  </style>\n",
              "\n",
              "      <script>\n",
              "        const buttonEl =\n",
              "          document.querySelector('#df-fc9a44fc-f022-475f-8956-a9873759c332 button.colab-df-convert');\n",
              "        buttonEl.style.display =\n",
              "          google.colab.kernel.accessAllowed ? 'block' : 'none';\n",
              "\n",
              "        async function convertToInteractive(key) {\n",
              "          const element = document.querySelector('#df-fc9a44fc-f022-475f-8956-a9873759c332');\n",
              "          const dataTable =\n",
              "            await google.colab.kernel.invokeFunction('convertToInteractive',\n",
              "                                                     [key], {});\n",
              "          if (!dataTable) return;\n",
              "\n",
              "          const docLinkHtml = 'Like what you see? Visit the ' +\n",
              "            '<a target=\"_blank\" href=https://colab.research.google.com/notebooks/data_table.ipynb>data table notebook</a>'\n",
              "            + ' to learn more about interactive tables.';\n",
              "          element.innerHTML = '';\n",
              "          dataTable['output_type'] = 'display_data';\n",
              "          await google.colab.output.renderOutput(dataTable, element);\n",
              "          const docLink = document.createElement('div');\n",
              "          docLink.innerHTML = docLinkHtml;\n",
              "          element.appendChild(docLink);\n",
              "        }\n",
              "      </script>\n",
              "    </div>\n",
              "  </div>\n",
              "  "
            ]
          },
          "metadata": {},
          "execution_count": 15
        }
      ]
    },
    {
      "cell_type": "code",
      "source": [
        "relievers_test.head(3)"
      ],
      "metadata": {
        "colab": {
          "base_uri": "https://localhost:8080/",
          "height": 173
        },
        "id": "5q0yOt0EMUXg",
        "outputId": "27670b30-315e-416a-a30f-e197014d226f"
      },
      "execution_count": 16,
      "outputs": [
        {
          "output_type": "execute_result",
          "data": {
            "text/plain": [
              "   age  W   L  CG  ShO  GP  GS  SV  GF  IPOuts  ...   FIP    DERA    STUFF   \\\n",
              "0   33  1  13   0    0  23  23   0   0     336  ...   4.77    4.50       19   \n",
              "1   31  3   2   0    0  70   0   1  18     216  ...   5.17    5.00       14   \n",
              "2   27  6   9   0    0  78   0   1  10     214  ...   3.06    2.94      164   \n",
              "\n",
              "    GURU    salary  WAR  Rookie contract  Reliever  throws_L  throws_R  \n",
              "0      31  25.0000  1.2                0         1         0         1  \n",
              "1      16   8.5000 -0.2                0         1         0         1  \n",
              "2      96   0.5625  1.4                0         1         0         1  \n",
              "\n",
              "[3 rows x 41 columns]"
            ],
            "text/html": [
              "\n",
              "  <div id=\"df-7695d738-f6dc-4eda-ab04-14c7e8388b1a\">\n",
              "    <div class=\"colab-df-container\">\n",
              "      <div>\n",
              "<style scoped>\n",
              "    .dataframe tbody tr th:only-of-type {\n",
              "        vertical-align: middle;\n",
              "    }\n",
              "\n",
              "    .dataframe tbody tr th {\n",
              "        vertical-align: top;\n",
              "    }\n",
              "\n",
              "    .dataframe thead th {\n",
              "        text-align: right;\n",
              "    }\n",
              "</style>\n",
              "<table border=\"1\" class=\"dataframe\">\n",
              "  <thead>\n",
              "    <tr style=\"text-align: right;\">\n",
              "      <th></th>\n",
              "      <th>age</th>\n",
              "      <th>W</th>\n",
              "      <th>L</th>\n",
              "      <th>CG</th>\n",
              "      <th>ShO</th>\n",
              "      <th>GP</th>\n",
              "      <th>GS</th>\n",
              "      <th>SV</th>\n",
              "      <th>GF</th>\n",
              "      <th>IPOuts</th>\n",
              "      <th>...</th>\n",
              "      <th>FIP</th>\n",
              "      <th>DERA</th>\n",
              "      <th>STUFF</th>\n",
              "      <th>GURU</th>\n",
              "      <th>salary</th>\n",
              "      <th>WAR</th>\n",
              "      <th>Rookie contract</th>\n",
              "      <th>Reliever</th>\n",
              "      <th>throws_L</th>\n",
              "      <th>throws_R</th>\n",
              "    </tr>\n",
              "  </thead>\n",
              "  <tbody>\n",
              "    <tr>\n",
              "      <th>0</th>\n",
              "      <td>33</td>\n",
              "      <td>1</td>\n",
              "      <td>13</td>\n",
              "      <td>0</td>\n",
              "      <td>0</td>\n",
              "      <td>23</td>\n",
              "      <td>23</td>\n",
              "      <td>0</td>\n",
              "      <td>0</td>\n",
              "      <td>336</td>\n",
              "      <td>...</td>\n",
              "      <td>4.77</td>\n",
              "      <td>4.50</td>\n",
              "      <td>19</td>\n",
              "      <td>31</td>\n",
              "      <td>25.0000</td>\n",
              "      <td>1.2</td>\n",
              "      <td>0</td>\n",
              "      <td>1</td>\n",
              "      <td>0</td>\n",
              "      <td>1</td>\n",
              "    </tr>\n",
              "    <tr>\n",
              "      <th>1</th>\n",
              "      <td>31</td>\n",
              "      <td>3</td>\n",
              "      <td>2</td>\n",
              "      <td>0</td>\n",
              "      <td>0</td>\n",
              "      <td>70</td>\n",
              "      <td>0</td>\n",
              "      <td>1</td>\n",
              "      <td>18</td>\n",
              "      <td>216</td>\n",
              "      <td>...</td>\n",
              "      <td>5.17</td>\n",
              "      <td>5.00</td>\n",
              "      <td>14</td>\n",
              "      <td>16</td>\n",
              "      <td>8.5000</td>\n",
              "      <td>-0.2</td>\n",
              "      <td>0</td>\n",
              "      <td>1</td>\n",
              "      <td>0</td>\n",
              "      <td>1</td>\n",
              "    </tr>\n",
              "    <tr>\n",
              "      <th>2</th>\n",
              "      <td>27</td>\n",
              "      <td>6</td>\n",
              "      <td>9</td>\n",
              "      <td>0</td>\n",
              "      <td>0</td>\n",
              "      <td>78</td>\n",
              "      <td>0</td>\n",
              "      <td>1</td>\n",
              "      <td>10</td>\n",
              "      <td>214</td>\n",
              "      <td>...</td>\n",
              "      <td>3.06</td>\n",
              "      <td>2.94</td>\n",
              "      <td>164</td>\n",
              "      <td>96</td>\n",
              "      <td>0.5625</td>\n",
              "      <td>1.4</td>\n",
              "      <td>0</td>\n",
              "      <td>1</td>\n",
              "      <td>0</td>\n",
              "      <td>1</td>\n",
              "    </tr>\n",
              "  </tbody>\n",
              "</table>\n",
              "<p>3 rows × 41 columns</p>\n",
              "</div>\n",
              "      <button class=\"colab-df-convert\" onclick=\"convertToInteractive('df-7695d738-f6dc-4eda-ab04-14c7e8388b1a')\"\n",
              "              title=\"Convert this dataframe to an interactive table.\"\n",
              "              style=\"display:none;\">\n",
              "        \n",
              "  <svg xmlns=\"http://www.w3.org/2000/svg\" height=\"24px\"viewBox=\"0 0 24 24\"\n",
              "       width=\"24px\">\n",
              "    <path d=\"M0 0h24v24H0V0z\" fill=\"none\"/>\n",
              "    <path d=\"M18.56 5.44l.94 2.06.94-2.06 2.06-.94-2.06-.94-.94-2.06-.94 2.06-2.06.94zm-11 1L8.5 8.5l.94-2.06 2.06-.94-2.06-.94L8.5 2.5l-.94 2.06-2.06.94zm10 10l.94 2.06.94-2.06 2.06-.94-2.06-.94-.94-2.06-.94 2.06-2.06.94z\"/><path d=\"M17.41 7.96l-1.37-1.37c-.4-.4-.92-.59-1.43-.59-.52 0-1.04.2-1.43.59L10.3 9.45l-7.72 7.72c-.78.78-.78 2.05 0 2.83L4 21.41c.39.39.9.59 1.41.59.51 0 1.02-.2 1.41-.59l7.78-7.78 2.81-2.81c.8-.78.8-2.07 0-2.86zM5.41 20L4 18.59l7.72-7.72 1.47 1.35L5.41 20z\"/>\n",
              "  </svg>\n",
              "      </button>\n",
              "      \n",
              "  <style>\n",
              "    .colab-df-container {\n",
              "      display:flex;\n",
              "      flex-wrap:wrap;\n",
              "      gap: 12px;\n",
              "    }\n",
              "\n",
              "    .colab-df-convert {\n",
              "      background-color: #E8F0FE;\n",
              "      border: none;\n",
              "      border-radius: 50%;\n",
              "      cursor: pointer;\n",
              "      display: none;\n",
              "      fill: #1967D2;\n",
              "      height: 32px;\n",
              "      padding: 0 0 0 0;\n",
              "      width: 32px;\n",
              "    }\n",
              "\n",
              "    .colab-df-convert:hover {\n",
              "      background-color: #E2EBFA;\n",
              "      box-shadow: 0px 1px 2px rgba(60, 64, 67, 0.3), 0px 1px 3px 1px rgba(60, 64, 67, 0.15);\n",
              "      fill: #174EA6;\n",
              "    }\n",
              "\n",
              "    [theme=dark] .colab-df-convert {\n",
              "      background-color: #3B4455;\n",
              "      fill: #D2E3FC;\n",
              "    }\n",
              "\n",
              "    [theme=dark] .colab-df-convert:hover {\n",
              "      background-color: #434B5C;\n",
              "      box-shadow: 0px 1px 3px 1px rgba(0, 0, 0, 0.15);\n",
              "      filter: drop-shadow(0px 1px 2px rgba(0, 0, 0, 0.3));\n",
              "      fill: #FFFFFF;\n",
              "    }\n",
              "  </style>\n",
              "\n",
              "      <script>\n",
              "        const buttonEl =\n",
              "          document.querySelector('#df-7695d738-f6dc-4eda-ab04-14c7e8388b1a button.colab-df-convert');\n",
              "        buttonEl.style.display =\n",
              "          google.colab.kernel.accessAllowed ? 'block' : 'none';\n",
              "\n",
              "        async function convertToInteractive(key) {\n",
              "          const element = document.querySelector('#df-7695d738-f6dc-4eda-ab04-14c7e8388b1a');\n",
              "          const dataTable =\n",
              "            await google.colab.kernel.invokeFunction('convertToInteractive',\n",
              "                                                     [key], {});\n",
              "          if (!dataTable) return;\n",
              "\n",
              "          const docLinkHtml = 'Like what you see? Visit the ' +\n",
              "            '<a target=\"_blank\" href=https://colab.research.google.com/notebooks/data_table.ipynb>data table notebook</a>'\n",
              "            + ' to learn more about interactive tables.';\n",
              "          element.innerHTML = '';\n",
              "          dataTable['output_type'] = 'display_data';\n",
              "          await google.colab.output.renderOutput(dataTable, element);\n",
              "          const docLink = document.createElement('div');\n",
              "          docLink.innerHTML = docLinkHtml;\n",
              "          element.appendChild(docLink);\n",
              "        }\n",
              "      </script>\n",
              "    </div>\n",
              "  </div>\n",
              "  "
            ]
          },
          "metadata": {},
          "execution_count": 16
        }
      ]
    },
    {
      "cell_type": "code",
      "source": [
        "#pitchers train has two invalid entries which are causing issues. We will drop these rows\n",
        "\n",
        "#one value occurs in row 87\n",
        "print(relievers_train.at[87, ' HR9 '])\n",
        "relievers_train = relievers_train.drop(87)\n",
        "\n",
        "#the other occurs in row 177\n",
        "print(relievers_train.at[177, ' GURU '])\n",
        "relievers_train = relievers_train.drop(177)\n",
        "relievers_train = relievers_train.reset_index(drop = True)"
      ],
      "metadata": {
        "colab": {
          "base_uri": "https://localhost:8080/"
        },
        "id": "Lrau_wC4NeEe",
        "outputId": "330f882f-3264-47c6-f10f-acd50dc5c85b"
      },
      "execution_count": 17,
      "outputs": [
        {
          "output_type": "stream",
          "name": "stdout",
          "text": [
            " -   \n",
            " 1,325 \n"
          ]
        }
      ]
    },
    {
      "cell_type": "code",
      "source": [
        "relievers_test.head(10)"
      ],
      "metadata": {
        "colab": {
          "base_uri": "https://localhost:8080/",
          "height": 392
        },
        "id": "EsYoWTC-Pxwo",
        "outputId": "95fcd424-752f-45e0-efc3-f4e865d925d7"
      },
      "execution_count": 18,
      "outputs": [
        {
          "output_type": "execute_result",
          "data": {
            "text/plain": [
              "   age  W   L  CG  ShO  GP  GS  SV  GF  IPOuts  ...   FIP    DERA    STUFF   \\\n",
              "0   33  1  13   0    0  23  23   0   0     336  ...   4.77    4.50       19   \n",
              "1   31  3   2   0    0  70   0   1  18     216  ...   5.17    5.00       14   \n",
              "2   27  6   9   0    0  78   0   1  10     214  ...   3.06    2.94      164   \n",
              "3   34  5   3   0    0  80   0   0   6     249  ...   3.57    3.50       76   \n",
              "4   26  5  10   0    0  24  22   0   0     351  ...   5.02    4.75       42   \n",
              "5   35  0   1   0    0  11   4   0   1      48  ...   6.64    6.54        0   \n",
              "6   28  3   1   0    0  52   0   1  13     148  ...   4.90    4.77       18   \n",
              "7   28  1   3   0    0   7   7   0   0     107  ...   6.37    6.04        7   \n",
              "8   27  2   1   0    0  43   0   1  14     243  ...   4.85    4.67       38   \n",
              "9   26  3   5   0    0  14  14   0   0     219  ...   3.90    3.72      243   \n",
              "\n",
              "    GURU      salary  WAR  Rookie contract  Reliever  throws_L  throws_R  \n",
              "0      31  25.000000  1.2                0         1         0         1  \n",
              "1      16   8.500000 -0.2                0         1         0         1  \n",
              "2      96   0.562500  1.4                0         1         0         1  \n",
              "3      57   5.500000  1.4                0         1         0         1  \n",
              "4      27   0.358080  0.2                0         1         0         1  \n",
              "5       2   2.000000 -0.2                0         1         0         1  \n",
              "6      15   0.367032 -0.2                0         1         0         1  \n",
              "7       5   9.650000 -0.1                0         1         1         0  \n",
              "8      22   0.578975  0.0                0         1         0         1  \n",
              "9      44   0.566700  1.2                0         1         0         1  \n",
              "\n",
              "[10 rows x 41 columns]"
            ],
            "text/html": [
              "\n",
              "  <div id=\"df-389109ad-86a9-45e7-b3a3-b4a3f8903a7a\">\n",
              "    <div class=\"colab-df-container\">\n",
              "      <div>\n",
              "<style scoped>\n",
              "    .dataframe tbody tr th:only-of-type {\n",
              "        vertical-align: middle;\n",
              "    }\n",
              "\n",
              "    .dataframe tbody tr th {\n",
              "        vertical-align: top;\n",
              "    }\n",
              "\n",
              "    .dataframe thead th {\n",
              "        text-align: right;\n",
              "    }\n",
              "</style>\n",
              "<table border=\"1\" class=\"dataframe\">\n",
              "  <thead>\n",
              "    <tr style=\"text-align: right;\">\n",
              "      <th></th>\n",
              "      <th>age</th>\n",
              "      <th>W</th>\n",
              "      <th>L</th>\n",
              "      <th>CG</th>\n",
              "      <th>ShO</th>\n",
              "      <th>GP</th>\n",
              "      <th>GS</th>\n",
              "      <th>SV</th>\n",
              "      <th>GF</th>\n",
              "      <th>IPOuts</th>\n",
              "      <th>...</th>\n",
              "      <th>FIP</th>\n",
              "      <th>DERA</th>\n",
              "      <th>STUFF</th>\n",
              "      <th>GURU</th>\n",
              "      <th>salary</th>\n",
              "      <th>WAR</th>\n",
              "      <th>Rookie contract</th>\n",
              "      <th>Reliever</th>\n",
              "      <th>throws_L</th>\n",
              "      <th>throws_R</th>\n",
              "    </tr>\n",
              "  </thead>\n",
              "  <tbody>\n",
              "    <tr>\n",
              "      <th>0</th>\n",
              "      <td>33</td>\n",
              "      <td>1</td>\n",
              "      <td>13</td>\n",
              "      <td>0</td>\n",
              "      <td>0</td>\n",
              "      <td>23</td>\n",
              "      <td>23</td>\n",
              "      <td>0</td>\n",
              "      <td>0</td>\n",
              "      <td>336</td>\n",
              "      <td>...</td>\n",
              "      <td>4.77</td>\n",
              "      <td>4.50</td>\n",
              "      <td>19</td>\n",
              "      <td>31</td>\n",
              "      <td>25.000000</td>\n",
              "      <td>1.2</td>\n",
              "      <td>0</td>\n",
              "      <td>1</td>\n",
              "      <td>0</td>\n",
              "      <td>1</td>\n",
              "    </tr>\n",
              "    <tr>\n",
              "      <th>1</th>\n",
              "      <td>31</td>\n",
              "      <td>3</td>\n",
              "      <td>2</td>\n",
              "      <td>0</td>\n",
              "      <td>0</td>\n",
              "      <td>70</td>\n",
              "      <td>0</td>\n",
              "      <td>1</td>\n",
              "      <td>18</td>\n",
              "      <td>216</td>\n",
              "      <td>...</td>\n",
              "      <td>5.17</td>\n",
              "      <td>5.00</td>\n",
              "      <td>14</td>\n",
              "      <td>16</td>\n",
              "      <td>8.500000</td>\n",
              "      <td>-0.2</td>\n",
              "      <td>0</td>\n",
              "      <td>1</td>\n",
              "      <td>0</td>\n",
              "      <td>1</td>\n",
              "    </tr>\n",
              "    <tr>\n",
              "      <th>2</th>\n",
              "      <td>27</td>\n",
              "      <td>6</td>\n",
              "      <td>9</td>\n",
              "      <td>0</td>\n",
              "      <td>0</td>\n",
              "      <td>78</td>\n",
              "      <td>0</td>\n",
              "      <td>1</td>\n",
              "      <td>10</td>\n",
              "      <td>214</td>\n",
              "      <td>...</td>\n",
              "      <td>3.06</td>\n",
              "      <td>2.94</td>\n",
              "      <td>164</td>\n",
              "      <td>96</td>\n",
              "      <td>0.562500</td>\n",
              "      <td>1.4</td>\n",
              "      <td>0</td>\n",
              "      <td>1</td>\n",
              "      <td>0</td>\n",
              "      <td>1</td>\n",
              "    </tr>\n",
              "    <tr>\n",
              "      <th>3</th>\n",
              "      <td>34</td>\n",
              "      <td>5</td>\n",
              "      <td>3</td>\n",
              "      <td>0</td>\n",
              "      <td>0</td>\n",
              "      <td>80</td>\n",
              "      <td>0</td>\n",
              "      <td>0</td>\n",
              "      <td>6</td>\n",
              "      <td>249</td>\n",
              "      <td>...</td>\n",
              "      <td>3.57</td>\n",
              "      <td>3.50</td>\n",
              "      <td>76</td>\n",
              "      <td>57</td>\n",
              "      <td>5.500000</td>\n",
              "      <td>1.4</td>\n",
              "      <td>0</td>\n",
              "      <td>1</td>\n",
              "      <td>0</td>\n",
              "      <td>1</td>\n",
              "    </tr>\n",
              "    <tr>\n",
              "      <th>4</th>\n",
              "      <td>26</td>\n",
              "      <td>5</td>\n",
              "      <td>10</td>\n",
              "      <td>0</td>\n",
              "      <td>0</td>\n",
              "      <td>24</td>\n",
              "      <td>22</td>\n",
              "      <td>0</td>\n",
              "      <td>0</td>\n",
              "      <td>351</td>\n",
              "      <td>...</td>\n",
              "      <td>5.02</td>\n",
              "      <td>4.75</td>\n",
              "      <td>42</td>\n",
              "      <td>27</td>\n",
              "      <td>0.358080</td>\n",
              "      <td>0.2</td>\n",
              "      <td>0</td>\n",
              "      <td>1</td>\n",
              "      <td>0</td>\n",
              "      <td>1</td>\n",
              "    </tr>\n",
              "    <tr>\n",
              "      <th>5</th>\n",
              "      <td>35</td>\n",
              "      <td>0</td>\n",
              "      <td>1</td>\n",
              "      <td>0</td>\n",
              "      <td>0</td>\n",
              "      <td>11</td>\n",
              "      <td>4</td>\n",
              "      <td>0</td>\n",
              "      <td>1</td>\n",
              "      <td>48</td>\n",
              "      <td>...</td>\n",
              "      <td>6.64</td>\n",
              "      <td>6.54</td>\n",
              "      <td>0</td>\n",
              "      <td>2</td>\n",
              "      <td>2.000000</td>\n",
              "      <td>-0.2</td>\n",
              "      <td>0</td>\n",
              "      <td>1</td>\n",
              "      <td>0</td>\n",
              "      <td>1</td>\n",
              "    </tr>\n",
              "    <tr>\n",
              "      <th>6</th>\n",
              "      <td>28</td>\n",
              "      <td>3</td>\n",
              "      <td>1</td>\n",
              "      <td>0</td>\n",
              "      <td>0</td>\n",
              "      <td>52</td>\n",
              "      <td>0</td>\n",
              "      <td>1</td>\n",
              "      <td>13</td>\n",
              "      <td>148</td>\n",
              "      <td>...</td>\n",
              "      <td>4.90</td>\n",
              "      <td>4.77</td>\n",
              "      <td>18</td>\n",
              "      <td>15</td>\n",
              "      <td>0.367032</td>\n",
              "      <td>-0.2</td>\n",
              "      <td>0</td>\n",
              "      <td>1</td>\n",
              "      <td>0</td>\n",
              "      <td>1</td>\n",
              "    </tr>\n",
              "    <tr>\n",
              "      <th>7</th>\n",
              "      <td>28</td>\n",
              "      <td>1</td>\n",
              "      <td>3</td>\n",
              "      <td>0</td>\n",
              "      <td>0</td>\n",
              "      <td>7</td>\n",
              "      <td>7</td>\n",
              "      <td>0</td>\n",
              "      <td>0</td>\n",
              "      <td>107</td>\n",
              "      <td>...</td>\n",
              "      <td>6.37</td>\n",
              "      <td>6.04</td>\n",
              "      <td>7</td>\n",
              "      <td>5</td>\n",
              "      <td>9.650000</td>\n",
              "      <td>-0.1</td>\n",
              "      <td>0</td>\n",
              "      <td>1</td>\n",
              "      <td>1</td>\n",
              "      <td>0</td>\n",
              "    </tr>\n",
              "    <tr>\n",
              "      <th>8</th>\n",
              "      <td>27</td>\n",
              "      <td>2</td>\n",
              "      <td>1</td>\n",
              "      <td>0</td>\n",
              "      <td>0</td>\n",
              "      <td>43</td>\n",
              "      <td>0</td>\n",
              "      <td>1</td>\n",
              "      <td>14</td>\n",
              "      <td>243</td>\n",
              "      <td>...</td>\n",
              "      <td>4.85</td>\n",
              "      <td>4.67</td>\n",
              "      <td>38</td>\n",
              "      <td>22</td>\n",
              "      <td>0.578975</td>\n",
              "      <td>0.0</td>\n",
              "      <td>0</td>\n",
              "      <td>1</td>\n",
              "      <td>0</td>\n",
              "      <td>1</td>\n",
              "    </tr>\n",
              "    <tr>\n",
              "      <th>9</th>\n",
              "      <td>26</td>\n",
              "      <td>3</td>\n",
              "      <td>5</td>\n",
              "      <td>0</td>\n",
              "      <td>0</td>\n",
              "      <td>14</td>\n",
              "      <td>14</td>\n",
              "      <td>0</td>\n",
              "      <td>0</td>\n",
              "      <td>219</td>\n",
              "      <td>...</td>\n",
              "      <td>3.90</td>\n",
              "      <td>3.72</td>\n",
              "      <td>243</td>\n",
              "      <td>44</td>\n",
              "      <td>0.566700</td>\n",
              "      <td>1.2</td>\n",
              "      <td>0</td>\n",
              "      <td>1</td>\n",
              "      <td>0</td>\n",
              "      <td>1</td>\n",
              "    </tr>\n",
              "  </tbody>\n",
              "</table>\n",
              "<p>10 rows × 41 columns</p>\n",
              "</div>\n",
              "      <button class=\"colab-df-convert\" onclick=\"convertToInteractive('df-389109ad-86a9-45e7-b3a3-b4a3f8903a7a')\"\n",
              "              title=\"Convert this dataframe to an interactive table.\"\n",
              "              style=\"display:none;\">\n",
              "        \n",
              "  <svg xmlns=\"http://www.w3.org/2000/svg\" height=\"24px\"viewBox=\"0 0 24 24\"\n",
              "       width=\"24px\">\n",
              "    <path d=\"M0 0h24v24H0V0z\" fill=\"none\"/>\n",
              "    <path d=\"M18.56 5.44l.94 2.06.94-2.06 2.06-.94-2.06-.94-.94-2.06-.94 2.06-2.06.94zm-11 1L8.5 8.5l.94-2.06 2.06-.94-2.06-.94L8.5 2.5l-.94 2.06-2.06.94zm10 10l.94 2.06.94-2.06 2.06-.94-2.06-.94-.94-2.06-.94 2.06-2.06.94z\"/><path d=\"M17.41 7.96l-1.37-1.37c-.4-.4-.92-.59-1.43-.59-.52 0-1.04.2-1.43.59L10.3 9.45l-7.72 7.72c-.78.78-.78 2.05 0 2.83L4 21.41c.39.39.9.59 1.41.59.51 0 1.02-.2 1.41-.59l7.78-7.78 2.81-2.81c.8-.78.8-2.07 0-2.86zM5.41 20L4 18.59l7.72-7.72 1.47 1.35L5.41 20z\"/>\n",
              "  </svg>\n",
              "      </button>\n",
              "      \n",
              "  <style>\n",
              "    .colab-df-container {\n",
              "      display:flex;\n",
              "      flex-wrap:wrap;\n",
              "      gap: 12px;\n",
              "    }\n",
              "\n",
              "    .colab-df-convert {\n",
              "      background-color: #E8F0FE;\n",
              "      border: none;\n",
              "      border-radius: 50%;\n",
              "      cursor: pointer;\n",
              "      display: none;\n",
              "      fill: #1967D2;\n",
              "      height: 32px;\n",
              "      padding: 0 0 0 0;\n",
              "      width: 32px;\n",
              "    }\n",
              "\n",
              "    .colab-df-convert:hover {\n",
              "      background-color: #E2EBFA;\n",
              "      box-shadow: 0px 1px 2px rgba(60, 64, 67, 0.3), 0px 1px 3px 1px rgba(60, 64, 67, 0.15);\n",
              "      fill: #174EA6;\n",
              "    }\n",
              "\n",
              "    [theme=dark] .colab-df-convert {\n",
              "      background-color: #3B4455;\n",
              "      fill: #D2E3FC;\n",
              "    }\n",
              "\n",
              "    [theme=dark] .colab-df-convert:hover {\n",
              "      background-color: #434B5C;\n",
              "      box-shadow: 0px 1px 3px 1px rgba(0, 0, 0, 0.15);\n",
              "      filter: drop-shadow(0px 1px 2px rgba(0, 0, 0, 0.3));\n",
              "      fill: #FFFFFF;\n",
              "    }\n",
              "  </style>\n",
              "\n",
              "      <script>\n",
              "        const buttonEl =\n",
              "          document.querySelector('#df-389109ad-86a9-45e7-b3a3-b4a3f8903a7a button.colab-df-convert');\n",
              "        buttonEl.style.display =\n",
              "          google.colab.kernel.accessAllowed ? 'block' : 'none';\n",
              "\n",
              "        async function convertToInteractive(key) {\n",
              "          const element = document.querySelector('#df-389109ad-86a9-45e7-b3a3-b4a3f8903a7a');\n",
              "          const dataTable =\n",
              "            await google.colab.kernel.invokeFunction('convertToInteractive',\n",
              "                                                     [key], {});\n",
              "          if (!dataTable) return;\n",
              "\n",
              "          const docLinkHtml = 'Like what you see? Visit the ' +\n",
              "            '<a target=\"_blank\" href=https://colab.research.google.com/notebooks/data_table.ipynb>data table notebook</a>'\n",
              "            + ' to learn more about interactive tables.';\n",
              "          element.innerHTML = '';\n",
              "          dataTable['output_type'] = 'display_data';\n",
              "          await google.colab.output.renderOutput(dataTable, element);\n",
              "          const docLink = document.createElement('div');\n",
              "          docLink.innerHTML = docLinkHtml;\n",
              "          element.appendChild(docLink);\n",
              "        }\n",
              "      </script>\n",
              "    </div>\n",
              "  </div>\n",
              "  "
            ]
          },
          "metadata": {},
          "execution_count": 18
        }
      ]
    },
    {
      "cell_type": "markdown",
      "source": [
        "# Normalize input features using min-max normalization"
      ],
      "metadata": {
        "id": "ry5e9Tm6h1BK"
      }
    },
    {
      "cell_type": "code",
      "source": [
        "from sklearn.preprocessing import MinMaxScaler\n",
        "scaler = MinMaxScaler()"
      ],
      "metadata": {
        "id": "zHz3mSI3ienL"
      },
      "execution_count": 19,
      "outputs": []
    },
    {
      "cell_type": "code",
      "source": [
        "train_target = relievers_train['salary']\n",
        "\n",
        "train_features = relievers_train.drop(columns = ['salary'])\n",
        "col = train_features.columns\n",
        "train_features = scaler.fit_transform(train_features)\n",
        "train_features = pd.DataFrame(data=train_features, columns=col)"
      ],
      "metadata": {
        "id": "PXUoewX1eLXP"
      },
      "execution_count": 20,
      "outputs": []
    },
    {
      "cell_type": "code",
      "source": [
        "test_target = relievers_test['salary']\n",
        "\n",
        "test_features = relievers_test.drop(columns = ['salary'])\n",
        "test_features = scaler.fit_transform(test_features)\n",
        "test_features = pd.DataFrame(data=test_features, columns=col)"
      ],
      "metadata": {
        "id": "_mC9w8dPefBO"
      },
      "execution_count": 21,
      "outputs": []
    },
    {
      "cell_type": "markdown",
      "source": [
        "# Feature Selection"
      ],
      "metadata": {
        "id": "y7f5U9w6djlP"
      }
    },
    {
      "cell_type": "markdown",
      "source": [
        "Vary the number of features we select to find optimal amount. I found that k = 12 features produces the best model with MAE of 3.49 million"
      ],
      "metadata": {
        "id": "Hek1bsWEer9s"
      }
    },
    {
      "cell_type": "code",
      "source": [
        "top_features_ordered = []"
      ],
      "metadata": {
        "id": "9ppcJZ35d5or"
      },
      "execution_count": 22,
      "outputs": []
    },
    {
      "cell_type": "code",
      "source": [
        "best_features = SelectKBest(f_regression, k=12)\n",
        "k_best_data = best_features.fit_transform(train_features, train_target)\n",
        "mask = best_features.get_support()\n",
        "new_features = train_features.columns[mask]\n",
        "for item in new_features:\n",
        "  if item not in top_features_ordered:\n",
        "    top_features_ordered.append(item)"
      ],
      "metadata": {
        "id": "TAXTX1chel4n",
        "colab": {
          "base_uri": "https://localhost:8080/"
        },
        "outputId": "bc5dd117-4489-434a-ee0d-146aa2df317c"
      },
      "execution_count": 23,
      "outputs": [
        {
          "output_type": "stream",
          "name": "stderr",
          "text": [
            "/usr/local/lib/python3.7/dist-packages/sklearn/feature_selection/_univariate_selection.py:289: RuntimeWarning: invalid value encountered in true_divide\n",
            "  correlation_coefficient /= X_norms\n"
          ]
        }
      ]
    },
    {
      "cell_type": "code",
      "source": [
        "count = 1\n",
        "for item in top_features_ordered:\n",
        "  print(count, '. ', item)\n",
        "  count += 1"
      ],
      "metadata": {
        "id": "7A3BEqTnewYv",
        "colab": {
          "base_uri": "https://localhost:8080/"
        },
        "outputId": "51313949-e8d9-46db-e6db-b61447953755"
      },
      "execution_count": 24,
      "outputs": [
        {
          "output_type": "stream",
          "name": "stdout",
          "text": [
            "1 .  age\n",
            "2 .  SV\n",
            "3 .  GF\n",
            "4 .   ERA \n",
            "5 .  ER\n",
            "6 .  HRA\n",
            "7 .  RA\n",
            "8 .   DOM \n",
            "9 .   RAVG \n",
            "10 .   STUFF \n",
            "11 .   GURU \n",
            "12 .  Rookie contract\n"
          ]
        }
      ]
    },
    {
      "cell_type": "code",
      "source": [
        "train_selected_X = train_features[['age', ' ERA ', 'W', ' GURU ', 'WAR', 'Rookie contract', ' WHIP ']]\n",
        "#train_selected_X = train_features[['age', ' ERA ',  ' GURU ', 'WAR', 'Rookie contract', ' WHIP ', 'SV']]\n",
        "#train_selected_X = train_features[top_features_ordered]\n",
        "train_y = train_target\n",
        "\n",
        "test_selected_X = test_features[['age', ' ERA ', 'W', ' GURU ', 'WAR', 'Rookie contract', ' WHIP ']]\n",
        "#test_selected_X = test_features[['age', ' ERA ',  ' GURU ', 'WAR', 'Rookie contract', ' WHIP ', 'SV']]\n",
        "#test_selected_X = test_features[top_features_ordered]\n",
        "test_y = test_target"
      ],
      "metadata": {
        "id": "DhOI6VjOffNS"
      },
      "execution_count": 25,
      "outputs": []
    },
    {
      "cell_type": "code",
      "source": [
        "print('Train Features:')\n",
        "print('train_selected_X dimensions: ', train_selected_X.shape)\n",
        "print('train_y dimensions:', train_y.shape, '\\n')\n",
        "\n",
        "print('Test Features:')\n",
        "print('test_data_X dimensions: ', test_selected_X.shape)\n",
        "print('test_data_y dimensions:', test_y.shape, '\\n')"
      ],
      "metadata": {
        "colab": {
          "base_uri": "https://localhost:8080/"
        },
        "id": "ZHMTbm25foJW",
        "outputId": "b5e22321-8094-4cc5-d478-e30df5ba8dda"
      },
      "execution_count": 26,
      "outputs": [
        {
          "output_type": "stream",
          "name": "stdout",
          "text": [
            "Train Features:\n",
            "train_selected_X dimensions:  (240, 7)\n",
            "train_y dimensions: (240,) \n",
            "\n",
            "Test Features:\n",
            "test_data_X dimensions:  (61, 7)\n",
            "test_data_y dimensions: (61,) \n",
            "\n"
          ]
        }
      ]
    },
    {
      "cell_type": "markdown",
      "source": [
        "# Multivariate Linear Regression"
      ],
      "metadata": {
        "id": "2oLgxL4jnAom"
      }
    },
    {
      "cell_type": "code",
      "source": [
        "multivariate_regression = linear_model.LinearRegression()\n",
        "multivariate_regression.fit(train_selected_X, train_y)"
      ],
      "metadata": {
        "colab": {
          "base_uri": "https://localhost:8080/"
        },
        "id": "UDhwuThmf8QA",
        "outputId": "6f6528e2-6577-4dc5-f08a-1ce0da46662d"
      },
      "execution_count": 27,
      "outputs": [
        {
          "output_type": "execute_result",
          "data": {
            "text/plain": [
              "LinearRegression()"
            ]
          },
          "metadata": {},
          "execution_count": 27
        }
      ]
    },
    {
      "cell_type": "markdown",
      "source": [
        "# Beta values (coefficients) and intercept for our multivariate linear regression:"
      ],
      "metadata": {
        "id": "lI9G49XlgGr-"
      }
    },
    {
      "cell_type": "code",
      "source": [
        "multivariate_regression.coef_"
      ],
      "metadata": {
        "colab": {
          "base_uri": "https://localhost:8080/"
        },
        "id": "W-vg-stwgBRe",
        "outputId": "859bdc21-06c7-4677-8ee4-7e728bd9bcaa"
      },
      "execution_count": 28,
      "outputs": [
        {
          "output_type": "execute_result",
          "data": {
            "text/plain": [
              "array([11.41012296, -1.4949151 ,  0.03257792,  1.77539157,  1.80843274,\n",
              "        1.08467951,  3.67000483])"
            ]
          },
          "metadata": {},
          "execution_count": 28
        }
      ]
    },
    {
      "cell_type": "code",
      "source": [
        "multivariate_regression.intercept_"
      ],
      "metadata": {
        "colab": {
          "base_uri": "https://localhost:8080/"
        },
        "id": "Z8w-yiq4gCVc",
        "outputId": "0d9339f9-ffce-4358-ca98-671971f2f983"
      },
      "execution_count": 29,
      "outputs": [
        {
          "output_type": "execute_result",
          "data": {
            "text/plain": [
              "-5.098371887783367"
            ]
          },
          "metadata": {},
          "execution_count": 29
        }
      ]
    },
    {
      "cell_type": "code",
      "source": [
        "y_pred = multivariate_regression.predict(test_selected_X)"
      ],
      "metadata": {
        "id": "l3N3sYfAgO59"
      },
      "execution_count": 30,
      "outputs": []
    },
    {
      "cell_type": "code",
      "source": [
        "print('Mean Squared Error: ', mean_squared_error(test_y, y_pred), '\\n')\n",
        "print('Mean Absolute Error: ', mean_absolute_error(test_y, y_pred), '\\n')\n",
        "print('Root Mean Squared Error: ', np.sqrt(mean_squared_error(test_y, y_pred)))"
      ],
      "metadata": {
        "colab": {
          "base_uri": "https://localhost:8080/"
        },
        "id": "0DSV6Qj6gTSV",
        "outputId": "fef2ebb9-1af6-4996-894d-fa0eaec7e8b6"
      },
      "execution_count": 31,
      "outputs": [
        {
          "output_type": "stream",
          "name": "stdout",
          "text": [
            "Mean Squared Error:  31.56747278669601 \n",
            "\n",
            "Mean Absolute Error:  2.873222746395875 \n",
            "\n",
            "Root Mean Squared Error:  5.618493818337439\n"
          ]
        }
      ]
    },
    {
      "cell_type": "markdown",
      "source": [
        "# Ridge Regression"
      ],
      "metadata": {
        "id": "pBGIDOsnncYP"
      }
    },
    {
      "cell_type": "code",
      "source": [
        "ridge_regression = Ridge(alpha = 0.75)\n",
        "ridge_regression.fit(train_selected_X, train_y)"
      ],
      "metadata": {
        "colab": {
          "base_uri": "https://localhost:8080/"
        },
        "id": "8crAGHcnm--o",
        "outputId": "7c84951e-f86c-4a03-f25e-c620d9b83aa6"
      },
      "execution_count": 32,
      "outputs": [
        {
          "output_type": "execute_result",
          "data": {
            "text/plain": [
              "Ridge(alpha=0.75)"
            ]
          },
          "metadata": {},
          "execution_count": 32
        }
      ]
    },
    {
      "cell_type": "code",
      "source": [
        "ridge_regression.coef_"
      ],
      "metadata": {
        "colab": {
          "base_uri": "https://localhost:8080/"
        },
        "id": "Vyc9cbX4nqQN",
        "outputId": "11299c88-1dc3-4efa-f020-ff0deb018e02"
      },
      "execution_count": 33,
      "outputs": [
        {
          "output_type": "execute_result",
          "data": {
            "text/plain": [
              "array([ 9.47537289, -0.92236863,  0.06027101,  1.28256058,  1.42608106,\n",
              "        0.55780502,  2.40481869])"
            ]
          },
          "metadata": {},
          "execution_count": 33
        }
      ]
    },
    {
      "cell_type": "code",
      "source": [
        "ridge_regression.intercept_"
      ],
      "metadata": {
        "colab": {
          "base_uri": "https://localhost:8080/"
        },
        "id": "9ghLQtFmnsNB",
        "outputId": "1cc8b1b5-1357-4ec5-8633-2bb8c96029d2"
      },
      "execution_count": 34,
      "outputs": [
        {
          "output_type": "execute_result",
          "data": {
            "text/plain": [
              "-3.6174087001220747"
            ]
          },
          "metadata": {},
          "execution_count": 34
        }
      ]
    },
    {
      "cell_type": "code",
      "source": [
        "y_predicted = ridge_regression.predict(test_selected_X)"
      ],
      "metadata": {
        "id": "vRw4BOB5nwg2"
      },
      "execution_count": 35,
      "outputs": []
    },
    {
      "cell_type": "code",
      "source": [
        "print('Mean Squared Error: ', mean_squared_error(test_y, y_predicted), '\\n')\n",
        "print('Mean Absolute Error: ', mean_absolute_error(test_y, y_predicted), '\\n')\n",
        "print('Root Mean Squared Error: ', np.sqrt(mean_squared_error(test_y, y_predicted)))"
      ],
      "metadata": {
        "colab": {
          "base_uri": "https://localhost:8080/"
        },
        "id": "rvSf_oX9n0Ti",
        "outputId": "40f87c7b-063d-4260-c631-80ffbd260813"
      },
      "execution_count": 36,
      "outputs": [
        {
          "output_type": "stream",
          "name": "stdout",
          "text": [
            "Mean Squared Error:  32.52230455286639 \n",
            "\n",
            "Mean Absolute Error:  2.847679309700265 \n",
            "\n",
            "Root Mean Squared Error:  5.702833028667978\n"
          ]
        }
      ]
    },
    {
      "cell_type": "markdown",
      "source": [
        "# Lasso Regression"
      ],
      "metadata": {
        "id": "hduphkv3oNq_"
      }
    },
    {
      "cell_type": "code",
      "source": [
        "lasso_regression = Lasso(alpha = 1.0)\n",
        "lasso_regression.fit(train_selected_X, train_y)"
      ],
      "metadata": {
        "colab": {
          "base_uri": "https://localhost:8080/"
        },
        "id": "g_Upyn2uoQmq",
        "outputId": "f1e51391-fafc-40c9-dbd2-655aab42f25e"
      },
      "execution_count": 37,
      "outputs": [
        {
          "output_type": "execute_result",
          "data": {
            "text/plain": [
              "Lasso()"
            ]
          },
          "metadata": {},
          "execution_count": 37
        }
      ]
    },
    {
      "cell_type": "code",
      "source": [
        "lasso_regression.coef_"
      ],
      "metadata": {
        "colab": {
          "base_uri": "https://localhost:8080/"
        },
        "id": "kGOtjPh3oVMP",
        "outputId": "b8514b7e-166d-44ec-b5b3-f65e746a02d4"
      },
      "execution_count": 38,
      "outputs": [
        {
          "output_type": "execute_result",
          "data": {
            "text/plain": [
              "array([ 0., -0.,  0.,  0.,  0., -0., -0.])"
            ]
          },
          "metadata": {},
          "execution_count": 38
        }
      ]
    },
    {
      "cell_type": "code",
      "source": [
        "lasso_regression.intercept_"
      ],
      "metadata": {
        "colab": {
          "base_uri": "https://localhost:8080/"
        },
        "id": "gMkPk3VuoW2q",
        "outputId": "af1caa45-95e0-40e0-ba06-e048d747c05a"
      },
      "execution_count": 39,
      "outputs": [
        {
          "output_type": "execute_result",
          "data": {
            "text/plain": [
              "2.141008925"
            ]
          },
          "metadata": {},
          "execution_count": 39
        }
      ]
    },
    {
      "cell_type": "code",
      "source": [
        "y_predicted_lasso = lasso_regression.predict(test_selected_X)"
      ],
      "metadata": {
        "id": "HU7t05EuoYwJ"
      },
      "execution_count": 40,
      "outputs": []
    },
    {
      "cell_type": "code",
      "source": [
        "print('Mean Squared Error: ', mean_squared_error(test_y, y_predicted_lasso), '\\n')\n",
        "print('Mean Absolute Error: ', mean_absolute_error(test_y, y_predicted_lasso), '\\n')\n",
        "print('Root Mean Squared Error: ', np.sqrt(mean_squared_error(test_y, y_predicted_lasso)))"
      ],
      "metadata": {
        "colab": {
          "base_uri": "https://localhost:8080/"
        },
        "id": "vsjQ8g5kodVD",
        "outputId": "e39608c5-91ac-4b98-c87c-7cdc226b3320"
      },
      "execution_count": 41,
      "outputs": [
        {
          "output_type": "stream",
          "name": "stdout",
          "text": [
            "Mean Squared Error:  43.37464035802574 \n",
            "\n",
            "Mean Absolute Error:  3.353790669262295 \n",
            "\n",
            "Root Mean Squared Error:  6.585942632457843\n"
          ]
        }
      ]
    },
    {
      "cell_type": "markdown",
      "source": [
        "# Decision Tree Regressor"
      ],
      "metadata": {
        "id": "82TJlfwX386l"
      }
    },
    {
      "cell_type": "code",
      "source": [
        "from sklearn.tree import DecisionTreeRegressor"
      ],
      "metadata": {
        "id": "8r0Z6ZlM3_Xz"
      },
      "execution_count": 42,
      "outputs": []
    },
    {
      "cell_type": "code",
      "source": [
        "decision_tree = DecisionTreeRegressor(max_depth= 2)"
      ],
      "metadata": {
        "id": "dp9bC-QD4Dkx"
      },
      "execution_count": 43,
      "outputs": []
    },
    {
      "cell_type": "code",
      "source": [
        "decision_tree.fit(train_selected_X, train_y)"
      ],
      "metadata": {
        "colab": {
          "base_uri": "https://localhost:8080/"
        },
        "id": "b1uPxUXp4LlM",
        "outputId": "2f44c8f2-61a9-4457-cbf4-b74f29b758c4"
      },
      "execution_count": 44,
      "outputs": [
        {
          "output_type": "execute_result",
          "data": {
            "text/plain": [
              "DecisionTreeRegressor(max_depth=2)"
            ]
          },
          "metadata": {},
          "execution_count": 44
        }
      ]
    },
    {
      "cell_type": "code",
      "source": [
        "y_pred_dt = decision_tree.predict(test_selected_X)"
      ],
      "metadata": {
        "id": "QDWsw8EV4Ucd"
      },
      "execution_count": 45,
      "outputs": []
    },
    {
      "cell_type": "code",
      "source": [
        "print('Mean Squared Error: ', mean_squared_error(test_y, y_pred_dt), '\\n')\n",
        "print('Mean Absolute Error: ', mean_absolute_error(test_y, y_pred_dt), '\\n')\n",
        "print('Root Mean Squared Error: ', np.sqrt(mean_squared_error(test_y, y_pred_dt)))"
      ],
      "metadata": {
        "colab": {
          "base_uri": "https://localhost:8080/"
        },
        "id": "S1yymTd24Zqf",
        "outputId": "b10899f5-84a5-498f-e98e-4009a133d4b4"
      },
      "execution_count": 46,
      "outputs": [
        {
          "output_type": "stream",
          "name": "stdout",
          "text": [
            "Mean Squared Error:  35.73568065377588 \n",
            "\n",
            "Mean Absolute Error:  2.674164957430071 \n",
            "\n",
            "Root Mean Squared Error:  5.9779328077334455\n"
          ]
        }
      ]
    },
    {
      "cell_type": "markdown",
      "source": [
        "# Regression with Deep Learning"
      ],
      "metadata": {
        "id": "8qx9HbG5YLtY"
      }
    },
    {
      "cell_type": "code",
      "source": [
        "import tensorflow as tf\n",
        "from tensorflow import keras\n",
        "from sklearn.model_selection import train_test_split\n",
        "\n",
        "from tensorflow.keras.models import Sequential\n",
        "from tensorflow.keras.layers import Activation, Dense, BatchNormalization, Dropout\n",
        "from tensorflow.keras import optimizers\n",
        "import matplotlib.pyplot as plt\n",
        "import numpy as np \n",
        "import pandas as pd\n",
        "import seaborn as sns"
      ],
      "metadata": {
        "id": "1QLMO3w3YfuE"
      },
      "execution_count": 47,
      "outputs": []
    },
    {
      "cell_type": "code",
      "source": [
        "tf.random.set_seed(5)\n",
        "\n",
        "network1 = tf.keras.models.Sequential()\n",
        "network1.add(tf.keras.Input(shape=(40,)))\n",
        "network1.add(tf.keras.layers.Dense(15, activation='relu'))\n",
        "network1.add(tf.keras.layers.Dense(15, activation='relu'))\n",
        "network1.add(tf.keras.layers.Dense(1))\n",
        "\n",
        "network1.compile(\n",
        "   loss=tf.keras.losses.MeanAbsoluteError(),\n",
        "   optimizer=tf.keras.optimizers.Adam(),\n",
        "   metrics='mean_absolute_error')\n",
        "\n",
        "history1 = network1.fit(train_features, train_target, epochs=60,validation_data=(test_features,test_target))"
      ],
      "metadata": {
        "colab": {
          "base_uri": "https://localhost:8080/"
        },
        "id": "cbNBt3BSo391",
        "outputId": "9aac322b-4ce0-4787-bcf3-6fa63b564f0b"
      },
      "execution_count": 48,
      "outputs": [
        {
          "output_type": "stream",
          "name": "stdout",
          "text": [
            "Epoch 1/60\n",
            "8/8 [==============================] - 2s 78ms/step - loss: 1.9337 - mean_absolute_error: 1.9337 - val_loss: 2.9444 - val_mean_absolute_error: 2.9444\n",
            "Epoch 2/60\n",
            "8/8 [==============================] - 0s 10ms/step - loss: 1.7936 - mean_absolute_error: 1.7936 - val_loss: 2.8563 - val_mean_absolute_error: 2.8563\n",
            "Epoch 3/60\n",
            "8/8 [==============================] - 0s 10ms/step - loss: 1.7874 - mean_absolute_error: 1.7874 - val_loss: 2.8495 - val_mean_absolute_error: 2.8495\n",
            "Epoch 4/60\n",
            "8/8 [==============================] - 0s 7ms/step - loss: 1.7839 - mean_absolute_error: 1.7839 - val_loss: 2.8373 - val_mean_absolute_error: 2.8373\n",
            "Epoch 5/60\n",
            "8/8 [==============================] - 0s 8ms/step - loss: 1.7693 - mean_absolute_error: 1.7693 - val_loss: 2.8371 - val_mean_absolute_error: 2.8371\n",
            "Epoch 6/60\n",
            "8/8 [==============================] - 0s 9ms/step - loss: 1.7590 - mean_absolute_error: 1.7590 - val_loss: 2.8329 - val_mean_absolute_error: 2.8329\n",
            "Epoch 7/60\n",
            "8/8 [==============================] - 0s 7ms/step - loss: 1.7525 - mean_absolute_error: 1.7525 - val_loss: 2.8211 - val_mean_absolute_error: 2.8211\n",
            "Epoch 8/60\n",
            "8/8 [==============================] - 0s 8ms/step - loss: 1.7456 - mean_absolute_error: 1.7456 - val_loss: 2.8134 - val_mean_absolute_error: 2.8134\n",
            "Epoch 9/60\n",
            "8/8 [==============================] - 0s 7ms/step - loss: 1.7385 - mean_absolute_error: 1.7385 - val_loss: 2.8099 - val_mean_absolute_error: 2.8099\n",
            "Epoch 10/60\n",
            "8/8 [==============================] - 0s 11ms/step - loss: 1.7329 - mean_absolute_error: 1.7329 - val_loss: 2.8046 - val_mean_absolute_error: 2.8046\n",
            "Epoch 11/60\n",
            "8/8 [==============================] - 0s 8ms/step - loss: 1.7266 - mean_absolute_error: 1.7266 - val_loss: 2.7983 - val_mean_absolute_error: 2.7983\n",
            "Epoch 12/60\n",
            "8/8 [==============================] - 0s 8ms/step - loss: 1.7216 - mean_absolute_error: 1.7216 - val_loss: 2.7912 - val_mean_absolute_error: 2.7912\n",
            "Epoch 13/60\n",
            "8/8 [==============================] - 0s 8ms/step - loss: 1.7151 - mean_absolute_error: 1.7151 - val_loss: 2.7853 - val_mean_absolute_error: 2.7853\n",
            "Epoch 14/60\n",
            "8/8 [==============================] - 0s 9ms/step - loss: 1.7106 - mean_absolute_error: 1.7106 - val_loss: 2.7805 - val_mean_absolute_error: 2.7805\n",
            "Epoch 15/60\n",
            "8/8 [==============================] - 0s 8ms/step - loss: 1.7069 - mean_absolute_error: 1.7069 - val_loss: 2.7754 - val_mean_absolute_error: 2.7754\n",
            "Epoch 16/60\n",
            "8/8 [==============================] - 0s 15ms/step - loss: 1.7038 - mean_absolute_error: 1.7038 - val_loss: 2.7712 - val_mean_absolute_error: 2.7712\n",
            "Epoch 17/60\n",
            "8/8 [==============================] - 0s 8ms/step - loss: 1.6996 - mean_absolute_error: 1.6996 - val_loss: 2.7657 - val_mean_absolute_error: 2.7657\n",
            "Epoch 18/60\n",
            "8/8 [==============================] - 0s 8ms/step - loss: 1.6983 - mean_absolute_error: 1.6983 - val_loss: 2.7606 - val_mean_absolute_error: 2.7606\n",
            "Epoch 19/60\n",
            "8/8 [==============================] - 0s 9ms/step - loss: 1.6964 - mean_absolute_error: 1.6964 - val_loss: 2.7536 - val_mean_absolute_error: 2.7536\n",
            "Epoch 20/60\n",
            "8/8 [==============================] - 0s 10ms/step - loss: 1.6925 - mean_absolute_error: 1.6925 - val_loss: 2.7486 - val_mean_absolute_error: 2.7486\n",
            "Epoch 21/60\n",
            "8/8 [==============================] - 0s 11ms/step - loss: 1.6885 - mean_absolute_error: 1.6885 - val_loss: 2.7444 - val_mean_absolute_error: 2.7444\n",
            "Epoch 22/60\n",
            "8/8 [==============================] - 0s 16ms/step - loss: 1.6845 - mean_absolute_error: 1.6845 - val_loss: 2.7394 - val_mean_absolute_error: 2.7394\n",
            "Epoch 23/60\n",
            "8/8 [==============================] - 0s 7ms/step - loss: 1.6813 - mean_absolute_error: 1.6813 - val_loss: 2.7338 - val_mean_absolute_error: 2.7338\n",
            "Epoch 24/60\n",
            "8/8 [==============================] - 0s 12ms/step - loss: 1.6768 - mean_absolute_error: 1.6768 - val_loss: 2.7307 - val_mean_absolute_error: 2.7307\n",
            "Epoch 25/60\n",
            "8/8 [==============================] - 0s 9ms/step - loss: 1.6804 - mean_absolute_error: 1.6804 - val_loss: 2.7262 - val_mean_absolute_error: 2.7262\n",
            "Epoch 26/60\n",
            "8/8 [==============================] - 0s 9ms/step - loss: 1.6803 - mean_absolute_error: 1.6803 - val_loss: 2.7251 - val_mean_absolute_error: 2.7251\n",
            "Epoch 27/60\n",
            "8/8 [==============================] - 0s 12ms/step - loss: 1.6716 - mean_absolute_error: 1.6716 - val_loss: 2.7200 - val_mean_absolute_error: 2.7200\n",
            "Epoch 28/60\n",
            "8/8 [==============================] - 0s 10ms/step - loss: 1.6683 - mean_absolute_error: 1.6683 - val_loss: 2.7169 - val_mean_absolute_error: 2.7169\n",
            "Epoch 29/60\n",
            "8/8 [==============================] - 0s 8ms/step - loss: 1.6657 - mean_absolute_error: 1.6657 - val_loss: 2.7164 - val_mean_absolute_error: 2.7164\n",
            "Epoch 30/60\n",
            "8/8 [==============================] - 0s 13ms/step - loss: 1.6611 - mean_absolute_error: 1.6611 - val_loss: 2.7119 - val_mean_absolute_error: 2.7119\n",
            "Epoch 31/60\n",
            "8/8 [==============================] - 0s 8ms/step - loss: 1.6599 - mean_absolute_error: 1.6599 - val_loss: 2.7138 - val_mean_absolute_error: 2.7138\n",
            "Epoch 32/60\n",
            "8/8 [==============================] - 0s 8ms/step - loss: 1.6569 - mean_absolute_error: 1.6569 - val_loss: 2.7101 - val_mean_absolute_error: 2.7101\n",
            "Epoch 33/60\n",
            "8/8 [==============================] - 0s 9ms/step - loss: 1.6528 - mean_absolute_error: 1.6528 - val_loss: 2.7128 - val_mean_absolute_error: 2.7128\n",
            "Epoch 34/60\n",
            "8/8 [==============================] - 0s 10ms/step - loss: 1.6486 - mean_absolute_error: 1.6486 - val_loss: 2.7122 - val_mean_absolute_error: 2.7122\n",
            "Epoch 35/60\n",
            "8/8 [==============================] - 0s 16ms/step - loss: 1.6455 - mean_absolute_error: 1.6455 - val_loss: 2.7084 - val_mean_absolute_error: 2.7084\n",
            "Epoch 36/60\n",
            "8/8 [==============================] - 0s 14ms/step - loss: 1.6407 - mean_absolute_error: 1.6407 - val_loss: 2.7055 - val_mean_absolute_error: 2.7055\n",
            "Epoch 37/60\n",
            "8/8 [==============================] - 0s 13ms/step - loss: 1.6362 - mean_absolute_error: 1.6362 - val_loss: 2.7051 - val_mean_absolute_error: 2.7051\n",
            "Epoch 38/60\n",
            "8/8 [==============================] - 0s 9ms/step - loss: 1.6344 - mean_absolute_error: 1.6344 - val_loss: 2.7048 - val_mean_absolute_error: 2.7048\n",
            "Epoch 39/60\n",
            "8/8 [==============================] - 0s 9ms/step - loss: 1.6289 - mean_absolute_error: 1.6289 - val_loss: 2.7003 - val_mean_absolute_error: 2.7003\n",
            "Epoch 40/60\n",
            "8/8 [==============================] - 0s 8ms/step - loss: 1.6255 - mean_absolute_error: 1.6255 - val_loss: 2.6993 - val_mean_absolute_error: 2.6993\n",
            "Epoch 41/60\n",
            "8/8 [==============================] - 0s 8ms/step - loss: 1.6215 - mean_absolute_error: 1.6215 - val_loss: 2.6996 - val_mean_absolute_error: 2.6996\n",
            "Epoch 42/60\n",
            "8/8 [==============================] - 0s 11ms/step - loss: 1.6192 - mean_absolute_error: 1.6192 - val_loss: 2.6997 - val_mean_absolute_error: 2.6997\n",
            "Epoch 43/60\n",
            "8/8 [==============================] - 0s 9ms/step - loss: 1.6162 - mean_absolute_error: 1.6162 - val_loss: 2.6956 - val_mean_absolute_error: 2.6956\n",
            "Epoch 44/60\n",
            "8/8 [==============================] - 0s 7ms/step - loss: 1.6129 - mean_absolute_error: 1.6129 - val_loss: 2.6973 - val_mean_absolute_error: 2.6973\n",
            "Epoch 45/60\n",
            "8/8 [==============================] - 0s 17ms/step - loss: 1.6051 - mean_absolute_error: 1.6051 - val_loss: 2.6936 - val_mean_absolute_error: 2.6936\n",
            "Epoch 46/60\n",
            "8/8 [==============================] - 0s 12ms/step - loss: 1.6027 - mean_absolute_error: 1.6027 - val_loss: 2.6924 - val_mean_absolute_error: 2.6924\n",
            "Epoch 47/60\n",
            "8/8 [==============================] - 0s 9ms/step - loss: 1.5969 - mean_absolute_error: 1.5969 - val_loss: 2.6926 - val_mean_absolute_error: 2.6926\n",
            "Epoch 48/60\n",
            "8/8 [==============================] - 0s 15ms/step - loss: 1.5920 - mean_absolute_error: 1.5920 - val_loss: 2.6905 - val_mean_absolute_error: 2.6905\n",
            "Epoch 49/60\n",
            "8/8 [==============================] - 0s 7ms/step - loss: 1.5918 - mean_absolute_error: 1.5918 - val_loss: 2.6895 - val_mean_absolute_error: 2.6895\n",
            "Epoch 50/60\n",
            "8/8 [==============================] - 0s 6ms/step - loss: 1.5869 - mean_absolute_error: 1.5869 - val_loss: 2.6862 - val_mean_absolute_error: 2.6862\n",
            "Epoch 51/60\n",
            "8/8 [==============================] - 0s 5ms/step - loss: 1.5781 - mean_absolute_error: 1.5781 - val_loss: 2.6876 - val_mean_absolute_error: 2.6876\n",
            "Epoch 52/60\n",
            "8/8 [==============================] - 0s 5ms/step - loss: 1.5741 - mean_absolute_error: 1.5741 - val_loss: 2.6865 - val_mean_absolute_error: 2.6865\n",
            "Epoch 53/60\n",
            "8/8 [==============================] - 0s 5ms/step - loss: 1.5690 - mean_absolute_error: 1.5690 - val_loss: 2.6863 - val_mean_absolute_error: 2.6863\n",
            "Epoch 54/60\n",
            "8/8 [==============================] - 0s 5ms/step - loss: 1.5632 - mean_absolute_error: 1.5632 - val_loss: 2.6846 - val_mean_absolute_error: 2.6846\n",
            "Epoch 55/60\n",
            "8/8 [==============================] - 0s 6ms/step - loss: 1.5564 - mean_absolute_error: 1.5564 - val_loss: 2.6822 - val_mean_absolute_error: 2.6822\n",
            "Epoch 56/60\n",
            "8/8 [==============================] - 0s 5ms/step - loss: 1.5548 - mean_absolute_error: 1.5548 - val_loss: 2.6816 - val_mean_absolute_error: 2.6816\n",
            "Epoch 57/60\n",
            "8/8 [==============================] - 0s 5ms/step - loss: 1.5506 - mean_absolute_error: 1.5506 - val_loss: 2.6832 - val_mean_absolute_error: 2.6832\n",
            "Epoch 58/60\n",
            "8/8 [==============================] - 0s 5ms/step - loss: 1.5437 - mean_absolute_error: 1.5437 - val_loss: 2.6849 - val_mean_absolute_error: 2.6849\n",
            "Epoch 59/60\n",
            "8/8 [==============================] - 0s 5ms/step - loss: 1.5485 - mean_absolute_error: 1.5485 - val_loss: 2.6843 - val_mean_absolute_error: 2.6843\n",
            "Epoch 60/60\n",
            "8/8 [==============================] - 0s 5ms/step - loss: 1.5448 - mean_absolute_error: 1.5448 - val_loss: 2.6857 - val_mean_absolute_error: 2.6857\n"
          ]
        }
      ]
    },
    {
      "cell_type": "code",
      "source": [
        "from matplotlib import pyplot as plt\n",
        "plt.plot(history1.history['mean_absolute_error'])\n",
        "plt.plot(history1.history['val_mean_absolute_error'])\n",
        "plt.title('Model Mean Absolute Error (MAE)')\n",
        "plt.ylabel('MAE')\n",
        "plt.xlabel('Epoch')\n",
        "plt.legend(['Train', 'Cross-Validation'], loc='upper right')\n",
        "plt.show()"
      ],
      "metadata": {
        "colab": {
          "base_uri": "https://localhost:8080/",
          "height": 295
        },
        "id": "lxzvh8YWpZAH",
        "outputId": "e783ffc8-42fa-49d7-ec4a-1b87be1b076b"
      },
      "execution_count": 49,
      "outputs": [
        {
          "output_type": "display_data",
          "data": {
            "text/plain": [
              "<Figure size 432x288 with 1 Axes>"
            ],
            "image/png": "[encoded data removed]"
          },
          "metadata": {
            "needs_background": "light"
          }
        }
      ]
    },
    {
      "cell_type": "code",
      "source": [
        "tf.random.set_seed(5)\n",
        "\n",
        "network2 = tf.keras.models.Sequential()\n",
        "network2.add(tf.keras.Input(shape=(40,)))\n",
        "network2.add(tf.keras.layers.Dense(15, activation='relu'))\n",
        "network2.add(tf.keras.layers.Dense(15, activation='relu'))\n",
        "network2.add(tf.keras.layers.Dense(15, activation='relu'))\n",
        "network2.add(tf.keras.layers.Dense(1))\n",
        "\n",
        "network2.compile(\n",
        "   loss=tf.keras.losses.MeanAbsoluteError(),\n",
        "   optimizer=tf.keras.optimizers.Adam(),\n",
        "   metrics='mean_absolute_error')\n",
        "\n",
        "history2 = network2.fit(train_features, train_target, epochs=60,validation_data=(test_features,test_target))"
      ],
      "metadata": {
        "colab": {
          "base_uri": "https://localhost:8080/"
        },
        "id": "aaYVvJHvqVGG",
        "outputId": "5dac459c-66dd-4715-c3d2-aee2fea24077"
      },
      "execution_count": 50,
      "outputs": [
        {
          "output_type": "stream",
          "name": "stdout",
          "text": [
            "Epoch 1/60\n",
            "8/8 [==============================] - 1s 25ms/step - loss: 2.0977 - mean_absolute_error: 2.0977 - val_loss: 3.0814 - val_mean_absolute_error: 3.0814\n",
            "Epoch 2/60\n",
            "8/8 [==============================] - 0s 6ms/step - loss: 1.9418 - mean_absolute_error: 1.9418 - val_loss: 2.9177 - val_mean_absolute_error: 2.9177\n",
            "Epoch 3/60\n",
            "8/8 [==============================] - 0s 5ms/step - loss: 1.7959 - mean_absolute_error: 1.7959 - val_loss: 2.8638 - val_mean_absolute_error: 2.8638\n",
            "Epoch 4/60\n",
            "8/8 [==============================] - 0s 5ms/step - loss: 1.7825 - mean_absolute_error: 1.7825 - val_loss: 2.8767 - val_mean_absolute_error: 2.8767\n",
            "Epoch 5/60\n",
            "8/8 [==============================] - 0s 5ms/step - loss: 1.7837 - mean_absolute_error: 1.7837 - val_loss: 2.8626 - val_mean_absolute_error: 2.8626\n",
            "Epoch 6/60\n",
            "8/8 [==============================] - 0s 6ms/step - loss: 1.7680 - mean_absolute_error: 1.7680 - val_loss: 2.8488 - val_mean_absolute_error: 2.8488\n",
            "Epoch 7/60\n",
            "8/8 [==============================] - 0s 5ms/step - loss: 1.7577 - mean_absolute_error: 1.7577 - val_loss: 2.8424 - val_mean_absolute_error: 2.8424\n",
            "Epoch 8/60\n",
            "8/8 [==============================] - 0s 5ms/step - loss: 1.7533 - mean_absolute_error: 1.7533 - val_loss: 2.8388 - val_mean_absolute_error: 2.8388\n",
            "Epoch 9/60\n",
            "8/8 [==============================] - 0s 5ms/step - loss: 1.7491 - mean_absolute_error: 1.7491 - val_loss: 2.8349 - val_mean_absolute_error: 2.8349\n",
            "Epoch 10/60\n",
            "8/8 [==============================] - 0s 5ms/step - loss: 1.7450 - mean_absolute_error: 1.7450 - val_loss: 2.8310 - val_mean_absolute_error: 2.8310\n",
            "Epoch 11/60\n",
            "8/8 [==============================] - 0s 5ms/step - loss: 1.7408 - mean_absolute_error: 1.7408 - val_loss: 2.8277 - val_mean_absolute_error: 2.8277\n",
            "Epoch 12/60\n",
            "8/8 [==============================] - 0s 6ms/step - loss: 1.7374 - mean_absolute_error: 1.7374 - val_loss: 2.8242 - val_mean_absolute_error: 2.8242\n",
            "Epoch 13/60\n",
            "8/8 [==============================] - 0s 5ms/step - loss: 1.7337 - mean_absolute_error: 1.7337 - val_loss: 2.8212 - val_mean_absolute_error: 2.8212\n",
            "Epoch 14/60\n",
            "8/8 [==============================] - 0s 5ms/step - loss: 1.7305 - mean_absolute_error: 1.7305 - val_loss: 2.8175 - val_mean_absolute_error: 2.8175\n",
            "Epoch 15/60\n",
            "8/8 [==============================] - 0s 5ms/step - loss: 1.7268 - mean_absolute_error: 1.7268 - val_loss: 2.8134 - val_mean_absolute_error: 2.8134\n",
            "Epoch 16/60\n",
            "8/8 [==============================] - 0s 5ms/step - loss: 1.7228 - mean_absolute_error: 1.7228 - val_loss: 2.8086 - val_mean_absolute_error: 2.8086\n",
            "Epoch 17/60\n",
            "8/8 [==============================] - 0s 5ms/step - loss: 1.7192 - mean_absolute_error: 1.7192 - val_loss: 2.8039 - val_mean_absolute_error: 2.8039\n",
            "Epoch 18/60\n",
            "8/8 [==============================] - 0s 5ms/step - loss: 1.7161 - mean_absolute_error: 1.7161 - val_loss: 2.7977 - val_mean_absolute_error: 2.7977\n",
            "Epoch 19/60\n",
            "8/8 [==============================] - 0s 5ms/step - loss: 1.7118 - mean_absolute_error: 1.7118 - val_loss: 2.7936 - val_mean_absolute_error: 2.7936\n",
            "Epoch 20/60\n",
            "8/8 [==============================] - 0s 6ms/step - loss: 1.7080 - mean_absolute_error: 1.7080 - val_loss: 2.7908 - val_mean_absolute_error: 2.7908\n",
            "Epoch 21/60\n",
            "8/8 [==============================] - 0s 5ms/step - loss: 1.7059 - mean_absolute_error: 1.7059 - val_loss: 2.7844 - val_mean_absolute_error: 2.7844\n",
            "Epoch 22/60\n",
            "8/8 [==============================] - 0s 5ms/step - loss: 1.6988 - mean_absolute_error: 1.6988 - val_loss: 2.7793 - val_mean_absolute_error: 2.7793\n",
            "Epoch 23/60\n",
            "8/8 [==============================] - 0s 5ms/step - loss: 1.6946 - mean_absolute_error: 1.6946 - val_loss: 2.7740 - val_mean_absolute_error: 2.7740\n",
            "Epoch 24/60\n",
            "8/8 [==============================] - 0s 7ms/step - loss: 1.6891 - mean_absolute_error: 1.6891 - val_loss: 2.7693 - val_mean_absolute_error: 2.7693\n",
            "Epoch 25/60\n",
            "8/8 [==============================] - 0s 5ms/step - loss: 1.6878 - mean_absolute_error: 1.6878 - val_loss: 2.7684 - val_mean_absolute_error: 2.7684\n",
            "Epoch 26/60\n",
            "8/8 [==============================] - 0s 5ms/step - loss: 1.6823 - mean_absolute_error: 1.6823 - val_loss: 2.7743 - val_mean_absolute_error: 2.7743\n",
            "Epoch 27/60\n",
            "8/8 [==============================] - 0s 6ms/step - loss: 1.6753 - mean_absolute_error: 1.6753 - val_loss: 2.7580 - val_mean_absolute_error: 2.7580\n",
            "Epoch 28/60\n",
            "8/8 [==============================] - 0s 5ms/step - loss: 1.6687 - mean_absolute_error: 1.6687 - val_loss: 2.7560 - val_mean_absolute_error: 2.7560\n",
            "Epoch 29/60\n",
            "8/8 [==============================] - 0s 5ms/step - loss: 1.6645 - mean_absolute_error: 1.6645 - val_loss: 2.7683 - val_mean_absolute_error: 2.7683\n",
            "Epoch 30/60\n",
            "8/8 [==============================] - 0s 5ms/step - loss: 1.6571 - mean_absolute_error: 1.6571 - val_loss: 2.7466 - val_mean_absolute_error: 2.7466\n",
            "Epoch 31/60\n",
            "8/8 [==============================] - 0s 5ms/step - loss: 1.6535 - mean_absolute_error: 1.6535 - val_loss: 2.7565 - val_mean_absolute_error: 2.7565\n",
            "Epoch 32/60\n",
            "8/8 [==============================] - 0s 5ms/step - loss: 1.6447 - mean_absolute_error: 1.6447 - val_loss: 2.7552 - val_mean_absolute_error: 2.7552\n",
            "Epoch 33/60\n",
            "8/8 [==============================] - 0s 5ms/step - loss: 1.6399 - mean_absolute_error: 1.6399 - val_loss: 2.7458 - val_mean_absolute_error: 2.7458\n",
            "Epoch 34/60\n",
            "8/8 [==============================] - 0s 5ms/step - loss: 1.6329 - mean_absolute_error: 1.6329 - val_loss: 2.7476 - val_mean_absolute_error: 2.7476\n",
            "Epoch 35/60\n",
            "8/8 [==============================] - 0s 5ms/step - loss: 1.6270 - mean_absolute_error: 1.6270 - val_loss: 2.7498 - val_mean_absolute_error: 2.7498\n",
            "Epoch 36/60\n",
            "8/8 [==============================] - 0s 6ms/step - loss: 1.6204 - mean_absolute_error: 1.6204 - val_loss: 2.7404 - val_mean_absolute_error: 2.7404\n",
            "Epoch 37/60\n",
            "8/8 [==============================] - 0s 5ms/step - loss: 1.6156 - mean_absolute_error: 1.6156 - val_loss: 2.7482 - val_mean_absolute_error: 2.7482\n",
            "Epoch 38/60\n",
            "8/8 [==============================] - 0s 6ms/step - loss: 1.6089 - mean_absolute_error: 1.6089 - val_loss: 2.7264 - val_mean_absolute_error: 2.7264\n",
            "Epoch 39/60\n",
            "8/8 [==============================] - 0s 5ms/step - loss: 1.6010 - mean_absolute_error: 1.6010 - val_loss: 2.7322 - val_mean_absolute_error: 2.7322\n",
            "Epoch 40/60\n",
            "8/8 [==============================] - 0s 5ms/step - loss: 1.5926 - mean_absolute_error: 1.5926 - val_loss: 2.7249 - val_mean_absolute_error: 2.7249\n",
            "Epoch 41/60\n",
            "8/8 [==============================] - 0s 6ms/step - loss: 1.5878 - mean_absolute_error: 1.5878 - val_loss: 2.7180 - val_mean_absolute_error: 2.7180\n",
            "Epoch 42/60\n",
            "8/8 [==============================] - 0s 5ms/step - loss: 1.5792 - mean_absolute_error: 1.5792 - val_loss: 2.7304 - val_mean_absolute_error: 2.7304\n",
            "Epoch 43/60\n",
            "8/8 [==============================] - 0s 5ms/step - loss: 1.5696 - mean_absolute_error: 1.5696 - val_loss: 2.7091 - val_mean_absolute_error: 2.7091\n",
            "Epoch 44/60\n",
            "8/8 [==============================] - 0s 5ms/step - loss: 1.5612 - mean_absolute_error: 1.5612 - val_loss: 2.7267 - val_mean_absolute_error: 2.7267\n",
            "Epoch 45/60\n",
            "8/8 [==============================] - 0s 5ms/step - loss: 1.5482 - mean_absolute_error: 1.5482 - val_loss: 2.7168 - val_mean_absolute_error: 2.7168\n",
            "Epoch 46/60\n",
            "8/8 [==============================] - 0s 5ms/step - loss: 1.5465 - mean_absolute_error: 1.5465 - val_loss: 2.6983 - val_mean_absolute_error: 2.6983\n",
            "Epoch 47/60\n",
            "8/8 [==============================] - 0s 5ms/step - loss: 1.5456 - mean_absolute_error: 1.5456 - val_loss: 2.7373 - val_mean_absolute_error: 2.7373\n",
            "Epoch 48/60\n",
            "8/8 [==============================] - 0s 6ms/step - loss: 1.5391 - mean_absolute_error: 1.5391 - val_loss: 2.6899 - val_mean_absolute_error: 2.6899\n",
            "Epoch 49/60\n",
            "8/8 [==============================] - 0s 5ms/step - loss: 1.5375 - mean_absolute_error: 1.5375 - val_loss: 2.7160 - val_mean_absolute_error: 2.7160\n",
            "Epoch 50/60\n",
            "8/8 [==============================] - 0s 5ms/step - loss: 1.5333 - mean_absolute_error: 1.5333 - val_loss: 2.6921 - val_mean_absolute_error: 2.6921\n",
            "Epoch 51/60\n",
            "8/8 [==============================] - 0s 6ms/step - loss: 1.5225 - mean_absolute_error: 1.5225 - val_loss: 2.6857 - val_mean_absolute_error: 2.6857\n",
            "Epoch 52/60\n",
            "8/8 [==============================] - 0s 6ms/step - loss: 1.5179 - mean_absolute_error: 1.5179 - val_loss: 2.6875 - val_mean_absolute_error: 2.6875\n",
            "Epoch 53/60\n",
            "8/8 [==============================] - 0s 5ms/step - loss: 1.5127 - mean_absolute_error: 1.5127 - val_loss: 2.6835 - val_mean_absolute_error: 2.6835\n",
            "Epoch 54/60\n",
            "8/8 [==============================] - 0s 5ms/step - loss: 1.5102 - mean_absolute_error: 1.5102 - val_loss: 2.6779 - val_mean_absolute_error: 2.6779\n",
            "Epoch 55/60\n",
            "8/8 [==============================] - 0s 5ms/step - loss: 1.5052 - mean_absolute_error: 1.5052 - val_loss: 2.6766 - val_mean_absolute_error: 2.6766\n",
            "Epoch 56/60\n",
            "8/8 [==============================] - 0s 5ms/step - loss: 1.4999 - mean_absolute_error: 1.4999 - val_loss: 2.6618 - val_mean_absolute_error: 2.6618\n",
            "Epoch 57/60\n",
            "8/8 [==============================] - 0s 5ms/step - loss: 1.5014 - mean_absolute_error: 1.5014 - val_loss: 2.6668 - val_mean_absolute_error: 2.6668\n",
            "Epoch 58/60\n",
            "8/8 [==============================] - 0s 5ms/step - loss: 1.4944 - mean_absolute_error: 1.4944 - val_loss: 2.6624 - val_mean_absolute_error: 2.6624\n",
            "Epoch 59/60\n",
            "8/8 [==============================] - 0s 5ms/step - loss: 1.4919 - mean_absolute_error: 1.4919 - val_loss: 2.6536 - val_mean_absolute_error: 2.6536\n",
            "Epoch 60/60\n",
            "8/8 [==============================] - 0s 5ms/step - loss: 1.4821 - mean_absolute_error: 1.4821 - val_loss: 2.6747 - val_mean_absolute_error: 2.6747\n"
          ]
        }
      ]
    },
    {
      "cell_type": "code",
      "source": [
        "from matplotlib import pyplot as plt\n",
        "plt.plot(history2.history['mean_absolute_error'])\n",
        "plt.plot(history2.history['val_mean_absolute_error'])\n",
        "plt.title('Model Mean Absolute Error (MAE)')\n",
        "plt.ylabel('MAE')\n",
        "plt.xlabel('Epoch')\n",
        "plt.legend(['Train', 'Cross-Validation'], loc='upper right')\n",
        "plt.show()"
      ],
      "metadata": {
        "colab": {
          "base_uri": "https://localhost:8080/",
          "height": 295
        },
        "id": "ovwb5HpDqgpE",
        "outputId": "42fd082e-f0ee-4424-c581-6dff8a514e25"
      },
      "execution_count": 51,
      "outputs": [
        {
          "output_type": "display_data",
          "data": {
            "text/plain": [
              "<Figure size 432x288 with 1 Axes>"
            ],
            "image/png": "[encoded data removed]"
          },
          "metadata": {
            "needs_background": "light"
          }
        }
      ]
    },
    {
      "cell_type": "code",
      "source": [
        "tf.random.set_seed(5)\n",
        "\n",
        "network3 = tf.keras.models.Sequential()\n",
        "network3.add(tf.keras.Input(shape=(7,)))\n",
        "network3.add(tf.keras.layers.Dense(20, activation='relu'))\n",
        "network3.add(tf.keras.layers.Dense(20, activation='relu'))\n",
        "network3.add(tf.keras.layers.Dense(20, activation='relu'))\n",
        "network3.add(tf.keras.layers.Dense(20, activation='relu'))\n",
        "network3.add(tf.keras.layers.Dense(1))\n",
        "\n",
        "network3.compile(\n",
        "   loss=tf.keras.losses.MeanAbsoluteError(),\n",
        "   optimizer=tf.keras.optimizers.Adam(),\n",
        "   metrics='mean_absolute_error')\n",
        "\n",
        "history3 = network3.fit(train_selected_X, train_target, epochs=60,validation_data=(test_selected_X,test_target))"
      ],
      "metadata": {
        "colab": {
          "base_uri": "https://localhost:8080/"
        },
        "id": "lDEz4qoSr3IC",
        "outputId": "a4791d22-744a-4dd8-e07b-7cbf91314f84"
      },
      "execution_count": 52,
      "outputs": [
        {
          "output_type": "stream",
          "name": "stdout",
          "text": [
            "Epoch 1/60\n",
            "8/8 [==============================] - 1s 24ms/step - loss: 2.1273 - mean_absolute_error: 2.1273 - val_loss: 3.1665 - val_mean_absolute_error: 3.1665\n",
            "Epoch 2/60\n",
            "8/8 [==============================] - 0s 5ms/step - loss: 2.0410 - mean_absolute_error: 2.0410 - val_loss: 3.0526 - val_mean_absolute_error: 3.0526\n",
            "Epoch 3/60\n",
            "8/8 [==============================] - 0s 5ms/step - loss: 1.9152 - mean_absolute_error: 1.9152 - val_loss: 2.9127 - val_mean_absolute_error: 2.9127\n",
            "Epoch 4/60\n",
            "8/8 [==============================] - 0s 5ms/step - loss: 1.7926 - mean_absolute_error: 1.7926 - val_loss: 2.8426 - val_mean_absolute_error: 2.8426\n",
            "Epoch 5/60\n",
            "8/8 [==============================] - 0s 5ms/step - loss: 1.7616 - mean_absolute_error: 1.7616 - val_loss: 2.8397 - val_mean_absolute_error: 2.8397\n",
            "Epoch 6/60\n",
            "8/8 [==============================] - 0s 6ms/step - loss: 1.7638 - mean_absolute_error: 1.7638 - val_loss: 2.8312 - val_mean_absolute_error: 2.8312\n",
            "Epoch 7/60\n",
            "8/8 [==============================] - 0s 5ms/step - loss: 1.7556 - mean_absolute_error: 1.7556 - val_loss: 2.8216 - val_mean_absolute_error: 2.8216\n",
            "Epoch 8/60\n",
            "8/8 [==============================] - 0s 5ms/step - loss: 1.7453 - mean_absolute_error: 1.7453 - val_loss: 2.8178 - val_mean_absolute_error: 2.8178\n",
            "Epoch 9/60\n",
            "8/8 [==============================] - 0s 5ms/step - loss: 1.7410 - mean_absolute_error: 1.7410 - val_loss: 2.8185 - val_mean_absolute_error: 2.8185\n",
            "Epoch 10/60\n",
            "8/8 [==============================] - 0s 5ms/step - loss: 1.7377 - mean_absolute_error: 1.7377 - val_loss: 2.8116 - val_mean_absolute_error: 2.8116\n",
            "Epoch 11/60\n",
            "8/8 [==============================] - 0s 5ms/step - loss: 1.7329 - mean_absolute_error: 1.7329 - val_loss: 2.8042 - val_mean_absolute_error: 2.8042\n",
            "Epoch 12/60\n",
            "8/8 [==============================] - 0s 6ms/step - loss: 1.7301 - mean_absolute_error: 1.7301 - val_loss: 2.7996 - val_mean_absolute_error: 2.7996\n",
            "Epoch 13/60\n",
            "8/8 [==============================] - 0s 5ms/step - loss: 1.7260 - mean_absolute_error: 1.7260 - val_loss: 2.7961 - val_mean_absolute_error: 2.7961\n",
            "Epoch 14/60\n",
            "8/8 [==============================] - 0s 5ms/step - loss: 1.7223 - mean_absolute_error: 1.7223 - val_loss: 2.7907 - val_mean_absolute_error: 2.7907\n",
            "Epoch 15/60\n",
            "8/8 [==============================] - 0s 5ms/step - loss: 1.7185 - mean_absolute_error: 1.7185 - val_loss: 2.7813 - val_mean_absolute_error: 2.7813\n",
            "Epoch 16/60\n",
            "8/8 [==============================] - 0s 5ms/step - loss: 1.7126 - mean_absolute_error: 1.7126 - val_loss: 2.7733 - val_mean_absolute_error: 2.7733\n",
            "Epoch 17/60\n",
            "8/8 [==============================] - 0s 5ms/step - loss: 1.7075 - mean_absolute_error: 1.7075 - val_loss: 2.7640 - val_mean_absolute_error: 2.7640\n",
            "Epoch 18/60\n",
            "8/8 [==============================] - 0s 5ms/step - loss: 1.7017 - mean_absolute_error: 1.7017 - val_loss: 2.7530 - val_mean_absolute_error: 2.7530\n",
            "Epoch 19/60\n",
            "8/8 [==============================] - 0s 6ms/step - loss: 1.6966 - mean_absolute_error: 1.6966 - val_loss: 2.7403 - val_mean_absolute_error: 2.7403\n",
            "Epoch 20/60\n",
            "8/8 [==============================] - 0s 5ms/step - loss: 1.6908 - mean_absolute_error: 1.6908 - val_loss: 2.7299 - val_mean_absolute_error: 2.7299\n",
            "Epoch 21/60\n",
            "8/8 [==============================] - 0s 5ms/step - loss: 1.6875 - mean_absolute_error: 1.6875 - val_loss: 2.7173 - val_mean_absolute_error: 2.7173\n",
            "Epoch 22/60\n",
            "8/8 [==============================] - 0s 5ms/step - loss: 1.6809 - mean_absolute_error: 1.6809 - val_loss: 2.7069 - val_mean_absolute_error: 2.7069\n",
            "Epoch 23/60\n",
            "8/8 [==============================] - 0s 5ms/step - loss: 1.6768 - mean_absolute_error: 1.6768 - val_loss: 2.6970 - val_mean_absolute_error: 2.6970\n",
            "Epoch 24/60\n",
            "8/8 [==============================] - 0s 5ms/step - loss: 1.6708 - mean_absolute_error: 1.6708 - val_loss: 2.6919 - val_mean_absolute_error: 2.6919\n",
            "Epoch 25/60\n",
            "8/8 [==============================] - 0s 5ms/step - loss: 1.6744 - mean_absolute_error: 1.6744 - val_loss: 2.6923 - val_mean_absolute_error: 2.6923\n",
            "Epoch 26/60\n",
            "8/8 [==============================] - 0s 5ms/step - loss: 1.6625 - mean_absolute_error: 1.6625 - val_loss: 2.6742 - val_mean_absolute_error: 2.6742\n",
            "Epoch 27/60\n",
            "8/8 [==============================] - 0s 5ms/step - loss: 1.6622 - mean_absolute_error: 1.6622 - val_loss: 2.6629 - val_mean_absolute_error: 2.6629\n",
            "Epoch 28/60\n",
            "8/8 [==============================] - 0s 5ms/step - loss: 1.6515 - mean_absolute_error: 1.6515 - val_loss: 2.6544 - val_mean_absolute_error: 2.6544\n",
            "Epoch 29/60\n",
            "8/8 [==============================] - 0s 6ms/step - loss: 1.6475 - mean_absolute_error: 1.6475 - val_loss: 2.6415 - val_mean_absolute_error: 2.6415\n",
            "Epoch 30/60\n",
            "8/8 [==============================] - 0s 5ms/step - loss: 1.6414 - mean_absolute_error: 1.6414 - val_loss: 2.6347 - val_mean_absolute_error: 2.6347\n",
            "Epoch 31/60\n",
            "8/8 [==============================] - 0s 5ms/step - loss: 1.6360 - mean_absolute_error: 1.6360 - val_loss: 2.6236 - val_mean_absolute_error: 2.6236\n",
            "Epoch 32/60\n",
            "8/8 [==============================] - 0s 5ms/step - loss: 1.6327 - mean_absolute_error: 1.6327 - val_loss: 2.6169 - val_mean_absolute_error: 2.6169\n",
            "Epoch 33/60\n",
            "8/8 [==============================] - 0s 7ms/step - loss: 1.6301 - mean_absolute_error: 1.6301 - val_loss: 2.6076 - val_mean_absolute_error: 2.6076\n",
            "Epoch 34/60\n",
            "8/8 [==============================] - 0s 5ms/step - loss: 1.6234 - mean_absolute_error: 1.6234 - val_loss: 2.6034 - val_mean_absolute_error: 2.6034\n",
            "Epoch 35/60\n",
            "8/8 [==============================] - 0s 5ms/step - loss: 1.6205 - mean_absolute_error: 1.6205 - val_loss: 2.5927 - val_mean_absolute_error: 2.5927\n",
            "Epoch 36/60\n",
            "8/8 [==============================] - 0s 5ms/step - loss: 1.6145 - mean_absolute_error: 1.6145 - val_loss: 2.5898 - val_mean_absolute_error: 2.5898\n",
            "Epoch 37/60\n",
            "8/8 [==============================] - 0s 5ms/step - loss: 1.6097 - mean_absolute_error: 1.6097 - val_loss: 2.5861 - val_mean_absolute_error: 2.5861\n",
            "Epoch 38/60\n",
            "8/8 [==============================] - 0s 5ms/step - loss: 1.6063 - mean_absolute_error: 1.6063 - val_loss: 2.5841 - val_mean_absolute_error: 2.5841\n",
            "Epoch 39/60\n",
            "8/8 [==============================] - 0s 5ms/step - loss: 1.6045 - mean_absolute_error: 1.6045 - val_loss: 2.5825 - val_mean_absolute_error: 2.5825\n",
            "Epoch 40/60\n",
            "8/8 [==============================] - 0s 6ms/step - loss: 1.5996 - mean_absolute_error: 1.5996 - val_loss: 2.5843 - val_mean_absolute_error: 2.5843\n",
            "Epoch 41/60\n",
            "8/8 [==============================] - 0s 6ms/step - loss: 1.5996 - mean_absolute_error: 1.5996 - val_loss: 2.5779 - val_mean_absolute_error: 2.5779\n",
            "Epoch 42/60\n",
            "8/8 [==============================] - 0s 6ms/step - loss: 1.5934 - mean_absolute_error: 1.5934 - val_loss: 2.5743 - val_mean_absolute_error: 2.5743\n",
            "Epoch 43/60\n",
            "8/8 [==============================] - 0s 5ms/step - loss: 1.5903 - mean_absolute_error: 1.5903 - val_loss: 2.5703 - val_mean_absolute_error: 2.5703\n",
            "Epoch 44/60\n",
            "8/8 [==============================] - 0s 5ms/step - loss: 1.5920 - mean_absolute_error: 1.5920 - val_loss: 2.5722 - val_mean_absolute_error: 2.5722\n",
            "Epoch 45/60\n",
            "8/8 [==============================] - 0s 5ms/step - loss: 1.5824 - mean_absolute_error: 1.5824 - val_loss: 2.5707 - val_mean_absolute_error: 2.5707\n",
            "Epoch 46/60\n",
            "8/8 [==============================] - 0s 5ms/step - loss: 1.5796 - mean_absolute_error: 1.5796 - val_loss: 2.5690 - val_mean_absolute_error: 2.5690\n",
            "Epoch 47/60\n",
            "8/8 [==============================] - 0s 5ms/step - loss: 1.5778 - mean_absolute_error: 1.5778 - val_loss: 2.5697 - val_mean_absolute_error: 2.5697\n",
            "Epoch 48/60\n",
            "8/8 [==============================] - 0s 5ms/step - loss: 1.5764 - mean_absolute_error: 1.5764 - val_loss: 2.5692 - val_mean_absolute_error: 2.5692\n",
            "Epoch 49/60\n",
            "8/8 [==============================] - 0s 5ms/step - loss: 1.5749 - mean_absolute_error: 1.5749 - val_loss: 2.5679 - val_mean_absolute_error: 2.5679\n",
            "Epoch 50/60\n",
            "8/8 [==============================] - 0s 5ms/step - loss: 1.5766 - mean_absolute_error: 1.5766 - val_loss: 2.5616 - val_mean_absolute_error: 2.5616\n",
            "Epoch 51/60\n",
            "8/8 [==============================] - 0s 5ms/step - loss: 1.5741 - mean_absolute_error: 1.5741 - val_loss: 2.5578 - val_mean_absolute_error: 2.5578\n",
            "Epoch 52/60\n",
            "8/8 [==============================] - 0s 5ms/step - loss: 1.5638 - mean_absolute_error: 1.5638 - val_loss: 2.5569 - val_mean_absolute_error: 2.5569\n",
            "Epoch 53/60\n",
            "8/8 [==============================] - 0s 8ms/step - loss: 1.5699 - mean_absolute_error: 1.5699 - val_loss: 2.5533 - val_mean_absolute_error: 2.5533\n",
            "Epoch 54/60\n",
            "8/8 [==============================] - 0s 6ms/step - loss: 1.5641 - mean_absolute_error: 1.5641 - val_loss: 2.5543 - val_mean_absolute_error: 2.5543\n",
            "Epoch 55/60\n",
            "8/8 [==============================] - 0s 5ms/step - loss: 1.5626 - mean_absolute_error: 1.5626 - val_loss: 2.5544 - val_mean_absolute_error: 2.5544\n",
            "Epoch 56/60\n",
            "8/8 [==============================] - 0s 5ms/step - loss: 1.5631 - mean_absolute_error: 1.5631 - val_loss: 2.5523 - val_mean_absolute_error: 2.5523\n",
            "Epoch 57/60\n",
            "8/8 [==============================] - 0s 5ms/step - loss: 1.5583 - mean_absolute_error: 1.5583 - val_loss: 2.5528 - val_mean_absolute_error: 2.5528\n",
            "Epoch 58/60\n",
            "8/8 [==============================] - 0s 5ms/step - loss: 1.5609 - mean_absolute_error: 1.5609 - val_loss: 2.5497 - val_mean_absolute_error: 2.5497\n",
            "Epoch 59/60\n",
            "8/8 [==============================] - 0s 5ms/step - loss: 1.5556 - mean_absolute_error: 1.5556 - val_loss: 2.5511 - val_mean_absolute_error: 2.5511\n",
            "Epoch 60/60\n",
            "8/8 [==============================] - 0s 5ms/step - loss: 1.5564 - mean_absolute_error: 1.5564 - val_loss: 2.5506 - val_mean_absolute_error: 2.5506\n"
          ]
        }
      ]
    },
    {
      "cell_type": "code",
      "source": [
        "from matplotlib import pyplot as plt\n",
        "plt.plot(history3.history['mean_absolute_error'])\n",
        "plt.plot(history3.history['val_mean_absolute_error'])\n",
        "plt.title('Model Mean Absolute Error (MAE)')\n",
        "plt.ylabel('MAE')\n",
        "plt.xlabel('Epoch')\n",
        "plt.legend(['Train', 'Cross-Validation'], loc='upper right')\n",
        "plt.show()"
      ],
      "metadata": {
        "colab": {
          "base_uri": "https://localhost:8080/",
          "height": 295
        },
        "id": "128nqSmSr2M8",
        "outputId": "8e22ff37-dccf-4d06-db9c-28196c9d5a78"
      },
      "execution_count": 53,
      "outputs": [
        {
          "output_type": "display_data",
          "data": {
            "text/plain": [
              "<Figure size 432x288 with 1 Axes>"
            ],
            "image/png": "[encoded data removed]"
          },
          "metadata": {
            "needs_background": "light"
          }
        }
      ]
    }
  ]
}