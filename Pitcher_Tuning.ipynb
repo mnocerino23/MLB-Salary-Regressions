{
  "nbformat": 4,
  "nbformat_minor": 0,
  "metadata": {
    "colab": {
      "name": "Pitcher_Tuning.ipynb",
      "provenance": [],
      "collapsed_sections": [],
      "authorship_tag": "ABX9TyMm57vYS8rvi2E0IJ98/fxF",
      "include_colab_link": true
    },
    "kernelspec": {
      "name": "python3",
      "display_name": "Python 3"
    },
    "language_info": {
      "name": "python"
    }
  },
  "cells": [
    {
      "cell_type": "markdown",
      "metadata": {
        "id": "view-in-github",
        "colab_type": "text"
      },
      "source": [
        "<a href=\"https://colab.research.google.com/github/mnocerino23/MLB-Salary-Regressions/blob/main/Pitcher_Tuning.ipynb\" target=\"_parent\"><img src=\"https://colab.research.google.com/assets/colab-badge.svg\" alt=\"Open In Colab\"/></a>"
      ]
    },
    {
      "cell_type": "markdown",
      "source": [
        "# In this notebook, I will tune the regression models for pitcher salaries using GridSearchCV in scikit-learn to try to get best performing results for the decision tree, linear, and ridge regressions"
      ],
      "metadata": {
        "id": "f4ApupsHWsk0"
      }
    },
    {
      "cell_type": "markdown",
      "source": [
        "From experimentation in the Pitcher_Regressions notebook, I found that decision tree regressors, mulit-linear, and ridge regressions work best on this data. I will try to find models and tweak parameters to optimize performance and minimize MAE."
      ],
      "metadata": {
        "id": "cVKpEP0hF3sx"
      }
    },
    {
      "cell_type": "code",
      "execution_count": 148,
      "metadata": {
        "id": "-m4_gX_7WniX",
        "colab": {
          "base_uri": "https://localhost:8080/"
        },
        "outputId": "75f914ae-6ec8-4011-ca28-67d661f6744e"
      },
      "outputs": [
        {
          "output_type": "stream",
          "name": "stdout",
          "text": [
            "Drive already mounted at /content/drive; to attempt to forcibly remount, call drive.mount(\"/content/drive\", force_remount=True).\n"
          ]
        }
      ],
      "source": [
        "import numpy as np\n",
        "import pandas as pd\n",
        "\n",
        "from google.colab import drive\n",
        "drive.mount('/content/drive')"
      ]
    },
    {
      "cell_type": "code",
      "source": [
        "import sklearn\n",
        "from sklearn import preprocessing\n",
        "from sklearn.model_selection import train_test_split, cross_val_score\n",
        "from sklearn.feature_selection import SelectKBest, f_regression\n",
        "from sklearn.preprocessing import MinMaxScaler"
      ],
      "metadata": {
        "id": "2paP65w2XzxT"
      },
      "execution_count": 149,
      "outputs": []
    },
    {
      "cell_type": "code",
      "source": [
        "from sklearn import linear_model\n",
        "from sklearn.linear_model import Ridge, Lasso"
      ],
      "metadata": {
        "id": "lUOnJgJjYBjQ"
      },
      "execution_count": 150,
      "outputs": []
    },
    {
      "cell_type": "code",
      "source": [
        "from sklearn.metrics import mean_absolute_error, mean_squared_error, mean_squared_log_error"
      ],
      "metadata": {
        "id": "vcpSRxhvX5mJ"
      },
      "execution_count": 151,
      "outputs": []
    },
    {
      "cell_type": "code",
      "source": [
        "#read in position player stats\n",
        "pitcher_train = pd.read_csv('/content/drive/MyDrive/Data_Science_Projects/MLB/pitcher_train.csv')\n",
        "pitcher_test = pd.read_csv('/content/drive/MyDrive/Data_Science_Projects/MLB/pitcher_test.csv')"
      ],
      "metadata": {
        "id": "_2BdS_khYKqq"
      },
      "execution_count": 152,
      "outputs": []
    },
    {
      "cell_type": "markdown",
      "source": [
        "# Final check for null values:"
      ],
      "metadata": {
        "id": "2Te5bc3PfD_k"
      }
    },
    {
      "cell_type": "code",
      "source": [
        "#Looks like pitcher_train has a few null values so we drop them\n",
        "pitcher_train.info()"
      ],
      "metadata": {
        "colab": {
          "base_uri": "https://localhost:8080/"
        },
        "id": "lbN5vD43e-ZF",
        "outputId": "b0f7bc06-e24e-4f37-82bf-221420e27d6b"
      },
      "execution_count": 153,
      "outputs": [
        {
          "output_type": "stream",
          "name": "stdout",
          "text": [
            "<class 'pandas.core.frame.DataFrame'>\n",
            "RangeIndex: 300 entries, 0 to 299\n",
            "Data columns (total 43 columns):\n",
            " #   Column   Non-Null Count  Dtype  \n",
            "---  ------   --------------  -----  \n",
            " 0   name     300 non-null    object \n",
            " 1   throws   300 non-null    object \n",
            " 2   age      300 non-null    int64  \n",
            " 3   stints   300 non-null    int64  \n",
            " 4   teamID   300 non-null    object \n",
            " 5   LG       300 non-null    object \n",
            " 6   POS1     300 non-null    object \n",
            " 7   W        300 non-null    int64  \n",
            " 8   L        300 non-null    int64  \n",
            " 9   CG       300 non-null    int64  \n",
            " 10  ShO      300 non-null    int64  \n",
            " 11  GP       300 non-null    int64  \n",
            " 12  GS       300 non-null    int64  \n",
            " 13  SV       300 non-null    int64  \n",
            " 14  GF       300 non-null    int64  \n",
            " 15  IPOuts   300 non-null    int64  \n",
            " 16   IP      300 non-null    float64\n",
            " 17   ERA     300 non-null    float64\n",
            " 18  HA       300 non-null    int64  \n",
            " 19  ER       300 non-null    int64  \n",
            " 20  HRA      300 non-null    int64  \n",
            " 21  BBA      300 non-null    int64  \n",
            " 22  SOA      300 non-null    int64  \n",
            " 23  IBBA     300 non-null    int64  \n",
            " 24  WP       300 non-null    int64  \n",
            " 25  HPBA     300 non-null    int64  \n",
            " 26  BK       300 non-null    int64  \n",
            " 27  BFP      300 non-null    int64  \n",
            " 28  RA       300 non-null    int64  \n",
            " 29   CMD     300 non-null    float64\n",
            " 30   DOM     300 non-null    float64\n",
            " 31   CTL     300 non-null    float64\n",
            " 32   HR9     300 non-null    object \n",
            " 33   WHIP    300 non-null    float64\n",
            " 34   WRIP    300 non-null    float64\n",
            " 35  HRBIB    300 non-null    object \n",
            " 36   RAVG    300 non-null    float64\n",
            " 37   FIP     300 non-null    float64\n",
            " 38   DERA    300 non-null    float64\n",
            " 39   STUFF   300 non-null    int64  \n",
            " 40   GURU    300 non-null    object \n",
            " 41  salary   300 non-null    float64\n",
            " 42  WAR      300 non-null    float64\n",
            "dtypes: float64(12), int64(23), object(8)\n",
            "memory usage: 100.9+ KB\n"
          ]
        }
      ]
    },
    {
      "cell_type": "code",
      "source": [
        "pitcher_train = pitcher_train.dropna()"
      ],
      "metadata": {
        "id": "WGz8pzRdfJUk"
      },
      "execution_count": 154,
      "outputs": []
    },
    {
      "cell_type": "code",
      "source": [
        "pitcher_train.info()"
      ],
      "metadata": {
        "colab": {
          "base_uri": "https://localhost:8080/"
        },
        "id": "r7xpS7ZofLPC",
        "outputId": "7c95a2c2-dd99-40a5-9f36-2f3867cb6a25"
      },
      "execution_count": 155,
      "outputs": [
        {
          "output_type": "stream",
          "name": "stdout",
          "text": [
            "<class 'pandas.core.frame.DataFrame'>\n",
            "Int64Index: 300 entries, 0 to 299\n",
            "Data columns (total 43 columns):\n",
            " #   Column   Non-Null Count  Dtype  \n",
            "---  ------   --------------  -----  \n",
            " 0   name     300 non-null    object \n",
            " 1   throws   300 non-null    object \n",
            " 2   age      300 non-null    int64  \n",
            " 3   stints   300 non-null    int64  \n",
            " 4   teamID   300 non-null    object \n",
            " 5   LG       300 non-null    object \n",
            " 6   POS1     300 non-null    object \n",
            " 7   W        300 non-null    int64  \n",
            " 8   L        300 non-null    int64  \n",
            " 9   CG       300 non-null    int64  \n",
            " 10  ShO      300 non-null    int64  \n",
            " 11  GP       300 non-null    int64  \n",
            " 12  GS       300 non-null    int64  \n",
            " 13  SV       300 non-null    int64  \n",
            " 14  GF       300 non-null    int64  \n",
            " 15  IPOuts   300 non-null    int64  \n",
            " 16   IP      300 non-null    float64\n",
            " 17   ERA     300 non-null    float64\n",
            " 18  HA       300 non-null    int64  \n",
            " 19  ER       300 non-null    int64  \n",
            " 20  HRA      300 non-null    int64  \n",
            " 21  BBA      300 non-null    int64  \n",
            " 22  SOA      300 non-null    int64  \n",
            " 23  IBBA     300 non-null    int64  \n",
            " 24  WP       300 non-null    int64  \n",
            " 25  HPBA     300 non-null    int64  \n",
            " 26  BK       300 non-null    int64  \n",
            " 27  BFP      300 non-null    int64  \n",
            " 28  RA       300 non-null    int64  \n",
            " 29   CMD     300 non-null    float64\n",
            " 30   DOM     300 non-null    float64\n",
            " 31   CTL     300 non-null    float64\n",
            " 32   HR9     300 non-null    object \n",
            " 33   WHIP    300 non-null    float64\n",
            " 34   WRIP    300 non-null    float64\n",
            " 35  HRBIB    300 non-null    object \n",
            " 36   RAVG    300 non-null    float64\n",
            " 37   FIP     300 non-null    float64\n",
            " 38   DERA    300 non-null    float64\n",
            " 39   STUFF   300 non-null    int64  \n",
            " 40   GURU    300 non-null    object \n",
            " 41  salary   300 non-null    float64\n",
            " 42  WAR      300 non-null    float64\n",
            "dtypes: float64(12), int64(23), object(8)\n",
            "memory usage: 103.1+ KB\n"
          ]
        }
      ]
    },
    {
      "cell_type": "code",
      "source": [
        "#pitcher_test has no null values so we are good\n",
        "pitcher_test.info()"
      ],
      "metadata": {
        "colab": {
          "base_uri": "https://localhost:8080/"
        },
        "id": "3tBG6TJ5fA80",
        "outputId": "62b19f5d-b0c7-4d27-dfae-a563e5ee5118"
      },
      "execution_count": 156,
      "outputs": [
        {
          "output_type": "stream",
          "name": "stdout",
          "text": [
            "<class 'pandas.core.frame.DataFrame'>\n",
            "RangeIndex: 75 entries, 0 to 74\n",
            "Data columns (total 43 columns):\n",
            " #   Column   Non-Null Count  Dtype  \n",
            "---  ------   --------------  -----  \n",
            " 0   name     75 non-null     object \n",
            " 1   throws   75 non-null     object \n",
            " 2   age      75 non-null     int64  \n",
            " 3   stints   75 non-null     int64  \n",
            " 4   teamID   75 non-null     object \n",
            " 5   LG       75 non-null     object \n",
            " 6   POS1     75 non-null     object \n",
            " 7   W        75 non-null     int64  \n",
            " 8   L        75 non-null     int64  \n",
            " 9   CG       75 non-null     int64  \n",
            " 10  ShO      75 non-null     int64  \n",
            " 11  GP       75 non-null     int64  \n",
            " 12  GS       75 non-null     int64  \n",
            " 13  SV       75 non-null     int64  \n",
            " 14  GF       75 non-null     int64  \n",
            " 15  IPOuts   75 non-null     int64  \n",
            " 16   IP      75 non-null     float64\n",
            " 17   ERA     75 non-null     float64\n",
            " 18  HA       75 non-null     int64  \n",
            " 19  ER       75 non-null     int64  \n",
            " 20  HRA      75 non-null     int64  \n",
            " 21  BBA      75 non-null     int64  \n",
            " 22  SOA      75 non-null     int64  \n",
            " 23  IBBA     75 non-null     int64  \n",
            " 24  WP       75 non-null     int64  \n",
            " 25  HPBA     75 non-null     int64  \n",
            " 26  BK       75 non-null     int64  \n",
            " 27  BFP      75 non-null     int64  \n",
            " 28  RA       75 non-null     int64  \n",
            " 29   CMD     75 non-null     float64\n",
            " 30   DOM     75 non-null     float64\n",
            " 31   CTL     75 non-null     float64\n",
            " 32   HR9     75 non-null     float64\n",
            " 33   WHIP    75 non-null     float64\n",
            " 34   WRIP    75 non-null     float64\n",
            " 35  HRBIB    75 non-null     float64\n",
            " 36   RAVG    75 non-null     float64\n",
            " 37   FIP     75 non-null     float64\n",
            " 38   DERA    75 non-null     float64\n",
            " 39   STUFF   75 non-null     int64  \n",
            " 40   GURU    75 non-null     int64  \n",
            " 41  salary   75 non-null     float64\n",
            " 42  WAR      75 non-null     float64\n",
            "dtypes: float64(14), int64(24), object(5)\n",
            "memory usage: 25.3+ KB\n"
          ]
        }
      ]
    },
    {
      "cell_type": "code",
      "source": [
        "#drop unnamed index column from both datasets\n",
        "#also drop the at bats feature since I am now realizing the redunancy here when tap (total plate appearances) contains very similar info\n",
        "pitcher_train.drop(columns = ['name','stints', 'teamID', 'LG'], inplace = True)\n",
        "pitcher_test.drop(columns = ['name','stints', 'teamID', 'LG'], inplace = True)\n",
        "pitcher_test.head()"
      ],
      "metadata": {
        "colab": {
          "base_uri": "https://localhost:8080/",
          "height": 235
        },
        "id": "dsqdOljHZXvq",
        "outputId": "fcee5d16-e108-474e-d082-71ca701b71af"
      },
      "execution_count": 157,
      "outputs": [
        {
          "output_type": "execute_result",
          "data": {
            "text/plain": [
              "  throws  age      POS1   W  L  CG  ShO  GP  GS  SV  ...   WHIP    WRIP   \\\n",
              "0      R   28  Reliever   6  4   0    0  56   0   5  ...    1.30    1.54   \n",
              "1      R   24   Starter  14  4   2    0  30  30   0  ...    1.04    1.30   \n",
              "2      L   21  Reliever   2  6   0    0  19  15   0  ...    1.64    3.25   \n",
              "3      R   23   Starter  11  8   0    0  33  33   0  ...    0.97    1.55   \n",
              "4      R   26  Reliever   4  4   0    0  27   9   0  ...    1.67    1.61   \n",
              "\n",
              "   HRBIB   RAVG    FIP    DERA    STUFF    GURU     salary  WAR  \n",
              "0   0.07    5.31   3.69    3.60      123      44  0.390904  0.9  \n",
              "1   0.06    3.80   2.99    2.93      206     147  0.570000  5.0  \n",
              "2   0.16    7.44   6.71    6.27        6       9  0.265576 -0.6  \n",
              "3   0.08    2.84   3.45    3.32      171     107  0.562100  4.9  \n",
              "4   0.05    5.77   4.58    4.42       31      23  0.704256  0.6  \n",
              "\n",
              "[5 rows x 39 columns]"
            ],
            "text/html": [
              "\n",
              "  <div id=\"df-688822b1-834c-473f-aaaf-42f56aab9074\">\n",
              "    <div class=\"colab-df-container\">\n",
              "      <div>\n",
              "<style scoped>\n",
              "    .dataframe tbody tr th:only-of-type {\n",
              "        vertical-align: middle;\n",
              "    }\n",
              "\n",
              "    .dataframe tbody tr th {\n",
              "        vertical-align: top;\n",
              "    }\n",
              "\n",
              "    .dataframe thead th {\n",
              "        text-align: right;\n",
              "    }\n",
              "</style>\n",
              "<table border=\"1\" class=\"dataframe\">\n",
              "  <thead>\n",
              "    <tr style=\"text-align: right;\">\n",
              "      <th></th>\n",
              "      <th>throws</th>\n",
              "      <th>age</th>\n",
              "      <th>POS1</th>\n",
              "      <th>W</th>\n",
              "      <th>L</th>\n",
              "      <th>CG</th>\n",
              "      <th>ShO</th>\n",
              "      <th>GP</th>\n",
              "      <th>GS</th>\n",
              "      <th>SV</th>\n",
              "      <th>...</th>\n",
              "      <th>WHIP</th>\n",
              "      <th>WRIP</th>\n",
              "      <th>HRBIB</th>\n",
              "      <th>RAVG</th>\n",
              "      <th>FIP</th>\n",
              "      <th>DERA</th>\n",
              "      <th>STUFF</th>\n",
              "      <th>GURU</th>\n",
              "      <th>salary</th>\n",
              "      <th>WAR</th>\n",
              "    </tr>\n",
              "  </thead>\n",
              "  <tbody>\n",
              "    <tr>\n",
              "      <th>0</th>\n",
              "      <td>R</td>\n",
              "      <td>28</td>\n",
              "      <td>Reliever</td>\n",
              "      <td>6</td>\n",
              "      <td>4</td>\n",
              "      <td>0</td>\n",
              "      <td>0</td>\n",
              "      <td>56</td>\n",
              "      <td>0</td>\n",
              "      <td>5</td>\n",
              "      <td>...</td>\n",
              "      <td>1.30</td>\n",
              "      <td>1.54</td>\n",
              "      <td>0.07</td>\n",
              "      <td>5.31</td>\n",
              "      <td>3.69</td>\n",
              "      <td>3.60</td>\n",
              "      <td>123</td>\n",
              "      <td>44</td>\n",
              "      <td>0.390904</td>\n",
              "      <td>0.9</td>\n",
              "    </tr>\n",
              "    <tr>\n",
              "      <th>1</th>\n",
              "      <td>R</td>\n",
              "      <td>24</td>\n",
              "      <td>Starter</td>\n",
              "      <td>14</td>\n",
              "      <td>4</td>\n",
              "      <td>2</td>\n",
              "      <td>0</td>\n",
              "      <td>30</td>\n",
              "      <td>30</td>\n",
              "      <td>0</td>\n",
              "      <td>...</td>\n",
              "      <td>1.04</td>\n",
              "      <td>1.30</td>\n",
              "      <td>0.06</td>\n",
              "      <td>3.80</td>\n",
              "      <td>2.99</td>\n",
              "      <td>2.93</td>\n",
              "      <td>206</td>\n",
              "      <td>147</td>\n",
              "      <td>0.570000</td>\n",
              "      <td>5.0</td>\n",
              "    </tr>\n",
              "    <tr>\n",
              "      <th>2</th>\n",
              "      <td>L</td>\n",
              "      <td>21</td>\n",
              "      <td>Reliever</td>\n",
              "      <td>2</td>\n",
              "      <td>6</td>\n",
              "      <td>0</td>\n",
              "      <td>0</td>\n",
              "      <td>19</td>\n",
              "      <td>15</td>\n",
              "      <td>0</td>\n",
              "      <td>...</td>\n",
              "      <td>1.64</td>\n",
              "      <td>3.25</td>\n",
              "      <td>0.16</td>\n",
              "      <td>7.44</td>\n",
              "      <td>6.71</td>\n",
              "      <td>6.27</td>\n",
              "      <td>6</td>\n",
              "      <td>9</td>\n",
              "      <td>0.265576</td>\n",
              "      <td>-0.6</td>\n",
              "    </tr>\n",
              "    <tr>\n",
              "      <th>3</th>\n",
              "      <td>R</td>\n",
              "      <td>23</td>\n",
              "      <td>Starter</td>\n",
              "      <td>11</td>\n",
              "      <td>8</td>\n",
              "      <td>0</td>\n",
              "      <td>0</td>\n",
              "      <td>33</td>\n",
              "      <td>33</td>\n",
              "      <td>0</td>\n",
              "      <td>...</td>\n",
              "      <td>0.97</td>\n",
              "      <td>1.55</td>\n",
              "      <td>0.08</td>\n",
              "      <td>2.84</td>\n",
              "      <td>3.45</td>\n",
              "      <td>3.32</td>\n",
              "      <td>171</td>\n",
              "      <td>107</td>\n",
              "      <td>0.562100</td>\n",
              "      <td>4.9</td>\n",
              "    </tr>\n",
              "    <tr>\n",
              "      <th>4</th>\n",
              "      <td>R</td>\n",
              "      <td>26</td>\n",
              "      <td>Reliever</td>\n",
              "      <td>4</td>\n",
              "      <td>4</td>\n",
              "      <td>0</td>\n",
              "      <td>0</td>\n",
              "      <td>27</td>\n",
              "      <td>9</td>\n",
              "      <td>0</td>\n",
              "      <td>...</td>\n",
              "      <td>1.67</td>\n",
              "      <td>1.61</td>\n",
              "      <td>0.05</td>\n",
              "      <td>5.77</td>\n",
              "      <td>4.58</td>\n",
              "      <td>4.42</td>\n",
              "      <td>31</td>\n",
              "      <td>23</td>\n",
              "      <td>0.704256</td>\n",
              "      <td>0.6</td>\n",
              "    </tr>\n",
              "  </tbody>\n",
              "</table>\n",
              "<p>5 rows × 39 columns</p>\n",
              "</div>\n",
              "      <button class=\"colab-df-convert\" onclick=\"convertToInteractive('df-688822b1-834c-473f-aaaf-42f56aab9074')\"\n",
              "              title=\"Convert this dataframe to an interactive table.\"\n",
              "              style=\"display:none;\">\n",
              "        \n",
              "  <svg xmlns=\"http://www.w3.org/2000/svg\" height=\"24px\"viewBox=\"0 0 24 24\"\n",
              "       width=\"24px\">\n",
              "    <path d=\"M0 0h24v24H0V0z\" fill=\"none\"/>\n",
              "    <path d=\"M18.56 5.44l.94 2.06.94-2.06 2.06-.94-2.06-.94-.94-2.06-.94 2.06-2.06.94zm-11 1L8.5 8.5l.94-2.06 2.06-.94-2.06-.94L8.5 2.5l-.94 2.06-2.06.94zm10 10l.94 2.06.94-2.06 2.06-.94-2.06-.94-.94-2.06-.94 2.06-2.06.94z\"/><path d=\"M17.41 7.96l-1.37-1.37c-.4-.4-.92-.59-1.43-.59-.52 0-1.04.2-1.43.59L10.3 9.45l-7.72 7.72c-.78.78-.78 2.05 0 2.83L4 21.41c.39.39.9.59 1.41.59.51 0 1.02-.2 1.41-.59l7.78-7.78 2.81-2.81c.8-.78.8-2.07 0-2.86zM5.41 20L4 18.59l7.72-7.72 1.47 1.35L5.41 20z\"/>\n",
              "  </svg>\n",
              "      </button>\n",
              "      \n",
              "  <style>\n",
              "    .colab-df-container {\n",
              "      display:flex;\n",
              "      flex-wrap:wrap;\n",
              "      gap: 12px;\n",
              "    }\n",
              "\n",
              "    .colab-df-convert {\n",
              "      background-color: #E8F0FE;\n",
              "      border: none;\n",
              "      border-radius: 50%;\n",
              "      cursor: pointer;\n",
              "      display: none;\n",
              "      fill: #1967D2;\n",
              "      height: 32px;\n",
              "      padding: 0 0 0 0;\n",
              "      width: 32px;\n",
              "    }\n",
              "\n",
              "    .colab-df-convert:hover {\n",
              "      background-color: #E2EBFA;\n",
              "      box-shadow: 0px 1px 2px rgba(60, 64, 67, 0.3), 0px 1px 3px 1px rgba(60, 64, 67, 0.15);\n",
              "      fill: #174EA6;\n",
              "    }\n",
              "\n",
              "    [theme=dark] .colab-df-convert {\n",
              "      background-color: #3B4455;\n",
              "      fill: #D2E3FC;\n",
              "    }\n",
              "\n",
              "    [theme=dark] .colab-df-convert:hover {\n",
              "      background-color: #434B5C;\n",
              "      box-shadow: 0px 1px 3px 1px rgba(0, 0, 0, 0.15);\n",
              "      filter: drop-shadow(0px 1px 2px rgba(0, 0, 0, 0.3));\n",
              "      fill: #FFFFFF;\n",
              "    }\n",
              "  </style>\n",
              "\n",
              "      <script>\n",
              "        const buttonEl =\n",
              "          document.querySelector('#df-688822b1-834c-473f-aaaf-42f56aab9074 button.colab-df-convert');\n",
              "        buttonEl.style.display =\n",
              "          google.colab.kernel.accessAllowed ? 'block' : 'none';\n",
              "\n",
              "        async function convertToInteractive(key) {\n",
              "          const element = document.querySelector('#df-688822b1-834c-473f-aaaf-42f56aab9074');\n",
              "          const dataTable =\n",
              "            await google.colab.kernel.invokeFunction('convertToInteractive',\n",
              "                                                     [key], {});\n",
              "          if (!dataTable) return;\n",
              "\n",
              "          const docLinkHtml = 'Like what you see? Visit the ' +\n",
              "            '<a target=\"_blank\" href=https://colab.research.google.com/notebooks/data_table.ipynb>data table notebook</a>'\n",
              "            + ' to learn more about interactive tables.';\n",
              "          element.innerHTML = '';\n",
              "          dataTable['output_type'] = 'display_data';\n",
              "          await google.colab.output.renderOutput(dataTable, element);\n",
              "          const docLink = document.createElement('div');\n",
              "          docLink.innerHTML = docLinkHtml;\n",
              "          element.appendChild(docLink);\n",
              "        }\n",
              "      </script>\n",
              "    </div>\n",
              "  </div>\n",
              "  "
            ]
          },
          "metadata": {},
          "execution_count": 157
        }
      ]
    },
    {
      "cell_type": "markdown",
      "source": [
        "# Reminding ourselves of the train and test data shapes (we performed an 80-20 split previously then normalized both independently)"
      ],
      "metadata": {
        "id": "XiZ7zpNQdl-j"
      }
    },
    {
      "cell_type": "code",
      "source": [
        "print('Position Players Train:')\n",
        "print('Train dataset dimensions: ', pitcher_train.shape, '\\n')\n",
        "\n",
        "print('Position Players Test:')\n",
        "print('Test dataset dimensions: ', pitcher_test.shape, '\\n')"
      ],
      "metadata": {
        "colab": {
          "base_uri": "https://localhost:8080/"
        },
        "id": "CYOaYX2cdubH",
        "outputId": "db84dce7-80d5-4303-daec-6bdb84072a90"
      },
      "execution_count": 158,
      "outputs": [
        {
          "output_type": "stream",
          "name": "stdout",
          "text": [
            "Position Players Train:\n",
            "Train dataset dimensions:  (300, 39) \n",
            "\n",
            "Position Players Test:\n",
            "Test dataset dimensions:  (75, 39) \n",
            "\n"
          ]
        }
      ]
    },
    {
      "cell_type": "markdown",
      "source": [
        "# Add on feature for under rookie contract. If a player is 25 or under they are on their rookie contract else they are typically not"
      ],
      "metadata": {
        "id": "MADEdY2RyjyG"
      }
    },
    {
      "cell_type": "code",
      "source": [
        "pitcher_train['Rookie contract'] = ''\n",
        "pitcher_test['Rookie contract'] = ''\n",
        "\n",
        "for index, row in pitcher_train.iterrows():\n",
        "  if pitcher_train.at[index,'age'] <= 25:\n",
        "    pitcher_train.at[index,'Rookie contract'] = 1\n",
        "  else:\n",
        "    pitcher_train.at[index,'Rookie contract'] = 0\n",
        "\n",
        "for index, row in pitcher_test.iterrows():\n",
        "  if pitcher_test.at[index,'age'] <= 25:\n",
        "    pitcher_test.at[index,'Rookie contract'] = 1\n",
        "  else:\n",
        "    pitcher_test.at[index,'Rookie contract'] = 0"
      ],
      "metadata": {
        "id": "Gu9Ht4n1ylAu"
      },
      "execution_count": 159,
      "outputs": []
    },
    {
      "cell_type": "markdown",
      "source": [
        "# One-hot encode position:"
      ],
      "metadata": {
        "id": "mKs-MAKGyrlx"
      }
    },
    {
      "cell_type": "code",
      "source": [
        "dummy_position = pd.get_dummies(pitcher_train['POS1'])\n",
        "dummy_throws = pd.get_dummies(pitcher_train['throws'], prefix = 'throws')\n",
        "items = [dummy_position, dummy_throws]\n",
        "for item in items:\n",
        "  pitcher_train = pd.merge(left = pitcher_train, right = item, left_index = True, right_index = True)\n",
        "\n",
        "pitcher_train.drop(columns = ['POS1', 'throws'], axis = 1, inplace = True)"
      ],
      "metadata": {
        "id": "6qXMid4yyms7"
      },
      "execution_count": 160,
      "outputs": []
    },
    {
      "cell_type": "code",
      "source": [
        "dummy_pos = pd.get_dummies(pitcher_test['POS1'])\n",
        "dummy_throw = pd.get_dummies(pitcher_test['throws'], prefix = 'throws')\n",
        "items = [dummy_pos, dummy_throw]\n",
        "\n",
        "for item in items:\n",
        "  pitcher_test = pd.merge(left = pitcher_test, right = item, left_index = True, right_index = True)\n",
        "\n",
        "pitcher_test.drop(columns = ['POS1', 'throws'], axis = 1, inplace = True)"
      ],
      "metadata": {
        "id": "4LZzPzZeyoJm"
      },
      "execution_count": 161,
      "outputs": []
    },
    {
      "cell_type": "code",
      "source": [
        "#pitchers train has two invalid entries which are causing issues. We will drop both rows\n",
        "pitcher_train.head(10)\n",
        "print(pitcher_train.at[8, ' HR9 '])\n",
        "\n",
        "pitcher_train = pitcher_train.drop(8)\n",
        "pitcher_train = pitcher_train.reset_index(drop = True)\n",
        "\n",
        "print(pitcher_train.at[31, ' GURU '])\n",
        "pitcher_train = pitcher_train.drop(31)\n",
        "pitcher_train = pitcher_train.reset_index(drop = True)"
      ],
      "metadata": {
        "id": "8e5BUj2Lypkb",
        "outputId": "acc48d5e-8a80-41c9-ddd6-fc5767faed36",
        "colab": {
          "base_uri": "https://localhost:8080/"
        }
      },
      "execution_count": 162,
      "outputs": [
        {
          "output_type": "stream",
          "name": "stdout",
          "text": [
            " -   \n",
            " 1,325 \n"
          ]
        }
      ]
    },
    {
      "cell_type": "code",
      "source": [
        "pitcher_train.head(3)"
      ],
      "metadata": {
        "id": "2Sl_FK8nyvV-",
        "outputId": "aa01ecc5-27f4-4eab-88fe-363277b02e2b",
        "colab": {
          "base_uri": "https://localhost:8080/",
          "height": 173
        }
      },
      "execution_count": 163,
      "outputs": [
        {
          "output_type": "execute_result",
          "data": {
            "text/plain": [
              "   age   W  L  CG  ShO  GP  GS  SV  GF  IPOuts  ...   DERA    STUFF    GURU   \\\n",
              "0   24  16  7   0    0  33  32   1   1     524  ...    4.73       11     38    \n",
              "1   33   6  5   0    0  73   0   2   7     199  ...    3.29      187     63    \n",
              "2   21  13  4   0    0  29  29   0   0     524  ...    3.43       62     91    \n",
              "\n",
              "     salary  WAR  Rookie contract  Reliever  Starter  throws_L  throws_R  \n",
              "0  0.491965  0.6                1         0        1         0         1  \n",
              "1  9.000000  1.3                0         1        0         0         1  \n",
              "2  0.411792  3.8                1         0        1         0         1  \n",
              "\n",
              "[3 rows x 42 columns]"
            ],
            "text/html": [
              "\n",
              "  <div id=\"df-db5a5cdf-86a2-4027-9a34-a0027f25f936\">\n",
              "    <div class=\"colab-df-container\">\n",
              "      <div>\n",
              "<style scoped>\n",
              "    .dataframe tbody tr th:only-of-type {\n",
              "        vertical-align: middle;\n",
              "    }\n",
              "\n",
              "    .dataframe tbody tr th {\n",
              "        vertical-align: top;\n",
              "    }\n",
              "\n",
              "    .dataframe thead th {\n",
              "        text-align: right;\n",
              "    }\n",
              "</style>\n",
              "<table border=\"1\" class=\"dataframe\">\n",
              "  <thead>\n",
              "    <tr style=\"text-align: right;\">\n",
              "      <th></th>\n",
              "      <th>age</th>\n",
              "      <th>W</th>\n",
              "      <th>L</th>\n",
              "      <th>CG</th>\n",
              "      <th>ShO</th>\n",
              "      <th>GP</th>\n",
              "      <th>GS</th>\n",
              "      <th>SV</th>\n",
              "      <th>GF</th>\n",
              "      <th>IPOuts</th>\n",
              "      <th>...</th>\n",
              "      <th>DERA</th>\n",
              "      <th>STUFF</th>\n",
              "      <th>GURU</th>\n",
              "      <th>salary</th>\n",
              "      <th>WAR</th>\n",
              "      <th>Rookie contract</th>\n",
              "      <th>Reliever</th>\n",
              "      <th>Starter</th>\n",
              "      <th>throws_L</th>\n",
              "      <th>throws_R</th>\n",
              "    </tr>\n",
              "  </thead>\n",
              "  <tbody>\n",
              "    <tr>\n",
              "      <th>0</th>\n",
              "      <td>24</td>\n",
              "      <td>16</td>\n",
              "      <td>7</td>\n",
              "      <td>0</td>\n",
              "      <td>0</td>\n",
              "      <td>33</td>\n",
              "      <td>32</td>\n",
              "      <td>1</td>\n",
              "      <td>1</td>\n",
              "      <td>524</td>\n",
              "      <td>...</td>\n",
              "      <td>4.73</td>\n",
              "      <td>11</td>\n",
              "      <td>38</td>\n",
              "      <td>0.491965</td>\n",
              "      <td>0.6</td>\n",
              "      <td>1</td>\n",
              "      <td>0</td>\n",
              "      <td>1</td>\n",
              "      <td>0</td>\n",
              "      <td>1</td>\n",
              "    </tr>\n",
              "    <tr>\n",
              "      <th>1</th>\n",
              "      <td>33</td>\n",
              "      <td>6</td>\n",
              "      <td>5</td>\n",
              "      <td>0</td>\n",
              "      <td>0</td>\n",
              "      <td>73</td>\n",
              "      <td>0</td>\n",
              "      <td>2</td>\n",
              "      <td>7</td>\n",
              "      <td>199</td>\n",
              "      <td>...</td>\n",
              "      <td>3.29</td>\n",
              "      <td>187</td>\n",
              "      <td>63</td>\n",
              "      <td>9.000000</td>\n",
              "      <td>1.3</td>\n",
              "      <td>0</td>\n",
              "      <td>1</td>\n",
              "      <td>0</td>\n",
              "      <td>0</td>\n",
              "      <td>1</td>\n",
              "    </tr>\n",
              "    <tr>\n",
              "      <th>2</th>\n",
              "      <td>21</td>\n",
              "      <td>13</td>\n",
              "      <td>4</td>\n",
              "      <td>0</td>\n",
              "      <td>0</td>\n",
              "      <td>29</td>\n",
              "      <td>29</td>\n",
              "      <td>0</td>\n",
              "      <td>0</td>\n",
              "      <td>524</td>\n",
              "      <td>...</td>\n",
              "      <td>3.43</td>\n",
              "      <td>62</td>\n",
              "      <td>91</td>\n",
              "      <td>0.411792</td>\n",
              "      <td>3.8</td>\n",
              "      <td>1</td>\n",
              "      <td>0</td>\n",
              "      <td>1</td>\n",
              "      <td>0</td>\n",
              "      <td>1</td>\n",
              "    </tr>\n",
              "  </tbody>\n",
              "</table>\n",
              "<p>3 rows × 42 columns</p>\n",
              "</div>\n",
              "      <button class=\"colab-df-convert\" onclick=\"convertToInteractive('df-db5a5cdf-86a2-4027-9a34-a0027f25f936')\"\n",
              "              title=\"Convert this dataframe to an interactive table.\"\n",
              "              style=\"display:none;\">\n",
              "        \n",
              "  <svg xmlns=\"http://www.w3.org/2000/svg\" height=\"24px\"viewBox=\"0 0 24 24\"\n",
              "       width=\"24px\">\n",
              "    <path d=\"M0 0h24v24H0V0z\" fill=\"none\"/>\n",
              "    <path d=\"M18.56 5.44l.94 2.06.94-2.06 2.06-.94-2.06-.94-.94-2.06-.94 2.06-2.06.94zm-11 1L8.5 8.5l.94-2.06 2.06-.94-2.06-.94L8.5 2.5l-.94 2.06-2.06.94zm10 10l.94 2.06.94-2.06 2.06-.94-2.06-.94-.94-2.06-.94 2.06-2.06.94z\"/><path d=\"M17.41 7.96l-1.37-1.37c-.4-.4-.92-.59-1.43-.59-.52 0-1.04.2-1.43.59L10.3 9.45l-7.72 7.72c-.78.78-.78 2.05 0 2.83L4 21.41c.39.39.9.59 1.41.59.51 0 1.02-.2 1.41-.59l7.78-7.78 2.81-2.81c.8-.78.8-2.07 0-2.86zM5.41 20L4 18.59l7.72-7.72 1.47 1.35L5.41 20z\"/>\n",
              "  </svg>\n",
              "      </button>\n",
              "      \n",
              "  <style>\n",
              "    .colab-df-container {\n",
              "      display:flex;\n",
              "      flex-wrap:wrap;\n",
              "      gap: 12px;\n",
              "    }\n",
              "\n",
              "    .colab-df-convert {\n",
              "      background-color: #E8F0FE;\n",
              "      border: none;\n",
              "      border-radius: 50%;\n",
              "      cursor: pointer;\n",
              "      display: none;\n",
              "      fill: #1967D2;\n",
              "      height: 32px;\n",
              "      padding: 0 0 0 0;\n",
              "      width: 32px;\n",
              "    }\n",
              "\n",
              "    .colab-df-convert:hover {\n",
              "      background-color: #E2EBFA;\n",
              "      box-shadow: 0px 1px 2px rgba(60, 64, 67, 0.3), 0px 1px 3px 1px rgba(60, 64, 67, 0.15);\n",
              "      fill: #174EA6;\n",
              "    }\n",
              "\n",
              "    [theme=dark] .colab-df-convert {\n",
              "      background-color: #3B4455;\n",
              "      fill: #D2E3FC;\n",
              "    }\n",
              "\n",
              "    [theme=dark] .colab-df-convert:hover {\n",
              "      background-color: #434B5C;\n",
              "      box-shadow: 0px 1px 3px 1px rgba(0, 0, 0, 0.15);\n",
              "      filter: drop-shadow(0px 1px 2px rgba(0, 0, 0, 0.3));\n",
              "      fill: #FFFFFF;\n",
              "    }\n",
              "  </style>\n",
              "\n",
              "      <script>\n",
              "        const buttonEl =\n",
              "          document.querySelector('#df-db5a5cdf-86a2-4027-9a34-a0027f25f936 button.colab-df-convert');\n",
              "        buttonEl.style.display =\n",
              "          google.colab.kernel.accessAllowed ? 'block' : 'none';\n",
              "\n",
              "        async function convertToInteractive(key) {\n",
              "          const element = document.querySelector('#df-db5a5cdf-86a2-4027-9a34-a0027f25f936');\n",
              "          const dataTable =\n",
              "            await google.colab.kernel.invokeFunction('convertToInteractive',\n",
              "                                                     [key], {});\n",
              "          if (!dataTable) return;\n",
              "\n",
              "          const docLinkHtml = 'Like what you see? Visit the ' +\n",
              "            '<a target=\"_blank\" href=https://colab.research.google.com/notebooks/data_table.ipynb>data table notebook</a>'\n",
              "            + ' to learn more about interactive tables.';\n",
              "          element.innerHTML = '';\n",
              "          dataTable['output_type'] = 'display_data';\n",
              "          await google.colab.output.renderOutput(dataTable, element);\n",
              "          const docLink = document.createElement('div');\n",
              "          docLink.innerHTML = docLinkHtml;\n",
              "          element.appendChild(docLink);\n",
              "        }\n",
              "      </script>\n",
              "    </div>\n",
              "  </div>\n",
              "  "
            ]
          },
          "metadata": {},
          "execution_count": 163
        }
      ]
    },
    {
      "cell_type": "code",
      "source": [
        "pitcher_test.head(3)"
      ],
      "metadata": {
        "id": "uE4Yk3znyw0r",
        "outputId": "97b58cfd-c225-4bc4-f127-4db38a179531",
        "colab": {
          "base_uri": "https://localhost:8080/",
          "height": 173
        }
      },
      "execution_count": 164,
      "outputs": [
        {
          "output_type": "execute_result",
          "data": {
            "text/plain": [
              "   age   W  L  CG  ShO  GP  GS  SV  GF  IPOuts  ...   DERA    STUFF    GURU   \\\n",
              "0   28   6  4   0    0  56   0   5  20     173  ...    3.60      123      44   \n",
              "1   24  14  4   2    0  30  30   0   0     547  ...    2.93      206     147   \n",
              "2   21   2  6   0    0  19  15   0   0     243  ...    6.27        6       9   \n",
              "\n",
              "     salary  WAR  Rookie contract  Reliever  Starter  throws_L  throws_R  \n",
              "0  0.390904  0.9                0         1        0         0         1  \n",
              "1  0.570000  5.0                1         0        1         0         1  \n",
              "2  0.265576 -0.6                1         1        0         1         0  \n",
              "\n",
              "[3 rows x 42 columns]"
            ],
            "text/html": [
              "\n",
              "  <div id=\"df-2ea91640-820b-433b-9b01-b385c0c6446d\">\n",
              "    <div class=\"colab-df-container\">\n",
              "      <div>\n",
              "<style scoped>\n",
              "    .dataframe tbody tr th:only-of-type {\n",
              "        vertical-align: middle;\n",
              "    }\n",
              "\n",
              "    .dataframe tbody tr th {\n",
              "        vertical-align: top;\n",
              "    }\n",
              "\n",
              "    .dataframe thead th {\n",
              "        text-align: right;\n",
              "    }\n",
              "</style>\n",
              "<table border=\"1\" class=\"dataframe\">\n",
              "  <thead>\n",
              "    <tr style=\"text-align: right;\">\n",
              "      <th></th>\n",
              "      <th>age</th>\n",
              "      <th>W</th>\n",
              "      <th>L</th>\n",
              "      <th>CG</th>\n",
              "      <th>ShO</th>\n",
              "      <th>GP</th>\n",
              "      <th>GS</th>\n",
              "      <th>SV</th>\n",
              "      <th>GF</th>\n",
              "      <th>IPOuts</th>\n",
              "      <th>...</th>\n",
              "      <th>DERA</th>\n",
              "      <th>STUFF</th>\n",
              "      <th>GURU</th>\n",
              "      <th>salary</th>\n",
              "      <th>WAR</th>\n",
              "      <th>Rookie contract</th>\n",
              "      <th>Reliever</th>\n",
              "      <th>Starter</th>\n",
              "      <th>throws_L</th>\n",
              "      <th>throws_R</th>\n",
              "    </tr>\n",
              "  </thead>\n",
              "  <tbody>\n",
              "    <tr>\n",
              "      <th>0</th>\n",
              "      <td>28</td>\n",
              "      <td>6</td>\n",
              "      <td>4</td>\n",
              "      <td>0</td>\n",
              "      <td>0</td>\n",
              "      <td>56</td>\n",
              "      <td>0</td>\n",
              "      <td>5</td>\n",
              "      <td>20</td>\n",
              "      <td>173</td>\n",
              "      <td>...</td>\n",
              "      <td>3.60</td>\n",
              "      <td>123</td>\n",
              "      <td>44</td>\n",
              "      <td>0.390904</td>\n",
              "      <td>0.9</td>\n",
              "      <td>0</td>\n",
              "      <td>1</td>\n",
              "      <td>0</td>\n",
              "      <td>0</td>\n",
              "      <td>1</td>\n",
              "    </tr>\n",
              "    <tr>\n",
              "      <th>1</th>\n",
              "      <td>24</td>\n",
              "      <td>14</td>\n",
              "      <td>4</td>\n",
              "      <td>2</td>\n",
              "      <td>0</td>\n",
              "      <td>30</td>\n",
              "      <td>30</td>\n",
              "      <td>0</td>\n",
              "      <td>0</td>\n",
              "      <td>547</td>\n",
              "      <td>...</td>\n",
              "      <td>2.93</td>\n",
              "      <td>206</td>\n",
              "      <td>147</td>\n",
              "      <td>0.570000</td>\n",
              "      <td>5.0</td>\n",
              "      <td>1</td>\n",
              "      <td>0</td>\n",
              "      <td>1</td>\n",
              "      <td>0</td>\n",
              "      <td>1</td>\n",
              "    </tr>\n",
              "    <tr>\n",
              "      <th>2</th>\n",
              "      <td>21</td>\n",
              "      <td>2</td>\n",
              "      <td>6</td>\n",
              "      <td>0</td>\n",
              "      <td>0</td>\n",
              "      <td>19</td>\n",
              "      <td>15</td>\n",
              "      <td>0</td>\n",
              "      <td>0</td>\n",
              "      <td>243</td>\n",
              "      <td>...</td>\n",
              "      <td>6.27</td>\n",
              "      <td>6</td>\n",
              "      <td>9</td>\n",
              "      <td>0.265576</td>\n",
              "      <td>-0.6</td>\n",
              "      <td>1</td>\n",
              "      <td>1</td>\n",
              "      <td>0</td>\n",
              "      <td>1</td>\n",
              "      <td>0</td>\n",
              "    </tr>\n",
              "  </tbody>\n",
              "</table>\n",
              "<p>3 rows × 42 columns</p>\n",
              "</div>\n",
              "      <button class=\"colab-df-convert\" onclick=\"convertToInteractive('df-2ea91640-820b-433b-9b01-b385c0c6446d')\"\n",
              "              title=\"Convert this dataframe to an interactive table.\"\n",
              "              style=\"display:none;\">\n",
              "        \n",
              "  <svg xmlns=\"http://www.w3.org/2000/svg\" height=\"24px\"viewBox=\"0 0 24 24\"\n",
              "       width=\"24px\">\n",
              "    <path d=\"M0 0h24v24H0V0z\" fill=\"none\"/>\n",
              "    <path d=\"M18.56 5.44l.94 2.06.94-2.06 2.06-.94-2.06-.94-.94-2.06-.94 2.06-2.06.94zm-11 1L8.5 8.5l.94-2.06 2.06-.94-2.06-.94L8.5 2.5l-.94 2.06-2.06.94zm10 10l.94 2.06.94-2.06 2.06-.94-2.06-.94-.94-2.06-.94 2.06-2.06.94z\"/><path d=\"M17.41 7.96l-1.37-1.37c-.4-.4-.92-.59-1.43-.59-.52 0-1.04.2-1.43.59L10.3 9.45l-7.72 7.72c-.78.78-.78 2.05 0 2.83L4 21.41c.39.39.9.59 1.41.59.51 0 1.02-.2 1.41-.59l7.78-7.78 2.81-2.81c.8-.78.8-2.07 0-2.86zM5.41 20L4 18.59l7.72-7.72 1.47 1.35L5.41 20z\"/>\n",
              "  </svg>\n",
              "      </button>\n",
              "      \n",
              "  <style>\n",
              "    .colab-df-container {\n",
              "      display:flex;\n",
              "      flex-wrap:wrap;\n",
              "      gap: 12px;\n",
              "    }\n",
              "\n",
              "    .colab-df-convert {\n",
              "      background-color: #E8F0FE;\n",
              "      border: none;\n",
              "      border-radius: 50%;\n",
              "      cursor: pointer;\n",
              "      display: none;\n",
              "      fill: #1967D2;\n",
              "      height: 32px;\n",
              "      padding: 0 0 0 0;\n",
              "      width: 32px;\n",
              "    }\n",
              "\n",
              "    .colab-df-convert:hover {\n",
              "      background-color: #E2EBFA;\n",
              "      box-shadow: 0px 1px 2px rgba(60, 64, 67, 0.3), 0px 1px 3px 1px rgba(60, 64, 67, 0.15);\n",
              "      fill: #174EA6;\n",
              "    }\n",
              "\n",
              "    [theme=dark] .colab-df-convert {\n",
              "      background-color: #3B4455;\n",
              "      fill: #D2E3FC;\n",
              "    }\n",
              "\n",
              "    [theme=dark] .colab-df-convert:hover {\n",
              "      background-color: #434B5C;\n",
              "      box-shadow: 0px 1px 3px 1px rgba(0, 0, 0, 0.15);\n",
              "      filter: drop-shadow(0px 1px 2px rgba(0, 0, 0, 0.3));\n",
              "      fill: #FFFFFF;\n",
              "    }\n",
              "  </style>\n",
              "\n",
              "      <script>\n",
              "        const buttonEl =\n",
              "          document.querySelector('#df-2ea91640-820b-433b-9b01-b385c0c6446d button.colab-df-convert');\n",
              "        buttonEl.style.display =\n",
              "          google.colab.kernel.accessAllowed ? 'block' : 'none';\n",
              "\n",
              "        async function convertToInteractive(key) {\n",
              "          const element = document.querySelector('#df-2ea91640-820b-433b-9b01-b385c0c6446d');\n",
              "          const dataTable =\n",
              "            await google.colab.kernel.invokeFunction('convertToInteractive',\n",
              "                                                     [key], {});\n",
              "          if (!dataTable) return;\n",
              "\n",
              "          const docLinkHtml = 'Like what you see? Visit the ' +\n",
              "            '<a target=\"_blank\" href=https://colab.research.google.com/notebooks/data_table.ipynb>data table notebook</a>'\n",
              "            + ' to learn more about interactive tables.';\n",
              "          element.innerHTML = '';\n",
              "          dataTable['output_type'] = 'display_data';\n",
              "          await google.colab.output.renderOutput(dataTable, element);\n",
              "          const docLink = document.createElement('div');\n",
              "          docLink.innerHTML = docLinkHtml;\n",
              "          element.appendChild(docLink);\n",
              "        }\n",
              "      </script>\n",
              "    </div>\n",
              "  </div>\n",
              "  "
            ]
          },
          "metadata": {},
          "execution_count": 164
        }
      ]
    },
    {
      "cell_type": "markdown",
      "source": [
        "# Normalize input features using min-max normalization"
      ],
      "metadata": {
        "id": "S_ONOdkByziK"
      }
    },
    {
      "cell_type": "code",
      "source": [
        "from sklearn.preprocessing import MinMaxScaler\n",
        "scaler = MinMaxScaler()"
      ],
      "metadata": {
        "id": "Y4tByZQ6y1C4"
      },
      "execution_count": 165,
      "outputs": []
    },
    {
      "cell_type": "code",
      "source": [
        "train_target = pitcher_train['salary']\n",
        "\n",
        "train_features = pitcher_train.drop(columns = ['salary'])\n",
        "col = train_features.columns\n",
        "train_features = scaler.fit_transform(train_features)\n",
        "train_features = pd.DataFrame(data=train_features, columns=col)"
      ],
      "metadata": {
        "id": "4xBi0PL7y2pr"
      },
      "execution_count": 166,
      "outputs": []
    },
    {
      "cell_type": "code",
      "source": [
        "test_target = pitcher_test['salary']\n",
        "\n",
        "test_features = pitcher_test.drop(columns = ['salary'])\n",
        "test_features = scaler.fit_transform(test_features)\n",
        "test_features = pd.DataFrame(data=test_features, columns=col)"
      ],
      "metadata": {
        "id": "PRYtx9i2y36w"
      },
      "execution_count": 167,
      "outputs": []
    },
    {
      "cell_type": "markdown",
      "source": [
        "# Use the best features we found when experimenting in the Pitcher_Regressions.ipynb file"
      ],
      "metadata": {
        "id": "y7f5U9w6djlP"
      }
    },
    {
      "cell_type": "code",
      "source": [
        "#optimal features I found:\n",
        "\n",
        "train_selected_X = train_features[['age', 'HRA', ' GURU ', 'Starter', 'BFP', 'IPOuts']] \n",
        "train_y = train_target\n",
        "\n",
        "test_selected_X = test_features[['age', 'HRA', ' GURU ', 'Starter', 'BFP','IPOuts']]\n",
        "test_y = test_target"
      ],
      "metadata": {
        "id": "DhOI6VjOffNS"
      },
      "execution_count": 168,
      "outputs": []
    },
    {
      "cell_type": "code",
      "source": [
        "print('Train Features:')\n",
        "print('train_selected_X dimensions: ', train_selected_X.shape)\n",
        "print('train_y dimensions:', train_y.shape, '\\n')\n",
        "\n",
        "print('Test Features:')\n",
        "print('test_data_X dimensions: ', test_selected_X.shape)\n",
        "print('test_data_y dimensions:', test_y.shape, '\\n')"
      ],
      "metadata": {
        "colab": {
          "base_uri": "https://localhost:8080/"
        },
        "id": "ZHMTbm25foJW",
        "outputId": "1a02536d-81ff-457f-eef1-b6ff83b637b8"
      },
      "execution_count": 169,
      "outputs": [
        {
          "output_type": "stream",
          "name": "stdout",
          "text": [
            "Train Features:\n",
            "train_selected_X dimensions:  (298, 6)\n",
            "train_y dimensions: (298,) \n",
            "\n",
            "Test Features:\n",
            "test_data_X dimensions:  (75, 6)\n",
            "test_data_y dimensions: (75,) \n",
            "\n"
          ]
        }
      ]
    },
    {
      "cell_type": "markdown",
      "source": [
        "# Multivariate Linear Regression\n",
        "Features Used: age, HRA (home run average), GURU, Starter, BFP (Batters faced by pitchers), IPOuts (outs pitched)"
      ],
      "metadata": {
        "id": "IdBhsXed5Kzw"
      }
    },
    {
      "cell_type": "code",
      "source": [
        "multivariate_regression = linear_model.LinearRegression()\n",
        "multivariate_regression.fit(train_selected_X, train_y)"
      ],
      "metadata": {
        "colab": {
          "base_uri": "https://localhost:8080/"
        },
        "id": "5yaTkcby5QuI",
        "outputId": "39411140-3b45-4253-86ed-21aeddc36866"
      },
      "execution_count": 170,
      "outputs": [
        {
          "output_type": "execute_result",
          "data": {
            "text/plain": [
              "LinearRegression()"
            ]
          },
          "metadata": {},
          "execution_count": 170
        }
      ]
    },
    {
      "cell_type": "markdown",
      "source": [
        "# Beta values (coefficients) and intercept for our multivariate linear regression:\n"
      ],
      "metadata": {
        "id": "Jf822bt25VL9"
      }
    },
    {
      "cell_type": "code",
      "source": [
        "multivariate_regression.coef_"
      ],
      "metadata": {
        "colab": {
          "base_uri": "https://localhost:8080/"
        },
        "id": "5je8IMNV5jXo",
        "outputId": "abf785fe-73ee-4d08-8d60-2f74d4a6cd47"
      },
      "execution_count": 171,
      "outputs": [
        {
          "output_type": "execute_result",
          "data": {
            "text/plain": [
              "array([ 12.13146549,   3.22829229,   8.49811282,   3.58536602,\n",
              "        12.1979896 , -13.88932942])"
            ]
          },
          "metadata": {},
          "execution_count": 171
        }
      ]
    },
    {
      "cell_type": "code",
      "source": [
        "y_pred = multivariate_regression.predict(test_selected_X)"
      ],
      "metadata": {
        "id": "0vrUvJxC5lqy"
      },
      "execution_count": 172,
      "outputs": []
    },
    {
      "cell_type": "code",
      "source": [
        "print('Mean Squared Error: ', mean_squared_error(test_y, y_pred), '\\n')\n",
        "print('Mean Absolute Error: ', mean_absolute_error(test_y, y_pred), '\\n')\n",
        "print('Root Mean Squared Error: ', np.sqrt(mean_squared_error(test_y, y_pred)))"
      ],
      "metadata": {
        "colab": {
          "base_uri": "https://localhost:8080/"
        },
        "id": "MfPWfvb95nxG",
        "outputId": "4c803655-f586-4a9e-c10c-c07792e6232b"
      },
      "execution_count": 173,
      "outputs": [
        {
          "output_type": "stream",
          "name": "stdout",
          "text": [
            "Mean Squared Error:  22.794146806162665 \n",
            "\n",
            "Mean Absolute Error:  2.9077081381337027 \n",
            "\n",
            "Root Mean Squared Error:  4.774321606905286\n"
          ]
        }
      ]
    },
    {
      "cell_type": "markdown",
      "source": [
        "# Ridge Regression\n",
        "Features Used: age, games, runs batted in, hits, grounded into double play, pro, rookie contract, and ops"
      ],
      "metadata": {
        "id": "pBGIDOsnncYP"
      }
    },
    {
      "cell_type": "code",
      "source": [
        "from sklearn.model_selection import GridSearchCV"
      ],
      "metadata": {
        "id": "yXVmvDw33c5q"
      },
      "execution_count": 174,
      "outputs": []
    },
    {
      "cell_type": "code",
      "source": [
        "ridge_search = GridSearchCV(Ridge(), {\n",
        "    'alpha': [0.025,0.05, 0.075,0.1, 0.125,0.15,0.2, 0.25,0.5,0.75,1.0,1.25,1.5,1.75,2.0, 2.25,2.5,2.75,\n",
        "              3.0,3.25,3.5,3.75,4,4.25,4.5,4.75,5,5.25,5.5,5.75,6,6.25,6.5,\n",
        "              6.75,7,7.25,7.5,7.75,8]\n",
        "}, cv = 5, scoring = 'neg_mean_absolute_error', return_train_score = False)\n",
        "ridge_search.fit(train_selected_X, train_y)\n",
        "pd.DataFrame(ridge_search.cv_results_)[['param_alpha', 'params', 'mean_test_score','rank_test_score']].sort_values(by = ['rank_test_score'])[0:5]"
      ],
      "metadata": {
        "colab": {
          "base_uri": "https://localhost:8080/",
          "height": 206
        },
        "id": "q60kePJCHTMa",
        "outputId": "0cf58ad2-7230-4800-9b88-ae39915eb8cf"
      },
      "execution_count": 175,
      "outputs": [
        {
          "output_type": "execute_result",
          "data": {
            "text/plain": [
              "   param_alpha           params  mean_test_score  rank_test_score\n",
              "22           4     {'alpha': 4}        -2.788730                1\n",
              "21        3.75  {'alpha': 3.75}        -2.788920                2\n",
              "23        4.25  {'alpha': 4.25}        -2.788965                3\n",
              "24         4.5   {'alpha': 4.5}        -2.789406                4\n",
              "20         3.5   {'alpha': 3.5}        -2.789937                5"
            ],
            "text/html": [
              "\n",
              "  <div id=\"df-7408253f-cffc-4c67-8ff0-f4390bd9b54a\">\n",
              "    <div class=\"colab-df-container\">\n",
              "      <div>\n",
              "<style scoped>\n",
              "    .dataframe tbody tr th:only-of-type {\n",
              "        vertical-align: middle;\n",
              "    }\n",
              "\n",
              "    .dataframe tbody tr th {\n",
              "        vertical-align: top;\n",
              "    }\n",
              "\n",
              "    .dataframe thead th {\n",
              "        text-align: right;\n",
              "    }\n",
              "</style>\n",
              "<table border=\"1\" class=\"dataframe\">\n",
              "  <thead>\n",
              "    <tr style=\"text-align: right;\">\n",
              "      <th></th>\n",
              "      <th>param_alpha</th>\n",
              "      <th>params</th>\n",
              "      <th>mean_test_score</th>\n",
              "      <th>rank_test_score</th>\n",
              "    </tr>\n",
              "  </thead>\n",
              "  <tbody>\n",
              "    <tr>\n",
              "      <th>22</th>\n",
              "      <td>4</td>\n",
              "      <td>{'alpha': 4}</td>\n",
              "      <td>-2.788730</td>\n",
              "      <td>1</td>\n",
              "    </tr>\n",
              "    <tr>\n",
              "      <th>21</th>\n",
              "      <td>3.75</td>\n",
              "      <td>{'alpha': 3.75}</td>\n",
              "      <td>-2.788920</td>\n",
              "      <td>2</td>\n",
              "    </tr>\n",
              "    <tr>\n",
              "      <th>23</th>\n",
              "      <td>4.25</td>\n",
              "      <td>{'alpha': 4.25}</td>\n",
              "      <td>-2.788965</td>\n",
              "      <td>3</td>\n",
              "    </tr>\n",
              "    <tr>\n",
              "      <th>24</th>\n",
              "      <td>4.5</td>\n",
              "      <td>{'alpha': 4.5}</td>\n",
              "      <td>-2.789406</td>\n",
              "      <td>4</td>\n",
              "    </tr>\n",
              "    <tr>\n",
              "      <th>20</th>\n",
              "      <td>3.5</td>\n",
              "      <td>{'alpha': 3.5}</td>\n",
              "      <td>-2.789937</td>\n",
              "      <td>5</td>\n",
              "    </tr>\n",
              "  </tbody>\n",
              "</table>\n",
              "</div>\n",
              "      <button class=\"colab-df-convert\" onclick=\"convertToInteractive('df-7408253f-cffc-4c67-8ff0-f4390bd9b54a')\"\n",
              "              title=\"Convert this dataframe to an interactive table.\"\n",
              "              style=\"display:none;\">\n",
              "        \n",
              "  <svg xmlns=\"http://www.w3.org/2000/svg\" height=\"24px\"viewBox=\"0 0 24 24\"\n",
              "       width=\"24px\">\n",
              "    <path d=\"M0 0h24v24H0V0z\" fill=\"none\"/>\n",
              "    <path d=\"M18.56 5.44l.94 2.06.94-2.06 2.06-.94-2.06-.94-.94-2.06-.94 2.06-2.06.94zm-11 1L8.5 8.5l.94-2.06 2.06-.94-2.06-.94L8.5 2.5l-.94 2.06-2.06.94zm10 10l.94 2.06.94-2.06 2.06-.94-2.06-.94-.94-2.06-.94 2.06-2.06.94z\"/><path d=\"M17.41 7.96l-1.37-1.37c-.4-.4-.92-.59-1.43-.59-.52 0-1.04.2-1.43.59L10.3 9.45l-7.72 7.72c-.78.78-.78 2.05 0 2.83L4 21.41c.39.39.9.59 1.41.59.51 0 1.02-.2 1.41-.59l7.78-7.78 2.81-2.81c.8-.78.8-2.07 0-2.86zM5.41 20L4 18.59l7.72-7.72 1.47 1.35L5.41 20z\"/>\n",
              "  </svg>\n",
              "      </button>\n",
              "      \n",
              "  <style>\n",
              "    .colab-df-container {\n",
              "      display:flex;\n",
              "      flex-wrap:wrap;\n",
              "      gap: 12px;\n",
              "    }\n",
              "\n",
              "    .colab-df-convert {\n",
              "      background-color: #E8F0FE;\n",
              "      border: none;\n",
              "      border-radius: 50%;\n",
              "      cursor: pointer;\n",
              "      display: none;\n",
              "      fill: #1967D2;\n",
              "      height: 32px;\n",
              "      padding: 0 0 0 0;\n",
              "      width: 32px;\n",
              "    }\n",
              "\n",
              "    .colab-df-convert:hover {\n",
              "      background-color: #E2EBFA;\n",
              "      box-shadow: 0px 1px 2px rgba(60, 64, 67, 0.3), 0px 1px 3px 1px rgba(60, 64, 67, 0.15);\n",
              "      fill: #174EA6;\n",
              "    }\n",
              "\n",
              "    [theme=dark] .colab-df-convert {\n",
              "      background-color: #3B4455;\n",
              "      fill: #D2E3FC;\n",
              "    }\n",
              "\n",
              "    [theme=dark] .colab-df-convert:hover {\n",
              "      background-color: #434B5C;\n",
              "      box-shadow: 0px 1px 3px 1px rgba(0, 0, 0, 0.15);\n",
              "      filter: drop-shadow(0px 1px 2px rgba(0, 0, 0, 0.3));\n",
              "      fill: #FFFFFF;\n",
              "    }\n",
              "  </style>\n",
              "\n",
              "      <script>\n",
              "        const buttonEl =\n",
              "          document.querySelector('#df-7408253f-cffc-4c67-8ff0-f4390bd9b54a button.colab-df-convert');\n",
              "        buttonEl.style.display =\n",
              "          google.colab.kernel.accessAllowed ? 'block' : 'none';\n",
              "\n",
              "        async function convertToInteractive(key) {\n",
              "          const element = document.querySelector('#df-7408253f-cffc-4c67-8ff0-f4390bd9b54a');\n",
              "          const dataTable =\n",
              "            await google.colab.kernel.invokeFunction('convertToInteractive',\n",
              "                                                     [key], {});\n",
              "          if (!dataTable) return;\n",
              "\n",
              "          const docLinkHtml = 'Like what you see? Visit the ' +\n",
              "            '<a target=\"_blank\" href=https://colab.research.google.com/notebooks/data_table.ipynb>data table notebook</a>'\n",
              "            + ' to learn more about interactive tables.';\n",
              "          element.innerHTML = '';\n",
              "          dataTable['output_type'] = 'display_data';\n",
              "          await google.colab.output.renderOutput(dataTable, element);\n",
              "          const docLink = document.createElement('div');\n",
              "          docLink.innerHTML = docLinkHtml;\n",
              "          element.appendChild(docLink);\n",
              "        }\n",
              "      </script>\n",
              "    </div>\n",
              "  </div>\n",
              "  "
            ]
          },
          "metadata": {},
          "execution_count": 175
        }
      ]
    },
    {
      "cell_type": "code",
      "source": [
        "#optimal alpha value for a ridge regression to predict salary for position players\n",
        "ridge_search.best_params_"
      ],
      "metadata": {
        "colab": {
          "base_uri": "https://localhost:8080/"
        },
        "id": "_QSJht3JPyiO",
        "outputId": "8839ddb8-a542-429d-9649-c622f8d13b54"
      },
      "execution_count": 176,
      "outputs": [
        {
          "output_type": "execute_result",
          "data": {
            "text/plain": [
              "{'alpha': 4}"
            ]
          },
          "metadata": {},
          "execution_count": 176
        }
      ]
    },
    {
      "cell_type": "markdown",
      "source": [
        "# Reproducing the model with hypertuned parameters"
      ],
      "metadata": {
        "id": "PrYc1rFeP2ME"
      }
    },
    {
      "cell_type": "code",
      "source": [
        "ridge_regression = Ridge(alpha = 4.0)\n",
        "ridge_regression.fit(train_selected_X, train_y)"
      ],
      "metadata": {
        "colab": {
          "base_uri": "https://localhost:8080/"
        },
        "id": "R03a-NMxKtI1",
        "outputId": "d52bd5bb-bae7-4ace-f78a-ac0d35b499ea"
      },
      "execution_count": 177,
      "outputs": [
        {
          "output_type": "execute_result",
          "data": {
            "text/plain": [
              "Ridge(alpha=4.0)"
            ]
          },
          "metadata": {},
          "execution_count": 177
        }
      ]
    },
    {
      "cell_type": "code",
      "source": [
        "ridge_regression.coef_"
      ],
      "metadata": {
        "colab": {
          "base_uri": "https://localhost:8080/"
        },
        "id": "Vyc9cbX4nqQN",
        "outputId": "ef6f21fb-3564-4adc-b2a7-4acaf380d254"
      },
      "execution_count": 178,
      "outputs": [
        {
          "output_type": "execute_result",
          "data": {
            "text/plain": [
              "array([8.78734171, 1.00332381, 2.03045098, 2.99296014, 0.79317293,\n",
              "       0.8673204 ])"
            ]
          },
          "metadata": {},
          "execution_count": 178
        }
      ]
    },
    {
      "cell_type": "code",
      "source": [
        "y_predicted_ridge = ridge_regression.predict(test_selected_X)"
      ],
      "metadata": {
        "id": "VEgVL6C0MEhV"
      },
      "execution_count": 179,
      "outputs": []
    },
    {
      "cell_type": "code",
      "source": [
        "print('Mean Squared Error: ', mean_squared_error(test_y, y_predicted_ridge), '\\n')\n",
        "print('Mean Absolute Error: ', mean_absolute_error(test_y, y_predicted_ridge), '\\n')\n",
        "print('Root Mean Squared Error: ', np.sqrt(mean_squared_error(test_y, y_predicted_ridge)))"
      ],
      "metadata": {
        "colab": {
          "base_uri": "https://localhost:8080/"
        },
        "id": "rvSf_oX9n0Ti",
        "outputId": "6a91a58b-449a-4d33-a298-0701e4928d2f"
      },
      "execution_count": 180,
      "outputs": [
        {
          "output_type": "stream",
          "name": "stdout",
          "text": [
            "Mean Squared Error:  26.505084078348478 \n",
            "\n",
            "Mean Absolute Error:  3.014859689171686 \n",
            "\n",
            "Root Mean Squared Error:  5.148308856153492\n"
          ]
        }
      ]
    },
    {
      "cell_type": "markdown",
      "source": [
        "# Decision Tree Regressor -Use GridSearch CV to find the best max_depth and max_features\n",
        "Features Used: age, games, total plate appearances, hits, grounded into double play, pro, rookie contract, ops, and runs batted in\n",
        "\n",
        "\n"
      ],
      "metadata": {
        "id": "IXiGrgRP-RaG"
      }
    },
    {
      "cell_type": "code",
      "source": [
        "from sklearn.tree import DecisionTreeRegressor"
      ],
      "metadata": {
        "id": "tq1Da66iLEHR"
      },
      "execution_count": 181,
      "outputs": []
    },
    {
      "cell_type": "code",
      "source": [
        "dt_regressor = DecisionTreeRegressor()"
      ],
      "metadata": {
        "id": "0ozhE13GMgIt"
      },
      "execution_count": 182,
      "outputs": []
    },
    {
      "cell_type": "code",
      "source": [
        "dt_search = GridSearchCV(dt_regressor, {\n",
        "    #grid search two parameters for decision tree regressor\n",
        "    'max_depth': [1,2,3,4,5,6,7],\n",
        "    'max_features': [None,'sqrt','auto','log2']\n",
        "}, cv = 5, scoring = 'neg_mean_absolute_error', return_train_score = False)\n",
        "dt_search.fit(train_selected_X, train_y)\n",
        "pd.DataFrame(dt_search.cv_results_)[['param_max_depth', 'params', 'mean_test_score', 'rank_test_score']].sort_values(by = ['rank_test_score'])[0:5]"
      ],
      "metadata": {
        "colab": {
          "base_uri": "https://localhost:8080/",
          "height": 206
        },
        "id": "NVsclU7yLKBx",
        "outputId": "6a1f0efb-0c94-416e-965c-3dec73ce732b"
      },
      "execution_count": 183,
      "outputs": [
        {
          "output_type": "execute_result",
          "data": {
            "text/plain": [
              "   param_max_depth                                    params  mean_test_score  \\\n",
              "27               7  {'max_depth': 7, 'max_features': 'log2'}        -2.866646   \n",
              "23               6  {'max_depth': 6, 'max_features': 'log2'}        -2.923478   \n",
              "9                3  {'max_depth': 3, 'max_features': 'sqrt'}        -2.957806   \n",
              "8                3    {'max_depth': 3, 'max_features': None}        -2.977150   \n",
              "4                2    {'max_depth': 2, 'max_features': None}        -2.989423   \n",
              "\n",
              "    rank_test_score  \n",
              "27                1  \n",
              "23                2  \n",
              "9                 3  \n",
              "8                 4  \n",
              "4                 5  "
            ],
            "text/html": [
              "\n",
              "  <div id=\"df-5106d21d-d1e5-4d11-8ffa-db5e9224a5eb\">\n",
              "    <div class=\"colab-df-container\">\n",
              "      <div>\n",
              "<style scoped>\n",
              "    .dataframe tbody tr th:only-of-type {\n",
              "        vertical-align: middle;\n",
              "    }\n",
              "\n",
              "    .dataframe tbody tr th {\n",
              "        vertical-align: top;\n",
              "    }\n",
              "\n",
              "    .dataframe thead th {\n",
              "        text-align: right;\n",
              "    }\n",
              "</style>\n",
              "<table border=\"1\" class=\"dataframe\">\n",
              "  <thead>\n",
              "    <tr style=\"text-align: right;\">\n",
              "      <th></th>\n",
              "      <th>param_max_depth</th>\n",
              "      <th>params</th>\n",
              "      <th>mean_test_score</th>\n",
              "      <th>rank_test_score</th>\n",
              "    </tr>\n",
              "  </thead>\n",
              "  <tbody>\n",
              "    <tr>\n",
              "      <th>27</th>\n",
              "      <td>7</td>\n",
              "      <td>{'max_depth': 7, 'max_features': 'log2'}</td>\n",
              "      <td>-2.866646</td>\n",
              "      <td>1</td>\n",
              "    </tr>\n",
              "    <tr>\n",
              "      <th>23</th>\n",
              "      <td>6</td>\n",
              "      <td>{'max_depth': 6, 'max_features': 'log2'}</td>\n",
              "      <td>-2.923478</td>\n",
              "      <td>2</td>\n",
              "    </tr>\n",
              "    <tr>\n",
              "      <th>9</th>\n",
              "      <td>3</td>\n",
              "      <td>{'max_depth': 3, 'max_features': 'sqrt'}</td>\n",
              "      <td>-2.957806</td>\n",
              "      <td>3</td>\n",
              "    </tr>\n",
              "    <tr>\n",
              "      <th>8</th>\n",
              "      <td>3</td>\n",
              "      <td>{'max_depth': 3, 'max_features': None}</td>\n",
              "      <td>-2.977150</td>\n",
              "      <td>4</td>\n",
              "    </tr>\n",
              "    <tr>\n",
              "      <th>4</th>\n",
              "      <td>2</td>\n",
              "      <td>{'max_depth': 2, 'max_features': None}</td>\n",
              "      <td>-2.989423</td>\n",
              "      <td>5</td>\n",
              "    </tr>\n",
              "  </tbody>\n",
              "</table>\n",
              "</div>\n",
              "      <button class=\"colab-df-convert\" onclick=\"convertToInteractive('df-5106d21d-d1e5-4d11-8ffa-db5e9224a5eb')\"\n",
              "              title=\"Convert this dataframe to an interactive table.\"\n",
              "              style=\"display:none;\">\n",
              "        \n",
              "  <svg xmlns=\"http://www.w3.org/2000/svg\" height=\"24px\"viewBox=\"0 0 24 24\"\n",
              "       width=\"24px\">\n",
              "    <path d=\"M0 0h24v24H0V0z\" fill=\"none\"/>\n",
              "    <path d=\"M18.56 5.44l.94 2.06.94-2.06 2.06-.94-2.06-.94-.94-2.06-.94 2.06-2.06.94zm-11 1L8.5 8.5l.94-2.06 2.06-.94-2.06-.94L8.5 2.5l-.94 2.06-2.06.94zm10 10l.94 2.06.94-2.06 2.06-.94-2.06-.94-.94-2.06-.94 2.06-2.06.94z\"/><path d=\"M17.41 7.96l-1.37-1.37c-.4-.4-.92-.59-1.43-.59-.52 0-1.04.2-1.43.59L10.3 9.45l-7.72 7.72c-.78.78-.78 2.05 0 2.83L4 21.41c.39.39.9.59 1.41.59.51 0 1.02-.2 1.41-.59l7.78-7.78 2.81-2.81c.8-.78.8-2.07 0-2.86zM5.41 20L4 18.59l7.72-7.72 1.47 1.35L5.41 20z\"/>\n",
              "  </svg>\n",
              "      </button>\n",
              "      \n",
              "  <style>\n",
              "    .colab-df-container {\n",
              "      display:flex;\n",
              "      flex-wrap:wrap;\n",
              "      gap: 12px;\n",
              "    }\n",
              "\n",
              "    .colab-df-convert {\n",
              "      background-color: #E8F0FE;\n",
              "      border: none;\n",
              "      border-radius: 50%;\n",
              "      cursor: pointer;\n",
              "      display: none;\n",
              "      fill: #1967D2;\n",
              "      height: 32px;\n",
              "      padding: 0 0 0 0;\n",
              "      width: 32px;\n",
              "    }\n",
              "\n",
              "    .colab-df-convert:hover {\n",
              "      background-color: #E2EBFA;\n",
              "      box-shadow: 0px 1px 2px rgba(60, 64, 67, 0.3), 0px 1px 3px 1px rgba(60, 64, 67, 0.15);\n",
              "      fill: #174EA6;\n",
              "    }\n",
              "\n",
              "    [theme=dark] .colab-df-convert {\n",
              "      background-color: #3B4455;\n",
              "      fill: #D2E3FC;\n",
              "    }\n",
              "\n",
              "    [theme=dark] .colab-df-convert:hover {\n",
              "      background-color: #434B5C;\n",
              "      box-shadow: 0px 1px 3px 1px rgba(0, 0, 0, 0.15);\n",
              "      filter: drop-shadow(0px 1px 2px rgba(0, 0, 0, 0.3));\n",
              "      fill: #FFFFFF;\n",
              "    }\n",
              "  </style>\n",
              "\n",
              "      <script>\n",
              "        const buttonEl =\n",
              "          document.querySelector('#df-5106d21d-d1e5-4d11-8ffa-db5e9224a5eb button.colab-df-convert');\n",
              "        buttonEl.style.display =\n",
              "          google.colab.kernel.accessAllowed ? 'block' : 'none';\n",
              "\n",
              "        async function convertToInteractive(key) {\n",
              "          const element = document.querySelector('#df-5106d21d-d1e5-4d11-8ffa-db5e9224a5eb');\n",
              "          const dataTable =\n",
              "            await google.colab.kernel.invokeFunction('convertToInteractive',\n",
              "                                                     [key], {});\n",
              "          if (!dataTable) return;\n",
              "\n",
              "          const docLinkHtml = 'Like what you see? Visit the ' +\n",
              "            '<a target=\"_blank\" href=https://colab.research.google.com/notebooks/data_table.ipynb>data table notebook</a>'\n",
              "            + ' to learn more about interactive tables.';\n",
              "          element.innerHTML = '';\n",
              "          dataTable['output_type'] = 'display_data';\n",
              "          await google.colab.output.renderOutput(dataTable, element);\n",
              "          const docLink = document.createElement('div');\n",
              "          docLink.innerHTML = docLinkHtml;\n",
              "          element.appendChild(docLink);\n",
              "        }\n",
              "      </script>\n",
              "    </div>\n",
              "  </div>\n",
              "  "
            ]
          },
          "metadata": {},
          "execution_count": 183
        }
      ]
    },
    {
      "cell_type": "code",
      "source": [
        "#optimal parameters for a decision tree regressor\n",
        "dt_search.best_params_"
      ],
      "metadata": {
        "colab": {
          "base_uri": "https://localhost:8080/"
        },
        "id": "A6TsSzsvQFJU",
        "outputId": "c2748f81-14ca-4884-f7ba-edb6e6c02b84"
      },
      "execution_count": 184,
      "outputs": [
        {
          "output_type": "execute_result",
          "data": {
            "text/plain": [
              "{'max_depth': 7, 'max_features': 'log2'}"
            ]
          },
          "metadata": {},
          "execution_count": 184
        }
      ]
    },
    {
      "cell_type": "code",
      "source": [
        "dt_regressor = DecisionTreeRegressor(max_depth = 2, max_features='auto')"
      ],
      "metadata": {
        "id": "Fra39huW-sDf"
      },
      "execution_count": 185,
      "outputs": []
    },
    {
      "cell_type": "code",
      "source": [
        "dt_regressor.fit(train_selected_X, train_y)"
      ],
      "metadata": {
        "colab": {
          "base_uri": "https://localhost:8080/"
        },
        "id": "DPyC6az7_N9v",
        "outputId": "64037f30-4d82-4f3b-f2c7-2c872c326ebd"
      },
      "execution_count": 186,
      "outputs": [
        {
          "output_type": "execute_result",
          "data": {
            "text/plain": [
              "DecisionTreeRegressor(max_depth=2, max_features='auto')"
            ]
          },
          "metadata": {},
          "execution_count": 186
        }
      ]
    },
    {
      "cell_type": "code",
      "source": [
        "y_pred_dt = dt_regressor.predict(test_selected_X)"
      ],
      "metadata": {
        "id": "tiDZlNlPAA5g"
      },
      "execution_count": 187,
      "outputs": []
    },
    {
      "cell_type": "code",
      "source": [
        "print('Mean Squared Error: ', mean_squared_error(test_y, y_pred_dt), '\\n')\n",
        "print('Mean Absolute Error: ', mean_absolute_error(test_y, y_pred_dt), '\\n')\n",
        "print('Root Mean Squared Error: ', np.sqrt(mean_squared_error(test_y, y_pred_dt)))"
      ],
      "metadata": {
        "colab": {
          "base_uri": "https://localhost:8080/"
        },
        "id": "HdcKIgpbAJin",
        "outputId": "3bd4ceec-56fd-42f2-b391-69e639822cad"
      },
      "execution_count": 188,
      "outputs": [
        {
          "output_type": "stream",
          "name": "stdout",
          "text": [
            "Mean Squared Error:  31.210955192092253 \n",
            "\n",
            "Mean Absolute Error:  3.3088998296896324 \n",
            "\n",
            "Root Mean Squared Error:  5.586676578440196\n"
          ]
        }
      ]
    },
    {
      "cell_type": "code",
      "source": [
        "position_player_tuned = pd.DataFrame(columns = ['Model Type', 'Features Used', 'Number of Features', 'MSE', 'MAE', 'RMSE'])"
      ],
      "metadata": {
        "id": "fPiE6A4j6i27"
      },
      "execution_count": 189,
      "outputs": []
    },
    {
      "cell_type": "markdown",
      "source": [
        "# Display results for tuned position player models:"
      ],
      "metadata": {
        "id": "HOaDLnnV6juy"
      }
    },
    {
      "cell_type": "code",
      "source": [
        "position_player_tuned['Model Type'] = ['Multivariate Linear', 'Ridge', 'Decision Tree']\n",
        "position_player_tuned['Number of Features'] = [6,6,6]\n",
        "position_player_tuned['Features Used'] = [['age', 'HRA', ' GURU ', 'Starter', 'BFP', 'IPOuts'],\n",
        "                                          ['age', 'HRA', ' GURU ', 'Starter', 'BFP', 'IPOuts'],\n",
        "                                          ['age', 'HRA', ' GURU ', 'Starter', 'BFP', 'IPOuts']]"
      ],
      "metadata": {
        "id": "6_3fkzrE7E_p"
      },
      "execution_count": 190,
      "outputs": []
    },
    {
      "cell_type": "code",
      "source": [
        "mse = []\n",
        "mse.append(mean_squared_error(test_y, y_pred))\n",
        "mse.append(mean_squared_error(test_y, y_predicted_ridge))\n",
        "mse.append(mean_squared_error(test_y, y_pred_dt))\n",
        "\n",
        "mae = []\n",
        "mae.append(mean_absolute_error(test_y, y_pred))\n",
        "mae.append(mean_absolute_error(test_y, y_predicted_ridge))\n",
        "mae.append(mean_absolute_error(test_y, y_pred_dt))\n",
        "\n",
        "rmse = []\n",
        "rmse.append(np.sqrt(mean_squared_error(test_y, y_pred)))\n",
        "rmse.append(np.sqrt(mean_squared_error(test_y, y_predicted_ridge)))\n",
        "rmse.append(np.sqrt(mean_squared_error(test_y, y_pred_dt)))"
      ],
      "metadata": {
        "id": "Uu72NPdH8LcN"
      },
      "execution_count": 191,
      "outputs": []
    },
    {
      "cell_type": "code",
      "source": [
        "position_player_tuned['MSE'] = mse\n",
        "position_player_tuned['MAE'] = mae\n",
        "position_player_tuned['RMSE'] = rmse"
      ],
      "metadata": {
        "id": "fCjfpUw78zWA"
      },
      "execution_count": 192,
      "outputs": []
    },
    {
      "cell_type": "markdown",
      "source": [
        "Below, we have the final results of all three models tuned to best performance I could get. They are sorted by mean absolute error with the decision tree regressor outperforming the linear and ridge models.\n",
        "\n",
        "Although the Neural Network regressors performed best, we still were able to produce similar results with the decision tree regressor. Ridge and multivariate linear regresions performed solid as well with a mean absolute error of around 3.3 million which is pretty good given that position player salaries in the dataset range from 140,000 to 30 million."
      ],
      "metadata": {
        "id": "HHSzdNgE-B4O"
      }
    },
    {
      "cell_type": "code",
      "source": [
        "position_player_tuned.sort_values(by = ['MAE']).reset_index(drop = True)"
      ],
      "metadata": {
        "colab": {
          "base_uri": "https://localhost:8080/",
          "height": 143
        },
        "id": "YXalGzbr8Agg",
        "outputId": "9ed7b7e8-6c11-4921-f6f7-510f13708abe"
      },
      "execution_count": 193,
      "outputs": [
        {
          "output_type": "execute_result",
          "data": {
            "text/plain": [
              "            Model Type                             Features Used  \\\n",
              "0  Multivariate Linear  [age, HRA,  GURU , Starter, BFP, IPOuts]   \n",
              "1                Ridge  [age, HRA,  GURU , Starter, BFP, IPOuts]   \n",
              "2        Decision Tree  [age, HRA,  GURU , Starter, BFP, IPOuts]   \n",
              "\n",
              "   Number of Features        MSE       MAE      RMSE  \n",
              "0                   6  22.794147  2.907708  4.774322  \n",
              "1                   6  26.505084  3.014860  5.148309  \n",
              "2                   6  31.210955  3.308900  5.586677  "
            ],
            "text/html": [
              "\n",
              "  <div id=\"df-f31e7bc9-e50b-47da-9308-8141253afaee\">\n",
              "    <div class=\"colab-df-container\">\n",
              "      <div>\n",
              "<style scoped>\n",
              "    .dataframe tbody tr th:only-of-type {\n",
              "        vertical-align: middle;\n",
              "    }\n",
              "\n",
              "    .dataframe tbody tr th {\n",
              "        vertical-align: top;\n",
              "    }\n",
              "\n",
              "    .dataframe thead th {\n",
              "        text-align: right;\n",
              "    }\n",
              "</style>\n",
              "<table border=\"1\" class=\"dataframe\">\n",
              "  <thead>\n",
              "    <tr style=\"text-align: right;\">\n",
              "      <th></th>\n",
              "      <th>Model Type</th>\n",
              "      <th>Features Used</th>\n",
              "      <th>Number of Features</th>\n",
              "      <th>MSE</th>\n",
              "      <th>MAE</th>\n",
              "      <th>RMSE</th>\n",
              "    </tr>\n",
              "  </thead>\n",
              "  <tbody>\n",
              "    <tr>\n",
              "      <th>0</th>\n",
              "      <td>Multivariate Linear</td>\n",
              "      <td>[age, HRA,  GURU , Starter, BFP, IPOuts]</td>\n",
              "      <td>6</td>\n",
              "      <td>22.794147</td>\n",
              "      <td>2.907708</td>\n",
              "      <td>4.774322</td>\n",
              "    </tr>\n",
              "    <tr>\n",
              "      <th>1</th>\n",
              "      <td>Ridge</td>\n",
              "      <td>[age, HRA,  GURU , Starter, BFP, IPOuts]</td>\n",
              "      <td>6</td>\n",
              "      <td>26.505084</td>\n",
              "      <td>3.014860</td>\n",
              "      <td>5.148309</td>\n",
              "    </tr>\n",
              "    <tr>\n",
              "      <th>2</th>\n",
              "      <td>Decision Tree</td>\n",
              "      <td>[age, HRA,  GURU , Starter, BFP, IPOuts]</td>\n",
              "      <td>6</td>\n",
              "      <td>31.210955</td>\n",
              "      <td>3.308900</td>\n",
              "      <td>5.586677</td>\n",
              "    </tr>\n",
              "  </tbody>\n",
              "</table>\n",
              "</div>\n",
              "      <button class=\"colab-df-convert\" onclick=\"convertToInteractive('df-f31e7bc9-e50b-47da-9308-8141253afaee')\"\n",
              "              title=\"Convert this dataframe to an interactive table.\"\n",
              "              style=\"display:none;\">\n",
              "        \n",
              "  <svg xmlns=\"http://www.w3.org/2000/svg\" height=\"24px\"viewBox=\"0 0 24 24\"\n",
              "       width=\"24px\">\n",
              "    <path d=\"M0 0h24v24H0V0z\" fill=\"none\"/>\n",
              "    <path d=\"M18.56 5.44l.94 2.06.94-2.06 2.06-.94-2.06-.94-.94-2.06-.94 2.06-2.06.94zm-11 1L8.5 8.5l.94-2.06 2.06-.94-2.06-.94L8.5 2.5l-.94 2.06-2.06.94zm10 10l.94 2.06.94-2.06 2.06-.94-2.06-.94-.94-2.06-.94 2.06-2.06.94z\"/><path d=\"M17.41 7.96l-1.37-1.37c-.4-.4-.92-.59-1.43-.59-.52 0-1.04.2-1.43.59L10.3 9.45l-7.72 7.72c-.78.78-.78 2.05 0 2.83L4 21.41c.39.39.9.59 1.41.59.51 0 1.02-.2 1.41-.59l7.78-7.78 2.81-2.81c.8-.78.8-2.07 0-2.86zM5.41 20L4 18.59l7.72-7.72 1.47 1.35L5.41 20z\"/>\n",
              "  </svg>\n",
              "      </button>\n",
              "      \n",
              "  <style>\n",
              "    .colab-df-container {\n",
              "      display:flex;\n",
              "      flex-wrap:wrap;\n",
              "      gap: 12px;\n",
              "    }\n",
              "\n",
              "    .colab-df-convert {\n",
              "      background-color: #E8F0FE;\n",
              "      border: none;\n",
              "      border-radius: 50%;\n",
              "      cursor: pointer;\n",
              "      display: none;\n",
              "      fill: #1967D2;\n",
              "      height: 32px;\n",
              "      padding: 0 0 0 0;\n",
              "      width: 32px;\n",
              "    }\n",
              "\n",
              "    .colab-df-convert:hover {\n",
              "      background-color: #E2EBFA;\n",
              "      box-shadow: 0px 1px 2px rgba(60, 64, 67, 0.3), 0px 1px 3px 1px rgba(60, 64, 67, 0.15);\n",
              "      fill: #174EA6;\n",
              "    }\n",
              "\n",
              "    [theme=dark] .colab-df-convert {\n",
              "      background-color: #3B4455;\n",
              "      fill: #D2E3FC;\n",
              "    }\n",
              "\n",
              "    [theme=dark] .colab-df-convert:hover {\n",
              "      background-color: #434B5C;\n",
              "      box-shadow: 0px 1px 3px 1px rgba(0, 0, 0, 0.15);\n",
              "      filter: drop-shadow(0px 1px 2px rgba(0, 0, 0, 0.3));\n",
              "      fill: #FFFFFF;\n",
              "    }\n",
              "  </style>\n",
              "\n",
              "      <script>\n",
              "        const buttonEl =\n",
              "          document.querySelector('#df-f31e7bc9-e50b-47da-9308-8141253afaee button.colab-df-convert');\n",
              "        buttonEl.style.display =\n",
              "          google.colab.kernel.accessAllowed ? 'block' : 'none';\n",
              "\n",
              "        async function convertToInteractive(key) {\n",
              "          const element = document.querySelector('#df-f31e7bc9-e50b-47da-9308-8141253afaee');\n",
              "          const dataTable =\n",
              "            await google.colab.kernel.invokeFunction('convertToInteractive',\n",
              "                                                     [key], {});\n",
              "          if (!dataTable) return;\n",
              "\n",
              "          const docLinkHtml = 'Like what you see? Visit the ' +\n",
              "            '<a target=\"_blank\" href=https://colab.research.google.com/notebooks/data_table.ipynb>data table notebook</a>'\n",
              "            + ' to learn more about interactive tables.';\n",
              "          element.innerHTML = '';\n",
              "          dataTable['output_type'] = 'display_data';\n",
              "          await google.colab.output.renderOutput(dataTable, element);\n",
              "          const docLink = document.createElement('div');\n",
              "          docLink.innerHTML = docLinkHtml;\n",
              "          element.appendChild(docLink);\n",
              "        }\n",
              "      </script>\n",
              "    </div>\n",
              "  </div>\n",
              "  "
            ]
          },
          "metadata": {},
          "execution_count": 193
        }
      ]
    }
  ]
}