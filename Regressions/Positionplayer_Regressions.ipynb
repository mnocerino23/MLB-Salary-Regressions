{
  "nbformat": 4,
  "nbformat_minor": 0,
  "metadata": {
    "colab": {
      "name": "Positionplayer_Regressions.ipynb",
      "provenance": [],
      "collapsed_sections": []
    },
    "kernelspec": {
      "name": "python3",
      "display_name": "Python 3"
    },
    "language_info": {
      "name": "python"
    }
  },
  "cells": [
    {
      "cell_type": "markdown",
      "source": [
        "# In this Jupyter Notebook, I will build regression models to predict salary (in millions) for MLB position players. I will experiment with different modeling techniques such as multivariate linear, lasso, ridge, and neural network regressions"
      ],
      "metadata": {
        "id": "f4ApupsHWsk0"
      }
    },
    {
      "cell_type": "code",
      "execution_count": null,
      "metadata": {
        "id": "-m4_gX_7WniX",
        "colab": {
          "base_uri": "https://localhost:8080/"
        },
        "outputId": "00ceaf23-70d1-4edd-e589-29810e167c8c"
      },
      "outputs": [
        {
          "output_type": "stream",
          "name": "stdout",
          "text": [
            "Drive already mounted at /content/drive; to attempt to forcibly remount, call drive.mount(\"/content/drive\", force_remount=True).\n"
          ]
        }
      ],
      "source": [
        "import numpy as np\n",
        "import pandas as pd\n",
        "\n",
        "from google.colab import drive\n",
        "drive.mount('/content/drive')"
      ]
    },
    {
      "cell_type": "code",
      "source": [
        "import sklearn\n",
        "from sklearn import preprocessing\n",
        "from sklearn.model_selection import train_test_split, cross_val_score\n",
        "from sklearn.feature_selection import SelectKBest, f_regression\n",
        "from sklearn.preprocessing import MinMaxScaler"
      ],
      "metadata": {
        "id": "2paP65w2XzxT"
      },
      "execution_count": null,
      "outputs": []
    },
    {
      "cell_type": "code",
      "source": [
        "from sklearn import linear_model\n",
        "from sklearn.linear_model import Ridge, Lasso"
      ],
      "metadata": {
        "id": "lUOnJgJjYBjQ"
      },
      "execution_count": null,
      "outputs": []
    },
    {
      "cell_type": "code",
      "source": [
        "from sklearn.metrics import mean_absolute_error, mean_squared_error, mean_squared_log_error"
      ],
      "metadata": {
        "id": "vcpSRxhvX5mJ"
      },
      "execution_count": null,
      "outputs": []
    },
    {
      "cell_type": "code",
      "source": [
        "#read in position player stats\n",
        "pp_train = pd.read_csv('/content/drive/MyDrive/Data_Science_Projects/MLB/pp_traindata1.csv')\n",
        "pp_test = pd.read_csv('/content/drive/MyDrive/Data_Science_Projects/MLB/pp_testdata.csv')"
      ],
      "metadata": {
        "id": "_2BdS_khYKqq"
      },
      "execution_count": null,
      "outputs": []
    },
    {
      "cell_type": "markdown",
      "source": [
        "# Final check for null values:"
      ],
      "metadata": {
        "id": "2Te5bc3PfD_k"
      }
    },
    {
      "cell_type": "code",
      "source": [
        "#Looks like pp_train has a few null values so we drop them\n",
        "pp_train.info()"
      ],
      "metadata": {
        "colab": {
          "base_uri": "https://localhost:8080/"
        },
        "id": "lbN5vD43e-ZF",
        "outputId": "d7495080-8c06-4645-cdac-ae4cc963aaaf"
      },
      "execution_count": null,
      "outputs": [
        {
          "output_type": "stream",
          "name": "stdout",
          "text": [
            "<class 'pandas.core.frame.DataFrame'>\n",
            "RangeIndex: 280 entries, 0 to 279\n",
            "Data columns (total 45 columns):\n",
            " #   Column              Non-Null Count  Dtype  \n",
            "---  ------              --------------  -----  \n",
            " 0   Unnamed: 0          280 non-null    int64  \n",
            " 1   age                 280 non-null    int64  \n",
            " 2   stints              280 non-null    int64  \n",
            " 3   G                   279 non-null    float64\n",
            " 4   tap                 279 non-null    float64\n",
            " 5   AB                  279 non-null    float64\n",
            " 6   R                   279 non-null    float64\n",
            " 7   H                   279 non-null    float64\n",
            " 8   db                  279 non-null    float64\n",
            " 9   tr                  279 non-null    float64\n",
            " 10  HR                  279 non-null    float64\n",
            " 11  RBI                 279 non-null    float64\n",
            " 12  SB                  279 non-null    float64\n",
            " 13  CS                  279 non-null    float64\n",
            " 14  BB                  279 non-null    float64\n",
            " 15  SO                  279 non-null    float64\n",
            " 16  IBB                 279 non-null    float64\n",
            " 17  hbp                 279 non-null    float64\n",
            " 18  SH                  279 non-null    float64\n",
            " 19  SF                  279 non-null    float64\n",
            " 20  GIDP                279 non-null    float64\n",
            " 21  avg                 279 non-null    float64\n",
            " 22  obp                 279 non-null    float64\n",
            " 23  slg                 279 non-null    float64\n",
            " 24  woba                279 non-null    float64\n",
            " 25  PRO                 279 non-null    float64\n",
            " 26  GURU                279 non-null    float64\n",
            " 27  salary              280 non-null    float64\n",
            " 28  multiple_positions  280 non-null    int64  \n",
            " 29  ops                 279 non-null    float64\n",
            " 30  WAR                 280 non-null    float64\n",
            " 31  Rookie contract     280 non-null    int64  \n",
            " 32  1B                  280 non-null    int64  \n",
            " 33  2B                  280 non-null    int64  \n",
            " 34  3B                  280 non-null    int64  \n",
            " 35  C                   280 non-null    int64  \n",
            " 36  DH                  280 non-null    int64  \n",
            " 37  OF                  280 non-null    int64  \n",
            " 38  P                   280 non-null    int64  \n",
            " 39  SS                  280 non-null    int64  \n",
            " 40  bats_B              280 non-null    int64  \n",
            " 41  bats_L              280 non-null    int64  \n",
            " 42  bats_R              280 non-null    int64  \n",
            " 43  throws_L            280 non-null    int64  \n",
            " 44  throws_R            280 non-null    int64  \n",
            "dtypes: float64(27), int64(18)\n",
            "memory usage: 98.6 KB\n"
          ]
        }
      ]
    },
    {
      "cell_type": "code",
      "source": [
        "pp_train = pp_train.dropna()"
      ],
      "metadata": {
        "id": "WGz8pzRdfJUk"
      },
      "execution_count": null,
      "outputs": []
    },
    {
      "cell_type": "code",
      "source": [
        "pp_train.info()"
      ],
      "metadata": {
        "colab": {
          "base_uri": "https://localhost:8080/"
        },
        "id": "r7xpS7ZofLPC",
        "outputId": "5f779b58-c016-4067-891e-686f9935d993"
      },
      "execution_count": null,
      "outputs": [
        {
          "output_type": "stream",
          "name": "stdout",
          "text": [
            "<class 'pandas.core.frame.DataFrame'>\n",
            "Int64Index: 279 entries, 0 to 279\n",
            "Data columns (total 45 columns):\n",
            " #   Column              Non-Null Count  Dtype  \n",
            "---  ------              --------------  -----  \n",
            " 0   Unnamed: 0          279 non-null    int64  \n",
            " 1   age                 279 non-null    int64  \n",
            " 2   stints              279 non-null    int64  \n",
            " 3   G                   279 non-null    float64\n",
            " 4   tap                 279 non-null    float64\n",
            " 5   AB                  279 non-null    float64\n",
            " 6   R                   279 non-null    float64\n",
            " 7   H                   279 non-null    float64\n",
            " 8   db                  279 non-null    float64\n",
            " 9   tr                  279 non-null    float64\n",
            " 10  HR                  279 non-null    float64\n",
            " 11  RBI                 279 non-null    float64\n",
            " 12  SB                  279 non-null    float64\n",
            " 13  CS                  279 non-null    float64\n",
            " 14  BB                  279 non-null    float64\n",
            " 15  SO                  279 non-null    float64\n",
            " 16  IBB                 279 non-null    float64\n",
            " 17  hbp                 279 non-null    float64\n",
            " 18  SH                  279 non-null    float64\n",
            " 19  SF                  279 non-null    float64\n",
            " 20  GIDP                279 non-null    float64\n",
            " 21  avg                 279 non-null    float64\n",
            " 22  obp                 279 non-null    float64\n",
            " 23  slg                 279 non-null    float64\n",
            " 24  woba                279 non-null    float64\n",
            " 25  PRO                 279 non-null    float64\n",
            " 26  GURU                279 non-null    float64\n",
            " 27  salary              279 non-null    float64\n",
            " 28  multiple_positions  279 non-null    int64  \n",
            " 29  ops                 279 non-null    float64\n",
            " 30  WAR                 279 non-null    float64\n",
            " 31  Rookie contract     279 non-null    int64  \n",
            " 32  1B                  279 non-null    int64  \n",
            " 33  2B                  279 non-null    int64  \n",
            " 34  3B                  279 non-null    int64  \n",
            " 35  C                   279 non-null    int64  \n",
            " 36  DH                  279 non-null    int64  \n",
            " 37  OF                  279 non-null    int64  \n",
            " 38  P                   279 non-null    int64  \n",
            " 39  SS                  279 non-null    int64  \n",
            " 40  bats_B              279 non-null    int64  \n",
            " 41  bats_L              279 non-null    int64  \n",
            " 42  bats_R              279 non-null    int64  \n",
            " 43  throws_L            279 non-null    int64  \n",
            " 44  throws_R            279 non-null    int64  \n",
            "dtypes: float64(27), int64(18)\n",
            "memory usage: 100.3 KB\n"
          ]
        }
      ]
    },
    {
      "cell_type": "code",
      "source": [
        "#pp_test has no null values so we are good\n",
        "pp_test.info()"
      ],
      "metadata": {
        "colab": {
          "base_uri": "https://localhost:8080/"
        },
        "id": "3tBG6TJ5fA80",
        "outputId": "df50c7d0-48e0-4b83-e1f5-e2bcdefb1252"
      },
      "execution_count": null,
      "outputs": [
        {
          "output_type": "stream",
          "name": "stdout",
          "text": [
            "<class 'pandas.core.frame.DataFrame'>\n",
            "RangeIndex: 70 entries, 0 to 69\n",
            "Data columns (total 45 columns):\n",
            " #   Column              Non-Null Count  Dtype  \n",
            "---  ------              --------------  -----  \n",
            " 0   Unnamed: 0          70 non-null     int64  \n",
            " 1   age                 70 non-null     int64  \n",
            " 2   stints              70 non-null     int64  \n",
            " 3   G                   70 non-null     float64\n",
            " 4   tap                 70 non-null     float64\n",
            " 5   AB                  70 non-null     float64\n",
            " 6   R                   70 non-null     float64\n",
            " 7   H                   70 non-null     float64\n",
            " 8   db                  70 non-null     float64\n",
            " 9   tr                  70 non-null     float64\n",
            " 10  HR                  70 non-null     float64\n",
            " 11  RBI                 70 non-null     float64\n",
            " 12  SB                  70 non-null     float64\n",
            " 13  CS                  70 non-null     float64\n",
            " 14  BB                  70 non-null     float64\n",
            " 15  SO                  70 non-null     float64\n",
            " 16  IBB                 70 non-null     float64\n",
            " 17  hbp                 70 non-null     float64\n",
            " 18  SH                  70 non-null     float64\n",
            " 19  SF                  70 non-null     float64\n",
            " 20  GIDP                70 non-null     float64\n",
            " 21  avg                 70 non-null     float64\n",
            " 22  obp                 70 non-null     float64\n",
            " 23  slg                 70 non-null     float64\n",
            " 24  woba                70 non-null     float64\n",
            " 25  PRO                 70 non-null     float64\n",
            " 26  GURU                70 non-null     float64\n",
            " 27  salary              70 non-null     float64\n",
            " 28  multiple_positions  70 non-null     int64  \n",
            " 29  ops                 70 non-null     float64\n",
            " 30  WAR                 70 non-null     float64\n",
            " 31  Rookie contract     70 non-null     int64  \n",
            " 32  1B                  70 non-null     int64  \n",
            " 33  2B                  70 non-null     int64  \n",
            " 34  3B                  70 non-null     int64  \n",
            " 35  C                   70 non-null     int64  \n",
            " 36  DH                  70 non-null     int64  \n",
            " 37  OF                  70 non-null     int64  \n",
            " 38  P                   70 non-null     int64  \n",
            " 39  SS                  70 non-null     int64  \n",
            " 40  bats_B              70 non-null     int64  \n",
            " 41  bats_L              70 non-null     int64  \n",
            " 42  bats_R              70 non-null     int64  \n",
            " 43  throws_L            70 non-null     int64  \n",
            " 44  throws_R            70 non-null     int64  \n",
            "dtypes: float64(27), int64(18)\n",
            "memory usage: 24.7 KB\n"
          ]
        }
      ]
    },
    {
      "cell_type": "code",
      "source": [
        "#drop unnamed index column from both datasets\n",
        "#also drop the at bats feature since I am now realizing the redunancy here when tap (total plate appearances) contains very similar info\n",
        "pp_train.drop(columns = ['Unnamed: 0', 'AB'], inplace = True)\n",
        "pp_test.drop(columns = ['Unnamed: 0', 'AB'], inplace = True)\n",
        "pp_test.head()"
      ],
      "metadata": {
        "colab": {
          "base_uri": "https://localhost:8080/",
          "height": 235
        },
        "id": "dsqdOljHZXvq",
        "outputId": "419cc37f-2203-442c-daa7-38fc5a30045b"
      },
      "execution_count": null,
      "outputs": [
        {
          "output_type": "execute_result",
          "data": {
            "text/plain": [
              "   age  stints      G    tap     R      H    db   tr    HR   RBI  ...  C  DH  \\\n",
              "0   32       1   72.0  251.0  19.0   48.0  12.0  0.0  12.0  41.0  ...  1   0   \n",
              "1   31       1  161.0  680.0  97.0  155.0  25.0  1.0  34.0  97.0  ...  0   0   \n",
              "2   25       1   75.0  248.0  15.0   39.0   9.0  1.0   0.0  15.0  ...  0   0   \n",
              "3   24       1   77.0  288.0  28.0   67.0  11.0  4.0   6.0  26.0  ...  0   0   \n",
              "4   23       1   30.0   80.0   4.0   18.0   6.0  0.0   0.0   4.0  ...  0   0   \n",
              "\n",
              "   OF  P  SS  bats_B  bats_L  bats_R  throws_L  throws_R  \n",
              "0   0  0   0       0       0       1         0         1  \n",
              "1   0  0   0       0       0       1         0         1  \n",
              "2   1  0   0       0       0       1         0         1  \n",
              "3   0  0   0       0       0       1         0         1  \n",
              "4   0  0   1       1       0       0         0         1  \n",
              "\n",
              "[5 rows x 43 columns]"
            ],
            "text/html": [
              "\n",
              "  <div id=\"df-bf508d71-90ce-41bd-99e8-53b5d0ea1588\">\n",
              "    <div class=\"colab-df-container\">\n",
              "      <div>\n",
              "<style scoped>\n",
              "    .dataframe tbody tr th:only-of-type {\n",
              "        vertical-align: middle;\n",
              "    }\n",
              "\n",
              "    .dataframe tbody tr th {\n",
              "        vertical-align: top;\n",
              "    }\n",
              "\n",
              "    .dataframe thead th {\n",
              "        text-align: right;\n",
              "    }\n",
              "</style>\n",
              "<table border=\"1\" class=\"dataframe\">\n",
              "  <thead>\n",
              "    <tr style=\"text-align: right;\">\n",
              "      <th></th>\n",
              "      <th>age</th>\n",
              "      <th>stints</th>\n",
              "      <th>G</th>\n",
              "      <th>tap</th>\n",
              "      <th>R</th>\n",
              "      <th>H</th>\n",
              "      <th>db</th>\n",
              "      <th>tr</th>\n",
              "      <th>HR</th>\n",
              "      <th>RBI</th>\n",
              "      <th>...</th>\n",
              "      <th>C</th>\n",
              "      <th>DH</th>\n",
              "      <th>OF</th>\n",
              "      <th>P</th>\n",
              "      <th>SS</th>\n",
              "      <th>bats_B</th>\n",
              "      <th>bats_L</th>\n",
              "      <th>bats_R</th>\n",
              "      <th>throws_L</th>\n",
              "      <th>throws_R</th>\n",
              "    </tr>\n",
              "  </thead>\n",
              "  <tbody>\n",
              "    <tr>\n",
              "      <th>0</th>\n",
              "      <td>32</td>\n",
              "      <td>1</td>\n",
              "      <td>72.0</td>\n",
              "      <td>251.0</td>\n",
              "      <td>19.0</td>\n",
              "      <td>48.0</td>\n",
              "      <td>12.0</td>\n",
              "      <td>0.0</td>\n",
              "      <td>12.0</td>\n",
              "      <td>41.0</td>\n",
              "      <td>...</td>\n",
              "      <td>1</td>\n",
              "      <td>0</td>\n",
              "      <td>0</td>\n",
              "      <td>0</td>\n",
              "      <td>0</td>\n",
              "      <td>0</td>\n",
              "      <td>0</td>\n",
              "      <td>1</td>\n",
              "      <td>0</td>\n",
              "      <td>1</td>\n",
              "    </tr>\n",
              "    <tr>\n",
              "      <th>1</th>\n",
              "      <td>31</td>\n",
              "      <td>1</td>\n",
              "      <td>161.0</td>\n",
              "      <td>680.0</td>\n",
              "      <td>97.0</td>\n",
              "      <td>155.0</td>\n",
              "      <td>25.0</td>\n",
              "      <td>1.0</td>\n",
              "      <td>34.0</td>\n",
              "      <td>97.0</td>\n",
              "      <td>...</td>\n",
              "      <td>0</td>\n",
              "      <td>0</td>\n",
              "      <td>0</td>\n",
              "      <td>0</td>\n",
              "      <td>0</td>\n",
              "      <td>0</td>\n",
              "      <td>0</td>\n",
              "      <td>1</td>\n",
              "      <td>0</td>\n",
              "      <td>1</td>\n",
              "    </tr>\n",
              "    <tr>\n",
              "      <th>2</th>\n",
              "      <td>25</td>\n",
              "      <td>1</td>\n",
              "      <td>75.0</td>\n",
              "      <td>248.0</td>\n",
              "      <td>15.0</td>\n",
              "      <td>39.0</td>\n",
              "      <td>9.0</td>\n",
              "      <td>1.0</td>\n",
              "      <td>0.0</td>\n",
              "      <td>15.0</td>\n",
              "      <td>...</td>\n",
              "      <td>0</td>\n",
              "      <td>0</td>\n",
              "      <td>1</td>\n",
              "      <td>0</td>\n",
              "      <td>0</td>\n",
              "      <td>0</td>\n",
              "      <td>0</td>\n",
              "      <td>1</td>\n",
              "      <td>0</td>\n",
              "      <td>1</td>\n",
              "    </tr>\n",
              "    <tr>\n",
              "      <th>3</th>\n",
              "      <td>24</td>\n",
              "      <td>1</td>\n",
              "      <td>77.0</td>\n",
              "      <td>288.0</td>\n",
              "      <td>28.0</td>\n",
              "      <td>67.0</td>\n",
              "      <td>11.0</td>\n",
              "      <td>4.0</td>\n",
              "      <td>6.0</td>\n",
              "      <td>26.0</td>\n",
              "      <td>...</td>\n",
              "      <td>0</td>\n",
              "      <td>0</td>\n",
              "      <td>0</td>\n",
              "      <td>0</td>\n",
              "      <td>0</td>\n",
              "      <td>0</td>\n",
              "      <td>0</td>\n",
              "      <td>1</td>\n",
              "      <td>0</td>\n",
              "      <td>1</td>\n",
              "    </tr>\n",
              "    <tr>\n",
              "      <th>4</th>\n",
              "      <td>23</td>\n",
              "      <td>1</td>\n",
              "      <td>30.0</td>\n",
              "      <td>80.0</td>\n",
              "      <td>4.0</td>\n",
              "      <td>18.0</td>\n",
              "      <td>6.0</td>\n",
              "      <td>0.0</td>\n",
              "      <td>0.0</td>\n",
              "      <td>4.0</td>\n",
              "      <td>...</td>\n",
              "      <td>0</td>\n",
              "      <td>0</td>\n",
              "      <td>0</td>\n",
              "      <td>0</td>\n",
              "      <td>1</td>\n",
              "      <td>1</td>\n",
              "      <td>0</td>\n",
              "      <td>0</td>\n",
              "      <td>0</td>\n",
              "      <td>1</td>\n",
              "    </tr>\n",
              "  </tbody>\n",
              "</table>\n",
              "<p>5 rows × 43 columns</p>\n",
              "</div>\n",
              "      <button class=\"colab-df-convert\" onclick=\"convertToInteractive('df-bf508d71-90ce-41bd-99e8-53b5d0ea1588')\"\n",
              "              title=\"Convert this dataframe to an interactive table.\"\n",
              "              style=\"display:none;\">\n",
              "        \n",
              "  <svg xmlns=\"http://www.w3.org/2000/svg\" height=\"24px\"viewBox=\"0 0 24 24\"\n",
              "       width=\"24px\">\n",
              "    <path d=\"M0 0h24v24H0V0z\" fill=\"none\"/>\n",
              "    <path d=\"M18.56 5.44l.94 2.06.94-2.06 2.06-.94-2.06-.94-.94-2.06-.94 2.06-2.06.94zm-11 1L8.5 8.5l.94-2.06 2.06-.94-2.06-.94L8.5 2.5l-.94 2.06-2.06.94zm10 10l.94 2.06.94-2.06 2.06-.94-2.06-.94-.94-2.06-.94 2.06-2.06.94z\"/><path d=\"M17.41 7.96l-1.37-1.37c-.4-.4-.92-.59-1.43-.59-.52 0-1.04.2-1.43.59L10.3 9.45l-7.72 7.72c-.78.78-.78 2.05 0 2.83L4 21.41c.39.39.9.59 1.41.59.51 0 1.02-.2 1.41-.59l7.78-7.78 2.81-2.81c.8-.78.8-2.07 0-2.86zM5.41 20L4 18.59l7.72-7.72 1.47 1.35L5.41 20z\"/>\n",
              "  </svg>\n",
              "      </button>\n",
              "      \n",
              "  <style>\n",
              "    .colab-df-container {\n",
              "      display:flex;\n",
              "      flex-wrap:wrap;\n",
              "      gap: 12px;\n",
              "    }\n",
              "\n",
              "    .colab-df-convert {\n",
              "      background-color: #E8F0FE;\n",
              "      border: none;\n",
              "      border-radius: 50%;\n",
              "      cursor: pointer;\n",
              "      display: none;\n",
              "      fill: #1967D2;\n",
              "      height: 32px;\n",
              "      padding: 0 0 0 0;\n",
              "      width: 32px;\n",
              "    }\n",
              "\n",
              "    .colab-df-convert:hover {\n",
              "      background-color: #E2EBFA;\n",
              "      box-shadow: 0px 1px 2px rgba(60, 64, 67, 0.3), 0px 1px 3px 1px rgba(60, 64, 67, 0.15);\n",
              "      fill: #174EA6;\n",
              "    }\n",
              "\n",
              "    [theme=dark] .colab-df-convert {\n",
              "      background-color: #3B4455;\n",
              "      fill: #D2E3FC;\n",
              "    }\n",
              "\n",
              "    [theme=dark] .colab-df-convert:hover {\n",
              "      background-color: #434B5C;\n",
              "      box-shadow: 0px 1px 3px 1px rgba(0, 0, 0, 0.15);\n",
              "      filter: drop-shadow(0px 1px 2px rgba(0, 0, 0, 0.3));\n",
              "      fill: #FFFFFF;\n",
              "    }\n",
              "  </style>\n",
              "\n",
              "      <script>\n",
              "        const buttonEl =\n",
              "          document.querySelector('#df-bf508d71-90ce-41bd-99e8-53b5d0ea1588 button.colab-df-convert');\n",
              "        buttonEl.style.display =\n",
              "          google.colab.kernel.accessAllowed ? 'block' : 'none';\n",
              "\n",
              "        async function convertToInteractive(key) {\n",
              "          const element = document.querySelector('#df-bf508d71-90ce-41bd-99e8-53b5d0ea1588');\n",
              "          const dataTable =\n",
              "            await google.colab.kernel.invokeFunction('convertToInteractive',\n",
              "                                                     [key], {});\n",
              "          if (!dataTable) return;\n",
              "\n",
              "          const docLinkHtml = 'Like what you see? Visit the ' +\n",
              "            '<a target=\"_blank\" href=https://colab.research.google.com/notebooks/data_table.ipynb>data table notebook</a>'\n",
              "            + ' to learn more about interactive tables.';\n",
              "          element.innerHTML = '';\n",
              "          dataTable['output_type'] = 'display_data';\n",
              "          await google.colab.output.renderOutput(dataTable, element);\n",
              "          const docLink = document.createElement('div');\n",
              "          docLink.innerHTML = docLinkHtml;\n",
              "          element.appendChild(docLink);\n",
              "        }\n",
              "      </script>\n",
              "    </div>\n",
              "  </div>\n",
              "  "
            ]
          },
          "metadata": {},
          "execution_count": 4211
        }
      ]
    },
    {
      "cell_type": "markdown",
      "source": [
        "# Reminding ourselves of the train and test data shapes (we performed an 80-20 split previously then normalized both independently)"
      ],
      "metadata": {
        "id": "XiZ7zpNQdl-j"
      }
    },
    {
      "cell_type": "code",
      "source": [
        "print('Position Players Train:')\n",
        "print('Train dataset dimensions: ', pp_train.shape, '\\n')\n",
        "\n",
        "print('Position Players Test:')\n",
        "print('Test dataset dimensions: ', pp_test.shape, '\\n')"
      ],
      "metadata": {
        "colab": {
          "base_uri": "https://localhost:8080/"
        },
        "id": "CYOaYX2cdubH",
        "outputId": "78ca3384-fdbe-4f77-d17f-7595522601b1"
      },
      "execution_count": null,
      "outputs": [
        {
          "output_type": "stream",
          "name": "stdout",
          "text": [
            "Position Players Train:\n",
            "Train dataset dimensions:  (279, 43) \n",
            "\n",
            "Position Players Test:\n",
            "Test dataset dimensions:  (70, 43) \n",
            "\n"
          ]
        }
      ]
    },
    {
      "cell_type": "markdown",
      "source": [
        "# Normalize input features using min-max normalization"
      ],
      "metadata": {
        "id": "ry5e9Tm6h1BK"
      }
    },
    {
      "cell_type": "code",
      "source": [
        "from sklearn.preprocessing import MinMaxScaler\n",
        "scaler = MinMaxScaler()"
      ],
      "metadata": {
        "id": "zHz3mSI3ienL"
      },
      "execution_count": null,
      "outputs": []
    },
    {
      "cell_type": "code",
      "source": [
        "train_target = pp_train['salary']\n",
        "\n",
        "train_features = pp_train.drop(columns = ['salary'])\n",
        "col = train_features.columns\n",
        "train_features = scaler.fit_transform(train_features)\n",
        "train_features = pd.DataFrame(data=train_features, columns=col)"
      ],
      "metadata": {
        "id": "PXUoewX1eLXP"
      },
      "execution_count": null,
      "outputs": []
    },
    {
      "cell_type": "code",
      "source": [
        "test_target = pp_test['salary']\n",
        "\n",
        "test_features = pp_test.drop(columns = ['salary'])\n",
        "test_features = scaler.fit_transform(test_features)\n",
        "test_features = pd.DataFrame(data=test_features, columns=col)"
      ],
      "metadata": {
        "id": "_mC9w8dPefBO"
      },
      "execution_count": null,
      "outputs": []
    },
    {
      "cell_type": "markdown",
      "source": [
        "# Feature Selection"
      ],
      "metadata": {
        "id": "y7f5U9w6djlP"
      }
    },
    {
      "cell_type": "markdown",
      "source": [
        "Vary the number of features we select to find optimal amount. I found that k = 12 features produces the best model with MAE of 3.49 million"
      ],
      "metadata": {
        "id": "Hek1bsWEer9s"
      }
    },
    {
      "cell_type": "code",
      "source": [
        "top_features_ordered = []"
      ],
      "metadata": {
        "id": "9ppcJZ35d5or"
      },
      "execution_count": null,
      "outputs": []
    },
    {
      "cell_type": "code",
      "source": [
        "best_features = SelectKBest(f_regression, k=15)\n",
        "k_best_data = best_features.fit_transform(train_features, train_target)\n",
        "mask = best_features.get_support()\n",
        "new_features = train_features.columns[mask]\n",
        "for item in new_features:\n",
        "  if item not in top_features_ordered:\n",
        "    top_features_ordered.append(item)"
      ],
      "metadata": {
        "id": "TAXTX1chel4n",
        "colab": {
          "base_uri": "https://localhost:8080/"
        },
        "outputId": "a5ae3e2c-70a7-473d-a0c6-f970cada59fe"
      },
      "execution_count": null,
      "outputs": [
        {
          "output_type": "stream",
          "name": "stderr",
          "text": [
            "/usr/local/lib/python3.7/dist-packages/sklearn/feature_selection/_univariate_selection.py:289: RuntimeWarning: invalid value encountered in true_divide\n",
            "  correlation_coefficient /= X_norms\n"
          ]
        }
      ]
    },
    {
      "cell_type": "code",
      "source": [
        "count = 1\n",
        "for item in top_features_ordered:\n",
        "  print(count, '. ', item)\n",
        "  count += 1"
      ],
      "metadata": {
        "id": "7A3BEqTnewYv",
        "colab": {
          "base_uri": "https://localhost:8080/"
        },
        "outputId": "ae5eeaba-8b5c-49d8-b01f-e02ef123544d"
      },
      "execution_count": null,
      "outputs": [
        {
          "output_type": "stream",
          "name": "stdout",
          "text": [
            "1 .  age\n",
            "2 .  G\n",
            "3 .  tap\n",
            "4 .  R\n",
            "5 .  H\n",
            "6 .  db\n",
            "7 .  HR\n",
            "8 .  RBI\n",
            "9 .  BB\n",
            "10 .  SF\n",
            "11 .  GIDP\n",
            "12 .  obp\n",
            "13 .  PRO\n",
            "14 .  GURU\n",
            "15 .  Rookie contract\n"
          ]
        }
      ]
    },
    {
      "cell_type": "code",
      "source": [
        "top_features_ordered"
      ],
      "metadata": {
        "colab": {
          "base_uri": "https://localhost:8080/"
        },
        "id": "K1gWvDfQj4St",
        "outputId": "36341655-012e-4227-fc7f-d0a1ce32a840"
      },
      "execution_count": null,
      "outputs": [
        {
          "output_type": "execute_result",
          "data": {
            "text/plain": [
              "['age',\n",
              " 'G',\n",
              " 'tap',\n",
              " 'R',\n",
              " 'H',\n",
              " 'db',\n",
              " 'HR',\n",
              " 'RBI',\n",
              " 'BB',\n",
              " 'SF',\n",
              " 'GIDP',\n",
              " 'obp',\n",
              " 'PRO',\n",
              " 'GURU',\n",
              " 'Rookie contract']"
            ]
          },
          "metadata": {},
          "execution_count": 4219
        }
      ]
    },
    {
      "cell_type": "code",
      "source": [
        "#through experimentation, I found that 6-10 features produce the best regression models. Above, I have the 15 best features for predicting\n",
        "#player salary for position players. However, when all 15 are used the models don't perform well so I select different combinations of the fiften\n",
        "#and experiment to see which lead to high performing models"
      ],
      "metadata": {
        "id": "0oOfPIeYjZ1z"
      },
      "execution_count": null,
      "outputs": []
    },
    {
      "cell_type": "markdown",
      "source": [
        "Through experimentation, I found the following regarding which features make the models better, worse, or have neglible"
      ],
      "metadata": {
        "id": "lFfk4T9vt_WO"
      }
    },
    {
      "cell_type": "markdown",
      "source": [
        "\n",
        "*   Neutral - GURU, BB, Rookie contract\n",
        "*   Medium Importance- H\n",
        "*   Not Helpful - SF, R \n",
        "*   Crucial - GIDP, G, age, PRO, ops\n"
      ],
      "metadata": {
        "id": "rSUXk_vQto_3"
      }
    },
    {
      "cell_type": "code",
      "source": [
        "#below are the different feature combinations I experimented with\n",
        "\n",
        "#1.train_selected_X = train_features[['age', 'G', 'RBI', 'H', 'GIDP', 'PRO', 'Rookie contract', 'ops']] linear: 3.39, ridge(a = 3.6): 3.35, decision tree: 2.89\n",
        "#2. train_selected_X = train_features[['age', 'G', 'tap', 'H', 'GIDP', 'PRO', 'Rookie contract', 'ops', 'RBI']] linear: 3.50, ridge (a= 3.6): 3.34, decision tree: 2.57\n",
        "#3.train_selected_X = train_features[['age', 'G', 'H', 'GIDP', 'PRO', 'Rookie contract', 'ops', 'RBI']] linear: 3.39, ridge(a = 1.0): 3.37, decision tree: 2.89\n",
        "#4. train_selected_X = train_features[['age', 'H', 'GIDP', 'PRO', 'Rookie contract', 'slg', 'G', 'obp']] linear: 3.38, ridge (a = 1.0): 3.35, decision tree: 3.00\n",
        "#5. train_selected_X = train_features[['age', 'G', 'GIDP', 'PRO', 'ops']] linear: 3.43, ridge (a = 1.0): 3.38, decision tree: 3.08\n",
        "\n",
        "#I found the best feature combination to be 'age', 'G', 'RBI', 'H', 'GIDP', 'PRO', 'Rookie contract', 'ops' for linear and ridge regressions\n",
        "#and 'age', 'G', 'tap', 'H', 'GIDP', 'PRO', 'Rookie contract', 'ops', 'RBI' for decision tree models\n",
        "\n",
        "train_selected_X = train_features[['age', 'G', 'RBI', 'H', 'GIDP', 'PRO', 'Rookie contract', 'ops']]\n",
        "train_selected_dt_X = train_features[['age', 'G', 'tap', 'H', 'GIDP', 'PRO', 'Rookie contract', 'ops', 'RBI']]\n",
        "\n",
        "train_y = train_target\n",
        "\n",
        "\n",
        "#1. test_selected_X = test_features[['age', 'G', 'RBI', 'H', 'GIDP', 'PRO', 'Rookie contract', 'ops']]\n",
        "#2. test_selected_X = test_features[['age', 'G', 'tap', 'H', 'GIDP', 'PRO', 'Rookie contract', 'ops', 'RBI']]\n",
        "#3. test_selected_X = test_features[['age', 'G', 'H', 'GIDP', 'PRO', 'Rookie contract', 'ops', 'RBI']]\n",
        "#4. test_selected_X = test_features[['age', 'H', 'GIDP', 'PRO', 'Rookie contract', 'slg', 'G', 'obp']]\n",
        "#5. test_selected_X = test_features[['age', 'G', 'GIDP', 'PRO', 'ops']]\n",
        "\n",
        "\n",
        "test_selected_X = test_features[['age', 'G', 'RBI', 'H', 'GIDP', 'PRO', 'Rookie contract', 'ops']]\n",
        "test_selected_dt_X = test_features[['age', 'G', 'tap', 'H', 'GIDP', 'PRO', 'Rookie contract', 'ops', 'RBI']]\n",
        "\n",
        "test_y = test_target\n",
        "\n",
        "#neutral - GURU, BB, Rookie contract\n",
        "#medium importance- Hits, \n",
        "#not helpful - SF, R, \n",
        "#crucial - GIDP, G, age, PRO, ops\n",
        "\n",
        "test_y = test_target"
      ],
      "metadata": {
        "id": "DhOI6VjOffNS"
      },
      "execution_count": null,
      "outputs": []
    },
    {
      "cell_type": "code",
      "source": [
        "print('Train Features:')\n",
        "print('train_selected_X dimensions: ', train_selected_X.shape)\n",
        "print('train_y dimensions:', train_y.shape, '\\n')\n",
        "\n",
        "print('Test Features:')\n",
        "print('test_data_X dimensions: ', test_selected_X.shape)\n",
        "print('test_data_y dimensions:', test_y.shape, '\\n')"
      ],
      "metadata": {
        "colab": {
          "base_uri": "https://localhost:8080/"
        },
        "id": "ZHMTbm25foJW",
        "outputId": "17d123f7-fed2-4aa3-cc1c-274e7c027587"
      },
      "execution_count": null,
      "outputs": [
        {
          "output_type": "stream",
          "name": "stdout",
          "text": [
            "Train Features:\n",
            "train_selected_X dimensions:  (279, 8)\n",
            "train_y dimensions: (279,) \n",
            "\n",
            "Test Features:\n",
            "test_data_X dimensions:  (70, 8)\n",
            "test_data_y dimensions: (70,) \n",
            "\n"
          ]
        }
      ]
    },
    {
      "cell_type": "markdown",
      "source": [
        "# Multivariate Linear Regression"
      ],
      "metadata": {
        "id": "2oLgxL4jnAom"
      }
    },
    {
      "cell_type": "code",
      "source": [
        "multivariate_regression = linear_model.LinearRegression()\n",
        "multivariate_regression.fit(train_selected_X, train_y)"
      ],
      "metadata": {
        "colab": {
          "base_uri": "https://localhost:8080/"
        },
        "id": "UDhwuThmf8QA",
        "outputId": "2d294372-7a3a-4d94-9228-368bbec36f54"
      },
      "execution_count": null,
      "outputs": [
        {
          "output_type": "execute_result",
          "data": {
            "text/plain": [
              "LinearRegression()"
            ]
          },
          "metadata": {},
          "execution_count": 4223
        }
      ]
    },
    {
      "cell_type": "markdown",
      "source": [
        "# Beta values (coefficients) and intercept for our multivariate linear regression:"
      ],
      "metadata": {
        "id": "lI9G49XlgGr-"
      }
    },
    {
      "cell_type": "code",
      "source": [
        "multivariate_regression.coef_"
      ],
      "metadata": {
        "colab": {
          "base_uri": "https://localhost:8080/"
        },
        "id": "W-vg-stwgBRe",
        "outputId": "61982142-9b42-46a5-c8dc-cbf788c417cf"
      },
      "execution_count": null,
      "outputs": [
        {
          "output_type": "execute_result",
          "data": {
            "text/plain": [
              "array([18.52392221, -9.3448351 , -2.64652833, -3.67020106,  6.47866356,\n",
              "       22.15176025,  0.96789912, -5.06003056])"
            ]
          },
          "metadata": {},
          "execution_count": 4224
        }
      ]
    },
    {
      "cell_type": "code",
      "source": [
        "multivariate_regression.intercept_"
      ],
      "metadata": {
        "colab": {
          "base_uri": "https://localhost:8080/"
        },
        "id": "Z8w-yiq4gCVc",
        "outputId": "5494b9d2-454d-4bf0-88eb-595c1ab65149"
      },
      "execution_count": null,
      "outputs": [
        {
          "output_type": "execute_result",
          "data": {
            "text/plain": [
              "-3.433813074304056"
            ]
          },
          "metadata": {},
          "execution_count": 4225
        }
      ]
    },
    {
      "cell_type": "code",
      "source": [
        "y_pred = multivariate_regression.predict(test_selected_X)"
      ],
      "metadata": {
        "id": "l3N3sYfAgO59"
      },
      "execution_count": null,
      "outputs": []
    },
    {
      "cell_type": "code",
      "source": [
        "print('Mean Squared Error: ', mean_squared_error(test_y, y_pred), '\\n')\n",
        "print('Mean Absolute Error: ', mean_absolute_error(test_y, y_pred), '\\n')\n",
        "print('Root Mean Squared Error: ', np.sqrt(mean_squared_error(test_y, y_pred)))"
      ],
      "metadata": {
        "colab": {
          "base_uri": "https://localhost:8080/"
        },
        "id": "0DSV6Qj6gTSV",
        "outputId": "ce7063d6-1c31-4d22-c68c-6145b837d8a4"
      },
      "execution_count": null,
      "outputs": [
        {
          "output_type": "stream",
          "name": "stdout",
          "text": [
            "Mean Squared Error:  20.957202516377947 \n",
            "\n",
            "Mean Absolute Error:  3.3962689166115063 \n",
            "\n",
            "Root Mean Squared Error:  4.577903725110211\n"
          ]
        }
      ]
    },
    {
      "cell_type": "markdown",
      "source": [
        "# Ridge Regression"
      ],
      "metadata": {
        "id": "pBGIDOsnncYP"
      }
    },
    {
      "cell_type": "code",
      "source": [
        "ridge_regression = Ridge(alpha = 3.75)\n",
        "ridge_regression.fit(train_selected_X, train_y)"
      ],
      "metadata": {
        "colab": {
          "base_uri": "https://localhost:8080/"
        },
        "id": "8crAGHcnm--o",
        "outputId": "a276786f-bfaa-42a2-f96a-644e17068027"
      },
      "execution_count": null,
      "outputs": [
        {
          "output_type": "execute_result",
          "data": {
            "text/plain": [
              "Ridge(alpha=3.75)"
            ]
          },
          "metadata": {},
          "execution_count": 4228
        }
      ]
    },
    {
      "cell_type": "code",
      "source": [
        "ridge_regression.coef_"
      ],
      "metadata": {
        "colab": {
          "base_uri": "https://localhost:8080/"
        },
        "id": "Vyc9cbX4nqQN",
        "outputId": "2304a78a-af52-4b1e-b7fe-b2c722e9a551"
      },
      "execution_count": null,
      "outputs": [
        {
          "output_type": "execute_result",
          "data": {
            "text/plain": [
              "array([10.90462975, -1.56906025,  1.83499279,  1.94039775,  4.71768259,\n",
              "        3.63095343, -1.19300745, -0.11721738])"
            ]
          },
          "metadata": {},
          "execution_count": 4229
        }
      ]
    },
    {
      "cell_type": "code",
      "source": [
        "ridge_regression.intercept_"
      ],
      "metadata": {
        "colab": {
          "base_uri": "https://localhost:8080/"
        },
        "id": "9ghLQtFmnsNB",
        "outputId": "b0c53a3e-98ad-4c89-aa37-7f5a92e6c8cb"
      },
      "execution_count": null,
      "outputs": [
        {
          "output_type": "execute_result",
          "data": {
            "text/plain": [
              "-3.4056725614139216"
            ]
          },
          "metadata": {},
          "execution_count": 4230
        }
      ]
    },
    {
      "cell_type": "code",
      "source": [
        "y_predicted = ridge_regression.predict(test_selected_X)"
      ],
      "metadata": {
        "id": "vRw4BOB5nwg2"
      },
      "execution_count": null,
      "outputs": []
    },
    {
      "cell_type": "code",
      "source": [
        "print('Mean Squared Error: ', mean_squared_error(test_y, y_predicted), '\\n')\n",
        "print('Mean Absolute Error: ', mean_absolute_error(test_y, y_predicted), '\\n')\n",
        "print('Root Mean Squared Error: ', np.sqrt(mean_squared_error(test_y, y_predicted)))"
      ],
      "metadata": {
        "colab": {
          "base_uri": "https://localhost:8080/"
        },
        "id": "rvSf_oX9n0Ti",
        "outputId": "ceb07c18-b567-4d7b-c786-462237360ce0"
      },
      "execution_count": null,
      "outputs": [
        {
          "output_type": "stream",
          "name": "stdout",
          "text": [
            "Mean Squared Error:  21.672263387737477 \n",
            "\n",
            "Mean Absolute Error:  3.3513426972141893 \n",
            "\n",
            "Root Mean Squared Error:  4.655347826719018\n"
          ]
        }
      ]
    },
    {
      "cell_type": "markdown",
      "source": [
        "# Lasso Regression"
      ],
      "metadata": {
        "id": "hduphkv3oNq_"
      }
    },
    {
      "cell_type": "code",
      "source": [
        "lasso_regression = Lasso(alpha = 2.0)\n",
        "lasso_regression.fit(train_selected_X, train_y)"
      ],
      "metadata": {
        "colab": {
          "base_uri": "https://localhost:8080/"
        },
        "id": "g_Upyn2uoQmq",
        "outputId": "906611be-092b-4671-e85d-d9ccca38518f"
      },
      "execution_count": null,
      "outputs": [
        {
          "output_type": "execute_result",
          "data": {
            "text/plain": [
              "Lasso(alpha=2.0)"
            ]
          },
          "metadata": {},
          "execution_count": 4233
        }
      ]
    },
    {
      "cell_type": "code",
      "source": [
        "lasso_regression.coef_"
      ],
      "metadata": {
        "colab": {
          "base_uri": "https://localhost:8080/"
        },
        "id": "kGOtjPh3oVMP",
        "outputId": "b6115494-c40b-4934-b556-ea6c17beb03d"
      },
      "execution_count": null,
      "outputs": [
        {
          "output_type": "execute_result",
          "data": {
            "text/plain": [
              "array([ 0.,  0.,  0.,  0.,  0.,  0., -0.,  0.])"
            ]
          },
          "metadata": {},
          "execution_count": 4234
        }
      ]
    },
    {
      "cell_type": "code",
      "source": [
        "lasso_regression.intercept_"
      ],
      "metadata": {
        "colab": {
          "base_uri": "https://localhost:8080/"
        },
        "id": "gMkPk3VuoW2q",
        "outputId": "5291f7a0-91c3-452e-800f-b8c670e78971"
      },
      "execution_count": null,
      "outputs": [
        {
          "output_type": "execute_result",
          "data": {
            "text/plain": [
              "4.435841802867383"
            ]
          },
          "metadata": {},
          "execution_count": 4235
        }
      ]
    },
    {
      "cell_type": "code",
      "source": [
        "y_predicted_lasso = lasso_regression.predict(test_selected_X)"
      ],
      "metadata": {
        "id": "HU7t05EuoYwJ"
      },
      "execution_count": null,
      "outputs": []
    },
    {
      "cell_type": "code",
      "source": [
        "print('Mean Squared Error: ', mean_squared_error(test_y, y_predicted_lasso), '\\n')\n",
        "print('Mean Absolute Error: ', mean_absolute_error(test_y, y_predicted_lasso), '\\n')\n",
        "print('Root Mean Squared Error: ', np.sqrt(mean_squared_error(test_y, y_predicted_lasso)))"
      ],
      "metadata": {
        "colab": {
          "base_uri": "https://localhost:8080/"
        },
        "id": "vsjQ8g5kodVD",
        "outputId": "fbf523a6-7950-42f9-f729-048178513d27"
      },
      "execution_count": null,
      "outputs": [
        {
          "output_type": "stream",
          "name": "stdout",
          "text": [
            "Mean Squared Error:  41.093660018288 \n",
            "\n",
            "Mean Absolute Error:  4.860481701228878 \n",
            "\n",
            "Root Mean Squared Error:  6.41043368410344\n"
          ]
        }
      ]
    },
    {
      "cell_type": "markdown",
      "source": [
        "# Decision Tree Regressor"
      ],
      "metadata": {
        "id": "IXiGrgRP-RaG"
      }
    },
    {
      "cell_type": "code",
      "source": [
        "from sklearn.tree import DecisionTreeRegressor\n",
        "dt_regressor = DecisionTreeRegressor(max_depth=6, max_features='log2')"
      ],
      "metadata": {
        "id": "Fra39huW-sDf"
      },
      "execution_count": null,
      "outputs": []
    },
    {
      "cell_type": "code",
      "source": [
        "dt_regressor.fit(train_selected_dt_X, train_y)"
      ],
      "metadata": {
        "id": "DPyC6az7_N9v",
        "outputId": "f12dbd5c-8f11-4c74-af72-1305a7fe6f8f",
        "colab": {
          "base_uri": "https://localhost:8080/"
        }
      },
      "execution_count": null,
      "outputs": [
        {
          "output_type": "execute_result",
          "data": {
            "text/plain": [
              "DecisionTreeRegressor(max_depth=6, max_features='log2')"
            ]
          },
          "metadata": {},
          "execution_count": 4239
        }
      ]
    },
    {
      "cell_type": "code",
      "source": [
        "y_pred_dt = dt_regressor.predict(test_selected_dt_X)"
      ],
      "metadata": {
        "id": "tiDZlNlPAA5g"
      },
      "execution_count": null,
      "outputs": []
    },
    {
      "cell_type": "code",
      "source": [
        "print('Mean Squared Error: ', mean_squared_error(test_y, y_pred_dt), '\\n')\n",
        "print('Mean Absolute Error: ', mean_absolute_error(test_y, y_pred_dt), '\\n')\n",
        "print('Root Mean Squared Error: ', np.sqrt(mean_squared_error(test_y, y_pred_dt)))"
      ],
      "metadata": {
        "id": "HdcKIgpbAJin",
        "outputId": "b1bddf7d-c387-4c90-8e5f-8b099146d772",
        "colab": {
          "base_uri": "https://localhost:8080/"
        }
      },
      "execution_count": null,
      "outputs": [
        {
          "output_type": "stream",
          "name": "stdout",
          "text": [
            "Mean Squared Error:  17.364328678946094 \n",
            "\n",
            "Mean Absolute Error:  2.5770589302568223 \n",
            "\n",
            "Root Mean Squared Error:  4.167052756918983\n"
          ]
        }
      ]
    },
    {
      "cell_type": "code",
      "source": [
        "dt_regressor2 = DecisionTreeRegressor(max_depth=3)"
      ],
      "metadata": {
        "id": "qaasi_VtA_uQ"
      },
      "execution_count": null,
      "outputs": []
    },
    {
      "cell_type": "code",
      "source": [
        "dt_regressor2.fit(train_selected_dt_X, train_y)"
      ],
      "metadata": {
        "id": "x4HGEs0iA7Dd",
        "outputId": "8e708876-b8b1-4947-9bd9-c0d6415d81a0",
        "colab": {
          "base_uri": "https://localhost:8080/"
        }
      },
      "execution_count": null,
      "outputs": [
        {
          "output_type": "execute_result",
          "data": {
            "text/plain": [
              "DecisionTreeRegressor(max_depth=3)"
            ]
          },
          "metadata": {},
          "execution_count": 4243
        }
      ]
    },
    {
      "cell_type": "code",
      "source": [
        "y_pred_dt = dt_regressor2.predict(test_selected_dt_X)"
      ],
      "metadata": {
        "id": "29cSV6mlBCTM"
      },
      "execution_count": null,
      "outputs": []
    },
    {
      "cell_type": "code",
      "source": [
        "print('Mean Squared Error: ', mean_squared_error(test_y, y_pred_dt), '\\n')\n",
        "print('Mean Absolute Error: ', mean_absolute_error(test_y, y_pred_dt), '\\n')\n",
        "print('Root Mean Squared Error: ', np.sqrt(mean_squared_error(test_y, y_pred_dt)))"
      ],
      "metadata": {
        "id": "IbrmdX9bBEe3",
        "outputId": "de9706bb-7fbb-4867-c2e5-46eef965c592",
        "colab": {
          "base_uri": "https://localhost:8080/"
        }
      },
      "execution_count": null,
      "outputs": [
        {
          "output_type": "stream",
          "name": "stdout",
          "text": [
            "Mean Squared Error:  22.12672321417289 \n",
            "\n",
            "Mean Absolute Error:  2.8057235292678677 \n",
            "\n",
            "Root Mean Squared Error:  4.7039051025900696\n"
          ]
        }
      ]
    },
    {
      "cell_type": "markdown",
      "source": [
        "# Regression with Deep Learning"
      ],
      "metadata": {
        "id": "8qx9HbG5YLtY"
      }
    },
    {
      "cell_type": "code",
      "source": [
        "import tensorflow as tf\n",
        "from tensorflow import keras\n",
        "from sklearn.model_selection import train_test_split\n",
        "\n",
        "from tensorflow.keras.models import Sequential\n",
        "from tensorflow.keras.layers import Activation, Dense, BatchNormalization, Dropout\n",
        "from tensorflow.keras import optimizers\n",
        "import matplotlib.pyplot as plt\n",
        "import numpy as np \n",
        "import pandas as pd\n",
        "import seaborn as sns"
      ],
      "metadata": {
        "id": "1QLMO3w3YfuE"
      },
      "execution_count": null,
      "outputs": []
    },
    {
      "cell_type": "markdown",
      "source": [
        "# Neural Network #1\n",
        "\n",
        "*   Input Layer - 42 input features\n",
        "*   Hidden Layer 1 - 15 neurons, relu activation\n",
        "*   Hidden Layer 2 - 15 neurons, tanh activation\n",
        "*   Hidden Layer 3 - 15 neurons, relu activation\n",
        "*   Output Layer - 1 predicted salary\n",
        "\n",
        "\n",
        "# Performance\n",
        "*   Final MAE : 2.2802\n",
        "*   Final Val_MAE: 2.6057"
      ],
      "metadata": {
        "id": "z6NGnkRRv8f4"
      }
    },
    {
      "cell_type": "code",
      "source": [
        "tf.random.set_seed(5)\n",
        "\n",
        "network1 = tf.keras.models.Sequential()\n",
        "network1.add(tf.keras.Input(shape=(42,)))\n",
        "network1.add(tf.keras.layers.Dense(15, activation='relu'))\n",
        "network1.add(tf.keras.layers.Dense(15, activation='tanh'))\n",
        "network1.add(tf.keras.layers.Dense(15, activation='relu'))\n",
        "network1.add(tf.keras.layers.Dense(1))\n",
        "\n",
        "network1.compile(\n",
        "   loss=tf.keras.losses.MeanAbsoluteError(),\n",
        "   optimizer=tf.keras.optimizers.Adam(),\n",
        "   metrics='mean_absolute_error')\n",
        "\n",
        "history1 = network1.fit(train_features, train_target, epochs=75,validation_data=(test_features,test_target))"
      ],
      "metadata": {
        "colab": {
          "base_uri": "https://localhost:8080/"
        },
        "id": "cbNBt3BSo391",
        "outputId": "f025bc47-4146-488e-8582-03f0f9d96733"
      },
      "execution_count": null,
      "outputs": [
        {
          "output_type": "stream",
          "name": "stdout",
          "text": [
            "Epoch 1/75\n",
            "9/9 [==============================] - 1s 27ms/step - loss: 4.2449 - mean_absolute_error: 4.2449 - val_loss: 4.2371 - val_mean_absolute_error: 4.2371\n",
            "Epoch 2/75\n",
            "9/9 [==============================] - 0s 7ms/step - loss: 3.9635 - mean_absolute_error: 3.9635 - val_loss: 4.1108 - val_mean_absolute_error: 4.1108\n",
            "Epoch 3/75\n",
            "9/9 [==============================] - 0s 5ms/step - loss: 3.8790 - mean_absolute_error: 3.8790 - val_loss: 4.0657 - val_mean_absolute_error: 4.0657\n",
            "Epoch 4/75\n",
            "9/9 [==============================] - 0s 5ms/step - loss: 3.8497 - mean_absolute_error: 3.8497 - val_loss: 4.0385 - val_mean_absolute_error: 4.0385\n",
            "Epoch 5/75\n",
            "9/9 [==============================] - 0s 8ms/step - loss: 3.8255 - mean_absolute_error: 3.8255 - val_loss: 4.0124 - val_mean_absolute_error: 4.0124\n",
            "Epoch 6/75\n",
            "9/9 [==============================] - 0s 8ms/step - loss: 3.7976 - mean_absolute_error: 3.7976 - val_loss: 3.9838 - val_mean_absolute_error: 3.9838\n",
            "Epoch 7/75\n",
            "9/9 [==============================] - 0s 5ms/step - loss: 3.7672 - mean_absolute_error: 3.7672 - val_loss: 3.9517 - val_mean_absolute_error: 3.9517\n",
            "Epoch 8/75\n",
            "9/9 [==============================] - 0s 7ms/step - loss: 3.7358 - mean_absolute_error: 3.7358 - val_loss: 3.9151 - val_mean_absolute_error: 3.9151\n",
            "Epoch 9/75\n",
            "9/9 [==============================] - 0s 5ms/step - loss: 3.7016 - mean_absolute_error: 3.7016 - val_loss: 3.8736 - val_mean_absolute_error: 3.8736\n",
            "Epoch 10/75\n",
            "9/9 [==============================] - 0s 6ms/step - loss: 3.6629 - mean_absolute_error: 3.6629 - val_loss: 3.8243 - val_mean_absolute_error: 3.8243\n",
            "Epoch 11/75\n",
            "9/9 [==============================] - 0s 7ms/step - loss: 3.6241 - mean_absolute_error: 3.6241 - val_loss: 3.7810 - val_mean_absolute_error: 3.7810\n",
            "Epoch 12/75\n",
            "9/9 [==============================] - 0s 5ms/step - loss: 3.5890 - mean_absolute_error: 3.5890 - val_loss: 3.7410 - val_mean_absolute_error: 3.7410\n",
            "Epoch 13/75\n",
            "9/9 [==============================] - 0s 8ms/step - loss: 3.5542 - mean_absolute_error: 3.5542 - val_loss: 3.7077 - val_mean_absolute_error: 3.7077\n",
            "Epoch 14/75\n",
            "9/9 [==============================] - 0s 6ms/step - loss: 3.5184 - mean_absolute_error: 3.5184 - val_loss: 3.6834 - val_mean_absolute_error: 3.6834\n",
            "Epoch 15/75\n",
            "9/9 [==============================] - 0s 6ms/step - loss: 3.4919 - mean_absolute_error: 3.4919 - val_loss: 3.6584 - val_mean_absolute_error: 3.6584\n",
            "Epoch 16/75\n",
            "9/9 [==============================] - 0s 7ms/step - loss: 3.4635 - mean_absolute_error: 3.4635 - val_loss: 3.6268 - val_mean_absolute_error: 3.6268\n",
            "Epoch 17/75\n",
            "9/9 [==============================] - 0s 7ms/step - loss: 3.4328 - mean_absolute_error: 3.4328 - val_loss: 3.5990 - val_mean_absolute_error: 3.5990\n",
            "Epoch 18/75\n",
            "9/9 [==============================] - 0s 5ms/step - loss: 3.4034 - mean_absolute_error: 3.4034 - val_loss: 3.5695 - val_mean_absolute_error: 3.5695\n",
            "Epoch 19/75\n",
            "9/9 [==============================] - 0s 5ms/step - loss: 3.3767 - mean_absolute_error: 3.3767 - val_loss: 3.5439 - val_mean_absolute_error: 3.5439\n",
            "Epoch 20/75\n",
            "9/9 [==============================] - 0s 6ms/step - loss: 3.3521 - mean_absolute_error: 3.3521 - val_loss: 3.5203 - val_mean_absolute_error: 3.5203\n",
            "Epoch 21/75\n",
            "9/9 [==============================] - 0s 5ms/step - loss: 3.3350 - mean_absolute_error: 3.3350 - val_loss: 3.4927 - val_mean_absolute_error: 3.4927\n",
            "Epoch 22/75\n",
            "9/9 [==============================] - 0s 8ms/step - loss: 3.2983 - mean_absolute_error: 3.2983 - val_loss: 3.4729 - val_mean_absolute_error: 3.4729\n",
            "Epoch 23/75\n",
            "9/9 [==============================] - 0s 5ms/step - loss: 3.2763 - mean_absolute_error: 3.2763 - val_loss: 3.4509 - val_mean_absolute_error: 3.4509\n",
            "Epoch 24/75\n",
            "9/9 [==============================] - 0s 8ms/step - loss: 3.2533 - mean_absolute_error: 3.2533 - val_loss: 3.4323 - val_mean_absolute_error: 3.4323\n",
            "Epoch 25/75\n",
            "9/9 [==============================] - 0s 7ms/step - loss: 3.2244 - mean_absolute_error: 3.2244 - val_loss: 3.4067 - val_mean_absolute_error: 3.4067\n",
            "Epoch 26/75\n",
            "9/9 [==============================] - 0s 7ms/step - loss: 3.1958 - mean_absolute_error: 3.1958 - val_loss: 3.3902 - val_mean_absolute_error: 3.3902\n",
            "Epoch 27/75\n",
            "9/9 [==============================] - 0s 5ms/step - loss: 3.1787 - mean_absolute_error: 3.1787 - val_loss: 3.3735 - val_mean_absolute_error: 3.3735\n",
            "Epoch 28/75\n",
            "9/9 [==============================] - 0s 8ms/step - loss: 3.1558 - mean_absolute_error: 3.1558 - val_loss: 3.3384 - val_mean_absolute_error: 3.3384\n",
            "Epoch 29/75\n",
            "9/9 [==============================] - 0s 5ms/step - loss: 3.1212 - mean_absolute_error: 3.1212 - val_loss: 3.3561 - val_mean_absolute_error: 3.3561\n",
            "Epoch 30/75\n",
            "9/9 [==============================] - 0s 8ms/step - loss: 3.1044 - mean_absolute_error: 3.1044 - val_loss: 3.3244 - val_mean_absolute_error: 3.3244\n",
            "Epoch 31/75\n",
            "9/9 [==============================] - 0s 5ms/step - loss: 3.0923 - mean_absolute_error: 3.0923 - val_loss: 3.2777 - val_mean_absolute_error: 3.2777\n",
            "Epoch 32/75\n",
            "9/9 [==============================] - 0s 9ms/step - loss: 3.0441 - mean_absolute_error: 3.0441 - val_loss: 3.3289 - val_mean_absolute_error: 3.3289\n",
            "Epoch 33/75\n",
            "9/9 [==============================] - 0s 9ms/step - loss: 3.0237 - mean_absolute_error: 3.0237 - val_loss: 3.2574 - val_mean_absolute_error: 3.2574\n",
            "Epoch 34/75\n",
            "9/9 [==============================] - 0s 8ms/step - loss: 3.0135 - mean_absolute_error: 3.0135 - val_loss: 3.2122 - val_mean_absolute_error: 3.2122\n",
            "Epoch 35/75\n",
            "9/9 [==============================] - 0s 7ms/step - loss: 3.0010 - mean_absolute_error: 3.0010 - val_loss: 3.2730 - val_mean_absolute_error: 3.2730\n",
            "Epoch 36/75\n",
            "9/9 [==============================] - 0s 6ms/step - loss: 2.9712 - mean_absolute_error: 2.9712 - val_loss: 3.1426 - val_mean_absolute_error: 3.1426\n",
            "Epoch 37/75\n",
            "9/9 [==============================] - 0s 6ms/step - loss: 2.9292 - mean_absolute_error: 2.9292 - val_loss: 3.2073 - val_mean_absolute_error: 3.2073\n",
            "Epoch 38/75\n",
            "9/9 [==============================] - 0s 8ms/step - loss: 2.9085 - mean_absolute_error: 2.9085 - val_loss: 3.1705 - val_mean_absolute_error: 3.1705\n",
            "Epoch 39/75\n",
            "9/9 [==============================] - 0s 8ms/step - loss: 2.8776 - mean_absolute_error: 2.8776 - val_loss: 3.1176 - val_mean_absolute_error: 3.1176\n",
            "Epoch 40/75\n",
            "9/9 [==============================] - 0s 6ms/step - loss: 2.8555 - mean_absolute_error: 2.8555 - val_loss: 3.1158 - val_mean_absolute_error: 3.1158\n",
            "Epoch 41/75\n",
            "9/9 [==============================] - 0s 8ms/step - loss: 2.8348 - mean_absolute_error: 2.8348 - val_loss: 3.0838 - val_mean_absolute_error: 3.0838\n",
            "Epoch 42/75\n",
            "9/9 [==============================] - 0s 5ms/step - loss: 2.8086 - mean_absolute_error: 2.8086 - val_loss: 3.0347 - val_mean_absolute_error: 3.0347\n",
            "Epoch 43/75\n",
            "9/9 [==============================] - 0s 7ms/step - loss: 2.8277 - mean_absolute_error: 2.8277 - val_loss: 3.0354 - val_mean_absolute_error: 3.0354\n",
            "Epoch 44/75\n",
            "9/9 [==============================] - 0s 6ms/step - loss: 2.8024 - mean_absolute_error: 2.8024 - val_loss: 2.9817 - val_mean_absolute_error: 2.9817\n",
            "Epoch 45/75\n",
            "9/9 [==============================] - 0s 8ms/step - loss: 2.7646 - mean_absolute_error: 2.7646 - val_loss: 3.0071 - val_mean_absolute_error: 3.0071\n",
            "Epoch 46/75\n",
            "9/9 [==============================] - 0s 7ms/step - loss: 2.7358 - mean_absolute_error: 2.7358 - val_loss: 2.9551 - val_mean_absolute_error: 2.9551\n",
            "Epoch 47/75\n",
            "9/9 [==============================] - 0s 8ms/step - loss: 2.7149 - mean_absolute_error: 2.7149 - val_loss: 2.9816 - val_mean_absolute_error: 2.9816\n",
            "Epoch 48/75\n",
            "9/9 [==============================] - 0s 7ms/step - loss: 2.7026 - mean_absolute_error: 2.7026 - val_loss: 2.9191 - val_mean_absolute_error: 2.9191\n",
            "Epoch 49/75\n",
            "9/9 [==============================] - 0s 7ms/step - loss: 2.6818 - mean_absolute_error: 2.6818 - val_loss: 2.9097 - val_mean_absolute_error: 2.9097\n",
            "Epoch 50/75\n",
            "9/9 [==============================] - 0s 7ms/step - loss: 2.6670 - mean_absolute_error: 2.6670 - val_loss: 2.9090 - val_mean_absolute_error: 2.9090\n",
            "Epoch 51/75\n",
            "9/9 [==============================] - 0s 8ms/step - loss: 2.6433 - mean_absolute_error: 2.6433 - val_loss: 2.9252 - val_mean_absolute_error: 2.9252\n",
            "Epoch 52/75\n",
            "9/9 [==============================] - 0s 5ms/step - loss: 2.6351 - mean_absolute_error: 2.6351 - val_loss: 2.8219 - val_mean_absolute_error: 2.8219\n",
            "Epoch 53/75\n",
            "9/9 [==============================] - 0s 8ms/step - loss: 2.6204 - mean_absolute_error: 2.6204 - val_loss: 2.8577 - val_mean_absolute_error: 2.8577\n",
            "Epoch 54/75\n",
            "9/9 [==============================] - 0s 8ms/step - loss: 2.6160 - mean_absolute_error: 2.6160 - val_loss: 2.8928 - val_mean_absolute_error: 2.8928\n",
            "Epoch 55/75\n",
            "9/9 [==============================] - 0s 8ms/step - loss: 2.5963 - mean_absolute_error: 2.5963 - val_loss: 2.8088 - val_mean_absolute_error: 2.8088\n",
            "Epoch 56/75\n",
            "9/9 [==============================] - 0s 5ms/step - loss: 2.5637 - mean_absolute_error: 2.5637 - val_loss: 2.8347 - val_mean_absolute_error: 2.8347\n",
            "Epoch 57/75\n",
            "9/9 [==============================] - 0s 5ms/step - loss: 2.5437 - mean_absolute_error: 2.5437 - val_loss: 2.7830 - val_mean_absolute_error: 2.7830\n",
            "Epoch 58/75\n",
            "9/9 [==============================] - 0s 6ms/step - loss: 2.5201 - mean_absolute_error: 2.5201 - val_loss: 2.8008 - val_mean_absolute_error: 2.8008\n",
            "Epoch 59/75\n",
            "9/9 [==============================] - 0s 7ms/step - loss: 2.5027 - mean_absolute_error: 2.5027 - val_loss: 2.7643 - val_mean_absolute_error: 2.7643\n",
            "Epoch 60/75\n",
            "9/9 [==============================] - 0s 5ms/step - loss: 2.4998 - mean_absolute_error: 2.4998 - val_loss: 2.7362 - val_mean_absolute_error: 2.7362\n",
            "Epoch 61/75\n",
            "9/9 [==============================] - 0s 5ms/step - loss: 2.4630 - mean_absolute_error: 2.4630 - val_loss: 2.8120 - val_mean_absolute_error: 2.8120\n",
            "Epoch 62/75\n",
            "9/9 [==============================] - 0s 7ms/step - loss: 2.4786 - mean_absolute_error: 2.4786 - val_loss: 2.7348 - val_mean_absolute_error: 2.7348\n",
            "Epoch 63/75\n",
            "9/9 [==============================] - 0s 6ms/step - loss: 2.4532 - mean_absolute_error: 2.4532 - val_loss: 2.7710 - val_mean_absolute_error: 2.7710\n",
            "Epoch 64/75\n",
            "9/9 [==============================] - 0s 8ms/step - loss: 2.4325 - mean_absolute_error: 2.4325 - val_loss: 2.7324 - val_mean_absolute_error: 2.7324\n",
            "Epoch 65/75\n",
            "9/9 [==============================] - 0s 6ms/step - loss: 2.4128 - mean_absolute_error: 2.4128 - val_loss: 2.7380 - val_mean_absolute_error: 2.7380\n",
            "Epoch 66/75\n",
            "9/9 [==============================] - 0s 6ms/step - loss: 2.3893 - mean_absolute_error: 2.3893 - val_loss: 2.6704 - val_mean_absolute_error: 2.6704\n",
            "Epoch 67/75\n",
            "9/9 [==============================] - 0s 8ms/step - loss: 2.3736 - mean_absolute_error: 2.3736 - val_loss: 2.6916 - val_mean_absolute_error: 2.6916\n",
            "Epoch 68/75\n",
            "9/9 [==============================] - 0s 8ms/step - loss: 2.3672 - mean_absolute_error: 2.3672 - val_loss: 2.6848 - val_mean_absolute_error: 2.6848\n",
            "Epoch 69/75\n",
            "9/9 [==============================] - 0s 7ms/step - loss: 2.3544 - mean_absolute_error: 2.3544 - val_loss: 2.6694 - val_mean_absolute_error: 2.6694\n",
            "Epoch 70/75\n",
            "9/9 [==============================] - 0s 6ms/step - loss: 2.3345 - mean_absolute_error: 2.3345 - val_loss: 2.6476 - val_mean_absolute_error: 2.6476\n",
            "Epoch 71/75\n",
            "9/9 [==============================] - 0s 7ms/step - loss: 2.3224 - mean_absolute_error: 2.3224 - val_loss: 2.6571 - val_mean_absolute_error: 2.6571\n",
            "Epoch 72/75\n",
            "9/9 [==============================] - 0s 7ms/step - loss: 2.3035 - mean_absolute_error: 2.3035 - val_loss: 2.6103 - val_mean_absolute_error: 2.6103\n",
            "Epoch 73/75\n",
            "9/9 [==============================] - 0s 5ms/step - loss: 2.3016 - mean_absolute_error: 2.3016 - val_loss: 2.6098 - val_mean_absolute_error: 2.6098\n",
            "Epoch 74/75\n",
            "9/9 [==============================] - 0s 5ms/step - loss: 2.2914 - mean_absolute_error: 2.2914 - val_loss: 2.5111 - val_mean_absolute_error: 2.5111\n",
            "Epoch 75/75\n",
            "9/9 [==============================] - 0s 6ms/step - loss: 2.2802 - mean_absolute_error: 2.2802 - val_loss: 2.6057 - val_mean_absolute_error: 2.6057\n"
          ]
        }
      ]
    },
    {
      "cell_type": "code",
      "source": [
        "from matplotlib import pyplot as plt\n",
        "plt.plot(history1.history['mean_absolute_error'])\n",
        "plt.plot(history1.history['val_mean_absolute_error'])\n",
        "plt.title('Model Mean Absolute Error (MAE)')\n",
        "plt.ylabel('MAE')\n",
        "plt.xlabel('Epoch')\n",
        "plt.legend(['Train', 'Cross-Validation'], loc='upper right')\n",
        "plt.show()"
      ],
      "metadata": {
        "colab": {
          "base_uri": "https://localhost:8080/",
          "height": 295
        },
        "id": "lxzvh8YWpZAH",
        "outputId": "7afee216-eacb-4646-a9c2-a8125dbf9aab"
      },
      "execution_count": null,
      "outputs": [
        {
          "output_type": "display_data",
          "data": {
            "text/plain": [
              "<Figure size 432x288 with 1 Axes>"
            ],
            "image/png": "[encoded data removed]"
          },
          "metadata": {
            "needs_background": "light"
          }
        }
      ]
    },
    {
      "cell_type": "markdown",
      "source": [
        "# Neural Network #2\n",
        "\n",
        "*   Input Layer - 42 input features\n",
        "*   Hidden Layer 1 - 15 neurons, relu activation\n",
        "*   Hidden Layer 2 - 15 neurons, relu activation\n",
        "*   Hidden Layer 3 - 15 neurons, relu activation\n",
        "*   Output Layer - 1 predicted salary\n",
        "\n",
        "\n",
        "# Performance\n",
        "*   Final MAE : 2.3557 \n",
        "*   Final Val_MAE: 2.4179"
      ],
      "metadata": {
        "id": "zMuKXlA6w_sE"
      }
    },
    {
      "cell_type": "code",
      "source": [
        "tf.random.set_seed(5)\n",
        "\n",
        "network2 = tf.keras.models.Sequential()\n",
        "network2.add(tf.keras.Input(shape=(42,)))\n",
        "network2.add(tf.keras.layers.Dense(15, activation='relu'))\n",
        "network2.add(tf.keras.layers.Dense(15, activation='relu'))\n",
        "network2.add(tf.keras.layers.Dense(15, activation='relu'))\n",
        "network2.add(tf.keras.layers.Dense(1))\n",
        "\n",
        "network2.compile(\n",
        "   loss=tf.keras.losses.MeanAbsoluteError(),\n",
        "   optimizer=tf.keras.optimizers.Adam(),\n",
        "   metrics='mean_absolute_error')\n",
        "\n",
        "history2 = network2.fit(train_features, train_target, epochs=77,validation_data=(test_features,test_target))"
      ],
      "metadata": {
        "colab": {
          "base_uri": "https://localhost:8080/"
        },
        "id": "aaYVvJHvqVGG",
        "outputId": "d6944d74-ca73-44d9-a67b-8f1a91074b16"
      },
      "execution_count": null,
      "outputs": [
        {
          "output_type": "stream",
          "name": "stdout",
          "text": [
            "Epoch 1/77\n",
            "9/9 [==============================] - 1s 25ms/step - loss: 4.3053 - mean_absolute_error: 4.3053 - val_loss: 4.3583 - val_mean_absolute_error: 4.3583\n",
            "Epoch 2/77\n",
            "9/9 [==============================] - 0s 5ms/step - loss: 4.0744 - mean_absolute_error: 4.0744 - val_loss: 4.1847 - val_mean_absolute_error: 4.1847\n",
            "Epoch 3/77\n",
            "9/9 [==============================] - 0s 7ms/step - loss: 3.9430 - mean_absolute_error: 3.9430 - val_loss: 4.1016 - val_mean_absolute_error: 4.1016\n",
            "Epoch 4/77\n",
            "9/9 [==============================] - 0s 5ms/step - loss: 3.8760 - mean_absolute_error: 3.8760 - val_loss: 4.0479 - val_mean_absolute_error: 4.0479\n",
            "Epoch 5/77\n",
            "9/9 [==============================] - 0s 8ms/step - loss: 3.8488 - mean_absolute_error: 3.8488 - val_loss: 4.0063 - val_mean_absolute_error: 4.0063\n",
            "Epoch 6/77\n",
            "9/9 [==============================] - 0s 6ms/step - loss: 3.8227 - mean_absolute_error: 3.8227 - val_loss: 3.9776 - val_mean_absolute_error: 3.9776\n",
            "Epoch 7/77\n",
            "9/9 [==============================] - 0s 8ms/step - loss: 3.8028 - mean_absolute_error: 3.8028 - val_loss: 3.9549 - val_mean_absolute_error: 3.9549\n",
            "Epoch 8/77\n",
            "9/9 [==============================] - 0s 6ms/step - loss: 3.7847 - mean_absolute_error: 3.7847 - val_loss: 3.9355 - val_mean_absolute_error: 3.9355\n",
            "Epoch 9/77\n",
            "9/9 [==============================] - 0s 7ms/step - loss: 3.7636 - mean_absolute_error: 3.7636 - val_loss: 3.9140 - val_mean_absolute_error: 3.9140\n",
            "Epoch 10/77\n",
            "9/9 [==============================] - 0s 5ms/step - loss: 3.7424 - mean_absolute_error: 3.7424 - val_loss: 3.8913 - val_mean_absolute_error: 3.8913\n",
            "Epoch 11/77\n",
            "9/9 [==============================] - 0s 8ms/step - loss: 3.7197 - mean_absolute_error: 3.7197 - val_loss: 3.8685 - val_mean_absolute_error: 3.8685\n",
            "Epoch 12/77\n",
            "9/9 [==============================] - 0s 5ms/step - loss: 3.6981 - mean_absolute_error: 3.6981 - val_loss: 3.8393 - val_mean_absolute_error: 3.8393\n",
            "Epoch 13/77\n",
            "9/9 [==============================] - 0s 7ms/step - loss: 3.6714 - mean_absolute_error: 3.6714 - val_loss: 3.8084 - val_mean_absolute_error: 3.8084\n",
            "Epoch 14/77\n",
            "9/9 [==============================] - 0s 5ms/step - loss: 3.6456 - mean_absolute_error: 3.6456 - val_loss: 3.7751 - val_mean_absolute_error: 3.7751\n",
            "Epoch 15/77\n",
            "9/9 [==============================] - 0s 8ms/step - loss: 3.6213 - mean_absolute_error: 3.6213 - val_loss: 3.7282 - val_mean_absolute_error: 3.7282\n",
            "Epoch 16/77\n",
            "9/9 [==============================] - 0s 5ms/step - loss: 3.5855 - mean_absolute_error: 3.5855 - val_loss: 3.6862 - val_mean_absolute_error: 3.6862\n",
            "Epoch 17/77\n",
            "9/9 [==============================] - 0s 5ms/step - loss: 3.5452 - mean_absolute_error: 3.5452 - val_loss: 3.6272 - val_mean_absolute_error: 3.6272\n",
            "Epoch 18/77\n",
            "9/9 [==============================] - 0s 5ms/step - loss: 3.5047 - mean_absolute_error: 3.5047 - val_loss: 3.5649 - val_mean_absolute_error: 3.5649\n",
            "Epoch 19/77\n",
            "9/9 [==============================] - 0s 8ms/step - loss: 3.4635 - mean_absolute_error: 3.4635 - val_loss: 3.5183 - val_mean_absolute_error: 3.5183\n",
            "Epoch 20/77\n",
            "9/9 [==============================] - 0s 6ms/step - loss: 3.4272 - mean_absolute_error: 3.4272 - val_loss: 3.4709 - val_mean_absolute_error: 3.4709\n",
            "Epoch 21/77\n",
            "9/9 [==============================] - 0s 8ms/step - loss: 3.4096 - mean_absolute_error: 3.4096 - val_loss: 3.4188 - val_mean_absolute_error: 3.4188\n",
            "Epoch 22/77\n",
            "9/9 [==============================] - 0s 7ms/step - loss: 3.3519 - mean_absolute_error: 3.3519 - val_loss: 3.3894 - val_mean_absolute_error: 3.3894\n",
            "Epoch 23/77\n",
            "9/9 [==============================] - 0s 5ms/step - loss: 3.3201 - mean_absolute_error: 3.3201 - val_loss: 3.3510 - val_mean_absolute_error: 3.3510\n",
            "Epoch 24/77\n",
            "9/9 [==============================] - 0s 7ms/step - loss: 3.2912 - mean_absolute_error: 3.2912 - val_loss: 3.2933 - val_mean_absolute_error: 3.2933\n",
            "Epoch 25/77\n",
            "9/9 [==============================] - 0s 6ms/step - loss: 3.2569 - mean_absolute_error: 3.2569 - val_loss: 3.2644 - val_mean_absolute_error: 3.2644\n",
            "Epoch 26/77\n",
            "9/9 [==============================] - 0s 5ms/step - loss: 3.2176 - mean_absolute_error: 3.2176 - val_loss: 3.2186 - val_mean_absolute_error: 3.2186\n",
            "Epoch 27/77\n",
            "9/9 [==============================] - 0s 5ms/step - loss: 3.1901 - mean_absolute_error: 3.1901 - val_loss: 3.1795 - val_mean_absolute_error: 3.1795\n",
            "Epoch 28/77\n",
            "9/9 [==============================] - 0s 7ms/step - loss: 3.1586 - mean_absolute_error: 3.1586 - val_loss: 3.1580 - val_mean_absolute_error: 3.1580\n",
            "Epoch 29/77\n",
            "9/9 [==============================] - 0s 7ms/step - loss: 3.1178 - mean_absolute_error: 3.1178 - val_loss: 3.1122 - val_mean_absolute_error: 3.1122\n",
            "Epoch 30/77\n",
            "9/9 [==============================] - 0s 5ms/step - loss: 3.1042 - mean_absolute_error: 3.1042 - val_loss: 3.0707 - val_mean_absolute_error: 3.0707\n",
            "Epoch 31/77\n",
            "9/9 [==============================] - 0s 5ms/step - loss: 3.0852 - mean_absolute_error: 3.0852 - val_loss: 3.0739 - val_mean_absolute_error: 3.0739\n",
            "Epoch 32/77\n",
            "9/9 [==============================] - 0s 8ms/step - loss: 3.0290 - mean_absolute_error: 3.0290 - val_loss: 3.0088 - val_mean_absolute_error: 3.0088\n",
            "Epoch 33/77\n",
            "9/9 [==============================] - 0s 5ms/step - loss: 3.0243 - mean_absolute_error: 3.0243 - val_loss: 2.9719 - val_mean_absolute_error: 2.9719\n",
            "Epoch 34/77\n",
            "9/9 [==============================] - 0s 6ms/step - loss: 2.9792 - mean_absolute_error: 2.9792 - val_loss: 2.9534 - val_mean_absolute_error: 2.9534\n",
            "Epoch 35/77\n",
            "9/9 [==============================] - 0s 5ms/step - loss: 2.9505 - mean_absolute_error: 2.9505 - val_loss: 2.8970 - val_mean_absolute_error: 2.8970\n",
            "Epoch 36/77\n",
            "9/9 [==============================] - 0s 6ms/step - loss: 2.9165 - mean_absolute_error: 2.9165 - val_loss: 2.8781 - val_mean_absolute_error: 2.8781\n",
            "Epoch 37/77\n",
            "9/9 [==============================] - 0s 8ms/step - loss: 2.8758 - mean_absolute_error: 2.8758 - val_loss: 2.8352 - val_mean_absolute_error: 2.8352\n",
            "Epoch 38/77\n",
            "9/9 [==============================] - 0s 8ms/step - loss: 2.8538 - mean_absolute_error: 2.8538 - val_loss: 2.8049 - val_mean_absolute_error: 2.8049\n",
            "Epoch 39/77\n",
            "9/9 [==============================] - 0s 7ms/step - loss: 2.8267 - mean_absolute_error: 2.8267 - val_loss: 2.7748 - val_mean_absolute_error: 2.7748\n",
            "Epoch 40/77\n",
            "9/9 [==============================] - 0s 8ms/step - loss: 2.8053 - mean_absolute_error: 2.8053 - val_loss: 2.7563 - val_mean_absolute_error: 2.7563\n",
            "Epoch 41/77\n",
            "9/9 [==============================] - 0s 7ms/step - loss: 2.7866 - mean_absolute_error: 2.7866 - val_loss: 2.7343 - val_mean_absolute_error: 2.7343\n",
            "Epoch 42/77\n",
            "9/9 [==============================] - 0s 5ms/step - loss: 2.7662 - mean_absolute_error: 2.7662 - val_loss: 2.7215 - val_mean_absolute_error: 2.7215\n",
            "Epoch 43/77\n",
            "9/9 [==============================] - 0s 6ms/step - loss: 2.7953 - mean_absolute_error: 2.7953 - val_loss: 2.7068 - val_mean_absolute_error: 2.7068\n",
            "Epoch 44/77\n",
            "9/9 [==============================] - 0s 5ms/step - loss: 2.7696 - mean_absolute_error: 2.7696 - val_loss: 2.7138 - val_mean_absolute_error: 2.7138\n",
            "Epoch 45/77\n",
            "9/9 [==============================] - 0s 5ms/step - loss: 2.7407 - mean_absolute_error: 2.7407 - val_loss: 2.6974 - val_mean_absolute_error: 2.6974\n",
            "Epoch 46/77\n",
            "9/9 [==============================] - 0s 8ms/step - loss: 2.7087 - mean_absolute_error: 2.7087 - val_loss: 2.6866 - val_mean_absolute_error: 2.6866\n",
            "Epoch 47/77\n",
            "9/9 [==============================] - 0s 7ms/step - loss: 2.7072 - mean_absolute_error: 2.7072 - val_loss: 2.6768 - val_mean_absolute_error: 2.6768\n",
            "Epoch 48/77\n",
            "9/9 [==============================] - 0s 8ms/step - loss: 2.6854 - mean_absolute_error: 2.6854 - val_loss: 2.6531 - val_mean_absolute_error: 2.6531\n",
            "Epoch 49/77\n",
            "9/9 [==============================] - 0s 5ms/step - loss: 2.6899 - mean_absolute_error: 2.6899 - val_loss: 2.6440 - val_mean_absolute_error: 2.6440\n",
            "Epoch 50/77\n",
            "9/9 [==============================] - 0s 7ms/step - loss: 2.6716 - mean_absolute_error: 2.6716 - val_loss: 2.6402 - val_mean_absolute_error: 2.6402\n",
            "Epoch 51/77\n",
            "9/9 [==============================] - 0s 7ms/step - loss: 2.6345 - mean_absolute_error: 2.6345 - val_loss: 2.6226 - val_mean_absolute_error: 2.6226\n",
            "Epoch 52/77\n",
            "9/9 [==============================] - 0s 7ms/step - loss: 2.6398 - mean_absolute_error: 2.6398 - val_loss: 2.6219 - val_mean_absolute_error: 2.6219\n",
            "Epoch 53/77\n",
            "9/9 [==============================] - 0s 7ms/step - loss: 2.6288 - mean_absolute_error: 2.6288 - val_loss: 2.6127 - val_mean_absolute_error: 2.6127\n",
            "Epoch 54/77\n",
            "9/9 [==============================] - 0s 7ms/step - loss: 2.6083 - mean_absolute_error: 2.6083 - val_loss: 2.5871 - val_mean_absolute_error: 2.5871\n",
            "Epoch 55/77\n",
            "9/9 [==============================] - 0s 8ms/step - loss: 2.5882 - mean_absolute_error: 2.5882 - val_loss: 2.5891 - val_mean_absolute_error: 2.5891\n",
            "Epoch 56/77\n",
            "9/9 [==============================] - 0s 5ms/step - loss: 2.5692 - mean_absolute_error: 2.5692 - val_loss: 2.5837 - val_mean_absolute_error: 2.5837\n",
            "Epoch 57/77\n",
            "9/9 [==============================] - 0s 5ms/step - loss: 2.5664 - mean_absolute_error: 2.5664 - val_loss: 2.5784 - val_mean_absolute_error: 2.5784\n",
            "Epoch 58/77\n",
            "9/9 [==============================] - 0s 6ms/step - loss: 2.5418 - mean_absolute_error: 2.5418 - val_loss: 2.5564 - val_mean_absolute_error: 2.5564\n",
            "Epoch 59/77\n",
            "9/9 [==============================] - 0s 7ms/step - loss: 2.5252 - mean_absolute_error: 2.5252 - val_loss: 2.5449 - val_mean_absolute_error: 2.5449\n",
            "Epoch 60/77\n",
            "9/9 [==============================] - 0s 6ms/step - loss: 2.5238 - mean_absolute_error: 2.5238 - val_loss: 2.5454 - val_mean_absolute_error: 2.5454\n",
            "Epoch 61/77\n",
            "9/9 [==============================] - 0s 8ms/step - loss: 2.5022 - mean_absolute_error: 2.5022 - val_loss: 2.5283 - val_mean_absolute_error: 2.5283\n",
            "Epoch 62/77\n",
            "9/9 [==============================] - 0s 7ms/step - loss: 2.4985 - mean_absolute_error: 2.4985 - val_loss: 2.5372 - val_mean_absolute_error: 2.5372\n",
            "Epoch 63/77\n",
            "9/9 [==============================] - 0s 5ms/step - loss: 2.4991 - mean_absolute_error: 2.4991 - val_loss: 2.5092 - val_mean_absolute_error: 2.5092\n",
            "Epoch 64/77\n",
            "9/9 [==============================] - 0s 5ms/step - loss: 2.4675 - mean_absolute_error: 2.4675 - val_loss: 2.5115 - val_mean_absolute_error: 2.5115\n",
            "Epoch 65/77\n",
            "9/9 [==============================] - 0s 7ms/step - loss: 2.4460 - mean_absolute_error: 2.4460 - val_loss: 2.4888 - val_mean_absolute_error: 2.4888\n",
            "Epoch 66/77\n",
            "9/9 [==============================] - 0s 8ms/step - loss: 2.4378 - mean_absolute_error: 2.4378 - val_loss: 2.4803 - val_mean_absolute_error: 2.4803\n",
            "Epoch 67/77\n",
            "9/9 [==============================] - 0s 8ms/step - loss: 2.4157 - mean_absolute_error: 2.4157 - val_loss: 2.4672 - val_mean_absolute_error: 2.4672\n",
            "Epoch 68/77\n",
            "9/9 [==============================] - 0s 7ms/step - loss: 2.3966 - mean_absolute_error: 2.3966 - val_loss: 2.4487 - val_mean_absolute_error: 2.4487\n",
            "Epoch 69/77\n",
            "9/9 [==============================] - 0s 7ms/step - loss: 2.3940 - mean_absolute_error: 2.3940 - val_loss: 2.4397 - val_mean_absolute_error: 2.4397\n",
            "Epoch 70/77\n",
            "9/9 [==============================] - 0s 7ms/step - loss: 2.3805 - mean_absolute_error: 2.3805 - val_loss: 2.4344 - val_mean_absolute_error: 2.4344\n",
            "Epoch 71/77\n",
            "9/9 [==============================] - 0s 8ms/step - loss: 2.3757 - mean_absolute_error: 2.3757 - val_loss: 2.4650 - val_mean_absolute_error: 2.4650\n",
            "Epoch 72/77\n",
            "9/9 [==============================] - 0s 5ms/step - loss: 2.3803 - mean_absolute_error: 2.3803 - val_loss: 2.4197 - val_mean_absolute_error: 2.4197\n",
            "Epoch 73/77\n",
            "9/9 [==============================] - 0s 9ms/step - loss: 2.3406 - mean_absolute_error: 2.3406 - val_loss: 2.4959 - val_mean_absolute_error: 2.4959\n",
            "Epoch 74/77\n",
            "9/9 [==============================] - 0s 7ms/step - loss: 2.3845 - mean_absolute_error: 2.3845 - val_loss: 2.4252 - val_mean_absolute_error: 2.4252\n",
            "Epoch 75/77\n",
            "9/9 [==============================] - 0s 5ms/step - loss: 2.3972 - mean_absolute_error: 2.3972 - val_loss: 2.4474 - val_mean_absolute_error: 2.4474\n",
            "Epoch 76/77\n",
            "9/9 [==============================] - 0s 7ms/step - loss: 2.3496 - mean_absolute_error: 2.3496 - val_loss: 2.4304 - val_mean_absolute_error: 2.4304\n",
            "Epoch 77/77\n",
            "9/9 [==============================] - 0s 7ms/step - loss: 2.3557 - mean_absolute_error: 2.3557 - val_loss: 2.4179 - val_mean_absolute_error: 2.4179\n"
          ]
        }
      ]
    },
    {
      "cell_type": "code",
      "source": [
        "from matplotlib import pyplot as plt\n",
        "plt.plot(history2.history['mean_absolute_error'])\n",
        "plt.plot(history2.history['val_mean_absolute_error'])\n",
        "plt.title('Model Mean Absolute Error (MAE)')\n",
        "plt.ylabel('MAE')\n",
        "plt.xlabel('Epoch')\n",
        "plt.legend(['Train', 'Cross-Validation'], loc='upper right')\n",
        "plt.show()"
      ],
      "metadata": {
        "colab": {
          "base_uri": "https://localhost:8080/",
          "height": 295
        },
        "id": "ovwb5HpDqgpE",
        "outputId": "017241ee-fa6d-4ffb-da30-06cfee68881f"
      },
      "execution_count": null,
      "outputs": [
        {
          "output_type": "display_data",
          "data": {
            "text/plain": [
              "<Figure size 432x288 with 1 Axes>"
            ],
            "image/png": "[encoded data removed]"
          },
          "metadata": {
            "needs_background": "light"
          }
        }
      ]
    },
    {
      "cell_type": "markdown",
      "source": [
        "# Trying the neural network feeding in only the selected features we chose for our linear and ridge models"
      ],
      "metadata": {
        "id": "gZrP5GiYvn9U"
      }
    },
    {
      "cell_type": "markdown",
      "source": [
        "# Neural Network #3\n",
        "\n",
        "*   Input Layer - 8 selected input features\n",
        "*   Hidden Layer 1 - 20 neurons, relu activation\n",
        "*   Hidden Layer 2 - 20 neurons, relu activation\n",
        "*   Hidden Layer 3 - 20 neurons, relu activation\n",
        "*   Hidden Layer 4 - 20 neurons, relu activation\n",
        "*   Output Layer - 1 predicted salary\n",
        "\n",
        "# Performance\n",
        "*   Final MAE : 2.5184\n",
        "*   Final Val_MAE: 2.5123"
      ],
      "metadata": {
        "id": "YwafSmqVv7DK"
      }
    },
    {
      "cell_type": "code",
      "source": [
        "tf.random.set_seed(5)\n",
        "\n",
        "network3 = tf.keras.models.Sequential()\n",
        "network3.add(tf.keras.Input(shape=(8,)))\n",
        "network3.add(tf.keras.layers.Dense(20, activation='relu'))\n",
        "network3.add(tf.keras.layers.Dense(20, activation='relu'))\n",
        "network3.add(tf.keras.layers.Dense(20, activation='relu'))\n",
        "network3.add(tf.keras.layers.Dense(20, activation='relu'))\n",
        "network3.add(tf.keras.layers.Dense(1))\n",
        "\n",
        "network3.compile(\n",
        "   loss=tf.keras.losses.MeanAbsoluteError(),\n",
        "   optimizer=tf.keras.optimizers.Adam(),\n",
        "   metrics='mean_absolute_error')\n",
        "\n",
        "history3 = network3.fit(train_selected_X, train_target, epochs=80,validation_data=(test_selected_X,test_target))"
      ],
      "metadata": {
        "colab": {
          "base_uri": "https://localhost:8080/"
        },
        "id": "lDEz4qoSr3IC",
        "outputId": "3187b9ed-a694-4078-a4be-0358905372d3"
      },
      "execution_count": null,
      "outputs": [
        {
          "output_type": "stream",
          "name": "stdout",
          "text": [
            "Epoch 1/80\n",
            "9/9 [==============================] - 1s 24ms/step - loss: 4.4178 - mean_absolute_error: 4.4178 - val_loss: 4.5165 - val_mean_absolute_error: 4.5165\n",
            "Epoch 2/80\n",
            "9/9 [==============================] - 0s 5ms/step - loss: 4.2579 - mean_absolute_error: 4.2579 - val_loss: 4.3495 - val_mean_absolute_error: 4.3495\n",
            "Epoch 3/80\n",
            "9/9 [==============================] - 0s 7ms/step - loss: 4.0575 - mean_absolute_error: 4.0575 - val_loss: 4.1795 - val_mean_absolute_error: 4.1795\n",
            "Epoch 4/80\n",
            "9/9 [==============================] - 0s 7ms/step - loss: 3.9321 - mean_absolute_error: 3.9321 - val_loss: 4.0900 - val_mean_absolute_error: 4.0900\n",
            "Epoch 5/80\n",
            "9/9 [==============================] - 0s 6ms/step - loss: 3.8756 - mean_absolute_error: 3.8756 - val_loss: 4.0239 - val_mean_absolute_error: 4.0239\n",
            "Epoch 6/80\n",
            "9/9 [==============================] - 0s 5ms/step - loss: 3.8159 - mean_absolute_error: 3.8159 - val_loss: 3.9664 - val_mean_absolute_error: 3.9664\n",
            "Epoch 7/80\n",
            "9/9 [==============================] - 0s 5ms/step - loss: 3.7647 - mean_absolute_error: 3.7647 - val_loss: 3.9085 - val_mean_absolute_error: 3.9085\n",
            "Epoch 8/80\n",
            "9/9 [==============================] - 0s 7ms/step - loss: 3.7078 - mean_absolute_error: 3.7078 - val_loss: 3.8444 - val_mean_absolute_error: 3.8444\n",
            "Epoch 9/80\n",
            "9/9 [==============================] - 0s 6ms/step - loss: 3.6416 - mean_absolute_error: 3.6416 - val_loss: 3.7698 - val_mean_absolute_error: 3.7698\n",
            "Epoch 10/80\n",
            "9/9 [==============================] - 0s 7ms/step - loss: 3.5632 - mean_absolute_error: 3.5632 - val_loss: 3.7019 - val_mean_absolute_error: 3.7019\n",
            "Epoch 11/80\n",
            "9/9 [==============================] - 0s 5ms/step - loss: 3.4883 - mean_absolute_error: 3.4883 - val_loss: 3.6324 - val_mean_absolute_error: 3.6324\n",
            "Epoch 12/80\n",
            "9/9 [==============================] - 0s 8ms/step - loss: 3.4341 - mean_absolute_error: 3.4341 - val_loss: 3.5692 - val_mean_absolute_error: 3.5692\n",
            "Epoch 13/80\n",
            "9/9 [==============================] - 0s 5ms/step - loss: 3.3784 - mean_absolute_error: 3.3784 - val_loss: 3.5174 - val_mean_absolute_error: 3.5174\n",
            "Epoch 14/80\n",
            "9/9 [==============================] - 0s 5ms/step - loss: 3.3336 - mean_absolute_error: 3.3336 - val_loss: 3.4644 - val_mean_absolute_error: 3.4644\n",
            "Epoch 15/80\n",
            "9/9 [==============================] - 0s 6ms/step - loss: 3.3004 - mean_absolute_error: 3.3004 - val_loss: 3.4098 - val_mean_absolute_error: 3.4098\n",
            "Epoch 16/80\n",
            "9/9 [==============================] - 0s 7ms/step - loss: 3.2610 - mean_absolute_error: 3.2610 - val_loss: 3.3674 - val_mean_absolute_error: 3.3674\n",
            "Epoch 17/80\n",
            "9/9 [==============================] - 0s 5ms/step - loss: 3.2193 - mean_absolute_error: 3.2193 - val_loss: 3.3160 - val_mean_absolute_error: 3.3160\n",
            "Epoch 18/80\n",
            "9/9 [==============================] - 0s 7ms/step - loss: 3.1815 - mean_absolute_error: 3.1815 - val_loss: 3.2551 - val_mean_absolute_error: 3.2551\n",
            "Epoch 19/80\n",
            "9/9 [==============================] - 0s 7ms/step - loss: 3.1467 - mean_absolute_error: 3.1467 - val_loss: 3.2154 - val_mean_absolute_error: 3.2154\n",
            "Epoch 20/80\n",
            "9/9 [==============================] - 0s 7ms/step - loss: 3.1206 - mean_absolute_error: 3.1206 - val_loss: 3.1748 - val_mean_absolute_error: 3.1748\n",
            "Epoch 21/80\n",
            "9/9 [==============================] - 0s 7ms/step - loss: 3.0925 - mean_absolute_error: 3.0925 - val_loss: 3.1420 - val_mean_absolute_error: 3.1420\n",
            "Epoch 22/80\n",
            "9/9 [==============================] - 0s 5ms/step - loss: 3.0572 - mean_absolute_error: 3.0572 - val_loss: 3.1008 - val_mean_absolute_error: 3.1008\n",
            "Epoch 23/80\n",
            "9/9 [==============================] - 0s 7ms/step - loss: 3.0320 - mean_absolute_error: 3.0320 - val_loss: 3.0664 - val_mean_absolute_error: 3.0664\n",
            "Epoch 24/80\n",
            "9/9 [==============================] - 0s 5ms/step - loss: 3.0149 - mean_absolute_error: 3.0149 - val_loss: 3.0457 - val_mean_absolute_error: 3.0457\n",
            "Epoch 25/80\n",
            "9/9 [==============================] - 0s 6ms/step - loss: 2.9822 - mean_absolute_error: 2.9822 - val_loss: 2.9971 - val_mean_absolute_error: 2.9971\n",
            "Epoch 26/80\n",
            "9/9 [==============================] - 0s 7ms/step - loss: 2.9243 - mean_absolute_error: 2.9243 - val_loss: 2.9595 - val_mean_absolute_error: 2.9595\n",
            "Epoch 27/80\n",
            "9/9 [==============================] - 0s 8ms/step - loss: 2.9351 - mean_absolute_error: 2.9351 - val_loss: 2.9311 - val_mean_absolute_error: 2.9311\n",
            "Epoch 28/80\n",
            "9/9 [==============================] - 0s 7ms/step - loss: 2.9011 - mean_absolute_error: 2.9011 - val_loss: 2.9187 - val_mean_absolute_error: 2.9187\n",
            "Epoch 29/80\n",
            "9/9 [==============================] - 0s 6ms/step - loss: 2.8483 - mean_absolute_error: 2.8483 - val_loss: 2.8441 - val_mean_absolute_error: 2.8441\n",
            "Epoch 30/80\n",
            "9/9 [==============================] - 0s 8ms/step - loss: 2.8731 - mean_absolute_error: 2.8731 - val_loss: 2.8158 - val_mean_absolute_error: 2.8158\n",
            "Epoch 31/80\n",
            "9/9 [==============================] - 0s 5ms/step - loss: 2.9439 - mean_absolute_error: 2.9439 - val_loss: 2.8756 - val_mean_absolute_error: 2.8756\n",
            "Epoch 32/80\n",
            "9/9 [==============================] - 0s 7ms/step - loss: 2.8253 - mean_absolute_error: 2.8253 - val_loss: 2.7809 - val_mean_absolute_error: 2.7809\n",
            "Epoch 33/80\n",
            "9/9 [==============================] - 0s 5ms/step - loss: 2.8019 - mean_absolute_error: 2.8019 - val_loss: 2.7583 - val_mean_absolute_error: 2.7583\n",
            "Epoch 34/80\n",
            "9/9 [==============================] - 0s 8ms/step - loss: 2.7575 - mean_absolute_error: 2.7575 - val_loss: 2.7437 - val_mean_absolute_error: 2.7437\n",
            "Epoch 35/80\n",
            "9/9 [==============================] - 0s 8ms/step - loss: 2.7406 - mean_absolute_error: 2.7406 - val_loss: 2.7060 - val_mean_absolute_error: 2.7060\n",
            "Epoch 36/80\n",
            "9/9 [==============================] - 0s 7ms/step - loss: 2.7461 - mean_absolute_error: 2.7461 - val_loss: 2.6822 - val_mean_absolute_error: 2.6822\n",
            "Epoch 37/80\n",
            "9/9 [==============================] - 0s 8ms/step - loss: 2.7047 - mean_absolute_error: 2.7047 - val_loss: 2.6912 - val_mean_absolute_error: 2.6912\n",
            "Epoch 38/80\n",
            "9/9 [==============================] - 0s 8ms/step - loss: 2.6987 - mean_absolute_error: 2.6987 - val_loss: 2.6486 - val_mean_absolute_error: 2.6486\n",
            "Epoch 39/80\n",
            "9/9 [==============================] - 0s 9ms/step - loss: 2.6946 - mean_absolute_error: 2.6946 - val_loss: 2.6580 - val_mean_absolute_error: 2.6580\n",
            "Epoch 40/80\n",
            "9/9 [==============================] - 0s 6ms/step - loss: 2.6657 - mean_absolute_error: 2.6657 - val_loss: 2.6213 - val_mean_absolute_error: 2.6213\n",
            "Epoch 41/80\n",
            "9/9 [==============================] - 0s 7ms/step - loss: 2.6655 - mean_absolute_error: 2.6655 - val_loss: 2.6098 - val_mean_absolute_error: 2.6098\n",
            "Epoch 42/80\n",
            "9/9 [==============================] - 0s 8ms/step - loss: 2.6442 - mean_absolute_error: 2.6442 - val_loss: 2.6177 - val_mean_absolute_error: 2.6177\n",
            "Epoch 43/80\n",
            "9/9 [==============================] - 0s 7ms/step - loss: 2.6133 - mean_absolute_error: 2.6133 - val_loss: 2.5884 - val_mean_absolute_error: 2.5884\n",
            "Epoch 44/80\n",
            "9/9 [==============================] - 0s 8ms/step - loss: 2.6932 - mean_absolute_error: 2.6932 - val_loss: 2.5953 - val_mean_absolute_error: 2.5953\n",
            "Epoch 45/80\n",
            "9/9 [==============================] - 0s 7ms/step - loss: 2.6257 - mean_absolute_error: 2.6257 - val_loss: 2.6176 - val_mean_absolute_error: 2.6176\n",
            "Epoch 46/80\n",
            "9/9 [==============================] - 0s 5ms/step - loss: 2.5979 - mean_absolute_error: 2.5979 - val_loss: 2.5658 - val_mean_absolute_error: 2.5658\n",
            "Epoch 47/80\n",
            "9/9 [==============================] - 0s 7ms/step - loss: 2.5896 - mean_absolute_error: 2.5896 - val_loss: 2.5552 - val_mean_absolute_error: 2.5552\n",
            "Epoch 48/80\n",
            "9/9 [==============================] - 0s 6ms/step - loss: 2.5857 - mean_absolute_error: 2.5857 - val_loss: 2.5577 - val_mean_absolute_error: 2.5577\n",
            "Epoch 49/80\n",
            "9/9 [==============================] - 0s 5ms/step - loss: 2.5940 - mean_absolute_error: 2.5940 - val_loss: 2.5566 - val_mean_absolute_error: 2.5566\n",
            "Epoch 50/80\n",
            "9/9 [==============================] - 0s 7ms/step - loss: 2.5720 - mean_absolute_error: 2.5720 - val_loss: 2.5328 - val_mean_absolute_error: 2.5328\n",
            "Epoch 51/80\n",
            "9/9 [==============================] - 0s 7ms/step - loss: 2.5676 - mean_absolute_error: 2.5676 - val_loss: 2.5333 - val_mean_absolute_error: 2.5333\n",
            "Epoch 52/80\n",
            "9/9 [==============================] - 0s 6ms/step - loss: 2.5591 - mean_absolute_error: 2.5591 - val_loss: 2.5270 - val_mean_absolute_error: 2.5270\n",
            "Epoch 53/80\n",
            "9/9 [==============================] - 0s 5ms/step - loss: 2.6132 - mean_absolute_error: 2.6132 - val_loss: 2.5146 - val_mean_absolute_error: 2.5146\n",
            "Epoch 54/80\n",
            "9/9 [==============================] - 0s 5ms/step - loss: 2.5660 - mean_absolute_error: 2.5660 - val_loss: 2.5372 - val_mean_absolute_error: 2.5372\n",
            "Epoch 55/80\n",
            "9/9 [==============================] - 0s 7ms/step - loss: 2.5412 - mean_absolute_error: 2.5412 - val_loss: 2.5318 - val_mean_absolute_error: 2.5318\n",
            "Epoch 56/80\n",
            "9/9 [==============================] - 0s 7ms/step - loss: 2.5549 - mean_absolute_error: 2.5549 - val_loss: 2.5085 - val_mean_absolute_error: 2.5085\n",
            "Epoch 57/80\n",
            "9/9 [==============================] - 0s 6ms/step - loss: 2.5259 - mean_absolute_error: 2.5259 - val_loss: 2.5274 - val_mean_absolute_error: 2.5274\n",
            "Epoch 58/80\n",
            "9/9 [==============================] - 0s 9ms/step - loss: 2.5249 - mean_absolute_error: 2.5249 - val_loss: 2.4926 - val_mean_absolute_error: 2.4926\n",
            "Epoch 59/80\n",
            "9/9 [==============================] - 0s 7ms/step - loss: 2.5216 - mean_absolute_error: 2.5216 - val_loss: 2.4855 - val_mean_absolute_error: 2.4855\n",
            "Epoch 60/80\n",
            "9/9 [==============================] - 0s 7ms/step - loss: 2.5556 - mean_absolute_error: 2.5556 - val_loss: 2.4915 - val_mean_absolute_error: 2.4915\n",
            "Epoch 61/80\n",
            "9/9 [==============================] - 0s 6ms/step - loss: 2.5131 - mean_absolute_error: 2.5131 - val_loss: 2.4898 - val_mean_absolute_error: 2.4898\n",
            "Epoch 62/80\n",
            "9/9 [==============================] - 0s 7ms/step - loss: 2.5200 - mean_absolute_error: 2.5200 - val_loss: 2.4911 - val_mean_absolute_error: 2.4911\n",
            "Epoch 63/80\n",
            "9/9 [==============================] - 0s 6ms/step - loss: 2.5092 - mean_absolute_error: 2.5092 - val_loss: 2.4895 - val_mean_absolute_error: 2.4895\n",
            "Epoch 64/80\n",
            "9/9 [==============================] - 0s 7ms/step - loss: 2.5318 - mean_absolute_error: 2.5318 - val_loss: 2.4892 - val_mean_absolute_error: 2.4892\n",
            "Epoch 65/80\n",
            "9/9 [==============================] - 0s 5ms/step - loss: 2.4986 - mean_absolute_error: 2.4986 - val_loss: 2.4765 - val_mean_absolute_error: 2.4765\n",
            "Epoch 66/80\n",
            "9/9 [==============================] - 0s 6ms/step - loss: 2.4938 - mean_absolute_error: 2.4938 - val_loss: 2.4799 - val_mean_absolute_error: 2.4799\n",
            "Epoch 67/80\n",
            "9/9 [==============================] - 0s 5ms/step - loss: 2.4878 - mean_absolute_error: 2.4878 - val_loss: 2.4750 - val_mean_absolute_error: 2.4750\n",
            "Epoch 68/80\n",
            "9/9 [==============================] - 0s 9ms/step - loss: 2.4854 - mean_absolute_error: 2.4854 - val_loss: 2.4797 - val_mean_absolute_error: 2.4797\n",
            "Epoch 69/80\n",
            "9/9 [==============================] - 0s 8ms/step - loss: 2.5010 - mean_absolute_error: 2.5010 - val_loss: 2.5014 - val_mean_absolute_error: 2.5014\n",
            "Epoch 70/80\n",
            "9/9 [==============================] - 0s 7ms/step - loss: 2.4780 - mean_absolute_error: 2.4780 - val_loss: 2.5139 - val_mean_absolute_error: 2.5139\n",
            "Epoch 71/80\n",
            "9/9 [==============================] - 0s 5ms/step - loss: 2.4849 - mean_absolute_error: 2.4849 - val_loss: 2.5186 - val_mean_absolute_error: 2.5186\n",
            "Epoch 72/80\n",
            "9/9 [==============================] - 0s 8ms/step - loss: 2.4710 - mean_absolute_error: 2.4710 - val_loss: 2.5028 - val_mean_absolute_error: 2.5028\n",
            "Epoch 73/80\n",
            "9/9 [==============================] - 0s 5ms/step - loss: 2.5066 - mean_absolute_error: 2.5066 - val_loss: 2.4950 - val_mean_absolute_error: 2.4950\n",
            "Epoch 74/80\n",
            "9/9 [==============================] - 0s 5ms/step - loss: 2.4895 - mean_absolute_error: 2.4895 - val_loss: 2.5254 - val_mean_absolute_error: 2.5254\n",
            "Epoch 75/80\n",
            "9/9 [==============================] - 0s 8ms/step - loss: 2.4657 - mean_absolute_error: 2.4657 - val_loss: 2.5144 - val_mean_absolute_error: 2.5144\n",
            "Epoch 76/80\n",
            "9/9 [==============================] - 0s 8ms/step - loss: 2.4825 - mean_absolute_error: 2.4825 - val_loss: 2.5220 - val_mean_absolute_error: 2.5220\n",
            "Epoch 77/80\n",
            "9/9 [==============================] - 0s 5ms/step - loss: 2.4934 - mean_absolute_error: 2.4934 - val_loss: 2.5051 - val_mean_absolute_error: 2.5051\n",
            "Epoch 78/80\n",
            "9/9 [==============================] - 0s 7ms/step - loss: 2.4563 - mean_absolute_error: 2.4563 - val_loss: 2.5338 - val_mean_absolute_error: 2.5338\n",
            "Epoch 79/80\n",
            "9/9 [==============================] - 0s 6ms/step - loss: 2.5054 - mean_absolute_error: 2.5054 - val_loss: 2.5452 - val_mean_absolute_error: 2.5452\n",
            "Epoch 80/80\n",
            "9/9 [==============================] - 0s 6ms/step - loss: 2.5184 - mean_absolute_error: 2.5184 - val_loss: 2.5123 - val_mean_absolute_error: 2.5123\n"
          ]
        }
      ]
    },
    {
      "cell_type": "code",
      "source": [
        "from matplotlib import pyplot as plt\n",
        "plt.plot(history3.history['mean_absolute_error'])\n",
        "plt.plot(history3.history['val_mean_absolute_error'])\n",
        "plt.title('Model Mean Absolute Error (MAE)')\n",
        "plt.ylabel('MAE')\n",
        "plt.xlabel('Epoch')\n",
        "plt.legend(['Train', 'Cross-Validation'], loc='upper right')\n",
        "plt.show()"
      ],
      "metadata": {
        "colab": {
          "base_uri": "https://localhost:8080/",
          "height": 295
        },
        "id": "128nqSmSr2M8",
        "outputId": "abc9120c-4115-4628-8efc-4a032999bd3f"
      },
      "execution_count": null,
      "outputs": [
        {
          "output_type": "display_data",
          "data": {
            "text/plain": [
              "<Figure size 432x288 with 1 Axes>"
            ],
            "image/png": "[encoded data removed]"
          },
          "metadata": {
            "needs_background": "light"
          }
        }
      ]
    },
    {
      "cell_type": "markdown",
      "source": [
        "# Summary of Neural Network Results for predicing position player salary"
      ],
      "metadata": {
        "id": "fOYea7NIylLS"
      }
    },
    {
      "cell_type": "code",
      "source": [
        "neural_network_results = pd.DataFrame(columns = ['Input Features Count', 'Hidden Layers', 'Layers', 'Epochs','Mean Absolute Error', 'Val Mean Absolute Error'])\n",
        "neural_network_results['Input Features Count'] = [42,42,8]\n",
        "neural_network_results['Hidden Layers'] = [3,3,4]\n",
        "neural_network_results['Epochs'] = [75,77,80]\n",
        "neural_network_results['Layers'] = ['Relu (15), Tanh (15), Relu (15)','Relu (15), Relu (15), Relu (15)', 'Relu (20), Relu (20), Relu (20), Relu (20)']\n",
        "neural_network_results['Mean Absolute Error'] = [2.2802, 2.3557, 2.5184]\n",
        "neural_network_results['Val Mean Absolute Error'] = [2.6057, 2.4179, 2.5123]"
      ],
      "metadata": {
        "id": "ACXDcxVTyHxo"
      },
      "execution_count": null,
      "outputs": []
    },
    {
      "cell_type": "code",
      "source": [
        "neural_network_results"
      ],
      "metadata": {
        "colab": {
          "base_uri": "https://localhost:8080/",
          "height": 143
        },
        "id": "i7I96XR90Aax",
        "outputId": "076b2722-1e82-4844-db47-5d9c541527e5"
      },
      "execution_count": null,
      "outputs": [
        {
          "output_type": "execute_result",
          "data": {
            "text/plain": [
              "   Input Features Count  Hidden Layers  \\\n",
              "0                    42              3   \n",
              "1                    42              3   \n",
              "2                     8              4   \n",
              "\n",
              "                                       Layers  Epochs  Mean Absolute Error  \\\n",
              "0             Relu (15), Tanh (15), Relu (15)      75               2.2802   \n",
              "1             Relu (15), Relu (15), Relu (15)      77               2.3557   \n",
              "2  Relu (20), Relu (20), Relu (20), Relu (20)      80               2.5184   \n",
              "\n",
              "   Val Mean Absolute Error  \n",
              "0                   2.6057  \n",
              "1                   2.4179  \n",
              "2                   2.5123  "
            ],
            "text/html": [
              "\n",
              "  <div id=\"df-5e025334-90c4-4e27-a9d2-cafe822b22e0\">\n",
              "    <div class=\"colab-df-container\">\n",
              "      <div>\n",
              "<style scoped>\n",
              "    .dataframe tbody tr th:only-of-type {\n",
              "        vertical-align: middle;\n",
              "    }\n",
              "\n",
              "    .dataframe tbody tr th {\n",
              "        vertical-align: top;\n",
              "    }\n",
              "\n",
              "    .dataframe thead th {\n",
              "        text-align: right;\n",
              "    }\n",
              "</style>\n",
              "<table border=\"1\" class=\"dataframe\">\n",
              "  <thead>\n",
              "    <tr style=\"text-align: right;\">\n",
              "      <th></th>\n",
              "      <th>Input Features Count</th>\n",
              "      <th>Hidden Layers</th>\n",
              "      <th>Layers</th>\n",
              "      <th>Epochs</th>\n",
              "      <th>Mean Absolute Error</th>\n",
              "      <th>Val Mean Absolute Error</th>\n",
              "    </tr>\n",
              "  </thead>\n",
              "  <tbody>\n",
              "    <tr>\n",
              "      <th>0</th>\n",
              "      <td>42</td>\n",
              "      <td>3</td>\n",
              "      <td>Relu (15), Tanh (15), Relu (15)</td>\n",
              "      <td>75</td>\n",
              "      <td>2.2802</td>\n",
              "      <td>2.6057</td>\n",
              "    </tr>\n",
              "    <tr>\n",
              "      <th>1</th>\n",
              "      <td>42</td>\n",
              "      <td>3</td>\n",
              "      <td>Relu (15), Relu (15), Relu (15)</td>\n",
              "      <td>77</td>\n",
              "      <td>2.3557</td>\n",
              "      <td>2.4179</td>\n",
              "    </tr>\n",
              "    <tr>\n",
              "      <th>2</th>\n",
              "      <td>8</td>\n",
              "      <td>4</td>\n",
              "      <td>Relu (20), Relu (20), Relu (20), Relu (20)</td>\n",
              "      <td>80</td>\n",
              "      <td>2.5184</td>\n",
              "      <td>2.5123</td>\n",
              "    </tr>\n",
              "  </tbody>\n",
              "</table>\n",
              "</div>\n",
              "      <button class=\"colab-df-convert\" onclick=\"convertToInteractive('df-5e025334-90c4-4e27-a9d2-cafe822b22e0')\"\n",
              "              title=\"Convert this dataframe to an interactive table.\"\n",
              "              style=\"display:none;\">\n",
              "        \n",
              "  <svg xmlns=\"http://www.w3.org/2000/svg\" height=\"24px\"viewBox=\"0 0 24 24\"\n",
              "       width=\"24px\">\n",
              "    <path d=\"M0 0h24v24H0V0z\" fill=\"none\"/>\n",
              "    <path d=\"M18.56 5.44l.94 2.06.94-2.06 2.06-.94-2.06-.94-.94-2.06-.94 2.06-2.06.94zm-11 1L8.5 8.5l.94-2.06 2.06-.94-2.06-.94L8.5 2.5l-.94 2.06-2.06.94zm10 10l.94 2.06.94-2.06 2.06-.94-2.06-.94-.94-2.06-.94 2.06-2.06.94z\"/><path d=\"M17.41 7.96l-1.37-1.37c-.4-.4-.92-.59-1.43-.59-.52 0-1.04.2-1.43.59L10.3 9.45l-7.72 7.72c-.78.78-.78 2.05 0 2.83L4 21.41c.39.39.9.59 1.41.59.51 0 1.02-.2 1.41-.59l7.78-7.78 2.81-2.81c.8-.78.8-2.07 0-2.86zM5.41 20L4 18.59l7.72-7.72 1.47 1.35L5.41 20z\"/>\n",
              "  </svg>\n",
              "      </button>\n",
              "      \n",
              "  <style>\n",
              "    .colab-df-container {\n",
              "      display:flex;\n",
              "      flex-wrap:wrap;\n",
              "      gap: 12px;\n",
              "    }\n",
              "\n",
              "    .colab-df-convert {\n",
              "      background-color: #E8F0FE;\n",
              "      border: none;\n",
              "      border-radius: 50%;\n",
              "      cursor: pointer;\n",
              "      display: none;\n",
              "      fill: #1967D2;\n",
              "      height: 32px;\n",
              "      padding: 0 0 0 0;\n",
              "      width: 32px;\n",
              "    }\n",
              "\n",
              "    .colab-df-convert:hover {\n",
              "      background-color: #E2EBFA;\n",
              "      box-shadow: 0px 1px 2px rgba(60, 64, 67, 0.3), 0px 1px 3px 1px rgba(60, 64, 67, 0.15);\n",
              "      fill: #174EA6;\n",
              "    }\n",
              "\n",
              "    [theme=dark] .colab-df-convert {\n",
              "      background-color: #3B4455;\n",
              "      fill: #D2E3FC;\n",
              "    }\n",
              "\n",
              "    [theme=dark] .colab-df-convert:hover {\n",
              "      background-color: #434B5C;\n",
              "      box-shadow: 0px 1px 3px 1px rgba(0, 0, 0, 0.15);\n",
              "      filter: drop-shadow(0px 1px 2px rgba(0, 0, 0, 0.3));\n",
              "      fill: #FFFFFF;\n",
              "    }\n",
              "  </style>\n",
              "\n",
              "      <script>\n",
              "        const buttonEl =\n",
              "          document.querySelector('#df-5e025334-90c4-4e27-a9d2-cafe822b22e0 button.colab-df-convert');\n",
              "        buttonEl.style.display =\n",
              "          google.colab.kernel.accessAllowed ? 'block' : 'none';\n",
              "\n",
              "        async function convertToInteractive(key) {\n",
              "          const element = document.querySelector('#df-5e025334-90c4-4e27-a9d2-cafe822b22e0');\n",
              "          const dataTable =\n",
              "            await google.colab.kernel.invokeFunction('convertToInteractive',\n",
              "                                                     [key], {});\n",
              "          if (!dataTable) return;\n",
              "\n",
              "          const docLinkHtml = 'Like what you see? Visit the ' +\n",
              "            '<a target=\"_blank\" href=https://colab.research.google.com/notebooks/data_table.ipynb>data table notebook</a>'\n",
              "            + ' to learn more about interactive tables.';\n",
              "          element.innerHTML = '';\n",
              "          dataTable['output_type'] = 'display_data';\n",
              "          await google.colab.output.renderOutput(dataTable, element);\n",
              "          const docLink = document.createElement('div');\n",
              "          docLink.innerHTML = docLinkHtml;\n",
              "          element.appendChild(docLink);\n",
              "        }\n",
              "      </script>\n",
              "    </div>\n",
              "  </div>\n",
              "  "
            ]
          },
          "metadata": {},
          "execution_count": 4254
        }
      ]
    }
  ]
}