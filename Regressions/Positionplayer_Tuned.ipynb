{
  "nbformat": 4,
  "nbformat_minor": 0,
  "metadata": {
    "colab": {
      "name": "Positionplayer_Tuning.ipynb",
      "provenance": [],
      "collapsed_sections": []
    },
    "kernelspec": {
      "name": "python3",
      "display_name": "Python 3"
    },
    "language_info": {
      "name": "python"
    }
  },
  "cells": [
    {
      "cell_type": "markdown",
      "source": [
        "# In this notebook, I will tune the regression models for position player salary using GridSearchCV in scikit-learn to try to get best performing results for the decision tree, linear, and ridge regressions"
      ],
      "metadata": {
        "id": "f4ApupsHWsk0"
      }
    },
    {
      "cell_type": "markdown",
      "source": [
        "From experimentation in the Positionplayers_regressions notebook, I found that decision tree regressors, neural networks, and ridge regressions work best on this data. I will try to find models and tweak parameters to optimize performance and minimize MAE."
      ],
      "metadata": {
        "id": "cVKpEP0hF3sx"
      }
    },
    {
      "cell_type": "code",
      "execution_count": 190,
      "metadata": {
        "id": "-m4_gX_7WniX",
        "colab": {
          "base_uri": "https://localhost:8080/"
        },
        "outputId": "0c8b1e81-ad92-4561-ee50-689d864533f0"
      },
      "outputs": [
        {
          "output_type": "stream",
          "name": "stdout",
          "text": [
            "Drive already mounted at /content/drive; to attempt to forcibly remount, call drive.mount(\"/content/drive\", force_remount=True).\n"
          ]
        }
      ],
      "source": [
        "import numpy as np\n",
        "import pandas as pd\n",
        "\n",
        "from google.colab import drive\n",
        "drive.mount('/content/drive')"
      ]
    },
    {
      "cell_type": "code",
      "source": [
        "import sklearn\n",
        "from sklearn import preprocessing\n",
        "from sklearn.model_selection import train_test_split, cross_val_score\n",
        "from sklearn.feature_selection import SelectKBest, f_regression\n",
        "from sklearn.preprocessing import MinMaxScaler"
      ],
      "metadata": {
        "id": "2paP65w2XzxT"
      },
      "execution_count": 191,
      "outputs": []
    },
    {
      "cell_type": "code",
      "source": [
        "from sklearn import linear_model\n",
        "from sklearn.linear_model import Ridge, Lasso"
      ],
      "metadata": {
        "id": "lUOnJgJjYBjQ"
      },
      "execution_count": 192,
      "outputs": []
    },
    {
      "cell_type": "code",
      "source": [
        "from sklearn.metrics import mean_absolute_error, mean_squared_error, mean_squared_log_error"
      ],
      "metadata": {
        "id": "vcpSRxhvX5mJ"
      },
      "execution_count": 193,
      "outputs": []
    },
    {
      "cell_type": "code",
      "source": [
        "#read in position player stats\n",
        "pp_train = pd.read_csv('/content/drive/MyDrive/Data_Science_Projects/MLB/pp_traindata1.csv')\n",
        "pp_test = pd.read_csv('/content/drive/MyDrive/Data_Science_Projects/MLB/pp_testdata.csv')"
      ],
      "metadata": {
        "id": "_2BdS_khYKqq"
      },
      "execution_count": 194,
      "outputs": []
    },
    {
      "cell_type": "markdown",
      "source": [
        "# Final check for null values:"
      ],
      "metadata": {
        "id": "2Te5bc3PfD_k"
      }
    },
    {
      "cell_type": "code",
      "source": [
        "#Looks like pp_train has a few null values so we drop them\n",
        "pp_train.info()"
      ],
      "metadata": {
        "colab": {
          "base_uri": "https://localhost:8080/"
        },
        "id": "lbN5vD43e-ZF",
        "outputId": "609d97a3-204d-4f3b-e93e-0688449944d7"
      },
      "execution_count": 195,
      "outputs": [
        {
          "output_type": "stream",
          "name": "stdout",
          "text": [
            "<class 'pandas.core.frame.DataFrame'>\n",
            "RangeIndex: 280 entries, 0 to 279\n",
            "Data columns (total 45 columns):\n",
            " #   Column              Non-Null Count  Dtype  \n",
            "---  ------              --------------  -----  \n",
            " 0   Unnamed: 0          280 non-null    int64  \n",
            " 1   age                 280 non-null    int64  \n",
            " 2   stints              280 non-null    int64  \n",
            " 3   G                   279 non-null    float64\n",
            " 4   tap                 279 non-null    float64\n",
            " 5   AB                  279 non-null    float64\n",
            " 6   R                   279 non-null    float64\n",
            " 7   H                   279 non-null    float64\n",
            " 8   db                  279 non-null    float64\n",
            " 9   tr                  279 non-null    float64\n",
            " 10  HR                  279 non-null    float64\n",
            " 11  RBI                 279 non-null    float64\n",
            " 12  SB                  279 non-null    float64\n",
            " 13  CS                  279 non-null    float64\n",
            " 14  BB                  279 non-null    float64\n",
            " 15  SO                  279 non-null    float64\n",
            " 16  IBB                 279 non-null    float64\n",
            " 17  hbp                 279 non-null    float64\n",
            " 18  SH                  279 non-null    float64\n",
            " 19  SF                  279 non-null    float64\n",
            " 20  GIDP                279 non-null    float64\n",
            " 21  avg                 279 non-null    float64\n",
            " 22  obp                 279 non-null    float64\n",
            " 23  slg                 279 non-null    float64\n",
            " 24  woba                279 non-null    float64\n",
            " 25  PRO                 279 non-null    float64\n",
            " 26  GURU                279 non-null    float64\n",
            " 27  salary              280 non-null    float64\n",
            " 28  multiple_positions  280 non-null    int64  \n",
            " 29  ops                 279 non-null    float64\n",
            " 30  WAR                 280 non-null    float64\n",
            " 31  Rookie contract     280 non-null    int64  \n",
            " 32  1B                  280 non-null    int64  \n",
            " 33  2B                  280 non-null    int64  \n",
            " 34  3B                  280 non-null    int64  \n",
            " 35  C                   280 non-null    int64  \n",
            " 36  DH                  280 non-null    int64  \n",
            " 37  OF                  280 non-null    int64  \n",
            " 38  P                   280 non-null    int64  \n",
            " 39  SS                  280 non-null    int64  \n",
            " 40  bats_B              280 non-null    int64  \n",
            " 41  bats_L              280 non-null    int64  \n",
            " 42  bats_R              280 non-null    int64  \n",
            " 43  throws_L            280 non-null    int64  \n",
            " 44  throws_R            280 non-null    int64  \n",
            "dtypes: float64(27), int64(18)\n",
            "memory usage: 98.6 KB\n"
          ]
        }
      ]
    },
    {
      "cell_type": "code",
      "source": [
        "pp_train = pp_train.dropna()"
      ],
      "metadata": {
        "id": "WGz8pzRdfJUk"
      },
      "execution_count": 196,
      "outputs": []
    },
    {
      "cell_type": "code",
      "source": [
        "pp_train.info()"
      ],
      "metadata": {
        "colab": {
          "base_uri": "https://localhost:8080/"
        },
        "id": "r7xpS7ZofLPC",
        "outputId": "a090f007-51b1-4d5d-a702-65676355bee6"
      },
      "execution_count": 197,
      "outputs": [
        {
          "output_type": "stream",
          "name": "stdout",
          "text": [
            "<class 'pandas.core.frame.DataFrame'>\n",
            "Int64Index: 279 entries, 0 to 279\n",
            "Data columns (total 45 columns):\n",
            " #   Column              Non-Null Count  Dtype  \n",
            "---  ------              --------------  -----  \n",
            " 0   Unnamed: 0          279 non-null    int64  \n",
            " 1   age                 279 non-null    int64  \n",
            " 2   stints              279 non-null    int64  \n",
            " 3   G                   279 non-null    float64\n",
            " 4   tap                 279 non-null    float64\n",
            " 5   AB                  279 non-null    float64\n",
            " 6   R                   279 non-null    float64\n",
            " 7   H                   279 non-null    float64\n",
            " 8   db                  279 non-null    float64\n",
            " 9   tr                  279 non-null    float64\n",
            " 10  HR                  279 non-null    float64\n",
            " 11  RBI                 279 non-null    float64\n",
            " 12  SB                  279 non-null    float64\n",
            " 13  CS                  279 non-null    float64\n",
            " 14  BB                  279 non-null    float64\n",
            " 15  SO                  279 non-null    float64\n",
            " 16  IBB                 279 non-null    float64\n",
            " 17  hbp                 279 non-null    float64\n",
            " 18  SH                  279 non-null    float64\n",
            " 19  SF                  279 non-null    float64\n",
            " 20  GIDP                279 non-null    float64\n",
            " 21  avg                 279 non-null    float64\n",
            " 22  obp                 279 non-null    float64\n",
            " 23  slg                 279 non-null    float64\n",
            " 24  woba                279 non-null    float64\n",
            " 25  PRO                 279 non-null    float64\n",
            " 26  GURU                279 non-null    float64\n",
            " 27  salary              279 non-null    float64\n",
            " 28  multiple_positions  279 non-null    int64  \n",
            " 29  ops                 279 non-null    float64\n",
            " 30  WAR                 279 non-null    float64\n",
            " 31  Rookie contract     279 non-null    int64  \n",
            " 32  1B                  279 non-null    int64  \n",
            " 33  2B                  279 non-null    int64  \n",
            " 34  3B                  279 non-null    int64  \n",
            " 35  C                   279 non-null    int64  \n",
            " 36  DH                  279 non-null    int64  \n",
            " 37  OF                  279 non-null    int64  \n",
            " 38  P                   279 non-null    int64  \n",
            " 39  SS                  279 non-null    int64  \n",
            " 40  bats_B              279 non-null    int64  \n",
            " 41  bats_L              279 non-null    int64  \n",
            " 42  bats_R              279 non-null    int64  \n",
            " 43  throws_L            279 non-null    int64  \n",
            " 44  throws_R            279 non-null    int64  \n",
            "dtypes: float64(27), int64(18)\n",
            "memory usage: 100.3 KB\n"
          ]
        }
      ]
    },
    {
      "cell_type": "code",
      "source": [
        "#pp_test has no null values so we are good\n",
        "pp_test.info()"
      ],
      "metadata": {
        "colab": {
          "base_uri": "https://localhost:8080/"
        },
        "id": "3tBG6TJ5fA80",
        "outputId": "d63da61f-8dea-49d4-df94-029af51edf73"
      },
      "execution_count": 198,
      "outputs": [
        {
          "output_type": "stream",
          "name": "stdout",
          "text": [
            "<class 'pandas.core.frame.DataFrame'>\n",
            "RangeIndex: 70 entries, 0 to 69\n",
            "Data columns (total 45 columns):\n",
            " #   Column              Non-Null Count  Dtype  \n",
            "---  ------              --------------  -----  \n",
            " 0   Unnamed: 0          70 non-null     int64  \n",
            " 1   age                 70 non-null     int64  \n",
            " 2   stints              70 non-null     int64  \n",
            " 3   G                   70 non-null     float64\n",
            " 4   tap                 70 non-null     float64\n",
            " 5   AB                  70 non-null     float64\n",
            " 6   R                   70 non-null     float64\n",
            " 7   H                   70 non-null     float64\n",
            " 8   db                  70 non-null     float64\n",
            " 9   tr                  70 non-null     float64\n",
            " 10  HR                  70 non-null     float64\n",
            " 11  RBI                 70 non-null     float64\n",
            " 12  SB                  70 non-null     float64\n",
            " 13  CS                  70 non-null     float64\n",
            " 14  BB                  70 non-null     float64\n",
            " 15  SO                  70 non-null     float64\n",
            " 16  IBB                 70 non-null     float64\n",
            " 17  hbp                 70 non-null     float64\n",
            " 18  SH                  70 non-null     float64\n",
            " 19  SF                  70 non-null     float64\n",
            " 20  GIDP                70 non-null     float64\n",
            " 21  avg                 70 non-null     float64\n",
            " 22  obp                 70 non-null     float64\n",
            " 23  slg                 70 non-null     float64\n",
            " 24  woba                70 non-null     float64\n",
            " 25  PRO                 70 non-null     float64\n",
            " 26  GURU                70 non-null     float64\n",
            " 27  salary              70 non-null     float64\n",
            " 28  multiple_positions  70 non-null     int64  \n",
            " 29  ops                 70 non-null     float64\n",
            " 30  WAR                 70 non-null     float64\n",
            " 31  Rookie contract     70 non-null     int64  \n",
            " 32  1B                  70 non-null     int64  \n",
            " 33  2B                  70 non-null     int64  \n",
            " 34  3B                  70 non-null     int64  \n",
            " 35  C                   70 non-null     int64  \n",
            " 36  DH                  70 non-null     int64  \n",
            " 37  OF                  70 non-null     int64  \n",
            " 38  P                   70 non-null     int64  \n",
            " 39  SS                  70 non-null     int64  \n",
            " 40  bats_B              70 non-null     int64  \n",
            " 41  bats_L              70 non-null     int64  \n",
            " 42  bats_R              70 non-null     int64  \n",
            " 43  throws_L            70 non-null     int64  \n",
            " 44  throws_R            70 non-null     int64  \n",
            "dtypes: float64(27), int64(18)\n",
            "memory usage: 24.7 KB\n"
          ]
        }
      ]
    },
    {
      "cell_type": "code",
      "source": [
        "#drop unnamed index column from both datasets\n",
        "#also drop the at bats feature since I am now realizing the redunancy here when tap (total plate appearances) contains very similar info\n",
        "pp_train.drop(columns = ['Unnamed: 0', 'AB'], inplace = True)\n",
        "pp_test.drop(columns = ['Unnamed: 0', 'AB'], inplace = True)\n",
        "pp_test.head()"
      ],
      "metadata": {
        "colab": {
          "base_uri": "https://localhost:8080/",
          "height": 235
        },
        "id": "dsqdOljHZXvq",
        "outputId": "540d414c-edbc-47ef-eef6-78415f1897db"
      },
      "execution_count": 199,
      "outputs": [
        {
          "output_type": "execute_result",
          "data": {
            "text/plain": [
              "   age  stints      G    tap     R      H    db   tr    HR   RBI  ...  C  DH  \\\n",
              "0   32       1   72.0  251.0  19.0   48.0  12.0  0.0  12.0  41.0  ...  1   0   \n",
              "1   31       1  161.0  680.0  97.0  155.0  25.0  1.0  34.0  97.0  ...  0   0   \n",
              "2   25       1   75.0  248.0  15.0   39.0   9.0  1.0   0.0  15.0  ...  0   0   \n",
              "3   24       1   77.0  288.0  28.0   67.0  11.0  4.0   6.0  26.0  ...  0   0   \n",
              "4   23       1   30.0   80.0   4.0   18.0   6.0  0.0   0.0   4.0  ...  0   0   \n",
              "\n",
              "   OF  P  SS  bats_B  bats_L  bats_R  throws_L  throws_R  \n",
              "0   0  0   0       0       0       1         0         1  \n",
              "1   0  0   0       0       0       1         0         1  \n",
              "2   1  0   0       0       0       1         0         1  \n",
              "3   0  0   0       0       0       1         0         1  \n",
              "4   0  0   1       1       0       0         0         1  \n",
              "\n",
              "[5 rows x 43 columns]"
            ],
            "text/html": [
              "\n",
              "  <div id=\"df-40c282cc-808a-40ce-896a-1f5a49acfd76\">\n",
              "    <div class=\"colab-df-container\">\n",
              "      <div>\n",
              "<style scoped>\n",
              "    .dataframe tbody tr th:only-of-type {\n",
              "        vertical-align: middle;\n",
              "    }\n",
              "\n",
              "    .dataframe tbody tr th {\n",
              "        vertical-align: top;\n",
              "    }\n",
              "\n",
              "    .dataframe thead th {\n",
              "        text-align: right;\n",
              "    }\n",
              "</style>\n",
              "<table border=\"1\" class=\"dataframe\">\n",
              "  <thead>\n",
              "    <tr style=\"text-align: right;\">\n",
              "      <th></th>\n",
              "      <th>age</th>\n",
              "      <th>stints</th>\n",
              "      <th>G</th>\n",
              "      <th>tap</th>\n",
              "      <th>R</th>\n",
              "      <th>H</th>\n",
              "      <th>db</th>\n",
              "      <th>tr</th>\n",
              "      <th>HR</th>\n",
              "      <th>RBI</th>\n",
              "      <th>...</th>\n",
              "      <th>C</th>\n",
              "      <th>DH</th>\n",
              "      <th>OF</th>\n",
              "      <th>P</th>\n",
              "      <th>SS</th>\n",
              "      <th>bats_B</th>\n",
              "      <th>bats_L</th>\n",
              "      <th>bats_R</th>\n",
              "      <th>throws_L</th>\n",
              "      <th>throws_R</th>\n",
              "    </tr>\n",
              "  </thead>\n",
              "  <tbody>\n",
              "    <tr>\n",
              "      <th>0</th>\n",
              "      <td>32</td>\n",
              "      <td>1</td>\n",
              "      <td>72.0</td>\n",
              "      <td>251.0</td>\n",
              "      <td>19.0</td>\n",
              "      <td>48.0</td>\n",
              "      <td>12.0</td>\n",
              "      <td>0.0</td>\n",
              "      <td>12.0</td>\n",
              "      <td>41.0</td>\n",
              "      <td>...</td>\n",
              "      <td>1</td>\n",
              "      <td>0</td>\n",
              "      <td>0</td>\n",
              "      <td>0</td>\n",
              "      <td>0</td>\n",
              "      <td>0</td>\n",
              "      <td>0</td>\n",
              "      <td>1</td>\n",
              "      <td>0</td>\n",
              "      <td>1</td>\n",
              "    </tr>\n",
              "    <tr>\n",
              "      <th>1</th>\n",
              "      <td>31</td>\n",
              "      <td>1</td>\n",
              "      <td>161.0</td>\n",
              "      <td>680.0</td>\n",
              "      <td>97.0</td>\n",
              "      <td>155.0</td>\n",
              "      <td>25.0</td>\n",
              "      <td>1.0</td>\n",
              "      <td>34.0</td>\n",
              "      <td>97.0</td>\n",
              "      <td>...</td>\n",
              "      <td>0</td>\n",
              "      <td>0</td>\n",
              "      <td>0</td>\n",
              "      <td>0</td>\n",
              "      <td>0</td>\n",
              "      <td>0</td>\n",
              "      <td>0</td>\n",
              "      <td>1</td>\n",
              "      <td>0</td>\n",
              "      <td>1</td>\n",
              "    </tr>\n",
              "    <tr>\n",
              "      <th>2</th>\n",
              "      <td>25</td>\n",
              "      <td>1</td>\n",
              "      <td>75.0</td>\n",
              "      <td>248.0</td>\n",
              "      <td>15.0</td>\n",
              "      <td>39.0</td>\n",
              "      <td>9.0</td>\n",
              "      <td>1.0</td>\n",
              "      <td>0.0</td>\n",
              "      <td>15.0</td>\n",
              "      <td>...</td>\n",
              "      <td>0</td>\n",
              "      <td>0</td>\n",
              "      <td>1</td>\n",
              "      <td>0</td>\n",
              "      <td>0</td>\n",
              "      <td>0</td>\n",
              "      <td>0</td>\n",
              "      <td>1</td>\n",
              "      <td>0</td>\n",
              "      <td>1</td>\n",
              "    </tr>\n",
              "    <tr>\n",
              "      <th>3</th>\n",
              "      <td>24</td>\n",
              "      <td>1</td>\n",
              "      <td>77.0</td>\n",
              "      <td>288.0</td>\n",
              "      <td>28.0</td>\n",
              "      <td>67.0</td>\n",
              "      <td>11.0</td>\n",
              "      <td>4.0</td>\n",
              "      <td>6.0</td>\n",
              "      <td>26.0</td>\n",
              "      <td>...</td>\n",
              "      <td>0</td>\n",
              "      <td>0</td>\n",
              "      <td>0</td>\n",
              "      <td>0</td>\n",
              "      <td>0</td>\n",
              "      <td>0</td>\n",
              "      <td>0</td>\n",
              "      <td>1</td>\n",
              "      <td>0</td>\n",
              "      <td>1</td>\n",
              "    </tr>\n",
              "    <tr>\n",
              "      <th>4</th>\n",
              "      <td>23</td>\n",
              "      <td>1</td>\n",
              "      <td>30.0</td>\n",
              "      <td>80.0</td>\n",
              "      <td>4.0</td>\n",
              "      <td>18.0</td>\n",
              "      <td>6.0</td>\n",
              "      <td>0.0</td>\n",
              "      <td>0.0</td>\n",
              "      <td>4.0</td>\n",
              "      <td>...</td>\n",
              "      <td>0</td>\n",
              "      <td>0</td>\n",
              "      <td>0</td>\n",
              "      <td>0</td>\n",
              "      <td>1</td>\n",
              "      <td>1</td>\n",
              "      <td>0</td>\n",
              "      <td>0</td>\n",
              "      <td>0</td>\n",
              "      <td>1</td>\n",
              "    </tr>\n",
              "  </tbody>\n",
              "</table>\n",
              "<p>5 rows × 43 columns</p>\n",
              "</div>\n",
              "      <button class=\"colab-df-convert\" onclick=\"convertToInteractive('df-40c282cc-808a-40ce-896a-1f5a49acfd76')\"\n",
              "              title=\"Convert this dataframe to an interactive table.\"\n",
              "              style=\"display:none;\">\n",
              "        \n",
              "  <svg xmlns=\"http://www.w3.org/2000/svg\" height=\"24px\"viewBox=\"0 0 24 24\"\n",
              "       width=\"24px\">\n",
              "    <path d=\"M0 0h24v24H0V0z\" fill=\"none\"/>\n",
              "    <path d=\"M18.56 5.44l.94 2.06.94-2.06 2.06-.94-2.06-.94-.94-2.06-.94 2.06-2.06.94zm-11 1L8.5 8.5l.94-2.06 2.06-.94-2.06-.94L8.5 2.5l-.94 2.06-2.06.94zm10 10l.94 2.06.94-2.06 2.06-.94-2.06-.94-.94-2.06-.94 2.06-2.06.94z\"/><path d=\"M17.41 7.96l-1.37-1.37c-.4-.4-.92-.59-1.43-.59-.52 0-1.04.2-1.43.59L10.3 9.45l-7.72 7.72c-.78.78-.78 2.05 0 2.83L4 21.41c.39.39.9.59 1.41.59.51 0 1.02-.2 1.41-.59l7.78-7.78 2.81-2.81c.8-.78.8-2.07 0-2.86zM5.41 20L4 18.59l7.72-7.72 1.47 1.35L5.41 20z\"/>\n",
              "  </svg>\n",
              "      </button>\n",
              "      \n",
              "  <style>\n",
              "    .colab-df-container {\n",
              "      display:flex;\n",
              "      flex-wrap:wrap;\n",
              "      gap: 12px;\n",
              "    }\n",
              "\n",
              "    .colab-df-convert {\n",
              "      background-color: #E8F0FE;\n",
              "      border: none;\n",
              "      border-radius: 50%;\n",
              "      cursor: pointer;\n",
              "      display: none;\n",
              "      fill: #1967D2;\n",
              "      height: 32px;\n",
              "      padding: 0 0 0 0;\n",
              "      width: 32px;\n",
              "    }\n",
              "\n",
              "    .colab-df-convert:hover {\n",
              "      background-color: #E2EBFA;\n",
              "      box-shadow: 0px 1px 2px rgba(60, 64, 67, 0.3), 0px 1px 3px 1px rgba(60, 64, 67, 0.15);\n",
              "      fill: #174EA6;\n",
              "    }\n",
              "\n",
              "    [theme=dark] .colab-df-convert {\n",
              "      background-color: #3B4455;\n",
              "      fill: #D2E3FC;\n",
              "    }\n",
              "\n",
              "    [theme=dark] .colab-df-convert:hover {\n",
              "      background-color: #434B5C;\n",
              "      box-shadow: 0px 1px 3px 1px rgba(0, 0, 0, 0.15);\n",
              "      filter: drop-shadow(0px 1px 2px rgba(0, 0, 0, 0.3));\n",
              "      fill: #FFFFFF;\n",
              "    }\n",
              "  </style>\n",
              "\n",
              "      <script>\n",
              "        const buttonEl =\n",
              "          document.querySelector('#df-40c282cc-808a-40ce-896a-1f5a49acfd76 button.colab-df-convert');\n",
              "        buttonEl.style.display =\n",
              "          google.colab.kernel.accessAllowed ? 'block' : 'none';\n",
              "\n",
              "        async function convertToInteractive(key) {\n",
              "          const element = document.querySelector('#df-40c282cc-808a-40ce-896a-1f5a49acfd76');\n",
              "          const dataTable =\n",
              "            await google.colab.kernel.invokeFunction('convertToInteractive',\n",
              "                                                     [key], {});\n",
              "          if (!dataTable) return;\n",
              "\n",
              "          const docLinkHtml = 'Like what you see? Visit the ' +\n",
              "            '<a target=\"_blank\" href=https://colab.research.google.com/notebooks/data_table.ipynb>data table notebook</a>'\n",
              "            + ' to learn more about interactive tables.';\n",
              "          element.innerHTML = '';\n",
              "          dataTable['output_type'] = 'display_data';\n",
              "          await google.colab.output.renderOutput(dataTable, element);\n",
              "          const docLink = document.createElement('div');\n",
              "          docLink.innerHTML = docLinkHtml;\n",
              "          element.appendChild(docLink);\n",
              "        }\n",
              "      </script>\n",
              "    </div>\n",
              "  </div>\n",
              "  "
            ]
          },
          "metadata": {},
          "execution_count": 199
        }
      ]
    },
    {
      "cell_type": "markdown",
      "source": [
        "# Reminding ourselves of the train and test data shapes (we performed an 80-20 split previously then normalized both independently)"
      ],
      "metadata": {
        "id": "XiZ7zpNQdl-j"
      }
    },
    {
      "cell_type": "code",
      "source": [
        "print('Position Players Train:')\n",
        "print('Train dataset dimensions: ', pp_train.shape, '\\n')\n",
        "\n",
        "print('Position Players Test:')\n",
        "print('Test dataset dimensions: ', pp_test.shape, '\\n')"
      ],
      "metadata": {
        "colab": {
          "base_uri": "https://localhost:8080/"
        },
        "id": "CYOaYX2cdubH",
        "outputId": "b10ea1bc-379b-4c91-9baa-b357eec83987"
      },
      "execution_count": 200,
      "outputs": [
        {
          "output_type": "stream",
          "name": "stdout",
          "text": [
            "Position Players Train:\n",
            "Train dataset dimensions:  (279, 43) \n",
            "\n",
            "Position Players Test:\n",
            "Test dataset dimensions:  (70, 43) \n",
            "\n"
          ]
        }
      ]
    },
    {
      "cell_type": "markdown",
      "source": [
        "# Normalize input features using min-max normalization"
      ],
      "metadata": {
        "id": "ry5e9Tm6h1BK"
      }
    },
    {
      "cell_type": "code",
      "source": [
        "from sklearn.preprocessing import MinMaxScaler\n",
        "scaler = MinMaxScaler()"
      ],
      "metadata": {
        "id": "zHz3mSI3ienL"
      },
      "execution_count": 201,
      "outputs": []
    },
    {
      "cell_type": "code",
      "source": [
        "train_target = pp_train['salary']\n",
        "\n",
        "train_features = pp_train.drop(columns = ['salary'])\n",
        "col = train_features.columns\n",
        "train_features = scaler.fit_transform(train_features)\n",
        "train_features = pd.DataFrame(data=train_features, columns=col)"
      ],
      "metadata": {
        "id": "PXUoewX1eLXP"
      },
      "execution_count": 202,
      "outputs": []
    },
    {
      "cell_type": "code",
      "source": [
        "test_target = pp_test['salary']\n",
        "\n",
        "test_features = pp_test.drop(columns = ['salary'])\n",
        "test_features = scaler.fit_transform(test_features)\n",
        "test_features = pd.DataFrame(data=test_features, columns=col)"
      ],
      "metadata": {
        "id": "_mC9w8dPefBO"
      },
      "execution_count": 203,
      "outputs": []
    },
    {
      "cell_type": "markdown",
      "source": [
        "# Use the best features we found when experimenting in the PositionPlayer_Regressions.ipynb file"
      ],
      "metadata": {
        "id": "y7f5U9w6djlP"
      }
    },
    {
      "cell_type": "code",
      "source": [
        "#optimal features for multivariate linear and ridge regressions:\n",
        "train_selected_X = train_features[['age', 'G', 'RBI', 'H', 'GIDP', 'PRO', 'Rookie contract', 'ops']]\n",
        "#optimal decision tree features:\n",
        "train_selected_dt_X = train_features[['age', 'G', 'tap', 'H', 'GIDP', 'PRO', 'Rookie contract', 'ops', 'RBI']]\n",
        "\n",
        "train_y = train_target\n",
        "\n",
        "test_selected_X = test_features[['age', 'G', 'RBI', 'H', 'GIDP', 'PRO', 'Rookie contract', 'ops']]\n",
        "test_selected_dt_X = test_features[['age', 'G', 'tap', 'H', 'GIDP', 'PRO', 'Rookie contract', 'ops', 'RBI']]\n",
        "\n",
        "test_y = test_target"
      ],
      "metadata": {
        "id": "DhOI6VjOffNS"
      },
      "execution_count": 204,
      "outputs": []
    },
    {
      "cell_type": "code",
      "source": [
        "print('Train Features:')\n",
        "print('train_selected_X dimensions: ', train_selected_X.shape)\n",
        "print('train_y dimensions:', train_y.shape, '\\n')\n",
        "\n",
        "print('Test Features:')\n",
        "print('test_data_X dimensions: ', test_selected_X.shape)\n",
        "print('test_data_y dimensions:', test_y.shape, '\\n')"
      ],
      "metadata": {
        "colab": {
          "base_uri": "https://localhost:8080/"
        },
        "id": "ZHMTbm25foJW",
        "outputId": "9f0008a9-c1c9-4ebb-837d-857ac34603e7"
      },
      "execution_count": 205,
      "outputs": [
        {
          "output_type": "stream",
          "name": "stdout",
          "text": [
            "Train Features:\n",
            "train_selected_X dimensions:  (279, 8)\n",
            "train_y dimensions: (279,) \n",
            "\n",
            "Test Features:\n",
            "test_data_X dimensions:  (70, 8)\n",
            "test_data_y dimensions: (70,) \n",
            "\n"
          ]
        }
      ]
    },
    {
      "cell_type": "markdown",
      "source": [
        "# Multivariate Linear Regression\n",
        "Features Used: age, games, runs batted in, hits, grounded into double play, pro, rookie contract, and ops"
      ],
      "metadata": {
        "id": "IdBhsXed5Kzw"
      }
    },
    {
      "cell_type": "code",
      "source": [
        "multivariate_regression = linear_model.LinearRegression()\n",
        "multivariate_regression.fit(train_selected_X, train_y)"
      ],
      "metadata": {
        "colab": {
          "base_uri": "https://localhost:8080/"
        },
        "id": "5yaTkcby5QuI",
        "outputId": "dc337034-58dc-4717-8e99-8a37bf95123e"
      },
      "execution_count": 221,
      "outputs": [
        {
          "output_type": "execute_result",
          "data": {
            "text/plain": [
              "LinearRegression()"
            ]
          },
          "metadata": {},
          "execution_count": 221
        }
      ]
    },
    {
      "cell_type": "markdown",
      "source": [
        "# Beta values (coefficients) and intercept for our multivariate linear regression:\n"
      ],
      "metadata": {
        "id": "Jf822bt25VL9"
      }
    },
    {
      "cell_type": "code",
      "source": [
        "multivariate_regression.coef_"
      ],
      "metadata": {
        "colab": {
          "base_uri": "https://localhost:8080/"
        },
        "id": "5je8IMNV5jXo",
        "outputId": "9cc6e6fb-1426-4747-9e7a-87e9edde7a77"
      },
      "execution_count": 223,
      "outputs": [
        {
          "output_type": "execute_result",
          "data": {
            "text/plain": [
              "array([18.52392221, -9.3448351 , -2.64652833, -3.67020106,  6.47866356,\n",
              "       22.15176025,  0.96789912, -5.06003056])"
            ]
          },
          "metadata": {},
          "execution_count": 223
        }
      ]
    },
    {
      "cell_type": "code",
      "source": [
        "y_pred = multivariate_regression.predict(test_selected_X)"
      ],
      "metadata": {
        "id": "0vrUvJxC5lqy"
      },
      "execution_count": 224,
      "outputs": []
    },
    {
      "cell_type": "code",
      "source": [
        "print('Mean Squared Error: ', mean_squared_error(test_y, y_pred), '\\n')\n",
        "print('Mean Absolute Error: ', mean_absolute_error(test_y, y_pred), '\\n')\n",
        "print('Root Mean Squared Error: ', np.sqrt(mean_squared_error(test_y, y_pred)))"
      ],
      "metadata": {
        "colab": {
          "base_uri": "https://localhost:8080/"
        },
        "id": "MfPWfvb95nxG",
        "outputId": "f8467e0e-2202-44e7-8338-b46287ab3a96"
      },
      "execution_count": 225,
      "outputs": [
        {
          "output_type": "stream",
          "name": "stdout",
          "text": [
            "Mean Squared Error:  20.957202516377947 \n",
            "\n",
            "Mean Absolute Error:  3.3962689166115063 \n",
            "\n",
            "Root Mean Squared Error:  4.577903725110211\n"
          ]
        }
      ]
    },
    {
      "cell_type": "markdown",
      "source": [
        "# Ridge Regression\n",
        "Features Used: age, games, runs batted in, hits, grounded into double play, pro, rookie contract, and ops"
      ],
      "metadata": {
        "id": "pBGIDOsnncYP"
      }
    },
    {
      "cell_type": "code",
      "source": [
        "from sklearn.model_selection import GridSearchCV"
      ],
      "metadata": {
        "id": "yXVmvDw33c5q"
      },
      "execution_count": 206,
      "outputs": []
    },
    {
      "cell_type": "code",
      "source": [
        "ridge_search = GridSearchCV(Ridge(), {\n",
        "    'alpha': [0.025,0.05, 0.075,0.1, 0.125,0.15,0.2, 0.25,0.5,0.75,1.0,1.25,1.5,1.75,2.0, 2.25,2.5,2.75,\n",
        "              3.0,3.25,3.5,3.75,4,4.25,4.5,4.75,5,5.25,5.5,5.75,6,6.25,6.5,\n",
        "              6.75,7,7.25,7.5,7.75,8]\n",
        "}, cv = 4, scoring = 'neg_mean_absolute_error', return_train_score = False)\n",
        "ridge_search.fit(train_selected_X, train_y)\n",
        "pd.DataFrame(ridge_search.cv_results_)[['param_alpha', 'params', 'mean_test_score','rank_test_score']].sort_values(by = ['rank_test_score'])[0:5]"
      ],
      "metadata": {
        "colab": {
          "base_uri": "https://localhost:8080/",
          "height": 206
        },
        "id": "q60kePJCHTMa",
        "outputId": "ef1de184-1e14-4964-885d-bfa7dbb7b84c"
      },
      "execution_count": 234,
      "outputs": [
        {
          "output_type": "execute_result",
          "data": {
            "text/plain": [
              "  param_alpha           params  mean_test_score  rank_test_score\n",
              "8         0.5   {'alpha': 0.5}        -3.358481                1\n",
              "7        0.25  {'alpha': 0.25}        -3.361270                2\n",
              "9        0.75  {'alpha': 0.75}        -3.361375                3\n",
              "6         0.2   {'alpha': 0.2}        -3.362564                4\n",
              "5        0.15  {'alpha': 0.15}        -3.365257                5"
            ],
            "text/html": [
              "\n",
              "  <div id=\"df-9b16d593-8846-4559-a440-0695a0f19abb\">\n",
              "    <div class=\"colab-df-container\">\n",
              "      <div>\n",
              "<style scoped>\n",
              "    .dataframe tbody tr th:only-of-type {\n",
              "        vertical-align: middle;\n",
              "    }\n",
              "\n",
              "    .dataframe tbody tr th {\n",
              "        vertical-align: top;\n",
              "    }\n",
              "\n",
              "    .dataframe thead th {\n",
              "        text-align: right;\n",
              "    }\n",
              "</style>\n",
              "<table border=\"1\" class=\"dataframe\">\n",
              "  <thead>\n",
              "    <tr style=\"text-align: right;\">\n",
              "      <th></th>\n",
              "      <th>param_alpha</th>\n",
              "      <th>params</th>\n",
              "      <th>mean_test_score</th>\n",
              "      <th>rank_test_score</th>\n",
              "    </tr>\n",
              "  </thead>\n",
              "  <tbody>\n",
              "    <tr>\n",
              "      <th>8</th>\n",
              "      <td>0.5</td>\n",
              "      <td>{'alpha': 0.5}</td>\n",
              "      <td>-3.358481</td>\n",
              "      <td>1</td>\n",
              "    </tr>\n",
              "    <tr>\n",
              "      <th>7</th>\n",
              "      <td>0.25</td>\n",
              "      <td>{'alpha': 0.25}</td>\n",
              "      <td>-3.361270</td>\n",
              "      <td>2</td>\n",
              "    </tr>\n",
              "    <tr>\n",
              "      <th>9</th>\n",
              "      <td>0.75</td>\n",
              "      <td>{'alpha': 0.75}</td>\n",
              "      <td>-3.361375</td>\n",
              "      <td>3</td>\n",
              "    </tr>\n",
              "    <tr>\n",
              "      <th>6</th>\n",
              "      <td>0.2</td>\n",
              "      <td>{'alpha': 0.2}</td>\n",
              "      <td>-3.362564</td>\n",
              "      <td>4</td>\n",
              "    </tr>\n",
              "    <tr>\n",
              "      <th>5</th>\n",
              "      <td>0.15</td>\n",
              "      <td>{'alpha': 0.15}</td>\n",
              "      <td>-3.365257</td>\n",
              "      <td>5</td>\n",
              "    </tr>\n",
              "  </tbody>\n",
              "</table>\n",
              "</div>\n",
              "      <button class=\"colab-df-convert\" onclick=\"convertToInteractive('df-9b16d593-8846-4559-a440-0695a0f19abb')\"\n",
              "              title=\"Convert this dataframe to an interactive table.\"\n",
              "              style=\"display:none;\">\n",
              "        \n",
              "  <svg xmlns=\"http://www.w3.org/2000/svg\" height=\"24px\"viewBox=\"0 0 24 24\"\n",
              "       width=\"24px\">\n",
              "    <path d=\"M0 0h24v24H0V0z\" fill=\"none\"/>\n",
              "    <path d=\"M18.56 5.44l.94 2.06.94-2.06 2.06-.94-2.06-.94-.94-2.06-.94 2.06-2.06.94zm-11 1L8.5 8.5l.94-2.06 2.06-.94-2.06-.94L8.5 2.5l-.94 2.06-2.06.94zm10 10l.94 2.06.94-2.06 2.06-.94-2.06-.94-.94-2.06-.94 2.06-2.06.94z\"/><path d=\"M17.41 7.96l-1.37-1.37c-.4-.4-.92-.59-1.43-.59-.52 0-1.04.2-1.43.59L10.3 9.45l-7.72 7.72c-.78.78-.78 2.05 0 2.83L4 21.41c.39.39.9.59 1.41.59.51 0 1.02-.2 1.41-.59l7.78-7.78 2.81-2.81c.8-.78.8-2.07 0-2.86zM5.41 20L4 18.59l7.72-7.72 1.47 1.35L5.41 20z\"/>\n",
              "  </svg>\n",
              "      </button>\n",
              "      \n",
              "  <style>\n",
              "    .colab-df-container {\n",
              "      display:flex;\n",
              "      flex-wrap:wrap;\n",
              "      gap: 12px;\n",
              "    }\n",
              "\n",
              "    .colab-df-convert {\n",
              "      background-color: #E8F0FE;\n",
              "      border: none;\n",
              "      border-radius: 50%;\n",
              "      cursor: pointer;\n",
              "      display: none;\n",
              "      fill: #1967D2;\n",
              "      height: 32px;\n",
              "      padding: 0 0 0 0;\n",
              "      width: 32px;\n",
              "    }\n",
              "\n",
              "    .colab-df-convert:hover {\n",
              "      background-color: #E2EBFA;\n",
              "      box-shadow: 0px 1px 2px rgba(60, 64, 67, 0.3), 0px 1px 3px 1px rgba(60, 64, 67, 0.15);\n",
              "      fill: #174EA6;\n",
              "    }\n",
              "\n",
              "    [theme=dark] .colab-df-convert {\n",
              "      background-color: #3B4455;\n",
              "      fill: #D2E3FC;\n",
              "    }\n",
              "\n",
              "    [theme=dark] .colab-df-convert:hover {\n",
              "      background-color: #434B5C;\n",
              "      box-shadow: 0px 1px 3px 1px rgba(0, 0, 0, 0.15);\n",
              "      filter: drop-shadow(0px 1px 2px rgba(0, 0, 0, 0.3));\n",
              "      fill: #FFFFFF;\n",
              "    }\n",
              "  </style>\n",
              "\n",
              "      <script>\n",
              "        const buttonEl =\n",
              "          document.querySelector('#df-9b16d593-8846-4559-a440-0695a0f19abb button.colab-df-convert');\n",
              "        buttonEl.style.display =\n",
              "          google.colab.kernel.accessAllowed ? 'block' : 'none';\n",
              "\n",
              "        async function convertToInteractive(key) {\n",
              "          const element = document.querySelector('#df-9b16d593-8846-4559-a440-0695a0f19abb');\n",
              "          const dataTable =\n",
              "            await google.colab.kernel.invokeFunction('convertToInteractive',\n",
              "                                                     [key], {});\n",
              "          if (!dataTable) return;\n",
              "\n",
              "          const docLinkHtml = 'Like what you see? Visit the ' +\n",
              "            '<a target=\"_blank\" href=https://colab.research.google.com/notebooks/data_table.ipynb>data table notebook</a>'\n",
              "            + ' to learn more about interactive tables.';\n",
              "          element.innerHTML = '';\n",
              "          dataTable['output_type'] = 'display_data';\n",
              "          await google.colab.output.renderOutput(dataTable, element);\n",
              "          const docLink = document.createElement('div');\n",
              "          docLink.innerHTML = docLinkHtml;\n",
              "          element.appendChild(docLink);\n",
              "        }\n",
              "      </script>\n",
              "    </div>\n",
              "  </div>\n",
              "  "
            ]
          },
          "metadata": {},
          "execution_count": 234
        }
      ]
    },
    {
      "cell_type": "code",
      "source": [
        "#optimal alpha value for a ridge regression to predict salary for position players\n",
        "ridge_search.best_params_"
      ],
      "metadata": {
        "colab": {
          "base_uri": "https://localhost:8080/"
        },
        "id": "_QSJht3JPyiO",
        "outputId": "db78ad4e-eb24-4485-d223-f4d67496da6c"
      },
      "execution_count": 235,
      "outputs": [
        {
          "output_type": "execute_result",
          "data": {
            "text/plain": [
              "{'alpha': 0.5}"
            ]
          },
          "metadata": {},
          "execution_count": 235
        }
      ]
    },
    {
      "cell_type": "markdown",
      "source": [
        "# Reproducing the model with hypertuned parameters"
      ],
      "metadata": {
        "id": "PrYc1rFeP2ME"
      }
    },
    {
      "cell_type": "code",
      "source": [
        "ridge_regression = Ridge(alpha = 0.5)\n",
        "ridge_regression.fit(train_selected_X, train_y)"
      ],
      "metadata": {
        "colab": {
          "base_uri": "https://localhost:8080/"
        },
        "id": "R03a-NMxKtI1",
        "outputId": "826fc139-e64e-4f36-af64-38979ff156a2"
      },
      "execution_count": 236,
      "outputs": [
        {
          "output_type": "execute_result",
          "data": {
            "text/plain": [
              "Ridge(alpha=0.5)"
            ]
          },
          "metadata": {},
          "execution_count": 236
        }
      ]
    },
    {
      "cell_type": "code",
      "source": [
        "ridge_regression.coef_"
      ],
      "metadata": {
        "colab": {
          "base_uri": "https://localhost:8080/"
        },
        "id": "Vyc9cbX4nqQN",
        "outputId": "4c68ed75-a3af-4581-f10c-d9c959776f2a"
      },
      "execution_count": 230,
      "outputs": [
        {
          "output_type": "execute_result",
          "data": {
            "text/plain": [
              "array([11.07806031, -1.65674287,  1.83675343,  1.95171635,  4.75308528,\n",
              "        3.71003721, -1.14919075, -0.14232078])"
            ]
          },
          "metadata": {},
          "execution_count": 230
        }
      ]
    },
    {
      "cell_type": "code",
      "source": [
        "y_predicted_ridge = ridge_regression.predict(test_selected_X)"
      ],
      "metadata": {
        "id": "VEgVL6C0MEhV"
      },
      "execution_count": 238,
      "outputs": []
    },
    {
      "cell_type": "code",
      "source": [
        "print('Mean Squared Error: ', mean_squared_error(test_y, y_predicted_ridge), '\\n')\n",
        "print('Mean Absolute Error: ', mean_absolute_error(test_y, y_predicted_ridge), '\\n')\n",
        "print('Root Mean Squared Error: ', np.sqrt(mean_squared_error(test_y, y_predicted_ridge)))"
      ],
      "metadata": {
        "colab": {
          "base_uri": "https://localhost:8080/"
        },
        "id": "rvSf_oX9n0Ti",
        "outputId": "a6fa4242-bcf0-4900-e05a-24653244a872"
      },
      "execution_count": 239,
      "outputs": [
        {
          "output_type": "stream",
          "name": "stdout",
          "text": [
            "Mean Squared Error:  21.152804458732984 \n",
            "\n",
            "Mean Absolute Error:  3.37598531734457 \n",
            "\n",
            "Root Mean Squared Error:  4.59921780944684\n"
          ]
        }
      ]
    },
    {
      "cell_type": "markdown",
      "source": [
        "# Decision Tree Regressor -Use GridSearch CV to find the best max_depth and max_features\n",
        "Features Used: age, games, total plate appearances, hits, grounded into double play, pro, rookie contract, ops, and runs batted in\n",
        "\n",
        "\n"
      ],
      "metadata": {
        "id": "IXiGrgRP-RaG"
      }
    },
    {
      "cell_type": "code",
      "source": [
        "from sklearn.tree import DecisionTreeRegressor"
      ],
      "metadata": {
        "id": "tq1Da66iLEHR"
      },
      "execution_count": 213,
      "outputs": []
    },
    {
      "cell_type": "code",
      "source": [
        "dt_regressor = DecisionTreeRegressor()"
      ],
      "metadata": {
        "id": "0ozhE13GMgIt"
      },
      "execution_count": 214,
      "outputs": []
    },
    {
      "cell_type": "code",
      "source": [
        "dt_search = GridSearchCV(dt_regressor, {\n",
        "    #grid search two parameters for decision tree regressor\n",
        "    'max_depth': [1,2,3,4,5,6,7],\n",
        "    'max_features': [None,'sqrt','auto','log2']\n",
        "}, cv = 5, scoring = 'neg_mean_absolute_error', return_train_score = False)\n",
        "dt_search.fit(train_selected_X, train_y)\n",
        "pd.DataFrame(dt_search.cv_results_)[['param_max_depth', 'params', 'mean_test_score', 'rank_test_score']].sort_values(by = ['rank_test_score'])[0:5]"
      ],
      "metadata": {
        "colab": {
          "base_uri": "https://localhost:8080/",
          "height": 206
        },
        "id": "NVsclU7yLKBx",
        "outputId": "0d28504d-5a9b-47a2-c347-1408e38e98ab"
      },
      "execution_count": 215,
      "outputs": [
        {
          "output_type": "execute_result",
          "data": {
            "text/plain": [
              "   param_max_depth                                    params  mean_test_score  \\\n",
              "8                3    {'max_depth': 3, 'max_features': None}        -3.156915   \n",
              "10               3  {'max_depth': 3, 'max_features': 'auto'}        -3.185189   \n",
              "4                2    {'max_depth': 2, 'max_features': None}        -3.185449   \n",
              "6                2  {'max_depth': 2, 'max_features': 'auto'}        -3.185449   \n",
              "12               4    {'max_depth': 4, 'max_features': None}        -3.229652   \n",
              "\n",
              "    rank_test_score  \n",
              "8                 1  \n",
              "10                2  \n",
              "4                 3  \n",
              "6                 3  \n",
              "12                5  "
            ],
            "text/html": [
              "\n",
              "  <div id=\"df-55df6bc0-f38b-4fa5-8089-531ae51ec0be\">\n",
              "    <div class=\"colab-df-container\">\n",
              "      <div>\n",
              "<style scoped>\n",
              "    .dataframe tbody tr th:only-of-type {\n",
              "        vertical-align: middle;\n",
              "    }\n",
              "\n",
              "    .dataframe tbody tr th {\n",
              "        vertical-align: top;\n",
              "    }\n",
              "\n",
              "    .dataframe thead th {\n",
              "        text-align: right;\n",
              "    }\n",
              "</style>\n",
              "<table border=\"1\" class=\"dataframe\">\n",
              "  <thead>\n",
              "    <tr style=\"text-align: right;\">\n",
              "      <th></th>\n",
              "      <th>param_max_depth</th>\n",
              "      <th>params</th>\n",
              "      <th>mean_test_score</th>\n",
              "      <th>rank_test_score</th>\n",
              "    </tr>\n",
              "  </thead>\n",
              "  <tbody>\n",
              "    <tr>\n",
              "      <th>8</th>\n",
              "      <td>3</td>\n",
              "      <td>{'max_depth': 3, 'max_features': None}</td>\n",
              "      <td>-3.156915</td>\n",
              "      <td>1</td>\n",
              "    </tr>\n",
              "    <tr>\n",
              "      <th>10</th>\n",
              "      <td>3</td>\n",
              "      <td>{'max_depth': 3, 'max_features': 'auto'}</td>\n",
              "      <td>-3.185189</td>\n",
              "      <td>2</td>\n",
              "    </tr>\n",
              "    <tr>\n",
              "      <th>4</th>\n",
              "      <td>2</td>\n",
              "      <td>{'max_depth': 2, 'max_features': None}</td>\n",
              "      <td>-3.185449</td>\n",
              "      <td>3</td>\n",
              "    </tr>\n",
              "    <tr>\n",
              "      <th>6</th>\n",
              "      <td>2</td>\n",
              "      <td>{'max_depth': 2, 'max_features': 'auto'}</td>\n",
              "      <td>-3.185449</td>\n",
              "      <td>3</td>\n",
              "    </tr>\n",
              "    <tr>\n",
              "      <th>12</th>\n",
              "      <td>4</td>\n",
              "      <td>{'max_depth': 4, 'max_features': None}</td>\n",
              "      <td>-3.229652</td>\n",
              "      <td>5</td>\n",
              "    </tr>\n",
              "  </tbody>\n",
              "</table>\n",
              "</div>\n",
              "      <button class=\"colab-df-convert\" onclick=\"convertToInteractive('df-55df6bc0-f38b-4fa5-8089-531ae51ec0be')\"\n",
              "              title=\"Convert this dataframe to an interactive table.\"\n",
              "              style=\"display:none;\">\n",
              "        \n",
              "  <svg xmlns=\"http://www.w3.org/2000/svg\" height=\"24px\"viewBox=\"0 0 24 24\"\n",
              "       width=\"24px\">\n",
              "    <path d=\"M0 0h24v24H0V0z\" fill=\"none\"/>\n",
              "    <path d=\"M18.56 5.44l.94 2.06.94-2.06 2.06-.94-2.06-.94-.94-2.06-.94 2.06-2.06.94zm-11 1L8.5 8.5l.94-2.06 2.06-.94-2.06-.94L8.5 2.5l-.94 2.06-2.06.94zm10 10l.94 2.06.94-2.06 2.06-.94-2.06-.94-.94-2.06-.94 2.06-2.06.94z\"/><path d=\"M17.41 7.96l-1.37-1.37c-.4-.4-.92-.59-1.43-.59-.52 0-1.04.2-1.43.59L10.3 9.45l-7.72 7.72c-.78.78-.78 2.05 0 2.83L4 21.41c.39.39.9.59 1.41.59.51 0 1.02-.2 1.41-.59l7.78-7.78 2.81-2.81c.8-.78.8-2.07 0-2.86zM5.41 20L4 18.59l7.72-7.72 1.47 1.35L5.41 20z\"/>\n",
              "  </svg>\n",
              "      </button>\n",
              "      \n",
              "  <style>\n",
              "    .colab-df-container {\n",
              "      display:flex;\n",
              "      flex-wrap:wrap;\n",
              "      gap: 12px;\n",
              "    }\n",
              "\n",
              "    .colab-df-convert {\n",
              "      background-color: #E8F0FE;\n",
              "      border: none;\n",
              "      border-radius: 50%;\n",
              "      cursor: pointer;\n",
              "      display: none;\n",
              "      fill: #1967D2;\n",
              "      height: 32px;\n",
              "      padding: 0 0 0 0;\n",
              "      width: 32px;\n",
              "    }\n",
              "\n",
              "    .colab-df-convert:hover {\n",
              "      background-color: #E2EBFA;\n",
              "      box-shadow: 0px 1px 2px rgba(60, 64, 67, 0.3), 0px 1px 3px 1px rgba(60, 64, 67, 0.15);\n",
              "      fill: #174EA6;\n",
              "    }\n",
              "\n",
              "    [theme=dark] .colab-df-convert {\n",
              "      background-color: #3B4455;\n",
              "      fill: #D2E3FC;\n",
              "    }\n",
              "\n",
              "    [theme=dark] .colab-df-convert:hover {\n",
              "      background-color: #434B5C;\n",
              "      box-shadow: 0px 1px 3px 1px rgba(0, 0, 0, 0.15);\n",
              "      filter: drop-shadow(0px 1px 2px rgba(0, 0, 0, 0.3));\n",
              "      fill: #FFFFFF;\n",
              "    }\n",
              "  </style>\n",
              "\n",
              "      <script>\n",
              "        const buttonEl =\n",
              "          document.querySelector('#df-55df6bc0-f38b-4fa5-8089-531ae51ec0be button.colab-df-convert');\n",
              "        buttonEl.style.display =\n",
              "          google.colab.kernel.accessAllowed ? 'block' : 'none';\n",
              "\n",
              "        async function convertToInteractive(key) {\n",
              "          const element = document.querySelector('#df-55df6bc0-f38b-4fa5-8089-531ae51ec0be');\n",
              "          const dataTable =\n",
              "            await google.colab.kernel.invokeFunction('convertToInteractive',\n",
              "                                                     [key], {});\n",
              "          if (!dataTable) return;\n",
              "\n",
              "          const docLinkHtml = 'Like what you see? Visit the ' +\n",
              "            '<a target=\"_blank\" href=https://colab.research.google.com/notebooks/data_table.ipynb>data table notebook</a>'\n",
              "            + ' to learn more about interactive tables.';\n",
              "          element.innerHTML = '';\n",
              "          dataTable['output_type'] = 'display_data';\n",
              "          await google.colab.output.renderOutput(dataTable, element);\n",
              "          const docLink = document.createElement('div');\n",
              "          docLink.innerHTML = docLinkHtml;\n",
              "          element.appendChild(docLink);\n",
              "        }\n",
              "      </script>\n",
              "    </div>\n",
              "  </div>\n",
              "  "
            ]
          },
          "metadata": {},
          "execution_count": 215
        }
      ]
    },
    {
      "cell_type": "code",
      "source": [
        "#optimal parameters for a decision tree regressor\n",
        "dt_search.best_params_"
      ],
      "metadata": {
        "colab": {
          "base_uri": "https://localhost:8080/"
        },
        "id": "A6TsSzsvQFJU",
        "outputId": "00b8aef8-b2a7-4c57-a9b9-ef4a97a368b8"
      },
      "execution_count": 216,
      "outputs": [
        {
          "output_type": "execute_result",
          "data": {
            "text/plain": [
              "{'max_depth': 3, 'max_features': None}"
            ]
          },
          "metadata": {},
          "execution_count": 216
        }
      ]
    },
    {
      "cell_type": "code",
      "source": [
        "dt_regressor = DecisionTreeRegressor(max_depth=3, max_features='log2')"
      ],
      "metadata": {
        "id": "Fra39huW-sDf"
      },
      "execution_count": 217,
      "outputs": []
    },
    {
      "cell_type": "code",
      "source": [
        "dt_regressor.fit(train_selected_X, train_y)"
      ],
      "metadata": {
        "colab": {
          "base_uri": "https://localhost:8080/"
        },
        "id": "DPyC6az7_N9v",
        "outputId": "db46b01f-872a-4b87-ffcb-740d501337a3"
      },
      "execution_count": 218,
      "outputs": [
        {
          "output_type": "execute_result",
          "data": {
            "text/plain": [
              "DecisionTreeRegressor(max_depth=3, max_features='log2')"
            ]
          },
          "metadata": {},
          "execution_count": 218
        }
      ]
    },
    {
      "cell_type": "code",
      "source": [
        "y_pred_dt = dt_regressor.predict(test_selected_X)"
      ],
      "metadata": {
        "id": "tiDZlNlPAA5g"
      },
      "execution_count": 219,
      "outputs": []
    },
    {
      "cell_type": "code",
      "source": [
        "print('Mean Squared Error: ', mean_squared_error(test_y, y_pred_dt), '\\n')\n",
        "print('Mean Absolute Error: ', mean_absolute_error(test_y, y_pred_dt), '\\n')\n",
        "print('Root Mean Squared Error: ', np.sqrt(mean_squared_error(test_y, y_pred_dt)))"
      ],
      "metadata": {
        "colab": {
          "base_uri": "https://localhost:8080/"
        },
        "id": "HdcKIgpbAJin",
        "outputId": "e7eaddb8-99fa-47be-f918-1fe6b3dda29b"
      },
      "execution_count": 220,
      "outputs": [
        {
          "output_type": "stream",
          "name": "stdout",
          "text": [
            "Mean Squared Error:  18.249250004699583 \n",
            "\n",
            "Mean Absolute Error:  2.6256970830234416 \n",
            "\n",
            "Root Mean Squared Error:  4.271914091446548\n"
          ]
        }
      ]
    },
    {
      "cell_type": "code",
      "source": [
        "position_player_tuned = pd.DataFrame(columns = ['Model Type', 'Features Used', 'Number of Features', 'MSE', 'MAE', 'RMSE'])"
      ],
      "metadata": {
        "id": "fPiE6A4j6i27"
      },
      "execution_count": 241,
      "outputs": []
    },
    {
      "cell_type": "markdown",
      "source": [
        "# Display results for tuned position player models:"
      ],
      "metadata": {
        "id": "HOaDLnnV6juy"
      }
    },
    {
      "cell_type": "code",
      "source": [
        "position_player_tuned['Model Type'] = ['Multivariate Linear', 'Ridge', 'Decision Tree']\n",
        "position_player_tuned['Number of Features'] = [8,8,9]\n",
        "position_player_tuned['Features Used'] = [['age', 'G', 'RBI', 'H', 'GIDP', 'PRO', 'Rookie contract', 'ops'],\n",
        "                                          ['age', 'G', 'RBI', 'H', 'GIDP', 'PRO', 'Rookie contract', 'ops'],\n",
        "                                          ['age', 'G', 'tap', 'H', 'GIDP', 'PRO', 'Rookie contract', 'ops', 'RBI']]"
      ],
      "metadata": {
        "id": "6_3fkzrE7E_p"
      },
      "execution_count": 243,
      "outputs": []
    },
    {
      "cell_type": "code",
      "source": [
        "mse = []\n",
        "mse.append(mean_squared_error(test_y, y_pred))\n",
        "mse.append(mean_squared_error(test_y, y_predicted_ridge))\n",
        "mse.append(mean_squared_error(test_y, y_pred_dt))\n",
        "\n",
        "mae = []\n",
        "mae.append(mean_absolute_error(test_y, y_pred))\n",
        "mae.append(mean_absolute_error(test_y, y_predicted_ridge))\n",
        "mae.append(mean_absolute_error(test_y, y_pred_dt))\n",
        "\n",
        "rmse = []\n",
        "rmse.append(np.sqrt(mean_squared_error(test_y, y_pred)))\n",
        "rmse.append(np.sqrt(mean_squared_error(test_y, y_predicted_ridge)))\n",
        "rmse.append(np.sqrt(mean_squared_error(test_y, y_pred_dt)))"
      ],
      "metadata": {
        "id": "Uu72NPdH8LcN"
      },
      "execution_count": 245,
      "outputs": []
    },
    {
      "cell_type": "code",
      "source": [
        "position_player_tuned['MSE'] = mse\n",
        "position_player_tuned['MAE'] = mae\n",
        "position_player_tuned['RMSE'] = rmse"
      ],
      "metadata": {
        "id": "fCjfpUw78zWA"
      },
      "execution_count": 249,
      "outputs": []
    },
    {
      "cell_type": "markdown",
      "source": [
        "Below, we have the final results of all three models tuned to best performance I could get. They are sorted by mean absolute error with the decision tree regressor outperforming the linear and ridge models.\n",
        "\n",
        "Although the Neural Network regressors performed best, we still were able to produce similar results with the decision tree regressor. Ridge and multivariate linear regresions performed solid as well with a mean absolute error of around 3.3 million which is pretty good given that position player salaries in the dataset range from 140,000 to 30 million."
      ],
      "metadata": {
        "id": "HHSzdNgE-B4O"
      }
    },
    {
      "cell_type": "code",
      "source": [
        "position_player_tuned.sort_values(by = ['MAE']).reset_index(drop = True)"
      ],
      "metadata": {
        "colab": {
          "base_uri": "https://localhost:8080/",
          "height": 143
        },
        "id": "YXalGzbr8Agg",
        "outputId": "8bce936c-f243-4022-f80e-71bb254c0a01"
      },
      "execution_count": 255,
      "outputs": [
        {
          "output_type": "execute_result",
          "data": {
            "text/plain": [
              "            Model Type                                      Features Used  \\\n",
              "0        Decision Tree  [age, G, tap, H, GIDP, PRO, Rookie contract, o...   \n",
              "1                Ridge  [age, G, RBI, H, GIDP, PRO, Rookie contract, ops]   \n",
              "2  Multivariate Linear  [age, G, RBI, H, GIDP, PRO, Rookie contract, ops]   \n",
              "\n",
              "   Number of Features        MSE       MAE      RMSE  \n",
              "0                   9  18.249250  2.625697  4.271914  \n",
              "1                   8  21.152804  3.375985  4.599218  \n",
              "2                   8  20.957203  3.396269  4.577904  "
            ],
            "text/html": [
              "\n",
              "  <div id=\"df-48e4aba6-f7ba-434d-a0f2-9547cbd53ce9\">\n",
              "    <div class=\"colab-df-container\">\n",
              "      <div>\n",
              "<style scoped>\n",
              "    .dataframe tbody tr th:only-of-type {\n",
              "        vertical-align: middle;\n",
              "    }\n",
              "\n",
              "    .dataframe tbody tr th {\n",
              "        vertical-align: top;\n",
              "    }\n",
              "\n",
              "    .dataframe thead th {\n",
              "        text-align: right;\n",
              "    }\n",
              "</style>\n",
              "<table border=\"1\" class=\"dataframe\">\n",
              "  <thead>\n",
              "    <tr style=\"text-align: right;\">\n",
              "      <th></th>\n",
              "      <th>Model Type</th>\n",
              "      <th>Features Used</th>\n",
              "      <th>Number of Features</th>\n",
              "      <th>MSE</th>\n",
              "      <th>MAE</th>\n",
              "      <th>RMSE</th>\n",
              "    </tr>\n",
              "  </thead>\n",
              "  <tbody>\n",
              "    <tr>\n",
              "      <th>0</th>\n",
              "      <td>Decision Tree</td>\n",
              "      <td>[age, G, tap, H, GIDP, PRO, Rookie contract, o...</td>\n",
              "      <td>9</td>\n",
              "      <td>18.249250</td>\n",
              "      <td>2.625697</td>\n",
              "      <td>4.271914</td>\n",
              "    </tr>\n",
              "    <tr>\n",
              "      <th>1</th>\n",
              "      <td>Ridge</td>\n",
              "      <td>[age, G, RBI, H, GIDP, PRO, Rookie contract, ops]</td>\n",
              "      <td>8</td>\n",
              "      <td>21.152804</td>\n",
              "      <td>3.375985</td>\n",
              "      <td>4.599218</td>\n",
              "    </tr>\n",
              "    <tr>\n",
              "      <th>2</th>\n",
              "      <td>Multivariate Linear</td>\n",
              "      <td>[age, G, RBI, H, GIDP, PRO, Rookie contract, ops]</td>\n",
              "      <td>8</td>\n",
              "      <td>20.957203</td>\n",
              "      <td>3.396269</td>\n",
              "      <td>4.577904</td>\n",
              "    </tr>\n",
              "  </tbody>\n",
              "</table>\n",
              "</div>\n",
              "      <button class=\"colab-df-convert\" onclick=\"convertToInteractive('df-48e4aba6-f7ba-434d-a0f2-9547cbd53ce9')\"\n",
              "              title=\"Convert this dataframe to an interactive table.\"\n",
              "              style=\"display:none;\">\n",
              "        \n",
              "  <svg xmlns=\"http://www.w3.org/2000/svg\" height=\"24px\"viewBox=\"0 0 24 24\"\n",
              "       width=\"24px\">\n",
              "    <path d=\"M0 0h24v24H0V0z\" fill=\"none\"/>\n",
              "    <path d=\"M18.56 5.44l.94 2.06.94-2.06 2.06-.94-2.06-.94-.94-2.06-.94 2.06-2.06.94zm-11 1L8.5 8.5l.94-2.06 2.06-.94-2.06-.94L8.5 2.5l-.94 2.06-2.06.94zm10 10l.94 2.06.94-2.06 2.06-.94-2.06-.94-.94-2.06-.94 2.06-2.06.94z\"/><path d=\"M17.41 7.96l-1.37-1.37c-.4-.4-.92-.59-1.43-.59-.52 0-1.04.2-1.43.59L10.3 9.45l-7.72 7.72c-.78.78-.78 2.05 0 2.83L4 21.41c.39.39.9.59 1.41.59.51 0 1.02-.2 1.41-.59l7.78-7.78 2.81-2.81c.8-.78.8-2.07 0-2.86zM5.41 20L4 18.59l7.72-7.72 1.47 1.35L5.41 20z\"/>\n",
              "  </svg>\n",
              "      </button>\n",
              "      \n",
              "  <style>\n",
              "    .colab-df-container {\n",
              "      display:flex;\n",
              "      flex-wrap:wrap;\n",
              "      gap: 12px;\n",
              "    }\n",
              "\n",
              "    .colab-df-convert {\n",
              "      background-color: #E8F0FE;\n",
              "      border: none;\n",
              "      border-radius: 50%;\n",
              "      cursor: pointer;\n",
              "      display: none;\n",
              "      fill: #1967D2;\n",
              "      height: 32px;\n",
              "      padding: 0 0 0 0;\n",
              "      width: 32px;\n",
              "    }\n",
              "\n",
              "    .colab-df-convert:hover {\n",
              "      background-color: #E2EBFA;\n",
              "      box-shadow: 0px 1px 2px rgba(60, 64, 67, 0.3), 0px 1px 3px 1px rgba(60, 64, 67, 0.15);\n",
              "      fill: #174EA6;\n",
              "    }\n",
              "\n",
              "    [theme=dark] .colab-df-convert {\n",
              "      background-color: #3B4455;\n",
              "      fill: #D2E3FC;\n",
              "    }\n",
              "\n",
              "    [theme=dark] .colab-df-convert:hover {\n",
              "      background-color: #434B5C;\n",
              "      box-shadow: 0px 1px 3px 1px rgba(0, 0, 0, 0.15);\n",
              "      filter: drop-shadow(0px 1px 2px rgba(0, 0, 0, 0.3));\n",
              "      fill: #FFFFFF;\n",
              "    }\n",
              "  </style>\n",
              "\n",
              "      <script>\n",
              "        const buttonEl =\n",
              "          document.querySelector('#df-48e4aba6-f7ba-434d-a0f2-9547cbd53ce9 button.colab-df-convert');\n",
              "        buttonEl.style.display =\n",
              "          google.colab.kernel.accessAllowed ? 'block' : 'none';\n",
              "\n",
              "        async function convertToInteractive(key) {\n",
              "          const element = document.querySelector('#df-48e4aba6-f7ba-434d-a0f2-9547cbd53ce9');\n",
              "          const dataTable =\n",
              "            await google.colab.kernel.invokeFunction('convertToInteractive',\n",
              "                                                     [key], {});\n",
              "          if (!dataTable) return;\n",
              "\n",
              "          const docLinkHtml = 'Like what you see? Visit the ' +\n",
              "            '<a target=\"_blank\" href=https://colab.research.google.com/notebooks/data_table.ipynb>data table notebook</a>'\n",
              "            + ' to learn more about interactive tables.';\n",
              "          element.innerHTML = '';\n",
              "          dataTable['output_type'] = 'display_data';\n",
              "          await google.colab.output.renderOutput(dataTable, element);\n",
              "          const docLink = document.createElement('div');\n",
              "          docLink.innerHTML = docLinkHtml;\n",
              "          element.appendChild(docLink);\n",
              "        }\n",
              "      </script>\n",
              "    </div>\n",
              "  </div>\n",
              "  "
            ]
          },
          "metadata": {},
          "execution_count": 255
        }
      ]
    }
  ]
}